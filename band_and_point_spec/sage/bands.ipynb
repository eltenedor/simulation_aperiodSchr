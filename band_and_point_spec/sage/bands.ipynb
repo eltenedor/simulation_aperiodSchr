{
 "cells": [
  {
   "cell_type": "markdown",
   "metadata": {},
   "source": [
    "# Band Spectrum\n",
    "\n",
    "Calculate the band spectra displayed in Figures 2,3,4 and export as csv."
   ]
  },
  {
   "cell_type": "code",
   "execution_count": null,
   "metadata": {},
   "outputs": [],
   "source": [
    "# Run this cell once at startup\n",
    "\n",
    "l = var('l')\n",
    "E = var('E')\n",
    "\n",
    "def mon(v):\n",
    "#\n",
    "# Calculate the general monodromy matrix with scaling l #\n",
    "# and energy E\n",
    "#\n",
    "# Example:\n",
    "# v = [1,1,0]; mon(v).expand()\n",
    "# > [E^2 - E*l - 1            -E]\n",
    "#   [        E - l            -1]\n",
    "#\n",
    "##########################\n",
    "    M = identity_matrix(2)\n",
    "    for vv in v:\n",
    "        M = matrix(2,2,[E - l*vv, -1, 1, 0])*M\n",
    "    return M\n",
    "\n",
    "def lim_pots(v):\n",
    "#\n",
    "# determine all unique limit potentials of a given\n",
    "# periodic potential v by considering all shifts and flips\n",
    "#\n",
    "##########################\n",
    "    v_rev = deepcopy(v)\n",
    "    lim = shift_pots(v)\n",
    "    v_rev.reverse()\n",
    "    lim_rev = shift_pots(v_rev)\n",
    "    for pot in lim_rev:\n",
    "        if pot not in lim:\n",
    "            lim.append(pot)\n",
    "    return lim\n",
    "    \n",
    "def shift_pots(v):\n",
    "#\n",
    "# determine all unique shifts of a given periodic potential v\n",
    "#\n",
    "##########################\n",
    "    shift = []\n",
    "    for c in range(len(v)):\n",
    "        if v not in shift:\n",
    "            shift.append(v)\n",
    "        v = right_shift(v)\n",
    "    return shift\n",
    "    \n",
    "def right_shift(a):\n",
    "    return [a[-1] , *a[:-1]]\n",
    "\n",
    "def cutoff(v,K):\n",
    "#\n",
    "# (deprecated, everything can also be done with `mon`)\n",
    "#\n",
    "# determine the cutoff matrix H_{0..K} with potential v[0:K-1]\n",
    "#\n",
    "##########################\n",
    "    A = matrix(SR,K+1,K+1) #start enumerating from 0\n",
    "    A = A + matrix.toeplitz([0,1] + [0]*(K-1), [1]+[0]*(K-1))\n",
    "    for k in range(K+1):\n",
    "        A[k,k] = v[k]\n",
    "    return A"
   ]
  },
  {
   "cell_type": "code",
   "execution_count": null,
   "metadata": {},
   "outputs": [],
   "source": [
    "def determine_band_boundaries(v):\n",
    "    tr = mon(v).trace()\n",
    "    sols = solve(tr^2 == 4, E)\n",
    "    return(sols)\n",
    "\n",
    "def evaluate_bands(sols,nsteps=150,start=0,end=1.5):\n",
    "    bands = {}\n",
    "    for s in range(nsteps + 1):\n",
    "        ll = start + end * s/nsteps\n",
    "        bands[ll] = list(map(lambda sol: real(sol.rhs().subs(l=ll).n()), sols))\n",
    "        bands[ll].sort()\n",
    "    return(bands)\n",
    "\n",
    "def export_bands_csv(bands, outname='bands.csv'):\n",
    "#\n",
    "# Export band boundaries to csv file. \n",
    "# This file can be processed by further \n",
    "# routines in order to generate TikZ compatible code.\n",
    "#\n",
    "    f = open(outname, 'w')\n",
    "    writefile = csv.writer(f)\n",
    "    for b in bands:\n",
    "        writefile.writerow([b, len(bands[b])/2,*bands[b]])\n",
    "    f.close()"
   ]
  },
  {
   "cell_type": "markdown",
   "metadata": {},
   "source": [
    "# K4 \n",
    "\n",
    "Here we consider the potential $v= ( 1,1,0,1)$ and first calculate the boundaries of the bands."
   ]
  },
  {
   "cell_type": "code",
   "execution_count": null,
   "metadata": {},
   "outputs": [],
   "source": [
    "v = (1,1,0,1)\n",
    "sols = determine_band_boundaries(v)\n",
    "bands = evaluate_bands(sols)\n",
    "export_bands_csv(bands, 'K4_bands.csv')"
   ]
  },
  {
   "cell_type": "markdown",
   "metadata": {},
   "source": [
    "# K5\n",
    "\n",
    "Evaluate bands for $v = (1,1,0,1,0)$"
   ]
  },
  {
   "cell_type": "code",
   "execution_count": null,
   "metadata": {},
   "outputs": [],
   "source": [
    "v = (1,1,0,1,0)\n",
    "sols = determine_band_boundaries(v)\n",
    "bands = evaluate_bands(sols)\n",
    "export_bands_csv(bands, 'K5_bands.csv')"
   ]
  },
  {
   "cell_type": "markdown",
   "metadata": {},
   "source": [
    "# K9\n",
    "\n",
    "Evaluate bands for $v = (1, 1, 0, 1, 0, 1, 0, 1, 1)$"
   ]
  },
  {
   "cell_type": "code",
   "execution_count": null,
   "metadata": {},
   "outputs": [],
   "source": [
    "def determine_band_boundaries_num(v,ll=1):\n",
    "    tr = mon(v).trace()\n",
    "    sols = solve(tr.subs(l=ll)^2 == 4, E, to_poly_solve=True)\n",
    "    return(sols)"
   ]
  },
  {
   "cell_type": "code",
   "execution_count": null,
   "metadata": {
    "scrolled": false
   },
   "outputs": [],
   "source": [
    "v = (1,1,0,1,0,1,0,1,1)\n",
    "tr = mon(v).trace()\n",
    "bands = {}\n",
    "nsteps =250\n",
    "start = 0\n",
    "end = 2.5\n",
    "\n",
    "for s in range(nsteps + 1):\n",
    "        ll = start + end * s/nsteps\n",
    "        sols = determine_band_boundaries_num(v,ll)\n",
    "        bands[ll] = list(map(lambda sol: real(sol.rhs().n()), sols))\n",
    "        bands[ll].sort()\n",
    "        \n",
    "export_bands_csv(bands, 'K9_bands.csv')"
   ]
  }
 ],
 "metadata": {
  "kernelspec": {
   "display_name": "SageMath 9.2",
   "language": "sage",
   "name": "sagemath"
  },
  "language_info": {
   "codemirror_mode": {
    "name": "ipython",
    "version": 3
   },
   "file_extension": ".py",
   "mimetype": "text/x-python",
   "name": "python",
   "nbconvert_exporter": "python",
   "pygments_lexer": "ipython3",
   "version": "3.8.5"
  }
 },
 "nbformat": 4,
 "nbformat_minor": 4
}
