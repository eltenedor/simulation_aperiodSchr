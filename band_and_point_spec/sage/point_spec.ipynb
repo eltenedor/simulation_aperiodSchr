{
 "cells": [
  {
   "cell_type": "markdown",
   "metadata": {},
   "source": [
    "# Point Spectrum K4\n",
    "\n",
    "Given a matrix $B$, let $\\chi_B$ denote the characteristic polynomial.\n",
    "\n",
    "For a point $E$ to lay in the Hagger-point-spectrum we need that\n",
    "$$\n",
    "\\chi_{H_{0..K-2}}(E) = 0\n",
    "$$\n",
    "and\n",
    "$$\n",
    "-1 < \\chi_{H_{0..K-1}}(E) < 1.\n",
    "$$"
   ]
  },
  {
   "cell_type": "code",
   "execution_count": 10,
   "metadata": {},
   "outputs": [],
   "source": [
    "# Run this cell once at startup\n",
    "\n",
    "l = var('l')\n",
    "E = var('E')\n",
    "\n",
    "def mon(v):\n",
    "#\n",
    "# Calculate the general monodromy matrix with scaling l #\n",
    "# and energy E\n",
    "#\n",
    "# Example:\n",
    "# v = [1,1,0]; mon(v).expand()\n",
    "# > [E^2 - E*l - 1            -E]\n",
    "#   [        E - l            -1]\n",
    "#\n",
    "##########################\n",
    "    M = identity_matrix(2)\n",
    "    for vv in v:\n",
    "        M = matrix(2,2,[E - l*vv, -1, 1, 0])*M\n",
    "    return M\n",
    "\n",
    "def lim_pots(v):\n",
    "#\n",
    "# determine all unique limit potentials of a given\n",
    "# periodic potential v by considering all shifts and flips\n",
    "#\n",
    "##########################\n",
    "    v_rev = deepcopy(v)\n",
    "    lim = shift_pots(v)\n",
    "    v_rev.reverse()\n",
    "    lim_rev = shift_pots(v_rev)\n",
    "    for pot in lim_rev:\n",
    "        if pot not in lim:\n",
    "            lim.append(pot)\n",
    "    return lim\n",
    "    \n",
    "def shift_pots(v):\n",
    "#\n",
    "# determine all unique shifts of a given periodic potential v\n",
    "#\n",
    "##########################\n",
    "    shift = []\n",
    "    for c in range(len(v)):\n",
    "        if v not in shift:\n",
    "            shift.append(v)\n",
    "        v = right_shift(v)\n",
    "    return shift\n",
    "    \n",
    "def right_shift(a):\n",
    "    return [a[-1] , *a[:-1]]\n"
   ]
  },
  {
   "cell_type": "code",
   "execution_count": 136,
   "metadata": {},
   "outputs": [],
   "source": [
    "# this cell contains basic routines that need to be loaded \n",
    "# before data generation can start\n",
    "\n",
    "def analyse_v(v, ll):\n",
    "##########################\n",
    "# calculate monodromy, zeros and check trace. \n",
    "# return a dictionary containing symbolic elements\n",
    "# \n",
    "# This routine only analyses the energy E = 0.\n",
    "#\n",
    "# example:\n",
    "# v = [1,1,0]; analyse_v(v)\n",
    "##########################\n",
    "    data = {}\n",
    "#monodromy\n",
    "    M = mon(v).expand() \n",
    "#zeros\n",
    "    sols = solve(M[1][0].subs(l=ll) == 0, E, to_poly_solve=True)\n",
    "    sol = list(map(lambda s: real(s.rhs().n()), sols))\n",
    "    sol.sort()\n",
    "    data['sol'] = sol\n",
    "    data['cond'] = list(map(lambda s: real(M[0,0].subs(l=ll).subs(E=s).n()), sol))\n",
    "    return data\n",
    "   \n",
    "def build_dict(v,nsteps,start,end):\n",
    "    v_dict = {}\n",
    "    for s in range(nsteps + 1):\n",
    "        ll = start + end * s/nsteps\n",
    "        v_dict[ll] =  analyse_v(v, ll)\n",
    "    return v_dict\n",
    "        \n",
    "def hagger_filter(H, eps=0.01):\n",
    "    isev = {}\n",
    "    traj = {}\n",
    "    for ev in range(len(H[0])):\n",
    "        isev[ev] = False\n",
    "        for ll in H:\n",
    "            if(abs(H[ll]['cond'][ev].n()) < 1 - eps):\n",
    "                isev[ev] = True\n",
    "                break\n",
    "        if(isev[ev]):\n",
    "            traj[ev] = []\n",
    "            for ll in H:\n",
    "                traj[ev].append([ll.n(),H[ll]['sol'][ev].n(),(H[ll]['cond'][ev].n()) ])\n",
    "    return traj\n",
    "\n",
    "import csv\n",
    "def export_traj(v,H):\n",
    "    for ev in H:\n",
    "        outname = str(list(v)).replace(\", \", \"\").replace(\"[\", \"\").replace(\"]\", \"\") + \"_\" +  str(ev) + \".csv\"\n",
    "        f = open(outname, 'w')\n",
    "        writefile = csv.writer(f)\n",
    "        for line in H[ev]:\n",
    "            writefile.writerow(line)\n",
    "        f.close()\n",
    "        "
   ]
  },
  {
   "cell_type": "markdown",
   "metadata": {},
   "source": [
    "# K4"
   ]
  },
  {
   "cell_type": "code",
   "execution_count": 137,
   "metadata": {},
   "outputs": [],
   "source": [
    "v = [1,1,0,1]\n",
    "v_list = lim_pots(v)\n",
    "H = {}\n",
    "nsteps =100\n",
    "start = 0\n",
    "end = 1\n",
    "\n",
    "for vv in v_list:\n",
    "    H[tuple(vv)] = build_dict(vv,nsteps,start,end)\n",
    "    traj = hagger_filter(H[tuple(vv)])\n",
    "    export_traj(vv,traj)\n"
   ]
  },
  {
   "cell_type": "markdown",
   "metadata": {},
   "source": [
    "# K5"
   ]
  },
  {
   "cell_type": "code",
   "execution_count": 138,
   "metadata": {},
   "outputs": [],
   "source": [
    "v = [1,1,0,1,0]\n",
    "v_list = lim_pots(v)\n",
    "H = {}\n",
    "nsteps =100\n",
    "start = 0\n",
    "end = 1\n",
    "\n",
    "for vv in v_list:\n",
    "    H[tuple(vv)] = build_dict(vv,nsteps,start,end)\n",
    "    traj = hagger_filter(H[tuple(vv)])\n",
    "    export_traj(vv,traj)"
   ]
  },
  {
   "cell_type": "markdown",
   "metadata": {},
   "source": [
    "# K9"
   ]
  },
  {
   "cell_type": "code",
   "execution_count": null,
   "metadata": {},
   "outputs": [],
   "source": [
    "v = [1,1,0,1,0,1,0,1,1]\n",
    "v_list = lim_pots(v)\n",
    "H = {}\n",
    "nsteps =100\n",
    "start = 0\n",
    "end = 1\n",
    "\n",
    "for vv in v_list:\n",
    "    H[tuple(vv)] = build_dict(vv,nsteps,start,end)\n",
    "    traj = hagger_filter(H[tuple(vv)])\n",
    "    export_traj(vv,traj)"
   ]
  },
  {
   "cell_type": "code",
   "execution_count": null,
   "metadata": {},
   "outputs": [],
   "source": []
  }
 ],
 "metadata": {
  "kernelspec": {
   "display_name": "SageMath 9.2",
   "language": "sage",
   "name": "sagemath"
  },
  "language_info": {
   "codemirror_mode": {
    "name": "ipython",
    "version": 3
   },
   "file_extension": ".py",
   "mimetype": "text/x-python",
   "name": "python",
   "nbconvert_exporter": "python",
   "pygments_lexer": "ipython3",
   "version": "3.8.5"
  }
 },
 "nbformat": 4,
 "nbformat_minor": 4
}
