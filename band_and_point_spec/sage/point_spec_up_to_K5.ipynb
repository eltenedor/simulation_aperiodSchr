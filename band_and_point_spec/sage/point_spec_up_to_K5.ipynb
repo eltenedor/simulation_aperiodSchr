{
 "cells": [
  {
   "cell_type": "code",
   "execution_count": 1,
   "metadata": {},
   "outputs": [],
   "source": [
    "import csv\n",
    "import itertools\n",
    "\n",
    "l = var('l', domain=RR ) #scaling variable \n",
    "\n",
    "def cutoff(v,K):\n",
    "    A = matrix(SR,K+1,K+1) #start enumerating from 0\n",
    "    A = A + matrix.toeplitz([0,1] + [0]*(K-1), [1]+[0]*(K-1))\n",
    "    for k in range(K):\n",
    "        A[k,k] = v[k]\n",
    "    return A\n",
    "    \n",
    "def lim_pots(v):\n",
    "    v_rev = deepcopy(v)\n",
    "    lim = shift_pots(v)\n",
    "    v_rev.reverse()\n",
    "    lim_rev = shift_pots(v_rev)\n",
    "    for pot in lim_rev:\n",
    "        if pot not in lim:\n",
    "            lim.append(pot)\n",
    "    return lim\n",
    "    \n",
    "def shift_pots(v):\n",
    "    shift = []\n",
    "    for c in range(len(v)):\n",
    "        if v not in shift:\n",
    "            shift.append(v)\n",
    "        v = right_shift(v)\n",
    "    return shift\n",
    "    \n",
    "def right_shift(a):\n",
    "    return [a[-1] , *a[:-1]]\n",
    "\n",
    "def hagger_filter(H,val):\n",
    "    E_filt = []\n",
    "    for E in H:\n",
    "        if abs(real(H[E].subs(l=val))).n() < 1:\n",
    "            E_filt.append(real(E.subs(l=val)).n())\n",
    "        E_filt.sort()\n",
    "    return E_filt\n",
    "        \n",
    "def build_ev_dict(v, H={}):\n",
    "    K = len(v)\n",
    "    vl = list(map(lambda vv: l*vv,v))\n",
    "    A = cutoff(vl,K-2)   \n",
    "    EV = A.eigenvalues()\n",
    "    \n",
    "    for E in EV:  \n",
    "        vlE = list(map(lambda vv: vv - E,vl))\n",
    "        H[E] = det(cutoff(vlE,K-1))   \n",
    "    return H\n",
    "\n",
    "def export_csv(EV, outname='points.csv'):\n",
    "    f = open(outname, 'w')\n",
    "    writefile = csv.writer(f)\n",
    "    for E in EV:\n",
    "        writefile.writerow([len(EV[E]),E,*tuple(EV[E])])\n",
    "    f.close()\n",
    "    \n",
    "def build_lambda_dict(v,l_list):\n",
    "    EV = {}\n",
    "    for ll in l_list:\n",
    "        EV[ll] = hagger_filter(build_ev_dict(v), ll)\n",
    "    return EV\n",
    "\n",
    "def build_lambda_dict_from_list(v_list,l_list):\n",
    "    print('Busy...')\n",
    "    EV = {}\n",
    "    for ll in l_list:\n",
    "        H = {}\n",
    "        for vv in v_list:\n",
    "            build_ev_dict(vv,H)\n",
    "        EV[ll] = hagger_filter(H, ll)\n",
    "    print('Done.')\n",
    "    return EV"
   ]
  },
  {
   "cell_type": "code",
   "execution_count": 2,
   "metadata": {
    "scrolled": true
   },
   "outputs": [
    {
     "name": "stdout",
     "output_type": "stream",
     "text": [
      "Busy...\n",
      "Done.\n"
     ]
    }
   ],
   "source": [
    "v = [1,1,0,1]\n",
    "\n",
    "f= open('K4_lambda.csv', 'r')\n",
    "csv_reader = csv.reader(f) \n",
    "l_list = list(map(lambda ll: float(ll), list(csv_reader)[0]))\n",
    "f.close()\n",
    "\n",
    "export_csv(build_lambda_dict_from_list(lim_pots(v), l_list), 'K4_points.csv')"
   ]
  },
  {
   "cell_type": "code",
   "execution_count": 3,
   "metadata": {},
   "outputs": [
    {
     "name": "stdout",
     "output_type": "stream",
     "text": [
      "Busy...\n",
      "Done.\n"
     ]
    }
   ],
   "source": [
    "v = [0,1,1,0,1]\n",
    "\n",
    "f= open('K4_lambda.csv', 'r')\n",
    "csv_reader = csv.reader(f) \n",
    "l_list = list(map(lambda ll: float(ll), list(csv_reader)[0]))\n",
    "f.close()\n",
    "\n",
    "export_csv(build_lambda_dict_from_list(lim_pots(v), l_list), 'K5_points.csv')"
   ]
  },
  {
   "cell_type": "code",
   "execution_count": null,
   "metadata": {},
   "outputs": [],
   "source": []
  }
 ],
 "metadata": {
  "kernelspec": {
   "display_name": "SageMath 9.2",
   "language": "sage",
   "name": "sagemath"
  },
  "language_info": {
   "codemirror_mode": {
    "name": "ipython",
    "version": 3
   },
   "file_extension": ".py",
   "mimetype": "text/x-python",
   "name": "python",
   "nbconvert_exporter": "python",
   "pygments_lexer": "ipython3",
   "version": "3.8.5"
  }
 },
 "nbformat": 4,
 "nbformat_minor": 4
}
