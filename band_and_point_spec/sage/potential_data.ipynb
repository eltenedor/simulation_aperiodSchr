{
 "cells": [
  {
   "cell_type": "markdown",
   "metadata": {},
   "source": [
    "# Potential Data Creation\n",
    "\n",
    "Given a periodic potential v, symbolically calculate significant data, like characteristic polynomials etc\n",
    "\n",
    "We work with the monodromy matrix, as it is easier to calculate. Cf. Remark 3.9\n",
    "\n",
    "In particular, $M_{1,1} = \\pm \\chi_{A_{0..K-1}}(E)$ and $M_{1,2} = \\pm \\chi_{A_{0..K-2}}(E)$."
   ]
  },
  {
   "cell_type": "code",
   "execution_count": null,
   "metadata": {},
   "outputs": [],
   "source": [
    "l = var('l')\n",
    "E = var('E')\n",
    "    \n",
    "def cutoff(v,K):\n",
    "#\n",
    "# determine the cutoff matrix H_{0..K} with potential v[0:K-1]\n",
    "#\n",
    "    A = matrix(SR,K+1,K+1) #start enumerating from 0\n",
    "    A = A + matrix.toeplitz([0,1] + [0]*(K-1), [1]+[0]*(K-1))\n",
    "    for k in range(K+1):\n",
    "        A[k,k] = v[k]\n",
    "    return A\n",
    "\n",
    "def mon(v):\n",
    "#\n",
    "# Calculate the general monodromy matrix with scaling l and energy E\n",
    "#\n",
    "    M = identity_matrix(2)\n",
    "    for vv in v:\n",
    "        M = matrix(2,2,[E - l*vv, -1, 1, 0])*M\n",
    "    return M\n",
    "\n",
    "def lim_pots(v):\n",
    "#\n",
    "# determine all limit potentials of a given periodic potential v\n",
    "#\n",
    "    v_rev = deepcopy(v)\n",
    "    lim = shift_pots(v)\n",
    "    v_rev.reverse()\n",
    "    lim_rev = shift_pots(v_rev)\n",
    "    for pot in lim_rev:\n",
    "        if pot not in lim:\n",
    "            lim.append(pot)\n",
    "    return lim\n",
    "    \n",
    "def shift_pots(v):\n",
    "#\n",
    "# determine all shifts of a given periodic potential v\n",
    "#\n",
    "    shift = []\n",
    "    for c in range(len(v)):\n",
    "        if v not in shift:\n",
    "            shift.append(v)\n",
    "        v = right_shift(v)\n",
    "    return shift\n",
    "    \n",
    "def right_shift(a):\n",
    "    return [a[-1] , *a[:-1]]"
   ]
  },
  {
   "cell_type": "markdown",
   "metadata": {},
   "source": [
    "# Consider E=0\n",
    "\n",
    "Given period length, systematically check for every monodromy matrix if there exists a scaling factor $l$ such that $M_{2,1} = 0$. If such scalings exist, check whether the full operator is also not invertible by verifying the trace condition."
   ]
  },
  {
   "cell_type": "code",
   "execution_count": null,
   "metadata": {},
   "outputs": [],
   "source": [
    "def analyse_v(v):\n",
    "    data = {}\n",
    "    data['mon'] = mon(v).expand()\n",
    "    sols = solve(data['mon'][1][0].subs(E=0) == 0, l)\n",
    "    data['sol'] = list(map(lambda s: s.rhs(), sols))\n",
    "    data['sol'].sort()\n",
    "    data['trace'] = list(map(lambda s: data['mon'].subs(E=0).trace().subs(l=s), data['sol']))\n",
    "    return data\n",
    "\n",
    "sigma = [0,1]\n",
    "pots = {}\n",
    "for K in range(3,10):\n",
    "    v_list = Tuples(sigma,K).list()\n",
    "    for v in v_list:\n",
    "        pots[tuple(v)] = deepcopy(analyse_v(v))"
   ]
  },
  {
   "cell_type": "code",
   "execution_count": null,
   "metadata": {},
   "outputs": [],
   "source": [
    "v_list = Tuples(sigma,K).list()\n",
    "\n",
    "for v in v_list:\n",
    "    if true in [abs(t).n() > 2 for t in pots[tuple(v)]['trace']]: #uncomment this line for all candidates\n",
    "        if true in [s in QQ for s in pots[tuple(v)]['sol']]: #uncomment this line for all roots\n",
    "            print([v, [s for s in pots[tuple(v)]['sol']],  [s.n() for s in pots[tuple(v)]['trace']]])"
   ]
  }
 ],
 "metadata": {
  "kernelspec": {
   "display_name": "SageMath 9.2",
   "language": "sage",
   "name": "sagemath"
  },
  "language_info": {
   "codemirror_mode": {
    "name": "ipython",
    "version": 3
   },
   "file_extension": ".py",
   "mimetype": "text/x-python",
   "name": "python",
   "nbconvert_exporter": "python",
   "pygments_lexer": "ipython3",
   "version": "3.8.5"
  }
 },
 "nbformat": 4,
 "nbformat_minor": 4
}
