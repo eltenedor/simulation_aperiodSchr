{
 "cells": [
  {
   "cell_type": "markdown",
   "metadata": {},
   "source": [
    "# Example 4.6\n",
    "\n",
    "We consider the $9$-periodic potential $\\frac{1}{\\sqrt{2}}(1,1,1,0,1,1,0,1,0)$ and compute the matrices $M^{(j)}$ and $N^{(j)}$ for $j\\in[0, 8]$ according to (1) and (2):\n",
    "\\begin{align} \n",
    "\\label{eq:M^j}\n",
    "\\rule{5mm}{0mm}M^{(j)}&=\n",
    "\\begin{pmatrix} -v(K-1+j)&-1\\\\1&0\\end{pmatrix}\\cdots \n",
    "\\begin{pmatrix} -v(1+j)&-1\\\\1&0\\end{pmatrix}\n",
    "\\begin{pmatrix} -v(j)&-1\\\\1&0\\end{pmatrix}\\\\\n",
    "\\label{eq:N^j}\n",
    "\\widetilde{M}^{(j)}&=\n",
    "\\begin{pmatrix} -v(j)&-1\\\\1&0\\end{pmatrix}\n",
    "\\begin{pmatrix} -v(2+j)&-1\\\\1&0\\end{pmatrix}\\cdots \n",
    "\\begin{pmatrix} -v(K-1+j)&-1\\\\1&0\\end{pmatrix} \\,.\n",
    "\\end{align}\n",
    "\n",
    "It can be checked manually which of these matrices are subject to (3), i.e. \n",
    "\n",
    "\\begin{equation}\n",
    "M_{2,1}\\ne 0\\qquad\\text{or}\\qquad |M_{1,1}|>1 \\,.\n",
    "\\end{equation}\n",
    "\n",
    "This condition is satisfied for all matricex $\\widetilde{M}^{(j)}$ but not for $M^{(1)}$, $M^{(6)}$ and $M^{(8)}$."
   ]
  },
  {
   "cell_type": "code",
   "execution_count": 1,
   "metadata": {},
   "outputs": [
    {
     "data": {
      "text/latex": [
       "$\\displaystyle  M^{(0)}= \\left(\\begin{array}{rr}\n",
       "-\\sqrt{2} & 0 \\\\\n",
       "-\\frac{3}{2} & -\\frac{1}{2} \\, \\sqrt{2}\n",
       "\\end{array}\\right) \\quad \\text{from potential }\\left[1, 1, 1, 0, 1, 1, 0, 1, 0\\right]$"
      ],
      "text/plain": [
       "<IPython.core.display.Math object>"
      ]
     },
     "metadata": {},
     "output_type": "display_data"
    },
    {
     "data": {
      "text/latex": [
       "$\\displaystyle  M^{(1)}= \\left(\\begin{array}{rr}\n",
       "-\\frac{1}{2} \\, \\sqrt{2} & 2 \\\\\n",
       "0 & -\\sqrt{2}\n",
       "\\end{array}\\right) \\quad \\text{from potential }\\left[1, 1, 0, 1, 1, 0, 1, 0, 1\\right]$"
      ],
      "text/plain": [
       "<IPython.core.display.Math object>"
      ]
     },
     "metadata": {},
     "output_type": "display_data"
    },
    {
     "data": {
      "text/latex": [
       "$\\displaystyle  M^{(2)}= \\left(\\begin{array}{rr}\n",
       "0 & \\frac{1}{2} \\\\\n",
       "-2 & -\\frac{3}{2} \\, \\sqrt{2}\n",
       "\\end{array}\\right) \\quad \\text{from potential }\\left[1, 0, 1, 1, 0, 1, 0, 1, 1\\right]$"
      ],
      "text/plain": [
       "<IPython.core.display.Math object>"
      ]
     },
     "metadata": {},
     "output_type": "display_data"
    },
    {
     "data": {
      "text/latex": [
       "$\\displaystyle  M^{(3)}= \\left(\\begin{array}{rr}\n",
       "-\\frac{5}{4} \\, \\sqrt{2} & \\frac{3}{4} \\\\\n",
       "-\\frac{1}{2} & -\\frac{1}{4} \\, \\sqrt{2}\n",
       "\\end{array}\\right) \\quad \\text{from potential }\\left[0, 1, 1, 0, 1, 0, 1, 1, 1\\right]$"
      ],
      "text/plain": [
       "<IPython.core.display.Math object>"
      ]
     },
     "metadata": {},
     "output_type": "display_data"
    },
    {
     "data": {
      "text/latex": [
       "$\\displaystyle  M^{(4)}= \\left(\\begin{array}{rr}\n",
       "-\\frac{1}{4} \\, \\sqrt{2} & \\frac{1}{2} \\\\\n",
       "-\\frac{3}{4} & -\\frac{5}{4} \\, \\sqrt{2}\n",
       "\\end{array}\\right) \\quad \\text{from potential }\\left[1, 1, 0, 1, 0, 1, 1, 1, 0\\right]$"
      ],
      "text/plain": [
       "<IPython.core.display.Math object>"
      ]
     },
     "metadata": {},
     "output_type": "display_data"
    },
    {
     "data": {
      "text/latex": [
       "$\\displaystyle  M^{(5)}= \\left(\\begin{array}{rr}\n",
       "-\\sqrt{2} & 0 \\\\\n",
       "-\\frac{1}{2} & -\\frac{1}{2} \\, \\sqrt{2}\n",
       "\\end{array}\\right) \\quad \\text{from potential }\\left[1, 0, 1, 0, 1, 1, 1, 0, 1\\right]$"
      ],
      "text/plain": [
       "<IPython.core.display.Math object>"
      ]
     },
     "metadata": {},
     "output_type": "display_data"
    },
    {
     "data": {
      "text/latex": [
       "$\\displaystyle  M^{(6)}= \\left(\\begin{array}{rr}\n",
       "-\\frac{1}{2} \\, \\sqrt{2} & 1 \\\\\n",
       "0 & -\\sqrt{2}\n",
       "\\end{array}\\right) \\quad \\text{from potential }\\left[0, 1, 0, 1, 1, 1, 0, 1, 1\\right]$"
      ],
      "text/plain": [
       "<IPython.core.display.Math object>"
      ]
     },
     "metadata": {},
     "output_type": "display_data"
    },
    {
     "data": {
      "text/latex": [
       "$\\displaystyle  M^{(7)}= \\left(\\begin{array}{rr}\n",
       "-\\sqrt{2} & 0 \\\\\n",
       "-1 & -\\frac{1}{2} \\, \\sqrt{2}\n",
       "\\end{array}\\right) \\quad \\text{from potential }\\left[1, 0, 1, 1, 1, 0, 1, 1, 0\\right]$"
      ],
      "text/plain": [
       "<IPython.core.display.Math object>"
      ]
     },
     "metadata": {},
     "output_type": "display_data"
    },
    {
     "data": {
      "text/latex": [
       "$\\displaystyle  M^{(8)}= \\left(\\begin{array}{rr}\n",
       "-\\frac{1}{2} \\, \\sqrt{2} & \\frac{3}{2} \\\\\n",
       "0 & -\\sqrt{2}\n",
       "\\end{array}\\right) \\quad \\text{from potential }\\left[0, 1, 1, 1, 0, 1, 1, 0, 1\\right]$"
      ],
      "text/plain": [
       "<IPython.core.display.Math object>"
      ]
     },
     "metadata": {},
     "output_type": "display_data"
    },
    {
     "data": {
      "text/latex": [
       "$\\displaystyle  \\widetilde{M}^{(0)}= \\left(\\begin{array}{rr}\n",
       "-\\sqrt{2} & \\frac{3}{2} \\\\\n",
       "0 & -\\frac{1}{2} \\, \\sqrt{2}\n",
       "\\end{array}\\right) \\quad \\text{from potential }\\left[0, 1, 0, 1, 1, 0, 1, 1, 1\\right]$"
      ],
      "text/plain": [
       "<IPython.core.display.Math object>"
      ]
     },
     "metadata": {},
     "output_type": "display_data"
    },
    {
     "data": {
      "text/latex": [
       "$\\displaystyle  \\widetilde{M}^{(1)}= \\left(\\begin{array}{rr}\n",
       "-\\frac{1}{2} \\, \\sqrt{2} & 0 \\\\\n",
       "-\\frac{3}{2} & -\\sqrt{2}\n",
       "\\end{array}\\right) \\quad \\text{from potential }\\left[1, 0, 1, 1, 0, 1, 1, 1, 0\\right]$"
      ],
      "text/plain": [
       "<IPython.core.display.Math object>"
      ]
     },
     "metadata": {},
     "output_type": "display_data"
    },
    {
     "data": {
      "text/latex": [
       "$\\displaystyle  \\widetilde{M}^{(2)}= \\left(\\begin{array}{rr}\n",
       "-\\sqrt{2} & 1 \\\\\n",
       "0 & -\\frac{1}{2} \\, \\sqrt{2}\n",
       "\\end{array}\\right) \\quad \\text{from potential }\\left[0, 1, 1, 0, 1, 1, 1, 0, 1\\right]$"
      ],
      "text/plain": [
       "<IPython.core.display.Math object>"
      ]
     },
     "metadata": {},
     "output_type": "display_data"
    },
    {
     "data": {
      "text/latex": [
       "$\\displaystyle  \\widetilde{M}^{(3)}= \\left(\\begin{array}{rr}\n",
       "-\\frac{1}{2} \\, \\sqrt{2} & 0 \\\\\n",
       "-1 & -\\sqrt{2}\n",
       "\\end{array}\\right) \\quad \\text{from potential }\\left[1, 1, 0, 1, 1, 1, 0, 1, 0\\right]$"
      ],
      "text/plain": [
       "<IPython.core.display.Math object>"
      ]
     },
     "metadata": {},
     "output_type": "display_data"
    },
    {
     "data": {
      "text/latex": [
       "$\\displaystyle  \\widetilde{M}^{(4)}= \\left(\\begin{array}{rr}\n",
       "-\\sqrt{2} & \\frac{1}{2} \\\\\n",
       "0 & -\\frac{1}{2} \\, \\sqrt{2}\n",
       "\\end{array}\\right) \\quad \\text{from potential }\\left[1, 0, 1, 1, 1, 0, 1, 0, 1\\right]$"
      ],
      "text/plain": [
       "<IPython.core.display.Math object>"
      ]
     },
     "metadata": {},
     "output_type": "display_data"
    },
    {
     "data": {
      "text/latex": [
       "$\\displaystyle  \\widetilde{M}^{(5)}= \\left(\\begin{array}{rr}\n",
       "-\\frac{1}{4} \\, \\sqrt{2} & \\frac{3}{4} \\\\\n",
       "-\\frac{1}{2} & -\\frac{5}{4} \\, \\sqrt{2}\n",
       "\\end{array}\\right) \\quad \\text{from potential }\\left[0, 1, 1, 1, 0, 1, 0, 1, 1\\right]$"
      ],
      "text/plain": [
       "<IPython.core.display.Math object>"
      ]
     },
     "metadata": {},
     "output_type": "display_data"
    },
    {
     "data": {
      "text/latex": [
       "$\\displaystyle  \\widetilde{M}^{(6)}= \\left(\\begin{array}{rr}\n",
       "-\\frac{5}{4} \\, \\sqrt{2} & \\frac{1}{2} \\\\\n",
       "-\\frac{3}{4} & -\\frac{1}{4} \\, \\sqrt{2}\n",
       "\\end{array}\\right) \\quad \\text{from potential }\\left[1, 1, 1, 0, 1, 0, 1, 1, 0\\right]$"
      ],
      "text/plain": [
       "<IPython.core.display.Math object>"
      ]
     },
     "metadata": {},
     "output_type": "display_data"
    },
    {
     "data": {
      "text/latex": [
       "$\\displaystyle  \\widetilde{M}^{(7)}= \\left(\\begin{array}{rr}\n",
       "0 & 2 \\\\\n",
       "-\\frac{1}{2} & -\\frac{3}{2} \\, \\sqrt{2}\n",
       "\\end{array}\\right) \\quad \\text{from potential }\\left[1, 1, 0, 1, 0, 1, 1, 0, 1\\right]$"
      ],
      "text/plain": [
       "<IPython.core.display.Math object>"
      ]
     },
     "metadata": {},
     "output_type": "display_data"
    },
    {
     "data": {
      "text/latex": [
       "$\\displaystyle  \\widetilde{M}^{(8)}= \\left(\\begin{array}{rr}\n",
       "-\\frac{1}{2} \\, \\sqrt{2} & 0 \\\\\n",
       "-2 & -\\sqrt{2}\n",
       "\\end{array}\\right) \\quad \\text{from potential }\\left[1, 0, 1, 0, 1, 1, 0, 1, 1\\right]$"
      ],
      "text/plain": [
       "<IPython.core.display.Math object>"
      ]
     },
     "metadata": {},
     "output_type": "display_data"
    }
   ],
   "source": [
    "from IPython.display import display, Math, Latex\n",
    "\n",
    "def mon(v,l):\n",
    "#\n",
    "# Calculate the general monodromy matrix with scaling l #\n",
    "# and energy E\n",
    "#\n",
    "# Example:\n",
    "# v = [1,1,0]; mon(v).expand()\n",
    "# > [E^2 - E*l - 1            -E]\n",
    "#   [        E - l            -1]\n",
    "#\n",
    "##########################\n",
    "    M = identity_matrix(2)\n",
    "    for vv in v:\n",
    "        M = matrix(2,2,[- l*vv, -1, 1, 0])*M\n",
    "    return M\n",
    "\n",
    "def lim_pots(v):\n",
    "#\n",
    "# determine all unique limit potentials of a given\n",
    "# periodic potential v by considering all shifts and flips\n",
    "#\n",
    "##########################\n",
    "    v_rev = deepcopy(v)\n",
    "    lim = shift_pots(v)\n",
    "    v_rev.reverse()\n",
    "    lim_rev = shift_pots(v_rev)\n",
    "    for pot in lim_rev:\n",
    "        if pot not in lim:\n",
    "            lim.append(pot)\n",
    "    return lim\n",
    "    \n",
    "def shift_pots(v):\n",
    "#\n",
    "# determine all unique shifts of a given periodic potential v\n",
    "#\n",
    "##########################\n",
    "    shift = []\n",
    "    for c in range(len(v)):\n",
    "        if v not in shift:\n",
    "            shift.append(v)\n",
    "        v = left_shift(v)\n",
    "    return shift\n",
    "    \n",
    "def left_shift(a):\n",
    "    return [*a[1:], a[0]]\n",
    "\n",
    "\n",
    "\n",
    "\n",
    "##################################\n",
    "#\n",
    "# check the periodic potential v of Example 4.6\n",
    "#\n",
    "v = [1,1,1,0,1,1,0,1,0] # potential from 0 to K-1\n",
    "v_rev = deepcopy(v)\n",
    "v_rev.reverse()\n",
    "v_list = shift_pots(v)\n",
    "v_rev_list = shift_pots(v_rev)\n",
    "\n",
    "\n",
    "##############\n",
    "# iterate shifts of potential for M matrices\n",
    "#\n",
    "for k,vv in enumerate(v_list): \n",
    "    M = mon(vv, 1/sqrt(2))\n",
    "    display(Math( r' M^{(%(idx)d)}= %(mat)s \\quad \\text{from potential }%(v)s' \n",
    "                 % {'idx': k, 'mat': latex(M), 'v': latex(vv)}))\n",
    "    \n",
    "##############\n",
    "# iterate shifts of reversed potential for N matrices\n",
    "#\n",
    "for k,vv in enumerate(v_rev_list):      \n",
    "    M = mon(vv, 1/sqrt(2))\n",
    "    display(Math( r' \\widetilde{M}^{(%(idx)d)}= %(mat)s \\quad \\text{from potential }%(v)s' \n",
    "                 % {'idx': k, 'mat': latex(M), 'v': latex(vv)}))\n"
   ]
  },
  {
   "cell_type": "code",
   "execution_count": null,
   "metadata": {},
   "outputs": [],
   "source": []
  }
 ],
 "metadata": {
  "kernelspec": {
   "display_name": "SageMath 9.2",
   "language": "sage",
   "name": "sagemath"
  },
  "language_info": {
   "codemirror_mode": {
    "name": "ipython",
    "version": 3
   },
   "file_extension": ".py",
   "mimetype": "text/x-python",
   "name": "python",
   "nbconvert_exporter": "python",
   "pygments_lexer": "ipython3",
   "version": "3.7.7"
  }
 },
 "nbformat": 4,
 "nbformat_minor": 4
}
