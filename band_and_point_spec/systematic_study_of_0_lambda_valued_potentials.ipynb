{
 "cells": [
  {
   "cell_type": "markdown",
   "metadata": {},
   "source": [
    "# Monodromy Matrices and Scaled Potentials\n",
    "\n",
    "Given a real-valued $K$-periodic potential $(v(0),\\dots,v(K-1))$, the corresponding monodromy matrix reads\n",
    "\n",
    "\\begin{equation}\n",
    "    M = \\begin{pmatrix} -v(K-1)&-1\\\\1&0\\end{pmatrix}\\cdots \n",
    "\\begin{pmatrix} -v(K-2)&-1\\\\1&0\\end{pmatrix}\n",
    "\\begin{pmatrix} -v(0)&-1\\\\1&0\\end{pmatrix}\n",
    "\\end{equation}\n",
    "\n",
    "If $v$ is a potential over the alphabet $\\Sigma_\\lambda = \\{0,\\lambda\\}$ with $\\lambda \\in \\mathbb{R}$, then the corresponding matrix entries of $M$ are polynomials in $\\lambda$.\n",
    "\n",
    "The location of the zeros of the entry $M_{2,1}$ is linked to the invertibility of the corresponding one-sided periodic Schrödinger operator $H_+$. More precisely, if $|\\mathrm{tr}(M) | > 2$ and $M_{2,1} \\neq 0$, then $H_+$ is invertible.\n",
    "\n",
    "This notepad will systematically determine all potentials up to length $9$ over the alphabet $\\Sigma_0$ and calculate the corresponding monodromy matrices, the zeros of the entry $M_{2,1}$ and the trace of $M$. See the section \"Systematic Studies of $\\{0, \\lambda\\}$-Valued Potentials\" for details. In particular, all polynomial roots are given by closed-form algebraic expressions.\n",
    "\n",
    "\n",
    "# Data Generation\n",
    "\n",
    "Run the cell below with `Kmin = 1` and `Kmax = 9` in order to generate all data for the proofs in the section \"Systematic Studies of $\\{0, \\lambda\\}$-Valued Potentials\".\n",
    "\n",
    "The cell will produce a dictionary `pots`, where the keys are given by stringified potentials and the corresponding values consist of the symbolic monodromy matrix (`key='mon'`), the zeros of the matrix entry (`key='sol'`) and the value of the trace (`key='trace'`).\n",
    "\n",
    "\n",
    "# Rendering of Output\n",
    "\n",
    "After all results have been calculated. Run the cell that renders \"Human Readable Output\".\n",
    "\n",
    "# Interactive Data Analysis\n",
    "\n",
    "In order to access and further analyse the values in the dictionary for the potential `v = [0,1,1]` use the syntax\n",
    "```python\n",
    "v = [0,1,1]\n",
    "pots[str(v)]\n",
    "```\n",
    "More examples follow below in the analysis section.\n",
    "\n",
    "# JSON Export\n",
    "\n",
    "It is possible to export the files in JSON, see the corresponding section at the end of this notebook."
   ]
  },
  {
   "cell_type": "code",
   "execution_count": 1,
   "metadata": {},
   "outputs": [],
   "source": [
    "# Run this cell once at startup\n",
    "###############################\n",
    "\n",
    "l = var('l')\n",
    "\n",
    "def mon(v):\n",
    "##########################\n",
    "# Calculate the general monodromy matrix with scaling l\n",
    "#\n",
    "# Example:\n",
    "# v = [1,1,0]; mon(v).expand()\n",
    "# > [      l       1]\n",
    "# > [l^2 - 1       l]\n",
    "#\n",
    "##########################\n",
    "    M = identity_matrix(2)\n",
    "    for vv in v:\n",
    "        M = matrix(2,2,[ - l*vv, -1, 1, 0])*M\n",
    "    return M\n",
    "\n",
    "def analyse_v(v):\n",
    "##########################\n",
    "# calculate monodromy, zeros and check trace. \n",
    "# return a dictionary containing symbolic elements\n",
    "#\n",
    "# Example:\n",
    "# v = [1,1,0]; analyse_v(v)\n",
    "##########################\n",
    "    data = {}\n",
    "#monodromy\n",
    "    M = mon(v).expand() \n",
    "    data['mon'] = M\n",
    "#zeros\n",
    "    sols = solve(M[1][0] == 0, l)\n",
    "    sol = list(map(lambda s: s.rhs(), sols))\n",
    "    sol.sort()\n",
    "    data['sol'] = sol\n",
    "#trace\n",
    "    data['trace'] = list(map(lambda s: M.trace().subs(l=s), sol))\n",
    "    return data\n",
    "\n",
    "#######Data Creation######\n",
    "# input\n",
    "Kmin = 1 \n",
    "Kmax = 8 #maximal period length, not larger than 9 to guarantee algebraic roots\n",
    "sigma = [0,1] # alphabet \n",
    "\n",
    "pots = {} #empty dictionary\n",
    "for K in range(Kmin,Kmax + 1):\n",
    "    v_list = Tuples(sigma,K).list() \n",
    "    for v in v_list:\n",
    "        pots[str(v)] = deepcopy(analyse_v(v))"
   ]
  },
  {
   "cell_type": "markdown",
   "metadata": {},
   "source": [
    "# Human Readable Output\n",
    "\n",
    "The cell below outputs all potentials, their corresponding monodromy matrices, the zeros of the entry M_{1,2}, and the corresponding value of the trace of M. For an interactive data analysis and further documentation, see the cells below."
   ]
  },
  {
   "cell_type": "code",
   "execution_count": 2,
   "metadata": {
    "scrolled": true
   },
   "outputs": [
    {
     "data": {
      "text/html": [
       "<html><script type=\"math/tex; mode=display\">\\newcommand{\\Bold}[1]{\\mathbf{#1}}\\verb|Period|\\phantom{\\verb!x!}\\verb|Length|\\phantom{\\verb!x!}\\verb|K|\\phantom{\\verb!x!}\\verb|=| 1</script></html>"
      ],
      "text/latex": [
       "\\begin{math}\n",
       "\\newcommand{\\Bold}[1]{\\mathbf{#1}}\\verb|Period|\\phantom{\\verb!x!}\\verb|Length|\\phantom{\\verb!x!}\\verb|K|\\phantom{\\verb!x!}\\verb|=| 1\n",
       "\\end{math}"
      ],
      "text/plain": [
       "'Period Length K = ' 1"
      ]
     },
     "metadata": {},
     "output_type": "display_data"
    },
    {
     "data": {
      "text/html": [
       "<html><script type=\"math/tex; mode=display\">\\newcommand{\\Bold}[1]{\\mathbf{#1}}\\left(\\verb|[0]|, \\left\\{\\verb|mon| : \\left(\\begin{array}{rr}\n",
       "0 & -1 \\\\\n",
       "1 & 0\n",
       "\\end{array}\\right), \\verb|sol| : \\left[\\right], \\verb|trace| : \\left[\\right]\\right\\}\\right)</script></html>"
      ],
      "text/latex": [
       "\\begin{math}\n",
       "\\newcommand{\\Bold}[1]{\\mathbf{#1}}\\left(\\verb|[0]|, \\left\\{\\verb|mon| : \\left(\\begin{array}{rr}\n",
       "0 & -1 \\\\\n",
       "1 & 0\n",
       "\\end{array}\\right), \\verb|sol| : \\left[\\right], \\verb|trace| : \\left[\\right]\\right\\}\\right)\n",
       "\\end{math}"
      ],
      "text/plain": [
       "('[0]',\n",
       " {'mon': [ 0 -1]\n",
       "  [ 1  0], 'sol': [], 'trace': []})"
      ]
     },
     "metadata": {},
     "output_type": "display_data"
    },
    {
     "data": {
      "text/html": [
       "<html><script type=\"math/tex; mode=display\">\\newcommand{\\Bold}[1]{\\mathbf{#1}}\\left(\\verb|[1]|, \\left\\{\\verb|mon| : \\left(\\begin{array}{rr}\n",
       "-l & -1 \\\\\n",
       "1 & 0\n",
       "\\end{array}\\right), \\verb|sol| : \\left[\\right], \\verb|trace| : \\left[\\right]\\right\\}\\right)</script></html>"
      ],
      "text/latex": [
       "\\begin{math}\n",
       "\\newcommand{\\Bold}[1]{\\mathbf{#1}}\\left(\\verb|[1]|, \\left\\{\\verb|mon| : \\left(\\begin{array}{rr}\n",
       "-l & -1 \\\\\n",
       "1 & 0\n",
       "\\end{array}\\right), \\verb|sol| : \\left[\\right], \\verb|trace| : \\left[\\right]\\right\\}\\right)\n",
       "\\end{math}"
      ],
      "text/plain": [
       "('[1]',\n",
       " {'mon': [-l -1]\n",
       "  [ 1  0], 'sol': [], 'trace': []})"
      ]
     },
     "metadata": {},
     "output_type": "display_data"
    },
    {
     "data": {
      "text/html": [
       "<html><script type=\"math/tex; mode=display\">\\newcommand{\\Bold}[1]{\\mathbf{#1}}\\verb|Period|\\phantom{\\verb!x!}\\verb|Length|\\phantom{\\verb!x!}\\verb|K|\\phantom{\\verb!x!}\\verb|=| 2</script></html>"
      ],
      "text/latex": [
       "\\begin{math}\n",
       "\\newcommand{\\Bold}[1]{\\mathbf{#1}}\\verb|Period|\\phantom{\\verb!x!}\\verb|Length|\\phantom{\\verb!x!}\\verb|K|\\phantom{\\verb!x!}\\verb|=| 2\n",
       "\\end{math}"
      ],
      "text/plain": [
       "'Period Length K = ' 2"
      ]
     },
     "metadata": {},
     "output_type": "display_data"
    },
    {
     "data": {
      "text/html": [
       "<html><script type=\"math/tex; mode=display\">\\newcommand{\\Bold}[1]{\\mathbf{#1}}\\left(\\verb|[0,|\\phantom{\\verb!x!}\\verb|0]|, \\left\\{\\verb|mon| : \\left(\\begin{array}{rr}\n",
       "-1 & 0 \\\\\n",
       "0 & -1\n",
       "\\end{array}\\right), \\verb|sol| : \\left[r_{1}\\right], \\verb|trace| : \\left[-2\\right]\\right\\}\\right)</script></html>"
      ],
      "text/latex": [
       "\\begin{math}\n",
       "\\newcommand{\\Bold}[1]{\\mathbf{#1}}\\left(\\verb|[0,|\\phantom{\\verb!x!}\\verb|0]|, \\left\\{\\verb|mon| : \\left(\\begin{array}{rr}\n",
       "-1 & 0 \\\\\n",
       "0 & -1\n",
       "\\end{array}\\right), \\verb|sol| : \\left[r_{1}\\right], \\verb|trace| : \\left[-2\\right]\\right\\}\\right)\n",
       "\\end{math}"
      ],
      "text/plain": [
       "('[0, 0]',\n",
       " {'mon': [-1  0]\n",
       "  [ 0 -1], 'sol': [r1], 'trace': [-2]})"
      ]
     },
     "metadata": {},
     "output_type": "display_data"
    },
    {
     "data": {
      "text/html": [
       "<html><script type=\"math/tex; mode=display\">\\newcommand{\\Bold}[1]{\\mathbf{#1}}\\left(\\verb|[1,|\\phantom{\\verb!x!}\\verb|0]|, \\left\\{\\verb|mon| : \\left(\\begin{array}{rr}\n",
       "-1 & 0 \\\\\n",
       "-l & -1\n",
       "\\end{array}\\right), \\verb|sol| : \\left[0\\right], \\verb|trace| : \\left[-2\\right]\\right\\}\\right)</script></html>"
      ],
      "text/latex": [
       "\\begin{math}\n",
       "\\newcommand{\\Bold}[1]{\\mathbf{#1}}\\left(\\verb|[1,|\\phantom{\\verb!x!}\\verb|0]|, \\left\\{\\verb|mon| : \\left(\\begin{array}{rr}\n",
       "-1 & 0 \\\\\n",
       "-l & -1\n",
       "\\end{array}\\right), \\verb|sol| : \\left[0\\right], \\verb|trace| : \\left[-2\\right]\\right\\}\\right)\n",
       "\\end{math}"
      ],
      "text/plain": [
       "('[1, 0]',\n",
       " {'mon': [-1  0]\n",
       "  [-l -1], 'sol': [0], 'trace': [-2]})"
      ]
     },
     "metadata": {},
     "output_type": "display_data"
    },
    {
     "data": {
      "text/html": [
       "<html><script type=\"math/tex; mode=display\">\\newcommand{\\Bold}[1]{\\mathbf{#1}}\\left(\\verb|[0,|\\phantom{\\verb!x!}\\verb|1]|, \\left\\{\\verb|mon| : \\left(\\begin{array}{rr}\n",
       "-1 & l \\\\\n",
       "0 & -1\n",
       "\\end{array}\\right), \\verb|sol| : \\left[r_{1}\\right], \\verb|trace| : \\left[-2\\right]\\right\\}\\right)</script></html>"
      ],
      "text/latex": [
       "\\begin{math}\n",
       "\\newcommand{\\Bold}[1]{\\mathbf{#1}}\\left(\\verb|[0,|\\phantom{\\verb!x!}\\verb|1]|, \\left\\{\\verb|mon| : \\left(\\begin{array}{rr}\n",
       "-1 & l \\\\\n",
       "0 & -1\n",
       "\\end{array}\\right), \\verb|sol| : \\left[r_{1}\\right], \\verb|trace| : \\left[-2\\right]\\right\\}\\right)\n",
       "\\end{math}"
      ],
      "text/plain": [
       "('[0, 1]',\n",
       " {'mon': [-1  l]\n",
       "  [ 0 -1], 'sol': [r1], 'trace': [-2]})"
      ]
     },
     "metadata": {},
     "output_type": "display_data"
    },
    {
     "data": {
      "text/html": [
       "<html><script type=\"math/tex; mode=display\">\\newcommand{\\Bold}[1]{\\mathbf{#1}}\\left(\\verb|[1,|\\phantom{\\verb!x!}\\verb|1]|, \\left\\{\\verb|mon| : \\left(\\begin{array}{rr}\n",
       "l^{2} - 1 & l \\\\\n",
       "-l & -1\n",
       "\\end{array}\\right), \\verb|sol| : \\left[0\\right], \\verb|trace| : \\left[-2\\right]\\right\\}\\right)</script></html>"
      ],
      "text/latex": [
       "\\begin{math}\n",
       "\\newcommand{\\Bold}[1]{\\mathbf{#1}}\\left(\\verb|[1,|\\phantom{\\verb!x!}\\verb|1]|, \\left\\{\\verb|mon| : \\left(\\begin{array}{rr}\n",
       "l^{2} - 1 & l \\\\\n",
       "-l & -1\n",
       "\\end{array}\\right), \\verb|sol| : \\left[0\\right], \\verb|trace| : \\left[-2\\right]\\right\\}\\right)\n",
       "\\end{math}"
      ],
      "text/plain": [
       "('[1, 1]',\n",
       " {'mon': [l^2 - 1       l]\n",
       "  [     -l      -1], 'sol': [0], 'trace': [-2]})"
      ]
     },
     "metadata": {},
     "output_type": "display_data"
    },
    {
     "data": {
      "text/html": [
       "<html><script type=\"math/tex; mode=display\">\\newcommand{\\Bold}[1]{\\mathbf{#1}}\\verb|Period|\\phantom{\\verb!x!}\\verb|Length|\\phantom{\\verb!x!}\\verb|K|\\phantom{\\verb!x!}\\verb|=| 3</script></html>"
      ],
      "text/latex": [
       "\\begin{math}\n",
       "\\newcommand{\\Bold}[1]{\\mathbf{#1}}\\verb|Period|\\phantom{\\verb!x!}\\verb|Length|\\phantom{\\verb!x!}\\verb|K|\\phantom{\\verb!x!}\\verb|=| 3\n",
       "\\end{math}"
      ],
      "text/plain": [
       "'Period Length K = ' 3"
      ]
     },
     "metadata": {},
     "output_type": "display_data"
    },
    {
     "data": {
      "text/html": [
       "<html><script type=\"math/tex; mode=display\">\\newcommand{\\Bold}[1]{\\mathbf{#1}}\\left(\\verb|[0,|\\phantom{\\verb!x!}\\verb|0,|\\phantom{\\verb!x!}\\verb|0]|, \\left\\{\\verb|mon| : \\left(\\begin{array}{rr}\n",
       "0 & 1 \\\\\n",
       "-1 & 0\n",
       "\\end{array}\\right), \\verb|sol| : \\left[\\right], \\verb|trace| : \\left[\\right]\\right\\}\\right)</script></html>"
      ],
      "text/latex": [
       "\\begin{math}\n",
       "\\newcommand{\\Bold}[1]{\\mathbf{#1}}\\left(\\verb|[0,|\\phantom{\\verb!x!}\\verb|0,|\\phantom{\\verb!x!}\\verb|0]|, \\left\\{\\verb|mon| : \\left(\\begin{array}{rr}\n",
       "0 & 1 \\\\\n",
       "-1 & 0\n",
       "\\end{array}\\right), \\verb|sol| : \\left[\\right], \\verb|trace| : \\left[\\right]\\right\\}\\right)\n",
       "\\end{math}"
      ],
      "text/plain": [
       "('[0, 0, 0]',\n",
       " {'mon': [ 0  1]\n",
       "  [-1  0], 'sol': [], 'trace': []})"
      ]
     },
     "metadata": {},
     "output_type": "display_data"
    },
    {
     "data": {
      "text/html": [
       "<html><script type=\"math/tex; mode=display\">\\newcommand{\\Bold}[1]{\\mathbf{#1}}\\left(\\verb|[1,|\\phantom{\\verb!x!}\\verb|0,|\\phantom{\\verb!x!}\\verb|0]|, \\left\\{\\verb|mon| : \\left(\\begin{array}{rr}\n",
       "l & 1 \\\\\n",
       "-1 & 0\n",
       "\\end{array}\\right), \\verb|sol| : \\left[\\right], \\verb|trace| : \\left[\\right]\\right\\}\\right)</script></html>"
      ],
      "text/latex": [
       "\\begin{math}\n",
       "\\newcommand{\\Bold}[1]{\\mathbf{#1}}\\left(\\verb|[1,|\\phantom{\\verb!x!}\\verb|0,|\\phantom{\\verb!x!}\\verb|0]|, \\left\\{\\verb|mon| : \\left(\\begin{array}{rr}\n",
       "l & 1 \\\\\n",
       "-1 & 0\n",
       "\\end{array}\\right), \\verb|sol| : \\left[\\right], \\verb|trace| : \\left[\\right]\\right\\}\\right)\n",
       "\\end{math}"
      ],
      "text/plain": [
       "('[1, 0, 0]',\n",
       " {'mon': [ l  1]\n",
       "  [-1  0], 'sol': [], 'trace': []})"
      ]
     },
     "metadata": {},
     "output_type": "display_data"
    },
    {
     "data": {
      "text/html": [
       "<html><script type=\"math/tex; mode=display\">\\newcommand{\\Bold}[1]{\\mathbf{#1}}\\left(\\verb|[0,|\\phantom{\\verb!x!}\\verb|1,|\\phantom{\\verb!x!}\\verb|0]|, \\left\\{\\verb|mon| : \\left(\\begin{array}{rr}\n",
       "0 & 1 \\\\\n",
       "-1 & l\n",
       "\\end{array}\\right), \\verb|sol| : \\left[\\right], \\verb|trace| : \\left[\\right]\\right\\}\\right)</script></html>"
      ],
      "text/latex": [
       "\\begin{math}\n",
       "\\newcommand{\\Bold}[1]{\\mathbf{#1}}\\left(\\verb|[0,|\\phantom{\\verb!x!}\\verb|1,|\\phantom{\\verb!x!}\\verb|0]|, \\left\\{\\verb|mon| : \\left(\\begin{array}{rr}\n",
       "0 & 1 \\\\\n",
       "-1 & l\n",
       "\\end{array}\\right), \\verb|sol| : \\left[\\right], \\verb|trace| : \\left[\\right]\\right\\}\\right)\n",
       "\\end{math}"
      ],
      "text/plain": [
       "('[0, 1, 0]',\n",
       " {'mon': [ 0  1]\n",
       "  [-1  l], 'sol': [], 'trace': []})"
      ]
     },
     "metadata": {},
     "output_type": "display_data"
    },
    {
     "data": {
      "text/html": [
       "<html><script type=\"math/tex; mode=display\">\\newcommand{\\Bold}[1]{\\mathbf{#1}}\\left(\\verb|[1,|\\phantom{\\verb!x!}\\verb|1,|\\phantom{\\verb!x!}\\verb|0]|, \\left\\{\\verb|mon| : \\left(\\begin{array}{rr}\n",
       "l & 1 \\\\\n",
       "l^{2} - 1 & l\n",
       "\\end{array}\\right), \\verb|sol| : \\left[-1, 1\\right], \\verb|trace| : \\left[-2, 2\\right]\\right\\}\\right)</script></html>"
      ],
      "text/latex": [
       "\\begin{math}\n",
       "\\newcommand{\\Bold}[1]{\\mathbf{#1}}\\left(\\verb|[1,|\\phantom{\\verb!x!}\\verb|1,|\\phantom{\\verb!x!}\\verb|0]|, \\left\\{\\verb|mon| : \\left(\\begin{array}{rr}\n",
       "l & 1 \\\\\n",
       "l^{2} - 1 & l\n",
       "\\end{array}\\right), \\verb|sol| : \\left[-1, 1\\right], \\verb|trace| : \\left[-2, 2\\right]\\right\\}\\right)\n",
       "\\end{math}"
      ],
      "text/plain": [
       "('[1, 1, 0]',\n",
       " {'mon': [      l       1]\n",
       "  [l^2 - 1       l], 'sol': [-1, 1], 'trace': [-2, 2]})"
      ]
     },
     "metadata": {},
     "output_type": "display_data"
    },
    {
     "data": {
      "text/html": [
       "<html><script type=\"math/tex; mode=display\">\\newcommand{\\Bold}[1]{\\mathbf{#1}}\\left(\\verb|[0,|\\phantom{\\verb!x!}\\verb|0,|\\phantom{\\verb!x!}\\verb|1]|, \\left\\{\\verb|mon| : \\left(\\begin{array}{rr}\n",
       "l & 1 \\\\\n",
       "-1 & 0\n",
       "\\end{array}\\right), \\verb|sol| : \\left[\\right], \\verb|trace| : \\left[\\right]\\right\\}\\right)</script></html>"
      ],
      "text/latex": [
       "\\begin{math}\n",
       "\\newcommand{\\Bold}[1]{\\mathbf{#1}}\\left(\\verb|[0,|\\phantom{\\verb!x!}\\verb|0,|\\phantom{\\verb!x!}\\verb|1]|, \\left\\{\\verb|mon| : \\left(\\begin{array}{rr}\n",
       "l & 1 \\\\\n",
       "-1 & 0\n",
       "\\end{array}\\right), \\verb|sol| : \\left[\\right], \\verb|trace| : \\left[\\right]\\right\\}\\right)\n",
       "\\end{math}"
      ],
      "text/plain": [
       "('[0, 0, 1]',\n",
       " {'mon': [ l  1]\n",
       "  [-1  0], 'sol': [], 'trace': []})"
      ]
     },
     "metadata": {},
     "output_type": "display_data"
    },
    {
     "data": {
      "text/html": [
       "<html><script type=\"math/tex; mode=display\">\\newcommand{\\Bold}[1]{\\mathbf{#1}}\\left(\\verb|[1,|\\phantom{\\verb!x!}\\verb|0,|\\phantom{\\verb!x!}\\verb|1]|, \\left\\{\\verb|mon| : \\left(\\begin{array}{rr}\n",
       "2 \\, l & 1 \\\\\n",
       "-1 & 0\n",
       "\\end{array}\\right), \\verb|sol| : \\left[\\right], \\verb|trace| : \\left[\\right]\\right\\}\\right)</script></html>"
      ],
      "text/latex": [
       "\\begin{math}\n",
       "\\newcommand{\\Bold}[1]{\\mathbf{#1}}\\left(\\verb|[1,|\\phantom{\\verb!x!}\\verb|0,|\\phantom{\\verb!x!}\\verb|1]|, \\left\\{\\verb|mon| : \\left(\\begin{array}{rr}\n",
       "2 \\, l & 1 \\\\\n",
       "-1 & 0\n",
       "\\end{array}\\right), \\verb|sol| : \\left[\\right], \\verb|trace| : \\left[\\right]\\right\\}\\right)\n",
       "\\end{math}"
      ],
      "text/plain": [
       "('[1, 0, 1]',\n",
       " {'mon': [2*l   1]\n",
       "  [ -1   0], 'sol': [], 'trace': []})"
      ]
     },
     "metadata": {},
     "output_type": "display_data"
    },
    {
     "data": {
      "text/html": [
       "<html><script type=\"math/tex; mode=display\">\\newcommand{\\Bold}[1]{\\mathbf{#1}}\\left(\\verb|[0,|\\phantom{\\verb!x!}\\verb|1,|\\phantom{\\verb!x!}\\verb|1]|, \\left\\{\\verb|mon| : \\left(\\begin{array}{rr}\n",
       "l & -l^{2} + 1 \\\\\n",
       "-1 & l\n",
       "\\end{array}\\right), \\verb|sol| : \\left[\\right], \\verb|trace| : \\left[\\right]\\right\\}\\right)</script></html>"
      ],
      "text/latex": [
       "\\begin{math}\n",
       "\\newcommand{\\Bold}[1]{\\mathbf{#1}}\\left(\\verb|[0,|\\phantom{\\verb!x!}\\verb|1,|\\phantom{\\verb!x!}\\verb|1]|, \\left\\{\\verb|mon| : \\left(\\begin{array}{rr}\n",
       "l & -l^{2} + 1 \\\\\n",
       "-1 & l\n",
       "\\end{array}\\right), \\verb|sol| : \\left[\\right], \\verb|trace| : \\left[\\right]\\right\\}\\right)\n",
       "\\end{math}"
      ],
      "text/plain": [
       "('[0, 1, 1]',\n",
       " {'mon': [       l -l^2 + 1]\n",
       "  [      -1        l], 'sol': [], 'trace': []})"
      ]
     },
     "metadata": {},
     "output_type": "display_data"
    },
    {
     "data": {
      "text/html": [
       "<html><script type=\"math/tex; mode=display\">\\newcommand{\\Bold}[1]{\\mathbf{#1}}\\left(\\verb|[1,|\\phantom{\\verb!x!}\\verb|1,|\\phantom{\\verb!x!}\\verb|1]|, \\left\\{\\verb|mon| : \\left(\\begin{array}{rr}\n",
       "-l^{3} + 2 \\, l & -l^{2} + 1 \\\\\n",
       "l^{2} - 1 & l\n",
       "\\end{array}\\right), \\verb|sol| : \\left[-1, 1\\right], \\verb|trace| : \\left[-2, 2\\right]\\right\\}\\right)</script></html>"
      ],
      "text/latex": [
       "\\begin{math}\n",
       "\\newcommand{\\Bold}[1]{\\mathbf{#1}}\\left(\\verb|[1,|\\phantom{\\verb!x!}\\verb|1,|\\phantom{\\verb!x!}\\verb|1]|, \\left\\{\\verb|mon| : \\left(\\begin{array}{rr}\n",
       "-l^{3} + 2 \\, l & -l^{2} + 1 \\\\\n",
       "l^{2} - 1 & l\n",
       "\\end{array}\\right), \\verb|sol| : \\left[-1, 1\\right], \\verb|trace| : \\left[-2, 2\\right]\\right\\}\\right)\n",
       "\\end{math}"
      ],
      "text/plain": [
       "('[1, 1, 1]',\n",
       " {'mon': [-l^3 + 2*l   -l^2 + 1]\n",
       "  [   l^2 - 1          l], 'sol': [-1, 1], 'trace': [-2, 2]})"
      ]
     },
     "metadata": {},
     "output_type": "display_data"
    },
    {
     "data": {
      "text/html": [
       "<html><script type=\"math/tex; mode=display\">\\newcommand{\\Bold}[1]{\\mathbf{#1}}\\verb|Period|\\phantom{\\verb!x!}\\verb|Length|\\phantom{\\verb!x!}\\verb|K|\\phantom{\\verb!x!}\\verb|=| 4</script></html>"
      ],
      "text/latex": [
       "\\begin{math}\n",
       "\\newcommand{\\Bold}[1]{\\mathbf{#1}}\\verb|Period|\\phantom{\\verb!x!}\\verb|Length|\\phantom{\\verb!x!}\\verb|K|\\phantom{\\verb!x!}\\verb|=| 4\n",
       "\\end{math}"
      ],
      "text/plain": [
       "'Period Length K = ' 4"
      ]
     },
     "metadata": {},
     "output_type": "display_data"
    },
    {
     "data": {
      "text/html": [
       "<html><script type=\"math/tex; mode=display\">\\newcommand{\\Bold}[1]{\\mathbf{#1}}\\left(\\verb|[0,|\\phantom{\\verb!x!}\\verb|0,|\\phantom{\\verb!x!}\\verb|0,|\\phantom{\\verb!x!}\\verb|0]|, \\left\\{\\verb|mon| : \\left(\\begin{array}{rr}\n",
       "1 & 0 \\\\\n",
       "0 & 1\n",
       "\\end{array}\\right), \\verb|sol| : \\left[r_{1}\\right], \\verb|trace| : \\left[2\\right]\\right\\}\\right)</script></html>"
      ],
      "text/latex": [
       "\\begin{math}\n",
       "\\newcommand{\\Bold}[1]{\\mathbf{#1}}\\left(\\verb|[0,|\\phantom{\\verb!x!}\\verb|0,|\\phantom{\\verb!x!}\\verb|0,|\\phantom{\\verb!x!}\\verb|0]|, \\left\\{\\verb|mon| : \\left(\\begin{array}{rr}\n",
       "1 & 0 \\\\\n",
       "0 & 1\n",
       "\\end{array}\\right), \\verb|sol| : \\left[r_{1}\\right], \\verb|trace| : \\left[2\\right]\\right\\}\\right)\n",
       "\\end{math}"
      ],
      "text/plain": [
       "('[0, 0, 0, 0]',\n",
       " {'mon': [1 0]\n",
       "  [0 1], 'sol': [r1], 'trace': [2]})"
      ]
     },
     "metadata": {},
     "output_type": "display_data"
    },
    {
     "data": {
      "text/html": [
       "<html><script type=\"math/tex; mode=display\">\\newcommand{\\Bold}[1]{\\mathbf{#1}}\\left(\\verb|[1,|\\phantom{\\verb!x!}\\verb|0,|\\phantom{\\verb!x!}\\verb|0,|\\phantom{\\verb!x!}\\verb|0]|, \\left\\{\\verb|mon| : \\left(\\begin{array}{rr}\n",
       "1 & 0 \\\\\n",
       "l & 1\n",
       "\\end{array}\\right), \\verb|sol| : \\left[0\\right], \\verb|trace| : \\left[2\\right]\\right\\}\\right)</script></html>"
      ],
      "text/latex": [
       "\\begin{math}\n",
       "\\newcommand{\\Bold}[1]{\\mathbf{#1}}\\left(\\verb|[1,|\\phantom{\\verb!x!}\\verb|0,|\\phantom{\\verb!x!}\\verb|0,|\\phantom{\\verb!x!}\\verb|0]|, \\left\\{\\verb|mon| : \\left(\\begin{array}{rr}\n",
       "1 & 0 \\\\\n",
       "l & 1\n",
       "\\end{array}\\right), \\verb|sol| : \\left[0\\right], \\verb|trace| : \\left[2\\right]\\right\\}\\right)\n",
       "\\end{math}"
      ],
      "text/plain": [
       "('[1, 0, 0, 0]',\n",
       " {'mon': [1 0]\n",
       "  [l 1], 'sol': [0], 'trace': [2]})"
      ]
     },
     "metadata": {},
     "output_type": "display_data"
    },
    {
     "data": {
      "text/html": [
       "<html><script type=\"math/tex; mode=display\">\\newcommand{\\Bold}[1]{\\mathbf{#1}}\\left(\\verb|[0,|\\phantom{\\verb!x!}\\verb|1,|\\phantom{\\verb!x!}\\verb|0,|\\phantom{\\verb!x!}\\verb|0]|, \\left\\{\\verb|mon| : \\left(\\begin{array}{rr}\n",
       "1 & -l \\\\\n",
       "0 & 1\n",
       "\\end{array}\\right), \\verb|sol| : \\left[r_{1}\\right], \\verb|trace| : \\left[2\\right]\\right\\}\\right)</script></html>"
      ],
      "text/latex": [
       "\\begin{math}\n",
       "\\newcommand{\\Bold}[1]{\\mathbf{#1}}\\left(\\verb|[0,|\\phantom{\\verb!x!}\\verb|1,|\\phantom{\\verb!x!}\\verb|0,|\\phantom{\\verb!x!}\\verb|0]|, \\left\\{\\verb|mon| : \\left(\\begin{array}{rr}\n",
       "1 & -l \\\\\n",
       "0 & 1\n",
       "\\end{array}\\right), \\verb|sol| : \\left[r_{1}\\right], \\verb|trace| : \\left[2\\right]\\right\\}\\right)\n",
       "\\end{math}"
      ],
      "text/plain": [
       "('[0, 1, 0, 0]',\n",
       " {'mon': [ 1 -l]\n",
       "  [ 0  1], 'sol': [r1], 'trace': [2]})"
      ]
     },
     "metadata": {},
     "output_type": "display_data"
    },
    {
     "data": {
      "text/html": [
       "<html><script type=\"math/tex; mode=display\">\\newcommand{\\Bold}[1]{\\mathbf{#1}}\\left(\\verb|[1,|\\phantom{\\verb!x!}\\verb|1,|\\phantom{\\verb!x!}\\verb|0,|\\phantom{\\verb!x!}\\verb|0]|, \\left\\{\\verb|mon| : \\left(\\begin{array}{rr}\n",
       "-l^{2} + 1 & -l \\\\\n",
       "l & 1\n",
       "\\end{array}\\right), \\verb|sol| : \\left[0\\right], \\verb|trace| : \\left[2\\right]\\right\\}\\right)</script></html>"
      ],
      "text/latex": [
       "\\begin{math}\n",
       "\\newcommand{\\Bold}[1]{\\mathbf{#1}}\\left(\\verb|[1,|\\phantom{\\verb!x!}\\verb|1,|\\phantom{\\verb!x!}\\verb|0,|\\phantom{\\verb!x!}\\verb|0]|, \\left\\{\\verb|mon| : \\left(\\begin{array}{rr}\n",
       "-l^{2} + 1 & -l \\\\\n",
       "l & 1\n",
       "\\end{array}\\right), \\verb|sol| : \\left[0\\right], \\verb|trace| : \\left[2\\right]\\right\\}\\right)\n",
       "\\end{math}"
      ],
      "text/plain": [
       "('[1, 1, 0, 0]',\n",
       " {'mon': [-l^2 + 1       -l]\n",
       "  [       l        1], 'sol': [0], 'trace': [2]})"
      ]
     },
     "metadata": {},
     "output_type": "display_data"
    },
    {
     "data": {
      "text/html": [
       "<html><script type=\"math/tex; mode=display\">\\newcommand{\\Bold}[1]{\\mathbf{#1}}\\left(\\verb|[0,|\\phantom{\\verb!x!}\\verb|0,|\\phantom{\\verb!x!}\\verb|1,|\\phantom{\\verb!x!}\\verb|0]|, \\left\\{\\verb|mon| : \\left(\\begin{array}{rr}\n",
       "1 & 0 \\\\\n",
       "l & 1\n",
       "\\end{array}\\right), \\verb|sol| : \\left[0\\right], \\verb|trace| : \\left[2\\right]\\right\\}\\right)</script></html>"
      ],
      "text/latex": [
       "\\begin{math}\n",
       "\\newcommand{\\Bold}[1]{\\mathbf{#1}}\\left(\\verb|[0,|\\phantom{\\verb!x!}\\verb|0,|\\phantom{\\verb!x!}\\verb|1,|\\phantom{\\verb!x!}\\verb|0]|, \\left\\{\\verb|mon| : \\left(\\begin{array}{rr}\n",
       "1 & 0 \\\\\n",
       "l & 1\n",
       "\\end{array}\\right), \\verb|sol| : \\left[0\\right], \\verb|trace| : \\left[2\\right]\\right\\}\\right)\n",
       "\\end{math}"
      ],
      "text/plain": [
       "('[0, 0, 1, 0]',\n",
       " {'mon': [1 0]\n",
       "  [l 1], 'sol': [0], 'trace': [2]})"
      ]
     },
     "metadata": {},
     "output_type": "display_data"
    },
    {
     "data": {
      "text/html": [
       "<html><script type=\"math/tex; mode=display\">\\newcommand{\\Bold}[1]{\\mathbf{#1}}\\left(\\verb|[1,|\\phantom{\\verb!x!}\\verb|0,|\\phantom{\\verb!x!}\\verb|1,|\\phantom{\\verb!x!}\\verb|0]|, \\left\\{\\verb|mon| : \\left(\\begin{array}{rr}\n",
       "1 & 0 \\\\\n",
       "2 \\, l & 1\n",
       "\\end{array}\\right), \\verb|sol| : \\left[0\\right], \\verb|trace| : \\left[2\\right]\\right\\}\\right)</script></html>"
      ],
      "text/latex": [
       "\\begin{math}\n",
       "\\newcommand{\\Bold}[1]{\\mathbf{#1}}\\left(\\verb|[1,|\\phantom{\\verb!x!}\\verb|0,|\\phantom{\\verb!x!}\\verb|1,|\\phantom{\\verb!x!}\\verb|0]|, \\left\\{\\verb|mon| : \\left(\\begin{array}{rr}\n",
       "1 & 0 \\\\\n",
       "2 \\, l & 1\n",
       "\\end{array}\\right), \\verb|sol| : \\left[0\\right], \\verb|trace| : \\left[2\\right]\\right\\}\\right)\n",
       "\\end{math}"
      ],
      "text/plain": [
       "('[1, 0, 1, 0]',\n",
       " {'mon': [  1   0]\n",
       "  [2*l   1], 'sol': [0], 'trace': [2]})"
      ]
     },
     "metadata": {},
     "output_type": "display_data"
    },
    {
     "data": {
      "text/html": [
       "<html><script type=\"math/tex; mode=display\">\\newcommand{\\Bold}[1]{\\mathbf{#1}}\\left(\\verb|[0,|\\phantom{\\verb!x!}\\verb|1,|\\phantom{\\verb!x!}\\verb|1,|\\phantom{\\verb!x!}\\verb|0]|, \\left\\{\\verb|mon| : \\left(\\begin{array}{rr}\n",
       "1 & -l \\\\\n",
       "l & -l^{2} + 1\n",
       "\\end{array}\\right), \\verb|sol| : \\left[0\\right], \\verb|trace| : \\left[2\\right]\\right\\}\\right)</script></html>"
      ],
      "text/latex": [
       "\\begin{math}\n",
       "\\newcommand{\\Bold}[1]{\\mathbf{#1}}\\left(\\verb|[0,|\\phantom{\\verb!x!}\\verb|1,|\\phantom{\\verb!x!}\\verb|1,|\\phantom{\\verb!x!}\\verb|0]|, \\left\\{\\verb|mon| : \\left(\\begin{array}{rr}\n",
       "1 & -l \\\\\n",
       "l & -l^{2} + 1\n",
       "\\end{array}\\right), \\verb|sol| : \\left[0\\right], \\verb|trace| : \\left[2\\right]\\right\\}\\right)\n",
       "\\end{math}"
      ],
      "text/plain": [
       "('[0, 1, 1, 0]',\n",
       " {'mon': [       1       -l]\n",
       "  [       l -l^2 + 1], 'sol': [0], 'trace': [2]})"
      ]
     },
     "metadata": {},
     "output_type": "display_data"
    },
    {
     "data": {
      "text/html": [
       "<html><script type=\"math/tex; mode=display\">\\newcommand{\\Bold}[1]{\\mathbf{#1}}\\left(\\verb|[1,|\\phantom{\\verb!x!}\\verb|1,|\\phantom{\\verb!x!}\\verb|1,|\\phantom{\\verb!x!}\\verb|0]|, \\left\\{\\verb|mon| : \\left(\\begin{array}{rr}\n",
       "-l^{2} + 1 & -l \\\\\n",
       "-l^{3} + 2 \\, l & -l^{2} + 1\n",
       "\\end{array}\\right), \\verb|sol| : \\left[-\\sqrt{2}, 0, \\sqrt{2}\\right], \\verb|trace| : \\left[-2, 2, -2\\right]\\right\\}\\right)</script></html>"
      ],
      "text/latex": [
       "\\begin{math}\n",
       "\\newcommand{\\Bold}[1]{\\mathbf{#1}}\\left(\\verb|[1,|\\phantom{\\verb!x!}\\verb|1,|\\phantom{\\verb!x!}\\verb|1,|\\phantom{\\verb!x!}\\verb|0]|, \\left\\{\\verb|mon| : \\left(\\begin{array}{rr}\n",
       "-l^{2} + 1 & -l \\\\\n",
       "-l^{3} + 2 \\, l & -l^{2} + 1\n",
       "\\end{array}\\right), \\verb|sol| : \\left[-\\sqrt{2}, 0, \\sqrt{2}\\right], \\verb|trace| : \\left[-2, 2, -2\\right]\\right\\}\\right)\n",
       "\\end{math}"
      ],
      "text/plain": [
       "('[1, 1, 1, 0]',\n",
       " {'mon': [  -l^2 + 1         -l]\n",
       "  [-l^3 + 2*l   -l^2 + 1],\n",
       "  'sol': [-sqrt(2), 0, sqrt(2)],\n",
       "  'trace': [-2, 2, -2]})"
      ]
     },
     "metadata": {},
     "output_type": "display_data"
    },
    {
     "data": {
      "text/html": [
       "<html><script type=\"math/tex; mode=display\">\\newcommand{\\Bold}[1]{\\mathbf{#1}}\\left(\\verb|[0,|\\phantom{\\verb!x!}\\verb|0,|\\phantom{\\verb!x!}\\verb|0,|\\phantom{\\verb!x!}\\verb|1]|, \\left\\{\\verb|mon| : \\left(\\begin{array}{rr}\n",
       "1 & -l \\\\\n",
       "0 & 1\n",
       "\\end{array}\\right), \\verb|sol| : \\left[r_{1}\\right], \\verb|trace| : \\left[2\\right]\\right\\}\\right)</script></html>"
      ],
      "text/latex": [
       "\\begin{math}\n",
       "\\newcommand{\\Bold}[1]{\\mathbf{#1}}\\left(\\verb|[0,|\\phantom{\\verb!x!}\\verb|0,|\\phantom{\\verb!x!}\\verb|0,|\\phantom{\\verb!x!}\\verb|1]|, \\left\\{\\verb|mon| : \\left(\\begin{array}{rr}\n",
       "1 & -l \\\\\n",
       "0 & 1\n",
       "\\end{array}\\right), \\verb|sol| : \\left[r_{1}\\right], \\verb|trace| : \\left[2\\right]\\right\\}\\right)\n",
       "\\end{math}"
      ],
      "text/plain": [
       "('[0, 0, 0, 1]',\n",
       " {'mon': [ 1 -l]\n",
       "  [ 0  1], 'sol': [r1], 'trace': [2]})"
      ]
     },
     "metadata": {},
     "output_type": "display_data"
    },
    {
     "data": {
      "text/html": [
       "<html><script type=\"math/tex; mode=display\">\\newcommand{\\Bold}[1]{\\mathbf{#1}}\\left(\\verb|[1,|\\phantom{\\verb!x!}\\verb|0,|\\phantom{\\verb!x!}\\verb|0,|\\phantom{\\verb!x!}\\verb|1]|, \\left\\{\\verb|mon| : \\left(\\begin{array}{rr}\n",
       "-l^{2} + 1 & -l \\\\\n",
       "l & 1\n",
       "\\end{array}\\right), \\verb|sol| : \\left[0\\right], \\verb|trace| : \\left[2\\right]\\right\\}\\right)</script></html>"
      ],
      "text/latex": [
       "\\begin{math}\n",
       "\\newcommand{\\Bold}[1]{\\mathbf{#1}}\\left(\\verb|[1,|\\phantom{\\verb!x!}\\verb|0,|\\phantom{\\verb!x!}\\verb|0,|\\phantom{\\verb!x!}\\verb|1]|, \\left\\{\\verb|mon| : \\left(\\begin{array}{rr}\n",
       "-l^{2} + 1 & -l \\\\\n",
       "l & 1\n",
       "\\end{array}\\right), \\verb|sol| : \\left[0\\right], \\verb|trace| : \\left[2\\right]\\right\\}\\right)\n",
       "\\end{math}"
      ],
      "text/plain": [
       "('[1, 0, 0, 1]',\n",
       " {'mon': [-l^2 + 1       -l]\n",
       "  [       l        1], 'sol': [0], 'trace': [2]})"
      ]
     },
     "metadata": {},
     "output_type": "display_data"
    },
    {
     "data": {
      "text/html": [
       "<html><script type=\"math/tex; mode=display\">\\newcommand{\\Bold}[1]{\\mathbf{#1}}\\left(\\verb|[0,|\\phantom{\\verb!x!}\\verb|1,|\\phantom{\\verb!x!}\\verb|0,|\\phantom{\\verb!x!}\\verb|1]|, \\left\\{\\verb|mon| : \\left(\\begin{array}{rr}\n",
       "1 & -2 \\, l \\\\\n",
       "0 & 1\n",
       "\\end{array}\\right), \\verb|sol| : \\left[r_{1}\\right], \\verb|trace| : \\left[2\\right]\\right\\}\\right)</script></html>"
      ],
      "text/latex": [
       "\\begin{math}\n",
       "\\newcommand{\\Bold}[1]{\\mathbf{#1}}\\left(\\verb|[0,|\\phantom{\\verb!x!}\\verb|1,|\\phantom{\\verb!x!}\\verb|0,|\\phantom{\\verb!x!}\\verb|1]|, \\left\\{\\verb|mon| : \\left(\\begin{array}{rr}\n",
       "1 & -2 \\, l \\\\\n",
       "0 & 1\n",
       "\\end{array}\\right), \\verb|sol| : \\left[r_{1}\\right], \\verb|trace| : \\left[2\\right]\\right\\}\\right)\n",
       "\\end{math}"
      ],
      "text/plain": [
       "('[0, 1, 0, 1]',\n",
       " {'mon': [   1 -2*l]\n",
       "  [   0    1], 'sol': [r1], 'trace': [2]})"
      ]
     },
     "metadata": {},
     "output_type": "display_data"
    },
    {
     "data": {
      "text/html": [
       "<html><script type=\"math/tex; mode=display\">\\newcommand{\\Bold}[1]{\\mathbf{#1}}\\left(\\verb|[1,|\\phantom{\\verb!x!}\\verb|1,|\\phantom{\\verb!x!}\\verb|0,|\\phantom{\\verb!x!}\\verb|1]|, \\left\\{\\verb|mon| : \\left(\\begin{array}{rr}\n",
       "-2 \\, l^{2} + 1 & -2 \\, l \\\\\n",
       "l & 1\n",
       "\\end{array}\\right), \\verb|sol| : \\left[0\\right], \\verb|trace| : \\left[2\\right]\\right\\}\\right)</script></html>"
      ],
      "text/latex": [
       "\\begin{math}\n",
       "\\newcommand{\\Bold}[1]{\\mathbf{#1}}\\left(\\verb|[1,|\\phantom{\\verb!x!}\\verb|1,|\\phantom{\\verb!x!}\\verb|0,|\\phantom{\\verb!x!}\\verb|1]|, \\left\\{\\verb|mon| : \\left(\\begin{array}{rr}\n",
       "-2 \\, l^{2} + 1 & -2 \\, l \\\\\n",
       "l & 1\n",
       "\\end{array}\\right), \\verb|sol| : \\left[0\\right], \\verb|trace| : \\left[2\\right]\\right\\}\\right)\n",
       "\\end{math}"
      ],
      "text/plain": [
       "('[1, 1, 0, 1]',\n",
       " {'mon': [-2*l^2 + 1       -2*l]\n",
       "  [         l          1], 'sol': [0], 'trace': [2]})"
      ]
     },
     "metadata": {},
     "output_type": "display_data"
    },
    {
     "data": {
      "text/html": [
       "<html><script type=\"math/tex; mode=display\">\\newcommand{\\Bold}[1]{\\mathbf{#1}}\\left(\\verb|[0,|\\phantom{\\verb!x!}\\verb|0,|\\phantom{\\verb!x!}\\verb|1,|\\phantom{\\verb!x!}\\verb|1]|, \\left\\{\\verb|mon| : \\left(\\begin{array}{rr}\n",
       "-l^{2} + 1 & -l \\\\\n",
       "l & 1\n",
       "\\end{array}\\right), \\verb|sol| : \\left[0\\right], \\verb|trace| : \\left[2\\right]\\right\\}\\right)</script></html>"
      ],
      "text/latex": [
       "\\begin{math}\n",
       "\\newcommand{\\Bold}[1]{\\mathbf{#1}}\\left(\\verb|[0,|\\phantom{\\verb!x!}\\verb|0,|\\phantom{\\verb!x!}\\verb|1,|\\phantom{\\verb!x!}\\verb|1]|, \\left\\{\\verb|mon| : \\left(\\begin{array}{rr}\n",
       "-l^{2} + 1 & -l \\\\\n",
       "l & 1\n",
       "\\end{array}\\right), \\verb|sol| : \\left[0\\right], \\verb|trace| : \\left[2\\right]\\right\\}\\right)\n",
       "\\end{math}"
      ],
      "text/plain": [
       "('[0, 0, 1, 1]',\n",
       " {'mon': [-l^2 + 1       -l]\n",
       "  [       l        1], 'sol': [0], 'trace': [2]})"
      ]
     },
     "metadata": {},
     "output_type": "display_data"
    },
    {
     "data": {
      "text/html": [
       "<html><script type=\"math/tex; mode=display\">\\newcommand{\\Bold}[1]{\\mathbf{#1}}\\left(\\verb|[1,|\\phantom{\\verb!x!}\\verb|0,|\\phantom{\\verb!x!}\\verb|1,|\\phantom{\\verb!x!}\\verb|1]|, \\left\\{\\verb|mon| : \\left(\\begin{array}{rr}\n",
       "-2 \\, l^{2} + 1 & -l \\\\\n",
       "2 \\, l & 1\n",
       "\\end{array}\\right), \\verb|sol| : \\left[0\\right], \\verb|trace| : \\left[2\\right]\\right\\}\\right)</script></html>"
      ],
      "text/latex": [
       "\\begin{math}\n",
       "\\newcommand{\\Bold}[1]{\\mathbf{#1}}\\left(\\verb|[1,|\\phantom{\\verb!x!}\\verb|0,|\\phantom{\\verb!x!}\\verb|1,|\\phantom{\\verb!x!}\\verb|1]|, \\left\\{\\verb|mon| : \\left(\\begin{array}{rr}\n",
       "-2 \\, l^{2} + 1 & -l \\\\\n",
       "2 \\, l & 1\n",
       "\\end{array}\\right), \\verb|sol| : \\left[0\\right], \\verb|trace| : \\left[2\\right]\\right\\}\\right)\n",
       "\\end{math}"
      ],
      "text/plain": [
       "('[1, 0, 1, 1]',\n",
       " {'mon': [-2*l^2 + 1         -l]\n",
       "  [       2*l          1], 'sol': [0], 'trace': [2]})"
      ]
     },
     "metadata": {},
     "output_type": "display_data"
    },
    {
     "data": {
      "text/html": [
       "<html><script type=\"math/tex; mode=display\">\\newcommand{\\Bold}[1]{\\mathbf{#1}}\\left(\\verb|[0,|\\phantom{\\verb!x!}\\verb|1,|\\phantom{\\verb!x!}\\verb|1,|\\phantom{\\verb!x!}\\verb|1]|, \\left\\{\\verb|mon| : \\left(\\begin{array}{rr}\n",
       "-l^{2} + 1 & l^{3} - 2 \\, l \\\\\n",
       "l & -l^{2} + 1\n",
       "\\end{array}\\right), \\verb|sol| : \\left[0\\right], \\verb|trace| : \\left[2\\right]\\right\\}\\right)</script></html>"
      ],
      "text/latex": [
       "\\begin{math}\n",
       "\\newcommand{\\Bold}[1]{\\mathbf{#1}}\\left(\\verb|[0,|\\phantom{\\verb!x!}\\verb|1,|\\phantom{\\verb!x!}\\verb|1,|\\phantom{\\verb!x!}\\verb|1]|, \\left\\{\\verb|mon| : \\left(\\begin{array}{rr}\n",
       "-l^{2} + 1 & l^{3} - 2 \\, l \\\\\n",
       "l & -l^{2} + 1\n",
       "\\end{array}\\right), \\verb|sol| : \\left[0\\right], \\verb|trace| : \\left[2\\right]\\right\\}\\right)\n",
       "\\end{math}"
      ],
      "text/plain": [
       "('[0, 1, 1, 1]',\n",
       " {'mon': [ -l^2 + 1 l^3 - 2*l]\n",
       "  [        l  -l^2 + 1], 'sol': [0], 'trace': [2]})"
      ]
     },
     "metadata": {},
     "output_type": "display_data"
    },
    {
     "data": {
      "text/html": [
       "<html><script type=\"math/tex; mode=display\">\\newcommand{\\Bold}[1]{\\mathbf{#1}}\\left(\\verb|[1,|\\phantom{\\verb!x!}\\verb|1,|\\phantom{\\verb!x!}\\verb|1,|\\phantom{\\verb!x!}\\verb|1]|, \\left\\{\\verb|mon| : \\left(\\begin{array}{rr}\n",
       "l^{4} - 3 \\, l^{2} + 1 & l^{3} - 2 \\, l \\\\\n",
       "-l^{3} + 2 \\, l & -l^{2} + 1\n",
       "\\end{array}\\right), \\verb|sol| : \\left[-\\sqrt{2}, 0, \\sqrt{2}\\right], \\verb|trace| : \\left[-2, 2, -2\\right]\\right\\}\\right)</script></html>"
      ],
      "text/latex": [
       "\\begin{math}\n",
       "\\newcommand{\\Bold}[1]{\\mathbf{#1}}\\left(\\verb|[1,|\\phantom{\\verb!x!}\\verb|1,|\\phantom{\\verb!x!}\\verb|1,|\\phantom{\\verb!x!}\\verb|1]|, \\left\\{\\verb|mon| : \\left(\\begin{array}{rr}\n",
       "l^{4} - 3 \\, l^{2} + 1 & l^{3} - 2 \\, l \\\\\n",
       "-l^{3} + 2 \\, l & -l^{2} + 1\n",
       "\\end{array}\\right), \\verb|sol| : \\left[-\\sqrt{2}, 0, \\sqrt{2}\\right], \\verb|trace| : \\left[-2, 2, -2\\right]\\right\\}\\right)\n",
       "\\end{math}"
      ],
      "text/plain": [
       "('[1, 1, 1, 1]',\n",
       " {'mon': [l^4 - 3*l^2 + 1       l^3 - 2*l]\n",
       "  [     -l^3 + 2*l        -l^2 + 1],\n",
       "  'sol': [-sqrt(2), 0, sqrt(2)],\n",
       "  'trace': [-2, 2, -2]})"
      ]
     },
     "metadata": {},
     "output_type": "display_data"
    },
    {
     "data": {
      "text/html": [
       "<html><script type=\"math/tex; mode=display\">\\newcommand{\\Bold}[1]{\\mathbf{#1}}\\verb|Period|\\phantom{\\verb!x!}\\verb|Length|\\phantom{\\verb!x!}\\verb|K|\\phantom{\\verb!x!}\\verb|=| 5</script></html>"
      ],
      "text/latex": [
       "\\begin{math}\n",
       "\\newcommand{\\Bold}[1]{\\mathbf{#1}}\\verb|Period|\\phantom{\\verb!x!}\\verb|Length|\\phantom{\\verb!x!}\\verb|K|\\phantom{\\verb!x!}\\verb|=| 5\n",
       "\\end{math}"
      ],
      "text/plain": [
       "'Period Length K = ' 5"
      ]
     },
     "metadata": {},
     "output_type": "display_data"
    },
    {
     "data": {
      "text/html": [
       "<html><script type=\"math/tex; mode=display\">\\newcommand{\\Bold}[1]{\\mathbf{#1}}\\left(\\verb|[0,|\\phantom{\\verb!x!}\\verb|0,|\\phantom{\\verb!x!}\\verb|0,|\\phantom{\\verb!x!}\\verb|0,|\\phantom{\\verb!x!}\\verb|0]|, \\left\\{\\verb|mon| : \\left(\\begin{array}{rr}\n",
       "0 & -1 \\\\\n",
       "1 & 0\n",
       "\\end{array}\\right), \\verb|sol| : \\left[\\right], \\verb|trace| : \\left[\\right]\\right\\}\\right)</script></html>"
      ],
      "text/latex": [
       "\\begin{math}\n",
       "\\newcommand{\\Bold}[1]{\\mathbf{#1}}\\left(\\verb|[0,|\\phantom{\\verb!x!}\\verb|0,|\\phantom{\\verb!x!}\\verb|0,|\\phantom{\\verb!x!}\\verb|0,|\\phantom{\\verb!x!}\\verb|0]|, \\left\\{\\verb|mon| : \\left(\\begin{array}{rr}\n",
       "0 & -1 \\\\\n",
       "1 & 0\n",
       "\\end{array}\\right), \\verb|sol| : \\left[\\right], \\verb|trace| : \\left[\\right]\\right\\}\\right)\n",
       "\\end{math}"
      ],
      "text/plain": [
       "('[0, 0, 0, 0, 0]',\n",
       " {'mon': [ 0 -1]\n",
       "  [ 1  0], 'sol': [], 'trace': []})"
      ]
     },
     "metadata": {},
     "output_type": "display_data"
    },
    {
     "data": {
      "text/html": [
       "<html><script type=\"math/tex; mode=display\">\\newcommand{\\Bold}[1]{\\mathbf{#1}}\\left(\\verb|[1,|\\phantom{\\verb!x!}\\verb|0,|\\phantom{\\verb!x!}\\verb|0,|\\phantom{\\verb!x!}\\verb|0,|\\phantom{\\verb!x!}\\verb|0]|, \\left\\{\\verb|mon| : \\left(\\begin{array}{rr}\n",
       "-l & -1 \\\\\n",
       "1 & 0\n",
       "\\end{array}\\right), \\verb|sol| : \\left[\\right], \\verb|trace| : \\left[\\right]\\right\\}\\right)</script></html>"
      ],
      "text/latex": [
       "\\begin{math}\n",
       "\\newcommand{\\Bold}[1]{\\mathbf{#1}}\\left(\\verb|[1,|\\phantom{\\verb!x!}\\verb|0,|\\phantom{\\verb!x!}\\verb|0,|\\phantom{\\verb!x!}\\verb|0,|\\phantom{\\verb!x!}\\verb|0]|, \\left\\{\\verb|mon| : \\left(\\begin{array}{rr}\n",
       "-l & -1 \\\\\n",
       "1 & 0\n",
       "\\end{array}\\right), \\verb|sol| : \\left[\\right], \\verb|trace| : \\left[\\right]\\right\\}\\right)\n",
       "\\end{math}"
      ],
      "text/plain": [
       "('[1, 0, 0, 0, 0]',\n",
       " {'mon': [-l -1]\n",
       "  [ 1  0], 'sol': [], 'trace': []})"
      ]
     },
     "metadata": {},
     "output_type": "display_data"
    },
    {
     "data": {
      "text/html": [
       "<html><script type=\"math/tex; mode=display\">\\newcommand{\\Bold}[1]{\\mathbf{#1}}\\left(\\verb|[0,|\\phantom{\\verb!x!}\\verb|1,|\\phantom{\\verb!x!}\\verb|0,|\\phantom{\\verb!x!}\\verb|0,|\\phantom{\\verb!x!}\\verb|0]|, \\left\\{\\verb|mon| : \\left(\\begin{array}{rr}\n",
       "0 & -1 \\\\\n",
       "1 & -l\n",
       "\\end{array}\\right), \\verb|sol| : \\left[\\right], \\verb|trace| : \\left[\\right]\\right\\}\\right)</script></html>"
      ],
      "text/latex": [
       "\\begin{math}\n",
       "\\newcommand{\\Bold}[1]{\\mathbf{#1}}\\left(\\verb|[0,|\\phantom{\\verb!x!}\\verb|1,|\\phantom{\\verb!x!}\\verb|0,|\\phantom{\\verb!x!}\\verb|0,|\\phantom{\\verb!x!}\\verb|0]|, \\left\\{\\verb|mon| : \\left(\\begin{array}{rr}\n",
       "0 & -1 \\\\\n",
       "1 & -l\n",
       "\\end{array}\\right), \\verb|sol| : \\left[\\right], \\verb|trace| : \\left[\\right]\\right\\}\\right)\n",
       "\\end{math}"
      ],
      "text/plain": [
       "('[0, 1, 0, 0, 0]',\n",
       " {'mon': [ 0 -1]\n",
       "  [ 1 -l], 'sol': [], 'trace': []})"
      ]
     },
     "metadata": {},
     "output_type": "display_data"
    },
    {
     "data": {
      "text/html": [
       "<html><script type=\"math/tex; mode=display\">\\newcommand{\\Bold}[1]{\\mathbf{#1}}\\left(\\verb|[1,|\\phantom{\\verb!x!}\\verb|1,|\\phantom{\\verb!x!}\\verb|0,|\\phantom{\\verb!x!}\\verb|0,|\\phantom{\\verb!x!}\\verb|0]|, \\left\\{\\verb|mon| : \\left(\\begin{array}{rr}\n",
       "-l & -1 \\\\\n",
       "-l^{2} + 1 & -l\n",
       "\\end{array}\\right), \\verb|sol| : \\left[-1, 1\\right], \\verb|trace| : \\left[2, -2\\right]\\right\\}\\right)</script></html>"
      ],
      "text/latex": [
       "\\begin{math}\n",
       "\\newcommand{\\Bold}[1]{\\mathbf{#1}}\\left(\\verb|[1,|\\phantom{\\verb!x!}\\verb|1,|\\phantom{\\verb!x!}\\verb|0,|\\phantom{\\verb!x!}\\verb|0,|\\phantom{\\verb!x!}\\verb|0]|, \\left\\{\\verb|mon| : \\left(\\begin{array}{rr}\n",
       "-l & -1 \\\\\n",
       "-l^{2} + 1 & -l\n",
       "\\end{array}\\right), \\verb|sol| : \\left[-1, 1\\right], \\verb|trace| : \\left[2, -2\\right]\\right\\}\\right)\n",
       "\\end{math}"
      ],
      "text/plain": [
       "('[1, 1, 0, 0, 0]',\n",
       " {'mon': [      -l       -1]\n",
       "  [-l^2 + 1       -l], 'sol': [-1, 1], 'trace': [2, -2]})"
      ]
     },
     "metadata": {},
     "output_type": "display_data"
    },
    {
     "data": {
      "text/html": [
       "<html><script type=\"math/tex; mode=display\">\\newcommand{\\Bold}[1]{\\mathbf{#1}}\\left(\\verb|[0,|\\phantom{\\verb!x!}\\verb|0,|\\phantom{\\verb!x!}\\verb|1,|\\phantom{\\verb!x!}\\verb|0,|\\phantom{\\verb!x!}\\verb|0]|, \\left\\{\\verb|mon| : \\left(\\begin{array}{rr}\n",
       "-l & -1 \\\\\n",
       "1 & 0\n",
       "\\end{array}\\right), \\verb|sol| : \\left[\\right], \\verb|trace| : \\left[\\right]\\right\\}\\right)</script></html>"
      ],
      "text/latex": [
       "\\begin{math}\n",
       "\\newcommand{\\Bold}[1]{\\mathbf{#1}}\\left(\\verb|[0,|\\phantom{\\verb!x!}\\verb|0,|\\phantom{\\verb!x!}\\verb|1,|\\phantom{\\verb!x!}\\verb|0,|\\phantom{\\verb!x!}\\verb|0]|, \\left\\{\\verb|mon| : \\left(\\begin{array}{rr}\n",
       "-l & -1 \\\\\n",
       "1 & 0\n",
       "\\end{array}\\right), \\verb|sol| : \\left[\\right], \\verb|trace| : \\left[\\right]\\right\\}\\right)\n",
       "\\end{math}"
      ],
      "text/plain": [
       "('[0, 0, 1, 0, 0]',\n",
       " {'mon': [-l -1]\n",
       "  [ 1  0], 'sol': [], 'trace': []})"
      ]
     },
     "metadata": {},
     "output_type": "display_data"
    },
    {
     "data": {
      "text/html": [
       "<html><script type=\"math/tex; mode=display\">\\newcommand{\\Bold}[1]{\\mathbf{#1}}\\left(\\verb|[1,|\\phantom{\\verb!x!}\\verb|0,|\\phantom{\\verb!x!}\\verb|1,|\\phantom{\\verb!x!}\\verb|0,|\\phantom{\\verb!x!}\\verb|0]|, \\left\\{\\verb|mon| : \\left(\\begin{array}{rr}\n",
       "-2 \\, l & -1 \\\\\n",
       "1 & 0\n",
       "\\end{array}\\right), \\verb|sol| : \\left[\\right], \\verb|trace| : \\left[\\right]\\right\\}\\right)</script></html>"
      ],
      "text/latex": [
       "\\begin{math}\n",
       "\\newcommand{\\Bold}[1]{\\mathbf{#1}}\\left(\\verb|[1,|\\phantom{\\verb!x!}\\verb|0,|\\phantom{\\verb!x!}\\verb|1,|\\phantom{\\verb!x!}\\verb|0,|\\phantom{\\verb!x!}\\verb|0]|, \\left\\{\\verb|mon| : \\left(\\begin{array}{rr}\n",
       "-2 \\, l & -1 \\\\\n",
       "1 & 0\n",
       "\\end{array}\\right), \\verb|sol| : \\left[\\right], \\verb|trace| : \\left[\\right]\\right\\}\\right)\n",
       "\\end{math}"
      ],
      "text/plain": [
       "('[1, 0, 1, 0, 0]',\n",
       " {'mon': [-2*l   -1]\n",
       "  [   1    0], 'sol': [], 'trace': []})"
      ]
     },
     "metadata": {},
     "output_type": "display_data"
    },
    {
     "data": {
      "text/html": [
       "<html><script type=\"math/tex; mode=display\">\\newcommand{\\Bold}[1]{\\mathbf{#1}}\\left(\\verb|[0,|\\phantom{\\verb!x!}\\verb|1,|\\phantom{\\verb!x!}\\verb|1,|\\phantom{\\verb!x!}\\verb|0,|\\phantom{\\verb!x!}\\verb|0]|, \\left\\{\\verb|mon| : \\left(\\begin{array}{rr}\n",
       "-l & l^{2} - 1 \\\\\n",
       "1 & -l\n",
       "\\end{array}\\right), \\verb|sol| : \\left[\\right], \\verb|trace| : \\left[\\right]\\right\\}\\right)</script></html>"
      ],
      "text/latex": [
       "\\begin{math}\n",
       "\\newcommand{\\Bold}[1]{\\mathbf{#1}}\\left(\\verb|[0,|\\phantom{\\verb!x!}\\verb|1,|\\phantom{\\verb!x!}\\verb|1,|\\phantom{\\verb!x!}\\verb|0,|\\phantom{\\verb!x!}\\verb|0]|, \\left\\{\\verb|mon| : \\left(\\begin{array}{rr}\n",
       "-l & l^{2} - 1 \\\\\n",
       "1 & -l\n",
       "\\end{array}\\right), \\verb|sol| : \\left[\\right], \\verb|trace| : \\left[\\right]\\right\\}\\right)\n",
       "\\end{math}"
      ],
      "text/plain": [
       "('[0, 1, 1, 0, 0]',\n",
       " {'mon': [     -l l^2 - 1]\n",
       "  [      1      -l], 'sol': [], 'trace': []})"
      ]
     },
     "metadata": {},
     "output_type": "display_data"
    },
    {
     "data": {
      "text/html": [
       "<html><script type=\"math/tex; mode=display\">\\newcommand{\\Bold}[1]{\\mathbf{#1}}\\left(\\verb|[1,|\\phantom{\\verb!x!}\\verb|1,|\\phantom{\\verb!x!}\\verb|1,|\\phantom{\\verb!x!}\\verb|0,|\\phantom{\\verb!x!}\\verb|0]|, \\left\\{\\verb|mon| : \\left(\\begin{array}{rr}\n",
       "l^{3} - 2 \\, l & l^{2} - 1 \\\\\n",
       "-l^{2} + 1 & -l\n",
       "\\end{array}\\right), \\verb|sol| : \\left[-1, 1\\right], \\verb|trace| : \\left[2, -2\\right]\\right\\}\\right)</script></html>"
      ],
      "text/latex": [
       "\\begin{math}\n",
       "\\newcommand{\\Bold}[1]{\\mathbf{#1}}\\left(\\verb|[1,|\\phantom{\\verb!x!}\\verb|1,|\\phantom{\\verb!x!}\\verb|1,|\\phantom{\\verb!x!}\\verb|0,|\\phantom{\\verb!x!}\\verb|0]|, \\left\\{\\verb|mon| : \\left(\\begin{array}{rr}\n",
       "l^{3} - 2 \\, l & l^{2} - 1 \\\\\n",
       "-l^{2} + 1 & -l\n",
       "\\end{array}\\right), \\verb|sol| : \\left[-1, 1\\right], \\verb|trace| : \\left[2, -2\\right]\\right\\}\\right)\n",
       "\\end{math}"
      ],
      "text/plain": [
       "('[1, 1, 1, 0, 0]',\n",
       " {'mon': [l^3 - 2*l   l^2 - 1]\n",
       "  [ -l^2 + 1        -l], 'sol': [-1, 1], 'trace': [2, -2]})"
      ]
     },
     "metadata": {},
     "output_type": "display_data"
    },
    {
     "data": {
      "text/html": [
       "<html><script type=\"math/tex; mode=display\">\\newcommand{\\Bold}[1]{\\mathbf{#1}}\\left(\\verb|[0,|\\phantom{\\verb!x!}\\verb|0,|\\phantom{\\verb!x!}\\verb|0,|\\phantom{\\verb!x!}\\verb|1,|\\phantom{\\verb!x!}\\verb|0]|, \\left\\{\\verb|mon| : \\left(\\begin{array}{rr}\n",
       "0 & -1 \\\\\n",
       "1 & -l\n",
       "\\end{array}\\right), \\verb|sol| : \\left[\\right], \\verb|trace| : \\left[\\right]\\right\\}\\right)</script></html>"
      ],
      "text/latex": [
       "\\begin{math}\n",
       "\\newcommand{\\Bold}[1]{\\mathbf{#1}}\\left(\\verb|[0,|\\phantom{\\verb!x!}\\verb|0,|\\phantom{\\verb!x!}\\verb|0,|\\phantom{\\verb!x!}\\verb|1,|\\phantom{\\verb!x!}\\verb|0]|, \\left\\{\\verb|mon| : \\left(\\begin{array}{rr}\n",
       "0 & -1 \\\\\n",
       "1 & -l\n",
       "\\end{array}\\right), \\verb|sol| : \\left[\\right], \\verb|trace| : \\left[\\right]\\right\\}\\right)\n",
       "\\end{math}"
      ],
      "text/plain": [
       "('[0, 0, 0, 1, 0]',\n",
       " {'mon': [ 0 -1]\n",
       "  [ 1 -l], 'sol': [], 'trace': []})"
      ]
     },
     "metadata": {},
     "output_type": "display_data"
    },
    {
     "data": {
      "text/html": [
       "<html><script type=\"math/tex; mode=display\">\\newcommand{\\Bold}[1]{\\mathbf{#1}}\\left(\\verb|[1,|\\phantom{\\verb!x!}\\verb|0,|\\phantom{\\verb!x!}\\verb|0,|\\phantom{\\verb!x!}\\verb|1,|\\phantom{\\verb!x!}\\verb|0]|, \\left\\{\\verb|mon| : \\left(\\begin{array}{rr}\n",
       "-l & -1 \\\\\n",
       "-l^{2} + 1 & -l\n",
       "\\end{array}\\right), \\verb|sol| : \\left[-1, 1\\right], \\verb|trace| : \\left[2, -2\\right]\\right\\}\\right)</script></html>"
      ],
      "text/latex": [
       "\\begin{math}\n",
       "\\newcommand{\\Bold}[1]{\\mathbf{#1}}\\left(\\verb|[1,|\\phantom{\\verb!x!}\\verb|0,|\\phantom{\\verb!x!}\\verb|0,|\\phantom{\\verb!x!}\\verb|1,|\\phantom{\\verb!x!}\\verb|0]|, \\left\\{\\verb|mon| : \\left(\\begin{array}{rr}\n",
       "-l & -1 \\\\\n",
       "-l^{2} + 1 & -l\n",
       "\\end{array}\\right), \\verb|sol| : \\left[-1, 1\\right], \\verb|trace| : \\left[2, -2\\right]\\right\\}\\right)\n",
       "\\end{math}"
      ],
      "text/plain": [
       "('[1, 0, 0, 1, 0]',\n",
       " {'mon': [      -l       -1]\n",
       "  [-l^2 + 1       -l], 'sol': [-1, 1], 'trace': [2, -2]})"
      ]
     },
     "metadata": {},
     "output_type": "display_data"
    },
    {
     "data": {
      "text/html": [
       "<html><script type=\"math/tex; mode=display\">\\newcommand{\\Bold}[1]{\\mathbf{#1}}\\left(\\verb|[0,|\\phantom{\\verb!x!}\\verb|1,|\\phantom{\\verb!x!}\\verb|0,|\\phantom{\\verb!x!}\\verb|1,|\\phantom{\\verb!x!}\\verb|0]|, \\left\\{\\verb|mon| : \\left(\\begin{array}{rr}\n",
       "0 & -1 \\\\\n",
       "1 & -2 \\, l\n",
       "\\end{array}\\right), \\verb|sol| : \\left[\\right], \\verb|trace| : \\left[\\right]\\right\\}\\right)</script></html>"
      ],
      "text/latex": [
       "\\begin{math}\n",
       "\\newcommand{\\Bold}[1]{\\mathbf{#1}}\\left(\\verb|[0,|\\phantom{\\verb!x!}\\verb|1,|\\phantom{\\verb!x!}\\verb|0,|\\phantom{\\verb!x!}\\verb|1,|\\phantom{\\verb!x!}\\verb|0]|, \\left\\{\\verb|mon| : \\left(\\begin{array}{rr}\n",
       "0 & -1 \\\\\n",
       "1 & -2 \\, l\n",
       "\\end{array}\\right), \\verb|sol| : \\left[\\right], \\verb|trace| : \\left[\\right]\\right\\}\\right)\n",
       "\\end{math}"
      ],
      "text/plain": [
       "('[0, 1, 0, 1, 0]',\n",
       " {'mon': [   0   -1]\n",
       "  [   1 -2*l], 'sol': [], 'trace': []})"
      ]
     },
     "metadata": {},
     "output_type": "display_data"
    },
    {
     "data": {
      "text/html": [
       "<html><script type=\"math/tex; mode=display\">\\newcommand{\\Bold}[1]{\\mathbf{#1}}\\left(\\verb|[1,|\\phantom{\\verb!x!}\\verb|1,|\\phantom{\\verb!x!}\\verb|0,|\\phantom{\\verb!x!}\\verb|1,|\\phantom{\\verb!x!}\\verb|0]|, \\left\\{\\verb|mon| : \\left(\\begin{array}{rr}\n",
       "-l & -1 \\\\\n",
       "-2 \\, l^{2} + 1 & -2 \\, l\n",
       "\\end{array}\\right), \\verb|sol| : \\left[-\\frac{1}{2} \\, \\sqrt{2}, \\frac{1}{2} \\, \\sqrt{2}\\right], \\verb|trace| : \\left[\\frac{3}{2} \\, \\sqrt{2}, -\\frac{3}{2} \\, \\sqrt{2}\\right]\\right\\}\\right)</script></html>"
      ],
      "text/latex": [
       "\\begin{math}\n",
       "\\newcommand{\\Bold}[1]{\\mathbf{#1}}\\left(\\verb|[1,|\\phantom{\\verb!x!}\\verb|1,|\\phantom{\\verb!x!}\\verb|0,|\\phantom{\\verb!x!}\\verb|1,|\\phantom{\\verb!x!}\\verb|0]|, \\left\\{\\verb|mon| : \\left(\\begin{array}{rr}\n",
       "-l & -1 \\\\\n",
       "-2 \\, l^{2} + 1 & -2 \\, l\n",
       "\\end{array}\\right), \\verb|sol| : \\left[-\\frac{1}{2} \\, \\sqrt{2}, \\frac{1}{2} \\, \\sqrt{2}\\right], \\verb|trace| : \\left[\\frac{3}{2} \\, \\sqrt{2}, -\\frac{3}{2} \\, \\sqrt{2}\\right]\\right\\}\\right)\n",
       "\\end{math}"
      ],
      "text/plain": [
       "('[1, 1, 0, 1, 0]',\n",
       " {'mon': [        -l         -1]\n",
       "  [-2*l^2 + 1       -2*l],\n",
       "  'sol': [-1/2*sqrt(2), 1/2*sqrt(2)],\n",
       "  'trace': [3/2*sqrt(2), -3/2*sqrt(2)]})"
      ]
     },
     "metadata": {},
     "output_type": "display_data"
    },
    {
     "data": {
      "text/html": [
       "<html><script type=\"math/tex; mode=display\">\\newcommand{\\Bold}[1]{\\mathbf{#1}}\\left(\\verb|[0,|\\phantom{\\verb!x!}\\verb|0,|\\phantom{\\verb!x!}\\verb|1,|\\phantom{\\verb!x!}\\verb|1,|\\phantom{\\verb!x!}\\verb|0]|, \\left\\{\\verb|mon| : \\left(\\begin{array}{rr}\n",
       "-l & -1 \\\\\n",
       "-l^{2} + 1 & -l\n",
       "\\end{array}\\right), \\verb|sol| : \\left[-1, 1\\right], \\verb|trace| : \\left[2, -2\\right]\\right\\}\\right)</script></html>"
      ],
      "text/latex": [
       "\\begin{math}\n",
       "\\newcommand{\\Bold}[1]{\\mathbf{#1}}\\left(\\verb|[0,|\\phantom{\\verb!x!}\\verb|0,|\\phantom{\\verb!x!}\\verb|1,|\\phantom{\\verb!x!}\\verb|1,|\\phantom{\\verb!x!}\\verb|0]|, \\left\\{\\verb|mon| : \\left(\\begin{array}{rr}\n",
       "-l & -1 \\\\\n",
       "-l^{2} + 1 & -l\n",
       "\\end{array}\\right), \\verb|sol| : \\left[-1, 1\\right], \\verb|trace| : \\left[2, -2\\right]\\right\\}\\right)\n",
       "\\end{math}"
      ],
      "text/plain": [
       "('[0, 0, 1, 1, 0]',\n",
       " {'mon': [      -l       -1]\n",
       "  [-l^2 + 1       -l], 'sol': [-1, 1], 'trace': [2, -2]})"
      ]
     },
     "metadata": {},
     "output_type": "display_data"
    },
    {
     "data": {
      "text/html": [
       "<html><script type=\"math/tex; mode=display\">\\newcommand{\\Bold}[1]{\\mathbf{#1}}\\left(\\verb|[1,|\\phantom{\\verb!x!}\\verb|0,|\\phantom{\\verb!x!}\\verb|1,|\\phantom{\\verb!x!}\\verb|1,|\\phantom{\\verb!x!}\\verb|0]|, \\left\\{\\verb|mon| : \\left(\\begin{array}{rr}\n",
       "-2 \\, l & -1 \\\\\n",
       "-2 \\, l^{2} + 1 & -l\n",
       "\\end{array}\\right), \\verb|sol| : \\left[-\\frac{1}{2} \\, \\sqrt{2}, \\frac{1}{2} \\, \\sqrt{2}\\right], \\verb|trace| : \\left[\\frac{3}{2} \\, \\sqrt{2}, -\\frac{3}{2} \\, \\sqrt{2}\\right]\\right\\}\\right)</script></html>"
      ],
      "text/latex": [
       "\\begin{math}\n",
       "\\newcommand{\\Bold}[1]{\\mathbf{#1}}\\left(\\verb|[1,|\\phantom{\\verb!x!}\\verb|0,|\\phantom{\\verb!x!}\\verb|1,|\\phantom{\\verb!x!}\\verb|1,|\\phantom{\\verb!x!}\\verb|0]|, \\left\\{\\verb|mon| : \\left(\\begin{array}{rr}\n",
       "-2 \\, l & -1 \\\\\n",
       "-2 \\, l^{2} + 1 & -l\n",
       "\\end{array}\\right), \\verb|sol| : \\left[-\\frac{1}{2} \\, \\sqrt{2}, \\frac{1}{2} \\, \\sqrt{2}\\right], \\verb|trace| : \\left[\\frac{3}{2} \\, \\sqrt{2}, -\\frac{3}{2} \\, \\sqrt{2}\\right]\\right\\}\\right)\n",
       "\\end{math}"
      ],
      "text/plain": [
       "('[1, 0, 1, 1, 0]',\n",
       " {'mon': [      -2*l         -1]\n",
       "  [-2*l^2 + 1         -l],\n",
       "  'sol': [-1/2*sqrt(2), 1/2*sqrt(2)],\n",
       "  'trace': [3/2*sqrt(2), -3/2*sqrt(2)]})"
      ]
     },
     "metadata": {},
     "output_type": "display_data"
    },
    {
     "data": {
      "text/html": [
       "<html><script type=\"math/tex; mode=display\">\\newcommand{\\Bold}[1]{\\mathbf{#1}}\\left(\\verb|[0,|\\phantom{\\verb!x!}\\verb|1,|\\phantom{\\verb!x!}\\verb|1,|\\phantom{\\verb!x!}\\verb|1,|\\phantom{\\verb!x!}\\verb|0]|, \\left\\{\\verb|mon| : \\left(\\begin{array}{rr}\n",
       "-l & l^{2} - 1 \\\\\n",
       "-l^{2} + 1 & l^{3} - 2 \\, l\n",
       "\\end{array}\\right), \\verb|sol| : \\left[-1, 1\\right], \\verb|trace| : \\left[2, -2\\right]\\right\\}\\right)</script></html>"
      ],
      "text/latex": [
       "\\begin{math}\n",
       "\\newcommand{\\Bold}[1]{\\mathbf{#1}}\\left(\\verb|[0,|\\phantom{\\verb!x!}\\verb|1,|\\phantom{\\verb!x!}\\verb|1,|\\phantom{\\verb!x!}\\verb|1,|\\phantom{\\verb!x!}\\verb|0]|, \\left\\{\\verb|mon| : \\left(\\begin{array}{rr}\n",
       "-l & l^{2} - 1 \\\\\n",
       "-l^{2} + 1 & l^{3} - 2 \\, l\n",
       "\\end{array}\\right), \\verb|sol| : \\left[-1, 1\\right], \\verb|trace| : \\left[2, -2\\right]\\right\\}\\right)\n",
       "\\end{math}"
      ],
      "text/plain": [
       "('[0, 1, 1, 1, 0]',\n",
       " {'mon': [       -l   l^2 - 1]\n",
       "  [ -l^2 + 1 l^3 - 2*l], 'sol': [-1, 1], 'trace': [2, -2]})"
      ]
     },
     "metadata": {},
     "output_type": "display_data"
    },
    {
     "data": {
      "text/html": [
       "<html><script type=\"math/tex; mode=display\">\\newcommand{\\Bold}[1]{\\mathbf{#1}}\\left(\\verb|[1,|\\phantom{\\verb!x!}\\verb|1,|\\phantom{\\verb!x!}\\verb|1,|\\phantom{\\verb!x!}\\verb|1,|\\phantom{\\verb!x!}\\verb|0]|, \\left\\{\\verb|mon| : \\left(\\begin{array}{rr}\n",
       "l^{3} - 2 \\, l & l^{2} - 1 \\\\\n",
       "l^{4} - 3 \\, l^{2} + 1 & l^{3} - 2 \\, l\n",
       "\\end{array}\\right), \\verb|sol| : \\left[-\\sqrt{\\frac{1}{2} \\, \\sqrt{5} + \\frac{3}{2}}, -\\sqrt{-\\frac{1}{2} \\, \\sqrt{5} + \\frac{3}{2}}, \\sqrt{-\\frac{1}{2} \\, \\sqrt{5} + \\frac{3}{2}}, \\sqrt{\\frac{1}{2} \\, \\sqrt{5} + \\frac{3}{2}}\\right], \\verb|trace| : \\left[-2 \\, {\\left(\\frac{1}{2} \\, \\sqrt{5} + \\frac{3}{2}\\right)}^{\\frac{3}{2}} + 4 \\, \\sqrt{\\frac{1}{2} \\, \\sqrt{5} + \\frac{3}{2}}, -2 \\, {\\left(-\\frac{1}{2} \\, \\sqrt{5} + \\frac{3}{2}\\right)}^{\\frac{3}{2}} + 4 \\, \\sqrt{-\\frac{1}{2} \\, \\sqrt{5} + \\frac{3}{2}}, 2 \\, {\\left(-\\frac{1}{2} \\, \\sqrt{5} + \\frac{3}{2}\\right)}^{\\frac{3}{2}} - 4 \\, \\sqrt{-\\frac{1}{2} \\, \\sqrt{5} + \\frac{3}{2}}, 2 \\, {\\left(\\frac{1}{2} \\, \\sqrt{5} + \\frac{3}{2}\\right)}^{\\frac{3}{2}} - 4 \\, \\sqrt{\\frac{1}{2} \\, \\sqrt{5} + \\frac{3}{2}}\\right]\\right\\}\\right)</script></html>"
      ],
      "text/latex": [
       "\\begin{math}\n",
       "\\newcommand{\\Bold}[1]{\\mathbf{#1}}\\left(\\verb|[1,|\\phantom{\\verb!x!}\\verb|1,|\\phantom{\\verb!x!}\\verb|1,|\\phantom{\\verb!x!}\\verb|1,|\\phantom{\\verb!x!}\\verb|0]|, \\left\\{\\verb|mon| : \\left(\\begin{array}{rr}\n",
       "l^{3} - 2 \\, l & l^{2} - 1 \\\\\n",
       "l^{4} - 3 \\, l^{2} + 1 & l^{3} - 2 \\, l\n",
       "\\end{array}\\right), \\verb|sol| : \\left[-\\sqrt{\\frac{1}{2} \\, \\sqrt{5} + \\frac{3}{2}}, -\\sqrt{-\\frac{1}{2} \\, \\sqrt{5} + \\frac{3}{2}}, \\sqrt{-\\frac{1}{2} \\, \\sqrt{5} + \\frac{3}{2}}, \\sqrt{\\frac{1}{2} \\, \\sqrt{5} + \\frac{3}{2}}\\right], \\verb|trace| : \\left[-2 \\, {\\left(\\frac{1}{2} \\, \\sqrt{5} + \\frac{3}{2}\\right)}^{\\frac{3}{2}} + 4 \\, \\sqrt{\\frac{1}{2} \\, \\sqrt{5} + \\frac{3}{2}}, -2 \\, {\\left(-\\frac{1}{2} \\, \\sqrt{5} + \\frac{3}{2}\\right)}^{\\frac{3}{2}} + 4 \\, \\sqrt{-\\frac{1}{2} \\, \\sqrt{5} + \\frac{3}{2}}, 2 \\, {\\left(-\\frac{1}{2} \\, \\sqrt{5} + \\frac{3}{2}\\right)}^{\\frac{3}{2}} - 4 \\, \\sqrt{-\\frac{1}{2} \\, \\sqrt{5} + \\frac{3}{2}}, 2 \\, {\\left(\\frac{1}{2} \\, \\sqrt{5} + \\frac{3}{2}\\right)}^{\\frac{3}{2}} - 4 \\, \\sqrt{\\frac{1}{2} \\, \\sqrt{5} + \\frac{3}{2}}\\right]\\right\\}\\right)\n",
       "\\end{math}"
      ],
      "text/plain": [
       "('[1, 1, 1, 1, 0]',\n",
       " {'mon': [      l^3 - 2*l         l^2 - 1]\n",
       "  [l^4 - 3*l^2 + 1       l^3 - 2*l],\n",
       "  'sol': [-sqrt(1/2*sqrt(5) + 3/2),\n",
       "   -sqrt(-1/2*sqrt(5) + 3/2),\n",
       "   sqrt(-1/2*sqrt(5) + 3/2),\n",
       "   sqrt(1/2*sqrt(5) + 3/2)],\n",
       "  'trace': [-2*(1/2*sqrt(5) + 3/2)^(3/2) + 4*sqrt(1/2*sqrt(5) + 3/2),\n",
       "   -2*(-1/2*sqrt(5) + 3/2)^(3/2) + 4*sqrt(-1/2*sqrt(5) + 3/2),\n",
       "   2*(-1/2*sqrt(5) + 3/2)^(3/2) - 4*sqrt(-1/2*sqrt(5) + 3/2),\n",
       "   2*(1/2*sqrt(5) + 3/2)^(3/2) - 4*sqrt(1/2*sqrt(5) + 3/2)]})"
      ]
     },
     "metadata": {},
     "output_type": "display_data"
    },
    {
     "data": {
      "text/html": [
       "<html><script type=\"math/tex; mode=display\">\\newcommand{\\Bold}[1]{\\mathbf{#1}}\\left(\\verb|[0,|\\phantom{\\verb!x!}\\verb|0,|\\phantom{\\verb!x!}\\verb|0,|\\phantom{\\verb!x!}\\verb|0,|\\phantom{\\verb!x!}\\verb|1]|, \\left\\{\\verb|mon| : \\left(\\begin{array}{rr}\n",
       "-l & -1 \\\\\n",
       "1 & 0\n",
       "\\end{array}\\right), \\verb|sol| : \\left[\\right], \\verb|trace| : \\left[\\right]\\right\\}\\right)</script></html>"
      ],
      "text/latex": [
       "\\begin{math}\n",
       "\\newcommand{\\Bold}[1]{\\mathbf{#1}}\\left(\\verb|[0,|\\phantom{\\verb!x!}\\verb|0,|\\phantom{\\verb!x!}\\verb|0,|\\phantom{\\verb!x!}\\verb|0,|\\phantom{\\verb!x!}\\verb|1]|, \\left\\{\\verb|mon| : \\left(\\begin{array}{rr}\n",
       "-l & -1 \\\\\n",
       "1 & 0\n",
       "\\end{array}\\right), \\verb|sol| : \\left[\\right], \\verb|trace| : \\left[\\right]\\right\\}\\right)\n",
       "\\end{math}"
      ],
      "text/plain": [
       "('[0, 0, 0, 0, 1]',\n",
       " {'mon': [-l -1]\n",
       "  [ 1  0], 'sol': [], 'trace': []})"
      ]
     },
     "metadata": {},
     "output_type": "display_data"
    },
    {
     "data": {
      "text/html": [
       "<html><script type=\"math/tex; mode=display\">\\newcommand{\\Bold}[1]{\\mathbf{#1}}\\left(\\verb|[1,|\\phantom{\\verb!x!}\\verb|0,|\\phantom{\\verb!x!}\\verb|0,|\\phantom{\\verb!x!}\\verb|0,|\\phantom{\\verb!x!}\\verb|1]|, \\left\\{\\verb|mon| : \\left(\\begin{array}{rr}\n",
       "-2 \\, l & -1 \\\\\n",
       "1 & 0\n",
       "\\end{array}\\right), \\verb|sol| : \\left[\\right], \\verb|trace| : \\left[\\right]\\right\\}\\right)</script></html>"
      ],
      "text/latex": [
       "\\begin{math}\n",
       "\\newcommand{\\Bold}[1]{\\mathbf{#1}}\\left(\\verb|[1,|\\phantom{\\verb!x!}\\verb|0,|\\phantom{\\verb!x!}\\verb|0,|\\phantom{\\verb!x!}\\verb|0,|\\phantom{\\verb!x!}\\verb|1]|, \\left\\{\\verb|mon| : \\left(\\begin{array}{rr}\n",
       "-2 \\, l & -1 \\\\\n",
       "1 & 0\n",
       "\\end{array}\\right), \\verb|sol| : \\left[\\right], \\verb|trace| : \\left[\\right]\\right\\}\\right)\n",
       "\\end{math}"
      ],
      "text/plain": [
       "('[1, 0, 0, 0, 1]',\n",
       " {'mon': [-2*l   -1]\n",
       "  [   1    0], 'sol': [], 'trace': []})"
      ]
     },
     "metadata": {},
     "output_type": "display_data"
    },
    {
     "data": {
      "text/html": [
       "<html><script type=\"math/tex; mode=display\">\\newcommand{\\Bold}[1]{\\mathbf{#1}}\\left(\\verb|[0,|\\phantom{\\verb!x!}\\verb|1,|\\phantom{\\verb!x!}\\verb|0,|\\phantom{\\verb!x!}\\verb|0,|\\phantom{\\verb!x!}\\verb|1]|, \\left\\{\\verb|mon| : \\left(\\begin{array}{rr}\n",
       "-l & l^{2} - 1 \\\\\n",
       "1 & -l\n",
       "\\end{array}\\right), \\verb|sol| : \\left[\\right], \\verb|trace| : \\left[\\right]\\right\\}\\right)</script></html>"
      ],
      "text/latex": [
       "\\begin{math}\n",
       "\\newcommand{\\Bold}[1]{\\mathbf{#1}}\\left(\\verb|[0,|\\phantom{\\verb!x!}\\verb|1,|\\phantom{\\verb!x!}\\verb|0,|\\phantom{\\verb!x!}\\verb|0,|\\phantom{\\verb!x!}\\verb|1]|, \\left\\{\\verb|mon| : \\left(\\begin{array}{rr}\n",
       "-l & l^{2} - 1 \\\\\n",
       "1 & -l\n",
       "\\end{array}\\right), \\verb|sol| : \\left[\\right], \\verb|trace| : \\left[\\right]\\right\\}\\right)\n",
       "\\end{math}"
      ],
      "text/plain": [
       "('[0, 1, 0, 0, 1]',\n",
       " {'mon': [     -l l^2 - 1]\n",
       "  [      1      -l], 'sol': [], 'trace': []})"
      ]
     },
     "metadata": {},
     "output_type": "display_data"
    },
    {
     "data": {
      "text/html": [
       "<html><script type=\"math/tex; mode=display\">\\newcommand{\\Bold}[1]{\\mathbf{#1}}\\left(\\verb|[1,|\\phantom{\\verb!x!}\\verb|1,|\\phantom{\\verb!x!}\\verb|0,|\\phantom{\\verb!x!}\\verb|0,|\\phantom{\\verb!x!}\\verb|1]|, \\left\\{\\verb|mon| : \\left(\\begin{array}{rr}\n",
       "l^{3} - 2 \\, l & l^{2} - 1 \\\\\n",
       "-l^{2} + 1 & -l\n",
       "\\end{array}\\right), \\verb|sol| : \\left[-1, 1\\right], \\verb|trace| : \\left[2, -2\\right]\\right\\}\\right)</script></html>"
      ],
      "text/latex": [
       "\\begin{math}\n",
       "\\newcommand{\\Bold}[1]{\\mathbf{#1}}\\left(\\verb|[1,|\\phantom{\\verb!x!}\\verb|1,|\\phantom{\\verb!x!}\\verb|0,|\\phantom{\\verb!x!}\\verb|0,|\\phantom{\\verb!x!}\\verb|1]|, \\left\\{\\verb|mon| : \\left(\\begin{array}{rr}\n",
       "l^{3} - 2 \\, l & l^{2} - 1 \\\\\n",
       "-l^{2} + 1 & -l\n",
       "\\end{array}\\right), \\verb|sol| : \\left[-1, 1\\right], \\verb|trace| : \\left[2, -2\\right]\\right\\}\\right)\n",
       "\\end{math}"
      ],
      "text/plain": [
       "('[1, 1, 0, 0, 1]',\n",
       " {'mon': [l^3 - 2*l   l^2 - 1]\n",
       "  [ -l^2 + 1        -l], 'sol': [-1, 1], 'trace': [2, -2]})"
      ]
     },
     "metadata": {},
     "output_type": "display_data"
    },
    {
     "data": {
      "text/html": [
       "<html><script type=\"math/tex; mode=display\">\\newcommand{\\Bold}[1]{\\mathbf{#1}}\\left(\\verb|[0,|\\phantom{\\verb!x!}\\verb|0,|\\phantom{\\verb!x!}\\verb|1,|\\phantom{\\verb!x!}\\verb|0,|\\phantom{\\verb!x!}\\verb|1]|, \\left\\{\\verb|mon| : \\left(\\begin{array}{rr}\n",
       "-2 \\, l & -1 \\\\\n",
       "1 & 0\n",
       "\\end{array}\\right), \\verb|sol| : \\left[\\right], \\verb|trace| : \\left[\\right]\\right\\}\\right)</script></html>"
      ],
      "text/latex": [
       "\\begin{math}\n",
       "\\newcommand{\\Bold}[1]{\\mathbf{#1}}\\left(\\verb|[0,|\\phantom{\\verb!x!}\\verb|0,|\\phantom{\\verb!x!}\\verb|1,|\\phantom{\\verb!x!}\\verb|0,|\\phantom{\\verb!x!}\\verb|1]|, \\left\\{\\verb|mon| : \\left(\\begin{array}{rr}\n",
       "-2 \\, l & -1 \\\\\n",
       "1 & 0\n",
       "\\end{array}\\right), \\verb|sol| : \\left[\\right], \\verb|trace| : \\left[\\right]\\right\\}\\right)\n",
       "\\end{math}"
      ],
      "text/plain": [
       "('[0, 0, 1, 0, 1]',\n",
       " {'mon': [-2*l   -1]\n",
       "  [   1    0], 'sol': [], 'trace': []})"
      ]
     },
     "metadata": {},
     "output_type": "display_data"
    },
    {
     "data": {
      "text/html": [
       "<html><script type=\"math/tex; mode=display\">\\newcommand{\\Bold}[1]{\\mathbf{#1}}\\left(\\verb|[1,|\\phantom{\\verb!x!}\\verb|0,|\\phantom{\\verb!x!}\\verb|1,|\\phantom{\\verb!x!}\\verb|0,|\\phantom{\\verb!x!}\\verb|1]|, \\left\\{\\verb|mon| : \\left(\\begin{array}{rr}\n",
       "-3 \\, l & -1 \\\\\n",
       "1 & 0\n",
       "\\end{array}\\right), \\verb|sol| : \\left[\\right], \\verb|trace| : \\left[\\right]\\right\\}\\right)</script></html>"
      ],
      "text/latex": [
       "\\begin{math}\n",
       "\\newcommand{\\Bold}[1]{\\mathbf{#1}}\\left(\\verb|[1,|\\phantom{\\verb!x!}\\verb|0,|\\phantom{\\verb!x!}\\verb|1,|\\phantom{\\verb!x!}\\verb|0,|\\phantom{\\verb!x!}\\verb|1]|, \\left\\{\\verb|mon| : \\left(\\begin{array}{rr}\n",
       "-3 \\, l & -1 \\\\\n",
       "1 & 0\n",
       "\\end{array}\\right), \\verb|sol| : \\left[\\right], \\verb|trace| : \\left[\\right]\\right\\}\\right)\n",
       "\\end{math}"
      ],
      "text/plain": [
       "('[1, 0, 1, 0, 1]',\n",
       " {'mon': [-3*l   -1]\n",
       "  [   1    0], 'sol': [], 'trace': []})"
      ]
     },
     "metadata": {},
     "output_type": "display_data"
    },
    {
     "data": {
      "text/html": [
       "<html><script type=\"math/tex; mode=display\">\\newcommand{\\Bold}[1]{\\mathbf{#1}}\\left(\\verb|[0,|\\phantom{\\verb!x!}\\verb|1,|\\phantom{\\verb!x!}\\verb|1,|\\phantom{\\verb!x!}\\verb|0,|\\phantom{\\verb!x!}\\verb|1]|, \\left\\{\\verb|mon| : \\left(\\begin{array}{rr}\n",
       "-2 \\, l & 2 \\, l^{2} - 1 \\\\\n",
       "1 & -l\n",
       "\\end{array}\\right), \\verb|sol| : \\left[\\right], \\verb|trace| : \\left[\\right]\\right\\}\\right)</script></html>"
      ],
      "text/latex": [
       "\\begin{math}\n",
       "\\newcommand{\\Bold}[1]{\\mathbf{#1}}\\left(\\verb|[0,|\\phantom{\\verb!x!}\\verb|1,|\\phantom{\\verb!x!}\\verb|1,|\\phantom{\\verb!x!}\\verb|0,|\\phantom{\\verb!x!}\\verb|1]|, \\left\\{\\verb|mon| : \\left(\\begin{array}{rr}\n",
       "-2 \\, l & 2 \\, l^{2} - 1 \\\\\n",
       "1 & -l\n",
       "\\end{array}\\right), \\verb|sol| : \\left[\\right], \\verb|trace| : \\left[\\right]\\right\\}\\right)\n",
       "\\end{math}"
      ],
      "text/plain": [
       "('[0, 1, 1, 0, 1]',\n",
       " {'mon': [     -2*l 2*l^2 - 1]\n",
       "  [        1        -l], 'sol': [], 'trace': []})"
      ]
     },
     "metadata": {},
     "output_type": "display_data"
    },
    {
     "data": {
      "text/html": [
       "<html><script type=\"math/tex; mode=display\">\\newcommand{\\Bold}[1]{\\mathbf{#1}}\\left(\\verb|[1,|\\phantom{\\verb!x!}\\verb|1,|\\phantom{\\verb!x!}\\verb|1,|\\phantom{\\verb!x!}\\verb|0,|\\phantom{\\verb!x!}\\verb|1]|, \\left\\{\\verb|mon| : \\left(\\begin{array}{rr}\n",
       "2 \\, l^{3} - 3 \\, l & 2 \\, l^{2} - 1 \\\\\n",
       "-l^{2} + 1 & -l\n",
       "\\end{array}\\right), \\verb|sol| : \\left[-1, 1\\right], \\verb|trace| : \\left[2, -2\\right]\\right\\}\\right)</script></html>"
      ],
      "text/latex": [
       "\\begin{math}\n",
       "\\newcommand{\\Bold}[1]{\\mathbf{#1}}\\left(\\verb|[1,|\\phantom{\\verb!x!}\\verb|1,|\\phantom{\\verb!x!}\\verb|1,|\\phantom{\\verb!x!}\\verb|0,|\\phantom{\\verb!x!}\\verb|1]|, \\left\\{\\verb|mon| : \\left(\\begin{array}{rr}\n",
       "2 \\, l^{3} - 3 \\, l & 2 \\, l^{2} - 1 \\\\\n",
       "-l^{2} + 1 & -l\n",
       "\\end{array}\\right), \\verb|sol| : \\left[-1, 1\\right], \\verb|trace| : \\left[2, -2\\right]\\right\\}\\right)\n",
       "\\end{math}"
      ],
      "text/plain": [
       "('[1, 1, 1, 0, 1]',\n",
       " {'mon': [2*l^3 - 3*l   2*l^2 - 1]\n",
       "  [   -l^2 + 1          -l], 'sol': [-1, 1], 'trace': [2, -2]})"
      ]
     },
     "metadata": {},
     "output_type": "display_data"
    },
    {
     "data": {
      "text/html": [
       "<html><script type=\"math/tex; mode=display\">\\newcommand{\\Bold}[1]{\\mathbf{#1}}\\left(\\verb|[0,|\\phantom{\\verb!x!}\\verb|0,|\\phantom{\\verb!x!}\\verb|0,|\\phantom{\\verb!x!}\\verb|1,|\\phantom{\\verb!x!}\\verb|1]|, \\left\\{\\verb|mon| : \\left(\\begin{array}{rr}\n",
       "-l & l^{2} - 1 \\\\\n",
       "1 & -l\n",
       "\\end{array}\\right), \\verb|sol| : \\left[\\right], \\verb|trace| : \\left[\\right]\\right\\}\\right)</script></html>"
      ],
      "text/latex": [
       "\\begin{math}\n",
       "\\newcommand{\\Bold}[1]{\\mathbf{#1}}\\left(\\verb|[0,|\\phantom{\\verb!x!}\\verb|0,|\\phantom{\\verb!x!}\\verb|0,|\\phantom{\\verb!x!}\\verb|1,|\\phantom{\\verb!x!}\\verb|1]|, \\left\\{\\verb|mon| : \\left(\\begin{array}{rr}\n",
       "-l & l^{2} - 1 \\\\\n",
       "1 & -l\n",
       "\\end{array}\\right), \\verb|sol| : \\left[\\right], \\verb|trace| : \\left[\\right]\\right\\}\\right)\n",
       "\\end{math}"
      ],
      "text/plain": [
       "('[0, 0, 0, 1, 1]',\n",
       " {'mon': [     -l l^2 - 1]\n",
       "  [      1      -l], 'sol': [], 'trace': []})"
      ]
     },
     "metadata": {},
     "output_type": "display_data"
    },
    {
     "data": {
      "text/html": [
       "<html><script type=\"math/tex; mode=display\">\\newcommand{\\Bold}[1]{\\mathbf{#1}}\\left(\\verb|[1,|\\phantom{\\verb!x!}\\verb|0,|\\phantom{\\verb!x!}\\verb|0,|\\phantom{\\verb!x!}\\verb|1,|\\phantom{\\verb!x!}\\verb|1]|, \\left\\{\\verb|mon| : \\left(\\begin{array}{rr}\n",
       "l^{3} - 2 \\, l & l^{2} - 1 \\\\\n",
       "-l^{2} + 1 & -l\n",
       "\\end{array}\\right), \\verb|sol| : \\left[-1, 1\\right], \\verb|trace| : \\left[2, -2\\right]\\right\\}\\right)</script></html>"
      ],
      "text/latex": [
       "\\begin{math}\n",
       "\\newcommand{\\Bold}[1]{\\mathbf{#1}}\\left(\\verb|[1,|\\phantom{\\verb!x!}\\verb|0,|\\phantom{\\verb!x!}\\verb|0,|\\phantom{\\verb!x!}\\verb|1,|\\phantom{\\verb!x!}\\verb|1]|, \\left\\{\\verb|mon| : \\left(\\begin{array}{rr}\n",
       "l^{3} - 2 \\, l & l^{2} - 1 \\\\\n",
       "-l^{2} + 1 & -l\n",
       "\\end{array}\\right), \\verb|sol| : \\left[-1, 1\\right], \\verb|trace| : \\left[2, -2\\right]\\right\\}\\right)\n",
       "\\end{math}"
      ],
      "text/plain": [
       "('[1, 0, 0, 1, 1]',\n",
       " {'mon': [l^3 - 2*l   l^2 - 1]\n",
       "  [ -l^2 + 1        -l], 'sol': [-1, 1], 'trace': [2, -2]})"
      ]
     },
     "metadata": {},
     "output_type": "display_data"
    },
    {
     "data": {
      "text/html": [
       "<html><script type=\"math/tex; mode=display\">\\newcommand{\\Bold}[1]{\\mathbf{#1}}\\left(\\verb|[0,|\\phantom{\\verb!x!}\\verb|1,|\\phantom{\\verb!x!}\\verb|0,|\\phantom{\\verb!x!}\\verb|1,|\\phantom{\\verb!x!}\\verb|1]|, \\left\\{\\verb|mon| : \\left(\\begin{array}{rr}\n",
       "-l & 2 \\, l^{2} - 1 \\\\\n",
       "1 & -2 \\, l\n",
       "\\end{array}\\right), \\verb|sol| : \\left[\\right], \\verb|trace| : \\left[\\right]\\right\\}\\right)</script></html>"
      ],
      "text/latex": [
       "\\begin{math}\n",
       "\\newcommand{\\Bold}[1]{\\mathbf{#1}}\\left(\\verb|[0,|\\phantom{\\verb!x!}\\verb|1,|\\phantom{\\verb!x!}\\verb|0,|\\phantom{\\verb!x!}\\verb|1,|\\phantom{\\verb!x!}\\verb|1]|, \\left\\{\\verb|mon| : \\left(\\begin{array}{rr}\n",
       "-l & 2 \\, l^{2} - 1 \\\\\n",
       "1 & -2 \\, l\n",
       "\\end{array}\\right), \\verb|sol| : \\left[\\right], \\verb|trace| : \\left[\\right]\\right\\}\\right)\n",
       "\\end{math}"
      ],
      "text/plain": [
       "('[0, 1, 0, 1, 1]',\n",
       " {'mon': [       -l 2*l^2 - 1]\n",
       "  [        1      -2*l], 'sol': [], 'trace': []})"
      ]
     },
     "metadata": {},
     "output_type": "display_data"
    },
    {
     "data": {
      "text/html": [
       "<html><script type=\"math/tex; mode=display\">\\newcommand{\\Bold}[1]{\\mathbf{#1}}\\left(\\verb|[1,|\\phantom{\\verb!x!}\\verb|1,|\\phantom{\\verb!x!}\\verb|0,|\\phantom{\\verb!x!}\\verb|1,|\\phantom{\\verb!x!}\\verb|1]|, \\left\\{\\verb|mon| : \\left(\\begin{array}{rr}\n",
       "2 \\, l^{3} - 2 \\, l & 2 \\, l^{2} - 1 \\\\\n",
       "-2 \\, l^{2} + 1 & -2 \\, l\n",
       "\\end{array}\\right), \\verb|sol| : \\left[-\\frac{1}{2} \\, \\sqrt{2}, \\frac{1}{2} \\, \\sqrt{2}\\right], \\verb|trace| : \\left[\\frac{3}{2} \\, \\sqrt{2}, -\\frac{3}{2} \\, \\sqrt{2}\\right]\\right\\}\\right)</script></html>"
      ],
      "text/latex": [
       "\\begin{math}\n",
       "\\newcommand{\\Bold}[1]{\\mathbf{#1}}\\left(\\verb|[1,|\\phantom{\\verb!x!}\\verb|1,|\\phantom{\\verb!x!}\\verb|0,|\\phantom{\\verb!x!}\\verb|1,|\\phantom{\\verb!x!}\\verb|1]|, \\left\\{\\verb|mon| : \\left(\\begin{array}{rr}\n",
       "2 \\, l^{3} - 2 \\, l & 2 \\, l^{2} - 1 \\\\\n",
       "-2 \\, l^{2} + 1 & -2 \\, l\n",
       "\\end{array}\\right), \\verb|sol| : \\left[-\\frac{1}{2} \\, \\sqrt{2}, \\frac{1}{2} \\, \\sqrt{2}\\right], \\verb|trace| : \\left[\\frac{3}{2} \\, \\sqrt{2}, -\\frac{3}{2} \\, \\sqrt{2}\\right]\\right\\}\\right)\n",
       "\\end{math}"
      ],
      "text/plain": [
       "('[1, 1, 0, 1, 1]',\n",
       " {'mon': [2*l^3 - 2*l   2*l^2 - 1]\n",
       "  [ -2*l^2 + 1        -2*l],\n",
       "  'sol': [-1/2*sqrt(2), 1/2*sqrt(2)],\n",
       "  'trace': [3/2*sqrt(2), -3/2*sqrt(2)]})"
      ]
     },
     "metadata": {},
     "output_type": "display_data"
    },
    {
     "data": {
      "text/html": [
       "<html><script type=\"math/tex; mode=display\">\\newcommand{\\Bold}[1]{\\mathbf{#1}}\\left(\\verb|[0,|\\phantom{\\verb!x!}\\verb|0,|\\phantom{\\verb!x!}\\verb|1,|\\phantom{\\verb!x!}\\verb|1,|\\phantom{\\verb!x!}\\verb|1]|, \\left\\{\\verb|mon| : \\left(\\begin{array}{rr}\n",
       "l^{3} - 2 \\, l & l^{2} - 1 \\\\\n",
       "-l^{2} + 1 & -l\n",
       "\\end{array}\\right), \\verb|sol| : \\left[-1, 1\\right], \\verb|trace| : \\left[2, -2\\right]\\right\\}\\right)</script></html>"
      ],
      "text/latex": [
       "\\begin{math}\n",
       "\\newcommand{\\Bold}[1]{\\mathbf{#1}}\\left(\\verb|[0,|\\phantom{\\verb!x!}\\verb|0,|\\phantom{\\verb!x!}\\verb|1,|\\phantom{\\verb!x!}\\verb|1,|\\phantom{\\verb!x!}\\verb|1]|, \\left\\{\\verb|mon| : \\left(\\begin{array}{rr}\n",
       "l^{3} - 2 \\, l & l^{2} - 1 \\\\\n",
       "-l^{2} + 1 & -l\n",
       "\\end{array}\\right), \\verb|sol| : \\left[-1, 1\\right], \\verb|trace| : \\left[2, -2\\right]\\right\\}\\right)\n",
       "\\end{math}"
      ],
      "text/plain": [
       "('[0, 0, 1, 1, 1]',\n",
       " {'mon': [l^3 - 2*l   l^2 - 1]\n",
       "  [ -l^2 + 1        -l], 'sol': [-1, 1], 'trace': [2, -2]})"
      ]
     },
     "metadata": {},
     "output_type": "display_data"
    },
    {
     "data": {
      "text/html": [
       "<html><script type=\"math/tex; mode=display\">\\newcommand{\\Bold}[1]{\\mathbf{#1}}\\left(\\verb|[1,|\\phantom{\\verb!x!}\\verb|0,|\\phantom{\\verb!x!}\\verb|1,|\\phantom{\\verb!x!}\\verb|1,|\\phantom{\\verb!x!}\\verb|1]|, \\left\\{\\verb|mon| : \\left(\\begin{array}{rr}\n",
       "2 \\, l^{3} - 3 \\, l & l^{2} - 1 \\\\\n",
       "-2 \\, l^{2} + 1 & -l\n",
       "\\end{array}\\right), \\verb|sol| : \\left[-\\frac{1}{2} \\, \\sqrt{2}, \\frac{1}{2} \\, \\sqrt{2}\\right], \\verb|trace| : \\left[\\frac{3}{2} \\, \\sqrt{2}, -\\frac{3}{2} \\, \\sqrt{2}\\right]\\right\\}\\right)</script></html>"
      ],
      "text/latex": [
       "\\begin{math}\n",
       "\\newcommand{\\Bold}[1]{\\mathbf{#1}}\\left(\\verb|[1,|\\phantom{\\verb!x!}\\verb|0,|\\phantom{\\verb!x!}\\verb|1,|\\phantom{\\verb!x!}\\verb|1,|\\phantom{\\verb!x!}\\verb|1]|, \\left\\{\\verb|mon| : \\left(\\begin{array}{rr}\n",
       "2 \\, l^{3} - 3 \\, l & l^{2} - 1 \\\\\n",
       "-2 \\, l^{2} + 1 & -l\n",
       "\\end{array}\\right), \\verb|sol| : \\left[-\\frac{1}{2} \\, \\sqrt{2}, \\frac{1}{2} \\, \\sqrt{2}\\right], \\verb|trace| : \\left[\\frac{3}{2} \\, \\sqrt{2}, -\\frac{3}{2} \\, \\sqrt{2}\\right]\\right\\}\\right)\n",
       "\\end{math}"
      ],
      "text/plain": [
       "('[1, 0, 1, 1, 1]',\n",
       " {'mon': [2*l^3 - 3*l     l^2 - 1]\n",
       "  [ -2*l^2 + 1          -l],\n",
       "  'sol': [-1/2*sqrt(2), 1/2*sqrt(2)],\n",
       "  'trace': [3/2*sqrt(2), -3/2*sqrt(2)]})"
      ]
     },
     "metadata": {},
     "output_type": "display_data"
    },
    {
     "data": {
      "text/html": [
       "<html><script type=\"math/tex; mode=display\">\\newcommand{\\Bold}[1]{\\mathbf{#1}}\\left(\\verb|[0,|\\phantom{\\verb!x!}\\verb|1,|\\phantom{\\verb!x!}\\verb|1,|\\phantom{\\verb!x!}\\verb|1,|\\phantom{\\verb!x!}\\verb|1]|, \\left\\{\\verb|mon| : \\left(\\begin{array}{rr}\n",
       "l^{3} - 2 \\, l & -l^{4} + 3 \\, l^{2} - 1 \\\\\n",
       "-l^{2} + 1 & l^{3} - 2 \\, l\n",
       "\\end{array}\\right), \\verb|sol| : \\left[-1, 1\\right], \\verb|trace| : \\left[2, -2\\right]\\right\\}\\right)</script></html>"
      ],
      "text/latex": [
       "\\begin{math}\n",
       "\\newcommand{\\Bold}[1]{\\mathbf{#1}}\\left(\\verb|[0,|\\phantom{\\verb!x!}\\verb|1,|\\phantom{\\verb!x!}\\verb|1,|\\phantom{\\verb!x!}\\verb|1,|\\phantom{\\verb!x!}\\verb|1]|, \\left\\{\\verb|mon| : \\left(\\begin{array}{rr}\n",
       "l^{3} - 2 \\, l & -l^{4} + 3 \\, l^{2} - 1 \\\\\n",
       "-l^{2} + 1 & l^{3} - 2 \\, l\n",
       "\\end{array}\\right), \\verb|sol| : \\left[-1, 1\\right], \\verb|trace| : \\left[2, -2\\right]\\right\\}\\right)\n",
       "\\end{math}"
      ],
      "text/plain": [
       "('[0, 1, 1, 1, 1]',\n",
       " {'mon': [       l^3 - 2*l -l^4 + 3*l^2 - 1]\n",
       "  [        -l^2 + 1        l^3 - 2*l], 'sol': [-1, 1], 'trace': [2, -2]})"
      ]
     },
     "metadata": {},
     "output_type": "display_data"
    },
    {
     "data": {
      "text/html": [
       "<html><script type=\"math/tex; mode=display\">\\newcommand{\\Bold}[1]{\\mathbf{#1}}\\left(\\verb|[1,|\\phantom{\\verb!x!}\\verb|1,|\\phantom{\\verb!x!}\\verb|1,|\\phantom{\\verb!x!}\\verb|1,|\\phantom{\\verb!x!}\\verb|1]|, \\left\\{\\verb|mon| : \\left(\\begin{array}{rr}\n",
       "-l^{5} + 4 \\, l^{3} - 3 \\, l & -l^{4} + 3 \\, l^{2} - 1 \\\\\n",
       "l^{4} - 3 \\, l^{2} + 1 & l^{3} - 2 \\, l\n",
       "\\end{array}\\right), \\verb|sol| : \\left[-\\sqrt{\\frac{1}{2} \\, \\sqrt{5} + \\frac{3}{2}}, -\\sqrt{-\\frac{1}{2} \\, \\sqrt{5} + \\frac{3}{2}}, \\sqrt{-\\frac{1}{2} \\, \\sqrt{5} + \\frac{3}{2}}, \\sqrt{\\frac{1}{2} \\, \\sqrt{5} + \\frac{3}{2}}\\right], \\verb|trace| : \\left[{\\left(\\frac{1}{2} \\, \\sqrt{5} + \\frac{3}{2}\\right)}^{\\frac{5}{2}} - 5 \\, {\\left(\\frac{1}{2} \\, \\sqrt{5} + \\frac{3}{2}\\right)}^{\\frac{3}{2}} + 5 \\, \\sqrt{\\frac{1}{2} \\, \\sqrt{5} + \\frac{3}{2}}, {\\left(-\\frac{1}{2} \\, \\sqrt{5} + \\frac{3}{2}\\right)}^{\\frac{5}{2}} - 5 \\, {\\left(-\\frac{1}{2} \\, \\sqrt{5} + \\frac{3}{2}\\right)}^{\\frac{3}{2}} + 5 \\, \\sqrt{-\\frac{1}{2} \\, \\sqrt{5} + \\frac{3}{2}}, -{\\left(-\\frac{1}{2} \\, \\sqrt{5} + \\frac{3}{2}\\right)}^{\\frac{5}{2}} + 5 \\, {\\left(-\\frac{1}{2} \\, \\sqrt{5} + \\frac{3}{2}\\right)}^{\\frac{3}{2}} - 5 \\, \\sqrt{-\\frac{1}{2} \\, \\sqrt{5} + \\frac{3}{2}}, -{\\left(\\frac{1}{2} \\, \\sqrt{5} + \\frac{3}{2}\\right)}^{\\frac{5}{2}} + 5 \\, {\\left(\\frac{1}{2} \\, \\sqrt{5} + \\frac{3}{2}\\right)}^{\\frac{3}{2}} - 5 \\, \\sqrt{\\frac{1}{2} \\, \\sqrt{5} + \\frac{3}{2}}\\right]\\right\\}\\right)</script></html>"
      ],
      "text/latex": [
       "\\begin{math}\n",
       "\\newcommand{\\Bold}[1]{\\mathbf{#1}}\\left(\\verb|[1,|\\phantom{\\verb!x!}\\verb|1,|\\phantom{\\verb!x!}\\verb|1,|\\phantom{\\verb!x!}\\verb|1,|\\phantom{\\verb!x!}\\verb|1]|, \\left\\{\\verb|mon| : \\left(\\begin{array}{rr}\n",
       "-l^{5} + 4 \\, l^{3} - 3 \\, l & -l^{4} + 3 \\, l^{2} - 1 \\\\\n",
       "l^{4} - 3 \\, l^{2} + 1 & l^{3} - 2 \\, l\n",
       "\\end{array}\\right), \\verb|sol| : \\left[-\\sqrt{\\frac{1}{2} \\, \\sqrt{5} + \\frac{3}{2}}, -\\sqrt{-\\frac{1}{2} \\, \\sqrt{5} + \\frac{3}{2}}, \\sqrt{-\\frac{1}{2} \\, \\sqrt{5} + \\frac{3}{2}}, \\sqrt{\\frac{1}{2} \\, \\sqrt{5} + \\frac{3}{2}}\\right], \\verb|trace| : \\left[{\\left(\\frac{1}{2} \\, \\sqrt{5} + \\frac{3}{2}\\right)}^{\\frac{5}{2}} - 5 \\, {\\left(\\frac{1}{2} \\, \\sqrt{5} + \\frac{3}{2}\\right)}^{\\frac{3}{2}} + 5 \\, \\sqrt{\\frac{1}{2} \\, \\sqrt{5} + \\frac{3}{2}}, {\\left(-\\frac{1}{2} \\, \\sqrt{5} + \\frac{3}{2}\\right)}^{\\frac{5}{2}} - 5 \\, {\\left(-\\frac{1}{2} \\, \\sqrt{5} + \\frac{3}{2}\\right)}^{\\frac{3}{2}} + 5 \\, \\sqrt{-\\frac{1}{2} \\, \\sqrt{5} + \\frac{3}{2}}, -{\\left(-\\frac{1}{2} \\, \\sqrt{5} + \\frac{3}{2}\\right)}^{\\frac{5}{2}} + 5 \\, {\\left(-\\frac{1}{2} \\, \\sqrt{5} + \\frac{3}{2}\\right)}^{\\frac{3}{2}} - 5 \\, \\sqrt{-\\frac{1}{2} \\, \\sqrt{5} + \\frac{3}{2}}, -{\\left(\\frac{1}{2} \\, \\sqrt{5} + \\frac{3}{2}\\right)}^{\\frac{5}{2}} + 5 \\, {\\left(\\frac{1}{2} \\, \\sqrt{5} + \\frac{3}{2}\\right)}^{\\frac{3}{2}} - 5 \\, \\sqrt{\\frac{1}{2} \\, \\sqrt{5} + \\frac{3}{2}}\\right]\\right\\}\\right)\n",
       "\\end{math}"
      ],
      "text/plain": [
       "('[1, 1, 1, 1, 1]',\n",
       " {'mon': [-l^5 + 4*l^3 - 3*l   -l^4 + 3*l^2 - 1]\n",
       "  [   l^4 - 3*l^2 + 1          l^3 - 2*l],\n",
       "  'sol': [-sqrt(1/2*sqrt(5) + 3/2),\n",
       "   -sqrt(-1/2*sqrt(5) + 3/2),\n",
       "   sqrt(-1/2*sqrt(5) + 3/2),\n",
       "   sqrt(1/2*sqrt(5) + 3/2)],\n",
       "  'trace': [(1/2*sqrt(5) + 3/2)^(5/2) - 5*(1/2*sqrt(5) + 3/2)^(3/2) + 5*sqrt(1/2*sqrt(5) + 3/2),\n",
       "   (-1/2*sqrt(5) + 3/2)^(5/2) - 5*(-1/2*sqrt(5) + 3/2)^(3/2) + 5*sqrt(-1/2*sqrt(5) + 3/2),\n",
       "   -(-1/2*sqrt(5) + 3/2)^(5/2) + 5*(-1/2*sqrt(5) + 3/2)^(3/2) - 5*sqrt(-1/2*sqrt(5) + 3/2),\n",
       "   -(1/2*sqrt(5) + 3/2)^(5/2) + 5*(1/2*sqrt(5) + 3/2)^(3/2) - 5*sqrt(1/2*sqrt(5) + 3/2)]})"
      ]
     },
     "metadata": {},
     "output_type": "display_data"
    },
    {
     "data": {
      "text/html": [
       "<html><script type=\"math/tex; mode=display\">\\newcommand{\\Bold}[1]{\\mathbf{#1}}\\verb|Period|\\phantom{\\verb!x!}\\verb|Length|\\phantom{\\verb!x!}\\verb|K|\\phantom{\\verb!x!}\\verb|=| 6</script></html>"
      ],
      "text/latex": [
       "\\begin{math}\n",
       "\\newcommand{\\Bold}[1]{\\mathbf{#1}}\\verb|Period|\\phantom{\\verb!x!}\\verb|Length|\\phantom{\\verb!x!}\\verb|K|\\phantom{\\verb!x!}\\verb|=| 6\n",
       "\\end{math}"
      ],
      "text/plain": [
       "'Period Length K = ' 6"
      ]
     },
     "metadata": {},
     "output_type": "display_data"
    },
    {
     "data": {
      "text/html": [
       "<html><script type=\"math/tex; mode=display\">\\newcommand{\\Bold}[1]{\\mathbf{#1}}\\left(\\verb|[0,|\\phantom{\\verb!x!}\\verb|0,|\\phantom{\\verb!x!}\\verb|0,|\\phantom{\\verb!x!}\\verb|0,|\\phantom{\\verb!x!}\\verb|0,|\\phantom{\\verb!x!}\\verb|0]|, \\left\\{\\verb|mon| : \\left(\\begin{array}{rr}\n",
       "-1 & 0 \\\\\n",
       "0 & -1\n",
       "\\end{array}\\right), \\verb|sol| : \\left[r_{1}\\right], \\verb|trace| : \\left[-2\\right]\\right\\}\\right)</script></html>"
      ],
      "text/latex": [
       "\\begin{math}\n",
       "\\newcommand{\\Bold}[1]{\\mathbf{#1}}\\left(\\verb|[0,|\\phantom{\\verb!x!}\\verb|0,|\\phantom{\\verb!x!}\\verb|0,|\\phantom{\\verb!x!}\\verb|0,|\\phantom{\\verb!x!}\\verb|0,|\\phantom{\\verb!x!}\\verb|0]|, \\left\\{\\verb|mon| : \\left(\\begin{array}{rr}\n",
       "-1 & 0 \\\\\n",
       "0 & -1\n",
       "\\end{array}\\right), \\verb|sol| : \\left[r_{1}\\right], \\verb|trace| : \\left[-2\\right]\\right\\}\\right)\n",
       "\\end{math}"
      ],
      "text/plain": [
       "('[0, 0, 0, 0, 0, 0]',\n",
       " {'mon': [-1  0]\n",
       "  [ 0 -1], 'sol': [r1], 'trace': [-2]})"
      ]
     },
     "metadata": {},
     "output_type": "display_data"
    },
    {
     "data": {
      "text/html": [
       "<html><script type=\"math/tex; mode=display\">\\newcommand{\\Bold}[1]{\\mathbf{#1}}\\left(\\verb|[1,|\\phantom{\\verb!x!}\\verb|0,|\\phantom{\\verb!x!}\\verb|0,|\\phantom{\\verb!x!}\\verb|0,|\\phantom{\\verb!x!}\\verb|0,|\\phantom{\\verb!x!}\\verb|0]|, \\left\\{\\verb|mon| : \\left(\\begin{array}{rr}\n",
       "-1 & 0 \\\\\n",
       "-l & -1\n",
       "\\end{array}\\right), \\verb|sol| : \\left[0\\right], \\verb|trace| : \\left[-2\\right]\\right\\}\\right)</script></html>"
      ],
      "text/latex": [
       "\\begin{math}\n",
       "\\newcommand{\\Bold}[1]{\\mathbf{#1}}\\left(\\verb|[1,|\\phantom{\\verb!x!}\\verb|0,|\\phantom{\\verb!x!}\\verb|0,|\\phantom{\\verb!x!}\\verb|0,|\\phantom{\\verb!x!}\\verb|0,|\\phantom{\\verb!x!}\\verb|0]|, \\left\\{\\verb|mon| : \\left(\\begin{array}{rr}\n",
       "-1 & 0 \\\\\n",
       "-l & -1\n",
       "\\end{array}\\right), \\verb|sol| : \\left[0\\right], \\verb|trace| : \\left[-2\\right]\\right\\}\\right)\n",
       "\\end{math}"
      ],
      "text/plain": [
       "('[1, 0, 0, 0, 0, 0]',\n",
       " {'mon': [-1  0]\n",
       "  [-l -1], 'sol': [0], 'trace': [-2]})"
      ]
     },
     "metadata": {},
     "output_type": "display_data"
    },
    {
     "data": {
      "text/html": [
       "<html><script type=\"math/tex; mode=display\">\\newcommand{\\Bold}[1]{\\mathbf{#1}}\\left(\\verb|[0,|\\phantom{\\verb!x!}\\verb|1,|\\phantom{\\verb!x!}\\verb|0,|\\phantom{\\verb!x!}\\verb|0,|\\phantom{\\verb!x!}\\verb|0,|\\phantom{\\verb!x!}\\verb|0]|, \\left\\{\\verb|mon| : \\left(\\begin{array}{rr}\n",
       "-1 & l \\\\\n",
       "0 & -1\n",
       "\\end{array}\\right), \\verb|sol| : \\left[r_{1}\\right], \\verb|trace| : \\left[-2\\right]\\right\\}\\right)</script></html>"
      ],
      "text/latex": [
       "\\begin{math}\n",
       "\\newcommand{\\Bold}[1]{\\mathbf{#1}}\\left(\\verb|[0,|\\phantom{\\verb!x!}\\verb|1,|\\phantom{\\verb!x!}\\verb|0,|\\phantom{\\verb!x!}\\verb|0,|\\phantom{\\verb!x!}\\verb|0,|\\phantom{\\verb!x!}\\verb|0]|, \\left\\{\\verb|mon| : \\left(\\begin{array}{rr}\n",
       "-1 & l \\\\\n",
       "0 & -1\n",
       "\\end{array}\\right), \\verb|sol| : \\left[r_{1}\\right], \\verb|trace| : \\left[-2\\right]\\right\\}\\right)\n",
       "\\end{math}"
      ],
      "text/plain": [
       "('[0, 1, 0, 0, 0, 0]',\n",
       " {'mon': [-1  l]\n",
       "  [ 0 -1], 'sol': [r1], 'trace': [-2]})"
      ]
     },
     "metadata": {},
     "output_type": "display_data"
    },
    {
     "data": {
      "text/html": [
       "<html><script type=\"math/tex; mode=display\">\\newcommand{\\Bold}[1]{\\mathbf{#1}}\\left(\\verb|[1,|\\phantom{\\verb!x!}\\verb|1,|\\phantom{\\verb!x!}\\verb|0,|\\phantom{\\verb!x!}\\verb|0,|\\phantom{\\verb!x!}\\verb|0,|\\phantom{\\verb!x!}\\verb|0]|, \\left\\{\\verb|mon| : \\left(\\begin{array}{rr}\n",
       "l^{2} - 1 & l \\\\\n",
       "-l & -1\n",
       "\\end{array}\\right), \\verb|sol| : \\left[0\\right], \\verb|trace| : \\left[-2\\right]\\right\\}\\right)</script></html>"
      ],
      "text/latex": [
       "\\begin{math}\n",
       "\\newcommand{\\Bold}[1]{\\mathbf{#1}}\\left(\\verb|[1,|\\phantom{\\verb!x!}\\verb|1,|\\phantom{\\verb!x!}\\verb|0,|\\phantom{\\verb!x!}\\verb|0,|\\phantom{\\verb!x!}\\verb|0,|\\phantom{\\verb!x!}\\verb|0]|, \\left\\{\\verb|mon| : \\left(\\begin{array}{rr}\n",
       "l^{2} - 1 & l \\\\\n",
       "-l & -1\n",
       "\\end{array}\\right), \\verb|sol| : \\left[0\\right], \\verb|trace| : \\left[-2\\right]\\right\\}\\right)\n",
       "\\end{math}"
      ],
      "text/plain": [
       "('[1, 1, 0, 0, 0, 0]',\n",
       " {'mon': [l^2 - 1       l]\n",
       "  [     -l      -1], 'sol': [0], 'trace': [-2]})"
      ]
     },
     "metadata": {},
     "output_type": "display_data"
    },
    {
     "data": {
      "text/html": [
       "<html><script type=\"math/tex; mode=display\">\\newcommand{\\Bold}[1]{\\mathbf{#1}}\\left(\\verb|[0,|\\phantom{\\verb!x!}\\verb|0,|\\phantom{\\verb!x!}\\verb|1,|\\phantom{\\verb!x!}\\verb|0,|\\phantom{\\verb!x!}\\verb|0,|\\phantom{\\verb!x!}\\verb|0]|, \\left\\{\\verb|mon| : \\left(\\begin{array}{rr}\n",
       "-1 & 0 \\\\\n",
       "-l & -1\n",
       "\\end{array}\\right), \\verb|sol| : \\left[0\\right], \\verb|trace| : \\left[-2\\right]\\right\\}\\right)</script></html>"
      ],
      "text/latex": [
       "\\begin{math}\n",
       "\\newcommand{\\Bold}[1]{\\mathbf{#1}}\\left(\\verb|[0,|\\phantom{\\verb!x!}\\verb|0,|\\phantom{\\verb!x!}\\verb|1,|\\phantom{\\verb!x!}\\verb|0,|\\phantom{\\verb!x!}\\verb|0,|\\phantom{\\verb!x!}\\verb|0]|, \\left\\{\\verb|mon| : \\left(\\begin{array}{rr}\n",
       "-1 & 0 \\\\\n",
       "-l & -1\n",
       "\\end{array}\\right), \\verb|sol| : \\left[0\\right], \\verb|trace| : \\left[-2\\right]\\right\\}\\right)\n",
       "\\end{math}"
      ],
      "text/plain": [
       "('[0, 0, 1, 0, 0, 0]',\n",
       " {'mon': [-1  0]\n",
       "  [-l -1], 'sol': [0], 'trace': [-2]})"
      ]
     },
     "metadata": {},
     "output_type": "display_data"
    },
    {
     "data": {
      "text/html": [
       "<html><script type=\"math/tex; mode=display\">\\newcommand{\\Bold}[1]{\\mathbf{#1}}\\left(\\verb|[1,|\\phantom{\\verb!x!}\\verb|0,|\\phantom{\\verb!x!}\\verb|1,|\\phantom{\\verb!x!}\\verb|0,|\\phantom{\\verb!x!}\\verb|0,|\\phantom{\\verb!x!}\\verb|0]|, \\left\\{\\verb|mon| : \\left(\\begin{array}{rr}\n",
       "-1 & 0 \\\\\n",
       "-2 \\, l & -1\n",
       "\\end{array}\\right), \\verb|sol| : \\left[0\\right], \\verb|trace| : \\left[-2\\right]\\right\\}\\right)</script></html>"
      ],
      "text/latex": [
       "\\begin{math}\n",
       "\\newcommand{\\Bold}[1]{\\mathbf{#1}}\\left(\\verb|[1,|\\phantom{\\verb!x!}\\verb|0,|\\phantom{\\verb!x!}\\verb|1,|\\phantom{\\verb!x!}\\verb|0,|\\phantom{\\verb!x!}\\verb|0,|\\phantom{\\verb!x!}\\verb|0]|, \\left\\{\\verb|mon| : \\left(\\begin{array}{rr}\n",
       "-1 & 0 \\\\\n",
       "-2 \\, l & -1\n",
       "\\end{array}\\right), \\verb|sol| : \\left[0\\right], \\verb|trace| : \\left[-2\\right]\\right\\}\\right)\n",
       "\\end{math}"
      ],
      "text/plain": [
       "('[1, 0, 1, 0, 0, 0]',\n",
       " {'mon': [  -1    0]\n",
       "  [-2*l   -1], 'sol': [0], 'trace': [-2]})"
      ]
     },
     "metadata": {},
     "output_type": "display_data"
    },
    {
     "data": {
      "text/html": [
       "<html><script type=\"math/tex; mode=display\">\\newcommand{\\Bold}[1]{\\mathbf{#1}}\\left(\\verb|[0,|\\phantom{\\verb!x!}\\verb|1,|\\phantom{\\verb!x!}\\verb|1,|\\phantom{\\verb!x!}\\verb|0,|\\phantom{\\verb!x!}\\verb|0,|\\phantom{\\verb!x!}\\verb|0]|, \\left\\{\\verb|mon| : \\left(\\begin{array}{rr}\n",
       "-1 & l \\\\\n",
       "-l & l^{2} - 1\n",
       "\\end{array}\\right), \\verb|sol| : \\left[0\\right], \\verb|trace| : \\left[-2\\right]\\right\\}\\right)</script></html>"
      ],
      "text/latex": [
       "\\begin{math}\n",
       "\\newcommand{\\Bold}[1]{\\mathbf{#1}}\\left(\\verb|[0,|\\phantom{\\verb!x!}\\verb|1,|\\phantom{\\verb!x!}\\verb|1,|\\phantom{\\verb!x!}\\verb|0,|\\phantom{\\verb!x!}\\verb|0,|\\phantom{\\verb!x!}\\verb|0]|, \\left\\{\\verb|mon| : \\left(\\begin{array}{rr}\n",
       "-1 & l \\\\\n",
       "-l & l^{2} - 1\n",
       "\\end{array}\\right), \\verb|sol| : \\left[0\\right], \\verb|trace| : \\left[-2\\right]\\right\\}\\right)\n",
       "\\end{math}"
      ],
      "text/plain": [
       "('[0, 1, 1, 0, 0, 0]',\n",
       " {'mon': [     -1       l]\n",
       "  [     -l l^2 - 1], 'sol': [0], 'trace': [-2]})"
      ]
     },
     "metadata": {},
     "output_type": "display_data"
    },
    {
     "data": {
      "text/html": [
       "<html><script type=\"math/tex; mode=display\">\\newcommand{\\Bold}[1]{\\mathbf{#1}}\\left(\\verb|[1,|\\phantom{\\verb!x!}\\verb|1,|\\phantom{\\verb!x!}\\verb|1,|\\phantom{\\verb!x!}\\verb|0,|\\phantom{\\verb!x!}\\verb|0,|\\phantom{\\verb!x!}\\verb|0]|, \\left\\{\\verb|mon| : \\left(\\begin{array}{rr}\n",
       "l^{2} - 1 & l \\\\\n",
       "l^{3} - 2 \\, l & l^{2} - 1\n",
       "\\end{array}\\right), \\verb|sol| : \\left[-\\sqrt{2}, 0, \\sqrt{2}\\right], \\verb|trace| : \\left[2, -2, 2\\right]\\right\\}\\right)</script></html>"
      ],
      "text/latex": [
       "\\begin{math}\n",
       "\\newcommand{\\Bold}[1]{\\mathbf{#1}}\\left(\\verb|[1,|\\phantom{\\verb!x!}\\verb|1,|\\phantom{\\verb!x!}\\verb|1,|\\phantom{\\verb!x!}\\verb|0,|\\phantom{\\verb!x!}\\verb|0,|\\phantom{\\verb!x!}\\verb|0]|, \\left\\{\\verb|mon| : \\left(\\begin{array}{rr}\n",
       "l^{2} - 1 & l \\\\\n",
       "l^{3} - 2 \\, l & l^{2} - 1\n",
       "\\end{array}\\right), \\verb|sol| : \\left[-\\sqrt{2}, 0, \\sqrt{2}\\right], \\verb|trace| : \\left[2, -2, 2\\right]\\right\\}\\right)\n",
       "\\end{math}"
      ],
      "text/plain": [
       "('[1, 1, 1, 0, 0, 0]',\n",
       " {'mon': [  l^2 - 1         l]\n",
       "  [l^3 - 2*l   l^2 - 1], 'sol': [-sqrt(2), 0, sqrt(2)], 'trace': [2, -2, 2]})"
      ]
     },
     "metadata": {},
     "output_type": "display_data"
    },
    {
     "data": {
      "text/html": [
       "<html><script type=\"math/tex; mode=display\">\\newcommand{\\Bold}[1]{\\mathbf{#1}}\\left(\\verb|[0,|\\phantom{\\verb!x!}\\verb|0,|\\phantom{\\verb!x!}\\verb|0,|\\phantom{\\verb!x!}\\verb|1,|\\phantom{\\verb!x!}\\verb|0,|\\phantom{\\verb!x!}\\verb|0]|, \\left\\{\\verb|mon| : \\left(\\begin{array}{rr}\n",
       "-1 & l \\\\\n",
       "0 & -1\n",
       "\\end{array}\\right), \\verb|sol| : \\left[r_{1}\\right], \\verb|trace| : \\left[-2\\right]\\right\\}\\right)</script></html>"
      ],
      "text/latex": [
       "\\begin{math}\n",
       "\\newcommand{\\Bold}[1]{\\mathbf{#1}}\\left(\\verb|[0,|\\phantom{\\verb!x!}\\verb|0,|\\phantom{\\verb!x!}\\verb|0,|\\phantom{\\verb!x!}\\verb|1,|\\phantom{\\verb!x!}\\verb|0,|\\phantom{\\verb!x!}\\verb|0]|, \\left\\{\\verb|mon| : \\left(\\begin{array}{rr}\n",
       "-1 & l \\\\\n",
       "0 & -1\n",
       "\\end{array}\\right), \\verb|sol| : \\left[r_{1}\\right], \\verb|trace| : \\left[-2\\right]\\right\\}\\right)\n",
       "\\end{math}"
      ],
      "text/plain": [
       "('[0, 0, 0, 1, 0, 0]',\n",
       " {'mon': [-1  l]\n",
       "  [ 0 -1], 'sol': [r1], 'trace': [-2]})"
      ]
     },
     "metadata": {},
     "output_type": "display_data"
    },
    {
     "data": {
      "text/html": [
       "<html><script type=\"math/tex; mode=display\">\\newcommand{\\Bold}[1]{\\mathbf{#1}}\\left(\\verb|[1,|\\phantom{\\verb!x!}\\verb|0,|\\phantom{\\verb!x!}\\verb|0,|\\phantom{\\verb!x!}\\verb|1,|\\phantom{\\verb!x!}\\verb|0,|\\phantom{\\verb!x!}\\verb|0]|, \\left\\{\\verb|mon| : \\left(\\begin{array}{rr}\n",
       "l^{2} - 1 & l \\\\\n",
       "-l & -1\n",
       "\\end{array}\\right), \\verb|sol| : \\left[0\\right], \\verb|trace| : \\left[-2\\right]\\right\\}\\right)</script></html>"
      ],
      "text/latex": [
       "\\begin{math}\n",
       "\\newcommand{\\Bold}[1]{\\mathbf{#1}}\\left(\\verb|[1,|\\phantom{\\verb!x!}\\verb|0,|\\phantom{\\verb!x!}\\verb|0,|\\phantom{\\verb!x!}\\verb|1,|\\phantom{\\verb!x!}\\verb|0,|\\phantom{\\verb!x!}\\verb|0]|, \\left\\{\\verb|mon| : \\left(\\begin{array}{rr}\n",
       "l^{2} - 1 & l \\\\\n",
       "-l & -1\n",
       "\\end{array}\\right), \\verb|sol| : \\left[0\\right], \\verb|trace| : \\left[-2\\right]\\right\\}\\right)\n",
       "\\end{math}"
      ],
      "text/plain": [
       "('[1, 0, 0, 1, 0, 0]',\n",
       " {'mon': [l^2 - 1       l]\n",
       "  [     -l      -1], 'sol': [0], 'trace': [-2]})"
      ]
     },
     "metadata": {},
     "output_type": "display_data"
    },
    {
     "data": {
      "text/html": [
       "<html><script type=\"math/tex; mode=display\">\\newcommand{\\Bold}[1]{\\mathbf{#1}}\\left(\\verb|[0,|\\phantom{\\verb!x!}\\verb|1,|\\phantom{\\verb!x!}\\verb|0,|\\phantom{\\verb!x!}\\verb|1,|\\phantom{\\verb!x!}\\verb|0,|\\phantom{\\verb!x!}\\verb|0]|, \\left\\{\\verb|mon| : \\left(\\begin{array}{rr}\n",
       "-1 & 2 \\, l \\\\\n",
       "0 & -1\n",
       "\\end{array}\\right), \\verb|sol| : \\left[r_{1}\\right], \\verb|trace| : \\left[-2\\right]\\right\\}\\right)</script></html>"
      ],
      "text/latex": [
       "\\begin{math}\n",
       "\\newcommand{\\Bold}[1]{\\mathbf{#1}}\\left(\\verb|[0,|\\phantom{\\verb!x!}\\verb|1,|\\phantom{\\verb!x!}\\verb|0,|\\phantom{\\verb!x!}\\verb|1,|\\phantom{\\verb!x!}\\verb|0,|\\phantom{\\verb!x!}\\verb|0]|, \\left\\{\\verb|mon| : \\left(\\begin{array}{rr}\n",
       "-1 & 2 \\, l \\\\\n",
       "0 & -1\n",
       "\\end{array}\\right), \\verb|sol| : \\left[r_{1}\\right], \\verb|trace| : \\left[-2\\right]\\right\\}\\right)\n",
       "\\end{math}"
      ],
      "text/plain": [
       "('[0, 1, 0, 1, 0, 0]',\n",
       " {'mon': [ -1 2*l]\n",
       "  [  0  -1], 'sol': [r1], 'trace': [-2]})"
      ]
     },
     "metadata": {},
     "output_type": "display_data"
    },
    {
     "data": {
      "text/html": [
       "<html><script type=\"math/tex; mode=display\">\\newcommand{\\Bold}[1]{\\mathbf{#1}}\\left(\\verb|[1,|\\phantom{\\verb!x!}\\verb|1,|\\phantom{\\verb!x!}\\verb|0,|\\phantom{\\verb!x!}\\verb|1,|\\phantom{\\verb!x!}\\verb|0,|\\phantom{\\verb!x!}\\verb|0]|, \\left\\{\\verb|mon| : \\left(\\begin{array}{rr}\n",
       "2 \\, l^{2} - 1 & 2 \\, l \\\\\n",
       "-l & -1\n",
       "\\end{array}\\right), \\verb|sol| : \\left[0\\right], \\verb|trace| : \\left[-2\\right]\\right\\}\\right)</script></html>"
      ],
      "text/latex": [
       "\\begin{math}\n",
       "\\newcommand{\\Bold}[1]{\\mathbf{#1}}\\left(\\verb|[1,|\\phantom{\\verb!x!}\\verb|1,|\\phantom{\\verb!x!}\\verb|0,|\\phantom{\\verb!x!}\\verb|1,|\\phantom{\\verb!x!}\\verb|0,|\\phantom{\\verb!x!}\\verb|0]|, \\left\\{\\verb|mon| : \\left(\\begin{array}{rr}\n",
       "2 \\, l^{2} - 1 & 2 \\, l \\\\\n",
       "-l & -1\n",
       "\\end{array}\\right), \\verb|sol| : \\left[0\\right], \\verb|trace| : \\left[-2\\right]\\right\\}\\right)\n",
       "\\end{math}"
      ],
      "text/plain": [
       "('[1, 1, 0, 1, 0, 0]',\n",
       " {'mon': [2*l^2 - 1       2*l]\n",
       "  [       -l        -1], 'sol': [0], 'trace': [-2]})"
      ]
     },
     "metadata": {},
     "output_type": "display_data"
    },
    {
     "data": {
      "text/html": [
       "<html><script type=\"math/tex; mode=display\">\\newcommand{\\Bold}[1]{\\mathbf{#1}}\\left(\\verb|[0,|\\phantom{\\verb!x!}\\verb|0,|\\phantom{\\verb!x!}\\verb|1,|\\phantom{\\verb!x!}\\verb|1,|\\phantom{\\verb!x!}\\verb|0,|\\phantom{\\verb!x!}\\verb|0]|, \\left\\{\\verb|mon| : \\left(\\begin{array}{rr}\n",
       "l^{2} - 1 & l \\\\\n",
       "-l & -1\n",
       "\\end{array}\\right), \\verb|sol| : \\left[0\\right], \\verb|trace| : \\left[-2\\right]\\right\\}\\right)</script></html>"
      ],
      "text/latex": [
       "\\begin{math}\n",
       "\\newcommand{\\Bold}[1]{\\mathbf{#1}}\\left(\\verb|[0,|\\phantom{\\verb!x!}\\verb|0,|\\phantom{\\verb!x!}\\verb|1,|\\phantom{\\verb!x!}\\verb|1,|\\phantom{\\verb!x!}\\verb|0,|\\phantom{\\verb!x!}\\verb|0]|, \\left\\{\\verb|mon| : \\left(\\begin{array}{rr}\n",
       "l^{2} - 1 & l \\\\\n",
       "-l & -1\n",
       "\\end{array}\\right), \\verb|sol| : \\left[0\\right], \\verb|trace| : \\left[-2\\right]\\right\\}\\right)\n",
       "\\end{math}"
      ],
      "text/plain": [
       "('[0, 0, 1, 1, 0, 0]',\n",
       " {'mon': [l^2 - 1       l]\n",
       "  [     -l      -1], 'sol': [0], 'trace': [-2]})"
      ]
     },
     "metadata": {},
     "output_type": "display_data"
    },
    {
     "data": {
      "text/html": [
       "<html><script type=\"math/tex; mode=display\">\\newcommand{\\Bold}[1]{\\mathbf{#1}}\\left(\\verb|[1,|\\phantom{\\verb!x!}\\verb|0,|\\phantom{\\verb!x!}\\verb|1,|\\phantom{\\verb!x!}\\verb|1,|\\phantom{\\verb!x!}\\verb|0,|\\phantom{\\verb!x!}\\verb|0]|, \\left\\{\\verb|mon| : \\left(\\begin{array}{rr}\n",
       "2 \\, l^{2} - 1 & l \\\\\n",
       "-2 \\, l & -1\n",
       "\\end{array}\\right), \\verb|sol| : \\left[0\\right], \\verb|trace| : \\left[-2\\right]\\right\\}\\right)</script></html>"
      ],
      "text/latex": [
       "\\begin{math}\n",
       "\\newcommand{\\Bold}[1]{\\mathbf{#1}}\\left(\\verb|[1,|\\phantom{\\verb!x!}\\verb|0,|\\phantom{\\verb!x!}\\verb|1,|\\phantom{\\verb!x!}\\verb|1,|\\phantom{\\verb!x!}\\verb|0,|\\phantom{\\verb!x!}\\verb|0]|, \\left\\{\\verb|mon| : \\left(\\begin{array}{rr}\n",
       "2 \\, l^{2} - 1 & l \\\\\n",
       "-2 \\, l & -1\n",
       "\\end{array}\\right), \\verb|sol| : \\left[0\\right], \\verb|trace| : \\left[-2\\right]\\right\\}\\right)\n",
       "\\end{math}"
      ],
      "text/plain": [
       "('[1, 0, 1, 1, 0, 0]',\n",
       " {'mon': [2*l^2 - 1         l]\n",
       "  [     -2*l        -1], 'sol': [0], 'trace': [-2]})"
      ]
     },
     "metadata": {},
     "output_type": "display_data"
    },
    {
     "data": {
      "text/html": [
       "<html><script type=\"math/tex; mode=display\">\\newcommand{\\Bold}[1]{\\mathbf{#1}}\\left(\\verb|[0,|\\phantom{\\verb!x!}\\verb|1,|\\phantom{\\verb!x!}\\verb|1,|\\phantom{\\verb!x!}\\verb|1,|\\phantom{\\verb!x!}\\verb|0,|\\phantom{\\verb!x!}\\verb|0]|, \\left\\{\\verb|mon| : \\left(\\begin{array}{rr}\n",
       "l^{2} - 1 & -l^{3} + 2 \\, l \\\\\n",
       "-l & l^{2} - 1\n",
       "\\end{array}\\right), \\verb|sol| : \\left[0\\right], \\verb|trace| : \\left[-2\\right]\\right\\}\\right)</script></html>"
      ],
      "text/latex": [
       "\\begin{math}\n",
       "\\newcommand{\\Bold}[1]{\\mathbf{#1}}\\left(\\verb|[0,|\\phantom{\\verb!x!}\\verb|1,|\\phantom{\\verb!x!}\\verb|1,|\\phantom{\\verb!x!}\\verb|1,|\\phantom{\\verb!x!}\\verb|0,|\\phantom{\\verb!x!}\\verb|0]|, \\left\\{\\verb|mon| : \\left(\\begin{array}{rr}\n",
       "l^{2} - 1 & -l^{3} + 2 \\, l \\\\\n",
       "-l & l^{2} - 1\n",
       "\\end{array}\\right), \\verb|sol| : \\left[0\\right], \\verb|trace| : \\left[-2\\right]\\right\\}\\right)\n",
       "\\end{math}"
      ],
      "text/plain": [
       "('[0, 1, 1, 1, 0, 0]',\n",
       " {'mon': [   l^2 - 1 -l^3 + 2*l]\n",
       "  [        -l    l^2 - 1], 'sol': [0], 'trace': [-2]})"
      ]
     },
     "metadata": {},
     "output_type": "display_data"
    },
    {
     "data": {
      "text/html": [
       "<html><script type=\"math/tex; mode=display\">\\newcommand{\\Bold}[1]{\\mathbf{#1}}\\left(\\verb|[1,|\\phantom{\\verb!x!}\\verb|1,|\\phantom{\\verb!x!}\\verb|1,|\\phantom{\\verb!x!}\\verb|1,|\\phantom{\\verb!x!}\\verb|0,|\\phantom{\\verb!x!}\\verb|0]|, \\left\\{\\verb|mon| : \\left(\\begin{array}{rr}\n",
       "-l^{4} + 3 \\, l^{2} - 1 & -l^{3} + 2 \\, l \\\\\n",
       "l^{3} - 2 \\, l & l^{2} - 1\n",
       "\\end{array}\\right), \\verb|sol| : \\left[-\\sqrt{2}, 0, \\sqrt{2}\\right], \\verb|trace| : \\left[2, -2, 2\\right]\\right\\}\\right)</script></html>"
      ],
      "text/latex": [
       "\\begin{math}\n",
       "\\newcommand{\\Bold}[1]{\\mathbf{#1}}\\left(\\verb|[1,|\\phantom{\\verb!x!}\\verb|1,|\\phantom{\\verb!x!}\\verb|1,|\\phantom{\\verb!x!}\\verb|1,|\\phantom{\\verb!x!}\\verb|0,|\\phantom{\\verb!x!}\\verb|0]|, \\left\\{\\verb|mon| : \\left(\\begin{array}{rr}\n",
       "-l^{4} + 3 \\, l^{2} - 1 & -l^{3} + 2 \\, l \\\\\n",
       "l^{3} - 2 \\, l & l^{2} - 1\n",
       "\\end{array}\\right), \\verb|sol| : \\left[-\\sqrt{2}, 0, \\sqrt{2}\\right], \\verb|trace| : \\left[2, -2, 2\\right]\\right\\}\\right)\n",
       "\\end{math}"
      ],
      "text/plain": [
       "('[1, 1, 1, 1, 0, 0]',\n",
       " {'mon': [-l^4 + 3*l^2 - 1       -l^3 + 2*l]\n",
       "  [       l^3 - 2*l          l^2 - 1],\n",
       "  'sol': [-sqrt(2), 0, sqrt(2)],\n",
       "  'trace': [2, -2, 2]})"
      ]
     },
     "metadata": {},
     "output_type": "display_data"
    },
    {
     "data": {
      "text/html": [
       "<html><script type=\"math/tex; mode=display\">\\newcommand{\\Bold}[1]{\\mathbf{#1}}\\left(\\verb|[0,|\\phantom{\\verb!x!}\\verb|0,|\\phantom{\\verb!x!}\\verb|0,|\\phantom{\\verb!x!}\\verb|0,|\\phantom{\\verb!x!}\\verb|1,|\\phantom{\\verb!x!}\\verb|0]|, \\left\\{\\verb|mon| : \\left(\\begin{array}{rr}\n",
       "-1 & 0 \\\\\n",
       "-l & -1\n",
       "\\end{array}\\right), \\verb|sol| : \\left[0\\right], \\verb|trace| : \\left[-2\\right]\\right\\}\\right)</script></html>"
      ],
      "text/latex": [
       "\\begin{math}\n",
       "\\newcommand{\\Bold}[1]{\\mathbf{#1}}\\left(\\verb|[0,|\\phantom{\\verb!x!}\\verb|0,|\\phantom{\\verb!x!}\\verb|0,|\\phantom{\\verb!x!}\\verb|0,|\\phantom{\\verb!x!}\\verb|1,|\\phantom{\\verb!x!}\\verb|0]|, \\left\\{\\verb|mon| : \\left(\\begin{array}{rr}\n",
       "-1 & 0 \\\\\n",
       "-l & -1\n",
       "\\end{array}\\right), \\verb|sol| : \\left[0\\right], \\verb|trace| : \\left[-2\\right]\\right\\}\\right)\n",
       "\\end{math}"
      ],
      "text/plain": [
       "('[0, 0, 0, 0, 1, 0]',\n",
       " {'mon': [-1  0]\n",
       "  [-l -1], 'sol': [0], 'trace': [-2]})"
      ]
     },
     "metadata": {},
     "output_type": "display_data"
    },
    {
     "data": {
      "text/html": [
       "<html><script type=\"math/tex; mode=display\">\\newcommand{\\Bold}[1]{\\mathbf{#1}}\\left(\\verb|[1,|\\phantom{\\verb!x!}\\verb|0,|\\phantom{\\verb!x!}\\verb|0,|\\phantom{\\verb!x!}\\verb|0,|\\phantom{\\verb!x!}\\verb|1,|\\phantom{\\verb!x!}\\verb|0]|, \\left\\{\\verb|mon| : \\left(\\begin{array}{rr}\n",
       "-1 & 0 \\\\\n",
       "-2 \\, l & -1\n",
       "\\end{array}\\right), \\verb|sol| : \\left[0\\right], \\verb|trace| : \\left[-2\\right]\\right\\}\\right)</script></html>"
      ],
      "text/latex": [
       "\\begin{math}\n",
       "\\newcommand{\\Bold}[1]{\\mathbf{#1}}\\left(\\verb|[1,|\\phantom{\\verb!x!}\\verb|0,|\\phantom{\\verb!x!}\\verb|0,|\\phantom{\\verb!x!}\\verb|0,|\\phantom{\\verb!x!}\\verb|1,|\\phantom{\\verb!x!}\\verb|0]|, \\left\\{\\verb|mon| : \\left(\\begin{array}{rr}\n",
       "-1 & 0 \\\\\n",
       "-2 \\, l & -1\n",
       "\\end{array}\\right), \\verb|sol| : \\left[0\\right], \\verb|trace| : \\left[-2\\right]\\right\\}\\right)\n",
       "\\end{math}"
      ],
      "text/plain": [
       "('[1, 0, 0, 0, 1, 0]',\n",
       " {'mon': [  -1    0]\n",
       "  [-2*l   -1], 'sol': [0], 'trace': [-2]})"
      ]
     },
     "metadata": {},
     "output_type": "display_data"
    },
    {
     "data": {
      "text/html": [
       "<html><script type=\"math/tex; mode=display\">\\newcommand{\\Bold}[1]{\\mathbf{#1}}\\left(\\verb|[0,|\\phantom{\\verb!x!}\\verb|1,|\\phantom{\\verb!x!}\\verb|0,|\\phantom{\\verb!x!}\\verb|0,|\\phantom{\\verb!x!}\\verb|1,|\\phantom{\\verb!x!}\\verb|0]|, \\left\\{\\verb|mon| : \\left(\\begin{array}{rr}\n",
       "-1 & l \\\\\n",
       "-l & l^{2} - 1\n",
       "\\end{array}\\right), \\verb|sol| : \\left[0\\right], \\verb|trace| : \\left[-2\\right]\\right\\}\\right)</script></html>"
      ],
      "text/latex": [
       "\\begin{math}\n",
       "\\newcommand{\\Bold}[1]{\\mathbf{#1}}\\left(\\verb|[0,|\\phantom{\\verb!x!}\\verb|1,|\\phantom{\\verb!x!}\\verb|0,|\\phantom{\\verb!x!}\\verb|0,|\\phantom{\\verb!x!}\\verb|1,|\\phantom{\\verb!x!}\\verb|0]|, \\left\\{\\verb|mon| : \\left(\\begin{array}{rr}\n",
       "-1 & l \\\\\n",
       "-l & l^{2} - 1\n",
       "\\end{array}\\right), \\verb|sol| : \\left[0\\right], \\verb|trace| : \\left[-2\\right]\\right\\}\\right)\n",
       "\\end{math}"
      ],
      "text/plain": [
       "('[0, 1, 0, 0, 1, 0]',\n",
       " {'mon': [     -1       l]\n",
       "  [     -l l^2 - 1], 'sol': [0], 'trace': [-2]})"
      ]
     },
     "metadata": {},
     "output_type": "display_data"
    },
    {
     "data": {
      "text/html": [
       "<html><script type=\"math/tex; mode=display\">\\newcommand{\\Bold}[1]{\\mathbf{#1}}\\left(\\verb|[1,|\\phantom{\\verb!x!}\\verb|1,|\\phantom{\\verb!x!}\\verb|0,|\\phantom{\\verb!x!}\\verb|0,|\\phantom{\\verb!x!}\\verb|1,|\\phantom{\\verb!x!}\\verb|0]|, \\left\\{\\verb|mon| : \\left(\\begin{array}{rr}\n",
       "l^{2} - 1 & l \\\\\n",
       "l^{3} - 2 \\, l & l^{2} - 1\n",
       "\\end{array}\\right), \\verb|sol| : \\left[-\\sqrt{2}, 0, \\sqrt{2}\\right], \\verb|trace| : \\left[2, -2, 2\\right]\\right\\}\\right)</script></html>"
      ],
      "text/latex": [
       "\\begin{math}\n",
       "\\newcommand{\\Bold}[1]{\\mathbf{#1}}\\left(\\verb|[1,|\\phantom{\\verb!x!}\\verb|1,|\\phantom{\\verb!x!}\\verb|0,|\\phantom{\\verb!x!}\\verb|0,|\\phantom{\\verb!x!}\\verb|1,|\\phantom{\\verb!x!}\\verb|0]|, \\left\\{\\verb|mon| : \\left(\\begin{array}{rr}\n",
       "l^{2} - 1 & l \\\\\n",
       "l^{3} - 2 \\, l & l^{2} - 1\n",
       "\\end{array}\\right), \\verb|sol| : \\left[-\\sqrt{2}, 0, \\sqrt{2}\\right], \\verb|trace| : \\left[2, -2, 2\\right]\\right\\}\\right)\n",
       "\\end{math}"
      ],
      "text/plain": [
       "('[1, 1, 0, 0, 1, 0]',\n",
       " {'mon': [  l^2 - 1         l]\n",
       "  [l^3 - 2*l   l^2 - 1], 'sol': [-sqrt(2), 0, sqrt(2)], 'trace': [2, -2, 2]})"
      ]
     },
     "metadata": {},
     "output_type": "display_data"
    },
    {
     "data": {
      "text/html": [
       "<html><script type=\"math/tex; mode=display\">\\newcommand{\\Bold}[1]{\\mathbf{#1}}\\left(\\verb|[0,|\\phantom{\\verb!x!}\\verb|0,|\\phantom{\\verb!x!}\\verb|1,|\\phantom{\\verb!x!}\\verb|0,|\\phantom{\\verb!x!}\\verb|1,|\\phantom{\\verb!x!}\\verb|0]|, \\left\\{\\verb|mon| : \\left(\\begin{array}{rr}\n",
       "-1 & 0 \\\\\n",
       "-2 \\, l & -1\n",
       "\\end{array}\\right), \\verb|sol| : \\left[0\\right], \\verb|trace| : \\left[-2\\right]\\right\\}\\right)</script></html>"
      ],
      "text/latex": [
       "\\begin{math}\n",
       "\\newcommand{\\Bold}[1]{\\mathbf{#1}}\\left(\\verb|[0,|\\phantom{\\verb!x!}\\verb|0,|\\phantom{\\verb!x!}\\verb|1,|\\phantom{\\verb!x!}\\verb|0,|\\phantom{\\verb!x!}\\verb|1,|\\phantom{\\verb!x!}\\verb|0]|, \\left\\{\\verb|mon| : \\left(\\begin{array}{rr}\n",
       "-1 & 0 \\\\\n",
       "-2 \\, l & -1\n",
       "\\end{array}\\right), \\verb|sol| : \\left[0\\right], \\verb|trace| : \\left[-2\\right]\\right\\}\\right)\n",
       "\\end{math}"
      ],
      "text/plain": [
       "('[0, 0, 1, 0, 1, 0]',\n",
       " {'mon': [  -1    0]\n",
       "  [-2*l   -1], 'sol': [0], 'trace': [-2]})"
      ]
     },
     "metadata": {},
     "output_type": "display_data"
    },
    {
     "data": {
      "text/html": [
       "<html><script type=\"math/tex; mode=display\">\\newcommand{\\Bold}[1]{\\mathbf{#1}}\\left(\\verb|[1,|\\phantom{\\verb!x!}\\verb|0,|\\phantom{\\verb!x!}\\verb|1,|\\phantom{\\verb!x!}\\verb|0,|\\phantom{\\verb!x!}\\verb|1,|\\phantom{\\verb!x!}\\verb|0]|, \\left\\{\\verb|mon| : \\left(\\begin{array}{rr}\n",
       "-1 & 0 \\\\\n",
       "-3 \\, l & -1\n",
       "\\end{array}\\right), \\verb|sol| : \\left[0\\right], \\verb|trace| : \\left[-2\\right]\\right\\}\\right)</script></html>"
      ],
      "text/latex": [
       "\\begin{math}\n",
       "\\newcommand{\\Bold}[1]{\\mathbf{#1}}\\left(\\verb|[1,|\\phantom{\\verb!x!}\\verb|0,|\\phantom{\\verb!x!}\\verb|1,|\\phantom{\\verb!x!}\\verb|0,|\\phantom{\\verb!x!}\\verb|1,|\\phantom{\\verb!x!}\\verb|0]|, \\left\\{\\verb|mon| : \\left(\\begin{array}{rr}\n",
       "-1 & 0 \\\\\n",
       "-3 \\, l & -1\n",
       "\\end{array}\\right), \\verb|sol| : \\left[0\\right], \\verb|trace| : \\left[-2\\right]\\right\\}\\right)\n",
       "\\end{math}"
      ],
      "text/plain": [
       "('[1, 0, 1, 0, 1, 0]',\n",
       " {'mon': [  -1    0]\n",
       "  [-3*l   -1], 'sol': [0], 'trace': [-2]})"
      ]
     },
     "metadata": {},
     "output_type": "display_data"
    },
    {
     "data": {
      "text/html": [
       "<html><script type=\"math/tex; mode=display\">\\newcommand{\\Bold}[1]{\\mathbf{#1}}\\left(\\verb|[0,|\\phantom{\\verb!x!}\\verb|1,|\\phantom{\\verb!x!}\\verb|1,|\\phantom{\\verb!x!}\\verb|0,|\\phantom{\\verb!x!}\\verb|1,|\\phantom{\\verb!x!}\\verb|0]|, \\left\\{\\verb|mon| : \\left(\\begin{array}{rr}\n",
       "-1 & l \\\\\n",
       "-2 \\, l & 2 \\, l^{2} - 1\n",
       "\\end{array}\\right), \\verb|sol| : \\left[0\\right], \\verb|trace| : \\left[-2\\right]\\right\\}\\right)</script></html>"
      ],
      "text/latex": [
       "\\begin{math}\n",
       "\\newcommand{\\Bold}[1]{\\mathbf{#1}}\\left(\\verb|[0,|\\phantom{\\verb!x!}\\verb|1,|\\phantom{\\verb!x!}\\verb|1,|\\phantom{\\verb!x!}\\verb|0,|\\phantom{\\verb!x!}\\verb|1,|\\phantom{\\verb!x!}\\verb|0]|, \\left\\{\\verb|mon| : \\left(\\begin{array}{rr}\n",
       "-1 & l \\\\\n",
       "-2 \\, l & 2 \\, l^{2} - 1\n",
       "\\end{array}\\right), \\verb|sol| : \\left[0\\right], \\verb|trace| : \\left[-2\\right]\\right\\}\\right)\n",
       "\\end{math}"
      ],
      "text/plain": [
       "('[0, 1, 1, 0, 1, 0]',\n",
       " {'mon': [       -1         l]\n",
       "  [     -2*l 2*l^2 - 1], 'sol': [0], 'trace': [-2]})"
      ]
     },
     "metadata": {},
     "output_type": "display_data"
    },
    {
     "data": {
      "text/html": [
       "<html><script type=\"math/tex; mode=display\">\\newcommand{\\Bold}[1]{\\mathbf{#1}}\\left(\\verb|[1,|\\phantom{\\verb!x!}\\verb|1,|\\phantom{\\verb!x!}\\verb|1,|\\phantom{\\verb!x!}\\verb|0,|\\phantom{\\verb!x!}\\verb|1,|\\phantom{\\verb!x!}\\verb|0]|, \\left\\{\\verb|mon| : \\left(\\begin{array}{rr}\n",
       "l^{2} - 1 & l \\\\\n",
       "2 \\, l^{3} - 3 \\, l & 2 \\, l^{2} - 1\n",
       "\\end{array}\\right), \\verb|sol| : \\left[-\\frac{1}{2} \\, \\sqrt{3} \\sqrt{2}, 0, \\frac{1}{2} \\, \\sqrt{3} \\sqrt{2}\\right], \\verb|trace| : \\left[\\frac{5}{2}, -2, \\frac{5}{2}\\right]\\right\\}\\right)</script></html>"
      ],
      "text/latex": [
       "\\begin{math}\n",
       "\\newcommand{\\Bold}[1]{\\mathbf{#1}}\\left(\\verb|[1,|\\phantom{\\verb!x!}\\verb|1,|\\phantom{\\verb!x!}\\verb|1,|\\phantom{\\verb!x!}\\verb|0,|\\phantom{\\verb!x!}\\verb|1,|\\phantom{\\verb!x!}\\verb|0]|, \\left\\{\\verb|mon| : \\left(\\begin{array}{rr}\n",
       "l^{2} - 1 & l \\\\\n",
       "2 \\, l^{3} - 3 \\, l & 2 \\, l^{2} - 1\n",
       "\\end{array}\\right), \\verb|sol| : \\left[-\\frac{1}{2} \\, \\sqrt{3} \\sqrt{2}, 0, \\frac{1}{2} \\, \\sqrt{3} \\sqrt{2}\\right], \\verb|trace| : \\left[\\frac{5}{2}, -2, \\frac{5}{2}\\right]\\right\\}\\right)\n",
       "\\end{math}"
      ],
      "text/plain": [
       "('[1, 1, 1, 0, 1, 0]',\n",
       " {'mon': [    l^2 - 1           l]\n",
       "  [2*l^3 - 3*l   2*l^2 - 1],\n",
       "  'sol': [-1/2*sqrt(3)*sqrt(2), 0, 1/2*sqrt(3)*sqrt(2)],\n",
       "  'trace': [5/2, -2, 5/2]})"
      ]
     },
     "metadata": {},
     "output_type": "display_data"
    },
    {
     "data": {
      "text/html": [
       "<html><script type=\"math/tex; mode=display\">\\newcommand{\\Bold}[1]{\\mathbf{#1}}\\left(\\verb|[0,|\\phantom{\\verb!x!}\\verb|0,|\\phantom{\\verb!x!}\\verb|0,|\\phantom{\\verb!x!}\\verb|1,|\\phantom{\\verb!x!}\\verb|1,|\\phantom{\\verb!x!}\\verb|0]|, \\left\\{\\verb|mon| : \\left(\\begin{array}{rr}\n",
       "-1 & l \\\\\n",
       "-l & l^{2} - 1\n",
       "\\end{array}\\right), \\verb|sol| : \\left[0\\right], \\verb|trace| : \\left[-2\\right]\\right\\}\\right)</script></html>"
      ],
      "text/latex": [
       "\\begin{math}\n",
       "\\newcommand{\\Bold}[1]{\\mathbf{#1}}\\left(\\verb|[0,|\\phantom{\\verb!x!}\\verb|0,|\\phantom{\\verb!x!}\\verb|0,|\\phantom{\\verb!x!}\\verb|1,|\\phantom{\\verb!x!}\\verb|1,|\\phantom{\\verb!x!}\\verb|0]|, \\left\\{\\verb|mon| : \\left(\\begin{array}{rr}\n",
       "-1 & l \\\\\n",
       "-l & l^{2} - 1\n",
       "\\end{array}\\right), \\verb|sol| : \\left[0\\right], \\verb|trace| : \\left[-2\\right]\\right\\}\\right)\n",
       "\\end{math}"
      ],
      "text/plain": [
       "('[0, 0, 0, 1, 1, 0]',\n",
       " {'mon': [     -1       l]\n",
       "  [     -l l^2 - 1], 'sol': [0], 'trace': [-2]})"
      ]
     },
     "metadata": {},
     "output_type": "display_data"
    },
    {
     "data": {
      "text/html": [
       "<html><script type=\"math/tex; mode=display\">\\newcommand{\\Bold}[1]{\\mathbf{#1}}\\left(\\verb|[1,|\\phantom{\\verb!x!}\\verb|0,|\\phantom{\\verb!x!}\\verb|0,|\\phantom{\\verb!x!}\\verb|1,|\\phantom{\\verb!x!}\\verb|1,|\\phantom{\\verb!x!}\\verb|0]|, \\left\\{\\verb|mon| : \\left(\\begin{array}{rr}\n",
       "l^{2} - 1 & l \\\\\n",
       "l^{3} - 2 \\, l & l^{2} - 1\n",
       "\\end{array}\\right), \\verb|sol| : \\left[-\\sqrt{2}, 0, \\sqrt{2}\\right], \\verb|trace| : \\left[2, -2, 2\\right]\\right\\}\\right)</script></html>"
      ],
      "text/latex": [
       "\\begin{math}\n",
       "\\newcommand{\\Bold}[1]{\\mathbf{#1}}\\left(\\verb|[1,|\\phantom{\\verb!x!}\\verb|0,|\\phantom{\\verb!x!}\\verb|0,|\\phantom{\\verb!x!}\\verb|1,|\\phantom{\\verb!x!}\\verb|1,|\\phantom{\\verb!x!}\\verb|0]|, \\left\\{\\verb|mon| : \\left(\\begin{array}{rr}\n",
       "l^{2} - 1 & l \\\\\n",
       "l^{3} - 2 \\, l & l^{2} - 1\n",
       "\\end{array}\\right), \\verb|sol| : \\left[-\\sqrt{2}, 0, \\sqrt{2}\\right], \\verb|trace| : \\left[2, -2, 2\\right]\\right\\}\\right)\n",
       "\\end{math}"
      ],
      "text/plain": [
       "('[1, 0, 0, 1, 1, 0]',\n",
       " {'mon': [  l^2 - 1         l]\n",
       "  [l^3 - 2*l   l^2 - 1], 'sol': [-sqrt(2), 0, sqrt(2)], 'trace': [2, -2, 2]})"
      ]
     },
     "metadata": {},
     "output_type": "display_data"
    },
    {
     "data": {
      "text/html": [
       "<html><script type=\"math/tex; mode=display\">\\newcommand{\\Bold}[1]{\\mathbf{#1}}\\left(\\verb|[0,|\\phantom{\\verb!x!}\\verb|1,|\\phantom{\\verb!x!}\\verb|0,|\\phantom{\\verb!x!}\\verb|1,|\\phantom{\\verb!x!}\\verb|1,|\\phantom{\\verb!x!}\\verb|0]|, \\left\\{\\verb|mon| : \\left(\\begin{array}{rr}\n",
       "-1 & 2 \\, l \\\\\n",
       "-l & 2 \\, l^{2} - 1\n",
       "\\end{array}\\right), \\verb|sol| : \\left[0\\right], \\verb|trace| : \\left[-2\\right]\\right\\}\\right)</script></html>"
      ],
      "text/latex": [
       "\\begin{math}\n",
       "\\newcommand{\\Bold}[1]{\\mathbf{#1}}\\left(\\verb|[0,|\\phantom{\\verb!x!}\\verb|1,|\\phantom{\\verb!x!}\\verb|0,|\\phantom{\\verb!x!}\\verb|1,|\\phantom{\\verb!x!}\\verb|1,|\\phantom{\\verb!x!}\\verb|0]|, \\left\\{\\verb|mon| : \\left(\\begin{array}{rr}\n",
       "-1 & 2 \\, l \\\\\n",
       "-l & 2 \\, l^{2} - 1\n",
       "\\end{array}\\right), \\verb|sol| : \\left[0\\right], \\verb|trace| : \\left[-2\\right]\\right\\}\\right)\n",
       "\\end{math}"
      ],
      "text/plain": [
       "('[0, 1, 0, 1, 1, 0]',\n",
       " {'mon': [       -1       2*l]\n",
       "  [       -l 2*l^2 - 1], 'sol': [0], 'trace': [-2]})"
      ]
     },
     "metadata": {},
     "output_type": "display_data"
    },
    {
     "data": {
      "text/html": [
       "<html><script type=\"math/tex; mode=display\">\\newcommand{\\Bold}[1]{\\mathbf{#1}}\\left(\\verb|[1,|\\phantom{\\verb!x!}\\verb|1,|\\phantom{\\verb!x!}\\verb|0,|\\phantom{\\verb!x!}\\verb|1,|\\phantom{\\verb!x!}\\verb|1,|\\phantom{\\verb!x!}\\verb|0]|, \\left\\{\\verb|mon| : \\left(\\begin{array}{rr}\n",
       "2 \\, l^{2} - 1 & 2 \\, l \\\\\n",
       "2 \\, l^{3} - 2 \\, l & 2 \\, l^{2} - 1\n",
       "\\end{array}\\right), \\verb|sol| : \\left[-1, 0, 1\\right], \\verb|trace| : \\left[2, -2, 2\\right]\\right\\}\\right)</script></html>"
      ],
      "text/latex": [
       "\\begin{math}\n",
       "\\newcommand{\\Bold}[1]{\\mathbf{#1}}\\left(\\verb|[1,|\\phantom{\\verb!x!}\\verb|1,|\\phantom{\\verb!x!}\\verb|0,|\\phantom{\\verb!x!}\\verb|1,|\\phantom{\\verb!x!}\\verb|1,|\\phantom{\\verb!x!}\\verb|0]|, \\left\\{\\verb|mon| : \\left(\\begin{array}{rr}\n",
       "2 \\, l^{2} - 1 & 2 \\, l \\\\\n",
       "2 \\, l^{3} - 2 \\, l & 2 \\, l^{2} - 1\n",
       "\\end{array}\\right), \\verb|sol| : \\left[-1, 0, 1\\right], \\verb|trace| : \\left[2, -2, 2\\right]\\right\\}\\right)\n",
       "\\end{math}"
      ],
      "text/plain": [
       "('[1, 1, 0, 1, 1, 0]',\n",
       " {'mon': [  2*l^2 - 1         2*l]\n",
       "  [2*l^3 - 2*l   2*l^2 - 1], 'sol': [-1, 0, 1], 'trace': [2, -2, 2]})"
      ]
     },
     "metadata": {},
     "output_type": "display_data"
    },
    {
     "data": {
      "text/html": [
       "<html><script type=\"math/tex; mode=display\">\\newcommand{\\Bold}[1]{\\mathbf{#1}}\\left(\\verb|[0,|\\phantom{\\verb!x!}\\verb|0,|\\phantom{\\verb!x!}\\verb|1,|\\phantom{\\verb!x!}\\verb|1,|\\phantom{\\verb!x!}\\verb|1,|\\phantom{\\verb!x!}\\verb|0]|, \\left\\{\\verb|mon| : \\left(\\begin{array}{rr}\n",
       "l^{2} - 1 & l \\\\\n",
       "l^{3} - 2 \\, l & l^{2} - 1\n",
       "\\end{array}\\right), \\verb|sol| : \\left[-\\sqrt{2}, 0, \\sqrt{2}\\right], \\verb|trace| : \\left[2, -2, 2\\right]\\right\\}\\right)</script></html>"
      ],
      "text/latex": [
       "\\begin{math}\n",
       "\\newcommand{\\Bold}[1]{\\mathbf{#1}}\\left(\\verb|[0,|\\phantom{\\verb!x!}\\verb|0,|\\phantom{\\verb!x!}\\verb|1,|\\phantom{\\verb!x!}\\verb|1,|\\phantom{\\verb!x!}\\verb|1,|\\phantom{\\verb!x!}\\verb|0]|, \\left\\{\\verb|mon| : \\left(\\begin{array}{rr}\n",
       "l^{2} - 1 & l \\\\\n",
       "l^{3} - 2 \\, l & l^{2} - 1\n",
       "\\end{array}\\right), \\verb|sol| : \\left[-\\sqrt{2}, 0, \\sqrt{2}\\right], \\verb|trace| : \\left[2, -2, 2\\right]\\right\\}\\right)\n",
       "\\end{math}"
      ],
      "text/plain": [
       "('[0, 0, 1, 1, 1, 0]',\n",
       " {'mon': [  l^2 - 1         l]\n",
       "  [l^3 - 2*l   l^2 - 1], 'sol': [-sqrt(2), 0, sqrt(2)], 'trace': [2, -2, 2]})"
      ]
     },
     "metadata": {},
     "output_type": "display_data"
    },
    {
     "data": {
      "text/html": [
       "<html><script type=\"math/tex; mode=display\">\\newcommand{\\Bold}[1]{\\mathbf{#1}}\\left(\\verb|[1,|\\phantom{\\verb!x!}\\verb|0,|\\phantom{\\verb!x!}\\verb|1,|\\phantom{\\verb!x!}\\verb|1,|\\phantom{\\verb!x!}\\verb|1,|\\phantom{\\verb!x!}\\verb|0]|, \\left\\{\\verb|mon| : \\left(\\begin{array}{rr}\n",
       "2 \\, l^{2} - 1 & l \\\\\n",
       "2 \\, l^{3} - 3 \\, l & l^{2} - 1\n",
       "\\end{array}\\right), \\verb|sol| : \\left[-\\frac{1}{2} \\, \\sqrt{3} \\sqrt{2}, 0, \\frac{1}{2} \\, \\sqrt{3} \\sqrt{2}\\right], \\verb|trace| : \\left[\\frac{5}{2}, -2, \\frac{5}{2}\\right]\\right\\}\\right)</script></html>"
      ],
      "text/latex": [
       "\\begin{math}\n",
       "\\newcommand{\\Bold}[1]{\\mathbf{#1}}\\left(\\verb|[1,|\\phantom{\\verb!x!}\\verb|0,|\\phantom{\\verb!x!}\\verb|1,|\\phantom{\\verb!x!}\\verb|1,|\\phantom{\\verb!x!}\\verb|1,|\\phantom{\\verb!x!}\\verb|0]|, \\left\\{\\verb|mon| : \\left(\\begin{array}{rr}\n",
       "2 \\, l^{2} - 1 & l \\\\\n",
       "2 \\, l^{3} - 3 \\, l & l^{2} - 1\n",
       "\\end{array}\\right), \\verb|sol| : \\left[-\\frac{1}{2} \\, \\sqrt{3} \\sqrt{2}, 0, \\frac{1}{2} \\, \\sqrt{3} \\sqrt{2}\\right], \\verb|trace| : \\left[\\frac{5}{2}, -2, \\frac{5}{2}\\right]\\right\\}\\right)\n",
       "\\end{math}"
      ],
      "text/plain": [
       "('[1, 0, 1, 1, 1, 0]',\n",
       " {'mon': [  2*l^2 - 1           l]\n",
       "  [2*l^3 - 3*l     l^2 - 1],\n",
       "  'sol': [-1/2*sqrt(3)*sqrt(2), 0, 1/2*sqrt(3)*sqrt(2)],\n",
       "  'trace': [5/2, -2, 5/2]})"
      ]
     },
     "metadata": {},
     "output_type": "display_data"
    },
    {
     "data": {
      "text/html": [
       "<html><script type=\"math/tex; mode=display\">\\newcommand{\\Bold}[1]{\\mathbf{#1}}\\left(\\verb|[0,|\\phantom{\\verb!x!}\\verb|1,|\\phantom{\\verb!x!}\\verb|1,|\\phantom{\\verb!x!}\\verb|1,|\\phantom{\\verb!x!}\\verb|1,|\\phantom{\\verb!x!}\\verb|0]|, \\left\\{\\verb|mon| : \\left(\\begin{array}{rr}\n",
       "l^{2} - 1 & -l^{3} + 2 \\, l \\\\\n",
       "l^{3} - 2 \\, l & -l^{4} + 3 \\, l^{2} - 1\n",
       "\\end{array}\\right), \\verb|sol| : \\left[-\\sqrt{2}, 0, \\sqrt{2}\\right], \\verb|trace| : \\left[2, -2, 2\\right]\\right\\}\\right)</script></html>"
      ],
      "text/latex": [
       "\\begin{math}\n",
       "\\newcommand{\\Bold}[1]{\\mathbf{#1}}\\left(\\verb|[0,|\\phantom{\\verb!x!}\\verb|1,|\\phantom{\\verb!x!}\\verb|1,|\\phantom{\\verb!x!}\\verb|1,|\\phantom{\\verb!x!}\\verb|1,|\\phantom{\\verb!x!}\\verb|0]|, \\left\\{\\verb|mon| : \\left(\\begin{array}{rr}\n",
       "l^{2} - 1 & -l^{3} + 2 \\, l \\\\\n",
       "l^{3} - 2 \\, l & -l^{4} + 3 \\, l^{2} - 1\n",
       "\\end{array}\\right), \\verb|sol| : \\left[-\\sqrt{2}, 0, \\sqrt{2}\\right], \\verb|trace| : \\left[2, -2, 2\\right]\\right\\}\\right)\n",
       "\\end{math}"
      ],
      "text/plain": [
       "('[0, 1, 1, 1, 1, 0]',\n",
       " {'mon': [         l^2 - 1       -l^3 + 2*l]\n",
       "  [       l^3 - 2*l -l^4 + 3*l^2 - 1],\n",
       "  'sol': [-sqrt(2), 0, sqrt(2)],\n",
       "  'trace': [2, -2, 2]})"
      ]
     },
     "metadata": {},
     "output_type": "display_data"
    },
    {
     "data": {
      "text/html": [
       "<html><script type=\"math/tex; mode=display\">\\newcommand{\\Bold}[1]{\\mathbf{#1}}\\left(\\verb|[1,|\\phantom{\\verb!x!}\\verb|1,|\\phantom{\\verb!x!}\\verb|1,|\\phantom{\\verb!x!}\\verb|1,|\\phantom{\\verb!x!}\\verb|1,|\\phantom{\\verb!x!}\\verb|0]|, \\left\\{\\verb|mon| : \\left(\\begin{array}{rr}\n",
       "-l^{4} + 3 \\, l^{2} - 1 & -l^{3} + 2 \\, l \\\\\n",
       "-l^{5} + 4 \\, l^{3} - 3 \\, l & -l^{4} + 3 \\, l^{2} - 1\n",
       "\\end{array}\\right), \\verb|sol| : \\left[-\\sqrt{3}, -1, 0, 1, \\sqrt{3}\\right], \\verb|trace| : \\left[-2, 2, -2, 2, -2\\right]\\right\\}\\right)</script></html>"
      ],
      "text/latex": [
       "\\begin{math}\n",
       "\\newcommand{\\Bold}[1]{\\mathbf{#1}}\\left(\\verb|[1,|\\phantom{\\verb!x!}\\verb|1,|\\phantom{\\verb!x!}\\verb|1,|\\phantom{\\verb!x!}\\verb|1,|\\phantom{\\verb!x!}\\verb|1,|\\phantom{\\verb!x!}\\verb|0]|, \\left\\{\\verb|mon| : \\left(\\begin{array}{rr}\n",
       "-l^{4} + 3 \\, l^{2} - 1 & -l^{3} + 2 \\, l \\\\\n",
       "-l^{5} + 4 \\, l^{3} - 3 \\, l & -l^{4} + 3 \\, l^{2} - 1\n",
       "\\end{array}\\right), \\verb|sol| : \\left[-\\sqrt{3}, -1, 0, 1, \\sqrt{3}\\right], \\verb|trace| : \\left[-2, 2, -2, 2, -2\\right]\\right\\}\\right)\n",
       "\\end{math}"
      ],
      "text/plain": [
       "('[1, 1, 1, 1, 1, 0]',\n",
       " {'mon': [  -l^4 + 3*l^2 - 1         -l^3 + 2*l]\n",
       "  [-l^5 + 4*l^3 - 3*l   -l^4 + 3*l^2 - 1],\n",
       "  'sol': [-sqrt(3), -1, 0, 1, sqrt(3)],\n",
       "  'trace': [-2, 2, -2, 2, -2]})"
      ]
     },
     "metadata": {},
     "output_type": "display_data"
    },
    {
     "data": {
      "text/html": [
       "<html><script type=\"math/tex; mode=display\">\\newcommand{\\Bold}[1]{\\mathbf{#1}}\\left(\\verb|[0,|\\phantom{\\verb!x!}\\verb|0,|\\phantom{\\verb!x!}\\verb|0,|\\phantom{\\verb!x!}\\verb|0,|\\phantom{\\verb!x!}\\verb|0,|\\phantom{\\verb!x!}\\verb|1]|, \\left\\{\\verb|mon| : \\left(\\begin{array}{rr}\n",
       "-1 & l \\\\\n",
       "0 & -1\n",
       "\\end{array}\\right), \\verb|sol| : \\left[r_{1}\\right], \\verb|trace| : \\left[-2\\right]\\right\\}\\right)</script></html>"
      ],
      "text/latex": [
       "\\begin{math}\n",
       "\\newcommand{\\Bold}[1]{\\mathbf{#1}}\\left(\\verb|[0,|\\phantom{\\verb!x!}\\verb|0,|\\phantom{\\verb!x!}\\verb|0,|\\phantom{\\verb!x!}\\verb|0,|\\phantom{\\verb!x!}\\verb|0,|\\phantom{\\verb!x!}\\verb|1]|, \\left\\{\\verb|mon| : \\left(\\begin{array}{rr}\n",
       "-1 & l \\\\\n",
       "0 & -1\n",
       "\\end{array}\\right), \\verb|sol| : \\left[r_{1}\\right], \\verb|trace| : \\left[-2\\right]\\right\\}\\right)\n",
       "\\end{math}"
      ],
      "text/plain": [
       "('[0, 0, 0, 0, 0, 1]',\n",
       " {'mon': [-1  l]\n",
       "  [ 0 -1], 'sol': [r1], 'trace': [-2]})"
      ]
     },
     "metadata": {},
     "output_type": "display_data"
    },
    {
     "data": {
      "text/html": [
       "<html><script type=\"math/tex; mode=display\">\\newcommand{\\Bold}[1]{\\mathbf{#1}}\\left(\\verb|[1,|\\phantom{\\verb!x!}\\verb|0,|\\phantom{\\verb!x!}\\verb|0,|\\phantom{\\verb!x!}\\verb|0,|\\phantom{\\verb!x!}\\verb|0,|\\phantom{\\verb!x!}\\verb|1]|, \\left\\{\\verb|mon| : \\left(\\begin{array}{rr}\n",
       "l^{2} - 1 & l \\\\\n",
       "-l & -1\n",
       "\\end{array}\\right), \\verb|sol| : \\left[0\\right], \\verb|trace| : \\left[-2\\right]\\right\\}\\right)</script></html>"
      ],
      "text/latex": [
       "\\begin{math}\n",
       "\\newcommand{\\Bold}[1]{\\mathbf{#1}}\\left(\\verb|[1,|\\phantom{\\verb!x!}\\verb|0,|\\phantom{\\verb!x!}\\verb|0,|\\phantom{\\verb!x!}\\verb|0,|\\phantom{\\verb!x!}\\verb|0,|\\phantom{\\verb!x!}\\verb|1]|, \\left\\{\\verb|mon| : \\left(\\begin{array}{rr}\n",
       "l^{2} - 1 & l \\\\\n",
       "-l & -1\n",
       "\\end{array}\\right), \\verb|sol| : \\left[0\\right], \\verb|trace| : \\left[-2\\right]\\right\\}\\right)\n",
       "\\end{math}"
      ],
      "text/plain": [
       "('[1, 0, 0, 0, 0, 1]',\n",
       " {'mon': [l^2 - 1       l]\n",
       "  [     -l      -1], 'sol': [0], 'trace': [-2]})"
      ]
     },
     "metadata": {},
     "output_type": "display_data"
    },
    {
     "data": {
      "text/html": [
       "<html><script type=\"math/tex; mode=display\">\\newcommand{\\Bold}[1]{\\mathbf{#1}}\\left(\\verb|[0,|\\phantom{\\verb!x!}\\verb|1,|\\phantom{\\verb!x!}\\verb|0,|\\phantom{\\verb!x!}\\verb|0,|\\phantom{\\verb!x!}\\verb|0,|\\phantom{\\verb!x!}\\verb|1]|, \\left\\{\\verb|mon| : \\left(\\begin{array}{rr}\n",
       "-1 & 2 \\, l \\\\\n",
       "0 & -1\n",
       "\\end{array}\\right), \\verb|sol| : \\left[r_{1}\\right], \\verb|trace| : \\left[-2\\right]\\right\\}\\right)</script></html>"
      ],
      "text/latex": [
       "\\begin{math}\n",
       "\\newcommand{\\Bold}[1]{\\mathbf{#1}}\\left(\\verb|[0,|\\phantom{\\verb!x!}\\verb|1,|\\phantom{\\verb!x!}\\verb|0,|\\phantom{\\verb!x!}\\verb|0,|\\phantom{\\verb!x!}\\verb|0,|\\phantom{\\verb!x!}\\verb|1]|, \\left\\{\\verb|mon| : \\left(\\begin{array}{rr}\n",
       "-1 & 2 \\, l \\\\\n",
       "0 & -1\n",
       "\\end{array}\\right), \\verb|sol| : \\left[r_{1}\\right], \\verb|trace| : \\left[-2\\right]\\right\\}\\right)\n",
       "\\end{math}"
      ],
      "text/plain": [
       "('[0, 1, 0, 0, 0, 1]',\n",
       " {'mon': [ -1 2*l]\n",
       "  [  0  -1], 'sol': [r1], 'trace': [-2]})"
      ]
     },
     "metadata": {},
     "output_type": "display_data"
    },
    {
     "data": {
      "text/html": [
       "<html><script type=\"math/tex; mode=display\">\\newcommand{\\Bold}[1]{\\mathbf{#1}}\\left(\\verb|[1,|\\phantom{\\verb!x!}\\verb|1,|\\phantom{\\verb!x!}\\verb|0,|\\phantom{\\verb!x!}\\verb|0,|\\phantom{\\verb!x!}\\verb|0,|\\phantom{\\verb!x!}\\verb|1]|, \\left\\{\\verb|mon| : \\left(\\begin{array}{rr}\n",
       "2 \\, l^{2} - 1 & 2 \\, l \\\\\n",
       "-l & -1\n",
       "\\end{array}\\right), \\verb|sol| : \\left[0\\right], \\verb|trace| : \\left[-2\\right]\\right\\}\\right)</script></html>"
      ],
      "text/latex": [
       "\\begin{math}\n",
       "\\newcommand{\\Bold}[1]{\\mathbf{#1}}\\left(\\verb|[1,|\\phantom{\\verb!x!}\\verb|1,|\\phantom{\\verb!x!}\\verb|0,|\\phantom{\\verb!x!}\\verb|0,|\\phantom{\\verb!x!}\\verb|0,|\\phantom{\\verb!x!}\\verb|1]|, \\left\\{\\verb|mon| : \\left(\\begin{array}{rr}\n",
       "2 \\, l^{2} - 1 & 2 \\, l \\\\\n",
       "-l & -1\n",
       "\\end{array}\\right), \\verb|sol| : \\left[0\\right], \\verb|trace| : \\left[-2\\right]\\right\\}\\right)\n",
       "\\end{math}"
      ],
      "text/plain": [
       "('[1, 1, 0, 0, 0, 1]',\n",
       " {'mon': [2*l^2 - 1       2*l]\n",
       "  [       -l        -1], 'sol': [0], 'trace': [-2]})"
      ]
     },
     "metadata": {},
     "output_type": "display_data"
    },
    {
     "data": {
      "text/html": [
       "<html><script type=\"math/tex; mode=display\">\\newcommand{\\Bold}[1]{\\mathbf{#1}}\\left(\\verb|[0,|\\phantom{\\verb!x!}\\verb|0,|\\phantom{\\verb!x!}\\verb|1,|\\phantom{\\verb!x!}\\verb|0,|\\phantom{\\verb!x!}\\verb|0,|\\phantom{\\verb!x!}\\verb|1]|, \\left\\{\\verb|mon| : \\left(\\begin{array}{rr}\n",
       "l^{2} - 1 & l \\\\\n",
       "-l & -1\n",
       "\\end{array}\\right), \\verb|sol| : \\left[0\\right], \\verb|trace| : \\left[-2\\right]\\right\\}\\right)</script></html>"
      ],
      "text/latex": [
       "\\begin{math}\n",
       "\\newcommand{\\Bold}[1]{\\mathbf{#1}}\\left(\\verb|[0,|\\phantom{\\verb!x!}\\verb|0,|\\phantom{\\verb!x!}\\verb|1,|\\phantom{\\verb!x!}\\verb|0,|\\phantom{\\verb!x!}\\verb|0,|\\phantom{\\verb!x!}\\verb|1]|, \\left\\{\\verb|mon| : \\left(\\begin{array}{rr}\n",
       "l^{2} - 1 & l \\\\\n",
       "-l & -1\n",
       "\\end{array}\\right), \\verb|sol| : \\left[0\\right], \\verb|trace| : \\left[-2\\right]\\right\\}\\right)\n",
       "\\end{math}"
      ],
      "text/plain": [
       "('[0, 0, 1, 0, 0, 1]',\n",
       " {'mon': [l^2 - 1       l]\n",
       "  [     -l      -1], 'sol': [0], 'trace': [-2]})"
      ]
     },
     "metadata": {},
     "output_type": "display_data"
    },
    {
     "data": {
      "text/html": [
       "<html><script type=\"math/tex; mode=display\">\\newcommand{\\Bold}[1]{\\mathbf{#1}}\\left(\\verb|[1,|\\phantom{\\verb!x!}\\verb|0,|\\phantom{\\verb!x!}\\verb|1,|\\phantom{\\verb!x!}\\verb|0,|\\phantom{\\verb!x!}\\verb|0,|\\phantom{\\verb!x!}\\verb|1]|, \\left\\{\\verb|mon| : \\left(\\begin{array}{rr}\n",
       "2 \\, l^{2} - 1 & l \\\\\n",
       "-2 \\, l & -1\n",
       "\\end{array}\\right), \\verb|sol| : \\left[0\\right], \\verb|trace| : \\left[-2\\right]\\right\\}\\right)</script></html>"
      ],
      "text/latex": [
       "\\begin{math}\n",
       "\\newcommand{\\Bold}[1]{\\mathbf{#1}}\\left(\\verb|[1,|\\phantom{\\verb!x!}\\verb|0,|\\phantom{\\verb!x!}\\verb|1,|\\phantom{\\verb!x!}\\verb|0,|\\phantom{\\verb!x!}\\verb|0,|\\phantom{\\verb!x!}\\verb|1]|, \\left\\{\\verb|mon| : \\left(\\begin{array}{rr}\n",
       "2 \\, l^{2} - 1 & l \\\\\n",
       "-2 \\, l & -1\n",
       "\\end{array}\\right), \\verb|sol| : \\left[0\\right], \\verb|trace| : \\left[-2\\right]\\right\\}\\right)\n",
       "\\end{math}"
      ],
      "text/plain": [
       "('[1, 0, 1, 0, 0, 1]',\n",
       " {'mon': [2*l^2 - 1         l]\n",
       "  [     -2*l        -1], 'sol': [0], 'trace': [-2]})"
      ]
     },
     "metadata": {},
     "output_type": "display_data"
    },
    {
     "data": {
      "text/html": [
       "<html><script type=\"math/tex; mode=display\">\\newcommand{\\Bold}[1]{\\mathbf{#1}}\\left(\\verb|[0,|\\phantom{\\verb!x!}\\verb|1,|\\phantom{\\verb!x!}\\verb|1,|\\phantom{\\verb!x!}\\verb|0,|\\phantom{\\verb!x!}\\verb|0,|\\phantom{\\verb!x!}\\verb|1]|, \\left\\{\\verb|mon| : \\left(\\begin{array}{rr}\n",
       "l^{2} - 1 & -l^{3} + 2 \\, l \\\\\n",
       "-l & l^{2} - 1\n",
       "\\end{array}\\right), \\verb|sol| : \\left[0\\right], \\verb|trace| : \\left[-2\\right]\\right\\}\\right)</script></html>"
      ],
      "text/latex": [
       "\\begin{math}\n",
       "\\newcommand{\\Bold}[1]{\\mathbf{#1}}\\left(\\verb|[0,|\\phantom{\\verb!x!}\\verb|1,|\\phantom{\\verb!x!}\\verb|1,|\\phantom{\\verb!x!}\\verb|0,|\\phantom{\\verb!x!}\\verb|0,|\\phantom{\\verb!x!}\\verb|1]|, \\left\\{\\verb|mon| : \\left(\\begin{array}{rr}\n",
       "l^{2} - 1 & -l^{3} + 2 \\, l \\\\\n",
       "-l & l^{2} - 1\n",
       "\\end{array}\\right), \\verb|sol| : \\left[0\\right], \\verb|trace| : \\left[-2\\right]\\right\\}\\right)\n",
       "\\end{math}"
      ],
      "text/plain": [
       "('[0, 1, 1, 0, 0, 1]',\n",
       " {'mon': [   l^2 - 1 -l^3 + 2*l]\n",
       "  [        -l    l^2 - 1], 'sol': [0], 'trace': [-2]})"
      ]
     },
     "metadata": {},
     "output_type": "display_data"
    },
    {
     "data": {
      "text/html": [
       "<html><script type=\"math/tex; mode=display\">\\newcommand{\\Bold}[1]{\\mathbf{#1}}\\left(\\verb|[1,|\\phantom{\\verb!x!}\\verb|1,|\\phantom{\\verb!x!}\\verb|1,|\\phantom{\\verb!x!}\\verb|0,|\\phantom{\\verb!x!}\\verb|0,|\\phantom{\\verb!x!}\\verb|1]|, \\left\\{\\verb|mon| : \\left(\\begin{array}{rr}\n",
       "-l^{4} + 3 \\, l^{2} - 1 & -l^{3} + 2 \\, l \\\\\n",
       "l^{3} - 2 \\, l & l^{2} - 1\n",
       "\\end{array}\\right), \\verb|sol| : \\left[-\\sqrt{2}, 0, \\sqrt{2}\\right], \\verb|trace| : \\left[2, -2, 2\\right]\\right\\}\\right)</script></html>"
      ],
      "text/latex": [
       "\\begin{math}\n",
       "\\newcommand{\\Bold}[1]{\\mathbf{#1}}\\left(\\verb|[1,|\\phantom{\\verb!x!}\\verb|1,|\\phantom{\\verb!x!}\\verb|1,|\\phantom{\\verb!x!}\\verb|0,|\\phantom{\\verb!x!}\\verb|0,|\\phantom{\\verb!x!}\\verb|1]|, \\left\\{\\verb|mon| : \\left(\\begin{array}{rr}\n",
       "-l^{4} + 3 \\, l^{2} - 1 & -l^{3} + 2 \\, l \\\\\n",
       "l^{3} - 2 \\, l & l^{2} - 1\n",
       "\\end{array}\\right), \\verb|sol| : \\left[-\\sqrt{2}, 0, \\sqrt{2}\\right], \\verb|trace| : \\left[2, -2, 2\\right]\\right\\}\\right)\n",
       "\\end{math}"
      ],
      "text/plain": [
       "('[1, 1, 1, 0, 0, 1]',\n",
       " {'mon': [-l^4 + 3*l^2 - 1       -l^3 + 2*l]\n",
       "  [       l^3 - 2*l          l^2 - 1],\n",
       "  'sol': [-sqrt(2), 0, sqrt(2)],\n",
       "  'trace': [2, -2, 2]})"
      ]
     },
     "metadata": {},
     "output_type": "display_data"
    },
    {
     "data": {
      "text/html": [
       "<html><script type=\"math/tex; mode=display\">\\newcommand{\\Bold}[1]{\\mathbf{#1}}\\left(\\verb|[0,|\\phantom{\\verb!x!}\\verb|0,|\\phantom{\\verb!x!}\\verb|0,|\\phantom{\\verb!x!}\\verb|1,|\\phantom{\\verb!x!}\\verb|0,|\\phantom{\\verb!x!}\\verb|1]|, \\left\\{\\verb|mon| : \\left(\\begin{array}{rr}\n",
       "-1 & 2 \\, l \\\\\n",
       "0 & -1\n",
       "\\end{array}\\right), \\verb|sol| : \\left[r_{1}\\right], \\verb|trace| : \\left[-2\\right]\\right\\}\\right)</script></html>"
      ],
      "text/latex": [
       "\\begin{math}\n",
       "\\newcommand{\\Bold}[1]{\\mathbf{#1}}\\left(\\verb|[0,|\\phantom{\\verb!x!}\\verb|0,|\\phantom{\\verb!x!}\\verb|0,|\\phantom{\\verb!x!}\\verb|1,|\\phantom{\\verb!x!}\\verb|0,|\\phantom{\\verb!x!}\\verb|1]|, \\left\\{\\verb|mon| : \\left(\\begin{array}{rr}\n",
       "-1 & 2 \\, l \\\\\n",
       "0 & -1\n",
       "\\end{array}\\right), \\verb|sol| : \\left[r_{1}\\right], \\verb|trace| : \\left[-2\\right]\\right\\}\\right)\n",
       "\\end{math}"
      ],
      "text/plain": [
       "('[0, 0, 0, 1, 0, 1]',\n",
       " {'mon': [ -1 2*l]\n",
       "  [  0  -1], 'sol': [r1], 'trace': [-2]})"
      ]
     },
     "metadata": {},
     "output_type": "display_data"
    },
    {
     "data": {
      "text/html": [
       "<html><script type=\"math/tex; mode=display\">\\newcommand{\\Bold}[1]{\\mathbf{#1}}\\left(\\verb|[1,|\\phantom{\\verb!x!}\\verb|0,|\\phantom{\\verb!x!}\\verb|0,|\\phantom{\\verb!x!}\\verb|1,|\\phantom{\\verb!x!}\\verb|0,|\\phantom{\\verb!x!}\\verb|1]|, \\left\\{\\verb|mon| : \\left(\\begin{array}{rr}\n",
       "2 \\, l^{2} - 1 & 2 \\, l \\\\\n",
       "-l & -1\n",
       "\\end{array}\\right), \\verb|sol| : \\left[0\\right], \\verb|trace| : \\left[-2\\right]\\right\\}\\right)</script></html>"
      ],
      "text/latex": [
       "\\begin{math}\n",
       "\\newcommand{\\Bold}[1]{\\mathbf{#1}}\\left(\\verb|[1,|\\phantom{\\verb!x!}\\verb|0,|\\phantom{\\verb!x!}\\verb|0,|\\phantom{\\verb!x!}\\verb|1,|\\phantom{\\verb!x!}\\verb|0,|\\phantom{\\verb!x!}\\verb|1]|, \\left\\{\\verb|mon| : \\left(\\begin{array}{rr}\n",
       "2 \\, l^{2} - 1 & 2 \\, l \\\\\n",
       "-l & -1\n",
       "\\end{array}\\right), \\verb|sol| : \\left[0\\right], \\verb|trace| : \\left[-2\\right]\\right\\}\\right)\n",
       "\\end{math}"
      ],
      "text/plain": [
       "('[1, 0, 0, 1, 0, 1]',\n",
       " {'mon': [2*l^2 - 1       2*l]\n",
       "  [       -l        -1], 'sol': [0], 'trace': [-2]})"
      ]
     },
     "metadata": {},
     "output_type": "display_data"
    },
    {
     "data": {
      "text/html": [
       "<html><script type=\"math/tex; mode=display\">\\newcommand{\\Bold}[1]{\\mathbf{#1}}\\left(\\verb|[0,|\\phantom{\\verb!x!}\\verb|1,|\\phantom{\\verb!x!}\\verb|0,|\\phantom{\\verb!x!}\\verb|1,|\\phantom{\\verb!x!}\\verb|0,|\\phantom{\\verb!x!}\\verb|1]|, \\left\\{\\verb|mon| : \\left(\\begin{array}{rr}\n",
       "-1 & 3 \\, l \\\\\n",
       "0 & -1\n",
       "\\end{array}\\right), \\verb|sol| : \\left[r_{1}\\right], \\verb|trace| : \\left[-2\\right]\\right\\}\\right)</script></html>"
      ],
      "text/latex": [
       "\\begin{math}\n",
       "\\newcommand{\\Bold}[1]{\\mathbf{#1}}\\left(\\verb|[0,|\\phantom{\\verb!x!}\\verb|1,|\\phantom{\\verb!x!}\\verb|0,|\\phantom{\\verb!x!}\\verb|1,|\\phantom{\\verb!x!}\\verb|0,|\\phantom{\\verb!x!}\\verb|1]|, \\left\\{\\verb|mon| : \\left(\\begin{array}{rr}\n",
       "-1 & 3 \\, l \\\\\n",
       "0 & -1\n",
       "\\end{array}\\right), \\verb|sol| : \\left[r_{1}\\right], \\verb|trace| : \\left[-2\\right]\\right\\}\\right)\n",
       "\\end{math}"
      ],
      "text/plain": [
       "('[0, 1, 0, 1, 0, 1]',\n",
       " {'mon': [ -1 3*l]\n",
       "  [  0  -1], 'sol': [r1], 'trace': [-2]})"
      ]
     },
     "metadata": {},
     "output_type": "display_data"
    },
    {
     "data": {
      "text/html": [
       "<html><script type=\"math/tex; mode=display\">\\newcommand{\\Bold}[1]{\\mathbf{#1}}\\left(\\verb|[1,|\\phantom{\\verb!x!}\\verb|1,|\\phantom{\\verb!x!}\\verb|0,|\\phantom{\\verb!x!}\\verb|1,|\\phantom{\\verb!x!}\\verb|0,|\\phantom{\\verb!x!}\\verb|1]|, \\left\\{\\verb|mon| : \\left(\\begin{array}{rr}\n",
       "3 \\, l^{2} - 1 & 3 \\, l \\\\\n",
       "-l & -1\n",
       "\\end{array}\\right), \\verb|sol| : \\left[0\\right], \\verb|trace| : \\left[-2\\right]\\right\\}\\right)</script></html>"
      ],
      "text/latex": [
       "\\begin{math}\n",
       "\\newcommand{\\Bold}[1]{\\mathbf{#1}}\\left(\\verb|[1,|\\phantom{\\verb!x!}\\verb|1,|\\phantom{\\verb!x!}\\verb|0,|\\phantom{\\verb!x!}\\verb|1,|\\phantom{\\verb!x!}\\verb|0,|\\phantom{\\verb!x!}\\verb|1]|, \\left\\{\\verb|mon| : \\left(\\begin{array}{rr}\n",
       "3 \\, l^{2} - 1 & 3 \\, l \\\\\n",
       "-l & -1\n",
       "\\end{array}\\right), \\verb|sol| : \\left[0\\right], \\verb|trace| : \\left[-2\\right]\\right\\}\\right)\n",
       "\\end{math}"
      ],
      "text/plain": [
       "('[1, 1, 0, 1, 0, 1]',\n",
       " {'mon': [3*l^2 - 1       3*l]\n",
       "  [       -l        -1], 'sol': [0], 'trace': [-2]})"
      ]
     },
     "metadata": {},
     "output_type": "display_data"
    },
    {
     "data": {
      "text/html": [
       "<html><script type=\"math/tex; mode=display\">\\newcommand{\\Bold}[1]{\\mathbf{#1}}\\left(\\verb|[0,|\\phantom{\\verb!x!}\\verb|0,|\\phantom{\\verb!x!}\\verb|1,|\\phantom{\\verb!x!}\\verb|1,|\\phantom{\\verb!x!}\\verb|0,|\\phantom{\\verb!x!}\\verb|1]|, \\left\\{\\verb|mon| : \\left(\\begin{array}{rr}\n",
       "2 \\, l^{2} - 1 & 2 \\, l \\\\\n",
       "-l & -1\n",
       "\\end{array}\\right), \\verb|sol| : \\left[0\\right], \\verb|trace| : \\left[-2\\right]\\right\\}\\right)</script></html>"
      ],
      "text/latex": [
       "\\begin{math}\n",
       "\\newcommand{\\Bold}[1]{\\mathbf{#1}}\\left(\\verb|[0,|\\phantom{\\verb!x!}\\verb|0,|\\phantom{\\verb!x!}\\verb|1,|\\phantom{\\verb!x!}\\verb|1,|\\phantom{\\verb!x!}\\verb|0,|\\phantom{\\verb!x!}\\verb|1]|, \\left\\{\\verb|mon| : \\left(\\begin{array}{rr}\n",
       "2 \\, l^{2} - 1 & 2 \\, l \\\\\n",
       "-l & -1\n",
       "\\end{array}\\right), \\verb|sol| : \\left[0\\right], \\verb|trace| : \\left[-2\\right]\\right\\}\\right)\n",
       "\\end{math}"
      ],
      "text/plain": [
       "('[0, 0, 1, 1, 0, 1]',\n",
       " {'mon': [2*l^2 - 1       2*l]\n",
       "  [       -l        -1], 'sol': [0], 'trace': [-2]})"
      ]
     },
     "metadata": {},
     "output_type": "display_data"
    },
    {
     "data": {
      "text/html": [
       "<html><script type=\"math/tex; mode=display\">\\newcommand{\\Bold}[1]{\\mathbf{#1}}\\left(\\verb|[1,|\\phantom{\\verb!x!}\\verb|0,|\\phantom{\\verb!x!}\\verb|1,|\\phantom{\\verb!x!}\\verb|1,|\\phantom{\\verb!x!}\\verb|0,|\\phantom{\\verb!x!}\\verb|1]|, \\left\\{\\verb|mon| : \\left(\\begin{array}{rr}\n",
       "4 \\, l^{2} - 1 & 2 \\, l \\\\\n",
       "-2 \\, l & -1\n",
       "\\end{array}\\right), \\verb|sol| : \\left[0\\right], \\verb|trace| : \\left[-2\\right]\\right\\}\\right)</script></html>"
      ],
      "text/latex": [
       "\\begin{math}\n",
       "\\newcommand{\\Bold}[1]{\\mathbf{#1}}\\left(\\verb|[1,|\\phantom{\\verb!x!}\\verb|0,|\\phantom{\\verb!x!}\\verb|1,|\\phantom{\\verb!x!}\\verb|1,|\\phantom{\\verb!x!}\\verb|0,|\\phantom{\\verb!x!}\\verb|1]|, \\left\\{\\verb|mon| : \\left(\\begin{array}{rr}\n",
       "4 \\, l^{2} - 1 & 2 \\, l \\\\\n",
       "-2 \\, l & -1\n",
       "\\end{array}\\right), \\verb|sol| : \\left[0\\right], \\verb|trace| : \\left[-2\\right]\\right\\}\\right)\n",
       "\\end{math}"
      ],
      "text/plain": [
       "('[1, 0, 1, 1, 0, 1]',\n",
       " {'mon': [4*l^2 - 1       2*l]\n",
       "  [     -2*l        -1], 'sol': [0], 'trace': [-2]})"
      ]
     },
     "metadata": {},
     "output_type": "display_data"
    },
    {
     "data": {
      "text/html": [
       "<html><script type=\"math/tex; mode=display\">\\newcommand{\\Bold}[1]{\\mathbf{#1}}\\left(\\verb|[0,|\\phantom{\\verb!x!}\\verb|1,|\\phantom{\\verb!x!}\\verb|1,|\\phantom{\\verb!x!}\\verb|1,|\\phantom{\\verb!x!}\\verb|0,|\\phantom{\\verb!x!}\\verb|1]|, \\left\\{\\verb|mon| : \\left(\\begin{array}{rr}\n",
       "2 \\, l^{2} - 1 & -2 \\, l^{3} + 3 \\, l \\\\\n",
       "-l & l^{2} - 1\n",
       "\\end{array}\\right), \\verb|sol| : \\left[0\\right], \\verb|trace| : \\left[-2\\right]\\right\\}\\right)</script></html>"
      ],
      "text/latex": [
       "\\begin{math}\n",
       "\\newcommand{\\Bold}[1]{\\mathbf{#1}}\\left(\\verb|[0,|\\phantom{\\verb!x!}\\verb|1,|\\phantom{\\verb!x!}\\verb|1,|\\phantom{\\verb!x!}\\verb|1,|\\phantom{\\verb!x!}\\verb|0,|\\phantom{\\verb!x!}\\verb|1]|, \\left\\{\\verb|mon| : \\left(\\begin{array}{rr}\n",
       "2 \\, l^{2} - 1 & -2 \\, l^{3} + 3 \\, l \\\\\n",
       "-l & l^{2} - 1\n",
       "\\end{array}\\right), \\verb|sol| : \\left[0\\right], \\verb|trace| : \\left[-2\\right]\\right\\}\\right)\n",
       "\\end{math}"
      ],
      "text/plain": [
       "('[0, 1, 1, 1, 0, 1]',\n",
       " {'mon': [   2*l^2 - 1 -2*l^3 + 3*l]\n",
       "  [          -l      l^2 - 1], 'sol': [0], 'trace': [-2]})"
      ]
     },
     "metadata": {},
     "output_type": "display_data"
    },
    {
     "data": {
      "text/html": [
       "<html><script type=\"math/tex; mode=display\">\\newcommand{\\Bold}[1]{\\mathbf{#1}}\\left(\\verb|[1,|\\phantom{\\verb!x!}\\verb|1,|\\phantom{\\verb!x!}\\verb|1,|\\phantom{\\verb!x!}\\verb|1,|\\phantom{\\verb!x!}\\verb|0,|\\phantom{\\verb!x!}\\verb|1]|, \\left\\{\\verb|mon| : \\left(\\begin{array}{rr}\n",
       "-2 \\, l^{4} + 5 \\, l^{2} - 1 & -2 \\, l^{3} + 3 \\, l \\\\\n",
       "l^{3} - 2 \\, l & l^{2} - 1\n",
       "\\end{array}\\right), \\verb|sol| : \\left[-\\sqrt{2}, 0, \\sqrt{2}\\right], \\verb|trace| : \\left[2, -2, 2\\right]\\right\\}\\right)</script></html>"
      ],
      "text/latex": [
       "\\begin{math}\n",
       "\\newcommand{\\Bold}[1]{\\mathbf{#1}}\\left(\\verb|[1,|\\phantom{\\verb!x!}\\verb|1,|\\phantom{\\verb!x!}\\verb|1,|\\phantom{\\verb!x!}\\verb|1,|\\phantom{\\verb!x!}\\verb|0,|\\phantom{\\verb!x!}\\verb|1]|, \\left\\{\\verb|mon| : \\left(\\begin{array}{rr}\n",
       "-2 \\, l^{4} + 5 \\, l^{2} - 1 & -2 \\, l^{3} + 3 \\, l \\\\\n",
       "l^{3} - 2 \\, l & l^{2} - 1\n",
       "\\end{array}\\right), \\verb|sol| : \\left[-\\sqrt{2}, 0, \\sqrt{2}\\right], \\verb|trace| : \\left[2, -2, 2\\right]\\right\\}\\right)\n",
       "\\end{math}"
      ],
      "text/plain": [
       "('[1, 1, 1, 1, 0, 1]',\n",
       " {'mon': [-2*l^4 + 5*l^2 - 1       -2*l^3 + 3*l]\n",
       "  [         l^3 - 2*l            l^2 - 1],\n",
       "  'sol': [-sqrt(2), 0, sqrt(2)],\n",
       "  'trace': [2, -2, 2]})"
      ]
     },
     "metadata": {},
     "output_type": "display_data"
    },
    {
     "data": {
      "text/html": [
       "<html><script type=\"math/tex; mode=display\">\\newcommand{\\Bold}[1]{\\mathbf{#1}}\\left(\\verb|[0,|\\phantom{\\verb!x!}\\verb|0,|\\phantom{\\verb!x!}\\verb|0,|\\phantom{\\verb!x!}\\verb|0,|\\phantom{\\verb!x!}\\verb|1,|\\phantom{\\verb!x!}\\verb|1]|, \\left\\{\\verb|mon| : \\left(\\begin{array}{rr}\n",
       "l^{2} - 1 & l \\\\\n",
       "-l & -1\n",
       "\\end{array}\\right), \\verb|sol| : \\left[0\\right], \\verb|trace| : \\left[-2\\right]\\right\\}\\right)</script></html>"
      ],
      "text/latex": [
       "\\begin{math}\n",
       "\\newcommand{\\Bold}[1]{\\mathbf{#1}}\\left(\\verb|[0,|\\phantom{\\verb!x!}\\verb|0,|\\phantom{\\verb!x!}\\verb|0,|\\phantom{\\verb!x!}\\verb|0,|\\phantom{\\verb!x!}\\verb|1,|\\phantom{\\verb!x!}\\verb|1]|, \\left\\{\\verb|mon| : \\left(\\begin{array}{rr}\n",
       "l^{2} - 1 & l \\\\\n",
       "-l & -1\n",
       "\\end{array}\\right), \\verb|sol| : \\left[0\\right], \\verb|trace| : \\left[-2\\right]\\right\\}\\right)\n",
       "\\end{math}"
      ],
      "text/plain": [
       "('[0, 0, 0, 0, 1, 1]',\n",
       " {'mon': [l^2 - 1       l]\n",
       "  [     -l      -1], 'sol': [0], 'trace': [-2]})"
      ]
     },
     "metadata": {},
     "output_type": "display_data"
    },
    {
     "data": {
      "text/html": [
       "<html><script type=\"math/tex; mode=display\">\\newcommand{\\Bold}[1]{\\mathbf{#1}}\\left(\\verb|[1,|\\phantom{\\verb!x!}\\verb|0,|\\phantom{\\verb!x!}\\verb|0,|\\phantom{\\verb!x!}\\verb|0,|\\phantom{\\verb!x!}\\verb|1,|\\phantom{\\verb!x!}\\verb|1]|, \\left\\{\\verb|mon| : \\left(\\begin{array}{rr}\n",
       "2 \\, l^{2} - 1 & l \\\\\n",
       "-2 \\, l & -1\n",
       "\\end{array}\\right), \\verb|sol| : \\left[0\\right], \\verb|trace| : \\left[-2\\right]\\right\\}\\right)</script></html>"
      ],
      "text/latex": [
       "\\begin{math}\n",
       "\\newcommand{\\Bold}[1]{\\mathbf{#1}}\\left(\\verb|[1,|\\phantom{\\verb!x!}\\verb|0,|\\phantom{\\verb!x!}\\verb|0,|\\phantom{\\verb!x!}\\verb|0,|\\phantom{\\verb!x!}\\verb|1,|\\phantom{\\verb!x!}\\verb|1]|, \\left\\{\\verb|mon| : \\left(\\begin{array}{rr}\n",
       "2 \\, l^{2} - 1 & l \\\\\n",
       "-2 \\, l & -1\n",
       "\\end{array}\\right), \\verb|sol| : \\left[0\\right], \\verb|trace| : \\left[-2\\right]\\right\\}\\right)\n",
       "\\end{math}"
      ],
      "text/plain": [
       "('[1, 0, 0, 0, 1, 1]',\n",
       " {'mon': [2*l^2 - 1         l]\n",
       "  [     -2*l        -1], 'sol': [0], 'trace': [-2]})"
      ]
     },
     "metadata": {},
     "output_type": "display_data"
    },
    {
     "data": {
      "text/html": [
       "<html><script type=\"math/tex; mode=display\">\\newcommand{\\Bold}[1]{\\mathbf{#1}}\\left(\\verb|[0,|\\phantom{\\verb!x!}\\verb|1,|\\phantom{\\verb!x!}\\verb|0,|\\phantom{\\verb!x!}\\verb|0,|\\phantom{\\verb!x!}\\verb|1,|\\phantom{\\verb!x!}\\verb|1]|, \\left\\{\\verb|mon| : \\left(\\begin{array}{rr}\n",
       "l^{2} - 1 & -l^{3} + 2 \\, l \\\\\n",
       "-l & l^{2} - 1\n",
       "\\end{array}\\right), \\verb|sol| : \\left[0\\right], \\verb|trace| : \\left[-2\\right]\\right\\}\\right)</script></html>"
      ],
      "text/latex": [
       "\\begin{math}\n",
       "\\newcommand{\\Bold}[1]{\\mathbf{#1}}\\left(\\verb|[0,|\\phantom{\\verb!x!}\\verb|1,|\\phantom{\\verb!x!}\\verb|0,|\\phantom{\\verb!x!}\\verb|0,|\\phantom{\\verb!x!}\\verb|1,|\\phantom{\\verb!x!}\\verb|1]|, \\left\\{\\verb|mon| : \\left(\\begin{array}{rr}\n",
       "l^{2} - 1 & -l^{3} + 2 \\, l \\\\\n",
       "-l & l^{2} - 1\n",
       "\\end{array}\\right), \\verb|sol| : \\left[0\\right], \\verb|trace| : \\left[-2\\right]\\right\\}\\right)\n",
       "\\end{math}"
      ],
      "text/plain": [
       "('[0, 1, 0, 0, 1, 1]',\n",
       " {'mon': [   l^2 - 1 -l^3 + 2*l]\n",
       "  [        -l    l^2 - 1], 'sol': [0], 'trace': [-2]})"
      ]
     },
     "metadata": {},
     "output_type": "display_data"
    },
    {
     "data": {
      "text/html": [
       "<html><script type=\"math/tex; mode=display\">\\newcommand{\\Bold}[1]{\\mathbf{#1}}\\left(\\verb|[1,|\\phantom{\\verb!x!}\\verb|1,|\\phantom{\\verb!x!}\\verb|0,|\\phantom{\\verb!x!}\\verb|0,|\\phantom{\\verb!x!}\\verb|1,|\\phantom{\\verb!x!}\\verb|1]|, \\left\\{\\verb|mon| : \\left(\\begin{array}{rr}\n",
       "-l^{4} + 3 \\, l^{2} - 1 & -l^{3} + 2 \\, l \\\\\n",
       "l^{3} - 2 \\, l & l^{2} - 1\n",
       "\\end{array}\\right), \\verb|sol| : \\left[-\\sqrt{2}, 0, \\sqrt{2}\\right], \\verb|trace| : \\left[2, -2, 2\\right]\\right\\}\\right)</script></html>"
      ],
      "text/latex": [
       "\\begin{math}\n",
       "\\newcommand{\\Bold}[1]{\\mathbf{#1}}\\left(\\verb|[1,|\\phantom{\\verb!x!}\\verb|1,|\\phantom{\\verb!x!}\\verb|0,|\\phantom{\\verb!x!}\\verb|0,|\\phantom{\\verb!x!}\\verb|1,|\\phantom{\\verb!x!}\\verb|1]|, \\left\\{\\verb|mon| : \\left(\\begin{array}{rr}\n",
       "-l^{4} + 3 \\, l^{2} - 1 & -l^{3} + 2 \\, l \\\\\n",
       "l^{3} - 2 \\, l & l^{2} - 1\n",
       "\\end{array}\\right), \\verb|sol| : \\left[-\\sqrt{2}, 0, \\sqrt{2}\\right], \\verb|trace| : \\left[2, -2, 2\\right]\\right\\}\\right)\n",
       "\\end{math}"
      ],
      "text/plain": [
       "('[1, 1, 0, 0, 1, 1]',\n",
       " {'mon': [-l^4 + 3*l^2 - 1       -l^3 + 2*l]\n",
       "  [       l^3 - 2*l          l^2 - 1],\n",
       "  'sol': [-sqrt(2), 0, sqrt(2)],\n",
       "  'trace': [2, -2, 2]})"
      ]
     },
     "metadata": {},
     "output_type": "display_data"
    },
    {
     "data": {
      "text/html": [
       "<html><script type=\"math/tex; mode=display\">\\newcommand{\\Bold}[1]{\\mathbf{#1}}\\left(\\verb|[0,|\\phantom{\\verb!x!}\\verb|0,|\\phantom{\\verb!x!}\\verb|1,|\\phantom{\\verb!x!}\\verb|0,|\\phantom{\\verb!x!}\\verb|1,|\\phantom{\\verb!x!}\\verb|1]|, \\left\\{\\verb|mon| : \\left(\\begin{array}{rr}\n",
       "2 \\, l^{2} - 1 & l \\\\\n",
       "-2 \\, l & -1\n",
       "\\end{array}\\right), \\verb|sol| : \\left[0\\right], \\verb|trace| : \\left[-2\\right]\\right\\}\\right)</script></html>"
      ],
      "text/latex": [
       "\\begin{math}\n",
       "\\newcommand{\\Bold}[1]{\\mathbf{#1}}\\left(\\verb|[0,|\\phantom{\\verb!x!}\\verb|0,|\\phantom{\\verb!x!}\\verb|1,|\\phantom{\\verb!x!}\\verb|0,|\\phantom{\\verb!x!}\\verb|1,|\\phantom{\\verb!x!}\\verb|1]|, \\left\\{\\verb|mon| : \\left(\\begin{array}{rr}\n",
       "2 \\, l^{2} - 1 & l \\\\\n",
       "-2 \\, l & -1\n",
       "\\end{array}\\right), \\verb|sol| : \\left[0\\right], \\verb|trace| : \\left[-2\\right]\\right\\}\\right)\n",
       "\\end{math}"
      ],
      "text/plain": [
       "('[0, 0, 1, 0, 1, 1]',\n",
       " {'mon': [2*l^2 - 1         l]\n",
       "  [     -2*l        -1], 'sol': [0], 'trace': [-2]})"
      ]
     },
     "metadata": {},
     "output_type": "display_data"
    },
    {
     "data": {
      "text/html": [
       "<html><script type=\"math/tex; mode=display\">\\newcommand{\\Bold}[1]{\\mathbf{#1}}\\left(\\verb|[1,|\\phantom{\\verb!x!}\\verb|0,|\\phantom{\\verb!x!}\\verb|1,|\\phantom{\\verb!x!}\\verb|0,|\\phantom{\\verb!x!}\\verb|1,|\\phantom{\\verb!x!}\\verb|1]|, \\left\\{\\verb|mon| : \\left(\\begin{array}{rr}\n",
       "3 \\, l^{2} - 1 & l \\\\\n",
       "-3 \\, l & -1\n",
       "\\end{array}\\right), \\verb|sol| : \\left[0\\right], \\verb|trace| : \\left[-2\\right]\\right\\}\\right)</script></html>"
      ],
      "text/latex": [
       "\\begin{math}\n",
       "\\newcommand{\\Bold}[1]{\\mathbf{#1}}\\left(\\verb|[1,|\\phantom{\\verb!x!}\\verb|0,|\\phantom{\\verb!x!}\\verb|1,|\\phantom{\\verb!x!}\\verb|0,|\\phantom{\\verb!x!}\\verb|1,|\\phantom{\\verb!x!}\\verb|1]|, \\left\\{\\verb|mon| : \\left(\\begin{array}{rr}\n",
       "3 \\, l^{2} - 1 & l \\\\\n",
       "-3 \\, l & -1\n",
       "\\end{array}\\right), \\verb|sol| : \\left[0\\right], \\verb|trace| : \\left[-2\\right]\\right\\}\\right)\n",
       "\\end{math}"
      ],
      "text/plain": [
       "('[1, 0, 1, 0, 1, 1]',\n",
       " {'mon': [3*l^2 - 1         l]\n",
       "  [     -3*l        -1], 'sol': [0], 'trace': [-2]})"
      ]
     },
     "metadata": {},
     "output_type": "display_data"
    },
    {
     "data": {
      "text/html": [
       "<html><script type=\"math/tex; mode=display\">\\newcommand{\\Bold}[1]{\\mathbf{#1}}\\left(\\verb|[0,|\\phantom{\\verb!x!}\\verb|1,|\\phantom{\\verb!x!}\\verb|1,|\\phantom{\\verb!x!}\\verb|0,|\\phantom{\\verb!x!}\\verb|1,|\\phantom{\\verb!x!}\\verb|1]|, \\left\\{\\verb|mon| : \\left(\\begin{array}{rr}\n",
       "2 \\, l^{2} - 1 & -2 \\, l^{3} + 2 \\, l \\\\\n",
       "-2 \\, l & 2 \\, l^{2} - 1\n",
       "\\end{array}\\right), \\verb|sol| : \\left[0\\right], \\verb|trace| : \\left[-2\\right]\\right\\}\\right)</script></html>"
      ],
      "text/latex": [
       "\\begin{math}\n",
       "\\newcommand{\\Bold}[1]{\\mathbf{#1}}\\left(\\verb|[0,|\\phantom{\\verb!x!}\\verb|1,|\\phantom{\\verb!x!}\\verb|1,|\\phantom{\\verb!x!}\\verb|0,|\\phantom{\\verb!x!}\\verb|1,|\\phantom{\\verb!x!}\\verb|1]|, \\left\\{\\verb|mon| : \\left(\\begin{array}{rr}\n",
       "2 \\, l^{2} - 1 & -2 \\, l^{3} + 2 \\, l \\\\\n",
       "-2 \\, l & 2 \\, l^{2} - 1\n",
       "\\end{array}\\right), \\verb|sol| : \\left[0\\right], \\verb|trace| : \\left[-2\\right]\\right\\}\\right)\n",
       "\\end{math}"
      ],
      "text/plain": [
       "('[0, 1, 1, 0, 1, 1]',\n",
       " {'mon': [   2*l^2 - 1 -2*l^3 + 2*l]\n",
       "  [        -2*l    2*l^2 - 1], 'sol': [0], 'trace': [-2]})"
      ]
     },
     "metadata": {},
     "output_type": "display_data"
    },
    {
     "data": {
      "text/html": [
       "<html><script type=\"math/tex; mode=display\">\\newcommand{\\Bold}[1]{\\mathbf{#1}}\\left(\\verb|[1,|\\phantom{\\verb!x!}\\verb|1,|\\phantom{\\verb!x!}\\verb|1,|\\phantom{\\verb!x!}\\verb|0,|\\phantom{\\verb!x!}\\verb|1,|\\phantom{\\verb!x!}\\verb|1]|, \\left\\{\\verb|mon| : \\left(\\begin{array}{rr}\n",
       "-2 \\, l^{4} + 4 \\, l^{2} - 1 & -2 \\, l^{3} + 2 \\, l \\\\\n",
       "2 \\, l^{3} - 3 \\, l & 2 \\, l^{2} - 1\n",
       "\\end{array}\\right), \\verb|sol| : \\left[-\\frac{1}{2} \\, \\sqrt{3} \\sqrt{2}, 0, \\frac{1}{2} \\, \\sqrt{3} \\sqrt{2}\\right], \\verb|trace| : \\left[\\frac{5}{2}, -2, \\frac{5}{2}\\right]\\right\\}\\right)</script></html>"
      ],
      "text/latex": [
       "\\begin{math}\n",
       "\\newcommand{\\Bold}[1]{\\mathbf{#1}}\\left(\\verb|[1,|\\phantom{\\verb!x!}\\verb|1,|\\phantom{\\verb!x!}\\verb|1,|\\phantom{\\verb!x!}\\verb|0,|\\phantom{\\verb!x!}\\verb|1,|\\phantom{\\verb!x!}\\verb|1]|, \\left\\{\\verb|mon| : \\left(\\begin{array}{rr}\n",
       "-2 \\, l^{4} + 4 \\, l^{2} - 1 & -2 \\, l^{3} + 2 \\, l \\\\\n",
       "2 \\, l^{3} - 3 \\, l & 2 \\, l^{2} - 1\n",
       "\\end{array}\\right), \\verb|sol| : \\left[-\\frac{1}{2} \\, \\sqrt{3} \\sqrt{2}, 0, \\frac{1}{2} \\, \\sqrt{3} \\sqrt{2}\\right], \\verb|trace| : \\left[\\frac{5}{2}, -2, \\frac{5}{2}\\right]\\right\\}\\right)\n",
       "\\end{math}"
      ],
      "text/plain": [
       "('[1, 1, 1, 0, 1, 1]',\n",
       " {'mon': [-2*l^4 + 4*l^2 - 1       -2*l^3 + 2*l]\n",
       "  [       2*l^3 - 3*l          2*l^2 - 1],\n",
       "  'sol': [-1/2*sqrt(3)*sqrt(2), 0, 1/2*sqrt(3)*sqrt(2)],\n",
       "  'trace': [5/2, -2, 5/2]})"
      ]
     },
     "metadata": {},
     "output_type": "display_data"
    },
    {
     "data": {
      "text/html": [
       "<html><script type=\"math/tex; mode=display\">\\newcommand{\\Bold}[1]{\\mathbf{#1}}\\left(\\verb|[0,|\\phantom{\\verb!x!}\\verb|0,|\\phantom{\\verb!x!}\\verb|0,|\\phantom{\\verb!x!}\\verb|1,|\\phantom{\\verb!x!}\\verb|1,|\\phantom{\\verb!x!}\\verb|1]|, \\left\\{\\verb|mon| : \\left(\\begin{array}{rr}\n",
       "l^{2} - 1 & -l^{3} + 2 \\, l \\\\\n",
       "-l & l^{2} - 1\n",
       "\\end{array}\\right), \\verb|sol| : \\left[0\\right], \\verb|trace| : \\left[-2\\right]\\right\\}\\right)</script></html>"
      ],
      "text/latex": [
       "\\begin{math}\n",
       "\\newcommand{\\Bold}[1]{\\mathbf{#1}}\\left(\\verb|[0,|\\phantom{\\verb!x!}\\verb|0,|\\phantom{\\verb!x!}\\verb|0,|\\phantom{\\verb!x!}\\verb|1,|\\phantom{\\verb!x!}\\verb|1,|\\phantom{\\verb!x!}\\verb|1]|, \\left\\{\\verb|mon| : \\left(\\begin{array}{rr}\n",
       "l^{2} - 1 & -l^{3} + 2 \\, l \\\\\n",
       "-l & l^{2} - 1\n",
       "\\end{array}\\right), \\verb|sol| : \\left[0\\right], \\verb|trace| : \\left[-2\\right]\\right\\}\\right)\n",
       "\\end{math}"
      ],
      "text/plain": [
       "('[0, 0, 0, 1, 1, 1]',\n",
       " {'mon': [   l^2 - 1 -l^3 + 2*l]\n",
       "  [        -l    l^2 - 1], 'sol': [0], 'trace': [-2]})"
      ]
     },
     "metadata": {},
     "output_type": "display_data"
    },
    {
     "data": {
      "text/html": [
       "<html><script type=\"math/tex; mode=display\">\\newcommand{\\Bold}[1]{\\mathbf{#1}}\\left(\\verb|[1,|\\phantom{\\verb!x!}\\verb|0,|\\phantom{\\verb!x!}\\verb|0,|\\phantom{\\verb!x!}\\verb|1,|\\phantom{\\verb!x!}\\verb|1,|\\phantom{\\verb!x!}\\verb|1]|, \\left\\{\\verb|mon| : \\left(\\begin{array}{rr}\n",
       "-l^{4} + 3 \\, l^{2} - 1 & -l^{3} + 2 \\, l \\\\\n",
       "l^{3} - 2 \\, l & l^{2} - 1\n",
       "\\end{array}\\right), \\verb|sol| : \\left[-\\sqrt{2}, 0, \\sqrt{2}\\right], \\verb|trace| : \\left[2, -2, 2\\right]\\right\\}\\right)</script></html>"
      ],
      "text/latex": [
       "\\begin{math}\n",
       "\\newcommand{\\Bold}[1]{\\mathbf{#1}}\\left(\\verb|[1,|\\phantom{\\verb!x!}\\verb|0,|\\phantom{\\verb!x!}\\verb|0,|\\phantom{\\verb!x!}\\verb|1,|\\phantom{\\verb!x!}\\verb|1,|\\phantom{\\verb!x!}\\verb|1]|, \\left\\{\\verb|mon| : \\left(\\begin{array}{rr}\n",
       "-l^{4} + 3 \\, l^{2} - 1 & -l^{3} + 2 \\, l \\\\\n",
       "l^{3} - 2 \\, l & l^{2} - 1\n",
       "\\end{array}\\right), \\verb|sol| : \\left[-\\sqrt{2}, 0, \\sqrt{2}\\right], \\verb|trace| : \\left[2, -2, 2\\right]\\right\\}\\right)\n",
       "\\end{math}"
      ],
      "text/plain": [
       "('[1, 0, 0, 1, 1, 1]',\n",
       " {'mon': [-l^4 + 3*l^2 - 1       -l^3 + 2*l]\n",
       "  [       l^3 - 2*l          l^2 - 1],\n",
       "  'sol': [-sqrt(2), 0, sqrt(2)],\n",
       "  'trace': [2, -2, 2]})"
      ]
     },
     "metadata": {},
     "output_type": "display_data"
    },
    {
     "data": {
      "text/html": [
       "<html><script type=\"math/tex; mode=display\">\\newcommand{\\Bold}[1]{\\mathbf{#1}}\\left(\\verb|[0,|\\phantom{\\verb!x!}\\verb|1,|\\phantom{\\verb!x!}\\verb|0,|\\phantom{\\verb!x!}\\verb|1,|\\phantom{\\verb!x!}\\verb|1,|\\phantom{\\verb!x!}\\verb|1]|, \\left\\{\\verb|mon| : \\left(\\begin{array}{rr}\n",
       "l^{2} - 1 & -2 \\, l^{3} + 3 \\, l \\\\\n",
       "-l & 2 \\, l^{2} - 1\n",
       "\\end{array}\\right), \\verb|sol| : \\left[0\\right], \\verb|trace| : \\left[-2\\right]\\right\\}\\right)</script></html>"
      ],
      "text/latex": [
       "\\begin{math}\n",
       "\\newcommand{\\Bold}[1]{\\mathbf{#1}}\\left(\\verb|[0,|\\phantom{\\verb!x!}\\verb|1,|\\phantom{\\verb!x!}\\verb|0,|\\phantom{\\verb!x!}\\verb|1,|\\phantom{\\verb!x!}\\verb|1,|\\phantom{\\verb!x!}\\verb|1]|, \\left\\{\\verb|mon| : \\left(\\begin{array}{rr}\n",
       "l^{2} - 1 & -2 \\, l^{3} + 3 \\, l \\\\\n",
       "-l & 2 \\, l^{2} - 1\n",
       "\\end{array}\\right), \\verb|sol| : \\left[0\\right], \\verb|trace| : \\left[-2\\right]\\right\\}\\right)\n",
       "\\end{math}"
      ],
      "text/plain": [
       "('[0, 1, 0, 1, 1, 1]',\n",
       " {'mon': [     l^2 - 1 -2*l^3 + 3*l]\n",
       "  [          -l    2*l^2 - 1], 'sol': [0], 'trace': [-2]})"
      ]
     },
     "metadata": {},
     "output_type": "display_data"
    },
    {
     "data": {
      "text/html": [
       "<html><script type=\"math/tex; mode=display\">\\newcommand{\\Bold}[1]{\\mathbf{#1}}\\left(\\verb|[1,|\\phantom{\\verb!x!}\\verb|1,|\\phantom{\\verb!x!}\\verb|0,|\\phantom{\\verb!x!}\\verb|1,|\\phantom{\\verb!x!}\\verb|1,|\\phantom{\\verb!x!}\\verb|1]|, \\left\\{\\verb|mon| : \\left(\\begin{array}{rr}\n",
       "-2 \\, l^{4} + 4 \\, l^{2} - 1 & -2 \\, l^{3} + 3 \\, l \\\\\n",
       "2 \\, l^{3} - 2 \\, l & 2 \\, l^{2} - 1\n",
       "\\end{array}\\right), \\verb|sol| : \\left[-1, 0, 1\\right], \\verb|trace| : \\left[2, -2, 2\\right]\\right\\}\\right)</script></html>"
      ],
      "text/latex": [
       "\\begin{math}\n",
       "\\newcommand{\\Bold}[1]{\\mathbf{#1}}\\left(\\verb|[1,|\\phantom{\\verb!x!}\\verb|1,|\\phantom{\\verb!x!}\\verb|0,|\\phantom{\\verb!x!}\\verb|1,|\\phantom{\\verb!x!}\\verb|1,|\\phantom{\\verb!x!}\\verb|1]|, \\left\\{\\verb|mon| : \\left(\\begin{array}{rr}\n",
       "-2 \\, l^{4} + 4 \\, l^{2} - 1 & -2 \\, l^{3} + 3 \\, l \\\\\n",
       "2 \\, l^{3} - 2 \\, l & 2 \\, l^{2} - 1\n",
       "\\end{array}\\right), \\verb|sol| : \\left[-1, 0, 1\\right], \\verb|trace| : \\left[2, -2, 2\\right]\\right\\}\\right)\n",
       "\\end{math}"
      ],
      "text/plain": [
       "('[1, 1, 0, 1, 1, 1]',\n",
       " {'mon': [-2*l^4 + 4*l^2 - 1       -2*l^3 + 3*l]\n",
       "  [       2*l^3 - 2*l          2*l^2 - 1],\n",
       "  'sol': [-1, 0, 1],\n",
       "  'trace': [2, -2, 2]})"
      ]
     },
     "metadata": {},
     "output_type": "display_data"
    },
    {
     "data": {
      "text/html": [
       "<html><script type=\"math/tex; mode=display\">\\newcommand{\\Bold}[1]{\\mathbf{#1}}\\left(\\verb|[0,|\\phantom{\\verb!x!}\\verb|0,|\\phantom{\\verb!x!}\\verb|1,|\\phantom{\\verb!x!}\\verb|1,|\\phantom{\\verb!x!}\\verb|1,|\\phantom{\\verb!x!}\\verb|1]|, \\left\\{\\verb|mon| : \\left(\\begin{array}{rr}\n",
       "-l^{4} + 3 \\, l^{2} - 1 & -l^{3} + 2 \\, l \\\\\n",
       "l^{3} - 2 \\, l & l^{2} - 1\n",
       "\\end{array}\\right), \\verb|sol| : \\left[-\\sqrt{2}, 0, \\sqrt{2}\\right], \\verb|trace| : \\left[2, -2, 2\\right]\\right\\}\\right)</script></html>"
      ],
      "text/latex": [
       "\\begin{math}\n",
       "\\newcommand{\\Bold}[1]{\\mathbf{#1}}\\left(\\verb|[0,|\\phantom{\\verb!x!}\\verb|0,|\\phantom{\\verb!x!}\\verb|1,|\\phantom{\\verb!x!}\\verb|1,|\\phantom{\\verb!x!}\\verb|1,|\\phantom{\\verb!x!}\\verb|1]|, \\left\\{\\verb|mon| : \\left(\\begin{array}{rr}\n",
       "-l^{4} + 3 \\, l^{2} - 1 & -l^{3} + 2 \\, l \\\\\n",
       "l^{3} - 2 \\, l & l^{2} - 1\n",
       "\\end{array}\\right), \\verb|sol| : \\left[-\\sqrt{2}, 0, \\sqrt{2}\\right], \\verb|trace| : \\left[2, -2, 2\\right]\\right\\}\\right)\n",
       "\\end{math}"
      ],
      "text/plain": [
       "('[0, 0, 1, 1, 1, 1]',\n",
       " {'mon': [-l^4 + 3*l^2 - 1       -l^3 + 2*l]\n",
       "  [       l^3 - 2*l          l^2 - 1],\n",
       "  'sol': [-sqrt(2), 0, sqrt(2)],\n",
       "  'trace': [2, -2, 2]})"
      ]
     },
     "metadata": {},
     "output_type": "display_data"
    },
    {
     "data": {
      "text/html": [
       "<html><script type=\"math/tex; mode=display\">\\newcommand{\\Bold}[1]{\\mathbf{#1}}\\left(\\verb|[1,|\\phantom{\\verb!x!}\\verb|0,|\\phantom{\\verb!x!}\\verb|1,|\\phantom{\\verb!x!}\\verb|1,|\\phantom{\\verb!x!}\\verb|1,|\\phantom{\\verb!x!}\\verb|1]|, \\left\\{\\verb|mon| : \\left(\\begin{array}{rr}\n",
       "-2 \\, l^{4} + 5 \\, l^{2} - 1 & -l^{3} + 2 \\, l \\\\\n",
       "2 \\, l^{3} - 3 \\, l & l^{2} - 1\n",
       "\\end{array}\\right), \\verb|sol| : \\left[-\\frac{1}{2} \\, \\sqrt{3} \\sqrt{2}, 0, \\frac{1}{2} \\, \\sqrt{3} \\sqrt{2}\\right], \\verb|trace| : \\left[\\frac{5}{2}, -2, \\frac{5}{2}\\right]\\right\\}\\right)</script></html>"
      ],
      "text/latex": [
       "\\begin{math}\n",
       "\\newcommand{\\Bold}[1]{\\mathbf{#1}}\\left(\\verb|[1,|\\phantom{\\verb!x!}\\verb|0,|\\phantom{\\verb!x!}\\verb|1,|\\phantom{\\verb!x!}\\verb|1,|\\phantom{\\verb!x!}\\verb|1,|\\phantom{\\verb!x!}\\verb|1]|, \\left\\{\\verb|mon| : \\left(\\begin{array}{rr}\n",
       "-2 \\, l^{4} + 5 \\, l^{2} - 1 & -l^{3} + 2 \\, l \\\\\n",
       "2 \\, l^{3} - 3 \\, l & l^{2} - 1\n",
       "\\end{array}\\right), \\verb|sol| : \\left[-\\frac{1}{2} \\, \\sqrt{3} \\sqrt{2}, 0, \\frac{1}{2} \\, \\sqrt{3} \\sqrt{2}\\right], \\verb|trace| : \\left[\\frac{5}{2}, -2, \\frac{5}{2}\\right]\\right\\}\\right)\n",
       "\\end{math}"
      ],
      "text/plain": [
       "('[1, 0, 1, 1, 1, 1]',\n",
       " {'mon': [-2*l^4 + 5*l^2 - 1         -l^3 + 2*l]\n",
       "  [       2*l^3 - 3*l            l^2 - 1],\n",
       "  'sol': [-1/2*sqrt(3)*sqrt(2), 0, 1/2*sqrt(3)*sqrt(2)],\n",
       "  'trace': [5/2, -2, 5/2]})"
      ]
     },
     "metadata": {},
     "output_type": "display_data"
    },
    {
     "data": {
      "text/html": [
       "<html><script type=\"math/tex; mode=display\">\\newcommand{\\Bold}[1]{\\mathbf{#1}}\\left(\\verb|[0,|\\phantom{\\verb!x!}\\verb|1,|\\phantom{\\verb!x!}\\verb|1,|\\phantom{\\verb!x!}\\verb|1,|\\phantom{\\verb!x!}\\verb|1,|\\phantom{\\verb!x!}\\verb|1]|, \\left\\{\\verb|mon| : \\left(\\begin{array}{rr}\n",
       "-l^{4} + 3 \\, l^{2} - 1 & l^{5} - 4 \\, l^{3} + 3 \\, l \\\\\n",
       "l^{3} - 2 \\, l & -l^{4} + 3 \\, l^{2} - 1\n",
       "\\end{array}\\right), \\verb|sol| : \\left[-\\sqrt{2}, 0, \\sqrt{2}\\right], \\verb|trace| : \\left[2, -2, 2\\right]\\right\\}\\right)</script></html>"
      ],
      "text/latex": [
       "\\begin{math}\n",
       "\\newcommand{\\Bold}[1]{\\mathbf{#1}}\\left(\\verb|[0,|\\phantom{\\verb!x!}\\verb|1,|\\phantom{\\verb!x!}\\verb|1,|\\phantom{\\verb!x!}\\verb|1,|\\phantom{\\verb!x!}\\verb|1,|\\phantom{\\verb!x!}\\verb|1]|, \\left\\{\\verb|mon| : \\left(\\begin{array}{rr}\n",
       "-l^{4} + 3 \\, l^{2} - 1 & l^{5} - 4 \\, l^{3} + 3 \\, l \\\\\n",
       "l^{3} - 2 \\, l & -l^{4} + 3 \\, l^{2} - 1\n",
       "\\end{array}\\right), \\verb|sol| : \\left[-\\sqrt{2}, 0, \\sqrt{2}\\right], \\verb|trace| : \\left[2, -2, 2\\right]\\right\\}\\right)\n",
       "\\end{math}"
      ],
      "text/plain": [
       "('[0, 1, 1, 1, 1, 1]',\n",
       " {'mon': [ -l^4 + 3*l^2 - 1 l^5 - 4*l^3 + 3*l]\n",
       "  [        l^3 - 2*l  -l^4 + 3*l^2 - 1],\n",
       "  'sol': [-sqrt(2), 0, sqrt(2)],\n",
       "  'trace': [2, -2, 2]})"
      ]
     },
     "metadata": {},
     "output_type": "display_data"
    },
    {
     "data": {
      "text/html": [
       "<html><script type=\"math/tex; mode=display\">\\newcommand{\\Bold}[1]{\\mathbf{#1}}\\left(\\verb|[1,|\\phantom{\\verb!x!}\\verb|1,|\\phantom{\\verb!x!}\\verb|1,|\\phantom{\\verb!x!}\\verb|1,|\\phantom{\\verb!x!}\\verb|1,|\\phantom{\\verb!x!}\\verb|1]|, \\left\\{\\verb|mon| : \\left(\\begin{array}{rr}\n",
       "l^{6} - 5 \\, l^{4} + 6 \\, l^{2} - 1 & l^{5} - 4 \\, l^{3} + 3 \\, l \\\\\n",
       "-l^{5} + 4 \\, l^{3} - 3 \\, l & -l^{4} + 3 \\, l^{2} - 1\n",
       "\\end{array}\\right), \\verb|sol| : \\left[-\\sqrt{3}, -1, 0, 1, \\sqrt{3}\\right], \\verb|trace| : \\left[-2, 2, -2, 2, -2\\right]\\right\\}\\right)</script></html>"
      ],
      "text/latex": [
       "\\begin{math}\n",
       "\\newcommand{\\Bold}[1]{\\mathbf{#1}}\\left(\\verb|[1,|\\phantom{\\verb!x!}\\verb|1,|\\phantom{\\verb!x!}\\verb|1,|\\phantom{\\verb!x!}\\verb|1,|\\phantom{\\verb!x!}\\verb|1,|\\phantom{\\verb!x!}\\verb|1]|, \\left\\{\\verb|mon| : \\left(\\begin{array}{rr}\n",
       "l^{6} - 5 \\, l^{4} + 6 \\, l^{2} - 1 & l^{5} - 4 \\, l^{3} + 3 \\, l \\\\\n",
       "-l^{5} + 4 \\, l^{3} - 3 \\, l & -l^{4} + 3 \\, l^{2} - 1\n",
       "\\end{array}\\right), \\verb|sol| : \\left[-\\sqrt{3}, -1, 0, 1, \\sqrt{3}\\right], \\verb|trace| : \\left[-2, 2, -2, 2, -2\\right]\\right\\}\\right)\n",
       "\\end{math}"
      ],
      "text/plain": [
       "('[1, 1, 1, 1, 1, 1]',\n",
       " {'mon': [l^6 - 5*l^4 + 6*l^2 - 1       l^5 - 4*l^3 + 3*l]\n",
       "  [     -l^5 + 4*l^3 - 3*l        -l^4 + 3*l^2 - 1],\n",
       "  'sol': [-sqrt(3), -1, 0, 1, sqrt(3)],\n",
       "  'trace': [-2, 2, -2, 2, -2]})"
      ]
     },
     "metadata": {},
     "output_type": "display_data"
    },
    {
     "data": {
      "text/html": [
       "<html><script type=\"math/tex; mode=display\">\\newcommand{\\Bold}[1]{\\mathbf{#1}}\\verb|Period|\\phantom{\\verb!x!}\\verb|Length|\\phantom{\\verb!x!}\\verb|K|\\phantom{\\verb!x!}\\verb|=| 7</script></html>"
      ],
      "text/latex": [
       "\\begin{math}\n",
       "\\newcommand{\\Bold}[1]{\\mathbf{#1}}\\verb|Period|\\phantom{\\verb!x!}\\verb|Length|\\phantom{\\verb!x!}\\verb|K|\\phantom{\\verb!x!}\\verb|=| 7\n",
       "\\end{math}"
      ],
      "text/plain": [
       "'Period Length K = ' 7"
      ]
     },
     "metadata": {},
     "output_type": "display_data"
    },
    {
     "data": {
      "text/html": [
       "<html><script type=\"math/tex; mode=display\">\\newcommand{\\Bold}[1]{\\mathbf{#1}}\\left(\\verb|[0,|\\phantom{\\verb!x!}\\verb|0,|\\phantom{\\verb!x!}\\verb|0,|\\phantom{\\verb!x!}\\verb|0,|\\phantom{\\verb!x!}\\verb|0,|\\phantom{\\verb!x!}\\verb|0,|\\phantom{\\verb!x!}\\verb|0]|, \\left\\{\\verb|mon| : \\left(\\begin{array}{rr}\n",
       "0 & 1 \\\\\n",
       "-1 & 0\n",
       "\\end{array}\\right), \\verb|sol| : \\left[\\right], \\verb|trace| : \\left[\\right]\\right\\}\\right)</script></html>"
      ],
      "text/latex": [
       "\\begin{math}\n",
       "\\newcommand{\\Bold}[1]{\\mathbf{#1}}\\left(\\verb|[0,|\\phantom{\\verb!x!}\\verb|0,|\\phantom{\\verb!x!}\\verb|0,|\\phantom{\\verb!x!}\\verb|0,|\\phantom{\\verb!x!}\\verb|0,|\\phantom{\\verb!x!}\\verb|0,|\\phantom{\\verb!x!}\\verb|0]|, \\left\\{\\verb|mon| : \\left(\\begin{array}{rr}\n",
       "0 & 1 \\\\\n",
       "-1 & 0\n",
       "\\end{array}\\right), \\verb|sol| : \\left[\\right], \\verb|trace| : \\left[\\right]\\right\\}\\right)\n",
       "\\end{math}"
      ],
      "text/plain": [
       "('[0, 0, 0, 0, 0, 0, 0]',\n",
       " {'mon': [ 0  1]\n",
       "  [-1  0], 'sol': [], 'trace': []})"
      ]
     },
     "metadata": {},
     "output_type": "display_data"
    },
    {
     "data": {
      "text/html": [
       "<html><script type=\"math/tex; mode=display\">\\newcommand{\\Bold}[1]{\\mathbf{#1}}\\left(\\verb|[1,|\\phantom{\\verb!x!}\\verb|0,|\\phantom{\\verb!x!}\\verb|0,|\\phantom{\\verb!x!}\\verb|0,|\\phantom{\\verb!x!}\\verb|0,|\\phantom{\\verb!x!}\\verb|0,|\\phantom{\\verb!x!}\\verb|0]|, \\left\\{\\verb|mon| : \\left(\\begin{array}{rr}\n",
       "l & 1 \\\\\n",
       "-1 & 0\n",
       "\\end{array}\\right), \\verb|sol| : \\left[\\right], \\verb|trace| : \\left[\\right]\\right\\}\\right)</script></html>"
      ],
      "text/latex": [
       "\\begin{math}\n",
       "\\newcommand{\\Bold}[1]{\\mathbf{#1}}\\left(\\verb|[1,|\\phantom{\\verb!x!}\\verb|0,|\\phantom{\\verb!x!}\\verb|0,|\\phantom{\\verb!x!}\\verb|0,|\\phantom{\\verb!x!}\\verb|0,|\\phantom{\\verb!x!}\\verb|0,|\\phantom{\\verb!x!}\\verb|0]|, \\left\\{\\verb|mon| : \\left(\\begin{array}{rr}\n",
       "l & 1 \\\\\n",
       "-1 & 0\n",
       "\\end{array}\\right), \\verb|sol| : \\left[\\right], \\verb|trace| : \\left[\\right]\\right\\}\\right)\n",
       "\\end{math}"
      ],
      "text/plain": [
       "('[1, 0, 0, 0, 0, 0, 0]',\n",
       " {'mon': [ l  1]\n",
       "  [-1  0], 'sol': [], 'trace': []})"
      ]
     },
     "metadata": {},
     "output_type": "display_data"
    },
    {
     "data": {
      "text/html": [
       "<html><script type=\"math/tex; mode=display\">\\newcommand{\\Bold}[1]{\\mathbf{#1}}\\left(\\verb|[0,|\\phantom{\\verb!x!}\\verb|1,|\\phantom{\\verb!x!}\\verb|0,|\\phantom{\\verb!x!}\\verb|0,|\\phantom{\\verb!x!}\\verb|0,|\\phantom{\\verb!x!}\\verb|0,|\\phantom{\\verb!x!}\\verb|0]|, \\left\\{\\verb|mon| : \\left(\\begin{array}{rr}\n",
       "0 & 1 \\\\\n",
       "-1 & l\n",
       "\\end{array}\\right), \\verb|sol| : \\left[\\right], \\verb|trace| : \\left[\\right]\\right\\}\\right)</script></html>"
      ],
      "text/latex": [
       "\\begin{math}\n",
       "\\newcommand{\\Bold}[1]{\\mathbf{#1}}\\left(\\verb|[0,|\\phantom{\\verb!x!}\\verb|1,|\\phantom{\\verb!x!}\\verb|0,|\\phantom{\\verb!x!}\\verb|0,|\\phantom{\\verb!x!}\\verb|0,|\\phantom{\\verb!x!}\\verb|0,|\\phantom{\\verb!x!}\\verb|0]|, \\left\\{\\verb|mon| : \\left(\\begin{array}{rr}\n",
       "0 & 1 \\\\\n",
       "-1 & l\n",
       "\\end{array}\\right), \\verb|sol| : \\left[\\right], \\verb|trace| : \\left[\\right]\\right\\}\\right)\n",
       "\\end{math}"
      ],
      "text/plain": [
       "('[0, 1, 0, 0, 0, 0, 0]',\n",
       " {'mon': [ 0  1]\n",
       "  [-1  l], 'sol': [], 'trace': []})"
      ]
     },
     "metadata": {},
     "output_type": "display_data"
    },
    {
     "data": {
      "text/html": [
       "<html><script type=\"math/tex; mode=display\">\\newcommand{\\Bold}[1]{\\mathbf{#1}}\\left(\\verb|[1,|\\phantom{\\verb!x!}\\verb|1,|\\phantom{\\verb!x!}\\verb|0,|\\phantom{\\verb!x!}\\verb|0,|\\phantom{\\verb!x!}\\verb|0,|\\phantom{\\verb!x!}\\verb|0,|\\phantom{\\verb!x!}\\verb|0]|, \\left\\{\\verb|mon| : \\left(\\begin{array}{rr}\n",
       "l & 1 \\\\\n",
       "l^{2} - 1 & l\n",
       "\\end{array}\\right), \\verb|sol| : \\left[-1, 1\\right], \\verb|trace| : \\left[-2, 2\\right]\\right\\}\\right)</script></html>"
      ],
      "text/latex": [
       "\\begin{math}\n",
       "\\newcommand{\\Bold}[1]{\\mathbf{#1}}\\left(\\verb|[1,|\\phantom{\\verb!x!}\\verb|1,|\\phantom{\\verb!x!}\\verb|0,|\\phantom{\\verb!x!}\\verb|0,|\\phantom{\\verb!x!}\\verb|0,|\\phantom{\\verb!x!}\\verb|0,|\\phantom{\\verb!x!}\\verb|0]|, \\left\\{\\verb|mon| : \\left(\\begin{array}{rr}\n",
       "l & 1 \\\\\n",
       "l^{2} - 1 & l\n",
       "\\end{array}\\right), \\verb|sol| : \\left[-1, 1\\right], \\verb|trace| : \\left[-2, 2\\right]\\right\\}\\right)\n",
       "\\end{math}"
      ],
      "text/plain": [
       "('[1, 1, 0, 0, 0, 0, 0]',\n",
       " {'mon': [      l       1]\n",
       "  [l^2 - 1       l], 'sol': [-1, 1], 'trace': [-2, 2]})"
      ]
     },
     "metadata": {},
     "output_type": "display_data"
    },
    {
     "data": {
      "text/html": [
       "<html><script type=\"math/tex; mode=display\">\\newcommand{\\Bold}[1]{\\mathbf{#1}}\\left(\\verb|[0,|\\phantom{\\verb!x!}\\verb|0,|\\phantom{\\verb!x!}\\verb|1,|\\phantom{\\verb!x!}\\verb|0,|\\phantom{\\verb!x!}\\verb|0,|\\phantom{\\verb!x!}\\verb|0,|\\phantom{\\verb!x!}\\verb|0]|, \\left\\{\\verb|mon| : \\left(\\begin{array}{rr}\n",
       "l & 1 \\\\\n",
       "-1 & 0\n",
       "\\end{array}\\right), \\verb|sol| : \\left[\\right], \\verb|trace| : \\left[\\right]\\right\\}\\right)</script></html>"
      ],
      "text/latex": [
       "\\begin{math}\n",
       "\\newcommand{\\Bold}[1]{\\mathbf{#1}}\\left(\\verb|[0,|\\phantom{\\verb!x!}\\verb|0,|\\phantom{\\verb!x!}\\verb|1,|\\phantom{\\verb!x!}\\verb|0,|\\phantom{\\verb!x!}\\verb|0,|\\phantom{\\verb!x!}\\verb|0,|\\phantom{\\verb!x!}\\verb|0]|, \\left\\{\\verb|mon| : \\left(\\begin{array}{rr}\n",
       "l & 1 \\\\\n",
       "-1 & 0\n",
       "\\end{array}\\right), \\verb|sol| : \\left[\\right], \\verb|trace| : \\left[\\right]\\right\\}\\right)\n",
       "\\end{math}"
      ],
      "text/plain": [
       "('[0, 0, 1, 0, 0, 0, 0]',\n",
       " {'mon': [ l  1]\n",
       "  [-1  0], 'sol': [], 'trace': []})"
      ]
     },
     "metadata": {},
     "output_type": "display_data"
    },
    {
     "data": {
      "text/html": [
       "<html><script type=\"math/tex; mode=display\">\\newcommand{\\Bold}[1]{\\mathbf{#1}}\\left(\\verb|[1,|\\phantom{\\verb!x!}\\verb|0,|\\phantom{\\verb!x!}\\verb|1,|\\phantom{\\verb!x!}\\verb|0,|\\phantom{\\verb!x!}\\verb|0,|\\phantom{\\verb!x!}\\verb|0,|\\phantom{\\verb!x!}\\verb|0]|, \\left\\{\\verb|mon| : \\left(\\begin{array}{rr}\n",
       "2 \\, l & 1 \\\\\n",
       "-1 & 0\n",
       "\\end{array}\\right), \\verb|sol| : \\left[\\right], \\verb|trace| : \\left[\\right]\\right\\}\\right)</script></html>"
      ],
      "text/latex": [
       "\\begin{math}\n",
       "\\newcommand{\\Bold}[1]{\\mathbf{#1}}\\left(\\verb|[1,|\\phantom{\\verb!x!}\\verb|0,|\\phantom{\\verb!x!}\\verb|1,|\\phantom{\\verb!x!}\\verb|0,|\\phantom{\\verb!x!}\\verb|0,|\\phantom{\\verb!x!}\\verb|0,|\\phantom{\\verb!x!}\\verb|0]|, \\left\\{\\verb|mon| : \\left(\\begin{array}{rr}\n",
       "2 \\, l & 1 \\\\\n",
       "-1 & 0\n",
       "\\end{array}\\right), \\verb|sol| : \\left[\\right], \\verb|trace| : \\left[\\right]\\right\\}\\right)\n",
       "\\end{math}"
      ],
      "text/plain": [
       "('[1, 0, 1, 0, 0, 0, 0]',\n",
       " {'mon': [2*l   1]\n",
       "  [ -1   0], 'sol': [], 'trace': []})"
      ]
     },
     "metadata": {},
     "output_type": "display_data"
    },
    {
     "data": {
      "text/html": [
       "<html><script type=\"math/tex; mode=display\">\\newcommand{\\Bold}[1]{\\mathbf{#1}}\\left(\\verb|[0,|\\phantom{\\verb!x!}\\verb|1,|\\phantom{\\verb!x!}\\verb|1,|\\phantom{\\verb!x!}\\verb|0,|\\phantom{\\verb!x!}\\verb|0,|\\phantom{\\verb!x!}\\verb|0,|\\phantom{\\verb!x!}\\verb|0]|, \\left\\{\\verb|mon| : \\left(\\begin{array}{rr}\n",
       "l & -l^{2} + 1 \\\\\n",
       "-1 & l\n",
       "\\end{array}\\right), \\verb|sol| : \\left[\\right], \\verb|trace| : \\left[\\right]\\right\\}\\right)</script></html>"
      ],
      "text/latex": [
       "\\begin{math}\n",
       "\\newcommand{\\Bold}[1]{\\mathbf{#1}}\\left(\\verb|[0,|\\phantom{\\verb!x!}\\verb|1,|\\phantom{\\verb!x!}\\verb|1,|\\phantom{\\verb!x!}\\verb|0,|\\phantom{\\verb!x!}\\verb|0,|\\phantom{\\verb!x!}\\verb|0,|\\phantom{\\verb!x!}\\verb|0]|, \\left\\{\\verb|mon| : \\left(\\begin{array}{rr}\n",
       "l & -l^{2} + 1 \\\\\n",
       "-1 & l\n",
       "\\end{array}\\right), \\verb|sol| : \\left[\\right], \\verb|trace| : \\left[\\right]\\right\\}\\right)\n",
       "\\end{math}"
      ],
      "text/plain": [
       "('[0, 1, 1, 0, 0, 0, 0]',\n",
       " {'mon': [       l -l^2 + 1]\n",
       "  [      -1        l], 'sol': [], 'trace': []})"
      ]
     },
     "metadata": {},
     "output_type": "display_data"
    },
    {
     "data": {
      "text/html": [
       "<html><script type=\"math/tex; mode=display\">\\newcommand{\\Bold}[1]{\\mathbf{#1}}\\left(\\verb|[1,|\\phantom{\\verb!x!}\\verb|1,|\\phantom{\\verb!x!}\\verb|1,|\\phantom{\\verb!x!}\\verb|0,|\\phantom{\\verb!x!}\\verb|0,|\\phantom{\\verb!x!}\\verb|0,|\\phantom{\\verb!x!}\\verb|0]|, \\left\\{\\verb|mon| : \\left(\\begin{array}{rr}\n",
       "-l^{3} + 2 \\, l & -l^{2} + 1 \\\\\n",
       "l^{2} - 1 & l\n",
       "\\end{array}\\right), \\verb|sol| : \\left[-1, 1\\right], \\verb|trace| : \\left[-2, 2\\right]\\right\\}\\right)</script></html>"
      ],
      "text/latex": [
       "\\begin{math}\n",
       "\\newcommand{\\Bold}[1]{\\mathbf{#1}}\\left(\\verb|[1,|\\phantom{\\verb!x!}\\verb|1,|\\phantom{\\verb!x!}\\verb|1,|\\phantom{\\verb!x!}\\verb|0,|\\phantom{\\verb!x!}\\verb|0,|\\phantom{\\verb!x!}\\verb|0,|\\phantom{\\verb!x!}\\verb|0]|, \\left\\{\\verb|mon| : \\left(\\begin{array}{rr}\n",
       "-l^{3} + 2 \\, l & -l^{2} + 1 \\\\\n",
       "l^{2} - 1 & l\n",
       "\\end{array}\\right), \\verb|sol| : \\left[-1, 1\\right], \\verb|trace| : \\left[-2, 2\\right]\\right\\}\\right)\n",
       "\\end{math}"
      ],
      "text/plain": [
       "('[1, 1, 1, 0, 0, 0, 0]',\n",
       " {'mon': [-l^3 + 2*l   -l^2 + 1]\n",
       "  [   l^2 - 1          l], 'sol': [-1, 1], 'trace': [-2, 2]})"
      ]
     },
     "metadata": {},
     "output_type": "display_data"
    },
    {
     "data": {
      "text/html": [
       "<html><script type=\"math/tex; mode=display\">\\newcommand{\\Bold}[1]{\\mathbf{#1}}\\left(\\verb|[0,|\\phantom{\\verb!x!}\\verb|0,|\\phantom{\\verb!x!}\\verb|0,|\\phantom{\\verb!x!}\\verb|1,|\\phantom{\\verb!x!}\\verb|0,|\\phantom{\\verb!x!}\\verb|0,|\\phantom{\\verb!x!}\\verb|0]|, \\left\\{\\verb|mon| : \\left(\\begin{array}{rr}\n",
       "0 & 1 \\\\\n",
       "-1 & l\n",
       "\\end{array}\\right), \\verb|sol| : \\left[\\right], \\verb|trace| : \\left[\\right]\\right\\}\\right)</script></html>"
      ],
      "text/latex": [
       "\\begin{math}\n",
       "\\newcommand{\\Bold}[1]{\\mathbf{#1}}\\left(\\verb|[0,|\\phantom{\\verb!x!}\\verb|0,|\\phantom{\\verb!x!}\\verb|0,|\\phantom{\\verb!x!}\\verb|1,|\\phantom{\\verb!x!}\\verb|0,|\\phantom{\\verb!x!}\\verb|0,|\\phantom{\\verb!x!}\\verb|0]|, \\left\\{\\verb|mon| : \\left(\\begin{array}{rr}\n",
       "0 & 1 \\\\\n",
       "-1 & l\n",
       "\\end{array}\\right), \\verb|sol| : \\left[\\right], \\verb|trace| : \\left[\\right]\\right\\}\\right)\n",
       "\\end{math}"
      ],
      "text/plain": [
       "('[0, 0, 0, 1, 0, 0, 0]',\n",
       " {'mon': [ 0  1]\n",
       "  [-1  l], 'sol': [], 'trace': []})"
      ]
     },
     "metadata": {},
     "output_type": "display_data"
    },
    {
     "data": {
      "text/html": [
       "<html><script type=\"math/tex; mode=display\">\\newcommand{\\Bold}[1]{\\mathbf{#1}}\\left(\\verb|[1,|\\phantom{\\verb!x!}\\verb|0,|\\phantom{\\verb!x!}\\verb|0,|\\phantom{\\verb!x!}\\verb|1,|\\phantom{\\verb!x!}\\verb|0,|\\phantom{\\verb!x!}\\verb|0,|\\phantom{\\verb!x!}\\verb|0]|, \\left\\{\\verb|mon| : \\left(\\begin{array}{rr}\n",
       "l & 1 \\\\\n",
       "l^{2} - 1 & l\n",
       "\\end{array}\\right), \\verb|sol| : \\left[-1, 1\\right], \\verb|trace| : \\left[-2, 2\\right]\\right\\}\\right)</script></html>"
      ],
      "text/latex": [
       "\\begin{math}\n",
       "\\newcommand{\\Bold}[1]{\\mathbf{#1}}\\left(\\verb|[1,|\\phantom{\\verb!x!}\\verb|0,|\\phantom{\\verb!x!}\\verb|0,|\\phantom{\\verb!x!}\\verb|1,|\\phantom{\\verb!x!}\\verb|0,|\\phantom{\\verb!x!}\\verb|0,|\\phantom{\\verb!x!}\\verb|0]|, \\left\\{\\verb|mon| : \\left(\\begin{array}{rr}\n",
       "l & 1 \\\\\n",
       "l^{2} - 1 & l\n",
       "\\end{array}\\right), \\verb|sol| : \\left[-1, 1\\right], \\verb|trace| : \\left[-2, 2\\right]\\right\\}\\right)\n",
       "\\end{math}"
      ],
      "text/plain": [
       "('[1, 0, 0, 1, 0, 0, 0]',\n",
       " {'mon': [      l       1]\n",
       "  [l^2 - 1       l], 'sol': [-1, 1], 'trace': [-2, 2]})"
      ]
     },
     "metadata": {},
     "output_type": "display_data"
    },
    {
     "data": {
      "text/html": [
       "<html><script type=\"math/tex; mode=display\">\\newcommand{\\Bold}[1]{\\mathbf{#1}}\\left(\\verb|[0,|\\phantom{\\verb!x!}\\verb|1,|\\phantom{\\verb!x!}\\verb|0,|\\phantom{\\verb!x!}\\verb|1,|\\phantom{\\verb!x!}\\verb|0,|\\phantom{\\verb!x!}\\verb|0,|\\phantom{\\verb!x!}\\verb|0]|, \\left\\{\\verb|mon| : \\left(\\begin{array}{rr}\n",
       "0 & 1 \\\\\n",
       "-1 & 2 \\, l\n",
       "\\end{array}\\right), \\verb|sol| : \\left[\\right], \\verb|trace| : \\left[\\right]\\right\\}\\right)</script></html>"
      ],
      "text/latex": [
       "\\begin{math}\n",
       "\\newcommand{\\Bold}[1]{\\mathbf{#1}}\\left(\\verb|[0,|\\phantom{\\verb!x!}\\verb|1,|\\phantom{\\verb!x!}\\verb|0,|\\phantom{\\verb!x!}\\verb|1,|\\phantom{\\verb!x!}\\verb|0,|\\phantom{\\verb!x!}\\verb|0,|\\phantom{\\verb!x!}\\verb|0]|, \\left\\{\\verb|mon| : \\left(\\begin{array}{rr}\n",
       "0 & 1 \\\\\n",
       "-1 & 2 \\, l\n",
       "\\end{array}\\right), \\verb|sol| : \\left[\\right], \\verb|trace| : \\left[\\right]\\right\\}\\right)\n",
       "\\end{math}"
      ],
      "text/plain": [
       "('[0, 1, 0, 1, 0, 0, 0]',\n",
       " {'mon': [  0   1]\n",
       "  [ -1 2*l], 'sol': [], 'trace': []})"
      ]
     },
     "metadata": {},
     "output_type": "display_data"
    },
    {
     "data": {
      "text/html": [
       "<html><script type=\"math/tex; mode=display\">\\newcommand{\\Bold}[1]{\\mathbf{#1}}\\left(\\verb|[1,|\\phantom{\\verb!x!}\\verb|1,|\\phantom{\\verb!x!}\\verb|0,|\\phantom{\\verb!x!}\\verb|1,|\\phantom{\\verb!x!}\\verb|0,|\\phantom{\\verb!x!}\\verb|0,|\\phantom{\\verb!x!}\\verb|0]|, \\left\\{\\verb|mon| : \\left(\\begin{array}{rr}\n",
       "l & 1 \\\\\n",
       "2 \\, l^{2} - 1 & 2 \\, l\n",
       "\\end{array}\\right), \\verb|sol| : \\left[-\\frac{1}{2} \\, \\sqrt{2}, \\frac{1}{2} \\, \\sqrt{2}\\right], \\verb|trace| : \\left[-\\frac{3}{2} \\, \\sqrt{2}, \\frac{3}{2} \\, \\sqrt{2}\\right]\\right\\}\\right)</script></html>"
      ],
      "text/latex": [
       "\\begin{math}\n",
       "\\newcommand{\\Bold}[1]{\\mathbf{#1}}\\left(\\verb|[1,|\\phantom{\\verb!x!}\\verb|1,|\\phantom{\\verb!x!}\\verb|0,|\\phantom{\\verb!x!}\\verb|1,|\\phantom{\\verb!x!}\\verb|0,|\\phantom{\\verb!x!}\\verb|0,|\\phantom{\\verb!x!}\\verb|0]|, \\left\\{\\verb|mon| : \\left(\\begin{array}{rr}\n",
       "l & 1 \\\\\n",
       "2 \\, l^{2} - 1 & 2 \\, l\n",
       "\\end{array}\\right), \\verb|sol| : \\left[-\\frac{1}{2} \\, \\sqrt{2}, \\frac{1}{2} \\, \\sqrt{2}\\right], \\verb|trace| : \\left[-\\frac{3}{2} \\, \\sqrt{2}, \\frac{3}{2} \\, \\sqrt{2}\\right]\\right\\}\\right)\n",
       "\\end{math}"
      ],
      "text/plain": [
       "('[1, 1, 0, 1, 0, 0, 0]',\n",
       " {'mon': [        l         1]\n",
       "  [2*l^2 - 1       2*l],\n",
       "  'sol': [-1/2*sqrt(2), 1/2*sqrt(2)],\n",
       "  'trace': [-3/2*sqrt(2), 3/2*sqrt(2)]})"
      ]
     },
     "metadata": {},
     "output_type": "display_data"
    },
    {
     "data": {
      "text/html": [
       "<html><script type=\"math/tex; mode=display\">\\newcommand{\\Bold}[1]{\\mathbf{#1}}\\left(\\verb|[0,|\\phantom{\\verb!x!}\\verb|0,|\\phantom{\\verb!x!}\\verb|1,|\\phantom{\\verb!x!}\\verb|1,|\\phantom{\\verb!x!}\\verb|0,|\\phantom{\\verb!x!}\\verb|0,|\\phantom{\\verb!x!}\\verb|0]|, \\left\\{\\verb|mon| : \\left(\\begin{array}{rr}\n",
       "l & 1 \\\\\n",
       "l^{2} - 1 & l\n",
       "\\end{array}\\right), \\verb|sol| : \\left[-1, 1\\right], \\verb|trace| : \\left[-2, 2\\right]\\right\\}\\right)</script></html>"
      ],
      "text/latex": [
       "\\begin{math}\n",
       "\\newcommand{\\Bold}[1]{\\mathbf{#1}}\\left(\\verb|[0,|\\phantom{\\verb!x!}\\verb|0,|\\phantom{\\verb!x!}\\verb|1,|\\phantom{\\verb!x!}\\verb|1,|\\phantom{\\verb!x!}\\verb|0,|\\phantom{\\verb!x!}\\verb|0,|\\phantom{\\verb!x!}\\verb|0]|, \\left\\{\\verb|mon| : \\left(\\begin{array}{rr}\n",
       "l & 1 \\\\\n",
       "l^{2} - 1 & l\n",
       "\\end{array}\\right), \\verb|sol| : \\left[-1, 1\\right], \\verb|trace| : \\left[-2, 2\\right]\\right\\}\\right)\n",
       "\\end{math}"
      ],
      "text/plain": [
       "('[0, 0, 1, 1, 0, 0, 0]',\n",
       " {'mon': [      l       1]\n",
       "  [l^2 - 1       l], 'sol': [-1, 1], 'trace': [-2, 2]})"
      ]
     },
     "metadata": {},
     "output_type": "display_data"
    },
    {
     "data": {
      "text/html": [
       "<html><script type=\"math/tex; mode=display\">\\newcommand{\\Bold}[1]{\\mathbf{#1}}\\left(\\verb|[1,|\\phantom{\\verb!x!}\\verb|0,|\\phantom{\\verb!x!}\\verb|1,|\\phantom{\\verb!x!}\\verb|1,|\\phantom{\\verb!x!}\\verb|0,|\\phantom{\\verb!x!}\\verb|0,|\\phantom{\\verb!x!}\\verb|0]|, \\left\\{\\verb|mon| : \\left(\\begin{array}{rr}\n",
       "2 \\, l & 1 \\\\\n",
       "2 \\, l^{2} - 1 & l\n",
       "\\end{array}\\right), \\verb|sol| : \\left[-\\frac{1}{2} \\, \\sqrt{2}, \\frac{1}{2} \\, \\sqrt{2}\\right], \\verb|trace| : \\left[-\\frac{3}{2} \\, \\sqrt{2}, \\frac{3}{2} \\, \\sqrt{2}\\right]\\right\\}\\right)</script></html>"
      ],
      "text/latex": [
       "\\begin{math}\n",
       "\\newcommand{\\Bold}[1]{\\mathbf{#1}}\\left(\\verb|[1,|\\phantom{\\verb!x!}\\verb|0,|\\phantom{\\verb!x!}\\verb|1,|\\phantom{\\verb!x!}\\verb|1,|\\phantom{\\verb!x!}\\verb|0,|\\phantom{\\verb!x!}\\verb|0,|\\phantom{\\verb!x!}\\verb|0]|, \\left\\{\\verb|mon| : \\left(\\begin{array}{rr}\n",
       "2 \\, l & 1 \\\\\n",
       "2 \\, l^{2} - 1 & l\n",
       "\\end{array}\\right), \\verb|sol| : \\left[-\\frac{1}{2} \\, \\sqrt{2}, \\frac{1}{2} \\, \\sqrt{2}\\right], \\verb|trace| : \\left[-\\frac{3}{2} \\, \\sqrt{2}, \\frac{3}{2} \\, \\sqrt{2}\\right]\\right\\}\\right)\n",
       "\\end{math}"
      ],
      "text/plain": [
       "('[1, 0, 1, 1, 0, 0, 0]',\n",
       " {'mon': [      2*l         1]\n",
       "  [2*l^2 - 1         l],\n",
       "  'sol': [-1/2*sqrt(2), 1/2*sqrt(2)],\n",
       "  'trace': [-3/2*sqrt(2), 3/2*sqrt(2)]})"
      ]
     },
     "metadata": {},
     "output_type": "display_data"
    },
    {
     "data": {
      "text/html": [
       "<html><script type=\"math/tex; mode=display\">\\newcommand{\\Bold}[1]{\\mathbf{#1}}\\left(\\verb|[0,|\\phantom{\\verb!x!}\\verb|1,|\\phantom{\\verb!x!}\\verb|1,|\\phantom{\\verb!x!}\\verb|1,|\\phantom{\\verb!x!}\\verb|0,|\\phantom{\\verb!x!}\\verb|0,|\\phantom{\\verb!x!}\\verb|0]|, \\left\\{\\verb|mon| : \\left(\\begin{array}{rr}\n",
       "l & -l^{2} + 1 \\\\\n",
       "l^{2} - 1 & -l^{3} + 2 \\, l\n",
       "\\end{array}\\right), \\verb|sol| : \\left[-1, 1\\right], \\verb|trace| : \\left[-2, 2\\right]\\right\\}\\right)</script></html>"
      ],
      "text/latex": [
       "\\begin{math}\n",
       "\\newcommand{\\Bold}[1]{\\mathbf{#1}}\\left(\\verb|[0,|\\phantom{\\verb!x!}\\verb|1,|\\phantom{\\verb!x!}\\verb|1,|\\phantom{\\verb!x!}\\verb|1,|\\phantom{\\verb!x!}\\verb|0,|\\phantom{\\verb!x!}\\verb|0,|\\phantom{\\verb!x!}\\verb|0]|, \\left\\{\\verb|mon| : \\left(\\begin{array}{rr}\n",
       "l & -l^{2} + 1 \\\\\n",
       "l^{2} - 1 & -l^{3} + 2 \\, l\n",
       "\\end{array}\\right), \\verb|sol| : \\left[-1, 1\\right], \\verb|trace| : \\left[-2, 2\\right]\\right\\}\\right)\n",
       "\\end{math}"
      ],
      "text/plain": [
       "('[0, 1, 1, 1, 0, 0, 0]',\n",
       " {'mon': [         l   -l^2 + 1]\n",
       "  [   l^2 - 1 -l^3 + 2*l], 'sol': [-1, 1], 'trace': [-2, 2]})"
      ]
     },
     "metadata": {},
     "output_type": "display_data"
    },
    {
     "data": {
      "text/html": [
       "<html><script type=\"math/tex; mode=display\">\\newcommand{\\Bold}[1]{\\mathbf{#1}}\\left(\\verb|[1,|\\phantom{\\verb!x!}\\verb|1,|\\phantom{\\verb!x!}\\verb|1,|\\phantom{\\verb!x!}\\verb|1,|\\phantom{\\verb!x!}\\verb|0,|\\phantom{\\verb!x!}\\verb|0,|\\phantom{\\verb!x!}\\verb|0]|, \\left\\{\\verb|mon| : \\left(\\begin{array}{rr}\n",
       "-l^{3} + 2 \\, l & -l^{2} + 1 \\\\\n",
       "-l^{4} + 3 \\, l^{2} - 1 & -l^{3} + 2 \\, l\n",
       "\\end{array}\\right), \\verb|sol| : \\left[-\\sqrt{\\frac{1}{2} \\, \\sqrt{5} + \\frac{3}{2}}, -\\sqrt{-\\frac{1}{2} \\, \\sqrt{5} + \\frac{3}{2}}, \\sqrt{-\\frac{1}{2} \\, \\sqrt{5} + \\frac{3}{2}}, \\sqrt{\\frac{1}{2} \\, \\sqrt{5} + \\frac{3}{2}}\\right], \\verb|trace| : \\left[2 \\, {\\left(\\frac{1}{2} \\, \\sqrt{5} + \\frac{3}{2}\\right)}^{\\frac{3}{2}} - 4 \\, \\sqrt{\\frac{1}{2} \\, \\sqrt{5} + \\frac{3}{2}}, 2 \\, {\\left(-\\frac{1}{2} \\, \\sqrt{5} + \\frac{3}{2}\\right)}^{\\frac{3}{2}} - 4 \\, \\sqrt{-\\frac{1}{2} \\, \\sqrt{5} + \\frac{3}{2}}, -2 \\, {\\left(-\\frac{1}{2} \\, \\sqrt{5} + \\frac{3}{2}\\right)}^{\\frac{3}{2}} + 4 \\, \\sqrt{-\\frac{1}{2} \\, \\sqrt{5} + \\frac{3}{2}}, -2 \\, {\\left(\\frac{1}{2} \\, \\sqrt{5} + \\frac{3}{2}\\right)}^{\\frac{3}{2}} + 4 \\, \\sqrt{\\frac{1}{2} \\, \\sqrt{5} + \\frac{3}{2}}\\right]\\right\\}\\right)</script></html>"
      ],
      "text/latex": [
       "\\begin{math}\n",
       "\\newcommand{\\Bold}[1]{\\mathbf{#1}}\\left(\\verb|[1,|\\phantom{\\verb!x!}\\verb|1,|\\phantom{\\verb!x!}\\verb|1,|\\phantom{\\verb!x!}\\verb|1,|\\phantom{\\verb!x!}\\verb|0,|\\phantom{\\verb!x!}\\verb|0,|\\phantom{\\verb!x!}\\verb|0]|, \\left\\{\\verb|mon| : \\left(\\begin{array}{rr}\n",
       "-l^{3} + 2 \\, l & -l^{2} + 1 \\\\\n",
       "-l^{4} + 3 \\, l^{2} - 1 & -l^{3} + 2 \\, l\n",
       "\\end{array}\\right), \\verb|sol| : \\left[-\\sqrt{\\frac{1}{2} \\, \\sqrt{5} + \\frac{3}{2}}, -\\sqrt{-\\frac{1}{2} \\, \\sqrt{5} + \\frac{3}{2}}, \\sqrt{-\\frac{1}{2} \\, \\sqrt{5} + \\frac{3}{2}}, \\sqrt{\\frac{1}{2} \\, \\sqrt{5} + \\frac{3}{2}}\\right], \\verb|trace| : \\left[2 \\, {\\left(\\frac{1}{2} \\, \\sqrt{5} + \\frac{3}{2}\\right)}^{\\frac{3}{2}} - 4 \\, \\sqrt{\\frac{1}{2} \\, \\sqrt{5} + \\frac{3}{2}}, 2 \\, {\\left(-\\frac{1}{2} \\, \\sqrt{5} + \\frac{3}{2}\\right)}^{\\frac{3}{2}} - 4 \\, \\sqrt{-\\frac{1}{2} \\, \\sqrt{5} + \\frac{3}{2}}, -2 \\, {\\left(-\\frac{1}{2} \\, \\sqrt{5} + \\frac{3}{2}\\right)}^{\\frac{3}{2}} + 4 \\, \\sqrt{-\\frac{1}{2} \\, \\sqrt{5} + \\frac{3}{2}}, -2 \\, {\\left(\\frac{1}{2} \\, \\sqrt{5} + \\frac{3}{2}\\right)}^{\\frac{3}{2}} + 4 \\, \\sqrt{\\frac{1}{2} \\, \\sqrt{5} + \\frac{3}{2}}\\right]\\right\\}\\right)\n",
       "\\end{math}"
      ],
      "text/plain": [
       "('[1, 1, 1, 1, 0, 0, 0]',\n",
       " {'mon': [      -l^3 + 2*l         -l^2 + 1]\n",
       "  [-l^4 + 3*l^2 - 1       -l^3 + 2*l],\n",
       "  'sol': [-sqrt(1/2*sqrt(5) + 3/2),\n",
       "   -sqrt(-1/2*sqrt(5) + 3/2),\n",
       "   sqrt(-1/2*sqrt(5) + 3/2),\n",
       "   sqrt(1/2*sqrt(5) + 3/2)],\n",
       "  'trace': [2*(1/2*sqrt(5) + 3/2)^(3/2) - 4*sqrt(1/2*sqrt(5) + 3/2),\n",
       "   2*(-1/2*sqrt(5) + 3/2)^(3/2) - 4*sqrt(-1/2*sqrt(5) + 3/2),\n",
       "   -2*(-1/2*sqrt(5) + 3/2)^(3/2) + 4*sqrt(-1/2*sqrt(5) + 3/2),\n",
       "   -2*(1/2*sqrt(5) + 3/2)^(3/2) + 4*sqrt(1/2*sqrt(5) + 3/2)]})"
      ]
     },
     "metadata": {},
     "output_type": "display_data"
    },
    {
     "data": {
      "text/html": [
       "<html><script type=\"math/tex; mode=display\">\\newcommand{\\Bold}[1]{\\mathbf{#1}}\\left(\\verb|[0,|\\phantom{\\verb!x!}\\verb|0,|\\phantom{\\verb!x!}\\verb|0,|\\phantom{\\verb!x!}\\verb|0,|\\phantom{\\verb!x!}\\verb|1,|\\phantom{\\verb!x!}\\verb|0,|\\phantom{\\verb!x!}\\verb|0]|, \\left\\{\\verb|mon| : \\left(\\begin{array}{rr}\n",
       "l & 1 \\\\\n",
       "-1 & 0\n",
       "\\end{array}\\right), \\verb|sol| : \\left[\\right], \\verb|trace| : \\left[\\right]\\right\\}\\right)</script></html>"
      ],
      "text/latex": [
       "\\begin{math}\n",
       "\\newcommand{\\Bold}[1]{\\mathbf{#1}}\\left(\\verb|[0,|\\phantom{\\verb!x!}\\verb|0,|\\phantom{\\verb!x!}\\verb|0,|\\phantom{\\verb!x!}\\verb|0,|\\phantom{\\verb!x!}\\verb|1,|\\phantom{\\verb!x!}\\verb|0,|\\phantom{\\verb!x!}\\verb|0]|, \\left\\{\\verb|mon| : \\left(\\begin{array}{rr}\n",
       "l & 1 \\\\\n",
       "-1 & 0\n",
       "\\end{array}\\right), \\verb|sol| : \\left[\\right], \\verb|trace| : \\left[\\right]\\right\\}\\right)\n",
       "\\end{math}"
      ],
      "text/plain": [
       "('[0, 0, 0, 0, 1, 0, 0]',\n",
       " {'mon': [ l  1]\n",
       "  [-1  0], 'sol': [], 'trace': []})"
      ]
     },
     "metadata": {},
     "output_type": "display_data"
    },
    {
     "data": {
      "text/html": [
       "<html><script type=\"math/tex; mode=display\">\\newcommand{\\Bold}[1]{\\mathbf{#1}}\\left(\\verb|[1,|\\phantom{\\verb!x!}\\verb|0,|\\phantom{\\verb!x!}\\verb|0,|\\phantom{\\verb!x!}\\verb|0,|\\phantom{\\verb!x!}\\verb|1,|\\phantom{\\verb!x!}\\verb|0,|\\phantom{\\verb!x!}\\verb|0]|, \\left\\{\\verb|mon| : \\left(\\begin{array}{rr}\n",
       "2 \\, l & 1 \\\\\n",
       "-1 & 0\n",
       "\\end{array}\\right), \\verb|sol| : \\left[\\right], \\verb|trace| : \\left[\\right]\\right\\}\\right)</script></html>"
      ],
      "text/latex": [
       "\\begin{math}\n",
       "\\newcommand{\\Bold}[1]{\\mathbf{#1}}\\left(\\verb|[1,|\\phantom{\\verb!x!}\\verb|0,|\\phantom{\\verb!x!}\\verb|0,|\\phantom{\\verb!x!}\\verb|0,|\\phantom{\\verb!x!}\\verb|1,|\\phantom{\\verb!x!}\\verb|0,|\\phantom{\\verb!x!}\\verb|0]|, \\left\\{\\verb|mon| : \\left(\\begin{array}{rr}\n",
       "2 \\, l & 1 \\\\\n",
       "-1 & 0\n",
       "\\end{array}\\right), \\verb|sol| : \\left[\\right], \\verb|trace| : \\left[\\right]\\right\\}\\right)\n",
       "\\end{math}"
      ],
      "text/plain": [
       "('[1, 0, 0, 0, 1, 0, 0]',\n",
       " {'mon': [2*l   1]\n",
       "  [ -1   0], 'sol': [], 'trace': []})"
      ]
     },
     "metadata": {},
     "output_type": "display_data"
    },
    {
     "data": {
      "text/html": [
       "<html><script type=\"math/tex; mode=display\">\\newcommand{\\Bold}[1]{\\mathbf{#1}}\\left(\\verb|[0,|\\phantom{\\verb!x!}\\verb|1,|\\phantom{\\verb!x!}\\verb|0,|\\phantom{\\verb!x!}\\verb|0,|\\phantom{\\verb!x!}\\verb|1,|\\phantom{\\verb!x!}\\verb|0,|\\phantom{\\verb!x!}\\verb|0]|, \\left\\{\\verb|mon| : \\left(\\begin{array}{rr}\n",
       "l & -l^{2} + 1 \\\\\n",
       "-1 & l\n",
       "\\end{array}\\right), \\verb|sol| : \\left[\\right], \\verb|trace| : \\left[\\right]\\right\\}\\right)</script></html>"
      ],
      "text/latex": [
       "\\begin{math}\n",
       "\\newcommand{\\Bold}[1]{\\mathbf{#1}}\\left(\\verb|[0,|\\phantom{\\verb!x!}\\verb|1,|\\phantom{\\verb!x!}\\verb|0,|\\phantom{\\verb!x!}\\verb|0,|\\phantom{\\verb!x!}\\verb|1,|\\phantom{\\verb!x!}\\verb|0,|\\phantom{\\verb!x!}\\verb|0]|, \\left\\{\\verb|mon| : \\left(\\begin{array}{rr}\n",
       "l & -l^{2} + 1 \\\\\n",
       "-1 & l\n",
       "\\end{array}\\right), \\verb|sol| : \\left[\\right], \\verb|trace| : \\left[\\right]\\right\\}\\right)\n",
       "\\end{math}"
      ],
      "text/plain": [
       "('[0, 1, 0, 0, 1, 0, 0]',\n",
       " {'mon': [       l -l^2 + 1]\n",
       "  [      -1        l], 'sol': [], 'trace': []})"
      ]
     },
     "metadata": {},
     "output_type": "display_data"
    },
    {
     "data": {
      "text/html": [
       "<html><script type=\"math/tex; mode=display\">\\newcommand{\\Bold}[1]{\\mathbf{#1}}\\left(\\verb|[1,|\\phantom{\\verb!x!}\\verb|1,|\\phantom{\\verb!x!}\\verb|0,|\\phantom{\\verb!x!}\\verb|0,|\\phantom{\\verb!x!}\\verb|1,|\\phantom{\\verb!x!}\\verb|0,|\\phantom{\\verb!x!}\\verb|0]|, \\left\\{\\verb|mon| : \\left(\\begin{array}{rr}\n",
       "-l^{3} + 2 \\, l & -l^{2} + 1 \\\\\n",
       "l^{2} - 1 & l\n",
       "\\end{array}\\right), \\verb|sol| : \\left[-1, 1\\right], \\verb|trace| : \\left[-2, 2\\right]\\right\\}\\right)</script></html>"
      ],
      "text/latex": [
       "\\begin{math}\n",
       "\\newcommand{\\Bold}[1]{\\mathbf{#1}}\\left(\\verb|[1,|\\phantom{\\verb!x!}\\verb|1,|\\phantom{\\verb!x!}\\verb|0,|\\phantom{\\verb!x!}\\verb|0,|\\phantom{\\verb!x!}\\verb|1,|\\phantom{\\verb!x!}\\verb|0,|\\phantom{\\verb!x!}\\verb|0]|, \\left\\{\\verb|mon| : \\left(\\begin{array}{rr}\n",
       "-l^{3} + 2 \\, l & -l^{2} + 1 \\\\\n",
       "l^{2} - 1 & l\n",
       "\\end{array}\\right), \\verb|sol| : \\left[-1, 1\\right], \\verb|trace| : \\left[-2, 2\\right]\\right\\}\\right)\n",
       "\\end{math}"
      ],
      "text/plain": [
       "('[1, 1, 0, 0, 1, 0, 0]',\n",
       " {'mon': [-l^3 + 2*l   -l^2 + 1]\n",
       "  [   l^2 - 1          l], 'sol': [-1, 1], 'trace': [-2, 2]})"
      ]
     },
     "metadata": {},
     "output_type": "display_data"
    },
    {
     "data": {
      "text/html": [
       "<html><script type=\"math/tex; mode=display\">\\newcommand{\\Bold}[1]{\\mathbf{#1}}\\left(\\verb|[0,|\\phantom{\\verb!x!}\\verb|0,|\\phantom{\\verb!x!}\\verb|1,|\\phantom{\\verb!x!}\\verb|0,|\\phantom{\\verb!x!}\\verb|1,|\\phantom{\\verb!x!}\\verb|0,|\\phantom{\\verb!x!}\\verb|0]|, \\left\\{\\verb|mon| : \\left(\\begin{array}{rr}\n",
       "2 \\, l & 1 \\\\\n",
       "-1 & 0\n",
       "\\end{array}\\right), \\verb|sol| : \\left[\\right], \\verb|trace| : \\left[\\right]\\right\\}\\right)</script></html>"
      ],
      "text/latex": [
       "\\begin{math}\n",
       "\\newcommand{\\Bold}[1]{\\mathbf{#1}}\\left(\\verb|[0,|\\phantom{\\verb!x!}\\verb|0,|\\phantom{\\verb!x!}\\verb|1,|\\phantom{\\verb!x!}\\verb|0,|\\phantom{\\verb!x!}\\verb|1,|\\phantom{\\verb!x!}\\verb|0,|\\phantom{\\verb!x!}\\verb|0]|, \\left\\{\\verb|mon| : \\left(\\begin{array}{rr}\n",
       "2 \\, l & 1 \\\\\n",
       "-1 & 0\n",
       "\\end{array}\\right), \\verb|sol| : \\left[\\right], \\verb|trace| : \\left[\\right]\\right\\}\\right)\n",
       "\\end{math}"
      ],
      "text/plain": [
       "('[0, 0, 1, 0, 1, 0, 0]',\n",
       " {'mon': [2*l   1]\n",
       "  [ -1   0], 'sol': [], 'trace': []})"
      ]
     },
     "metadata": {},
     "output_type": "display_data"
    },
    {
     "data": {
      "text/html": [
       "<html><script type=\"math/tex; mode=display\">\\newcommand{\\Bold}[1]{\\mathbf{#1}}\\left(\\verb|[1,|\\phantom{\\verb!x!}\\verb|0,|\\phantom{\\verb!x!}\\verb|1,|\\phantom{\\verb!x!}\\verb|0,|\\phantom{\\verb!x!}\\verb|1,|\\phantom{\\verb!x!}\\verb|0,|\\phantom{\\verb!x!}\\verb|0]|, \\left\\{\\verb|mon| : \\left(\\begin{array}{rr}\n",
       "3 \\, l & 1 \\\\\n",
       "-1 & 0\n",
       "\\end{array}\\right), \\verb|sol| : \\left[\\right], \\verb|trace| : \\left[\\right]\\right\\}\\right)</script></html>"
      ],
      "text/latex": [
       "\\begin{math}\n",
       "\\newcommand{\\Bold}[1]{\\mathbf{#1}}\\left(\\verb|[1,|\\phantom{\\verb!x!}\\verb|0,|\\phantom{\\verb!x!}\\verb|1,|\\phantom{\\verb!x!}\\verb|0,|\\phantom{\\verb!x!}\\verb|1,|\\phantom{\\verb!x!}\\verb|0,|\\phantom{\\verb!x!}\\verb|0]|, \\left\\{\\verb|mon| : \\left(\\begin{array}{rr}\n",
       "3 \\, l & 1 \\\\\n",
       "-1 & 0\n",
       "\\end{array}\\right), \\verb|sol| : \\left[\\right], \\verb|trace| : \\left[\\right]\\right\\}\\right)\n",
       "\\end{math}"
      ],
      "text/plain": [
       "('[1, 0, 1, 0, 1, 0, 0]',\n",
       " {'mon': [3*l   1]\n",
       "  [ -1   0], 'sol': [], 'trace': []})"
      ]
     },
     "metadata": {},
     "output_type": "display_data"
    },
    {
     "data": {
      "text/html": [
       "<html><script type=\"math/tex; mode=display\">\\newcommand{\\Bold}[1]{\\mathbf{#1}}\\left(\\verb|[0,|\\phantom{\\verb!x!}\\verb|1,|\\phantom{\\verb!x!}\\verb|1,|\\phantom{\\verb!x!}\\verb|0,|\\phantom{\\verb!x!}\\verb|1,|\\phantom{\\verb!x!}\\verb|0,|\\phantom{\\verb!x!}\\verb|0]|, \\left\\{\\verb|mon| : \\left(\\begin{array}{rr}\n",
       "2 \\, l & -2 \\, l^{2} + 1 \\\\\n",
       "-1 & l\n",
       "\\end{array}\\right), \\verb|sol| : \\left[\\right], \\verb|trace| : \\left[\\right]\\right\\}\\right)</script></html>"
      ],
      "text/latex": [
       "\\begin{math}\n",
       "\\newcommand{\\Bold}[1]{\\mathbf{#1}}\\left(\\verb|[0,|\\phantom{\\verb!x!}\\verb|1,|\\phantom{\\verb!x!}\\verb|1,|\\phantom{\\verb!x!}\\verb|0,|\\phantom{\\verb!x!}\\verb|1,|\\phantom{\\verb!x!}\\verb|0,|\\phantom{\\verb!x!}\\verb|0]|, \\left\\{\\verb|mon| : \\left(\\begin{array}{rr}\n",
       "2 \\, l & -2 \\, l^{2} + 1 \\\\\n",
       "-1 & l\n",
       "\\end{array}\\right), \\verb|sol| : \\left[\\right], \\verb|trace| : \\left[\\right]\\right\\}\\right)\n",
       "\\end{math}"
      ],
      "text/plain": [
       "('[0, 1, 1, 0, 1, 0, 0]',\n",
       " {'mon': [       2*l -2*l^2 + 1]\n",
       "  [        -1          l], 'sol': [], 'trace': []})"
      ]
     },
     "metadata": {},
     "output_type": "display_data"
    },
    {
     "data": {
      "text/html": [
       "<html><script type=\"math/tex; mode=display\">\\newcommand{\\Bold}[1]{\\mathbf{#1}}\\left(\\verb|[1,|\\phantom{\\verb!x!}\\verb|1,|\\phantom{\\verb!x!}\\verb|1,|\\phantom{\\verb!x!}\\verb|0,|\\phantom{\\verb!x!}\\verb|1,|\\phantom{\\verb!x!}\\verb|0,|\\phantom{\\verb!x!}\\verb|0]|, \\left\\{\\verb|mon| : \\left(\\begin{array}{rr}\n",
       "-2 \\, l^{3} + 3 \\, l & -2 \\, l^{2} + 1 \\\\\n",
       "l^{2} - 1 & l\n",
       "\\end{array}\\right), \\verb|sol| : \\left[-1, 1\\right], \\verb|trace| : \\left[-2, 2\\right]\\right\\}\\right)</script></html>"
      ],
      "text/latex": [
       "\\begin{math}\n",
       "\\newcommand{\\Bold}[1]{\\mathbf{#1}}\\left(\\verb|[1,|\\phantom{\\verb!x!}\\verb|1,|\\phantom{\\verb!x!}\\verb|1,|\\phantom{\\verb!x!}\\verb|0,|\\phantom{\\verb!x!}\\verb|1,|\\phantom{\\verb!x!}\\verb|0,|\\phantom{\\verb!x!}\\verb|0]|, \\left\\{\\verb|mon| : \\left(\\begin{array}{rr}\n",
       "-2 \\, l^{3} + 3 \\, l & -2 \\, l^{2} + 1 \\\\\n",
       "l^{2} - 1 & l\n",
       "\\end{array}\\right), \\verb|sol| : \\left[-1, 1\\right], \\verb|trace| : \\left[-2, 2\\right]\\right\\}\\right)\n",
       "\\end{math}"
      ],
      "text/plain": [
       "('[1, 1, 1, 0, 1, 0, 0]',\n",
       " {'mon': [-2*l^3 + 3*l   -2*l^2 + 1]\n",
       "  [     l^2 - 1            l], 'sol': [-1, 1], 'trace': [-2, 2]})"
      ]
     },
     "metadata": {},
     "output_type": "display_data"
    },
    {
     "data": {
      "text/html": [
       "<html><script type=\"math/tex; mode=display\">\\newcommand{\\Bold}[1]{\\mathbf{#1}}\\left(\\verb|[0,|\\phantom{\\verb!x!}\\verb|0,|\\phantom{\\verb!x!}\\verb|0,|\\phantom{\\verb!x!}\\verb|1,|\\phantom{\\verb!x!}\\verb|1,|\\phantom{\\verb!x!}\\verb|0,|\\phantom{\\verb!x!}\\verb|0]|, \\left\\{\\verb|mon| : \\left(\\begin{array}{rr}\n",
       "l & -l^{2} + 1 \\\\\n",
       "-1 & l\n",
       "\\end{array}\\right), \\verb|sol| : \\left[\\right], \\verb|trace| : \\left[\\right]\\right\\}\\right)</script></html>"
      ],
      "text/latex": [
       "\\begin{math}\n",
       "\\newcommand{\\Bold}[1]{\\mathbf{#1}}\\left(\\verb|[0,|\\phantom{\\verb!x!}\\verb|0,|\\phantom{\\verb!x!}\\verb|0,|\\phantom{\\verb!x!}\\verb|1,|\\phantom{\\verb!x!}\\verb|1,|\\phantom{\\verb!x!}\\verb|0,|\\phantom{\\verb!x!}\\verb|0]|, \\left\\{\\verb|mon| : \\left(\\begin{array}{rr}\n",
       "l & -l^{2} + 1 \\\\\n",
       "-1 & l\n",
       "\\end{array}\\right), \\verb|sol| : \\left[\\right], \\verb|trace| : \\left[\\right]\\right\\}\\right)\n",
       "\\end{math}"
      ],
      "text/plain": [
       "('[0, 0, 0, 1, 1, 0, 0]',\n",
       " {'mon': [       l -l^2 + 1]\n",
       "  [      -1        l], 'sol': [], 'trace': []})"
      ]
     },
     "metadata": {},
     "output_type": "display_data"
    },
    {
     "data": {
      "text/html": [
       "<html><script type=\"math/tex; mode=display\">\\newcommand{\\Bold}[1]{\\mathbf{#1}}\\left(\\verb|[1,|\\phantom{\\verb!x!}\\verb|0,|\\phantom{\\verb!x!}\\verb|0,|\\phantom{\\verb!x!}\\verb|1,|\\phantom{\\verb!x!}\\verb|1,|\\phantom{\\verb!x!}\\verb|0,|\\phantom{\\verb!x!}\\verb|0]|, \\left\\{\\verb|mon| : \\left(\\begin{array}{rr}\n",
       "-l^{3} + 2 \\, l & -l^{2} + 1 \\\\\n",
       "l^{2} - 1 & l\n",
       "\\end{array}\\right), \\verb|sol| : \\left[-1, 1\\right], \\verb|trace| : \\left[-2, 2\\right]\\right\\}\\right)</script></html>"
      ],
      "text/latex": [
       "\\begin{math}\n",
       "\\newcommand{\\Bold}[1]{\\mathbf{#1}}\\left(\\verb|[1,|\\phantom{\\verb!x!}\\verb|0,|\\phantom{\\verb!x!}\\verb|0,|\\phantom{\\verb!x!}\\verb|1,|\\phantom{\\verb!x!}\\verb|1,|\\phantom{\\verb!x!}\\verb|0,|\\phantom{\\verb!x!}\\verb|0]|, \\left\\{\\verb|mon| : \\left(\\begin{array}{rr}\n",
       "-l^{3} + 2 \\, l & -l^{2} + 1 \\\\\n",
       "l^{2} - 1 & l\n",
       "\\end{array}\\right), \\verb|sol| : \\left[-1, 1\\right], \\verb|trace| : \\left[-2, 2\\right]\\right\\}\\right)\n",
       "\\end{math}"
      ],
      "text/plain": [
       "('[1, 0, 0, 1, 1, 0, 0]',\n",
       " {'mon': [-l^3 + 2*l   -l^2 + 1]\n",
       "  [   l^2 - 1          l], 'sol': [-1, 1], 'trace': [-2, 2]})"
      ]
     },
     "metadata": {},
     "output_type": "display_data"
    },
    {
     "data": {
      "text/html": [
       "<html><script type=\"math/tex; mode=display\">\\newcommand{\\Bold}[1]{\\mathbf{#1}}\\left(\\verb|[0,|\\phantom{\\verb!x!}\\verb|1,|\\phantom{\\verb!x!}\\verb|0,|\\phantom{\\verb!x!}\\verb|1,|\\phantom{\\verb!x!}\\verb|1,|\\phantom{\\verb!x!}\\verb|0,|\\phantom{\\verb!x!}\\verb|0]|, \\left\\{\\verb|mon| : \\left(\\begin{array}{rr}\n",
       "l & -2 \\, l^{2} + 1 \\\\\n",
       "-1 & 2 \\, l\n",
       "\\end{array}\\right), \\verb|sol| : \\left[\\right], \\verb|trace| : \\left[\\right]\\right\\}\\right)</script></html>"
      ],
      "text/latex": [
       "\\begin{math}\n",
       "\\newcommand{\\Bold}[1]{\\mathbf{#1}}\\left(\\verb|[0,|\\phantom{\\verb!x!}\\verb|1,|\\phantom{\\verb!x!}\\verb|0,|\\phantom{\\verb!x!}\\verb|1,|\\phantom{\\verb!x!}\\verb|1,|\\phantom{\\verb!x!}\\verb|0,|\\phantom{\\verb!x!}\\verb|0]|, \\left\\{\\verb|mon| : \\left(\\begin{array}{rr}\n",
       "l & -2 \\, l^{2} + 1 \\\\\n",
       "-1 & 2 \\, l\n",
       "\\end{array}\\right), \\verb|sol| : \\left[\\right], \\verb|trace| : \\left[\\right]\\right\\}\\right)\n",
       "\\end{math}"
      ],
      "text/plain": [
       "('[0, 1, 0, 1, 1, 0, 0]',\n",
       " {'mon': [         l -2*l^2 + 1]\n",
       "  [        -1        2*l], 'sol': [], 'trace': []})"
      ]
     },
     "metadata": {},
     "output_type": "display_data"
    },
    {
     "data": {
      "text/html": [
       "<html><script type=\"math/tex; mode=display\">\\newcommand{\\Bold}[1]{\\mathbf{#1}}\\left(\\verb|[1,|\\phantom{\\verb!x!}\\verb|1,|\\phantom{\\verb!x!}\\verb|0,|\\phantom{\\verb!x!}\\verb|1,|\\phantom{\\verb!x!}\\verb|1,|\\phantom{\\verb!x!}\\verb|0,|\\phantom{\\verb!x!}\\verb|0]|, \\left\\{\\verb|mon| : \\left(\\begin{array}{rr}\n",
       "-2 \\, l^{3} + 2 \\, l & -2 \\, l^{2} + 1 \\\\\n",
       "2 \\, l^{2} - 1 & 2 \\, l\n",
       "\\end{array}\\right), \\verb|sol| : \\left[-\\frac{1}{2} \\, \\sqrt{2}, \\frac{1}{2} \\, \\sqrt{2}\\right], \\verb|trace| : \\left[-\\frac{3}{2} \\, \\sqrt{2}, \\frac{3}{2} \\, \\sqrt{2}\\right]\\right\\}\\right)</script></html>"
      ],
      "text/latex": [
       "\\begin{math}\n",
       "\\newcommand{\\Bold}[1]{\\mathbf{#1}}\\left(\\verb|[1,|\\phantom{\\verb!x!}\\verb|1,|\\phantom{\\verb!x!}\\verb|0,|\\phantom{\\verb!x!}\\verb|1,|\\phantom{\\verb!x!}\\verb|1,|\\phantom{\\verb!x!}\\verb|0,|\\phantom{\\verb!x!}\\verb|0]|, \\left\\{\\verb|mon| : \\left(\\begin{array}{rr}\n",
       "-2 \\, l^{3} + 2 \\, l & -2 \\, l^{2} + 1 \\\\\n",
       "2 \\, l^{2} - 1 & 2 \\, l\n",
       "\\end{array}\\right), \\verb|sol| : \\left[-\\frac{1}{2} \\, \\sqrt{2}, \\frac{1}{2} \\, \\sqrt{2}\\right], \\verb|trace| : \\left[-\\frac{3}{2} \\, \\sqrt{2}, \\frac{3}{2} \\, \\sqrt{2}\\right]\\right\\}\\right)\n",
       "\\end{math}"
      ],
      "text/plain": [
       "('[1, 1, 0, 1, 1, 0, 0]',\n",
       " {'mon': [-2*l^3 + 2*l   -2*l^2 + 1]\n",
       "  [   2*l^2 - 1          2*l],\n",
       "  'sol': [-1/2*sqrt(2), 1/2*sqrt(2)],\n",
       "  'trace': [-3/2*sqrt(2), 3/2*sqrt(2)]})"
      ]
     },
     "metadata": {},
     "output_type": "display_data"
    },
    {
     "data": {
      "text/html": [
       "<html><script type=\"math/tex; mode=display\">\\newcommand{\\Bold}[1]{\\mathbf{#1}}\\left(\\verb|[0,|\\phantom{\\verb!x!}\\verb|0,|\\phantom{\\verb!x!}\\verb|1,|\\phantom{\\verb!x!}\\verb|1,|\\phantom{\\verb!x!}\\verb|1,|\\phantom{\\verb!x!}\\verb|0,|\\phantom{\\verb!x!}\\verb|0]|, \\left\\{\\verb|mon| : \\left(\\begin{array}{rr}\n",
       "-l^{3} + 2 \\, l & -l^{2} + 1 \\\\\n",
       "l^{2} - 1 & l\n",
       "\\end{array}\\right), \\verb|sol| : \\left[-1, 1\\right], \\verb|trace| : \\left[-2, 2\\right]\\right\\}\\right)</script></html>"
      ],
      "text/latex": [
       "\\begin{math}\n",
       "\\newcommand{\\Bold}[1]{\\mathbf{#1}}\\left(\\verb|[0,|\\phantom{\\verb!x!}\\verb|0,|\\phantom{\\verb!x!}\\verb|1,|\\phantom{\\verb!x!}\\verb|1,|\\phantom{\\verb!x!}\\verb|1,|\\phantom{\\verb!x!}\\verb|0,|\\phantom{\\verb!x!}\\verb|0]|, \\left\\{\\verb|mon| : \\left(\\begin{array}{rr}\n",
       "-l^{3} + 2 \\, l & -l^{2} + 1 \\\\\n",
       "l^{2} - 1 & l\n",
       "\\end{array}\\right), \\verb|sol| : \\left[-1, 1\\right], \\verb|trace| : \\left[-2, 2\\right]\\right\\}\\right)\n",
       "\\end{math}"
      ],
      "text/plain": [
       "('[0, 0, 1, 1, 1, 0, 0]',\n",
       " {'mon': [-l^3 + 2*l   -l^2 + 1]\n",
       "  [   l^2 - 1          l], 'sol': [-1, 1], 'trace': [-2, 2]})"
      ]
     },
     "metadata": {},
     "output_type": "display_data"
    },
    {
     "data": {
      "text/html": [
       "<html><script type=\"math/tex; mode=display\">\\newcommand{\\Bold}[1]{\\mathbf{#1}}\\left(\\verb|[1,|\\phantom{\\verb!x!}\\verb|0,|\\phantom{\\verb!x!}\\verb|1,|\\phantom{\\verb!x!}\\verb|1,|\\phantom{\\verb!x!}\\verb|1,|\\phantom{\\verb!x!}\\verb|0,|\\phantom{\\verb!x!}\\verb|0]|, \\left\\{\\verb|mon| : \\left(\\begin{array}{rr}\n",
       "-2 \\, l^{3} + 3 \\, l & -l^{2} + 1 \\\\\n",
       "2 \\, l^{2} - 1 & l\n",
       "\\end{array}\\right), \\verb|sol| : \\left[-\\frac{1}{2} \\, \\sqrt{2}, \\frac{1}{2} \\, \\sqrt{2}\\right], \\verb|trace| : \\left[-\\frac{3}{2} \\, \\sqrt{2}, \\frac{3}{2} \\, \\sqrt{2}\\right]\\right\\}\\right)</script></html>"
      ],
      "text/latex": [
       "\\begin{math}\n",
       "\\newcommand{\\Bold}[1]{\\mathbf{#1}}\\left(\\verb|[1,|\\phantom{\\verb!x!}\\verb|0,|\\phantom{\\verb!x!}\\verb|1,|\\phantom{\\verb!x!}\\verb|1,|\\phantom{\\verb!x!}\\verb|1,|\\phantom{\\verb!x!}\\verb|0,|\\phantom{\\verb!x!}\\verb|0]|, \\left\\{\\verb|mon| : \\left(\\begin{array}{rr}\n",
       "-2 \\, l^{3} + 3 \\, l & -l^{2} + 1 \\\\\n",
       "2 \\, l^{2} - 1 & l\n",
       "\\end{array}\\right), \\verb|sol| : \\left[-\\frac{1}{2} \\, \\sqrt{2}, \\frac{1}{2} \\, \\sqrt{2}\\right], \\verb|trace| : \\left[-\\frac{3}{2} \\, \\sqrt{2}, \\frac{3}{2} \\, \\sqrt{2}\\right]\\right\\}\\right)\n",
       "\\end{math}"
      ],
      "text/plain": [
       "('[1, 0, 1, 1, 1, 0, 0]',\n",
       " {'mon': [-2*l^3 + 3*l     -l^2 + 1]\n",
       "  [   2*l^2 - 1            l],\n",
       "  'sol': [-1/2*sqrt(2), 1/2*sqrt(2)],\n",
       "  'trace': [-3/2*sqrt(2), 3/2*sqrt(2)]})"
      ]
     },
     "metadata": {},
     "output_type": "display_data"
    },
    {
     "data": {
      "text/html": [
       "<html><script type=\"math/tex; mode=display\">\\newcommand{\\Bold}[1]{\\mathbf{#1}}\\left(\\verb|[0,|\\phantom{\\verb!x!}\\verb|1,|\\phantom{\\verb!x!}\\verb|1,|\\phantom{\\verb!x!}\\verb|1,|\\phantom{\\verb!x!}\\verb|1,|\\phantom{\\verb!x!}\\verb|0,|\\phantom{\\verb!x!}\\verb|0]|, \\left\\{\\verb|mon| : \\left(\\begin{array}{rr}\n",
       "-l^{3} + 2 \\, l & l^{4} - 3 \\, l^{2} + 1 \\\\\n",
       "l^{2} - 1 & -l^{3} + 2 \\, l\n",
       "\\end{array}\\right), \\verb|sol| : \\left[-1, 1\\right], \\verb|trace| : \\left[-2, 2\\right]\\right\\}\\right)</script></html>"
      ],
      "text/latex": [
       "\\begin{math}\n",
       "\\newcommand{\\Bold}[1]{\\mathbf{#1}}\\left(\\verb|[0,|\\phantom{\\verb!x!}\\verb|1,|\\phantom{\\verb!x!}\\verb|1,|\\phantom{\\verb!x!}\\verb|1,|\\phantom{\\verb!x!}\\verb|1,|\\phantom{\\verb!x!}\\verb|0,|\\phantom{\\verb!x!}\\verb|0]|, \\left\\{\\verb|mon| : \\left(\\begin{array}{rr}\n",
       "-l^{3} + 2 \\, l & l^{4} - 3 \\, l^{2} + 1 \\\\\n",
       "l^{2} - 1 & -l^{3} + 2 \\, l\n",
       "\\end{array}\\right), \\verb|sol| : \\left[-1, 1\\right], \\verb|trace| : \\left[-2, 2\\right]\\right\\}\\right)\n",
       "\\end{math}"
      ],
      "text/plain": [
       "('[0, 1, 1, 1, 1, 0, 0]',\n",
       " {'mon': [     -l^3 + 2*l l^4 - 3*l^2 + 1]\n",
       "  [        l^2 - 1      -l^3 + 2*l], 'sol': [-1, 1], 'trace': [-2, 2]})"
      ]
     },
     "metadata": {},
     "output_type": "display_data"
    },
    {
     "data": {
      "text/html": [
       "<html><script type=\"math/tex; mode=display\">\\newcommand{\\Bold}[1]{\\mathbf{#1}}\\left(\\verb|[1,|\\phantom{\\verb!x!}\\verb|1,|\\phantom{\\verb!x!}\\verb|1,|\\phantom{\\verb!x!}\\verb|1,|\\phantom{\\verb!x!}\\verb|1,|\\phantom{\\verb!x!}\\verb|0,|\\phantom{\\verb!x!}\\verb|0]|, \\left\\{\\verb|mon| : \\left(\\begin{array}{rr}\n",
       "l^{5} - 4 \\, l^{3} + 3 \\, l & l^{4} - 3 \\, l^{2} + 1 \\\\\n",
       "-l^{4} + 3 \\, l^{2} - 1 & -l^{3} + 2 \\, l\n",
       "\\end{array}\\right), \\verb|sol| : \\left[-\\sqrt{\\frac{1}{2} \\, \\sqrt{5} + \\frac{3}{2}}, -\\sqrt{-\\frac{1}{2} \\, \\sqrt{5} + \\frac{3}{2}}, \\sqrt{-\\frac{1}{2} \\, \\sqrt{5} + \\frac{3}{2}}, \\sqrt{\\frac{1}{2} \\, \\sqrt{5} + \\frac{3}{2}}\\right], \\verb|trace| : \\left[-{\\left(\\frac{1}{2} \\, \\sqrt{5} + \\frac{3}{2}\\right)}^{\\frac{5}{2}} + 5 \\, {\\left(\\frac{1}{2} \\, \\sqrt{5} + \\frac{3}{2}\\right)}^{\\frac{3}{2}} - 5 \\, \\sqrt{\\frac{1}{2} \\, \\sqrt{5} + \\frac{3}{2}}, -{\\left(-\\frac{1}{2} \\, \\sqrt{5} + \\frac{3}{2}\\right)}^{\\frac{5}{2}} + 5 \\, {\\left(-\\frac{1}{2} \\, \\sqrt{5} + \\frac{3}{2}\\right)}^{\\frac{3}{2}} - 5 \\, \\sqrt{-\\frac{1}{2} \\, \\sqrt{5} + \\frac{3}{2}}, {\\left(-\\frac{1}{2} \\, \\sqrt{5} + \\frac{3}{2}\\right)}^{\\frac{5}{2}} - 5 \\, {\\left(-\\frac{1}{2} \\, \\sqrt{5} + \\frac{3}{2}\\right)}^{\\frac{3}{2}} + 5 \\, \\sqrt{-\\frac{1}{2} \\, \\sqrt{5} + \\frac{3}{2}}, {\\left(\\frac{1}{2} \\, \\sqrt{5} + \\frac{3}{2}\\right)}^{\\frac{5}{2}} - 5 \\, {\\left(\\frac{1}{2} \\, \\sqrt{5} + \\frac{3}{2}\\right)}^{\\frac{3}{2}} + 5 \\, \\sqrt{\\frac{1}{2} \\, \\sqrt{5} + \\frac{3}{2}}\\right]\\right\\}\\right)</script></html>"
      ],
      "text/latex": [
       "\\begin{math}\n",
       "\\newcommand{\\Bold}[1]{\\mathbf{#1}}\\left(\\verb|[1,|\\phantom{\\verb!x!}\\verb|1,|\\phantom{\\verb!x!}\\verb|1,|\\phantom{\\verb!x!}\\verb|1,|\\phantom{\\verb!x!}\\verb|1,|\\phantom{\\verb!x!}\\verb|0,|\\phantom{\\verb!x!}\\verb|0]|, \\left\\{\\verb|mon| : \\left(\\begin{array}{rr}\n",
       "l^{5} - 4 \\, l^{3} + 3 \\, l & l^{4} - 3 \\, l^{2} + 1 \\\\\n",
       "-l^{4} + 3 \\, l^{2} - 1 & -l^{3} + 2 \\, l\n",
       "\\end{array}\\right), \\verb|sol| : \\left[-\\sqrt{\\frac{1}{2} \\, \\sqrt{5} + \\frac{3}{2}}, -\\sqrt{-\\frac{1}{2} \\, \\sqrt{5} + \\frac{3}{2}}, \\sqrt{-\\frac{1}{2} \\, \\sqrt{5} + \\frac{3}{2}}, \\sqrt{\\frac{1}{2} \\, \\sqrt{5} + \\frac{3}{2}}\\right], \\verb|trace| : \\left[-{\\left(\\frac{1}{2} \\, \\sqrt{5} + \\frac{3}{2}\\right)}^{\\frac{5}{2}} + 5 \\, {\\left(\\frac{1}{2} \\, \\sqrt{5} + \\frac{3}{2}\\right)}^{\\frac{3}{2}} - 5 \\, \\sqrt{\\frac{1}{2} \\, \\sqrt{5} + \\frac{3}{2}}, -{\\left(-\\frac{1}{2} \\, \\sqrt{5} + \\frac{3}{2}\\right)}^{\\frac{5}{2}} + 5 \\, {\\left(-\\frac{1}{2} \\, \\sqrt{5} + \\frac{3}{2}\\right)}^{\\frac{3}{2}} - 5 \\, \\sqrt{-\\frac{1}{2} \\, \\sqrt{5} + \\frac{3}{2}}, {\\left(-\\frac{1}{2} \\, \\sqrt{5} + \\frac{3}{2}\\right)}^{\\frac{5}{2}} - 5 \\, {\\left(-\\frac{1}{2} \\, \\sqrt{5} + \\frac{3}{2}\\right)}^{\\frac{3}{2}} + 5 \\, \\sqrt{-\\frac{1}{2} \\, \\sqrt{5} + \\frac{3}{2}}, {\\left(\\frac{1}{2} \\, \\sqrt{5} + \\frac{3}{2}\\right)}^{\\frac{5}{2}} - 5 \\, {\\left(\\frac{1}{2} \\, \\sqrt{5} + \\frac{3}{2}\\right)}^{\\frac{3}{2}} + 5 \\, \\sqrt{\\frac{1}{2} \\, \\sqrt{5} + \\frac{3}{2}}\\right]\\right\\}\\right)\n",
       "\\end{math}"
      ],
      "text/plain": [
       "('[1, 1, 1, 1, 1, 0, 0]',\n",
       " {'mon': [l^5 - 4*l^3 + 3*l   l^4 - 3*l^2 + 1]\n",
       "  [ -l^4 + 3*l^2 - 1        -l^3 + 2*l],\n",
       "  'sol': [-sqrt(1/2*sqrt(5) + 3/2),\n",
       "   -sqrt(-1/2*sqrt(5) + 3/2),\n",
       "   sqrt(-1/2*sqrt(5) + 3/2),\n",
       "   sqrt(1/2*sqrt(5) + 3/2)],\n",
       "  'trace': [-(1/2*sqrt(5) + 3/2)^(5/2) + 5*(1/2*sqrt(5) + 3/2)^(3/2) - 5*sqrt(1/2*sqrt(5) + 3/2),\n",
       "   -(-1/2*sqrt(5) + 3/2)^(5/2) + 5*(-1/2*sqrt(5) + 3/2)^(3/2) - 5*sqrt(-1/2*sqrt(5) + 3/2),\n",
       "   (-1/2*sqrt(5) + 3/2)^(5/2) - 5*(-1/2*sqrt(5) + 3/2)^(3/2) + 5*sqrt(-1/2*sqrt(5) + 3/2),\n",
       "   (1/2*sqrt(5) + 3/2)^(5/2) - 5*(1/2*sqrt(5) + 3/2)^(3/2) + 5*sqrt(1/2*sqrt(5) + 3/2)]})"
      ]
     },
     "metadata": {},
     "output_type": "display_data"
    },
    {
     "data": {
      "text/html": [
       "<html><script type=\"math/tex; mode=display\">\\newcommand{\\Bold}[1]{\\mathbf{#1}}\\left(\\verb|[0,|\\phantom{\\verb!x!}\\verb|0,|\\phantom{\\verb!x!}\\verb|0,|\\phantom{\\verb!x!}\\verb|0,|\\phantom{\\verb!x!}\\verb|0,|\\phantom{\\verb!x!}\\verb|1,|\\phantom{\\verb!x!}\\verb|0]|, \\left\\{\\verb|mon| : \\left(\\begin{array}{rr}\n",
       "0 & 1 \\\\\n",
       "-1 & l\n",
       "\\end{array}\\right), \\verb|sol| : \\left[\\right], \\verb|trace| : \\left[\\right]\\right\\}\\right)</script></html>"
      ],
      "text/latex": [
       "\\begin{math}\n",
       "\\newcommand{\\Bold}[1]{\\mathbf{#1}}\\left(\\verb|[0,|\\phantom{\\verb!x!}\\verb|0,|\\phantom{\\verb!x!}\\verb|0,|\\phantom{\\verb!x!}\\verb|0,|\\phantom{\\verb!x!}\\verb|0,|\\phantom{\\verb!x!}\\verb|1,|\\phantom{\\verb!x!}\\verb|0]|, \\left\\{\\verb|mon| : \\left(\\begin{array}{rr}\n",
       "0 & 1 \\\\\n",
       "-1 & l\n",
       "\\end{array}\\right), \\verb|sol| : \\left[\\right], \\verb|trace| : \\left[\\right]\\right\\}\\right)\n",
       "\\end{math}"
      ],
      "text/plain": [
       "('[0, 0, 0, 0, 0, 1, 0]',\n",
       " {'mon': [ 0  1]\n",
       "  [-1  l], 'sol': [], 'trace': []})"
      ]
     },
     "metadata": {},
     "output_type": "display_data"
    },
    {
     "data": {
      "text/html": [
       "<html><script type=\"math/tex; mode=display\">\\newcommand{\\Bold}[1]{\\mathbf{#1}}\\left(\\verb|[1,|\\phantom{\\verb!x!}\\verb|0,|\\phantom{\\verb!x!}\\verb|0,|\\phantom{\\verb!x!}\\verb|0,|\\phantom{\\verb!x!}\\verb|0,|\\phantom{\\verb!x!}\\verb|1,|\\phantom{\\verb!x!}\\verb|0]|, \\left\\{\\verb|mon| : \\left(\\begin{array}{rr}\n",
       "l & 1 \\\\\n",
       "l^{2} - 1 & l\n",
       "\\end{array}\\right), \\verb|sol| : \\left[-1, 1\\right], \\verb|trace| : \\left[-2, 2\\right]\\right\\}\\right)</script></html>"
      ],
      "text/latex": [
       "\\begin{math}\n",
       "\\newcommand{\\Bold}[1]{\\mathbf{#1}}\\left(\\verb|[1,|\\phantom{\\verb!x!}\\verb|0,|\\phantom{\\verb!x!}\\verb|0,|\\phantom{\\verb!x!}\\verb|0,|\\phantom{\\verb!x!}\\verb|0,|\\phantom{\\verb!x!}\\verb|1,|\\phantom{\\verb!x!}\\verb|0]|, \\left\\{\\verb|mon| : \\left(\\begin{array}{rr}\n",
       "l & 1 \\\\\n",
       "l^{2} - 1 & l\n",
       "\\end{array}\\right), \\verb|sol| : \\left[-1, 1\\right], \\verb|trace| : \\left[-2, 2\\right]\\right\\}\\right)\n",
       "\\end{math}"
      ],
      "text/plain": [
       "('[1, 0, 0, 0, 0, 1, 0]',\n",
       " {'mon': [      l       1]\n",
       "  [l^2 - 1       l], 'sol': [-1, 1], 'trace': [-2, 2]})"
      ]
     },
     "metadata": {},
     "output_type": "display_data"
    },
    {
     "data": {
      "text/html": [
       "<html><script type=\"math/tex; mode=display\">\\newcommand{\\Bold}[1]{\\mathbf{#1}}\\left(\\verb|[0,|\\phantom{\\verb!x!}\\verb|1,|\\phantom{\\verb!x!}\\verb|0,|\\phantom{\\verb!x!}\\verb|0,|\\phantom{\\verb!x!}\\verb|0,|\\phantom{\\verb!x!}\\verb|1,|\\phantom{\\verb!x!}\\verb|0]|, \\left\\{\\verb|mon| : \\left(\\begin{array}{rr}\n",
       "0 & 1 \\\\\n",
       "-1 & 2 \\, l\n",
       "\\end{array}\\right), \\verb|sol| : \\left[\\right], \\verb|trace| : \\left[\\right]\\right\\}\\right)</script></html>"
      ],
      "text/latex": [
       "\\begin{math}\n",
       "\\newcommand{\\Bold}[1]{\\mathbf{#1}}\\left(\\verb|[0,|\\phantom{\\verb!x!}\\verb|1,|\\phantom{\\verb!x!}\\verb|0,|\\phantom{\\verb!x!}\\verb|0,|\\phantom{\\verb!x!}\\verb|0,|\\phantom{\\verb!x!}\\verb|1,|\\phantom{\\verb!x!}\\verb|0]|, \\left\\{\\verb|mon| : \\left(\\begin{array}{rr}\n",
       "0 & 1 \\\\\n",
       "-1 & 2 \\, l\n",
       "\\end{array}\\right), \\verb|sol| : \\left[\\right], \\verb|trace| : \\left[\\right]\\right\\}\\right)\n",
       "\\end{math}"
      ],
      "text/plain": [
       "('[0, 1, 0, 0, 0, 1, 0]',\n",
       " {'mon': [  0   1]\n",
       "  [ -1 2*l], 'sol': [], 'trace': []})"
      ]
     },
     "metadata": {},
     "output_type": "display_data"
    },
    {
     "data": {
      "text/html": [
       "<html><script type=\"math/tex; mode=display\">\\newcommand{\\Bold}[1]{\\mathbf{#1}}\\left(\\verb|[1,|\\phantom{\\verb!x!}\\verb|1,|\\phantom{\\verb!x!}\\verb|0,|\\phantom{\\verb!x!}\\verb|0,|\\phantom{\\verb!x!}\\verb|0,|\\phantom{\\verb!x!}\\verb|1,|\\phantom{\\verb!x!}\\verb|0]|, \\left\\{\\verb|mon| : \\left(\\begin{array}{rr}\n",
       "l & 1 \\\\\n",
       "2 \\, l^{2} - 1 & 2 \\, l\n",
       "\\end{array}\\right), \\verb|sol| : \\left[-\\frac{1}{2} \\, \\sqrt{2}, \\frac{1}{2} \\, \\sqrt{2}\\right], \\verb|trace| : \\left[-\\frac{3}{2} \\, \\sqrt{2}, \\frac{3}{2} \\, \\sqrt{2}\\right]\\right\\}\\right)</script></html>"
      ],
      "text/latex": [
       "\\begin{math}\n",
       "\\newcommand{\\Bold}[1]{\\mathbf{#1}}\\left(\\verb|[1,|\\phantom{\\verb!x!}\\verb|1,|\\phantom{\\verb!x!}\\verb|0,|\\phantom{\\verb!x!}\\verb|0,|\\phantom{\\verb!x!}\\verb|0,|\\phantom{\\verb!x!}\\verb|1,|\\phantom{\\verb!x!}\\verb|0]|, \\left\\{\\verb|mon| : \\left(\\begin{array}{rr}\n",
       "l & 1 \\\\\n",
       "2 \\, l^{2} - 1 & 2 \\, l\n",
       "\\end{array}\\right), \\verb|sol| : \\left[-\\frac{1}{2} \\, \\sqrt{2}, \\frac{1}{2} \\, \\sqrt{2}\\right], \\verb|trace| : \\left[-\\frac{3}{2} \\, \\sqrt{2}, \\frac{3}{2} \\, \\sqrt{2}\\right]\\right\\}\\right)\n",
       "\\end{math}"
      ],
      "text/plain": [
       "('[1, 1, 0, 0, 0, 1, 0]',\n",
       " {'mon': [        l         1]\n",
       "  [2*l^2 - 1       2*l],\n",
       "  'sol': [-1/2*sqrt(2), 1/2*sqrt(2)],\n",
       "  'trace': [-3/2*sqrt(2), 3/2*sqrt(2)]})"
      ]
     },
     "metadata": {},
     "output_type": "display_data"
    },
    {
     "data": {
      "text/html": [
       "<html><script type=\"math/tex; mode=display\">\\newcommand{\\Bold}[1]{\\mathbf{#1}}\\left(\\verb|[0,|\\phantom{\\verb!x!}\\verb|0,|\\phantom{\\verb!x!}\\verb|1,|\\phantom{\\verb!x!}\\verb|0,|\\phantom{\\verb!x!}\\verb|0,|\\phantom{\\verb!x!}\\verb|1,|\\phantom{\\verb!x!}\\verb|0]|, \\left\\{\\verb|mon| : \\left(\\begin{array}{rr}\n",
       "l & 1 \\\\\n",
       "l^{2} - 1 & l\n",
       "\\end{array}\\right), \\verb|sol| : \\left[-1, 1\\right], \\verb|trace| : \\left[-2, 2\\right]\\right\\}\\right)</script></html>"
      ],
      "text/latex": [
       "\\begin{math}\n",
       "\\newcommand{\\Bold}[1]{\\mathbf{#1}}\\left(\\verb|[0,|\\phantom{\\verb!x!}\\verb|0,|\\phantom{\\verb!x!}\\verb|1,|\\phantom{\\verb!x!}\\verb|0,|\\phantom{\\verb!x!}\\verb|0,|\\phantom{\\verb!x!}\\verb|1,|\\phantom{\\verb!x!}\\verb|0]|, \\left\\{\\verb|mon| : \\left(\\begin{array}{rr}\n",
       "l & 1 \\\\\n",
       "l^{2} - 1 & l\n",
       "\\end{array}\\right), \\verb|sol| : \\left[-1, 1\\right], \\verb|trace| : \\left[-2, 2\\right]\\right\\}\\right)\n",
       "\\end{math}"
      ],
      "text/plain": [
       "('[0, 0, 1, 0, 0, 1, 0]',\n",
       " {'mon': [      l       1]\n",
       "  [l^2 - 1       l], 'sol': [-1, 1], 'trace': [-2, 2]})"
      ]
     },
     "metadata": {},
     "output_type": "display_data"
    },
    {
     "data": {
      "text/html": [
       "<html><script type=\"math/tex; mode=display\">\\newcommand{\\Bold}[1]{\\mathbf{#1}}\\left(\\verb|[1,|\\phantom{\\verb!x!}\\verb|0,|\\phantom{\\verb!x!}\\verb|1,|\\phantom{\\verb!x!}\\verb|0,|\\phantom{\\verb!x!}\\verb|0,|\\phantom{\\verb!x!}\\verb|1,|\\phantom{\\verb!x!}\\verb|0]|, \\left\\{\\verb|mon| : \\left(\\begin{array}{rr}\n",
       "2 \\, l & 1 \\\\\n",
       "2 \\, l^{2} - 1 & l\n",
       "\\end{array}\\right), \\verb|sol| : \\left[-\\frac{1}{2} \\, \\sqrt{2}, \\frac{1}{2} \\, \\sqrt{2}\\right], \\verb|trace| : \\left[-\\frac{3}{2} \\, \\sqrt{2}, \\frac{3}{2} \\, \\sqrt{2}\\right]\\right\\}\\right)</script></html>"
      ],
      "text/latex": [
       "\\begin{math}\n",
       "\\newcommand{\\Bold}[1]{\\mathbf{#1}}\\left(\\verb|[1,|\\phantom{\\verb!x!}\\verb|0,|\\phantom{\\verb!x!}\\verb|1,|\\phantom{\\verb!x!}\\verb|0,|\\phantom{\\verb!x!}\\verb|0,|\\phantom{\\verb!x!}\\verb|1,|\\phantom{\\verb!x!}\\verb|0]|, \\left\\{\\verb|mon| : \\left(\\begin{array}{rr}\n",
       "2 \\, l & 1 \\\\\n",
       "2 \\, l^{2} - 1 & l\n",
       "\\end{array}\\right), \\verb|sol| : \\left[-\\frac{1}{2} \\, \\sqrt{2}, \\frac{1}{2} \\, \\sqrt{2}\\right], \\verb|trace| : \\left[-\\frac{3}{2} \\, \\sqrt{2}, \\frac{3}{2} \\, \\sqrt{2}\\right]\\right\\}\\right)\n",
       "\\end{math}"
      ],
      "text/plain": [
       "('[1, 0, 1, 0, 0, 1, 0]',\n",
       " {'mon': [      2*l         1]\n",
       "  [2*l^2 - 1         l],\n",
       "  'sol': [-1/2*sqrt(2), 1/2*sqrt(2)],\n",
       "  'trace': [-3/2*sqrt(2), 3/2*sqrt(2)]})"
      ]
     },
     "metadata": {},
     "output_type": "display_data"
    },
    {
     "data": {
      "text/html": [
       "<html><script type=\"math/tex; mode=display\">\\newcommand{\\Bold}[1]{\\mathbf{#1}}\\left(\\verb|[0,|\\phantom{\\verb!x!}\\verb|1,|\\phantom{\\verb!x!}\\verb|1,|\\phantom{\\verb!x!}\\verb|0,|\\phantom{\\verb!x!}\\verb|0,|\\phantom{\\verb!x!}\\verb|1,|\\phantom{\\verb!x!}\\verb|0]|, \\left\\{\\verb|mon| : \\left(\\begin{array}{rr}\n",
       "l & -l^{2} + 1 \\\\\n",
       "l^{2} - 1 & -l^{3} + 2 \\, l\n",
       "\\end{array}\\right), \\verb|sol| : \\left[-1, 1\\right], \\verb|trace| : \\left[-2, 2\\right]\\right\\}\\right)</script></html>"
      ],
      "text/latex": [
       "\\begin{math}\n",
       "\\newcommand{\\Bold}[1]{\\mathbf{#1}}\\left(\\verb|[0,|\\phantom{\\verb!x!}\\verb|1,|\\phantom{\\verb!x!}\\verb|1,|\\phantom{\\verb!x!}\\verb|0,|\\phantom{\\verb!x!}\\verb|0,|\\phantom{\\verb!x!}\\verb|1,|\\phantom{\\verb!x!}\\verb|0]|, \\left\\{\\verb|mon| : \\left(\\begin{array}{rr}\n",
       "l & -l^{2} + 1 \\\\\n",
       "l^{2} - 1 & -l^{3} + 2 \\, l\n",
       "\\end{array}\\right), \\verb|sol| : \\left[-1, 1\\right], \\verb|trace| : \\left[-2, 2\\right]\\right\\}\\right)\n",
       "\\end{math}"
      ],
      "text/plain": [
       "('[0, 1, 1, 0, 0, 1, 0]',\n",
       " {'mon': [         l   -l^2 + 1]\n",
       "  [   l^2 - 1 -l^3 + 2*l], 'sol': [-1, 1], 'trace': [-2, 2]})"
      ]
     },
     "metadata": {},
     "output_type": "display_data"
    },
    {
     "data": {
      "text/html": [
       "<html><script type=\"math/tex; mode=display\">\\newcommand{\\Bold}[1]{\\mathbf{#1}}\\left(\\verb|[1,|\\phantom{\\verb!x!}\\verb|1,|\\phantom{\\verb!x!}\\verb|1,|\\phantom{\\verb!x!}\\verb|0,|\\phantom{\\verb!x!}\\verb|0,|\\phantom{\\verb!x!}\\verb|1,|\\phantom{\\verb!x!}\\verb|0]|, \\left\\{\\verb|mon| : \\left(\\begin{array}{rr}\n",
       "-l^{3} + 2 \\, l & -l^{2} + 1 \\\\\n",
       "-l^{4} + 3 \\, l^{2} - 1 & -l^{3} + 2 \\, l\n",
       "\\end{array}\\right), \\verb|sol| : \\left[-\\sqrt{\\frac{1}{2} \\, \\sqrt{5} + \\frac{3}{2}}, -\\sqrt{-\\frac{1}{2} \\, \\sqrt{5} + \\frac{3}{2}}, \\sqrt{-\\frac{1}{2} \\, \\sqrt{5} + \\frac{3}{2}}, \\sqrt{\\frac{1}{2} \\, \\sqrt{5} + \\frac{3}{2}}\\right], \\verb|trace| : \\left[2 \\, {\\left(\\frac{1}{2} \\, \\sqrt{5} + \\frac{3}{2}\\right)}^{\\frac{3}{2}} - 4 \\, \\sqrt{\\frac{1}{2} \\, \\sqrt{5} + \\frac{3}{2}}, 2 \\, {\\left(-\\frac{1}{2} \\, \\sqrt{5} + \\frac{3}{2}\\right)}^{\\frac{3}{2}} - 4 \\, \\sqrt{-\\frac{1}{2} \\, \\sqrt{5} + \\frac{3}{2}}, -2 \\, {\\left(-\\frac{1}{2} \\, \\sqrt{5} + \\frac{3}{2}\\right)}^{\\frac{3}{2}} + 4 \\, \\sqrt{-\\frac{1}{2} \\, \\sqrt{5} + \\frac{3}{2}}, -2 \\, {\\left(\\frac{1}{2} \\, \\sqrt{5} + \\frac{3}{2}\\right)}^{\\frac{3}{2}} + 4 \\, \\sqrt{\\frac{1}{2} \\, \\sqrt{5} + \\frac{3}{2}}\\right]\\right\\}\\right)</script></html>"
      ],
      "text/latex": [
       "\\begin{math}\n",
       "\\newcommand{\\Bold}[1]{\\mathbf{#1}}\\left(\\verb|[1,|\\phantom{\\verb!x!}\\verb|1,|\\phantom{\\verb!x!}\\verb|1,|\\phantom{\\verb!x!}\\verb|0,|\\phantom{\\verb!x!}\\verb|0,|\\phantom{\\verb!x!}\\verb|1,|\\phantom{\\verb!x!}\\verb|0]|, \\left\\{\\verb|mon| : \\left(\\begin{array}{rr}\n",
       "-l^{3} + 2 \\, l & -l^{2} + 1 \\\\\n",
       "-l^{4} + 3 \\, l^{2} - 1 & -l^{3} + 2 \\, l\n",
       "\\end{array}\\right), \\verb|sol| : \\left[-\\sqrt{\\frac{1}{2} \\, \\sqrt{5} + \\frac{3}{2}}, -\\sqrt{-\\frac{1}{2} \\, \\sqrt{5} + \\frac{3}{2}}, \\sqrt{-\\frac{1}{2} \\, \\sqrt{5} + \\frac{3}{2}}, \\sqrt{\\frac{1}{2} \\, \\sqrt{5} + \\frac{3}{2}}\\right], \\verb|trace| : \\left[2 \\, {\\left(\\frac{1}{2} \\, \\sqrt{5} + \\frac{3}{2}\\right)}^{\\frac{3}{2}} - 4 \\, \\sqrt{\\frac{1}{2} \\, \\sqrt{5} + \\frac{3}{2}}, 2 \\, {\\left(-\\frac{1}{2} \\, \\sqrt{5} + \\frac{3}{2}\\right)}^{\\frac{3}{2}} - 4 \\, \\sqrt{-\\frac{1}{2} \\, \\sqrt{5} + \\frac{3}{2}}, -2 \\, {\\left(-\\frac{1}{2} \\, \\sqrt{5} + \\frac{3}{2}\\right)}^{\\frac{3}{2}} + 4 \\, \\sqrt{-\\frac{1}{2} \\, \\sqrt{5} + \\frac{3}{2}}, -2 \\, {\\left(\\frac{1}{2} \\, \\sqrt{5} + \\frac{3}{2}\\right)}^{\\frac{3}{2}} + 4 \\, \\sqrt{\\frac{1}{2} \\, \\sqrt{5} + \\frac{3}{2}}\\right]\\right\\}\\right)\n",
       "\\end{math}"
      ],
      "text/plain": [
       "('[1, 1, 1, 0, 0, 1, 0]',\n",
       " {'mon': [      -l^3 + 2*l         -l^2 + 1]\n",
       "  [-l^4 + 3*l^2 - 1       -l^3 + 2*l],\n",
       "  'sol': [-sqrt(1/2*sqrt(5) + 3/2),\n",
       "   -sqrt(-1/2*sqrt(5) + 3/2),\n",
       "   sqrt(-1/2*sqrt(5) + 3/2),\n",
       "   sqrt(1/2*sqrt(5) + 3/2)],\n",
       "  'trace': [2*(1/2*sqrt(5) + 3/2)^(3/2) - 4*sqrt(1/2*sqrt(5) + 3/2),\n",
       "   2*(-1/2*sqrt(5) + 3/2)^(3/2) - 4*sqrt(-1/2*sqrt(5) + 3/2),\n",
       "   -2*(-1/2*sqrt(5) + 3/2)^(3/2) + 4*sqrt(-1/2*sqrt(5) + 3/2),\n",
       "   -2*(1/2*sqrt(5) + 3/2)^(3/2) + 4*sqrt(1/2*sqrt(5) + 3/2)]})"
      ]
     },
     "metadata": {},
     "output_type": "display_data"
    },
    {
     "data": {
      "text/html": [
       "<html><script type=\"math/tex; mode=display\">\\newcommand{\\Bold}[1]{\\mathbf{#1}}\\left(\\verb|[0,|\\phantom{\\verb!x!}\\verb|0,|\\phantom{\\verb!x!}\\verb|0,|\\phantom{\\verb!x!}\\verb|1,|\\phantom{\\verb!x!}\\verb|0,|\\phantom{\\verb!x!}\\verb|1,|\\phantom{\\verb!x!}\\verb|0]|, \\left\\{\\verb|mon| : \\left(\\begin{array}{rr}\n",
       "0 & 1 \\\\\n",
       "-1 & 2 \\, l\n",
       "\\end{array}\\right), \\verb|sol| : \\left[\\right], \\verb|trace| : \\left[\\right]\\right\\}\\right)</script></html>"
      ],
      "text/latex": [
       "\\begin{math}\n",
       "\\newcommand{\\Bold}[1]{\\mathbf{#1}}\\left(\\verb|[0,|\\phantom{\\verb!x!}\\verb|0,|\\phantom{\\verb!x!}\\verb|0,|\\phantom{\\verb!x!}\\verb|1,|\\phantom{\\verb!x!}\\verb|0,|\\phantom{\\verb!x!}\\verb|1,|\\phantom{\\verb!x!}\\verb|0]|, \\left\\{\\verb|mon| : \\left(\\begin{array}{rr}\n",
       "0 & 1 \\\\\n",
       "-1 & 2 \\, l\n",
       "\\end{array}\\right), \\verb|sol| : \\left[\\right], \\verb|trace| : \\left[\\right]\\right\\}\\right)\n",
       "\\end{math}"
      ],
      "text/plain": [
       "('[0, 0, 0, 1, 0, 1, 0]',\n",
       " {'mon': [  0   1]\n",
       "  [ -1 2*l], 'sol': [], 'trace': []})"
      ]
     },
     "metadata": {},
     "output_type": "display_data"
    },
    {
     "data": {
      "text/html": [
       "<html><script type=\"math/tex; mode=display\">\\newcommand{\\Bold}[1]{\\mathbf{#1}}\\left(\\verb|[1,|\\phantom{\\verb!x!}\\verb|0,|\\phantom{\\verb!x!}\\verb|0,|\\phantom{\\verb!x!}\\verb|1,|\\phantom{\\verb!x!}\\verb|0,|\\phantom{\\verb!x!}\\verb|1,|\\phantom{\\verb!x!}\\verb|0]|, \\left\\{\\verb|mon| : \\left(\\begin{array}{rr}\n",
       "l & 1 \\\\\n",
       "2 \\, l^{2} - 1 & 2 \\, l\n",
       "\\end{array}\\right), \\verb|sol| : \\left[-\\frac{1}{2} \\, \\sqrt{2}, \\frac{1}{2} \\, \\sqrt{2}\\right], \\verb|trace| : \\left[-\\frac{3}{2} \\, \\sqrt{2}, \\frac{3}{2} \\, \\sqrt{2}\\right]\\right\\}\\right)</script></html>"
      ],
      "text/latex": [
       "\\begin{math}\n",
       "\\newcommand{\\Bold}[1]{\\mathbf{#1}}\\left(\\verb|[1,|\\phantom{\\verb!x!}\\verb|0,|\\phantom{\\verb!x!}\\verb|0,|\\phantom{\\verb!x!}\\verb|1,|\\phantom{\\verb!x!}\\verb|0,|\\phantom{\\verb!x!}\\verb|1,|\\phantom{\\verb!x!}\\verb|0]|, \\left\\{\\verb|mon| : \\left(\\begin{array}{rr}\n",
       "l & 1 \\\\\n",
       "2 \\, l^{2} - 1 & 2 \\, l\n",
       "\\end{array}\\right), \\verb|sol| : \\left[-\\frac{1}{2} \\, \\sqrt{2}, \\frac{1}{2} \\, \\sqrt{2}\\right], \\verb|trace| : \\left[-\\frac{3}{2} \\, \\sqrt{2}, \\frac{3}{2} \\, \\sqrt{2}\\right]\\right\\}\\right)\n",
       "\\end{math}"
      ],
      "text/plain": [
       "('[1, 0, 0, 1, 0, 1, 0]',\n",
       " {'mon': [        l         1]\n",
       "  [2*l^2 - 1       2*l],\n",
       "  'sol': [-1/2*sqrt(2), 1/2*sqrt(2)],\n",
       "  'trace': [-3/2*sqrt(2), 3/2*sqrt(2)]})"
      ]
     },
     "metadata": {},
     "output_type": "display_data"
    },
    {
     "data": {
      "text/html": [
       "<html><script type=\"math/tex; mode=display\">\\newcommand{\\Bold}[1]{\\mathbf{#1}}\\left(\\verb|[0,|\\phantom{\\verb!x!}\\verb|1,|\\phantom{\\verb!x!}\\verb|0,|\\phantom{\\verb!x!}\\verb|1,|\\phantom{\\verb!x!}\\verb|0,|\\phantom{\\verb!x!}\\verb|1,|\\phantom{\\verb!x!}\\verb|0]|, \\left\\{\\verb|mon| : \\left(\\begin{array}{rr}\n",
       "0 & 1 \\\\\n",
       "-1 & 3 \\, l\n",
       "\\end{array}\\right), \\verb|sol| : \\left[\\right], \\verb|trace| : \\left[\\right]\\right\\}\\right)</script></html>"
      ],
      "text/latex": [
       "\\begin{math}\n",
       "\\newcommand{\\Bold}[1]{\\mathbf{#1}}\\left(\\verb|[0,|\\phantom{\\verb!x!}\\verb|1,|\\phantom{\\verb!x!}\\verb|0,|\\phantom{\\verb!x!}\\verb|1,|\\phantom{\\verb!x!}\\verb|0,|\\phantom{\\verb!x!}\\verb|1,|\\phantom{\\verb!x!}\\verb|0]|, \\left\\{\\verb|mon| : \\left(\\begin{array}{rr}\n",
       "0 & 1 \\\\\n",
       "-1 & 3 \\, l\n",
       "\\end{array}\\right), \\verb|sol| : \\left[\\right], \\verb|trace| : \\left[\\right]\\right\\}\\right)\n",
       "\\end{math}"
      ],
      "text/plain": [
       "('[0, 1, 0, 1, 0, 1, 0]',\n",
       " {'mon': [  0   1]\n",
       "  [ -1 3*l], 'sol': [], 'trace': []})"
      ]
     },
     "metadata": {},
     "output_type": "display_data"
    },
    {
     "data": {
      "text/html": [
       "<html><script type=\"math/tex; mode=display\">\\newcommand{\\Bold}[1]{\\mathbf{#1}}\\left(\\verb|[1,|\\phantom{\\verb!x!}\\verb|1,|\\phantom{\\verb!x!}\\verb|0,|\\phantom{\\verb!x!}\\verb|1,|\\phantom{\\verb!x!}\\verb|0,|\\phantom{\\verb!x!}\\verb|1,|\\phantom{\\verb!x!}\\verb|0]|, \\left\\{\\verb|mon| : \\left(\\begin{array}{rr}\n",
       "l & 1 \\\\\n",
       "3 \\, l^{2} - 1 & 3 \\, l\n",
       "\\end{array}\\right), \\verb|sol| : \\left[-\\frac{1}{3} \\, \\sqrt{3}, \\frac{1}{3} \\, \\sqrt{3}\\right], \\verb|trace| : \\left[-\\frac{4}{3} \\, \\sqrt{3}, \\frac{4}{3} \\, \\sqrt{3}\\right]\\right\\}\\right)</script></html>"
      ],
      "text/latex": [
       "\\begin{math}\n",
       "\\newcommand{\\Bold}[1]{\\mathbf{#1}}\\left(\\verb|[1,|\\phantom{\\verb!x!}\\verb|1,|\\phantom{\\verb!x!}\\verb|0,|\\phantom{\\verb!x!}\\verb|1,|\\phantom{\\verb!x!}\\verb|0,|\\phantom{\\verb!x!}\\verb|1,|\\phantom{\\verb!x!}\\verb|0]|, \\left\\{\\verb|mon| : \\left(\\begin{array}{rr}\n",
       "l & 1 \\\\\n",
       "3 \\, l^{2} - 1 & 3 \\, l\n",
       "\\end{array}\\right), \\verb|sol| : \\left[-\\frac{1}{3} \\, \\sqrt{3}, \\frac{1}{3} \\, \\sqrt{3}\\right], \\verb|trace| : \\left[-\\frac{4}{3} \\, \\sqrt{3}, \\frac{4}{3} \\, \\sqrt{3}\\right]\\right\\}\\right)\n",
       "\\end{math}"
      ],
      "text/plain": [
       "('[1, 1, 0, 1, 0, 1, 0]',\n",
       " {'mon': [        l         1]\n",
       "  [3*l^2 - 1       3*l],\n",
       "  'sol': [-1/3*sqrt(3), 1/3*sqrt(3)],\n",
       "  'trace': [-4/3*sqrt(3), 4/3*sqrt(3)]})"
      ]
     },
     "metadata": {},
     "output_type": "display_data"
    },
    {
     "data": {
      "text/html": [
       "<html><script type=\"math/tex; mode=display\">\\newcommand{\\Bold}[1]{\\mathbf{#1}}\\left(\\verb|[0,|\\phantom{\\verb!x!}\\verb|0,|\\phantom{\\verb!x!}\\verb|1,|\\phantom{\\verb!x!}\\verb|1,|\\phantom{\\verb!x!}\\verb|0,|\\phantom{\\verb!x!}\\verb|1,|\\phantom{\\verb!x!}\\verb|0]|, \\left\\{\\verb|mon| : \\left(\\begin{array}{rr}\n",
       "l & 1 \\\\\n",
       "2 \\, l^{2} - 1 & 2 \\, l\n",
       "\\end{array}\\right), \\verb|sol| : \\left[-\\frac{1}{2} \\, \\sqrt{2}, \\frac{1}{2} \\, \\sqrt{2}\\right], \\verb|trace| : \\left[-\\frac{3}{2} \\, \\sqrt{2}, \\frac{3}{2} \\, \\sqrt{2}\\right]\\right\\}\\right)</script></html>"
      ],
      "text/latex": [
       "\\begin{math}\n",
       "\\newcommand{\\Bold}[1]{\\mathbf{#1}}\\left(\\verb|[0,|\\phantom{\\verb!x!}\\verb|0,|\\phantom{\\verb!x!}\\verb|1,|\\phantom{\\verb!x!}\\verb|1,|\\phantom{\\verb!x!}\\verb|0,|\\phantom{\\verb!x!}\\verb|1,|\\phantom{\\verb!x!}\\verb|0]|, \\left\\{\\verb|mon| : \\left(\\begin{array}{rr}\n",
       "l & 1 \\\\\n",
       "2 \\, l^{2} - 1 & 2 \\, l\n",
       "\\end{array}\\right), \\verb|sol| : \\left[-\\frac{1}{2} \\, \\sqrt{2}, \\frac{1}{2} \\, \\sqrt{2}\\right], \\verb|trace| : \\left[-\\frac{3}{2} \\, \\sqrt{2}, \\frac{3}{2} \\, \\sqrt{2}\\right]\\right\\}\\right)\n",
       "\\end{math}"
      ],
      "text/plain": [
       "('[0, 0, 1, 1, 0, 1, 0]',\n",
       " {'mon': [        l         1]\n",
       "  [2*l^2 - 1       2*l],\n",
       "  'sol': [-1/2*sqrt(2), 1/2*sqrt(2)],\n",
       "  'trace': [-3/2*sqrt(2), 3/2*sqrt(2)]})"
      ]
     },
     "metadata": {},
     "output_type": "display_data"
    },
    {
     "data": {
      "text/html": [
       "<html><script type=\"math/tex; mode=display\">\\newcommand{\\Bold}[1]{\\mathbf{#1}}\\left(\\verb|[1,|\\phantom{\\verb!x!}\\verb|0,|\\phantom{\\verb!x!}\\verb|1,|\\phantom{\\verb!x!}\\verb|1,|\\phantom{\\verb!x!}\\verb|0,|\\phantom{\\verb!x!}\\verb|1,|\\phantom{\\verb!x!}\\verb|0]|, \\left\\{\\verb|mon| : \\left(\\begin{array}{rr}\n",
       "2 \\, l & 1 \\\\\n",
       "4 \\, l^{2} - 1 & 2 \\, l\n",
       "\\end{array}\\right), \\verb|sol| : \\left[-\\frac{1}{2}, \\frac{1}{2}\\right], \\verb|trace| : \\left[-2, 2\\right]\\right\\}\\right)</script></html>"
      ],
      "text/latex": [
       "\\begin{math}\n",
       "\\newcommand{\\Bold}[1]{\\mathbf{#1}}\\left(\\verb|[1,|\\phantom{\\verb!x!}\\verb|0,|\\phantom{\\verb!x!}\\verb|1,|\\phantom{\\verb!x!}\\verb|1,|\\phantom{\\verb!x!}\\verb|0,|\\phantom{\\verb!x!}\\verb|1,|\\phantom{\\verb!x!}\\verb|0]|, \\left\\{\\verb|mon| : \\left(\\begin{array}{rr}\n",
       "2 \\, l & 1 \\\\\n",
       "4 \\, l^{2} - 1 & 2 \\, l\n",
       "\\end{array}\\right), \\verb|sol| : \\left[-\\frac{1}{2}, \\frac{1}{2}\\right], \\verb|trace| : \\left[-2, 2\\right]\\right\\}\\right)\n",
       "\\end{math}"
      ],
      "text/plain": [
       "('[1, 0, 1, 1, 0, 1, 0]',\n",
       " {'mon': [      2*l         1]\n",
       "  [4*l^2 - 1       2*l], 'sol': [-1/2, 1/2], 'trace': [-2, 2]})"
      ]
     },
     "metadata": {},
     "output_type": "display_data"
    },
    {
     "data": {
      "text/html": [
       "<html><script type=\"math/tex; mode=display\">\\newcommand{\\Bold}[1]{\\mathbf{#1}}\\left(\\verb|[0,|\\phantom{\\verb!x!}\\verb|1,|\\phantom{\\verb!x!}\\verb|1,|\\phantom{\\verb!x!}\\verb|1,|\\phantom{\\verb!x!}\\verb|0,|\\phantom{\\verb!x!}\\verb|1,|\\phantom{\\verb!x!}\\verb|0]|, \\left\\{\\verb|mon| : \\left(\\begin{array}{rr}\n",
       "l & -l^{2} + 1 \\\\\n",
       "2 \\, l^{2} - 1 & -2 \\, l^{3} + 3 \\, l\n",
       "\\end{array}\\right), \\verb|sol| : \\left[-\\frac{1}{2} \\, \\sqrt{2}, \\frac{1}{2} \\, \\sqrt{2}\\right], \\verb|trace| : \\left[-\\frac{3}{2} \\, \\sqrt{2}, \\frac{3}{2} \\, \\sqrt{2}\\right]\\right\\}\\right)</script></html>"
      ],
      "text/latex": [
       "\\begin{math}\n",
       "\\newcommand{\\Bold}[1]{\\mathbf{#1}}\\left(\\verb|[0,|\\phantom{\\verb!x!}\\verb|1,|\\phantom{\\verb!x!}\\verb|1,|\\phantom{\\verb!x!}\\verb|1,|\\phantom{\\verb!x!}\\verb|0,|\\phantom{\\verb!x!}\\verb|1,|\\phantom{\\verb!x!}\\verb|0]|, \\left\\{\\verb|mon| : \\left(\\begin{array}{rr}\n",
       "l & -l^{2} + 1 \\\\\n",
       "2 \\, l^{2} - 1 & -2 \\, l^{3} + 3 \\, l\n",
       "\\end{array}\\right), \\verb|sol| : \\left[-\\frac{1}{2} \\, \\sqrt{2}, \\frac{1}{2} \\, \\sqrt{2}\\right], \\verb|trace| : \\left[-\\frac{3}{2} \\, \\sqrt{2}, \\frac{3}{2} \\, \\sqrt{2}\\right]\\right\\}\\right)\n",
       "\\end{math}"
      ],
      "text/plain": [
       "('[0, 1, 1, 1, 0, 1, 0]',\n",
       " {'mon': [           l     -l^2 + 1]\n",
       "  [   2*l^2 - 1 -2*l^3 + 3*l],\n",
       "  'sol': [-1/2*sqrt(2), 1/2*sqrt(2)],\n",
       "  'trace': [-3/2*sqrt(2), 3/2*sqrt(2)]})"
      ]
     },
     "metadata": {},
     "output_type": "display_data"
    },
    {
     "data": {
      "text/html": [
       "<html><script type=\"math/tex; mode=display\">\\newcommand{\\Bold}[1]{\\mathbf{#1}}\\left(\\verb|[1,|\\phantom{\\verb!x!}\\verb|1,|\\phantom{\\verb!x!}\\verb|1,|\\phantom{\\verb!x!}\\verb|1,|\\phantom{\\verb!x!}\\verb|0,|\\phantom{\\verb!x!}\\verb|1,|\\phantom{\\verb!x!}\\verb|0]|, \\left\\{\\verb|mon| : \\left(\\begin{array}{rr}\n",
       "-l^{3} + 2 \\, l & -l^{2} + 1 \\\\\n",
       "-2 \\, l^{4} + 5 \\, l^{2} - 1 & -2 \\, l^{3} + 3 \\, l\n",
       "\\end{array}\\right), \\verb|sol| : \\left[-\\frac{1}{2} \\, \\sqrt{\\sqrt{17} + 5}, -\\frac{1}{2} \\, \\sqrt{-\\sqrt{17} + 5}, \\frac{1}{2} \\, \\sqrt{-\\sqrt{17} + 5}, \\frac{1}{2} \\, \\sqrt{\\sqrt{17} + 5}\\right], \\verb|trace| : \\left[\\frac{3}{8} \\, {\\left(\\sqrt{17} + 5\\right)}^{\\frac{3}{2}} - \\frac{5}{2} \\, \\sqrt{\\sqrt{17} + 5}, \\frac{3}{8} \\, {\\left(-\\sqrt{17} + 5\\right)}^{\\frac{3}{2}} - \\frac{5}{2} \\, \\sqrt{-\\sqrt{17} + 5}, -\\frac{3}{8} \\, {\\left(-\\sqrt{17} + 5\\right)}^{\\frac{3}{2}} + \\frac{5}{2} \\, \\sqrt{-\\sqrt{17} + 5}, -\\frac{3}{8} \\, {\\left(\\sqrt{17} + 5\\right)}^{\\frac{3}{2}} + \\frac{5}{2} \\, \\sqrt{\\sqrt{17} + 5}\\right]\\right\\}\\right)</script></html>"
      ],
      "text/latex": [
       "\\begin{math}\n",
       "\\newcommand{\\Bold}[1]{\\mathbf{#1}}\\left(\\verb|[1,|\\phantom{\\verb!x!}\\verb|1,|\\phantom{\\verb!x!}\\verb|1,|\\phantom{\\verb!x!}\\verb|1,|\\phantom{\\verb!x!}\\verb|0,|\\phantom{\\verb!x!}\\verb|1,|\\phantom{\\verb!x!}\\verb|0]|, \\left\\{\\verb|mon| : \\left(\\begin{array}{rr}\n",
       "-l^{3} + 2 \\, l & -l^{2} + 1 \\\\\n",
       "-2 \\, l^{4} + 5 \\, l^{2} - 1 & -2 \\, l^{3} + 3 \\, l\n",
       "\\end{array}\\right), \\verb|sol| : \\left[-\\frac{1}{2} \\, \\sqrt{\\sqrt{17} + 5}, -\\frac{1}{2} \\, \\sqrt{-\\sqrt{17} + 5}, \\frac{1}{2} \\, \\sqrt{-\\sqrt{17} + 5}, \\frac{1}{2} \\, \\sqrt{\\sqrt{17} + 5}\\right], \\verb|trace| : \\left[\\frac{3}{8} \\, {\\left(\\sqrt{17} + 5\\right)}^{\\frac{3}{2}} - \\frac{5}{2} \\, \\sqrt{\\sqrt{17} + 5}, \\frac{3}{8} \\, {\\left(-\\sqrt{17} + 5\\right)}^{\\frac{3}{2}} - \\frac{5}{2} \\, \\sqrt{-\\sqrt{17} + 5}, -\\frac{3}{8} \\, {\\left(-\\sqrt{17} + 5\\right)}^{\\frac{3}{2}} + \\frac{5}{2} \\, \\sqrt{-\\sqrt{17} + 5}, -\\frac{3}{8} \\, {\\left(\\sqrt{17} + 5\\right)}^{\\frac{3}{2}} + \\frac{5}{2} \\, \\sqrt{\\sqrt{17} + 5}\\right]\\right\\}\\right)\n",
       "\\end{math}"
      ],
      "text/plain": [
       "('[1, 1, 1, 1, 0, 1, 0]',\n",
       " {'mon': [        -l^3 + 2*l           -l^2 + 1]\n",
       "  [-2*l^4 + 5*l^2 - 1       -2*l^3 + 3*l],\n",
       "  'sol': [-1/2*sqrt(sqrt(17) + 5),\n",
       "   -1/2*sqrt(-sqrt(17) + 5),\n",
       "   1/2*sqrt(-sqrt(17) + 5),\n",
       "   1/2*sqrt(sqrt(17) + 5)],\n",
       "  'trace': [3/8*(sqrt(17) + 5)^(3/2) - 5/2*sqrt(sqrt(17) + 5),\n",
       "   3/8*(-sqrt(17) + 5)^(3/2) - 5/2*sqrt(-sqrt(17) + 5),\n",
       "   -3/8*(-sqrt(17) + 5)^(3/2) + 5/2*sqrt(-sqrt(17) + 5),\n",
       "   -3/8*(sqrt(17) + 5)^(3/2) + 5/2*sqrt(sqrt(17) + 5)]})"
      ]
     },
     "metadata": {},
     "output_type": "display_data"
    },
    {
     "data": {
      "text/html": [
       "<html><script type=\"math/tex; mode=display\">\\newcommand{\\Bold}[1]{\\mathbf{#1}}\\left(\\verb|[0,|\\phantom{\\verb!x!}\\verb|0,|\\phantom{\\verb!x!}\\verb|0,|\\phantom{\\verb!x!}\\verb|0,|\\phantom{\\verb!x!}\\verb|1,|\\phantom{\\verb!x!}\\verb|1,|\\phantom{\\verb!x!}\\verb|0]|, \\left\\{\\verb|mon| : \\left(\\begin{array}{rr}\n",
       "l & 1 \\\\\n",
       "l^{2} - 1 & l\n",
       "\\end{array}\\right), \\verb|sol| : \\left[-1, 1\\right], \\verb|trace| : \\left[-2, 2\\right]\\right\\}\\right)</script></html>"
      ],
      "text/latex": [
       "\\begin{math}\n",
       "\\newcommand{\\Bold}[1]{\\mathbf{#1}}\\left(\\verb|[0,|\\phantom{\\verb!x!}\\verb|0,|\\phantom{\\verb!x!}\\verb|0,|\\phantom{\\verb!x!}\\verb|0,|\\phantom{\\verb!x!}\\verb|1,|\\phantom{\\verb!x!}\\verb|1,|\\phantom{\\verb!x!}\\verb|0]|, \\left\\{\\verb|mon| : \\left(\\begin{array}{rr}\n",
       "l & 1 \\\\\n",
       "l^{2} - 1 & l\n",
       "\\end{array}\\right), \\verb|sol| : \\left[-1, 1\\right], \\verb|trace| : \\left[-2, 2\\right]\\right\\}\\right)\n",
       "\\end{math}"
      ],
      "text/plain": [
       "('[0, 0, 0, 0, 1, 1, 0]',\n",
       " {'mon': [      l       1]\n",
       "  [l^2 - 1       l], 'sol': [-1, 1], 'trace': [-2, 2]})"
      ]
     },
     "metadata": {},
     "output_type": "display_data"
    },
    {
     "data": {
      "text/html": [
       "<html><script type=\"math/tex; mode=display\">\\newcommand{\\Bold}[1]{\\mathbf{#1}}\\left(\\verb|[1,|\\phantom{\\verb!x!}\\verb|0,|\\phantom{\\verb!x!}\\verb|0,|\\phantom{\\verb!x!}\\verb|0,|\\phantom{\\verb!x!}\\verb|1,|\\phantom{\\verb!x!}\\verb|1,|\\phantom{\\verb!x!}\\verb|0]|, \\left\\{\\verb|mon| : \\left(\\begin{array}{rr}\n",
       "2 \\, l & 1 \\\\\n",
       "2 \\, l^{2} - 1 & l\n",
       "\\end{array}\\right), \\verb|sol| : \\left[-\\frac{1}{2} \\, \\sqrt{2}, \\frac{1}{2} \\, \\sqrt{2}\\right], \\verb|trace| : \\left[-\\frac{3}{2} \\, \\sqrt{2}, \\frac{3}{2} \\, \\sqrt{2}\\right]\\right\\}\\right)</script></html>"
      ],
      "text/latex": [
       "\\begin{math}\n",
       "\\newcommand{\\Bold}[1]{\\mathbf{#1}}\\left(\\verb|[1,|\\phantom{\\verb!x!}\\verb|0,|\\phantom{\\verb!x!}\\verb|0,|\\phantom{\\verb!x!}\\verb|0,|\\phantom{\\verb!x!}\\verb|1,|\\phantom{\\verb!x!}\\verb|1,|\\phantom{\\verb!x!}\\verb|0]|, \\left\\{\\verb|mon| : \\left(\\begin{array}{rr}\n",
       "2 \\, l & 1 \\\\\n",
       "2 \\, l^{2} - 1 & l\n",
       "\\end{array}\\right), \\verb|sol| : \\left[-\\frac{1}{2} \\, \\sqrt{2}, \\frac{1}{2} \\, \\sqrt{2}\\right], \\verb|trace| : \\left[-\\frac{3}{2} \\, \\sqrt{2}, \\frac{3}{2} \\, \\sqrt{2}\\right]\\right\\}\\right)\n",
       "\\end{math}"
      ],
      "text/plain": [
       "('[1, 0, 0, 0, 1, 1, 0]',\n",
       " {'mon': [      2*l         1]\n",
       "  [2*l^2 - 1         l],\n",
       "  'sol': [-1/2*sqrt(2), 1/2*sqrt(2)],\n",
       "  'trace': [-3/2*sqrt(2), 3/2*sqrt(2)]})"
      ]
     },
     "metadata": {},
     "output_type": "display_data"
    },
    {
     "data": {
      "text/html": [
       "<html><script type=\"math/tex; mode=display\">\\newcommand{\\Bold}[1]{\\mathbf{#1}}\\left(\\verb|[0,|\\phantom{\\verb!x!}\\verb|1,|\\phantom{\\verb!x!}\\verb|0,|\\phantom{\\verb!x!}\\verb|0,|\\phantom{\\verb!x!}\\verb|1,|\\phantom{\\verb!x!}\\verb|1,|\\phantom{\\verb!x!}\\verb|0]|, \\left\\{\\verb|mon| : \\left(\\begin{array}{rr}\n",
       "l & -l^{2} + 1 \\\\\n",
       "l^{2} - 1 & -l^{3} + 2 \\, l\n",
       "\\end{array}\\right), \\verb|sol| : \\left[-1, 1\\right], \\verb|trace| : \\left[-2, 2\\right]\\right\\}\\right)</script></html>"
      ],
      "text/latex": [
       "\\begin{math}\n",
       "\\newcommand{\\Bold}[1]{\\mathbf{#1}}\\left(\\verb|[0,|\\phantom{\\verb!x!}\\verb|1,|\\phantom{\\verb!x!}\\verb|0,|\\phantom{\\verb!x!}\\verb|0,|\\phantom{\\verb!x!}\\verb|1,|\\phantom{\\verb!x!}\\verb|1,|\\phantom{\\verb!x!}\\verb|0]|, \\left\\{\\verb|mon| : \\left(\\begin{array}{rr}\n",
       "l & -l^{2} + 1 \\\\\n",
       "l^{2} - 1 & -l^{3} + 2 \\, l\n",
       "\\end{array}\\right), \\verb|sol| : \\left[-1, 1\\right], \\verb|trace| : \\left[-2, 2\\right]\\right\\}\\right)\n",
       "\\end{math}"
      ],
      "text/plain": [
       "('[0, 1, 0, 0, 1, 1, 0]',\n",
       " {'mon': [         l   -l^2 + 1]\n",
       "  [   l^2 - 1 -l^3 + 2*l], 'sol': [-1, 1], 'trace': [-2, 2]})"
      ]
     },
     "metadata": {},
     "output_type": "display_data"
    },
    {
     "data": {
      "text/html": [
       "<html><script type=\"math/tex; mode=display\">\\newcommand{\\Bold}[1]{\\mathbf{#1}}\\left(\\verb|[1,|\\phantom{\\verb!x!}\\verb|1,|\\phantom{\\verb!x!}\\verb|0,|\\phantom{\\verb!x!}\\verb|0,|\\phantom{\\verb!x!}\\verb|1,|\\phantom{\\verb!x!}\\verb|1,|\\phantom{\\verb!x!}\\verb|0]|, \\left\\{\\verb|mon| : \\left(\\begin{array}{rr}\n",
       "-l^{3} + 2 \\, l & -l^{2} + 1 \\\\\n",
       "-l^{4} + 3 \\, l^{2} - 1 & -l^{3} + 2 \\, l\n",
       "\\end{array}\\right), \\verb|sol| : \\left[-\\sqrt{\\frac{1}{2} \\, \\sqrt{5} + \\frac{3}{2}}, -\\sqrt{-\\frac{1}{2} \\, \\sqrt{5} + \\frac{3}{2}}, \\sqrt{-\\frac{1}{2} \\, \\sqrt{5} + \\frac{3}{2}}, \\sqrt{\\frac{1}{2} \\, \\sqrt{5} + \\frac{3}{2}}\\right], \\verb|trace| : \\left[2 \\, {\\left(\\frac{1}{2} \\, \\sqrt{5} + \\frac{3}{2}\\right)}^{\\frac{3}{2}} - 4 \\, \\sqrt{\\frac{1}{2} \\, \\sqrt{5} + \\frac{3}{2}}, 2 \\, {\\left(-\\frac{1}{2} \\, \\sqrt{5} + \\frac{3}{2}\\right)}^{\\frac{3}{2}} - 4 \\, \\sqrt{-\\frac{1}{2} \\, \\sqrt{5} + \\frac{3}{2}}, -2 \\, {\\left(-\\frac{1}{2} \\, \\sqrt{5} + \\frac{3}{2}\\right)}^{\\frac{3}{2}} + 4 \\, \\sqrt{-\\frac{1}{2} \\, \\sqrt{5} + \\frac{3}{2}}, -2 \\, {\\left(\\frac{1}{2} \\, \\sqrt{5} + \\frac{3}{2}\\right)}^{\\frac{3}{2}} + 4 \\, \\sqrt{\\frac{1}{2} \\, \\sqrt{5} + \\frac{3}{2}}\\right]\\right\\}\\right)</script></html>"
      ],
      "text/latex": [
       "\\begin{math}\n",
       "\\newcommand{\\Bold}[1]{\\mathbf{#1}}\\left(\\verb|[1,|\\phantom{\\verb!x!}\\verb|1,|\\phantom{\\verb!x!}\\verb|0,|\\phantom{\\verb!x!}\\verb|0,|\\phantom{\\verb!x!}\\verb|1,|\\phantom{\\verb!x!}\\verb|1,|\\phantom{\\verb!x!}\\verb|0]|, \\left\\{\\verb|mon| : \\left(\\begin{array}{rr}\n",
       "-l^{3} + 2 \\, l & -l^{2} + 1 \\\\\n",
       "-l^{4} + 3 \\, l^{2} - 1 & -l^{3} + 2 \\, l\n",
       "\\end{array}\\right), \\verb|sol| : \\left[-\\sqrt{\\frac{1}{2} \\, \\sqrt{5} + \\frac{3}{2}}, -\\sqrt{-\\frac{1}{2} \\, \\sqrt{5} + \\frac{3}{2}}, \\sqrt{-\\frac{1}{2} \\, \\sqrt{5} + \\frac{3}{2}}, \\sqrt{\\frac{1}{2} \\, \\sqrt{5} + \\frac{3}{2}}\\right], \\verb|trace| : \\left[2 \\, {\\left(\\frac{1}{2} \\, \\sqrt{5} + \\frac{3}{2}\\right)}^{\\frac{3}{2}} - 4 \\, \\sqrt{\\frac{1}{2} \\, \\sqrt{5} + \\frac{3}{2}}, 2 \\, {\\left(-\\frac{1}{2} \\, \\sqrt{5} + \\frac{3}{2}\\right)}^{\\frac{3}{2}} - 4 \\, \\sqrt{-\\frac{1}{2} \\, \\sqrt{5} + \\frac{3}{2}}, -2 \\, {\\left(-\\frac{1}{2} \\, \\sqrt{5} + \\frac{3}{2}\\right)}^{\\frac{3}{2}} + 4 \\, \\sqrt{-\\frac{1}{2} \\, \\sqrt{5} + \\frac{3}{2}}, -2 \\, {\\left(\\frac{1}{2} \\, \\sqrt{5} + \\frac{3}{2}\\right)}^{\\frac{3}{2}} + 4 \\, \\sqrt{\\frac{1}{2} \\, \\sqrt{5} + \\frac{3}{2}}\\right]\\right\\}\\right)\n",
       "\\end{math}"
      ],
      "text/plain": [
       "('[1, 1, 0, 0, 1, 1, 0]',\n",
       " {'mon': [      -l^3 + 2*l         -l^2 + 1]\n",
       "  [-l^4 + 3*l^2 - 1       -l^3 + 2*l],\n",
       "  'sol': [-sqrt(1/2*sqrt(5) + 3/2),\n",
       "   -sqrt(-1/2*sqrt(5) + 3/2),\n",
       "   sqrt(-1/2*sqrt(5) + 3/2),\n",
       "   sqrt(1/2*sqrt(5) + 3/2)],\n",
       "  'trace': [2*(1/2*sqrt(5) + 3/2)^(3/2) - 4*sqrt(1/2*sqrt(5) + 3/2),\n",
       "   2*(-1/2*sqrt(5) + 3/2)^(3/2) - 4*sqrt(-1/2*sqrt(5) + 3/2),\n",
       "   -2*(-1/2*sqrt(5) + 3/2)^(3/2) + 4*sqrt(-1/2*sqrt(5) + 3/2),\n",
       "   -2*(1/2*sqrt(5) + 3/2)^(3/2) + 4*sqrt(1/2*sqrt(5) + 3/2)]})"
      ]
     },
     "metadata": {},
     "output_type": "display_data"
    },
    {
     "data": {
      "text/html": [
       "<html><script type=\"math/tex; mode=display\">\\newcommand{\\Bold}[1]{\\mathbf{#1}}\\left(\\verb|[0,|\\phantom{\\verb!x!}\\verb|0,|\\phantom{\\verb!x!}\\verb|1,|\\phantom{\\verb!x!}\\verb|0,|\\phantom{\\verb!x!}\\verb|1,|\\phantom{\\verb!x!}\\verb|1,|\\phantom{\\verb!x!}\\verb|0]|, \\left\\{\\verb|mon| : \\left(\\begin{array}{rr}\n",
       "2 \\, l & 1 \\\\\n",
       "2 \\, l^{2} - 1 & l\n",
       "\\end{array}\\right), \\verb|sol| : \\left[-\\frac{1}{2} \\, \\sqrt{2}, \\frac{1}{2} \\, \\sqrt{2}\\right], \\verb|trace| : \\left[-\\frac{3}{2} \\, \\sqrt{2}, \\frac{3}{2} \\, \\sqrt{2}\\right]\\right\\}\\right)</script></html>"
      ],
      "text/latex": [
       "\\begin{math}\n",
       "\\newcommand{\\Bold}[1]{\\mathbf{#1}}\\left(\\verb|[0,|\\phantom{\\verb!x!}\\verb|0,|\\phantom{\\verb!x!}\\verb|1,|\\phantom{\\verb!x!}\\verb|0,|\\phantom{\\verb!x!}\\verb|1,|\\phantom{\\verb!x!}\\verb|1,|\\phantom{\\verb!x!}\\verb|0]|, \\left\\{\\verb|mon| : \\left(\\begin{array}{rr}\n",
       "2 \\, l & 1 \\\\\n",
       "2 \\, l^{2} - 1 & l\n",
       "\\end{array}\\right), \\verb|sol| : \\left[-\\frac{1}{2} \\, \\sqrt{2}, \\frac{1}{2} \\, \\sqrt{2}\\right], \\verb|trace| : \\left[-\\frac{3}{2} \\, \\sqrt{2}, \\frac{3}{2} \\, \\sqrt{2}\\right]\\right\\}\\right)\n",
       "\\end{math}"
      ],
      "text/plain": [
       "('[0, 0, 1, 0, 1, 1, 0]',\n",
       " {'mon': [      2*l         1]\n",
       "  [2*l^2 - 1         l],\n",
       "  'sol': [-1/2*sqrt(2), 1/2*sqrt(2)],\n",
       "  'trace': [-3/2*sqrt(2), 3/2*sqrt(2)]})"
      ]
     },
     "metadata": {},
     "output_type": "display_data"
    },
    {
     "data": {
      "text/html": [
       "<html><script type=\"math/tex; mode=display\">\\newcommand{\\Bold}[1]{\\mathbf{#1}}\\left(\\verb|[1,|\\phantom{\\verb!x!}\\verb|0,|\\phantom{\\verb!x!}\\verb|1,|\\phantom{\\verb!x!}\\verb|0,|\\phantom{\\verb!x!}\\verb|1,|\\phantom{\\verb!x!}\\verb|1,|\\phantom{\\verb!x!}\\verb|0]|, \\left\\{\\verb|mon| : \\left(\\begin{array}{rr}\n",
       "3 \\, l & 1 \\\\\n",
       "3 \\, l^{2} - 1 & l\n",
       "\\end{array}\\right), \\verb|sol| : \\left[-\\frac{1}{3} \\, \\sqrt{3}, \\frac{1}{3} \\, \\sqrt{3}\\right], \\verb|trace| : \\left[-\\frac{4}{3} \\, \\sqrt{3}, \\frac{4}{3} \\, \\sqrt{3}\\right]\\right\\}\\right)</script></html>"
      ],
      "text/latex": [
       "\\begin{math}\n",
       "\\newcommand{\\Bold}[1]{\\mathbf{#1}}\\left(\\verb|[1,|\\phantom{\\verb!x!}\\verb|0,|\\phantom{\\verb!x!}\\verb|1,|\\phantom{\\verb!x!}\\verb|0,|\\phantom{\\verb!x!}\\verb|1,|\\phantom{\\verb!x!}\\verb|1,|\\phantom{\\verb!x!}\\verb|0]|, \\left\\{\\verb|mon| : \\left(\\begin{array}{rr}\n",
       "3 \\, l & 1 \\\\\n",
       "3 \\, l^{2} - 1 & l\n",
       "\\end{array}\\right), \\verb|sol| : \\left[-\\frac{1}{3} \\, \\sqrt{3}, \\frac{1}{3} \\, \\sqrt{3}\\right], \\verb|trace| : \\left[-\\frac{4}{3} \\, \\sqrt{3}, \\frac{4}{3} \\, \\sqrt{3}\\right]\\right\\}\\right)\n",
       "\\end{math}"
      ],
      "text/plain": [
       "('[1, 0, 1, 0, 1, 1, 0]',\n",
       " {'mon': [      3*l         1]\n",
       "  [3*l^2 - 1         l],\n",
       "  'sol': [-1/3*sqrt(3), 1/3*sqrt(3)],\n",
       "  'trace': [-4/3*sqrt(3), 4/3*sqrt(3)]})"
      ]
     },
     "metadata": {},
     "output_type": "display_data"
    },
    {
     "data": {
      "text/html": [
       "<html><script type=\"math/tex; mode=display\">\\newcommand{\\Bold}[1]{\\mathbf{#1}}\\left(\\verb|[0,|\\phantom{\\verb!x!}\\verb|1,|\\phantom{\\verb!x!}\\verb|1,|\\phantom{\\verb!x!}\\verb|0,|\\phantom{\\verb!x!}\\verb|1,|\\phantom{\\verb!x!}\\verb|1,|\\phantom{\\verb!x!}\\verb|0]|, \\left\\{\\verb|mon| : \\left(\\begin{array}{rr}\n",
       "2 \\, l & -2 \\, l^{2} + 1 \\\\\n",
       "2 \\, l^{2} - 1 & -2 \\, l^{3} + 2 \\, l\n",
       "\\end{array}\\right), \\verb|sol| : \\left[-\\frac{1}{2} \\, \\sqrt{2}, \\frac{1}{2} \\, \\sqrt{2}\\right], \\verb|trace| : \\left[-\\frac{3}{2} \\, \\sqrt{2}, \\frac{3}{2} \\, \\sqrt{2}\\right]\\right\\}\\right)</script></html>"
      ],
      "text/latex": [
       "\\begin{math}\n",
       "\\newcommand{\\Bold}[1]{\\mathbf{#1}}\\left(\\verb|[0,|\\phantom{\\verb!x!}\\verb|1,|\\phantom{\\verb!x!}\\verb|1,|\\phantom{\\verb!x!}\\verb|0,|\\phantom{\\verb!x!}\\verb|1,|\\phantom{\\verb!x!}\\verb|1,|\\phantom{\\verb!x!}\\verb|0]|, \\left\\{\\verb|mon| : \\left(\\begin{array}{rr}\n",
       "2 \\, l & -2 \\, l^{2} + 1 \\\\\n",
       "2 \\, l^{2} - 1 & -2 \\, l^{3} + 2 \\, l\n",
       "\\end{array}\\right), \\verb|sol| : \\left[-\\frac{1}{2} \\, \\sqrt{2}, \\frac{1}{2} \\, \\sqrt{2}\\right], \\verb|trace| : \\left[-\\frac{3}{2} \\, \\sqrt{2}, \\frac{3}{2} \\, \\sqrt{2}\\right]\\right\\}\\right)\n",
       "\\end{math}"
      ],
      "text/plain": [
       "('[0, 1, 1, 0, 1, 1, 0]',\n",
       " {'mon': [         2*l   -2*l^2 + 1]\n",
       "  [   2*l^2 - 1 -2*l^3 + 2*l],\n",
       "  'sol': [-1/2*sqrt(2), 1/2*sqrt(2)],\n",
       "  'trace': [-3/2*sqrt(2), 3/2*sqrt(2)]})"
      ]
     },
     "metadata": {},
     "output_type": "display_data"
    },
    {
     "data": {
      "text/html": [
       "<html><script type=\"math/tex; mode=display\">\\newcommand{\\Bold}[1]{\\mathbf{#1}}\\left(\\verb|[1,|\\phantom{\\verb!x!}\\verb|1,|\\phantom{\\verb!x!}\\verb|1,|\\phantom{\\verb!x!}\\verb|0,|\\phantom{\\verb!x!}\\verb|1,|\\phantom{\\verb!x!}\\verb|1,|\\phantom{\\verb!x!}\\verb|0]|, \\left\\{\\verb|mon| : \\left(\\begin{array}{rr}\n",
       "-2 \\, l^{3} + 3 \\, l & -2 \\, l^{2} + 1 \\\\\n",
       "-2 \\, l^{4} + 4 \\, l^{2} - 1 & -2 \\, l^{3} + 2 \\, l\n",
       "\\end{array}\\right), \\verb|sol| : \\left[-\\sqrt{\\frac{1}{2} \\, \\sqrt{2} + 1}, -\\sqrt{-\\frac{1}{2} \\, \\sqrt{2} + 1}, \\sqrt{-\\frac{1}{2} \\, \\sqrt{2} + 1}, \\sqrt{\\frac{1}{2} \\, \\sqrt{2} + 1}\\right], \\verb|trace| : \\left[4 \\, {\\left(\\frac{1}{2} \\, \\sqrt{2} + 1\\right)}^{\\frac{3}{2}} - 5 \\, \\sqrt{\\frac{1}{2} \\, \\sqrt{2} + 1}, 4 \\, {\\left(-\\frac{1}{2} \\, \\sqrt{2} + 1\\right)}^{\\frac{3}{2}} - 5 \\, \\sqrt{-\\frac{1}{2} \\, \\sqrt{2} + 1}, -4 \\, {\\left(-\\frac{1}{2} \\, \\sqrt{2} + 1\\right)}^{\\frac{3}{2}} + 5 \\, \\sqrt{-\\frac{1}{2} \\, \\sqrt{2} + 1}, -4 \\, {\\left(\\frac{1}{2} \\, \\sqrt{2} + 1\\right)}^{\\frac{3}{2}} + 5 \\, \\sqrt{\\frac{1}{2} \\, \\sqrt{2} + 1}\\right]\\right\\}\\right)</script></html>"
      ],
      "text/latex": [
       "\\begin{math}\n",
       "\\newcommand{\\Bold}[1]{\\mathbf{#1}}\\left(\\verb|[1,|\\phantom{\\verb!x!}\\verb|1,|\\phantom{\\verb!x!}\\verb|1,|\\phantom{\\verb!x!}\\verb|0,|\\phantom{\\verb!x!}\\verb|1,|\\phantom{\\verb!x!}\\verb|1,|\\phantom{\\verb!x!}\\verb|0]|, \\left\\{\\verb|mon| : \\left(\\begin{array}{rr}\n",
       "-2 \\, l^{3} + 3 \\, l & -2 \\, l^{2} + 1 \\\\\n",
       "-2 \\, l^{4} + 4 \\, l^{2} - 1 & -2 \\, l^{3} + 2 \\, l\n",
       "\\end{array}\\right), \\verb|sol| : \\left[-\\sqrt{\\frac{1}{2} \\, \\sqrt{2} + 1}, -\\sqrt{-\\frac{1}{2} \\, \\sqrt{2} + 1}, \\sqrt{-\\frac{1}{2} \\, \\sqrt{2} + 1}, \\sqrt{\\frac{1}{2} \\, \\sqrt{2} + 1}\\right], \\verb|trace| : \\left[4 \\, {\\left(\\frac{1}{2} \\, \\sqrt{2} + 1\\right)}^{\\frac{3}{2}} - 5 \\, \\sqrt{\\frac{1}{2} \\, \\sqrt{2} + 1}, 4 \\, {\\left(-\\frac{1}{2} \\, \\sqrt{2} + 1\\right)}^{\\frac{3}{2}} - 5 \\, \\sqrt{-\\frac{1}{2} \\, \\sqrt{2} + 1}, -4 \\, {\\left(-\\frac{1}{2} \\, \\sqrt{2} + 1\\right)}^{\\frac{3}{2}} + 5 \\, \\sqrt{-\\frac{1}{2} \\, \\sqrt{2} + 1}, -4 \\, {\\left(\\frac{1}{2} \\, \\sqrt{2} + 1\\right)}^{\\frac{3}{2}} + 5 \\, \\sqrt{\\frac{1}{2} \\, \\sqrt{2} + 1}\\right]\\right\\}\\right)\n",
       "\\end{math}"
      ],
      "text/plain": [
       "('[1, 1, 1, 0, 1, 1, 0]',\n",
       " {'mon': [      -2*l^3 + 3*l         -2*l^2 + 1]\n",
       "  [-2*l^4 + 4*l^2 - 1       -2*l^3 + 2*l],\n",
       "  'sol': [-sqrt(1/2*sqrt(2) + 1),\n",
       "   -sqrt(-1/2*sqrt(2) + 1),\n",
       "   sqrt(-1/2*sqrt(2) + 1),\n",
       "   sqrt(1/2*sqrt(2) + 1)],\n",
       "  'trace': [4*(1/2*sqrt(2) + 1)^(3/2) - 5*sqrt(1/2*sqrt(2) + 1),\n",
       "   4*(-1/2*sqrt(2) + 1)^(3/2) - 5*sqrt(-1/2*sqrt(2) + 1),\n",
       "   -4*(-1/2*sqrt(2) + 1)^(3/2) + 5*sqrt(-1/2*sqrt(2) + 1),\n",
       "   -4*(1/2*sqrt(2) + 1)^(3/2) + 5*sqrt(1/2*sqrt(2) + 1)]})"
      ]
     },
     "metadata": {},
     "output_type": "display_data"
    },
    {
     "data": {
      "text/html": [
       "<html><script type=\"math/tex; mode=display\">\\newcommand{\\Bold}[1]{\\mathbf{#1}}\\left(\\verb|[0,|\\phantom{\\verb!x!}\\verb|0,|\\phantom{\\verb!x!}\\verb|0,|\\phantom{\\verb!x!}\\verb|1,|\\phantom{\\verb!x!}\\verb|1,|\\phantom{\\verb!x!}\\verb|1,|\\phantom{\\verb!x!}\\verb|0]|, \\left\\{\\verb|mon| : \\left(\\begin{array}{rr}\n",
       "l & -l^{2} + 1 \\\\\n",
       "l^{2} - 1 & -l^{3} + 2 \\, l\n",
       "\\end{array}\\right), \\verb|sol| : \\left[-1, 1\\right], \\verb|trace| : \\left[-2, 2\\right]\\right\\}\\right)</script></html>"
      ],
      "text/latex": [
       "\\begin{math}\n",
       "\\newcommand{\\Bold}[1]{\\mathbf{#1}}\\left(\\verb|[0,|\\phantom{\\verb!x!}\\verb|0,|\\phantom{\\verb!x!}\\verb|0,|\\phantom{\\verb!x!}\\verb|1,|\\phantom{\\verb!x!}\\verb|1,|\\phantom{\\verb!x!}\\verb|1,|\\phantom{\\verb!x!}\\verb|0]|, \\left\\{\\verb|mon| : \\left(\\begin{array}{rr}\n",
       "l & -l^{2} + 1 \\\\\n",
       "l^{2} - 1 & -l^{3} + 2 \\, l\n",
       "\\end{array}\\right), \\verb|sol| : \\left[-1, 1\\right], \\verb|trace| : \\left[-2, 2\\right]\\right\\}\\right)\n",
       "\\end{math}"
      ],
      "text/plain": [
       "('[0, 0, 0, 1, 1, 1, 0]',\n",
       " {'mon': [         l   -l^2 + 1]\n",
       "  [   l^2 - 1 -l^3 + 2*l], 'sol': [-1, 1], 'trace': [-2, 2]})"
      ]
     },
     "metadata": {},
     "output_type": "display_data"
    },
    {
     "data": {
      "text/html": [
       "<html><script type=\"math/tex; mode=display\">\\newcommand{\\Bold}[1]{\\mathbf{#1}}\\left(\\verb|[1,|\\phantom{\\verb!x!}\\verb|0,|\\phantom{\\verb!x!}\\verb|0,|\\phantom{\\verb!x!}\\verb|1,|\\phantom{\\verb!x!}\\verb|1,|\\phantom{\\verb!x!}\\verb|1,|\\phantom{\\verb!x!}\\verb|0]|, \\left\\{\\verb|mon| : \\left(\\begin{array}{rr}\n",
       "-l^{3} + 2 \\, l & -l^{2} + 1 \\\\\n",
       "-l^{4} + 3 \\, l^{2} - 1 & -l^{3} + 2 \\, l\n",
       "\\end{array}\\right), \\verb|sol| : \\left[-\\sqrt{\\frac{1}{2} \\, \\sqrt{5} + \\frac{3}{2}}, -\\sqrt{-\\frac{1}{2} \\, \\sqrt{5} + \\frac{3}{2}}, \\sqrt{-\\frac{1}{2} \\, \\sqrt{5} + \\frac{3}{2}}, \\sqrt{\\frac{1}{2} \\, \\sqrt{5} + \\frac{3}{2}}\\right], \\verb|trace| : \\left[2 \\, {\\left(\\frac{1}{2} \\, \\sqrt{5} + \\frac{3}{2}\\right)}^{\\frac{3}{2}} - 4 \\, \\sqrt{\\frac{1}{2} \\, \\sqrt{5} + \\frac{3}{2}}, 2 \\, {\\left(-\\frac{1}{2} \\, \\sqrt{5} + \\frac{3}{2}\\right)}^{\\frac{3}{2}} - 4 \\, \\sqrt{-\\frac{1}{2} \\, \\sqrt{5} + \\frac{3}{2}}, -2 \\, {\\left(-\\frac{1}{2} \\, \\sqrt{5} + \\frac{3}{2}\\right)}^{\\frac{3}{2}} + 4 \\, \\sqrt{-\\frac{1}{2} \\, \\sqrt{5} + \\frac{3}{2}}, -2 \\, {\\left(\\frac{1}{2} \\, \\sqrt{5} + \\frac{3}{2}\\right)}^{\\frac{3}{2}} + 4 \\, \\sqrt{\\frac{1}{2} \\, \\sqrt{5} + \\frac{3}{2}}\\right]\\right\\}\\right)</script></html>"
      ],
      "text/latex": [
       "\\begin{math}\n",
       "\\newcommand{\\Bold}[1]{\\mathbf{#1}}\\left(\\verb|[1,|\\phantom{\\verb!x!}\\verb|0,|\\phantom{\\verb!x!}\\verb|0,|\\phantom{\\verb!x!}\\verb|1,|\\phantom{\\verb!x!}\\verb|1,|\\phantom{\\verb!x!}\\verb|1,|\\phantom{\\verb!x!}\\verb|0]|, \\left\\{\\verb|mon| : \\left(\\begin{array}{rr}\n",
       "-l^{3} + 2 \\, l & -l^{2} + 1 \\\\\n",
       "-l^{4} + 3 \\, l^{2} - 1 & -l^{3} + 2 \\, l\n",
       "\\end{array}\\right), \\verb|sol| : \\left[-\\sqrt{\\frac{1}{2} \\, \\sqrt{5} + \\frac{3}{2}}, -\\sqrt{-\\frac{1}{2} \\, \\sqrt{5} + \\frac{3}{2}}, \\sqrt{-\\frac{1}{2} \\, \\sqrt{5} + \\frac{3}{2}}, \\sqrt{\\frac{1}{2} \\, \\sqrt{5} + \\frac{3}{2}}\\right], \\verb|trace| : \\left[2 \\, {\\left(\\frac{1}{2} \\, \\sqrt{5} + \\frac{3}{2}\\right)}^{\\frac{3}{2}} - 4 \\, \\sqrt{\\frac{1}{2} \\, \\sqrt{5} + \\frac{3}{2}}, 2 \\, {\\left(-\\frac{1}{2} \\, \\sqrt{5} + \\frac{3}{2}\\right)}^{\\frac{3}{2}} - 4 \\, \\sqrt{-\\frac{1}{2} \\, \\sqrt{5} + \\frac{3}{2}}, -2 \\, {\\left(-\\frac{1}{2} \\, \\sqrt{5} + \\frac{3}{2}\\right)}^{\\frac{3}{2}} + 4 \\, \\sqrt{-\\frac{1}{2} \\, \\sqrt{5} + \\frac{3}{2}}, -2 \\, {\\left(\\frac{1}{2} \\, \\sqrt{5} + \\frac{3}{2}\\right)}^{\\frac{3}{2}} + 4 \\, \\sqrt{\\frac{1}{2} \\, \\sqrt{5} + \\frac{3}{2}}\\right]\\right\\}\\right)\n",
       "\\end{math}"
      ],
      "text/plain": [
       "('[1, 0, 0, 1, 1, 1, 0]',\n",
       " {'mon': [      -l^3 + 2*l         -l^2 + 1]\n",
       "  [-l^4 + 3*l^2 - 1       -l^3 + 2*l],\n",
       "  'sol': [-sqrt(1/2*sqrt(5) + 3/2),\n",
       "   -sqrt(-1/2*sqrt(5) + 3/2),\n",
       "   sqrt(-1/2*sqrt(5) + 3/2),\n",
       "   sqrt(1/2*sqrt(5) + 3/2)],\n",
       "  'trace': [2*(1/2*sqrt(5) + 3/2)^(3/2) - 4*sqrt(1/2*sqrt(5) + 3/2),\n",
       "   2*(-1/2*sqrt(5) + 3/2)^(3/2) - 4*sqrt(-1/2*sqrt(5) + 3/2),\n",
       "   -2*(-1/2*sqrt(5) + 3/2)^(3/2) + 4*sqrt(-1/2*sqrt(5) + 3/2),\n",
       "   -2*(1/2*sqrt(5) + 3/2)^(3/2) + 4*sqrt(1/2*sqrt(5) + 3/2)]})"
      ]
     },
     "metadata": {},
     "output_type": "display_data"
    },
    {
     "data": {
      "text/html": [
       "<html><script type=\"math/tex; mode=display\">\\newcommand{\\Bold}[1]{\\mathbf{#1}}\\left(\\verb|[0,|\\phantom{\\verb!x!}\\verb|1,|\\phantom{\\verb!x!}\\verb|0,|\\phantom{\\verb!x!}\\verb|1,|\\phantom{\\verb!x!}\\verb|1,|\\phantom{\\verb!x!}\\verb|1,|\\phantom{\\verb!x!}\\verb|0]|, \\left\\{\\verb|mon| : \\left(\\begin{array}{rr}\n",
       "l & -2 \\, l^{2} + 1 \\\\\n",
       "l^{2} - 1 & -2 \\, l^{3} + 3 \\, l\n",
       "\\end{array}\\right), \\verb|sol| : \\left[-1, 1\\right], \\verb|trace| : \\left[-2, 2\\right]\\right\\}\\right)</script></html>"
      ],
      "text/latex": [
       "\\begin{math}\n",
       "\\newcommand{\\Bold}[1]{\\mathbf{#1}}\\left(\\verb|[0,|\\phantom{\\verb!x!}\\verb|1,|\\phantom{\\verb!x!}\\verb|0,|\\phantom{\\verb!x!}\\verb|1,|\\phantom{\\verb!x!}\\verb|1,|\\phantom{\\verb!x!}\\verb|1,|\\phantom{\\verb!x!}\\verb|0]|, \\left\\{\\verb|mon| : \\left(\\begin{array}{rr}\n",
       "l & -2 \\, l^{2} + 1 \\\\\n",
       "l^{2} - 1 & -2 \\, l^{3} + 3 \\, l\n",
       "\\end{array}\\right), \\verb|sol| : \\left[-1, 1\\right], \\verb|trace| : \\left[-2, 2\\right]\\right\\}\\right)\n",
       "\\end{math}"
      ],
      "text/plain": [
       "('[0, 1, 0, 1, 1, 1, 0]',\n",
       " {'mon': [           l   -2*l^2 + 1]\n",
       "  [     l^2 - 1 -2*l^3 + 3*l], 'sol': [-1, 1], 'trace': [-2, 2]})"
      ]
     },
     "metadata": {},
     "output_type": "display_data"
    },
    {
     "data": {
      "text/html": [
       "<html><script type=\"math/tex; mode=display\">\\newcommand{\\Bold}[1]{\\mathbf{#1}}\\left(\\verb|[1,|\\phantom{\\verb!x!}\\verb|1,|\\phantom{\\verb!x!}\\verb|0,|\\phantom{\\verb!x!}\\verb|1,|\\phantom{\\verb!x!}\\verb|1,|\\phantom{\\verb!x!}\\verb|1,|\\phantom{\\verb!x!}\\verb|0]|, \\left\\{\\verb|mon| : \\left(\\begin{array}{rr}\n",
       "-2 \\, l^{3} + 2 \\, l & -2 \\, l^{2} + 1 \\\\\n",
       "-2 \\, l^{4} + 4 \\, l^{2} - 1 & -2 \\, l^{3} + 3 \\, l\n",
       "\\end{array}\\right), \\verb|sol| : \\left[-\\sqrt{\\frac{1}{2} \\, \\sqrt{2} + 1}, -\\sqrt{-\\frac{1}{2} \\, \\sqrt{2} + 1}, \\sqrt{-\\frac{1}{2} \\, \\sqrt{2} + 1}, \\sqrt{\\frac{1}{2} \\, \\sqrt{2} + 1}\\right], \\verb|trace| : \\left[4 \\, {\\left(\\frac{1}{2} \\, \\sqrt{2} + 1\\right)}^{\\frac{3}{2}} - 5 \\, \\sqrt{\\frac{1}{2} \\, \\sqrt{2} + 1}, 4 \\, {\\left(-\\frac{1}{2} \\, \\sqrt{2} + 1\\right)}^{\\frac{3}{2}} - 5 \\, \\sqrt{-\\frac{1}{2} \\, \\sqrt{2} + 1}, -4 \\, {\\left(-\\frac{1}{2} \\, \\sqrt{2} + 1\\right)}^{\\frac{3}{2}} + 5 \\, \\sqrt{-\\frac{1}{2} \\, \\sqrt{2} + 1}, -4 \\, {\\left(\\frac{1}{2} \\, \\sqrt{2} + 1\\right)}^{\\frac{3}{2}} + 5 \\, \\sqrt{\\frac{1}{2} \\, \\sqrt{2} + 1}\\right]\\right\\}\\right)</script></html>"
      ],
      "text/latex": [
       "\\begin{math}\n",
       "\\newcommand{\\Bold}[1]{\\mathbf{#1}}\\left(\\verb|[1,|\\phantom{\\verb!x!}\\verb|1,|\\phantom{\\verb!x!}\\verb|0,|\\phantom{\\verb!x!}\\verb|1,|\\phantom{\\verb!x!}\\verb|1,|\\phantom{\\verb!x!}\\verb|1,|\\phantom{\\verb!x!}\\verb|0]|, \\left\\{\\verb|mon| : \\left(\\begin{array}{rr}\n",
       "-2 \\, l^{3} + 2 \\, l & -2 \\, l^{2} + 1 \\\\\n",
       "-2 \\, l^{4} + 4 \\, l^{2} - 1 & -2 \\, l^{3} + 3 \\, l\n",
       "\\end{array}\\right), \\verb|sol| : \\left[-\\sqrt{\\frac{1}{2} \\, \\sqrt{2} + 1}, -\\sqrt{-\\frac{1}{2} \\, \\sqrt{2} + 1}, \\sqrt{-\\frac{1}{2} \\, \\sqrt{2} + 1}, \\sqrt{\\frac{1}{2} \\, \\sqrt{2} + 1}\\right], \\verb|trace| : \\left[4 \\, {\\left(\\frac{1}{2} \\, \\sqrt{2} + 1\\right)}^{\\frac{3}{2}} - 5 \\, \\sqrt{\\frac{1}{2} \\, \\sqrt{2} + 1}, 4 \\, {\\left(-\\frac{1}{2} \\, \\sqrt{2} + 1\\right)}^{\\frac{3}{2}} - 5 \\, \\sqrt{-\\frac{1}{2} \\, \\sqrt{2} + 1}, -4 \\, {\\left(-\\frac{1}{2} \\, \\sqrt{2} + 1\\right)}^{\\frac{3}{2}} + 5 \\, \\sqrt{-\\frac{1}{2} \\, \\sqrt{2} + 1}, -4 \\, {\\left(\\frac{1}{2} \\, \\sqrt{2} + 1\\right)}^{\\frac{3}{2}} + 5 \\, \\sqrt{\\frac{1}{2} \\, \\sqrt{2} + 1}\\right]\\right\\}\\right)\n",
       "\\end{math}"
      ],
      "text/plain": [
       "('[1, 1, 0, 1, 1, 1, 0]',\n",
       " {'mon': [      -2*l^3 + 2*l         -2*l^2 + 1]\n",
       "  [-2*l^4 + 4*l^2 - 1       -2*l^3 + 3*l],\n",
       "  'sol': [-sqrt(1/2*sqrt(2) + 1),\n",
       "   -sqrt(-1/2*sqrt(2) + 1),\n",
       "   sqrt(-1/2*sqrt(2) + 1),\n",
       "   sqrt(1/2*sqrt(2) + 1)],\n",
       "  'trace': [4*(1/2*sqrt(2) + 1)^(3/2) - 5*sqrt(1/2*sqrt(2) + 1),\n",
       "   4*(-1/2*sqrt(2) + 1)^(3/2) - 5*sqrt(-1/2*sqrt(2) + 1),\n",
       "   -4*(-1/2*sqrt(2) + 1)^(3/2) + 5*sqrt(-1/2*sqrt(2) + 1),\n",
       "   -4*(1/2*sqrt(2) + 1)^(3/2) + 5*sqrt(1/2*sqrt(2) + 1)]})"
      ]
     },
     "metadata": {},
     "output_type": "display_data"
    },
    {
     "data": {
      "text/html": [
       "<html><script type=\"math/tex; mode=display\">\\newcommand{\\Bold}[1]{\\mathbf{#1}}\\left(\\verb|[0,|\\phantom{\\verb!x!}\\verb|0,|\\phantom{\\verb!x!}\\verb|1,|\\phantom{\\verb!x!}\\verb|1,|\\phantom{\\verb!x!}\\verb|1,|\\phantom{\\verb!x!}\\verb|1,|\\phantom{\\verb!x!}\\verb|0]|, \\left\\{\\verb|mon| : \\left(\\begin{array}{rr}\n",
       "-l^{3} + 2 \\, l & -l^{2} + 1 \\\\\n",
       "-l^{4} + 3 \\, l^{2} - 1 & -l^{3} + 2 \\, l\n",
       "\\end{array}\\right), \\verb|sol| : \\left[-\\sqrt{\\frac{1}{2} \\, \\sqrt{5} + \\frac{3}{2}}, -\\sqrt{-\\frac{1}{2} \\, \\sqrt{5} + \\frac{3}{2}}, \\sqrt{-\\frac{1}{2} \\, \\sqrt{5} + \\frac{3}{2}}, \\sqrt{\\frac{1}{2} \\, \\sqrt{5} + \\frac{3}{2}}\\right], \\verb|trace| : \\left[2 \\, {\\left(\\frac{1}{2} \\, \\sqrt{5} + \\frac{3}{2}\\right)}^{\\frac{3}{2}} - 4 \\, \\sqrt{\\frac{1}{2} \\, \\sqrt{5} + \\frac{3}{2}}, 2 \\, {\\left(-\\frac{1}{2} \\, \\sqrt{5} + \\frac{3}{2}\\right)}^{\\frac{3}{2}} - 4 \\, \\sqrt{-\\frac{1}{2} \\, \\sqrt{5} + \\frac{3}{2}}, -2 \\, {\\left(-\\frac{1}{2} \\, \\sqrt{5} + \\frac{3}{2}\\right)}^{\\frac{3}{2}} + 4 \\, \\sqrt{-\\frac{1}{2} \\, \\sqrt{5} + \\frac{3}{2}}, -2 \\, {\\left(\\frac{1}{2} \\, \\sqrt{5} + \\frac{3}{2}\\right)}^{\\frac{3}{2}} + 4 \\, \\sqrt{\\frac{1}{2} \\, \\sqrt{5} + \\frac{3}{2}}\\right]\\right\\}\\right)</script></html>"
      ],
      "text/latex": [
       "\\begin{math}\n",
       "\\newcommand{\\Bold}[1]{\\mathbf{#1}}\\left(\\verb|[0,|\\phantom{\\verb!x!}\\verb|0,|\\phantom{\\verb!x!}\\verb|1,|\\phantom{\\verb!x!}\\verb|1,|\\phantom{\\verb!x!}\\verb|1,|\\phantom{\\verb!x!}\\verb|1,|\\phantom{\\verb!x!}\\verb|0]|, \\left\\{\\verb|mon| : \\left(\\begin{array}{rr}\n",
       "-l^{3} + 2 \\, l & -l^{2} + 1 \\\\\n",
       "-l^{4} + 3 \\, l^{2} - 1 & -l^{3} + 2 \\, l\n",
       "\\end{array}\\right), \\verb|sol| : \\left[-\\sqrt{\\frac{1}{2} \\, \\sqrt{5} + \\frac{3}{2}}, -\\sqrt{-\\frac{1}{2} \\, \\sqrt{5} + \\frac{3}{2}}, \\sqrt{-\\frac{1}{2} \\, \\sqrt{5} + \\frac{3}{2}}, \\sqrt{\\frac{1}{2} \\, \\sqrt{5} + \\frac{3}{2}}\\right], \\verb|trace| : \\left[2 \\, {\\left(\\frac{1}{2} \\, \\sqrt{5} + \\frac{3}{2}\\right)}^{\\frac{3}{2}} - 4 \\, \\sqrt{\\frac{1}{2} \\, \\sqrt{5} + \\frac{3}{2}}, 2 \\, {\\left(-\\frac{1}{2} \\, \\sqrt{5} + \\frac{3}{2}\\right)}^{\\frac{3}{2}} - 4 \\, \\sqrt{-\\frac{1}{2} \\, \\sqrt{5} + \\frac{3}{2}}, -2 \\, {\\left(-\\frac{1}{2} \\, \\sqrt{5} + \\frac{3}{2}\\right)}^{\\frac{3}{2}} + 4 \\, \\sqrt{-\\frac{1}{2} \\, \\sqrt{5} + \\frac{3}{2}}, -2 \\, {\\left(\\frac{1}{2} \\, \\sqrt{5} + \\frac{3}{2}\\right)}^{\\frac{3}{2}} + 4 \\, \\sqrt{\\frac{1}{2} \\, \\sqrt{5} + \\frac{3}{2}}\\right]\\right\\}\\right)\n",
       "\\end{math}"
      ],
      "text/plain": [
       "('[0, 0, 1, 1, 1, 1, 0]',\n",
       " {'mon': [      -l^3 + 2*l         -l^2 + 1]\n",
       "  [-l^4 + 3*l^2 - 1       -l^3 + 2*l],\n",
       "  'sol': [-sqrt(1/2*sqrt(5) + 3/2),\n",
       "   -sqrt(-1/2*sqrt(5) + 3/2),\n",
       "   sqrt(-1/2*sqrt(5) + 3/2),\n",
       "   sqrt(1/2*sqrt(5) + 3/2)],\n",
       "  'trace': [2*(1/2*sqrt(5) + 3/2)^(3/2) - 4*sqrt(1/2*sqrt(5) + 3/2),\n",
       "   2*(-1/2*sqrt(5) + 3/2)^(3/2) - 4*sqrt(-1/2*sqrt(5) + 3/2),\n",
       "   -2*(-1/2*sqrt(5) + 3/2)^(3/2) + 4*sqrt(-1/2*sqrt(5) + 3/2),\n",
       "   -2*(1/2*sqrt(5) + 3/2)^(3/2) + 4*sqrt(1/2*sqrt(5) + 3/2)]})"
      ]
     },
     "metadata": {},
     "output_type": "display_data"
    },
    {
     "data": {
      "text/html": [
       "<html><script type=\"math/tex; mode=display\">\\newcommand{\\Bold}[1]{\\mathbf{#1}}\\left(\\verb|[1,|\\phantom{\\verb!x!}\\verb|0,|\\phantom{\\verb!x!}\\verb|1,|\\phantom{\\verb!x!}\\verb|1,|\\phantom{\\verb!x!}\\verb|1,|\\phantom{\\verb!x!}\\verb|1,|\\phantom{\\verb!x!}\\verb|0]|, \\left\\{\\verb|mon| : \\left(\\begin{array}{rr}\n",
       "-2 \\, l^{3} + 3 \\, l & -l^{2} + 1 \\\\\n",
       "-2 \\, l^{4} + 5 \\, l^{2} - 1 & -l^{3} + 2 \\, l\n",
       "\\end{array}\\right), \\verb|sol| : \\left[-\\frac{1}{2} \\, \\sqrt{\\sqrt{17} + 5}, -\\frac{1}{2} \\, \\sqrt{-\\sqrt{17} + 5}, \\frac{1}{2} \\, \\sqrt{-\\sqrt{17} + 5}, \\frac{1}{2} \\, \\sqrt{\\sqrt{17} + 5}\\right], \\verb|trace| : \\left[\\frac{3}{8} \\, {\\left(\\sqrt{17} + 5\\right)}^{\\frac{3}{2}} - \\frac{5}{2} \\, \\sqrt{\\sqrt{17} + 5}, \\frac{3}{8} \\, {\\left(-\\sqrt{17} + 5\\right)}^{\\frac{3}{2}} - \\frac{5}{2} \\, \\sqrt{-\\sqrt{17} + 5}, -\\frac{3}{8} \\, {\\left(-\\sqrt{17} + 5\\right)}^{\\frac{3}{2}} + \\frac{5}{2} \\, \\sqrt{-\\sqrt{17} + 5}, -\\frac{3}{8} \\, {\\left(\\sqrt{17} + 5\\right)}^{\\frac{3}{2}} + \\frac{5}{2} \\, \\sqrt{\\sqrt{17} + 5}\\right]\\right\\}\\right)</script></html>"
      ],
      "text/latex": [
       "\\begin{math}\n",
       "\\newcommand{\\Bold}[1]{\\mathbf{#1}}\\left(\\verb|[1,|\\phantom{\\verb!x!}\\verb|0,|\\phantom{\\verb!x!}\\verb|1,|\\phantom{\\verb!x!}\\verb|1,|\\phantom{\\verb!x!}\\verb|1,|\\phantom{\\verb!x!}\\verb|1,|\\phantom{\\verb!x!}\\verb|0]|, \\left\\{\\verb|mon| : \\left(\\begin{array}{rr}\n",
       "-2 \\, l^{3} + 3 \\, l & -l^{2} + 1 \\\\\n",
       "-2 \\, l^{4} + 5 \\, l^{2} - 1 & -l^{3} + 2 \\, l\n",
       "\\end{array}\\right), \\verb|sol| : \\left[-\\frac{1}{2} \\, \\sqrt{\\sqrt{17} + 5}, -\\frac{1}{2} \\, \\sqrt{-\\sqrt{17} + 5}, \\frac{1}{2} \\, \\sqrt{-\\sqrt{17} + 5}, \\frac{1}{2} \\, \\sqrt{\\sqrt{17} + 5}\\right], \\verb|trace| : \\left[\\frac{3}{8} \\, {\\left(\\sqrt{17} + 5\\right)}^{\\frac{3}{2}} - \\frac{5}{2} \\, \\sqrt{\\sqrt{17} + 5}, \\frac{3}{8} \\, {\\left(-\\sqrt{17} + 5\\right)}^{\\frac{3}{2}} - \\frac{5}{2} \\, \\sqrt{-\\sqrt{17} + 5}, -\\frac{3}{8} \\, {\\left(-\\sqrt{17} + 5\\right)}^{\\frac{3}{2}} + \\frac{5}{2} \\, \\sqrt{-\\sqrt{17} + 5}, -\\frac{3}{8} \\, {\\left(\\sqrt{17} + 5\\right)}^{\\frac{3}{2}} + \\frac{5}{2} \\, \\sqrt{\\sqrt{17} + 5}\\right]\\right\\}\\right)\n",
       "\\end{math}"
      ],
      "text/plain": [
       "('[1, 0, 1, 1, 1, 1, 0]',\n",
       " {'mon': [      -2*l^3 + 3*l           -l^2 + 1]\n",
       "  [-2*l^4 + 5*l^2 - 1         -l^3 + 2*l],\n",
       "  'sol': [-1/2*sqrt(sqrt(17) + 5),\n",
       "   -1/2*sqrt(-sqrt(17) + 5),\n",
       "   1/2*sqrt(-sqrt(17) + 5),\n",
       "   1/2*sqrt(sqrt(17) + 5)],\n",
       "  'trace': [3/8*(sqrt(17) + 5)^(3/2) - 5/2*sqrt(sqrt(17) + 5),\n",
       "   3/8*(-sqrt(17) + 5)^(3/2) - 5/2*sqrt(-sqrt(17) + 5),\n",
       "   -3/8*(-sqrt(17) + 5)^(3/2) + 5/2*sqrt(-sqrt(17) + 5),\n",
       "   -3/8*(sqrt(17) + 5)^(3/2) + 5/2*sqrt(sqrt(17) + 5)]})"
      ]
     },
     "metadata": {},
     "output_type": "display_data"
    },
    {
     "data": {
      "text/html": [
       "<html><script type=\"math/tex; mode=display\">\\newcommand{\\Bold}[1]{\\mathbf{#1}}\\left(\\verb|[0,|\\phantom{\\verb!x!}\\verb|1,|\\phantom{\\verb!x!}\\verb|1,|\\phantom{\\verb!x!}\\verb|1,|\\phantom{\\verb!x!}\\verb|1,|\\phantom{\\verb!x!}\\verb|1,|\\phantom{\\verb!x!}\\verb|0]|, \\left\\{\\verb|mon| : \\left(\\begin{array}{rr}\n",
       "-l^{3} + 2 \\, l & l^{4} - 3 \\, l^{2} + 1 \\\\\n",
       "-l^{4} + 3 \\, l^{2} - 1 & l^{5} - 4 \\, l^{3} + 3 \\, l\n",
       "\\end{array}\\right), \\verb|sol| : \\left[-\\sqrt{\\frac{1}{2} \\, \\sqrt{5} + \\frac{3}{2}}, -\\sqrt{-\\frac{1}{2} \\, \\sqrt{5} + \\frac{3}{2}}, \\sqrt{-\\frac{1}{2} \\, \\sqrt{5} + \\frac{3}{2}}, \\sqrt{\\frac{1}{2} \\, \\sqrt{5} + \\frac{3}{2}}\\right], \\verb|trace| : \\left[-{\\left(\\frac{1}{2} \\, \\sqrt{5} + \\frac{3}{2}\\right)}^{\\frac{5}{2}} + 5 \\, {\\left(\\frac{1}{2} \\, \\sqrt{5} + \\frac{3}{2}\\right)}^{\\frac{3}{2}} - 5 \\, \\sqrt{\\frac{1}{2} \\, \\sqrt{5} + \\frac{3}{2}}, -{\\left(-\\frac{1}{2} \\, \\sqrt{5} + \\frac{3}{2}\\right)}^{\\frac{5}{2}} + 5 \\, {\\left(-\\frac{1}{2} \\, \\sqrt{5} + \\frac{3}{2}\\right)}^{\\frac{3}{2}} - 5 \\, \\sqrt{-\\frac{1}{2} \\, \\sqrt{5} + \\frac{3}{2}}, {\\left(-\\frac{1}{2} \\, \\sqrt{5} + \\frac{3}{2}\\right)}^{\\frac{5}{2}} - 5 \\, {\\left(-\\frac{1}{2} \\, \\sqrt{5} + \\frac{3}{2}\\right)}^{\\frac{3}{2}} + 5 \\, \\sqrt{-\\frac{1}{2} \\, \\sqrt{5} + \\frac{3}{2}}, {\\left(\\frac{1}{2} \\, \\sqrt{5} + \\frac{3}{2}\\right)}^{\\frac{5}{2}} - 5 \\, {\\left(\\frac{1}{2} \\, \\sqrt{5} + \\frac{3}{2}\\right)}^{\\frac{3}{2}} + 5 \\, \\sqrt{\\frac{1}{2} \\, \\sqrt{5} + \\frac{3}{2}}\\right]\\right\\}\\right)</script></html>"
      ],
      "text/latex": [
       "\\begin{math}\n",
       "\\newcommand{\\Bold}[1]{\\mathbf{#1}}\\left(\\verb|[0,|\\phantom{\\verb!x!}\\verb|1,|\\phantom{\\verb!x!}\\verb|1,|\\phantom{\\verb!x!}\\verb|1,|\\phantom{\\verb!x!}\\verb|1,|\\phantom{\\verb!x!}\\verb|1,|\\phantom{\\verb!x!}\\verb|0]|, \\left\\{\\verb|mon| : \\left(\\begin{array}{rr}\n",
       "-l^{3} + 2 \\, l & l^{4} - 3 \\, l^{2} + 1 \\\\\n",
       "-l^{4} + 3 \\, l^{2} - 1 & l^{5} - 4 \\, l^{3} + 3 \\, l\n",
       "\\end{array}\\right), \\verb|sol| : \\left[-\\sqrt{\\frac{1}{2} \\, \\sqrt{5} + \\frac{3}{2}}, -\\sqrt{-\\frac{1}{2} \\, \\sqrt{5} + \\frac{3}{2}}, \\sqrt{-\\frac{1}{2} \\, \\sqrt{5} + \\frac{3}{2}}, \\sqrt{\\frac{1}{2} \\, \\sqrt{5} + \\frac{3}{2}}\\right], \\verb|trace| : \\left[-{\\left(\\frac{1}{2} \\, \\sqrt{5} + \\frac{3}{2}\\right)}^{\\frac{5}{2}} + 5 \\, {\\left(\\frac{1}{2} \\, \\sqrt{5} + \\frac{3}{2}\\right)}^{\\frac{3}{2}} - 5 \\, \\sqrt{\\frac{1}{2} \\, \\sqrt{5} + \\frac{3}{2}}, -{\\left(-\\frac{1}{2} \\, \\sqrt{5} + \\frac{3}{2}\\right)}^{\\frac{5}{2}} + 5 \\, {\\left(-\\frac{1}{2} \\, \\sqrt{5} + \\frac{3}{2}\\right)}^{\\frac{3}{2}} - 5 \\, \\sqrt{-\\frac{1}{2} \\, \\sqrt{5} + \\frac{3}{2}}, {\\left(-\\frac{1}{2} \\, \\sqrt{5} + \\frac{3}{2}\\right)}^{\\frac{5}{2}} - 5 \\, {\\left(-\\frac{1}{2} \\, \\sqrt{5} + \\frac{3}{2}\\right)}^{\\frac{3}{2}} + 5 \\, \\sqrt{-\\frac{1}{2} \\, \\sqrt{5} + \\frac{3}{2}}, {\\left(\\frac{1}{2} \\, \\sqrt{5} + \\frac{3}{2}\\right)}^{\\frac{5}{2}} - 5 \\, {\\left(\\frac{1}{2} \\, \\sqrt{5} + \\frac{3}{2}\\right)}^{\\frac{3}{2}} + 5 \\, \\sqrt{\\frac{1}{2} \\, \\sqrt{5} + \\frac{3}{2}}\\right]\\right\\}\\right)\n",
       "\\end{math}"
      ],
      "text/plain": [
       "('[0, 1, 1, 1, 1, 1, 0]',\n",
       " {'mon': [       -l^3 + 2*l   l^4 - 3*l^2 + 1]\n",
       "  [ -l^4 + 3*l^2 - 1 l^5 - 4*l^3 + 3*l],\n",
       "  'sol': [-sqrt(1/2*sqrt(5) + 3/2),\n",
       "   -sqrt(-1/2*sqrt(5) + 3/2),\n",
       "   sqrt(-1/2*sqrt(5) + 3/2),\n",
       "   sqrt(1/2*sqrt(5) + 3/2)],\n",
       "  'trace': [-(1/2*sqrt(5) + 3/2)^(5/2) + 5*(1/2*sqrt(5) + 3/2)^(3/2) - 5*sqrt(1/2*sqrt(5) + 3/2),\n",
       "   -(-1/2*sqrt(5) + 3/2)^(5/2) + 5*(-1/2*sqrt(5) + 3/2)^(3/2) - 5*sqrt(-1/2*sqrt(5) + 3/2),\n",
       "   (-1/2*sqrt(5) + 3/2)^(5/2) - 5*(-1/2*sqrt(5) + 3/2)^(3/2) + 5*sqrt(-1/2*sqrt(5) + 3/2),\n",
       "   (1/2*sqrt(5) + 3/2)^(5/2) - 5*(1/2*sqrt(5) + 3/2)^(3/2) + 5*sqrt(1/2*sqrt(5) + 3/2)]})"
      ]
     },
     "metadata": {},
     "output_type": "display_data"
    },
    {
     "data": {
      "text/html": [
       "<html><script type=\"math/tex; mode=display\">\\newcommand{\\Bold}[1]{\\mathbf{#1}}\\left(\\verb|[0,|\\phantom{\\verb!x!}\\verb|0,|\\phantom{\\verb!x!}\\verb|0,|\\phantom{\\verb!x!}\\verb|0,|\\phantom{\\verb!x!}\\verb|0,|\\phantom{\\verb!x!}\\verb|0,|\\phantom{\\verb!x!}\\verb|1]|, \\left\\{\\verb|mon| : \\left(\\begin{array}{rr}\n",
       "l & 1 \\\\\n",
       "-1 & 0\n",
       "\\end{array}\\right), \\verb|sol| : \\left[\\right], \\verb|trace| : \\left[\\right]\\right\\}\\right)</script></html>"
      ],
      "text/latex": [
       "\\begin{math}\n",
       "\\newcommand{\\Bold}[1]{\\mathbf{#1}}\\left(\\verb|[0,|\\phantom{\\verb!x!}\\verb|0,|\\phantom{\\verb!x!}\\verb|0,|\\phantom{\\verb!x!}\\verb|0,|\\phantom{\\verb!x!}\\verb|0,|\\phantom{\\verb!x!}\\verb|0,|\\phantom{\\verb!x!}\\verb|1]|, \\left\\{\\verb|mon| : \\left(\\begin{array}{rr}\n",
       "l & 1 \\\\\n",
       "-1 & 0\n",
       "\\end{array}\\right), \\verb|sol| : \\left[\\right], \\verb|trace| : \\left[\\right]\\right\\}\\right)\n",
       "\\end{math}"
      ],
      "text/plain": [
       "('[0, 0, 0, 0, 0, 0, 1]',\n",
       " {'mon': [ l  1]\n",
       "  [-1  0], 'sol': [], 'trace': []})"
      ]
     },
     "metadata": {},
     "output_type": "display_data"
    },
    {
     "data": {
      "text/html": [
       "<html><script type=\"math/tex; mode=display\">\\newcommand{\\Bold}[1]{\\mathbf{#1}}\\left(\\verb|[1,|\\phantom{\\verb!x!}\\verb|0,|\\phantom{\\verb!x!}\\verb|0,|\\phantom{\\verb!x!}\\verb|0,|\\phantom{\\verb!x!}\\verb|0,|\\phantom{\\verb!x!}\\verb|0,|\\phantom{\\verb!x!}\\verb|1]|, \\left\\{\\verb|mon| : \\left(\\begin{array}{rr}\n",
       "2 \\, l & 1 \\\\\n",
       "-1 & 0\n",
       "\\end{array}\\right), \\verb|sol| : \\left[\\right], \\verb|trace| : \\left[\\right]\\right\\}\\right)</script></html>"
      ],
      "text/latex": [
       "\\begin{math}\n",
       "\\newcommand{\\Bold}[1]{\\mathbf{#1}}\\left(\\verb|[1,|\\phantom{\\verb!x!}\\verb|0,|\\phantom{\\verb!x!}\\verb|0,|\\phantom{\\verb!x!}\\verb|0,|\\phantom{\\verb!x!}\\verb|0,|\\phantom{\\verb!x!}\\verb|0,|\\phantom{\\verb!x!}\\verb|1]|, \\left\\{\\verb|mon| : \\left(\\begin{array}{rr}\n",
       "2 \\, l & 1 \\\\\n",
       "-1 & 0\n",
       "\\end{array}\\right), \\verb|sol| : \\left[\\right], \\verb|trace| : \\left[\\right]\\right\\}\\right)\n",
       "\\end{math}"
      ],
      "text/plain": [
       "('[1, 0, 0, 0, 0, 0, 1]',\n",
       " {'mon': [2*l   1]\n",
       "  [ -1   0], 'sol': [], 'trace': []})"
      ]
     },
     "metadata": {},
     "output_type": "display_data"
    },
    {
     "data": {
      "text/html": [
       "<html><script type=\"math/tex; mode=display\">\\newcommand{\\Bold}[1]{\\mathbf{#1}}\\left(\\verb|[0,|\\phantom{\\verb!x!}\\verb|1,|\\phantom{\\verb!x!}\\verb|0,|\\phantom{\\verb!x!}\\verb|0,|\\phantom{\\verb!x!}\\verb|0,|\\phantom{\\verb!x!}\\verb|0,|\\phantom{\\verb!x!}\\verb|1]|, \\left\\{\\verb|mon| : \\left(\\begin{array}{rr}\n",
       "l & -l^{2} + 1 \\\\\n",
       "-1 & l\n",
       "\\end{array}\\right), \\verb|sol| : \\left[\\right], \\verb|trace| : \\left[\\right]\\right\\}\\right)</script></html>"
      ],
      "text/latex": [
       "\\begin{math}\n",
       "\\newcommand{\\Bold}[1]{\\mathbf{#1}}\\left(\\verb|[0,|\\phantom{\\verb!x!}\\verb|1,|\\phantom{\\verb!x!}\\verb|0,|\\phantom{\\verb!x!}\\verb|0,|\\phantom{\\verb!x!}\\verb|0,|\\phantom{\\verb!x!}\\verb|0,|\\phantom{\\verb!x!}\\verb|1]|, \\left\\{\\verb|mon| : \\left(\\begin{array}{rr}\n",
       "l & -l^{2} + 1 \\\\\n",
       "-1 & l\n",
       "\\end{array}\\right), \\verb|sol| : \\left[\\right], \\verb|trace| : \\left[\\right]\\right\\}\\right)\n",
       "\\end{math}"
      ],
      "text/plain": [
       "('[0, 1, 0, 0, 0, 0, 1]',\n",
       " {'mon': [       l -l^2 + 1]\n",
       "  [      -1        l], 'sol': [], 'trace': []})"
      ]
     },
     "metadata": {},
     "output_type": "display_data"
    },
    {
     "data": {
      "text/html": [
       "<html><script type=\"math/tex; mode=display\">\\newcommand{\\Bold}[1]{\\mathbf{#1}}\\left(\\verb|[1,|\\phantom{\\verb!x!}\\verb|1,|\\phantom{\\verb!x!}\\verb|0,|\\phantom{\\verb!x!}\\verb|0,|\\phantom{\\verb!x!}\\verb|0,|\\phantom{\\verb!x!}\\verb|0,|\\phantom{\\verb!x!}\\verb|1]|, \\left\\{\\verb|mon| : \\left(\\begin{array}{rr}\n",
       "-l^{3} + 2 \\, l & -l^{2} + 1 \\\\\n",
       "l^{2} - 1 & l\n",
       "\\end{array}\\right), \\verb|sol| : \\left[-1, 1\\right], \\verb|trace| : \\left[-2, 2\\right]\\right\\}\\right)</script></html>"
      ],
      "text/latex": [
       "\\begin{math}\n",
       "\\newcommand{\\Bold}[1]{\\mathbf{#1}}\\left(\\verb|[1,|\\phantom{\\verb!x!}\\verb|1,|\\phantom{\\verb!x!}\\verb|0,|\\phantom{\\verb!x!}\\verb|0,|\\phantom{\\verb!x!}\\verb|0,|\\phantom{\\verb!x!}\\verb|0,|\\phantom{\\verb!x!}\\verb|1]|, \\left\\{\\verb|mon| : \\left(\\begin{array}{rr}\n",
       "-l^{3} + 2 \\, l & -l^{2} + 1 \\\\\n",
       "l^{2} - 1 & l\n",
       "\\end{array}\\right), \\verb|sol| : \\left[-1, 1\\right], \\verb|trace| : \\left[-2, 2\\right]\\right\\}\\right)\n",
       "\\end{math}"
      ],
      "text/plain": [
       "('[1, 1, 0, 0, 0, 0, 1]',\n",
       " {'mon': [-l^3 + 2*l   -l^2 + 1]\n",
       "  [   l^2 - 1          l], 'sol': [-1, 1], 'trace': [-2, 2]})"
      ]
     },
     "metadata": {},
     "output_type": "display_data"
    },
    {
     "data": {
      "text/html": [
       "<html><script type=\"math/tex; mode=display\">\\newcommand{\\Bold}[1]{\\mathbf{#1}}\\left(\\verb|[0,|\\phantom{\\verb!x!}\\verb|0,|\\phantom{\\verb!x!}\\verb|1,|\\phantom{\\verb!x!}\\verb|0,|\\phantom{\\verb!x!}\\verb|0,|\\phantom{\\verb!x!}\\verb|0,|\\phantom{\\verb!x!}\\verb|1]|, \\left\\{\\verb|mon| : \\left(\\begin{array}{rr}\n",
       "2 \\, l & 1 \\\\\n",
       "-1 & 0\n",
       "\\end{array}\\right), \\verb|sol| : \\left[\\right], \\verb|trace| : \\left[\\right]\\right\\}\\right)</script></html>"
      ],
      "text/latex": [
       "\\begin{math}\n",
       "\\newcommand{\\Bold}[1]{\\mathbf{#1}}\\left(\\verb|[0,|\\phantom{\\verb!x!}\\verb|0,|\\phantom{\\verb!x!}\\verb|1,|\\phantom{\\verb!x!}\\verb|0,|\\phantom{\\verb!x!}\\verb|0,|\\phantom{\\verb!x!}\\verb|0,|\\phantom{\\verb!x!}\\verb|1]|, \\left\\{\\verb|mon| : \\left(\\begin{array}{rr}\n",
       "2 \\, l & 1 \\\\\n",
       "-1 & 0\n",
       "\\end{array}\\right), \\verb|sol| : \\left[\\right], \\verb|trace| : \\left[\\right]\\right\\}\\right)\n",
       "\\end{math}"
      ],
      "text/plain": [
       "('[0, 0, 1, 0, 0, 0, 1]',\n",
       " {'mon': [2*l   1]\n",
       "  [ -1   0], 'sol': [], 'trace': []})"
      ]
     },
     "metadata": {},
     "output_type": "display_data"
    },
    {
     "data": {
      "text/html": [
       "<html><script type=\"math/tex; mode=display\">\\newcommand{\\Bold}[1]{\\mathbf{#1}}\\left(\\verb|[1,|\\phantom{\\verb!x!}\\verb|0,|\\phantom{\\verb!x!}\\verb|1,|\\phantom{\\verb!x!}\\verb|0,|\\phantom{\\verb!x!}\\verb|0,|\\phantom{\\verb!x!}\\verb|0,|\\phantom{\\verb!x!}\\verb|1]|, \\left\\{\\verb|mon| : \\left(\\begin{array}{rr}\n",
       "3 \\, l & 1 \\\\\n",
       "-1 & 0\n",
       "\\end{array}\\right), \\verb|sol| : \\left[\\right], \\verb|trace| : \\left[\\right]\\right\\}\\right)</script></html>"
      ],
      "text/latex": [
       "\\begin{math}\n",
       "\\newcommand{\\Bold}[1]{\\mathbf{#1}}\\left(\\verb|[1,|\\phantom{\\verb!x!}\\verb|0,|\\phantom{\\verb!x!}\\verb|1,|\\phantom{\\verb!x!}\\verb|0,|\\phantom{\\verb!x!}\\verb|0,|\\phantom{\\verb!x!}\\verb|0,|\\phantom{\\verb!x!}\\verb|1]|, \\left\\{\\verb|mon| : \\left(\\begin{array}{rr}\n",
       "3 \\, l & 1 \\\\\n",
       "-1 & 0\n",
       "\\end{array}\\right), \\verb|sol| : \\left[\\right], \\verb|trace| : \\left[\\right]\\right\\}\\right)\n",
       "\\end{math}"
      ],
      "text/plain": [
       "('[1, 0, 1, 0, 0, 0, 1]',\n",
       " {'mon': [3*l   1]\n",
       "  [ -1   0], 'sol': [], 'trace': []})"
      ]
     },
     "metadata": {},
     "output_type": "display_data"
    },
    {
     "data": {
      "text/html": [
       "<html><script type=\"math/tex; mode=display\">\\newcommand{\\Bold}[1]{\\mathbf{#1}}\\left(\\verb|[0,|\\phantom{\\verb!x!}\\verb|1,|\\phantom{\\verb!x!}\\verb|1,|\\phantom{\\verb!x!}\\verb|0,|\\phantom{\\verb!x!}\\verb|0,|\\phantom{\\verb!x!}\\verb|0,|\\phantom{\\verb!x!}\\verb|1]|, \\left\\{\\verb|mon| : \\left(\\begin{array}{rr}\n",
       "2 \\, l & -2 \\, l^{2} + 1 \\\\\n",
       "-1 & l\n",
       "\\end{array}\\right), \\verb|sol| : \\left[\\right], \\verb|trace| : \\left[\\right]\\right\\}\\right)</script></html>"
      ],
      "text/latex": [
       "\\begin{math}\n",
       "\\newcommand{\\Bold}[1]{\\mathbf{#1}}\\left(\\verb|[0,|\\phantom{\\verb!x!}\\verb|1,|\\phantom{\\verb!x!}\\verb|1,|\\phantom{\\verb!x!}\\verb|0,|\\phantom{\\verb!x!}\\verb|0,|\\phantom{\\verb!x!}\\verb|0,|\\phantom{\\verb!x!}\\verb|1]|, \\left\\{\\verb|mon| : \\left(\\begin{array}{rr}\n",
       "2 \\, l & -2 \\, l^{2} + 1 \\\\\n",
       "-1 & l\n",
       "\\end{array}\\right), \\verb|sol| : \\left[\\right], \\verb|trace| : \\left[\\right]\\right\\}\\right)\n",
       "\\end{math}"
      ],
      "text/plain": [
       "('[0, 1, 1, 0, 0, 0, 1]',\n",
       " {'mon': [       2*l -2*l^2 + 1]\n",
       "  [        -1          l], 'sol': [], 'trace': []})"
      ]
     },
     "metadata": {},
     "output_type": "display_data"
    },
    {
     "data": {
      "text/html": [
       "<html><script type=\"math/tex; mode=display\">\\newcommand{\\Bold}[1]{\\mathbf{#1}}\\left(\\verb|[1,|\\phantom{\\verb!x!}\\verb|1,|\\phantom{\\verb!x!}\\verb|1,|\\phantom{\\verb!x!}\\verb|0,|\\phantom{\\verb!x!}\\verb|0,|\\phantom{\\verb!x!}\\verb|0,|\\phantom{\\verb!x!}\\verb|1]|, \\left\\{\\verb|mon| : \\left(\\begin{array}{rr}\n",
       "-2 \\, l^{3} + 3 \\, l & -2 \\, l^{2} + 1 \\\\\n",
       "l^{2} - 1 & l\n",
       "\\end{array}\\right), \\verb|sol| : \\left[-1, 1\\right], \\verb|trace| : \\left[-2, 2\\right]\\right\\}\\right)</script></html>"
      ],
      "text/latex": [
       "\\begin{math}\n",
       "\\newcommand{\\Bold}[1]{\\mathbf{#1}}\\left(\\verb|[1,|\\phantom{\\verb!x!}\\verb|1,|\\phantom{\\verb!x!}\\verb|1,|\\phantom{\\verb!x!}\\verb|0,|\\phantom{\\verb!x!}\\verb|0,|\\phantom{\\verb!x!}\\verb|0,|\\phantom{\\verb!x!}\\verb|1]|, \\left\\{\\verb|mon| : \\left(\\begin{array}{rr}\n",
       "-2 \\, l^{3} + 3 \\, l & -2 \\, l^{2} + 1 \\\\\n",
       "l^{2} - 1 & l\n",
       "\\end{array}\\right), \\verb|sol| : \\left[-1, 1\\right], \\verb|trace| : \\left[-2, 2\\right]\\right\\}\\right)\n",
       "\\end{math}"
      ],
      "text/plain": [
       "('[1, 1, 1, 0, 0, 0, 1]',\n",
       " {'mon': [-2*l^3 + 3*l   -2*l^2 + 1]\n",
       "  [     l^2 - 1            l], 'sol': [-1, 1], 'trace': [-2, 2]})"
      ]
     },
     "metadata": {},
     "output_type": "display_data"
    },
    {
     "data": {
      "text/html": [
       "<html><script type=\"math/tex; mode=display\">\\newcommand{\\Bold}[1]{\\mathbf{#1}}\\left(\\verb|[0,|\\phantom{\\verb!x!}\\verb|0,|\\phantom{\\verb!x!}\\verb|0,|\\phantom{\\verb!x!}\\verb|1,|\\phantom{\\verb!x!}\\verb|0,|\\phantom{\\verb!x!}\\verb|0,|\\phantom{\\verb!x!}\\verb|1]|, \\left\\{\\verb|mon| : \\left(\\begin{array}{rr}\n",
       "l & -l^{2} + 1 \\\\\n",
       "-1 & l\n",
       "\\end{array}\\right), \\verb|sol| : \\left[\\right], \\verb|trace| : \\left[\\right]\\right\\}\\right)</script></html>"
      ],
      "text/latex": [
       "\\begin{math}\n",
       "\\newcommand{\\Bold}[1]{\\mathbf{#1}}\\left(\\verb|[0,|\\phantom{\\verb!x!}\\verb|0,|\\phantom{\\verb!x!}\\verb|0,|\\phantom{\\verb!x!}\\verb|1,|\\phantom{\\verb!x!}\\verb|0,|\\phantom{\\verb!x!}\\verb|0,|\\phantom{\\verb!x!}\\verb|1]|, \\left\\{\\verb|mon| : \\left(\\begin{array}{rr}\n",
       "l & -l^{2} + 1 \\\\\n",
       "-1 & l\n",
       "\\end{array}\\right), \\verb|sol| : \\left[\\right], \\verb|trace| : \\left[\\right]\\right\\}\\right)\n",
       "\\end{math}"
      ],
      "text/plain": [
       "('[0, 0, 0, 1, 0, 0, 1]',\n",
       " {'mon': [       l -l^2 + 1]\n",
       "  [      -1        l], 'sol': [], 'trace': []})"
      ]
     },
     "metadata": {},
     "output_type": "display_data"
    },
    {
     "data": {
      "text/html": [
       "<html><script type=\"math/tex; mode=display\">\\newcommand{\\Bold}[1]{\\mathbf{#1}}\\left(\\verb|[1,|\\phantom{\\verb!x!}\\verb|0,|\\phantom{\\verb!x!}\\verb|0,|\\phantom{\\verb!x!}\\verb|1,|\\phantom{\\verb!x!}\\verb|0,|\\phantom{\\verb!x!}\\verb|0,|\\phantom{\\verb!x!}\\verb|1]|, \\left\\{\\verb|mon| : \\left(\\begin{array}{rr}\n",
       "-l^{3} + 2 \\, l & -l^{2} + 1 \\\\\n",
       "l^{2} - 1 & l\n",
       "\\end{array}\\right), \\verb|sol| : \\left[-1, 1\\right], \\verb|trace| : \\left[-2, 2\\right]\\right\\}\\right)</script></html>"
      ],
      "text/latex": [
       "\\begin{math}\n",
       "\\newcommand{\\Bold}[1]{\\mathbf{#1}}\\left(\\verb|[1,|\\phantom{\\verb!x!}\\verb|0,|\\phantom{\\verb!x!}\\verb|0,|\\phantom{\\verb!x!}\\verb|1,|\\phantom{\\verb!x!}\\verb|0,|\\phantom{\\verb!x!}\\verb|0,|\\phantom{\\verb!x!}\\verb|1]|, \\left\\{\\verb|mon| : \\left(\\begin{array}{rr}\n",
       "-l^{3} + 2 \\, l & -l^{2} + 1 \\\\\n",
       "l^{2} - 1 & l\n",
       "\\end{array}\\right), \\verb|sol| : \\left[-1, 1\\right], \\verb|trace| : \\left[-2, 2\\right]\\right\\}\\right)\n",
       "\\end{math}"
      ],
      "text/plain": [
       "('[1, 0, 0, 1, 0, 0, 1]',\n",
       " {'mon': [-l^3 + 2*l   -l^2 + 1]\n",
       "  [   l^2 - 1          l], 'sol': [-1, 1], 'trace': [-2, 2]})"
      ]
     },
     "metadata": {},
     "output_type": "display_data"
    },
    {
     "data": {
      "text/html": [
       "<html><script type=\"math/tex; mode=display\">\\newcommand{\\Bold}[1]{\\mathbf{#1}}\\left(\\verb|[0,|\\phantom{\\verb!x!}\\verb|1,|\\phantom{\\verb!x!}\\verb|0,|\\phantom{\\verb!x!}\\verb|1,|\\phantom{\\verb!x!}\\verb|0,|\\phantom{\\verb!x!}\\verb|0,|\\phantom{\\verb!x!}\\verb|1]|, \\left\\{\\verb|mon| : \\left(\\begin{array}{rr}\n",
       "l & -2 \\, l^{2} + 1 \\\\\n",
       "-1 & 2 \\, l\n",
       "\\end{array}\\right), \\verb|sol| : \\left[\\right], \\verb|trace| : \\left[\\right]\\right\\}\\right)</script></html>"
      ],
      "text/latex": [
       "\\begin{math}\n",
       "\\newcommand{\\Bold}[1]{\\mathbf{#1}}\\left(\\verb|[0,|\\phantom{\\verb!x!}\\verb|1,|\\phantom{\\verb!x!}\\verb|0,|\\phantom{\\verb!x!}\\verb|1,|\\phantom{\\verb!x!}\\verb|0,|\\phantom{\\verb!x!}\\verb|0,|\\phantom{\\verb!x!}\\verb|1]|, \\left\\{\\verb|mon| : \\left(\\begin{array}{rr}\n",
       "l & -2 \\, l^{2} + 1 \\\\\n",
       "-1 & 2 \\, l\n",
       "\\end{array}\\right), \\verb|sol| : \\left[\\right], \\verb|trace| : \\left[\\right]\\right\\}\\right)\n",
       "\\end{math}"
      ],
      "text/plain": [
       "('[0, 1, 0, 1, 0, 0, 1]',\n",
       " {'mon': [         l -2*l^2 + 1]\n",
       "  [        -1        2*l], 'sol': [], 'trace': []})"
      ]
     },
     "metadata": {},
     "output_type": "display_data"
    },
    {
     "data": {
      "text/html": [
       "<html><script type=\"math/tex; mode=display\">\\newcommand{\\Bold}[1]{\\mathbf{#1}}\\left(\\verb|[1,|\\phantom{\\verb!x!}\\verb|1,|\\phantom{\\verb!x!}\\verb|0,|\\phantom{\\verb!x!}\\verb|1,|\\phantom{\\verb!x!}\\verb|0,|\\phantom{\\verb!x!}\\verb|0,|\\phantom{\\verb!x!}\\verb|1]|, \\left\\{\\verb|mon| : \\left(\\begin{array}{rr}\n",
       "-2 \\, l^{3} + 2 \\, l & -2 \\, l^{2} + 1 \\\\\n",
       "2 \\, l^{2} - 1 & 2 \\, l\n",
       "\\end{array}\\right), \\verb|sol| : \\left[-\\frac{1}{2} \\, \\sqrt{2}, \\frac{1}{2} \\, \\sqrt{2}\\right], \\verb|trace| : \\left[-\\frac{3}{2} \\, \\sqrt{2}, \\frac{3}{2} \\, \\sqrt{2}\\right]\\right\\}\\right)</script></html>"
      ],
      "text/latex": [
       "\\begin{math}\n",
       "\\newcommand{\\Bold}[1]{\\mathbf{#1}}\\left(\\verb|[1,|\\phantom{\\verb!x!}\\verb|1,|\\phantom{\\verb!x!}\\verb|0,|\\phantom{\\verb!x!}\\verb|1,|\\phantom{\\verb!x!}\\verb|0,|\\phantom{\\verb!x!}\\verb|0,|\\phantom{\\verb!x!}\\verb|1]|, \\left\\{\\verb|mon| : \\left(\\begin{array}{rr}\n",
       "-2 \\, l^{3} + 2 \\, l & -2 \\, l^{2} + 1 \\\\\n",
       "2 \\, l^{2} - 1 & 2 \\, l\n",
       "\\end{array}\\right), \\verb|sol| : \\left[-\\frac{1}{2} \\, \\sqrt{2}, \\frac{1}{2} \\, \\sqrt{2}\\right], \\verb|trace| : \\left[-\\frac{3}{2} \\, \\sqrt{2}, \\frac{3}{2} \\, \\sqrt{2}\\right]\\right\\}\\right)\n",
       "\\end{math}"
      ],
      "text/plain": [
       "('[1, 1, 0, 1, 0, 0, 1]',\n",
       " {'mon': [-2*l^3 + 2*l   -2*l^2 + 1]\n",
       "  [   2*l^2 - 1          2*l],\n",
       "  'sol': [-1/2*sqrt(2), 1/2*sqrt(2)],\n",
       "  'trace': [-3/2*sqrt(2), 3/2*sqrt(2)]})"
      ]
     },
     "metadata": {},
     "output_type": "display_data"
    },
    {
     "data": {
      "text/html": [
       "<html><script type=\"math/tex; mode=display\">\\newcommand{\\Bold}[1]{\\mathbf{#1}}\\left(\\verb|[0,|\\phantom{\\verb!x!}\\verb|0,|\\phantom{\\verb!x!}\\verb|1,|\\phantom{\\verb!x!}\\verb|1,|\\phantom{\\verb!x!}\\verb|0,|\\phantom{\\verb!x!}\\verb|0,|\\phantom{\\verb!x!}\\verb|1]|, \\left\\{\\verb|mon| : \\left(\\begin{array}{rr}\n",
       "-l^{3} + 2 \\, l & -l^{2} + 1 \\\\\n",
       "l^{2} - 1 & l\n",
       "\\end{array}\\right), \\verb|sol| : \\left[-1, 1\\right], \\verb|trace| : \\left[-2, 2\\right]\\right\\}\\right)</script></html>"
      ],
      "text/latex": [
       "\\begin{math}\n",
       "\\newcommand{\\Bold}[1]{\\mathbf{#1}}\\left(\\verb|[0,|\\phantom{\\verb!x!}\\verb|0,|\\phantom{\\verb!x!}\\verb|1,|\\phantom{\\verb!x!}\\verb|1,|\\phantom{\\verb!x!}\\verb|0,|\\phantom{\\verb!x!}\\verb|0,|\\phantom{\\verb!x!}\\verb|1]|, \\left\\{\\verb|mon| : \\left(\\begin{array}{rr}\n",
       "-l^{3} + 2 \\, l & -l^{2} + 1 \\\\\n",
       "l^{2} - 1 & l\n",
       "\\end{array}\\right), \\verb|sol| : \\left[-1, 1\\right], \\verb|trace| : \\left[-2, 2\\right]\\right\\}\\right)\n",
       "\\end{math}"
      ],
      "text/plain": [
       "('[0, 0, 1, 1, 0, 0, 1]',\n",
       " {'mon': [-l^3 + 2*l   -l^2 + 1]\n",
       "  [   l^2 - 1          l], 'sol': [-1, 1], 'trace': [-2, 2]})"
      ]
     },
     "metadata": {},
     "output_type": "display_data"
    },
    {
     "data": {
      "text/html": [
       "<html><script type=\"math/tex; mode=display\">\\newcommand{\\Bold}[1]{\\mathbf{#1}}\\left(\\verb|[1,|\\phantom{\\verb!x!}\\verb|0,|\\phantom{\\verb!x!}\\verb|1,|\\phantom{\\verb!x!}\\verb|1,|\\phantom{\\verb!x!}\\verb|0,|\\phantom{\\verb!x!}\\verb|0,|\\phantom{\\verb!x!}\\verb|1]|, \\left\\{\\verb|mon| : \\left(\\begin{array}{rr}\n",
       "-2 \\, l^{3} + 3 \\, l & -l^{2} + 1 \\\\\n",
       "2 \\, l^{2} - 1 & l\n",
       "\\end{array}\\right), \\verb|sol| : \\left[-\\frac{1}{2} \\, \\sqrt{2}, \\frac{1}{2} \\, \\sqrt{2}\\right], \\verb|trace| : \\left[-\\frac{3}{2} \\, \\sqrt{2}, \\frac{3}{2} \\, \\sqrt{2}\\right]\\right\\}\\right)</script></html>"
      ],
      "text/latex": [
       "\\begin{math}\n",
       "\\newcommand{\\Bold}[1]{\\mathbf{#1}}\\left(\\verb|[1,|\\phantom{\\verb!x!}\\verb|0,|\\phantom{\\verb!x!}\\verb|1,|\\phantom{\\verb!x!}\\verb|1,|\\phantom{\\verb!x!}\\verb|0,|\\phantom{\\verb!x!}\\verb|0,|\\phantom{\\verb!x!}\\verb|1]|, \\left\\{\\verb|mon| : \\left(\\begin{array}{rr}\n",
       "-2 \\, l^{3} + 3 \\, l & -l^{2} + 1 \\\\\n",
       "2 \\, l^{2} - 1 & l\n",
       "\\end{array}\\right), \\verb|sol| : \\left[-\\frac{1}{2} \\, \\sqrt{2}, \\frac{1}{2} \\, \\sqrt{2}\\right], \\verb|trace| : \\left[-\\frac{3}{2} \\, \\sqrt{2}, \\frac{3}{2} \\, \\sqrt{2}\\right]\\right\\}\\right)\n",
       "\\end{math}"
      ],
      "text/plain": [
       "('[1, 0, 1, 1, 0, 0, 1]',\n",
       " {'mon': [-2*l^3 + 3*l     -l^2 + 1]\n",
       "  [   2*l^2 - 1            l],\n",
       "  'sol': [-1/2*sqrt(2), 1/2*sqrt(2)],\n",
       "  'trace': [-3/2*sqrt(2), 3/2*sqrt(2)]})"
      ]
     },
     "metadata": {},
     "output_type": "display_data"
    },
    {
     "data": {
      "text/html": [
       "<html><script type=\"math/tex; mode=display\">\\newcommand{\\Bold}[1]{\\mathbf{#1}}\\left(\\verb|[0,|\\phantom{\\verb!x!}\\verb|1,|\\phantom{\\verb!x!}\\verb|1,|\\phantom{\\verb!x!}\\verb|1,|\\phantom{\\verb!x!}\\verb|0,|\\phantom{\\verb!x!}\\verb|0,|\\phantom{\\verb!x!}\\verb|1]|, \\left\\{\\verb|mon| : \\left(\\begin{array}{rr}\n",
       "-l^{3} + 2 \\, l & l^{4} - 3 \\, l^{2} + 1 \\\\\n",
       "l^{2} - 1 & -l^{3} + 2 \\, l\n",
       "\\end{array}\\right), \\verb|sol| : \\left[-1, 1\\right], \\verb|trace| : \\left[-2, 2\\right]\\right\\}\\right)</script></html>"
      ],
      "text/latex": [
       "\\begin{math}\n",
       "\\newcommand{\\Bold}[1]{\\mathbf{#1}}\\left(\\verb|[0,|\\phantom{\\verb!x!}\\verb|1,|\\phantom{\\verb!x!}\\verb|1,|\\phantom{\\verb!x!}\\verb|1,|\\phantom{\\verb!x!}\\verb|0,|\\phantom{\\verb!x!}\\verb|0,|\\phantom{\\verb!x!}\\verb|1]|, \\left\\{\\verb|mon| : \\left(\\begin{array}{rr}\n",
       "-l^{3} + 2 \\, l & l^{4} - 3 \\, l^{2} + 1 \\\\\n",
       "l^{2} - 1 & -l^{3} + 2 \\, l\n",
       "\\end{array}\\right), \\verb|sol| : \\left[-1, 1\\right], \\verb|trace| : \\left[-2, 2\\right]\\right\\}\\right)\n",
       "\\end{math}"
      ],
      "text/plain": [
       "('[0, 1, 1, 1, 0, 0, 1]',\n",
       " {'mon': [     -l^3 + 2*l l^4 - 3*l^2 + 1]\n",
       "  [        l^2 - 1      -l^3 + 2*l], 'sol': [-1, 1], 'trace': [-2, 2]})"
      ]
     },
     "metadata": {},
     "output_type": "display_data"
    },
    {
     "data": {
      "text/html": [
       "<html><script type=\"math/tex; mode=display\">\\newcommand{\\Bold}[1]{\\mathbf{#1}}\\left(\\verb|[1,|\\phantom{\\verb!x!}\\verb|1,|\\phantom{\\verb!x!}\\verb|1,|\\phantom{\\verb!x!}\\verb|1,|\\phantom{\\verb!x!}\\verb|0,|\\phantom{\\verb!x!}\\verb|0,|\\phantom{\\verb!x!}\\verb|1]|, \\left\\{\\verb|mon| : \\left(\\begin{array}{rr}\n",
       "l^{5} - 4 \\, l^{3} + 3 \\, l & l^{4} - 3 \\, l^{2} + 1 \\\\\n",
       "-l^{4} + 3 \\, l^{2} - 1 & -l^{3} + 2 \\, l\n",
       "\\end{array}\\right), \\verb|sol| : \\left[-\\sqrt{\\frac{1}{2} \\, \\sqrt{5} + \\frac{3}{2}}, -\\sqrt{-\\frac{1}{2} \\, \\sqrt{5} + \\frac{3}{2}}, \\sqrt{-\\frac{1}{2} \\, \\sqrt{5} + \\frac{3}{2}}, \\sqrt{\\frac{1}{2} \\, \\sqrt{5} + \\frac{3}{2}}\\right], \\verb|trace| : \\left[-{\\left(\\frac{1}{2} \\, \\sqrt{5} + \\frac{3}{2}\\right)}^{\\frac{5}{2}} + 5 \\, {\\left(\\frac{1}{2} \\, \\sqrt{5} + \\frac{3}{2}\\right)}^{\\frac{3}{2}} - 5 \\, \\sqrt{\\frac{1}{2} \\, \\sqrt{5} + \\frac{3}{2}}, -{\\left(-\\frac{1}{2} \\, \\sqrt{5} + \\frac{3}{2}\\right)}^{\\frac{5}{2}} + 5 \\, {\\left(-\\frac{1}{2} \\, \\sqrt{5} + \\frac{3}{2}\\right)}^{\\frac{3}{2}} - 5 \\, \\sqrt{-\\frac{1}{2} \\, \\sqrt{5} + \\frac{3}{2}}, {\\left(-\\frac{1}{2} \\, \\sqrt{5} + \\frac{3}{2}\\right)}^{\\frac{5}{2}} - 5 \\, {\\left(-\\frac{1}{2} \\, \\sqrt{5} + \\frac{3}{2}\\right)}^{\\frac{3}{2}} + 5 \\, \\sqrt{-\\frac{1}{2} \\, \\sqrt{5} + \\frac{3}{2}}, {\\left(\\frac{1}{2} \\, \\sqrt{5} + \\frac{3}{2}\\right)}^{\\frac{5}{2}} - 5 \\, {\\left(\\frac{1}{2} \\, \\sqrt{5} + \\frac{3}{2}\\right)}^{\\frac{3}{2}} + 5 \\, \\sqrt{\\frac{1}{2} \\, \\sqrt{5} + \\frac{3}{2}}\\right]\\right\\}\\right)</script></html>"
      ],
      "text/latex": [
       "\\begin{math}\n",
       "\\newcommand{\\Bold}[1]{\\mathbf{#1}}\\left(\\verb|[1,|\\phantom{\\verb!x!}\\verb|1,|\\phantom{\\verb!x!}\\verb|1,|\\phantom{\\verb!x!}\\verb|1,|\\phantom{\\verb!x!}\\verb|0,|\\phantom{\\verb!x!}\\verb|0,|\\phantom{\\verb!x!}\\verb|1]|, \\left\\{\\verb|mon| : \\left(\\begin{array}{rr}\n",
       "l^{5} - 4 \\, l^{3} + 3 \\, l & l^{4} - 3 \\, l^{2} + 1 \\\\\n",
       "-l^{4} + 3 \\, l^{2} - 1 & -l^{3} + 2 \\, l\n",
       "\\end{array}\\right), \\verb|sol| : \\left[-\\sqrt{\\frac{1}{2} \\, \\sqrt{5} + \\frac{3}{2}}, -\\sqrt{-\\frac{1}{2} \\, \\sqrt{5} + \\frac{3}{2}}, \\sqrt{-\\frac{1}{2} \\, \\sqrt{5} + \\frac{3}{2}}, \\sqrt{\\frac{1}{2} \\, \\sqrt{5} + \\frac{3}{2}}\\right], \\verb|trace| : \\left[-{\\left(\\frac{1}{2} \\, \\sqrt{5} + \\frac{3}{2}\\right)}^{\\frac{5}{2}} + 5 \\, {\\left(\\frac{1}{2} \\, \\sqrt{5} + \\frac{3}{2}\\right)}^{\\frac{3}{2}} - 5 \\, \\sqrt{\\frac{1}{2} \\, \\sqrt{5} + \\frac{3}{2}}, -{\\left(-\\frac{1}{2} \\, \\sqrt{5} + \\frac{3}{2}\\right)}^{\\frac{5}{2}} + 5 \\, {\\left(-\\frac{1}{2} \\, \\sqrt{5} + \\frac{3}{2}\\right)}^{\\frac{3}{2}} - 5 \\, \\sqrt{-\\frac{1}{2} \\, \\sqrt{5} + \\frac{3}{2}}, {\\left(-\\frac{1}{2} \\, \\sqrt{5} + \\frac{3}{2}\\right)}^{\\frac{5}{2}} - 5 \\, {\\left(-\\frac{1}{2} \\, \\sqrt{5} + \\frac{3}{2}\\right)}^{\\frac{3}{2}} + 5 \\, \\sqrt{-\\frac{1}{2} \\, \\sqrt{5} + \\frac{3}{2}}, {\\left(\\frac{1}{2} \\, \\sqrt{5} + \\frac{3}{2}\\right)}^{\\frac{5}{2}} - 5 \\, {\\left(\\frac{1}{2} \\, \\sqrt{5} + \\frac{3}{2}\\right)}^{\\frac{3}{2}} + 5 \\, \\sqrt{\\frac{1}{2} \\, \\sqrt{5} + \\frac{3}{2}}\\right]\\right\\}\\right)\n",
       "\\end{math}"
      ],
      "text/plain": [
       "('[1, 1, 1, 1, 0, 0, 1]',\n",
       " {'mon': [l^5 - 4*l^3 + 3*l   l^4 - 3*l^2 + 1]\n",
       "  [ -l^4 + 3*l^2 - 1        -l^3 + 2*l],\n",
       "  'sol': [-sqrt(1/2*sqrt(5) + 3/2),\n",
       "   -sqrt(-1/2*sqrt(5) + 3/2),\n",
       "   sqrt(-1/2*sqrt(5) + 3/2),\n",
       "   sqrt(1/2*sqrt(5) + 3/2)],\n",
       "  'trace': [-(1/2*sqrt(5) + 3/2)^(5/2) + 5*(1/2*sqrt(5) + 3/2)^(3/2) - 5*sqrt(1/2*sqrt(5) + 3/2),\n",
       "   -(-1/2*sqrt(5) + 3/2)^(5/2) + 5*(-1/2*sqrt(5) + 3/2)^(3/2) - 5*sqrt(-1/2*sqrt(5) + 3/2),\n",
       "   (-1/2*sqrt(5) + 3/2)^(5/2) - 5*(-1/2*sqrt(5) + 3/2)^(3/2) + 5*sqrt(-1/2*sqrt(5) + 3/2),\n",
       "   (1/2*sqrt(5) + 3/2)^(5/2) - 5*(1/2*sqrt(5) + 3/2)^(3/2) + 5*sqrt(1/2*sqrt(5) + 3/2)]})"
      ]
     },
     "metadata": {},
     "output_type": "display_data"
    },
    {
     "data": {
      "text/html": [
       "<html><script type=\"math/tex; mode=display\">\\newcommand{\\Bold}[1]{\\mathbf{#1}}\\left(\\verb|[0,|\\phantom{\\verb!x!}\\verb|0,|\\phantom{\\verb!x!}\\verb|0,|\\phantom{\\verb!x!}\\verb|0,|\\phantom{\\verb!x!}\\verb|1,|\\phantom{\\verb!x!}\\verb|0,|\\phantom{\\verb!x!}\\verb|1]|, \\left\\{\\verb|mon| : \\left(\\begin{array}{rr}\n",
       "2 \\, l & 1 \\\\\n",
       "-1 & 0\n",
       "\\end{array}\\right), \\verb|sol| : \\left[\\right], \\verb|trace| : \\left[\\right]\\right\\}\\right)</script></html>"
      ],
      "text/latex": [
       "\\begin{math}\n",
       "\\newcommand{\\Bold}[1]{\\mathbf{#1}}\\left(\\verb|[0,|\\phantom{\\verb!x!}\\verb|0,|\\phantom{\\verb!x!}\\verb|0,|\\phantom{\\verb!x!}\\verb|0,|\\phantom{\\verb!x!}\\verb|1,|\\phantom{\\verb!x!}\\verb|0,|\\phantom{\\verb!x!}\\verb|1]|, \\left\\{\\verb|mon| : \\left(\\begin{array}{rr}\n",
       "2 \\, l & 1 \\\\\n",
       "-1 & 0\n",
       "\\end{array}\\right), \\verb|sol| : \\left[\\right], \\verb|trace| : \\left[\\right]\\right\\}\\right)\n",
       "\\end{math}"
      ],
      "text/plain": [
       "('[0, 0, 0, 0, 1, 0, 1]',\n",
       " {'mon': [2*l   1]\n",
       "  [ -1   0], 'sol': [], 'trace': []})"
      ]
     },
     "metadata": {},
     "output_type": "display_data"
    },
    {
     "data": {
      "text/html": [
       "<html><script type=\"math/tex; mode=display\">\\newcommand{\\Bold}[1]{\\mathbf{#1}}\\left(\\verb|[1,|\\phantom{\\verb!x!}\\verb|0,|\\phantom{\\verb!x!}\\verb|0,|\\phantom{\\verb!x!}\\verb|0,|\\phantom{\\verb!x!}\\verb|1,|\\phantom{\\verb!x!}\\verb|0,|\\phantom{\\verb!x!}\\verb|1]|, \\left\\{\\verb|mon| : \\left(\\begin{array}{rr}\n",
       "3 \\, l & 1 \\\\\n",
       "-1 & 0\n",
       "\\end{array}\\right), \\verb|sol| : \\left[\\right], \\verb|trace| : \\left[\\right]\\right\\}\\right)</script></html>"
      ],
      "text/latex": [
       "\\begin{math}\n",
       "\\newcommand{\\Bold}[1]{\\mathbf{#1}}\\left(\\verb|[1,|\\phantom{\\verb!x!}\\verb|0,|\\phantom{\\verb!x!}\\verb|0,|\\phantom{\\verb!x!}\\verb|0,|\\phantom{\\verb!x!}\\verb|1,|\\phantom{\\verb!x!}\\verb|0,|\\phantom{\\verb!x!}\\verb|1]|, \\left\\{\\verb|mon| : \\left(\\begin{array}{rr}\n",
       "3 \\, l & 1 \\\\\n",
       "-1 & 0\n",
       "\\end{array}\\right), \\verb|sol| : \\left[\\right], \\verb|trace| : \\left[\\right]\\right\\}\\right)\n",
       "\\end{math}"
      ],
      "text/plain": [
       "('[1, 0, 0, 0, 1, 0, 1]',\n",
       " {'mon': [3*l   1]\n",
       "  [ -1   0], 'sol': [], 'trace': []})"
      ]
     },
     "metadata": {},
     "output_type": "display_data"
    },
    {
     "data": {
      "text/html": [
       "<html><script type=\"math/tex; mode=display\">\\newcommand{\\Bold}[1]{\\mathbf{#1}}\\left(\\verb|[0,|\\phantom{\\verb!x!}\\verb|1,|\\phantom{\\verb!x!}\\verb|0,|\\phantom{\\verb!x!}\\verb|0,|\\phantom{\\verb!x!}\\verb|1,|\\phantom{\\verb!x!}\\verb|0,|\\phantom{\\verb!x!}\\verb|1]|, \\left\\{\\verb|mon| : \\left(\\begin{array}{rr}\n",
       "2 \\, l & -2 \\, l^{2} + 1 \\\\\n",
       "-1 & l\n",
       "\\end{array}\\right), \\verb|sol| : \\left[\\right], \\verb|trace| : \\left[\\right]\\right\\}\\right)</script></html>"
      ],
      "text/latex": [
       "\\begin{math}\n",
       "\\newcommand{\\Bold}[1]{\\mathbf{#1}}\\left(\\verb|[0,|\\phantom{\\verb!x!}\\verb|1,|\\phantom{\\verb!x!}\\verb|0,|\\phantom{\\verb!x!}\\verb|0,|\\phantom{\\verb!x!}\\verb|1,|\\phantom{\\verb!x!}\\verb|0,|\\phantom{\\verb!x!}\\verb|1]|, \\left\\{\\verb|mon| : \\left(\\begin{array}{rr}\n",
       "2 \\, l & -2 \\, l^{2} + 1 \\\\\n",
       "-1 & l\n",
       "\\end{array}\\right), \\verb|sol| : \\left[\\right], \\verb|trace| : \\left[\\right]\\right\\}\\right)\n",
       "\\end{math}"
      ],
      "text/plain": [
       "('[0, 1, 0, 0, 1, 0, 1]',\n",
       " {'mon': [       2*l -2*l^2 + 1]\n",
       "  [        -1          l], 'sol': [], 'trace': []})"
      ]
     },
     "metadata": {},
     "output_type": "display_data"
    },
    {
     "data": {
      "text/html": [
       "<html><script type=\"math/tex; mode=display\">\\newcommand{\\Bold}[1]{\\mathbf{#1}}\\left(\\verb|[1,|\\phantom{\\verb!x!}\\verb|1,|\\phantom{\\verb!x!}\\verb|0,|\\phantom{\\verb!x!}\\verb|0,|\\phantom{\\verb!x!}\\verb|1,|\\phantom{\\verb!x!}\\verb|0,|\\phantom{\\verb!x!}\\verb|1]|, \\left\\{\\verb|mon| : \\left(\\begin{array}{rr}\n",
       "-2 \\, l^{3} + 3 \\, l & -2 \\, l^{2} + 1 \\\\\n",
       "l^{2} - 1 & l\n",
       "\\end{array}\\right), \\verb|sol| : \\left[-1, 1\\right], \\verb|trace| : \\left[-2, 2\\right]\\right\\}\\right)</script></html>"
      ],
      "text/latex": [
       "\\begin{math}\n",
       "\\newcommand{\\Bold}[1]{\\mathbf{#1}}\\left(\\verb|[1,|\\phantom{\\verb!x!}\\verb|1,|\\phantom{\\verb!x!}\\verb|0,|\\phantom{\\verb!x!}\\verb|0,|\\phantom{\\verb!x!}\\verb|1,|\\phantom{\\verb!x!}\\verb|0,|\\phantom{\\verb!x!}\\verb|1]|, \\left\\{\\verb|mon| : \\left(\\begin{array}{rr}\n",
       "-2 \\, l^{3} + 3 \\, l & -2 \\, l^{2} + 1 \\\\\n",
       "l^{2} - 1 & l\n",
       "\\end{array}\\right), \\verb|sol| : \\left[-1, 1\\right], \\verb|trace| : \\left[-2, 2\\right]\\right\\}\\right)\n",
       "\\end{math}"
      ],
      "text/plain": [
       "('[1, 1, 0, 0, 1, 0, 1]',\n",
       " {'mon': [-2*l^3 + 3*l   -2*l^2 + 1]\n",
       "  [     l^2 - 1            l], 'sol': [-1, 1], 'trace': [-2, 2]})"
      ]
     },
     "metadata": {},
     "output_type": "display_data"
    },
    {
     "data": {
      "text/html": [
       "<html><script type=\"math/tex; mode=display\">\\newcommand{\\Bold}[1]{\\mathbf{#1}}\\left(\\verb|[0,|\\phantom{\\verb!x!}\\verb|0,|\\phantom{\\verb!x!}\\verb|1,|\\phantom{\\verb!x!}\\verb|0,|\\phantom{\\verb!x!}\\verb|1,|\\phantom{\\verb!x!}\\verb|0,|\\phantom{\\verb!x!}\\verb|1]|, \\left\\{\\verb|mon| : \\left(\\begin{array}{rr}\n",
       "3 \\, l & 1 \\\\\n",
       "-1 & 0\n",
       "\\end{array}\\right), \\verb|sol| : \\left[\\right], \\verb|trace| : \\left[\\right]\\right\\}\\right)</script></html>"
      ],
      "text/latex": [
       "\\begin{math}\n",
       "\\newcommand{\\Bold}[1]{\\mathbf{#1}}\\left(\\verb|[0,|\\phantom{\\verb!x!}\\verb|0,|\\phantom{\\verb!x!}\\verb|1,|\\phantom{\\verb!x!}\\verb|0,|\\phantom{\\verb!x!}\\verb|1,|\\phantom{\\verb!x!}\\verb|0,|\\phantom{\\verb!x!}\\verb|1]|, \\left\\{\\verb|mon| : \\left(\\begin{array}{rr}\n",
       "3 \\, l & 1 \\\\\n",
       "-1 & 0\n",
       "\\end{array}\\right), \\verb|sol| : \\left[\\right], \\verb|trace| : \\left[\\right]\\right\\}\\right)\n",
       "\\end{math}"
      ],
      "text/plain": [
       "('[0, 0, 1, 0, 1, 0, 1]',\n",
       " {'mon': [3*l   1]\n",
       "  [ -1   0], 'sol': [], 'trace': []})"
      ]
     },
     "metadata": {},
     "output_type": "display_data"
    },
    {
     "data": {
      "text/html": [
       "<html><script type=\"math/tex; mode=display\">\\newcommand{\\Bold}[1]{\\mathbf{#1}}\\left(\\verb|[1,|\\phantom{\\verb!x!}\\verb|0,|\\phantom{\\verb!x!}\\verb|1,|\\phantom{\\verb!x!}\\verb|0,|\\phantom{\\verb!x!}\\verb|1,|\\phantom{\\verb!x!}\\verb|0,|\\phantom{\\verb!x!}\\verb|1]|, \\left\\{\\verb|mon| : \\left(\\begin{array}{rr}\n",
       "4 \\, l & 1 \\\\\n",
       "-1 & 0\n",
       "\\end{array}\\right), \\verb|sol| : \\left[\\right], \\verb|trace| : \\left[\\right]\\right\\}\\right)</script></html>"
      ],
      "text/latex": [
       "\\begin{math}\n",
       "\\newcommand{\\Bold}[1]{\\mathbf{#1}}\\left(\\verb|[1,|\\phantom{\\verb!x!}\\verb|0,|\\phantom{\\verb!x!}\\verb|1,|\\phantom{\\verb!x!}\\verb|0,|\\phantom{\\verb!x!}\\verb|1,|\\phantom{\\verb!x!}\\verb|0,|\\phantom{\\verb!x!}\\verb|1]|, \\left\\{\\verb|mon| : \\left(\\begin{array}{rr}\n",
       "4 \\, l & 1 \\\\\n",
       "-1 & 0\n",
       "\\end{array}\\right), \\verb|sol| : \\left[\\right], \\verb|trace| : \\left[\\right]\\right\\}\\right)\n",
       "\\end{math}"
      ],
      "text/plain": [
       "('[1, 0, 1, 0, 1, 0, 1]',\n",
       " {'mon': [4*l   1]\n",
       "  [ -1   0], 'sol': [], 'trace': []})"
      ]
     },
     "metadata": {},
     "output_type": "display_data"
    },
    {
     "data": {
      "text/html": [
       "<html><script type=\"math/tex; mode=display\">\\newcommand{\\Bold}[1]{\\mathbf{#1}}\\left(\\verb|[0,|\\phantom{\\verb!x!}\\verb|1,|\\phantom{\\verb!x!}\\verb|1,|\\phantom{\\verb!x!}\\verb|0,|\\phantom{\\verb!x!}\\verb|1,|\\phantom{\\verb!x!}\\verb|0,|\\phantom{\\verb!x!}\\verb|1]|, \\left\\{\\verb|mon| : \\left(\\begin{array}{rr}\n",
       "3 \\, l & -3 \\, l^{2} + 1 \\\\\n",
       "-1 & l\n",
       "\\end{array}\\right), \\verb|sol| : \\left[\\right], \\verb|trace| : \\left[\\right]\\right\\}\\right)</script></html>"
      ],
      "text/latex": [
       "\\begin{math}\n",
       "\\newcommand{\\Bold}[1]{\\mathbf{#1}}\\left(\\verb|[0,|\\phantom{\\verb!x!}\\verb|1,|\\phantom{\\verb!x!}\\verb|1,|\\phantom{\\verb!x!}\\verb|0,|\\phantom{\\verb!x!}\\verb|1,|\\phantom{\\verb!x!}\\verb|0,|\\phantom{\\verb!x!}\\verb|1]|, \\left\\{\\verb|mon| : \\left(\\begin{array}{rr}\n",
       "3 \\, l & -3 \\, l^{2} + 1 \\\\\n",
       "-1 & l\n",
       "\\end{array}\\right), \\verb|sol| : \\left[\\right], \\verb|trace| : \\left[\\right]\\right\\}\\right)\n",
       "\\end{math}"
      ],
      "text/plain": [
       "('[0, 1, 1, 0, 1, 0, 1]',\n",
       " {'mon': [       3*l -3*l^2 + 1]\n",
       "  [        -1          l], 'sol': [], 'trace': []})"
      ]
     },
     "metadata": {},
     "output_type": "display_data"
    },
    {
     "data": {
      "text/html": [
       "<html><script type=\"math/tex; mode=display\">\\newcommand{\\Bold}[1]{\\mathbf{#1}}\\left(\\verb|[1,|\\phantom{\\verb!x!}\\verb|1,|\\phantom{\\verb!x!}\\verb|1,|\\phantom{\\verb!x!}\\verb|0,|\\phantom{\\verb!x!}\\verb|1,|\\phantom{\\verb!x!}\\verb|0,|\\phantom{\\verb!x!}\\verb|1]|, \\left\\{\\verb|mon| : \\left(\\begin{array}{rr}\n",
       "-3 \\, l^{3} + 4 \\, l & -3 \\, l^{2} + 1 \\\\\n",
       "l^{2} - 1 & l\n",
       "\\end{array}\\right), \\verb|sol| : \\left[-1, 1\\right], \\verb|trace| : \\left[-2, 2\\right]\\right\\}\\right)</script></html>"
      ],
      "text/latex": [
       "\\begin{math}\n",
       "\\newcommand{\\Bold}[1]{\\mathbf{#1}}\\left(\\verb|[1,|\\phantom{\\verb!x!}\\verb|1,|\\phantom{\\verb!x!}\\verb|1,|\\phantom{\\verb!x!}\\verb|0,|\\phantom{\\verb!x!}\\verb|1,|\\phantom{\\verb!x!}\\verb|0,|\\phantom{\\verb!x!}\\verb|1]|, \\left\\{\\verb|mon| : \\left(\\begin{array}{rr}\n",
       "-3 \\, l^{3} + 4 \\, l & -3 \\, l^{2} + 1 \\\\\n",
       "l^{2} - 1 & l\n",
       "\\end{array}\\right), \\verb|sol| : \\left[-1, 1\\right], \\verb|trace| : \\left[-2, 2\\right]\\right\\}\\right)\n",
       "\\end{math}"
      ],
      "text/plain": [
       "('[1, 1, 1, 0, 1, 0, 1]',\n",
       " {'mon': [-3*l^3 + 4*l   -3*l^2 + 1]\n",
       "  [     l^2 - 1            l], 'sol': [-1, 1], 'trace': [-2, 2]})"
      ]
     },
     "metadata": {},
     "output_type": "display_data"
    },
    {
     "data": {
      "text/html": [
       "<html><script type=\"math/tex; mode=display\">\\newcommand{\\Bold}[1]{\\mathbf{#1}}\\left(\\verb|[0,|\\phantom{\\verb!x!}\\verb|0,|\\phantom{\\verb!x!}\\verb|0,|\\phantom{\\verb!x!}\\verb|1,|\\phantom{\\verb!x!}\\verb|1,|\\phantom{\\verb!x!}\\verb|0,|\\phantom{\\verb!x!}\\verb|1]|, \\left\\{\\verb|mon| : \\left(\\begin{array}{rr}\n",
       "2 \\, l & -2 \\, l^{2} + 1 \\\\\n",
       "-1 & l\n",
       "\\end{array}\\right), \\verb|sol| : \\left[\\right], \\verb|trace| : \\left[\\right]\\right\\}\\right)</script></html>"
      ],
      "text/latex": [
       "\\begin{math}\n",
       "\\newcommand{\\Bold}[1]{\\mathbf{#1}}\\left(\\verb|[0,|\\phantom{\\verb!x!}\\verb|0,|\\phantom{\\verb!x!}\\verb|0,|\\phantom{\\verb!x!}\\verb|1,|\\phantom{\\verb!x!}\\verb|1,|\\phantom{\\verb!x!}\\verb|0,|\\phantom{\\verb!x!}\\verb|1]|, \\left\\{\\verb|mon| : \\left(\\begin{array}{rr}\n",
       "2 \\, l & -2 \\, l^{2} + 1 \\\\\n",
       "-1 & l\n",
       "\\end{array}\\right), \\verb|sol| : \\left[\\right], \\verb|trace| : \\left[\\right]\\right\\}\\right)\n",
       "\\end{math}"
      ],
      "text/plain": [
       "('[0, 0, 0, 1, 1, 0, 1]',\n",
       " {'mon': [       2*l -2*l^2 + 1]\n",
       "  [        -1          l], 'sol': [], 'trace': []})"
      ]
     },
     "metadata": {},
     "output_type": "display_data"
    },
    {
     "data": {
      "text/html": [
       "<html><script type=\"math/tex; mode=display\">\\newcommand{\\Bold}[1]{\\mathbf{#1}}\\left(\\verb|[1,|\\phantom{\\verb!x!}\\verb|0,|\\phantom{\\verb!x!}\\verb|0,|\\phantom{\\verb!x!}\\verb|1,|\\phantom{\\verb!x!}\\verb|1,|\\phantom{\\verb!x!}\\verb|0,|\\phantom{\\verb!x!}\\verb|1]|, \\left\\{\\verb|mon| : \\left(\\begin{array}{rr}\n",
       "-2 \\, l^{3} + 3 \\, l & -2 \\, l^{2} + 1 \\\\\n",
       "l^{2} - 1 & l\n",
       "\\end{array}\\right), \\verb|sol| : \\left[-1, 1\\right], \\verb|trace| : \\left[-2, 2\\right]\\right\\}\\right)</script></html>"
      ],
      "text/latex": [
       "\\begin{math}\n",
       "\\newcommand{\\Bold}[1]{\\mathbf{#1}}\\left(\\verb|[1,|\\phantom{\\verb!x!}\\verb|0,|\\phantom{\\verb!x!}\\verb|0,|\\phantom{\\verb!x!}\\verb|1,|\\phantom{\\verb!x!}\\verb|1,|\\phantom{\\verb!x!}\\verb|0,|\\phantom{\\verb!x!}\\verb|1]|, \\left\\{\\verb|mon| : \\left(\\begin{array}{rr}\n",
       "-2 \\, l^{3} + 3 \\, l & -2 \\, l^{2} + 1 \\\\\n",
       "l^{2} - 1 & l\n",
       "\\end{array}\\right), \\verb|sol| : \\left[-1, 1\\right], \\verb|trace| : \\left[-2, 2\\right]\\right\\}\\right)\n",
       "\\end{math}"
      ],
      "text/plain": [
       "('[1, 0, 0, 1, 1, 0, 1]',\n",
       " {'mon': [-2*l^3 + 3*l   -2*l^2 + 1]\n",
       "  [     l^2 - 1            l], 'sol': [-1, 1], 'trace': [-2, 2]})"
      ]
     },
     "metadata": {},
     "output_type": "display_data"
    },
    {
     "data": {
      "text/html": [
       "<html><script type=\"math/tex; mode=display\">\\newcommand{\\Bold}[1]{\\mathbf{#1}}\\left(\\verb|[0,|\\phantom{\\verb!x!}\\verb|1,|\\phantom{\\verb!x!}\\verb|0,|\\phantom{\\verb!x!}\\verb|1,|\\phantom{\\verb!x!}\\verb|1,|\\phantom{\\verb!x!}\\verb|0,|\\phantom{\\verb!x!}\\verb|1]|, \\left\\{\\verb|mon| : \\left(\\begin{array}{rr}\n",
       "2 \\, l & -4 \\, l^{2} + 1 \\\\\n",
       "-1 & 2 \\, l\n",
       "\\end{array}\\right), \\verb|sol| : \\left[\\right], \\verb|trace| : \\left[\\right]\\right\\}\\right)</script></html>"
      ],
      "text/latex": [
       "\\begin{math}\n",
       "\\newcommand{\\Bold}[1]{\\mathbf{#1}}\\left(\\verb|[0,|\\phantom{\\verb!x!}\\verb|1,|\\phantom{\\verb!x!}\\verb|0,|\\phantom{\\verb!x!}\\verb|1,|\\phantom{\\verb!x!}\\verb|1,|\\phantom{\\verb!x!}\\verb|0,|\\phantom{\\verb!x!}\\verb|1]|, \\left\\{\\verb|mon| : \\left(\\begin{array}{rr}\n",
       "2 \\, l & -4 \\, l^{2} + 1 \\\\\n",
       "-1 & 2 \\, l\n",
       "\\end{array}\\right), \\verb|sol| : \\left[\\right], \\verb|trace| : \\left[\\right]\\right\\}\\right)\n",
       "\\end{math}"
      ],
      "text/plain": [
       "('[0, 1, 0, 1, 1, 0, 1]',\n",
       " {'mon': [       2*l -4*l^2 + 1]\n",
       "  [        -1        2*l], 'sol': [], 'trace': []})"
      ]
     },
     "metadata": {},
     "output_type": "display_data"
    },
    {
     "data": {
      "text/html": [
       "<html><script type=\"math/tex; mode=display\">\\newcommand{\\Bold}[1]{\\mathbf{#1}}\\left(\\verb|[1,|\\phantom{\\verb!x!}\\verb|1,|\\phantom{\\verb!x!}\\verb|0,|\\phantom{\\verb!x!}\\verb|1,|\\phantom{\\verb!x!}\\verb|1,|\\phantom{\\verb!x!}\\verb|0,|\\phantom{\\verb!x!}\\verb|1]|, \\left\\{\\verb|mon| : \\left(\\begin{array}{rr}\n",
       "-4 \\, l^{3} + 3 \\, l & -4 \\, l^{2} + 1 \\\\\n",
       "2 \\, l^{2} - 1 & 2 \\, l\n",
       "\\end{array}\\right), \\verb|sol| : \\left[-\\frac{1}{2} \\, \\sqrt{2}, \\frac{1}{2} \\, \\sqrt{2}\\right], \\verb|trace| : \\left[-\\frac{3}{2} \\, \\sqrt{2}, \\frac{3}{2} \\, \\sqrt{2}\\right]\\right\\}\\right)</script></html>"
      ],
      "text/latex": [
       "\\begin{math}\n",
       "\\newcommand{\\Bold}[1]{\\mathbf{#1}}\\left(\\verb|[1,|\\phantom{\\verb!x!}\\verb|1,|\\phantom{\\verb!x!}\\verb|0,|\\phantom{\\verb!x!}\\verb|1,|\\phantom{\\verb!x!}\\verb|1,|\\phantom{\\verb!x!}\\verb|0,|\\phantom{\\verb!x!}\\verb|1]|, \\left\\{\\verb|mon| : \\left(\\begin{array}{rr}\n",
       "-4 \\, l^{3} + 3 \\, l & -4 \\, l^{2} + 1 \\\\\n",
       "2 \\, l^{2} - 1 & 2 \\, l\n",
       "\\end{array}\\right), \\verb|sol| : \\left[-\\frac{1}{2} \\, \\sqrt{2}, \\frac{1}{2} \\, \\sqrt{2}\\right], \\verb|trace| : \\left[-\\frac{3}{2} \\, \\sqrt{2}, \\frac{3}{2} \\, \\sqrt{2}\\right]\\right\\}\\right)\n",
       "\\end{math}"
      ],
      "text/plain": [
       "('[1, 1, 0, 1, 1, 0, 1]',\n",
       " {'mon': [-4*l^3 + 3*l   -4*l^2 + 1]\n",
       "  [   2*l^2 - 1          2*l],\n",
       "  'sol': [-1/2*sqrt(2), 1/2*sqrt(2)],\n",
       "  'trace': [-3/2*sqrt(2), 3/2*sqrt(2)]})"
      ]
     },
     "metadata": {},
     "output_type": "display_data"
    },
    {
     "data": {
      "text/html": [
       "<html><script type=\"math/tex; mode=display\">\\newcommand{\\Bold}[1]{\\mathbf{#1}}\\left(\\verb|[0,|\\phantom{\\verb!x!}\\verb|0,|\\phantom{\\verb!x!}\\verb|1,|\\phantom{\\verb!x!}\\verb|1,|\\phantom{\\verb!x!}\\verb|1,|\\phantom{\\verb!x!}\\verb|0,|\\phantom{\\verb!x!}\\verb|1]|, \\left\\{\\verb|mon| : \\left(\\begin{array}{rr}\n",
       "-2 \\, l^{3} + 3 \\, l & -2 \\, l^{2} + 1 \\\\\n",
       "l^{2} - 1 & l\n",
       "\\end{array}\\right), \\verb|sol| : \\left[-1, 1\\right], \\verb|trace| : \\left[-2, 2\\right]\\right\\}\\right)</script></html>"
      ],
      "text/latex": [
       "\\begin{math}\n",
       "\\newcommand{\\Bold}[1]{\\mathbf{#1}}\\left(\\verb|[0,|\\phantom{\\verb!x!}\\verb|0,|\\phantom{\\verb!x!}\\verb|1,|\\phantom{\\verb!x!}\\verb|1,|\\phantom{\\verb!x!}\\verb|1,|\\phantom{\\verb!x!}\\verb|0,|\\phantom{\\verb!x!}\\verb|1]|, \\left\\{\\verb|mon| : \\left(\\begin{array}{rr}\n",
       "-2 \\, l^{3} + 3 \\, l & -2 \\, l^{2} + 1 \\\\\n",
       "l^{2} - 1 & l\n",
       "\\end{array}\\right), \\verb|sol| : \\left[-1, 1\\right], \\verb|trace| : \\left[-2, 2\\right]\\right\\}\\right)\n",
       "\\end{math}"
      ],
      "text/plain": [
       "('[0, 0, 1, 1, 1, 0, 1]',\n",
       " {'mon': [-2*l^3 + 3*l   -2*l^2 + 1]\n",
       "  [     l^2 - 1            l], 'sol': [-1, 1], 'trace': [-2, 2]})"
      ]
     },
     "metadata": {},
     "output_type": "display_data"
    },
    {
     "data": {
      "text/html": [
       "<html><script type=\"math/tex; mode=display\">\\newcommand{\\Bold}[1]{\\mathbf{#1}}\\left(\\verb|[1,|\\phantom{\\verb!x!}\\verb|0,|\\phantom{\\verb!x!}\\verb|1,|\\phantom{\\verb!x!}\\verb|1,|\\phantom{\\verb!x!}\\verb|1,|\\phantom{\\verb!x!}\\verb|0,|\\phantom{\\verb!x!}\\verb|1]|, \\left\\{\\verb|mon| : \\left(\\begin{array}{rr}\n",
       "-4 \\, l^{3} + 4 \\, l & -2 \\, l^{2} + 1 \\\\\n",
       "2 \\, l^{2} - 1 & l\n",
       "\\end{array}\\right), \\verb|sol| : \\left[-\\frac{1}{2} \\, \\sqrt{2}, \\frac{1}{2} \\, \\sqrt{2}\\right], \\verb|trace| : \\left[-\\frac{3}{2} \\, \\sqrt{2}, \\frac{3}{2} \\, \\sqrt{2}\\right]\\right\\}\\right)</script></html>"
      ],
      "text/latex": [
       "\\begin{math}\n",
       "\\newcommand{\\Bold}[1]{\\mathbf{#1}}\\left(\\verb|[1,|\\phantom{\\verb!x!}\\verb|0,|\\phantom{\\verb!x!}\\verb|1,|\\phantom{\\verb!x!}\\verb|1,|\\phantom{\\verb!x!}\\verb|1,|\\phantom{\\verb!x!}\\verb|0,|\\phantom{\\verb!x!}\\verb|1]|, \\left\\{\\verb|mon| : \\left(\\begin{array}{rr}\n",
       "-4 \\, l^{3} + 4 \\, l & -2 \\, l^{2} + 1 \\\\\n",
       "2 \\, l^{2} - 1 & l\n",
       "\\end{array}\\right), \\verb|sol| : \\left[-\\frac{1}{2} \\, \\sqrt{2}, \\frac{1}{2} \\, \\sqrt{2}\\right], \\verb|trace| : \\left[-\\frac{3}{2} \\, \\sqrt{2}, \\frac{3}{2} \\, \\sqrt{2}\\right]\\right\\}\\right)\n",
       "\\end{math}"
      ],
      "text/plain": [
       "('[1, 0, 1, 1, 1, 0, 1]',\n",
       " {'mon': [-4*l^3 + 4*l   -2*l^2 + 1]\n",
       "  [   2*l^2 - 1            l],\n",
       "  'sol': [-1/2*sqrt(2), 1/2*sqrt(2)],\n",
       "  'trace': [-3/2*sqrt(2), 3/2*sqrt(2)]})"
      ]
     },
     "metadata": {},
     "output_type": "display_data"
    },
    {
     "data": {
      "text/html": [
       "<html><script type=\"math/tex; mode=display\">\\newcommand{\\Bold}[1]{\\mathbf{#1}}\\left(\\verb|[0,|\\phantom{\\verb!x!}\\verb|1,|\\phantom{\\verb!x!}\\verb|1,|\\phantom{\\verb!x!}\\verb|1,|\\phantom{\\verb!x!}\\verb|1,|\\phantom{\\verb!x!}\\verb|0,|\\phantom{\\verb!x!}\\verb|1]|, \\left\\{\\verb|mon| : \\left(\\begin{array}{rr}\n",
       "-2 \\, l^{3} + 3 \\, l & 2 \\, l^{4} - 5 \\, l^{2} + 1 \\\\\n",
       "l^{2} - 1 & -l^{3} + 2 \\, l\n",
       "\\end{array}\\right), \\verb|sol| : \\left[-1, 1\\right], \\verb|trace| : \\left[-2, 2\\right]\\right\\}\\right)</script></html>"
      ],
      "text/latex": [
       "\\begin{math}\n",
       "\\newcommand{\\Bold}[1]{\\mathbf{#1}}\\left(\\verb|[0,|\\phantom{\\verb!x!}\\verb|1,|\\phantom{\\verb!x!}\\verb|1,|\\phantom{\\verb!x!}\\verb|1,|\\phantom{\\verb!x!}\\verb|1,|\\phantom{\\verb!x!}\\verb|0,|\\phantom{\\verb!x!}\\verb|1]|, \\left\\{\\verb|mon| : \\left(\\begin{array}{rr}\n",
       "-2 \\, l^{3} + 3 \\, l & 2 \\, l^{4} - 5 \\, l^{2} + 1 \\\\\n",
       "l^{2} - 1 & -l^{3} + 2 \\, l\n",
       "\\end{array}\\right), \\verb|sol| : \\left[-1, 1\\right], \\verb|trace| : \\left[-2, 2\\right]\\right\\}\\right)\n",
       "\\end{math}"
      ],
      "text/plain": [
       "('[0, 1, 1, 1, 1, 0, 1]',\n",
       " {'mon': [     -2*l^3 + 3*l 2*l^4 - 5*l^2 + 1]\n",
       "  [          l^2 - 1        -l^3 + 2*l], 'sol': [-1, 1], 'trace': [-2, 2]})"
      ]
     },
     "metadata": {},
     "output_type": "display_data"
    },
    {
     "data": {
      "text/html": [
       "<html><script type=\"math/tex; mode=display\">\\newcommand{\\Bold}[1]{\\mathbf{#1}}\\left(\\verb|[1,|\\phantom{\\verb!x!}\\verb|1,|\\phantom{\\verb!x!}\\verb|1,|\\phantom{\\verb!x!}\\verb|1,|\\phantom{\\verb!x!}\\verb|1,|\\phantom{\\verb!x!}\\verb|0,|\\phantom{\\verb!x!}\\verb|1]|, \\left\\{\\verb|mon| : \\left(\\begin{array}{rr}\n",
       "2 \\, l^{5} - 7 \\, l^{3} + 4 \\, l & 2 \\, l^{4} - 5 \\, l^{2} + 1 \\\\\n",
       "-l^{4} + 3 \\, l^{2} - 1 & -l^{3} + 2 \\, l\n",
       "\\end{array}\\right), \\verb|sol| : \\left[-\\sqrt{\\frac{1}{2} \\, \\sqrt{5} + \\frac{3}{2}}, -\\sqrt{-\\frac{1}{2} \\, \\sqrt{5} + \\frac{3}{2}}, \\sqrt{-\\frac{1}{2} \\, \\sqrt{5} + \\frac{3}{2}}, \\sqrt{\\frac{1}{2} \\, \\sqrt{5} + \\frac{3}{2}}\\right], \\verb|trace| : \\left[-2 \\, {\\left(\\frac{1}{2} \\, \\sqrt{5} + \\frac{3}{2}\\right)}^{\\frac{5}{2}} + 8 \\, {\\left(\\frac{1}{2} \\, \\sqrt{5} + \\frac{3}{2}\\right)}^{\\frac{3}{2}} - 6 \\, \\sqrt{\\frac{1}{2} \\, \\sqrt{5} + \\frac{3}{2}}, -2 \\, {\\left(-\\frac{1}{2} \\, \\sqrt{5} + \\frac{3}{2}\\right)}^{\\frac{5}{2}} + 8 \\, {\\left(-\\frac{1}{2} \\, \\sqrt{5} + \\frac{3}{2}\\right)}^{\\frac{3}{2}} - 6 \\, \\sqrt{-\\frac{1}{2} \\, \\sqrt{5} + \\frac{3}{2}}, 2 \\, {\\left(-\\frac{1}{2} \\, \\sqrt{5} + \\frac{3}{2}\\right)}^{\\frac{5}{2}} - 8 \\, {\\left(-\\frac{1}{2} \\, \\sqrt{5} + \\frac{3}{2}\\right)}^{\\frac{3}{2}} + 6 \\, \\sqrt{-\\frac{1}{2} \\, \\sqrt{5} + \\frac{3}{2}}, 2 \\, {\\left(\\frac{1}{2} \\, \\sqrt{5} + \\frac{3}{2}\\right)}^{\\frac{5}{2}} - 8 \\, {\\left(\\frac{1}{2} \\, \\sqrt{5} + \\frac{3}{2}\\right)}^{\\frac{3}{2}} + 6 \\, \\sqrt{\\frac{1}{2} \\, \\sqrt{5} + \\frac{3}{2}}\\right]\\right\\}\\right)</script></html>"
      ],
      "text/latex": [
       "\\begin{math}\n",
       "\\newcommand{\\Bold}[1]{\\mathbf{#1}}\\left(\\verb|[1,|\\phantom{\\verb!x!}\\verb|1,|\\phantom{\\verb!x!}\\verb|1,|\\phantom{\\verb!x!}\\verb|1,|\\phantom{\\verb!x!}\\verb|1,|\\phantom{\\verb!x!}\\verb|0,|\\phantom{\\verb!x!}\\verb|1]|, \\left\\{\\verb|mon| : \\left(\\begin{array}{rr}\n",
       "2 \\, l^{5} - 7 \\, l^{3} + 4 \\, l & 2 \\, l^{4} - 5 \\, l^{2} + 1 \\\\\n",
       "-l^{4} + 3 \\, l^{2} - 1 & -l^{3} + 2 \\, l\n",
       "\\end{array}\\right), \\verb|sol| : \\left[-\\sqrt{\\frac{1}{2} \\, \\sqrt{5} + \\frac{3}{2}}, -\\sqrt{-\\frac{1}{2} \\, \\sqrt{5} + \\frac{3}{2}}, \\sqrt{-\\frac{1}{2} \\, \\sqrt{5} + \\frac{3}{2}}, \\sqrt{\\frac{1}{2} \\, \\sqrt{5} + \\frac{3}{2}}\\right], \\verb|trace| : \\left[-2 \\, {\\left(\\frac{1}{2} \\, \\sqrt{5} + \\frac{3}{2}\\right)}^{\\frac{5}{2}} + 8 \\, {\\left(\\frac{1}{2} \\, \\sqrt{5} + \\frac{3}{2}\\right)}^{\\frac{3}{2}} - 6 \\, \\sqrt{\\frac{1}{2} \\, \\sqrt{5} + \\frac{3}{2}}, -2 \\, {\\left(-\\frac{1}{2} \\, \\sqrt{5} + \\frac{3}{2}\\right)}^{\\frac{5}{2}} + 8 \\, {\\left(-\\frac{1}{2} \\, \\sqrt{5} + \\frac{3}{2}\\right)}^{\\frac{3}{2}} - 6 \\, \\sqrt{-\\frac{1}{2} \\, \\sqrt{5} + \\frac{3}{2}}, 2 \\, {\\left(-\\frac{1}{2} \\, \\sqrt{5} + \\frac{3}{2}\\right)}^{\\frac{5}{2}} - 8 \\, {\\left(-\\frac{1}{2} \\, \\sqrt{5} + \\frac{3}{2}\\right)}^{\\frac{3}{2}} + 6 \\, \\sqrt{-\\frac{1}{2} \\, \\sqrt{5} + \\frac{3}{2}}, 2 \\, {\\left(\\frac{1}{2} \\, \\sqrt{5} + \\frac{3}{2}\\right)}^{\\frac{5}{2}} - 8 \\, {\\left(\\frac{1}{2} \\, \\sqrt{5} + \\frac{3}{2}\\right)}^{\\frac{3}{2}} + 6 \\, \\sqrt{\\frac{1}{2} \\, \\sqrt{5} + \\frac{3}{2}}\\right]\\right\\}\\right)\n",
       "\\end{math}"
      ],
      "text/plain": [
       "('[1, 1, 1, 1, 1, 0, 1]',\n",
       " {'mon': [2*l^5 - 7*l^3 + 4*l   2*l^4 - 5*l^2 + 1]\n",
       "  [   -l^4 + 3*l^2 - 1          -l^3 + 2*l],\n",
       "  'sol': [-sqrt(1/2*sqrt(5) + 3/2),\n",
       "   -sqrt(-1/2*sqrt(5) + 3/2),\n",
       "   sqrt(-1/2*sqrt(5) + 3/2),\n",
       "   sqrt(1/2*sqrt(5) + 3/2)],\n",
       "  'trace': [-2*(1/2*sqrt(5) + 3/2)^(5/2) + 8*(1/2*sqrt(5) + 3/2)^(3/2) - 6*sqrt(1/2*sqrt(5) + 3/2),\n",
       "   -2*(-1/2*sqrt(5) + 3/2)^(5/2) + 8*(-1/2*sqrt(5) + 3/2)^(3/2) - 6*sqrt(-1/2*sqrt(5) + 3/2),\n",
       "   2*(-1/2*sqrt(5) + 3/2)^(5/2) - 8*(-1/2*sqrt(5) + 3/2)^(3/2) + 6*sqrt(-1/2*sqrt(5) + 3/2),\n",
       "   2*(1/2*sqrt(5) + 3/2)^(5/2) - 8*(1/2*sqrt(5) + 3/2)^(3/2) + 6*sqrt(1/2*sqrt(5) + 3/2)]})"
      ]
     },
     "metadata": {},
     "output_type": "display_data"
    },
    {
     "data": {
      "text/html": [
       "<html><script type=\"math/tex; mode=display\">\\newcommand{\\Bold}[1]{\\mathbf{#1}}\\left(\\verb|[0,|\\phantom{\\verb!x!}\\verb|0,|\\phantom{\\verb!x!}\\verb|0,|\\phantom{\\verb!x!}\\verb|0,|\\phantom{\\verb!x!}\\verb|0,|\\phantom{\\verb!x!}\\verb|1,|\\phantom{\\verb!x!}\\verb|1]|, \\left\\{\\verb|mon| : \\left(\\begin{array}{rr}\n",
       "l & -l^{2} + 1 \\\\\n",
       "-1 & l\n",
       "\\end{array}\\right), \\verb|sol| : \\left[\\right], \\verb|trace| : \\left[\\right]\\right\\}\\right)</script></html>"
      ],
      "text/latex": [
       "\\begin{math}\n",
       "\\newcommand{\\Bold}[1]{\\mathbf{#1}}\\left(\\verb|[0,|\\phantom{\\verb!x!}\\verb|0,|\\phantom{\\verb!x!}\\verb|0,|\\phantom{\\verb!x!}\\verb|0,|\\phantom{\\verb!x!}\\verb|0,|\\phantom{\\verb!x!}\\verb|1,|\\phantom{\\verb!x!}\\verb|1]|, \\left\\{\\verb|mon| : \\left(\\begin{array}{rr}\n",
       "l & -l^{2} + 1 \\\\\n",
       "-1 & l\n",
       "\\end{array}\\right), \\verb|sol| : \\left[\\right], \\verb|trace| : \\left[\\right]\\right\\}\\right)\n",
       "\\end{math}"
      ],
      "text/plain": [
       "('[0, 0, 0, 0, 0, 1, 1]',\n",
       " {'mon': [       l -l^2 + 1]\n",
       "  [      -1        l], 'sol': [], 'trace': []})"
      ]
     },
     "metadata": {},
     "output_type": "display_data"
    },
    {
     "data": {
      "text/html": [
       "<html><script type=\"math/tex; mode=display\">\\newcommand{\\Bold}[1]{\\mathbf{#1}}\\left(\\verb|[1,|\\phantom{\\verb!x!}\\verb|0,|\\phantom{\\verb!x!}\\verb|0,|\\phantom{\\verb!x!}\\verb|0,|\\phantom{\\verb!x!}\\verb|0,|\\phantom{\\verb!x!}\\verb|1,|\\phantom{\\verb!x!}\\verb|1]|, \\left\\{\\verb|mon| : \\left(\\begin{array}{rr}\n",
       "-l^{3} + 2 \\, l & -l^{2} + 1 \\\\\n",
       "l^{2} - 1 & l\n",
       "\\end{array}\\right), \\verb|sol| : \\left[-1, 1\\right], \\verb|trace| : \\left[-2, 2\\right]\\right\\}\\right)</script></html>"
      ],
      "text/latex": [
       "\\begin{math}\n",
       "\\newcommand{\\Bold}[1]{\\mathbf{#1}}\\left(\\verb|[1,|\\phantom{\\verb!x!}\\verb|0,|\\phantom{\\verb!x!}\\verb|0,|\\phantom{\\verb!x!}\\verb|0,|\\phantom{\\verb!x!}\\verb|0,|\\phantom{\\verb!x!}\\verb|1,|\\phantom{\\verb!x!}\\verb|1]|, \\left\\{\\verb|mon| : \\left(\\begin{array}{rr}\n",
       "-l^{3} + 2 \\, l & -l^{2} + 1 \\\\\n",
       "l^{2} - 1 & l\n",
       "\\end{array}\\right), \\verb|sol| : \\left[-1, 1\\right], \\verb|trace| : \\left[-2, 2\\right]\\right\\}\\right)\n",
       "\\end{math}"
      ],
      "text/plain": [
       "('[1, 0, 0, 0, 0, 1, 1]',\n",
       " {'mon': [-l^3 + 2*l   -l^2 + 1]\n",
       "  [   l^2 - 1          l], 'sol': [-1, 1], 'trace': [-2, 2]})"
      ]
     },
     "metadata": {},
     "output_type": "display_data"
    },
    {
     "data": {
      "text/html": [
       "<html><script type=\"math/tex; mode=display\">\\newcommand{\\Bold}[1]{\\mathbf{#1}}\\left(\\verb|[0,|\\phantom{\\verb!x!}\\verb|1,|\\phantom{\\verb!x!}\\verb|0,|\\phantom{\\verb!x!}\\verb|0,|\\phantom{\\verb!x!}\\verb|0,|\\phantom{\\verb!x!}\\verb|1,|\\phantom{\\verb!x!}\\verb|1]|, \\left\\{\\verb|mon| : \\left(\\begin{array}{rr}\n",
       "l & -2 \\, l^{2} + 1 \\\\\n",
       "-1 & 2 \\, l\n",
       "\\end{array}\\right), \\verb|sol| : \\left[\\right], \\verb|trace| : \\left[\\right]\\right\\}\\right)</script></html>"
      ],
      "text/latex": [
       "\\begin{math}\n",
       "\\newcommand{\\Bold}[1]{\\mathbf{#1}}\\left(\\verb|[0,|\\phantom{\\verb!x!}\\verb|1,|\\phantom{\\verb!x!}\\verb|0,|\\phantom{\\verb!x!}\\verb|0,|\\phantom{\\verb!x!}\\verb|0,|\\phantom{\\verb!x!}\\verb|1,|\\phantom{\\verb!x!}\\verb|1]|, \\left\\{\\verb|mon| : \\left(\\begin{array}{rr}\n",
       "l & -2 \\, l^{2} + 1 \\\\\n",
       "-1 & 2 \\, l\n",
       "\\end{array}\\right), \\verb|sol| : \\left[\\right], \\verb|trace| : \\left[\\right]\\right\\}\\right)\n",
       "\\end{math}"
      ],
      "text/plain": [
       "('[0, 1, 0, 0, 0, 1, 1]',\n",
       " {'mon': [         l -2*l^2 + 1]\n",
       "  [        -1        2*l], 'sol': [], 'trace': []})"
      ]
     },
     "metadata": {},
     "output_type": "display_data"
    },
    {
     "data": {
      "text/html": [
       "<html><script type=\"math/tex; mode=display\">\\newcommand{\\Bold}[1]{\\mathbf{#1}}\\left(\\verb|[1,|\\phantom{\\verb!x!}\\verb|1,|\\phantom{\\verb!x!}\\verb|0,|\\phantom{\\verb!x!}\\verb|0,|\\phantom{\\verb!x!}\\verb|0,|\\phantom{\\verb!x!}\\verb|1,|\\phantom{\\verb!x!}\\verb|1]|, \\left\\{\\verb|mon| : \\left(\\begin{array}{rr}\n",
       "-2 \\, l^{3} + 2 \\, l & -2 \\, l^{2} + 1 \\\\\n",
       "2 \\, l^{2} - 1 & 2 \\, l\n",
       "\\end{array}\\right), \\verb|sol| : \\left[-\\frac{1}{2} \\, \\sqrt{2}, \\frac{1}{2} \\, \\sqrt{2}\\right], \\verb|trace| : \\left[-\\frac{3}{2} \\, \\sqrt{2}, \\frac{3}{2} \\, \\sqrt{2}\\right]\\right\\}\\right)</script></html>"
      ],
      "text/latex": [
       "\\begin{math}\n",
       "\\newcommand{\\Bold}[1]{\\mathbf{#1}}\\left(\\verb|[1,|\\phantom{\\verb!x!}\\verb|1,|\\phantom{\\verb!x!}\\verb|0,|\\phantom{\\verb!x!}\\verb|0,|\\phantom{\\verb!x!}\\verb|0,|\\phantom{\\verb!x!}\\verb|1,|\\phantom{\\verb!x!}\\verb|1]|, \\left\\{\\verb|mon| : \\left(\\begin{array}{rr}\n",
       "-2 \\, l^{3} + 2 \\, l & -2 \\, l^{2} + 1 \\\\\n",
       "2 \\, l^{2} - 1 & 2 \\, l\n",
       "\\end{array}\\right), \\verb|sol| : \\left[-\\frac{1}{2} \\, \\sqrt{2}, \\frac{1}{2} \\, \\sqrt{2}\\right], \\verb|trace| : \\left[-\\frac{3}{2} \\, \\sqrt{2}, \\frac{3}{2} \\, \\sqrt{2}\\right]\\right\\}\\right)\n",
       "\\end{math}"
      ],
      "text/plain": [
       "('[1, 1, 0, 0, 0, 1, 1]',\n",
       " {'mon': [-2*l^3 + 2*l   -2*l^2 + 1]\n",
       "  [   2*l^2 - 1          2*l],\n",
       "  'sol': [-1/2*sqrt(2), 1/2*sqrt(2)],\n",
       "  'trace': [-3/2*sqrt(2), 3/2*sqrt(2)]})"
      ]
     },
     "metadata": {},
     "output_type": "display_data"
    },
    {
     "data": {
      "text/html": [
       "<html><script type=\"math/tex; mode=display\">\\newcommand{\\Bold}[1]{\\mathbf{#1}}\\left(\\verb|[0,|\\phantom{\\verb!x!}\\verb|0,|\\phantom{\\verb!x!}\\verb|1,|\\phantom{\\verb!x!}\\verb|0,|\\phantom{\\verb!x!}\\verb|0,|\\phantom{\\verb!x!}\\verb|1,|\\phantom{\\verb!x!}\\verb|1]|, \\left\\{\\verb|mon| : \\left(\\begin{array}{rr}\n",
       "-l^{3} + 2 \\, l & -l^{2} + 1 \\\\\n",
       "l^{2} - 1 & l\n",
       "\\end{array}\\right), \\verb|sol| : \\left[-1, 1\\right], \\verb|trace| : \\left[-2, 2\\right]\\right\\}\\right)</script></html>"
      ],
      "text/latex": [
       "\\begin{math}\n",
       "\\newcommand{\\Bold}[1]{\\mathbf{#1}}\\left(\\verb|[0,|\\phantom{\\verb!x!}\\verb|0,|\\phantom{\\verb!x!}\\verb|1,|\\phantom{\\verb!x!}\\verb|0,|\\phantom{\\verb!x!}\\verb|0,|\\phantom{\\verb!x!}\\verb|1,|\\phantom{\\verb!x!}\\verb|1]|, \\left\\{\\verb|mon| : \\left(\\begin{array}{rr}\n",
       "-l^{3} + 2 \\, l & -l^{2} + 1 \\\\\n",
       "l^{2} - 1 & l\n",
       "\\end{array}\\right), \\verb|sol| : \\left[-1, 1\\right], \\verb|trace| : \\left[-2, 2\\right]\\right\\}\\right)\n",
       "\\end{math}"
      ],
      "text/plain": [
       "('[0, 0, 1, 0, 0, 1, 1]',\n",
       " {'mon': [-l^3 + 2*l   -l^2 + 1]\n",
       "  [   l^2 - 1          l], 'sol': [-1, 1], 'trace': [-2, 2]})"
      ]
     },
     "metadata": {},
     "output_type": "display_data"
    },
    {
     "data": {
      "text/html": [
       "<html><script type=\"math/tex; mode=display\">\\newcommand{\\Bold}[1]{\\mathbf{#1}}\\left(\\verb|[1,|\\phantom{\\verb!x!}\\verb|0,|\\phantom{\\verb!x!}\\verb|1,|\\phantom{\\verb!x!}\\verb|0,|\\phantom{\\verb!x!}\\verb|0,|\\phantom{\\verb!x!}\\verb|1,|\\phantom{\\verb!x!}\\verb|1]|, \\left\\{\\verb|mon| : \\left(\\begin{array}{rr}\n",
       "-2 \\, l^{3} + 3 \\, l & -l^{2} + 1 \\\\\n",
       "2 \\, l^{2} - 1 & l\n",
       "\\end{array}\\right), \\verb|sol| : \\left[-\\frac{1}{2} \\, \\sqrt{2}, \\frac{1}{2} \\, \\sqrt{2}\\right], \\verb|trace| : \\left[-\\frac{3}{2} \\, \\sqrt{2}, \\frac{3}{2} \\, \\sqrt{2}\\right]\\right\\}\\right)</script></html>"
      ],
      "text/latex": [
       "\\begin{math}\n",
       "\\newcommand{\\Bold}[1]{\\mathbf{#1}}\\left(\\verb|[1,|\\phantom{\\verb!x!}\\verb|0,|\\phantom{\\verb!x!}\\verb|1,|\\phantom{\\verb!x!}\\verb|0,|\\phantom{\\verb!x!}\\verb|0,|\\phantom{\\verb!x!}\\verb|1,|\\phantom{\\verb!x!}\\verb|1]|, \\left\\{\\verb|mon| : \\left(\\begin{array}{rr}\n",
       "-2 \\, l^{3} + 3 \\, l & -l^{2} + 1 \\\\\n",
       "2 \\, l^{2} - 1 & l\n",
       "\\end{array}\\right), \\verb|sol| : \\left[-\\frac{1}{2} \\, \\sqrt{2}, \\frac{1}{2} \\, \\sqrt{2}\\right], \\verb|trace| : \\left[-\\frac{3}{2} \\, \\sqrt{2}, \\frac{3}{2} \\, \\sqrt{2}\\right]\\right\\}\\right)\n",
       "\\end{math}"
      ],
      "text/plain": [
       "('[1, 0, 1, 0, 0, 1, 1]',\n",
       " {'mon': [-2*l^3 + 3*l     -l^2 + 1]\n",
       "  [   2*l^2 - 1            l],\n",
       "  'sol': [-1/2*sqrt(2), 1/2*sqrt(2)],\n",
       "  'trace': [-3/2*sqrt(2), 3/2*sqrt(2)]})"
      ]
     },
     "metadata": {},
     "output_type": "display_data"
    },
    {
     "data": {
      "text/html": [
       "<html><script type=\"math/tex; mode=display\">\\newcommand{\\Bold}[1]{\\mathbf{#1}}\\left(\\verb|[0,|\\phantom{\\verb!x!}\\verb|1,|\\phantom{\\verb!x!}\\verb|1,|\\phantom{\\verb!x!}\\verb|0,|\\phantom{\\verb!x!}\\verb|0,|\\phantom{\\verb!x!}\\verb|1,|\\phantom{\\verb!x!}\\verb|1]|, \\left\\{\\verb|mon| : \\left(\\begin{array}{rr}\n",
       "-l^{3} + 2 \\, l & l^{4} - 3 \\, l^{2} + 1 \\\\\n",
       "l^{2} - 1 & -l^{3} + 2 \\, l\n",
       "\\end{array}\\right), \\verb|sol| : \\left[-1, 1\\right], \\verb|trace| : \\left[-2, 2\\right]\\right\\}\\right)</script></html>"
      ],
      "text/latex": [
       "\\begin{math}\n",
       "\\newcommand{\\Bold}[1]{\\mathbf{#1}}\\left(\\verb|[0,|\\phantom{\\verb!x!}\\verb|1,|\\phantom{\\verb!x!}\\verb|1,|\\phantom{\\verb!x!}\\verb|0,|\\phantom{\\verb!x!}\\verb|0,|\\phantom{\\verb!x!}\\verb|1,|\\phantom{\\verb!x!}\\verb|1]|, \\left\\{\\verb|mon| : \\left(\\begin{array}{rr}\n",
       "-l^{3} + 2 \\, l & l^{4} - 3 \\, l^{2} + 1 \\\\\n",
       "l^{2} - 1 & -l^{3} + 2 \\, l\n",
       "\\end{array}\\right), \\verb|sol| : \\left[-1, 1\\right], \\verb|trace| : \\left[-2, 2\\right]\\right\\}\\right)\n",
       "\\end{math}"
      ],
      "text/plain": [
       "('[0, 1, 1, 0, 0, 1, 1]',\n",
       " {'mon': [     -l^3 + 2*l l^4 - 3*l^2 + 1]\n",
       "  [        l^2 - 1      -l^3 + 2*l], 'sol': [-1, 1], 'trace': [-2, 2]})"
      ]
     },
     "metadata": {},
     "output_type": "display_data"
    },
    {
     "data": {
      "text/html": [
       "<html><script type=\"math/tex; mode=display\">\\newcommand{\\Bold}[1]{\\mathbf{#1}}\\left(\\verb|[1,|\\phantom{\\verb!x!}\\verb|1,|\\phantom{\\verb!x!}\\verb|1,|\\phantom{\\verb!x!}\\verb|0,|\\phantom{\\verb!x!}\\verb|0,|\\phantom{\\verb!x!}\\verb|1,|\\phantom{\\verb!x!}\\verb|1]|, \\left\\{\\verb|mon| : \\left(\\begin{array}{rr}\n",
       "l^{5} - 4 \\, l^{3} + 3 \\, l & l^{4} - 3 \\, l^{2} + 1 \\\\\n",
       "-l^{4} + 3 \\, l^{2} - 1 & -l^{3} + 2 \\, l\n",
       "\\end{array}\\right), \\verb|sol| : \\left[-\\sqrt{\\frac{1}{2} \\, \\sqrt{5} + \\frac{3}{2}}, -\\sqrt{-\\frac{1}{2} \\, \\sqrt{5} + \\frac{3}{2}}, \\sqrt{-\\frac{1}{2} \\, \\sqrt{5} + \\frac{3}{2}}, \\sqrt{\\frac{1}{2} \\, \\sqrt{5} + \\frac{3}{2}}\\right], \\verb|trace| : \\left[-{\\left(\\frac{1}{2} \\, \\sqrt{5} + \\frac{3}{2}\\right)}^{\\frac{5}{2}} + 5 \\, {\\left(\\frac{1}{2} \\, \\sqrt{5} + \\frac{3}{2}\\right)}^{\\frac{3}{2}} - 5 \\, \\sqrt{\\frac{1}{2} \\, \\sqrt{5} + \\frac{3}{2}}, -{\\left(-\\frac{1}{2} \\, \\sqrt{5} + \\frac{3}{2}\\right)}^{\\frac{5}{2}} + 5 \\, {\\left(-\\frac{1}{2} \\, \\sqrt{5} + \\frac{3}{2}\\right)}^{\\frac{3}{2}} - 5 \\, \\sqrt{-\\frac{1}{2} \\, \\sqrt{5} + \\frac{3}{2}}, {\\left(-\\frac{1}{2} \\, \\sqrt{5} + \\frac{3}{2}\\right)}^{\\frac{5}{2}} - 5 \\, {\\left(-\\frac{1}{2} \\, \\sqrt{5} + \\frac{3}{2}\\right)}^{\\frac{3}{2}} + 5 \\, \\sqrt{-\\frac{1}{2} \\, \\sqrt{5} + \\frac{3}{2}}, {\\left(\\frac{1}{2} \\, \\sqrt{5} + \\frac{3}{2}\\right)}^{\\frac{5}{2}} - 5 \\, {\\left(\\frac{1}{2} \\, \\sqrt{5} + \\frac{3}{2}\\right)}^{\\frac{3}{2}} + 5 \\, \\sqrt{\\frac{1}{2} \\, \\sqrt{5} + \\frac{3}{2}}\\right]\\right\\}\\right)</script></html>"
      ],
      "text/latex": [
       "\\begin{math}\n",
       "\\newcommand{\\Bold}[1]{\\mathbf{#1}}\\left(\\verb|[1,|\\phantom{\\verb!x!}\\verb|1,|\\phantom{\\verb!x!}\\verb|1,|\\phantom{\\verb!x!}\\verb|0,|\\phantom{\\verb!x!}\\verb|0,|\\phantom{\\verb!x!}\\verb|1,|\\phantom{\\verb!x!}\\verb|1]|, \\left\\{\\verb|mon| : \\left(\\begin{array}{rr}\n",
       "l^{5} - 4 \\, l^{3} + 3 \\, l & l^{4} - 3 \\, l^{2} + 1 \\\\\n",
       "-l^{4} + 3 \\, l^{2} - 1 & -l^{3} + 2 \\, l\n",
       "\\end{array}\\right), \\verb|sol| : \\left[-\\sqrt{\\frac{1}{2} \\, \\sqrt{5} + \\frac{3}{2}}, -\\sqrt{-\\frac{1}{2} \\, \\sqrt{5} + \\frac{3}{2}}, \\sqrt{-\\frac{1}{2} \\, \\sqrt{5} + \\frac{3}{2}}, \\sqrt{\\frac{1}{2} \\, \\sqrt{5} + \\frac{3}{2}}\\right], \\verb|trace| : \\left[-{\\left(\\frac{1}{2} \\, \\sqrt{5} + \\frac{3}{2}\\right)}^{\\frac{5}{2}} + 5 \\, {\\left(\\frac{1}{2} \\, \\sqrt{5} + \\frac{3}{2}\\right)}^{\\frac{3}{2}} - 5 \\, \\sqrt{\\frac{1}{2} \\, \\sqrt{5} + \\frac{3}{2}}, -{\\left(-\\frac{1}{2} \\, \\sqrt{5} + \\frac{3}{2}\\right)}^{\\frac{5}{2}} + 5 \\, {\\left(-\\frac{1}{2} \\, \\sqrt{5} + \\frac{3}{2}\\right)}^{\\frac{3}{2}} - 5 \\, \\sqrt{-\\frac{1}{2} \\, \\sqrt{5} + \\frac{3}{2}}, {\\left(-\\frac{1}{2} \\, \\sqrt{5} + \\frac{3}{2}\\right)}^{\\frac{5}{2}} - 5 \\, {\\left(-\\frac{1}{2} \\, \\sqrt{5} + \\frac{3}{2}\\right)}^{\\frac{3}{2}} + 5 \\, \\sqrt{-\\frac{1}{2} \\, \\sqrt{5} + \\frac{3}{2}}, {\\left(\\frac{1}{2} \\, \\sqrt{5} + \\frac{3}{2}\\right)}^{\\frac{5}{2}} - 5 \\, {\\left(\\frac{1}{2} \\, \\sqrt{5} + \\frac{3}{2}\\right)}^{\\frac{3}{2}} + 5 \\, \\sqrt{\\frac{1}{2} \\, \\sqrt{5} + \\frac{3}{2}}\\right]\\right\\}\\right)\n",
       "\\end{math}"
      ],
      "text/plain": [
       "('[1, 1, 1, 0, 0, 1, 1]',\n",
       " {'mon': [l^5 - 4*l^3 + 3*l   l^4 - 3*l^2 + 1]\n",
       "  [ -l^4 + 3*l^2 - 1        -l^3 + 2*l],\n",
       "  'sol': [-sqrt(1/2*sqrt(5) + 3/2),\n",
       "   -sqrt(-1/2*sqrt(5) + 3/2),\n",
       "   sqrt(-1/2*sqrt(5) + 3/2),\n",
       "   sqrt(1/2*sqrt(5) + 3/2)],\n",
       "  'trace': [-(1/2*sqrt(5) + 3/2)^(5/2) + 5*(1/2*sqrt(5) + 3/2)^(3/2) - 5*sqrt(1/2*sqrt(5) + 3/2),\n",
       "   -(-1/2*sqrt(5) + 3/2)^(5/2) + 5*(-1/2*sqrt(5) + 3/2)^(3/2) - 5*sqrt(-1/2*sqrt(5) + 3/2),\n",
       "   (-1/2*sqrt(5) + 3/2)^(5/2) - 5*(-1/2*sqrt(5) + 3/2)^(3/2) + 5*sqrt(-1/2*sqrt(5) + 3/2),\n",
       "   (1/2*sqrt(5) + 3/2)^(5/2) - 5*(1/2*sqrt(5) + 3/2)^(3/2) + 5*sqrt(1/2*sqrt(5) + 3/2)]})"
      ]
     },
     "metadata": {},
     "output_type": "display_data"
    },
    {
     "data": {
      "text/html": [
       "<html><script type=\"math/tex; mode=display\">\\newcommand{\\Bold}[1]{\\mathbf{#1}}\\left(\\verb|[0,|\\phantom{\\verb!x!}\\verb|0,|\\phantom{\\verb!x!}\\verb|0,|\\phantom{\\verb!x!}\\verb|1,|\\phantom{\\verb!x!}\\verb|0,|\\phantom{\\verb!x!}\\verb|1,|\\phantom{\\verb!x!}\\verb|1]|, \\left\\{\\verb|mon| : \\left(\\begin{array}{rr}\n",
       "l & -2 \\, l^{2} + 1 \\\\\n",
       "-1 & 2 \\, l\n",
       "\\end{array}\\right), \\verb|sol| : \\left[\\right], \\verb|trace| : \\left[\\right]\\right\\}\\right)</script></html>"
      ],
      "text/latex": [
       "\\begin{math}\n",
       "\\newcommand{\\Bold}[1]{\\mathbf{#1}}\\left(\\verb|[0,|\\phantom{\\verb!x!}\\verb|0,|\\phantom{\\verb!x!}\\verb|0,|\\phantom{\\verb!x!}\\verb|1,|\\phantom{\\verb!x!}\\verb|0,|\\phantom{\\verb!x!}\\verb|1,|\\phantom{\\verb!x!}\\verb|1]|, \\left\\{\\verb|mon| : \\left(\\begin{array}{rr}\n",
       "l & -2 \\, l^{2} + 1 \\\\\n",
       "-1 & 2 \\, l\n",
       "\\end{array}\\right), \\verb|sol| : \\left[\\right], \\verb|trace| : \\left[\\right]\\right\\}\\right)\n",
       "\\end{math}"
      ],
      "text/plain": [
       "('[0, 0, 0, 1, 0, 1, 1]',\n",
       " {'mon': [         l -2*l^2 + 1]\n",
       "  [        -1        2*l], 'sol': [], 'trace': []})"
      ]
     },
     "metadata": {},
     "output_type": "display_data"
    },
    {
     "data": {
      "text/html": [
       "<html><script type=\"math/tex; mode=display\">\\newcommand{\\Bold}[1]{\\mathbf{#1}}\\left(\\verb|[1,|\\phantom{\\verb!x!}\\verb|0,|\\phantom{\\verb!x!}\\verb|0,|\\phantom{\\verb!x!}\\verb|1,|\\phantom{\\verb!x!}\\verb|0,|\\phantom{\\verb!x!}\\verb|1,|\\phantom{\\verb!x!}\\verb|1]|, \\left\\{\\verb|mon| : \\left(\\begin{array}{rr}\n",
       "-2 \\, l^{3} + 2 \\, l & -2 \\, l^{2} + 1 \\\\\n",
       "2 \\, l^{2} - 1 & 2 \\, l\n",
       "\\end{array}\\right), \\verb|sol| : \\left[-\\frac{1}{2} \\, \\sqrt{2}, \\frac{1}{2} \\, \\sqrt{2}\\right], \\verb|trace| : \\left[-\\frac{3}{2} \\, \\sqrt{2}, \\frac{3}{2} \\, \\sqrt{2}\\right]\\right\\}\\right)</script></html>"
      ],
      "text/latex": [
       "\\begin{math}\n",
       "\\newcommand{\\Bold}[1]{\\mathbf{#1}}\\left(\\verb|[1,|\\phantom{\\verb!x!}\\verb|0,|\\phantom{\\verb!x!}\\verb|0,|\\phantom{\\verb!x!}\\verb|1,|\\phantom{\\verb!x!}\\verb|0,|\\phantom{\\verb!x!}\\verb|1,|\\phantom{\\verb!x!}\\verb|1]|, \\left\\{\\verb|mon| : \\left(\\begin{array}{rr}\n",
       "-2 \\, l^{3} + 2 \\, l & -2 \\, l^{2} + 1 \\\\\n",
       "2 \\, l^{2} - 1 & 2 \\, l\n",
       "\\end{array}\\right), \\verb|sol| : \\left[-\\frac{1}{2} \\, \\sqrt{2}, \\frac{1}{2} \\, \\sqrt{2}\\right], \\verb|trace| : \\left[-\\frac{3}{2} \\, \\sqrt{2}, \\frac{3}{2} \\, \\sqrt{2}\\right]\\right\\}\\right)\n",
       "\\end{math}"
      ],
      "text/plain": [
       "('[1, 0, 0, 1, 0, 1, 1]',\n",
       " {'mon': [-2*l^3 + 2*l   -2*l^2 + 1]\n",
       "  [   2*l^2 - 1          2*l],\n",
       "  'sol': [-1/2*sqrt(2), 1/2*sqrt(2)],\n",
       "  'trace': [-3/2*sqrt(2), 3/2*sqrt(2)]})"
      ]
     },
     "metadata": {},
     "output_type": "display_data"
    },
    {
     "data": {
      "text/html": [
       "<html><script type=\"math/tex; mode=display\">\\newcommand{\\Bold}[1]{\\mathbf{#1}}\\left(\\verb|[0,|\\phantom{\\verb!x!}\\verb|1,|\\phantom{\\verb!x!}\\verb|0,|\\phantom{\\verb!x!}\\verb|1,|\\phantom{\\verb!x!}\\verb|0,|\\phantom{\\verb!x!}\\verb|1,|\\phantom{\\verb!x!}\\verb|1]|, \\left\\{\\verb|mon| : \\left(\\begin{array}{rr}\n",
       "l & -3 \\, l^{2} + 1 \\\\\n",
       "-1 & 3 \\, l\n",
       "\\end{array}\\right), \\verb|sol| : \\left[\\right], \\verb|trace| : \\left[\\right]\\right\\}\\right)</script></html>"
      ],
      "text/latex": [
       "\\begin{math}\n",
       "\\newcommand{\\Bold}[1]{\\mathbf{#1}}\\left(\\verb|[0,|\\phantom{\\verb!x!}\\verb|1,|\\phantom{\\verb!x!}\\verb|0,|\\phantom{\\verb!x!}\\verb|1,|\\phantom{\\verb!x!}\\verb|0,|\\phantom{\\verb!x!}\\verb|1,|\\phantom{\\verb!x!}\\verb|1]|, \\left\\{\\verb|mon| : \\left(\\begin{array}{rr}\n",
       "l & -3 \\, l^{2} + 1 \\\\\n",
       "-1 & 3 \\, l\n",
       "\\end{array}\\right), \\verb|sol| : \\left[\\right], \\verb|trace| : \\left[\\right]\\right\\}\\right)\n",
       "\\end{math}"
      ],
      "text/plain": [
       "('[0, 1, 0, 1, 0, 1, 1]',\n",
       " {'mon': [         l -3*l^2 + 1]\n",
       "  [        -1        3*l], 'sol': [], 'trace': []})"
      ]
     },
     "metadata": {},
     "output_type": "display_data"
    },
    {
     "data": {
      "text/html": [
       "<html><script type=\"math/tex; mode=display\">\\newcommand{\\Bold}[1]{\\mathbf{#1}}\\left(\\verb|[1,|\\phantom{\\verb!x!}\\verb|1,|\\phantom{\\verb!x!}\\verb|0,|\\phantom{\\verb!x!}\\verb|1,|\\phantom{\\verb!x!}\\verb|0,|\\phantom{\\verb!x!}\\verb|1,|\\phantom{\\verb!x!}\\verb|1]|, \\left\\{\\verb|mon| : \\left(\\begin{array}{rr}\n",
       "-3 \\, l^{3} + 2 \\, l & -3 \\, l^{2} + 1 \\\\\n",
       "3 \\, l^{2} - 1 & 3 \\, l\n",
       "\\end{array}\\right), \\verb|sol| : \\left[-\\frac{1}{3} \\, \\sqrt{3}, \\frac{1}{3} \\, \\sqrt{3}\\right], \\verb|trace| : \\left[-\\frac{4}{3} \\, \\sqrt{3}, \\frac{4}{3} \\, \\sqrt{3}\\right]\\right\\}\\right)</script></html>"
      ],
      "text/latex": [
       "\\begin{math}\n",
       "\\newcommand{\\Bold}[1]{\\mathbf{#1}}\\left(\\verb|[1,|\\phantom{\\verb!x!}\\verb|1,|\\phantom{\\verb!x!}\\verb|0,|\\phantom{\\verb!x!}\\verb|1,|\\phantom{\\verb!x!}\\verb|0,|\\phantom{\\verb!x!}\\verb|1,|\\phantom{\\verb!x!}\\verb|1]|, \\left\\{\\verb|mon| : \\left(\\begin{array}{rr}\n",
       "-3 \\, l^{3} + 2 \\, l & -3 \\, l^{2} + 1 \\\\\n",
       "3 \\, l^{2} - 1 & 3 \\, l\n",
       "\\end{array}\\right), \\verb|sol| : \\left[-\\frac{1}{3} \\, \\sqrt{3}, \\frac{1}{3} \\, \\sqrt{3}\\right], \\verb|trace| : \\left[-\\frac{4}{3} \\, \\sqrt{3}, \\frac{4}{3} \\, \\sqrt{3}\\right]\\right\\}\\right)\n",
       "\\end{math}"
      ],
      "text/plain": [
       "('[1, 1, 0, 1, 0, 1, 1]',\n",
       " {'mon': [-3*l^3 + 2*l   -3*l^2 + 1]\n",
       "  [   3*l^2 - 1          3*l],\n",
       "  'sol': [-1/3*sqrt(3), 1/3*sqrt(3)],\n",
       "  'trace': [-4/3*sqrt(3), 4/3*sqrt(3)]})"
      ]
     },
     "metadata": {},
     "output_type": "display_data"
    },
    {
     "data": {
      "text/html": [
       "<html><script type=\"math/tex; mode=display\">\\newcommand{\\Bold}[1]{\\mathbf{#1}}\\left(\\verb|[0,|\\phantom{\\verb!x!}\\verb|0,|\\phantom{\\verb!x!}\\verb|1,|\\phantom{\\verb!x!}\\verb|1,|\\phantom{\\verb!x!}\\verb|0,|\\phantom{\\verb!x!}\\verb|1,|\\phantom{\\verb!x!}\\verb|1]|, \\left\\{\\verb|mon| : \\left(\\begin{array}{rr}\n",
       "-2 \\, l^{3} + 2 \\, l & -2 \\, l^{2} + 1 \\\\\n",
       "2 \\, l^{2} - 1 & 2 \\, l\n",
       "\\end{array}\\right), \\verb|sol| : \\left[-\\frac{1}{2} \\, \\sqrt{2}, \\frac{1}{2} \\, \\sqrt{2}\\right], \\verb|trace| : \\left[-\\frac{3}{2} \\, \\sqrt{2}, \\frac{3}{2} \\, \\sqrt{2}\\right]\\right\\}\\right)</script></html>"
      ],
      "text/latex": [
       "\\begin{math}\n",
       "\\newcommand{\\Bold}[1]{\\mathbf{#1}}\\left(\\verb|[0,|\\phantom{\\verb!x!}\\verb|0,|\\phantom{\\verb!x!}\\verb|1,|\\phantom{\\verb!x!}\\verb|1,|\\phantom{\\verb!x!}\\verb|0,|\\phantom{\\verb!x!}\\verb|1,|\\phantom{\\verb!x!}\\verb|1]|, \\left\\{\\verb|mon| : \\left(\\begin{array}{rr}\n",
       "-2 \\, l^{3} + 2 \\, l & -2 \\, l^{2} + 1 \\\\\n",
       "2 \\, l^{2} - 1 & 2 \\, l\n",
       "\\end{array}\\right), \\verb|sol| : \\left[-\\frac{1}{2} \\, \\sqrt{2}, \\frac{1}{2} \\, \\sqrt{2}\\right], \\verb|trace| : \\left[-\\frac{3}{2} \\, \\sqrt{2}, \\frac{3}{2} \\, \\sqrt{2}\\right]\\right\\}\\right)\n",
       "\\end{math}"
      ],
      "text/plain": [
       "('[0, 0, 1, 1, 0, 1, 1]',\n",
       " {'mon': [-2*l^3 + 2*l   -2*l^2 + 1]\n",
       "  [   2*l^2 - 1          2*l],\n",
       "  'sol': [-1/2*sqrt(2), 1/2*sqrt(2)],\n",
       "  'trace': [-3/2*sqrt(2), 3/2*sqrt(2)]})"
      ]
     },
     "metadata": {},
     "output_type": "display_data"
    },
    {
     "data": {
      "text/html": [
       "<html><script type=\"math/tex; mode=display\">\\newcommand{\\Bold}[1]{\\mathbf{#1}}\\left(\\verb|[1,|\\phantom{\\verb!x!}\\verb|0,|\\phantom{\\verb!x!}\\verb|1,|\\phantom{\\verb!x!}\\verb|1,|\\phantom{\\verb!x!}\\verb|0,|\\phantom{\\verb!x!}\\verb|1,|\\phantom{\\verb!x!}\\verb|1]|, \\left\\{\\verb|mon| : \\left(\\begin{array}{rr}\n",
       "-4 \\, l^{3} + 3 \\, l & -2 \\, l^{2} + 1 \\\\\n",
       "4 \\, l^{2} - 1 & 2 \\, l\n",
       "\\end{array}\\right), \\verb|sol| : \\left[-\\frac{1}{2}, \\frac{1}{2}\\right], \\verb|trace| : \\left[-2, 2\\right]\\right\\}\\right)</script></html>"
      ],
      "text/latex": [
       "\\begin{math}\n",
       "\\newcommand{\\Bold}[1]{\\mathbf{#1}}\\left(\\verb|[1,|\\phantom{\\verb!x!}\\verb|0,|\\phantom{\\verb!x!}\\verb|1,|\\phantom{\\verb!x!}\\verb|1,|\\phantom{\\verb!x!}\\verb|0,|\\phantom{\\verb!x!}\\verb|1,|\\phantom{\\verb!x!}\\verb|1]|, \\left\\{\\verb|mon| : \\left(\\begin{array}{rr}\n",
       "-4 \\, l^{3} + 3 \\, l & -2 \\, l^{2} + 1 \\\\\n",
       "4 \\, l^{2} - 1 & 2 \\, l\n",
       "\\end{array}\\right), \\verb|sol| : \\left[-\\frac{1}{2}, \\frac{1}{2}\\right], \\verb|trace| : \\left[-2, 2\\right]\\right\\}\\right)\n",
       "\\end{math}"
      ],
      "text/plain": [
       "('[1, 0, 1, 1, 0, 1, 1]',\n",
       " {'mon': [-4*l^3 + 3*l   -2*l^2 + 1]\n",
       "  [   4*l^2 - 1          2*l], 'sol': [-1/2, 1/2], 'trace': [-2, 2]})"
      ]
     },
     "metadata": {},
     "output_type": "display_data"
    },
    {
     "data": {
      "text/html": [
       "<html><script type=\"math/tex; mode=display\">\\newcommand{\\Bold}[1]{\\mathbf{#1}}\\left(\\verb|[0,|\\phantom{\\verb!x!}\\verb|1,|\\phantom{\\verb!x!}\\verb|1,|\\phantom{\\verb!x!}\\verb|1,|\\phantom{\\verb!x!}\\verb|0,|\\phantom{\\verb!x!}\\verb|1,|\\phantom{\\verb!x!}\\verb|1]|, \\left\\{\\verb|mon| : \\left(\\begin{array}{rr}\n",
       "-2 \\, l^{3} + 2 \\, l & 2 \\, l^{4} - 4 \\, l^{2} + 1 \\\\\n",
       "2 \\, l^{2} - 1 & -2 \\, l^{3} + 3 \\, l\n",
       "\\end{array}\\right), \\verb|sol| : \\left[-\\frac{1}{2} \\, \\sqrt{2}, \\frac{1}{2} \\, \\sqrt{2}\\right], \\verb|trace| : \\left[-\\frac{3}{2} \\, \\sqrt{2}, \\frac{3}{2} \\, \\sqrt{2}\\right]\\right\\}\\right)</script></html>"
      ],
      "text/latex": [
       "\\begin{math}\n",
       "\\newcommand{\\Bold}[1]{\\mathbf{#1}}\\left(\\verb|[0,|\\phantom{\\verb!x!}\\verb|1,|\\phantom{\\verb!x!}\\verb|1,|\\phantom{\\verb!x!}\\verb|1,|\\phantom{\\verb!x!}\\verb|0,|\\phantom{\\verb!x!}\\verb|1,|\\phantom{\\verb!x!}\\verb|1]|, \\left\\{\\verb|mon| : \\left(\\begin{array}{rr}\n",
       "-2 \\, l^{3} + 2 \\, l & 2 \\, l^{4} - 4 \\, l^{2} + 1 \\\\\n",
       "2 \\, l^{2} - 1 & -2 \\, l^{3} + 3 \\, l\n",
       "\\end{array}\\right), \\verb|sol| : \\left[-\\frac{1}{2} \\, \\sqrt{2}, \\frac{1}{2} \\, \\sqrt{2}\\right], \\verb|trace| : \\left[-\\frac{3}{2} \\, \\sqrt{2}, \\frac{3}{2} \\, \\sqrt{2}\\right]\\right\\}\\right)\n",
       "\\end{math}"
      ],
      "text/plain": [
       "('[0, 1, 1, 1, 0, 1, 1]',\n",
       " {'mon': [     -2*l^3 + 2*l 2*l^4 - 4*l^2 + 1]\n",
       "  [        2*l^2 - 1      -2*l^3 + 3*l],\n",
       "  'sol': [-1/2*sqrt(2), 1/2*sqrt(2)],\n",
       "  'trace': [-3/2*sqrt(2), 3/2*sqrt(2)]})"
      ]
     },
     "metadata": {},
     "output_type": "display_data"
    },
    {
     "data": {
      "text/html": [
       "<html><script type=\"math/tex; mode=display\">\\newcommand{\\Bold}[1]{\\mathbf{#1}}\\left(\\verb|[1,|\\phantom{\\verb!x!}\\verb|1,|\\phantom{\\verb!x!}\\verb|1,|\\phantom{\\verb!x!}\\verb|1,|\\phantom{\\verb!x!}\\verb|0,|\\phantom{\\verb!x!}\\verb|1,|\\phantom{\\verb!x!}\\verb|1]|, \\left\\{\\verb|mon| : \\left(\\begin{array}{rr}\n",
       "2 \\, l^{5} - 6 \\, l^{3} + 3 \\, l & 2 \\, l^{4} - 4 \\, l^{2} + 1 \\\\\n",
       "-2 \\, l^{4} + 5 \\, l^{2} - 1 & -2 \\, l^{3} + 3 \\, l\n",
       "\\end{array}\\right), \\verb|sol| : \\left[-\\frac{1}{2} \\, \\sqrt{\\sqrt{17} + 5}, -\\frac{1}{2} \\, \\sqrt{-\\sqrt{17} + 5}, \\frac{1}{2} \\, \\sqrt{-\\sqrt{17} + 5}, \\frac{1}{2} \\, \\sqrt{\\sqrt{17} + 5}\\right], \\verb|trace| : \\left[-\\frac{1}{16} \\, {\\left(\\sqrt{17} + 5\\right)}^{\\frac{5}{2}} + {\\left(\\sqrt{17} + 5\\right)}^{\\frac{3}{2}} - 3 \\, \\sqrt{\\sqrt{17} + 5}, -\\frac{1}{16} \\, {\\left(-\\sqrt{17} + 5\\right)}^{\\frac{5}{2}} + {\\left(-\\sqrt{17} + 5\\right)}^{\\frac{3}{2}} - 3 \\, \\sqrt{-\\sqrt{17} + 5}, \\frac{1}{16} \\, {\\left(-\\sqrt{17} + 5\\right)}^{\\frac{5}{2}} - {\\left(-\\sqrt{17} + 5\\right)}^{\\frac{3}{2}} + 3 \\, \\sqrt{-\\sqrt{17} + 5}, \\frac{1}{16} \\, {\\left(\\sqrt{17} + 5\\right)}^{\\frac{5}{2}} - {\\left(\\sqrt{17} + 5\\right)}^{\\frac{3}{2}} + 3 \\, \\sqrt{\\sqrt{17} + 5}\\right]\\right\\}\\right)</script></html>"
      ],
      "text/latex": [
       "\\begin{math}\n",
       "\\newcommand{\\Bold}[1]{\\mathbf{#1}}\\left(\\verb|[1,|\\phantom{\\verb!x!}\\verb|1,|\\phantom{\\verb!x!}\\verb|1,|\\phantom{\\verb!x!}\\verb|1,|\\phantom{\\verb!x!}\\verb|0,|\\phantom{\\verb!x!}\\verb|1,|\\phantom{\\verb!x!}\\verb|1]|, \\left\\{\\verb|mon| : \\left(\\begin{array}{rr}\n",
       "2 \\, l^{5} - 6 \\, l^{3} + 3 \\, l & 2 \\, l^{4} - 4 \\, l^{2} + 1 \\\\\n",
       "-2 \\, l^{4} + 5 \\, l^{2} - 1 & -2 \\, l^{3} + 3 \\, l\n",
       "\\end{array}\\right), \\verb|sol| : \\left[-\\frac{1}{2} \\, \\sqrt{\\sqrt{17} + 5}, -\\frac{1}{2} \\, \\sqrt{-\\sqrt{17} + 5}, \\frac{1}{2} \\, \\sqrt{-\\sqrt{17} + 5}, \\frac{1}{2} \\, \\sqrt{\\sqrt{17} + 5}\\right], \\verb|trace| : \\left[-\\frac{1}{16} \\, {\\left(\\sqrt{17} + 5\\right)}^{\\frac{5}{2}} + {\\left(\\sqrt{17} + 5\\right)}^{\\frac{3}{2}} - 3 \\, \\sqrt{\\sqrt{17} + 5}, -\\frac{1}{16} \\, {\\left(-\\sqrt{17} + 5\\right)}^{\\frac{5}{2}} + {\\left(-\\sqrt{17} + 5\\right)}^{\\frac{3}{2}} - 3 \\, \\sqrt{-\\sqrt{17} + 5}, \\frac{1}{16} \\, {\\left(-\\sqrt{17} + 5\\right)}^{\\frac{5}{2}} - {\\left(-\\sqrt{17} + 5\\right)}^{\\frac{3}{2}} + 3 \\, \\sqrt{-\\sqrt{17} + 5}, \\frac{1}{16} \\, {\\left(\\sqrt{17} + 5\\right)}^{\\frac{5}{2}} - {\\left(\\sqrt{17} + 5\\right)}^{\\frac{3}{2}} + 3 \\, \\sqrt{\\sqrt{17} + 5}\\right]\\right\\}\\right)\n",
       "\\end{math}"
      ],
      "text/plain": [
       "('[1, 1, 1, 1, 0, 1, 1]',\n",
       " {'mon': [2*l^5 - 6*l^3 + 3*l   2*l^4 - 4*l^2 + 1]\n",
       "  [ -2*l^4 + 5*l^2 - 1        -2*l^3 + 3*l],\n",
       "  'sol': [-1/2*sqrt(sqrt(17) + 5),\n",
       "   -1/2*sqrt(-sqrt(17) + 5),\n",
       "   1/2*sqrt(-sqrt(17) + 5),\n",
       "   1/2*sqrt(sqrt(17) + 5)],\n",
       "  'trace': [-1/16*(sqrt(17) + 5)^(5/2) + (sqrt(17) + 5)^(3/2) - 3*sqrt(sqrt(17) + 5),\n",
       "   -1/16*(-sqrt(17) + 5)^(5/2) + (-sqrt(17) + 5)^(3/2) - 3*sqrt(-sqrt(17) + 5),\n",
       "   1/16*(-sqrt(17) + 5)^(5/2) - (-sqrt(17) + 5)^(3/2) + 3*sqrt(-sqrt(17) + 5),\n",
       "   1/16*(sqrt(17) + 5)^(5/2) - (sqrt(17) + 5)^(3/2) + 3*sqrt(sqrt(17) + 5)]})"
      ]
     },
     "metadata": {},
     "output_type": "display_data"
    },
    {
     "data": {
      "text/html": [
       "<html><script type=\"math/tex; mode=display\">\\newcommand{\\Bold}[1]{\\mathbf{#1}}\\left(\\verb|[0,|\\phantom{\\verb!x!}\\verb|0,|\\phantom{\\verb!x!}\\verb|0,|\\phantom{\\verb!x!}\\verb|0,|\\phantom{\\verb!x!}\\verb|1,|\\phantom{\\verb!x!}\\verb|1,|\\phantom{\\verb!x!}\\verb|1]|, \\left\\{\\verb|mon| : \\left(\\begin{array}{rr}\n",
       "-l^{3} + 2 \\, l & -l^{2} + 1 \\\\\n",
       "l^{2} - 1 & l\n",
       "\\end{array}\\right), \\verb|sol| : \\left[-1, 1\\right], \\verb|trace| : \\left[-2, 2\\right]\\right\\}\\right)</script></html>"
      ],
      "text/latex": [
       "\\begin{math}\n",
       "\\newcommand{\\Bold}[1]{\\mathbf{#1}}\\left(\\verb|[0,|\\phantom{\\verb!x!}\\verb|0,|\\phantom{\\verb!x!}\\verb|0,|\\phantom{\\verb!x!}\\verb|0,|\\phantom{\\verb!x!}\\verb|1,|\\phantom{\\verb!x!}\\verb|1,|\\phantom{\\verb!x!}\\verb|1]|, \\left\\{\\verb|mon| : \\left(\\begin{array}{rr}\n",
       "-l^{3} + 2 \\, l & -l^{2} + 1 \\\\\n",
       "l^{2} - 1 & l\n",
       "\\end{array}\\right), \\verb|sol| : \\left[-1, 1\\right], \\verb|trace| : \\left[-2, 2\\right]\\right\\}\\right)\n",
       "\\end{math}"
      ],
      "text/plain": [
       "('[0, 0, 0, 0, 1, 1, 1]',\n",
       " {'mon': [-l^3 + 2*l   -l^2 + 1]\n",
       "  [   l^2 - 1          l], 'sol': [-1, 1], 'trace': [-2, 2]})"
      ]
     },
     "metadata": {},
     "output_type": "display_data"
    },
    {
     "data": {
      "text/html": [
       "<html><script type=\"math/tex; mode=display\">\\newcommand{\\Bold}[1]{\\mathbf{#1}}\\left(\\verb|[1,|\\phantom{\\verb!x!}\\verb|0,|\\phantom{\\verb!x!}\\verb|0,|\\phantom{\\verb!x!}\\verb|0,|\\phantom{\\verb!x!}\\verb|1,|\\phantom{\\verb!x!}\\verb|1,|\\phantom{\\verb!x!}\\verb|1]|, \\left\\{\\verb|mon| : \\left(\\begin{array}{rr}\n",
       "-2 \\, l^{3} + 3 \\, l & -l^{2} + 1 \\\\\n",
       "2 \\, l^{2} - 1 & l\n",
       "\\end{array}\\right), \\verb|sol| : \\left[-\\frac{1}{2} \\, \\sqrt{2}, \\frac{1}{2} \\, \\sqrt{2}\\right], \\verb|trace| : \\left[-\\frac{3}{2} \\, \\sqrt{2}, \\frac{3}{2} \\, \\sqrt{2}\\right]\\right\\}\\right)</script></html>"
      ],
      "text/latex": [
       "\\begin{math}\n",
       "\\newcommand{\\Bold}[1]{\\mathbf{#1}}\\left(\\verb|[1,|\\phantom{\\verb!x!}\\verb|0,|\\phantom{\\verb!x!}\\verb|0,|\\phantom{\\verb!x!}\\verb|0,|\\phantom{\\verb!x!}\\verb|1,|\\phantom{\\verb!x!}\\verb|1,|\\phantom{\\verb!x!}\\verb|1]|, \\left\\{\\verb|mon| : \\left(\\begin{array}{rr}\n",
       "-2 \\, l^{3} + 3 \\, l & -l^{2} + 1 \\\\\n",
       "2 \\, l^{2} - 1 & l\n",
       "\\end{array}\\right), \\verb|sol| : \\left[-\\frac{1}{2} \\, \\sqrt{2}, \\frac{1}{2} \\, \\sqrt{2}\\right], \\verb|trace| : \\left[-\\frac{3}{2} \\, \\sqrt{2}, \\frac{3}{2} \\, \\sqrt{2}\\right]\\right\\}\\right)\n",
       "\\end{math}"
      ],
      "text/plain": [
       "('[1, 0, 0, 0, 1, 1, 1]',\n",
       " {'mon': [-2*l^3 + 3*l     -l^2 + 1]\n",
       "  [   2*l^2 - 1            l],\n",
       "  'sol': [-1/2*sqrt(2), 1/2*sqrt(2)],\n",
       "  'trace': [-3/2*sqrt(2), 3/2*sqrt(2)]})"
      ]
     },
     "metadata": {},
     "output_type": "display_data"
    },
    {
     "data": {
      "text/html": [
       "<html><script type=\"math/tex; mode=display\">\\newcommand{\\Bold}[1]{\\mathbf{#1}}\\left(\\verb|[0,|\\phantom{\\verb!x!}\\verb|1,|\\phantom{\\verb!x!}\\verb|0,|\\phantom{\\verb!x!}\\verb|0,|\\phantom{\\verb!x!}\\verb|1,|\\phantom{\\verb!x!}\\verb|1,|\\phantom{\\verb!x!}\\verb|1]|, \\left\\{\\verb|mon| : \\left(\\begin{array}{rr}\n",
       "-l^{3} + 2 \\, l & l^{4} - 3 \\, l^{2} + 1 \\\\\n",
       "l^{2} - 1 & -l^{3} + 2 \\, l\n",
       "\\end{array}\\right), \\verb|sol| : \\left[-1, 1\\right], \\verb|trace| : \\left[-2, 2\\right]\\right\\}\\right)</script></html>"
      ],
      "text/latex": [
       "\\begin{math}\n",
       "\\newcommand{\\Bold}[1]{\\mathbf{#1}}\\left(\\verb|[0,|\\phantom{\\verb!x!}\\verb|1,|\\phantom{\\verb!x!}\\verb|0,|\\phantom{\\verb!x!}\\verb|0,|\\phantom{\\verb!x!}\\verb|1,|\\phantom{\\verb!x!}\\verb|1,|\\phantom{\\verb!x!}\\verb|1]|, \\left\\{\\verb|mon| : \\left(\\begin{array}{rr}\n",
       "-l^{3} + 2 \\, l & l^{4} - 3 \\, l^{2} + 1 \\\\\n",
       "l^{2} - 1 & -l^{3} + 2 \\, l\n",
       "\\end{array}\\right), \\verb|sol| : \\left[-1, 1\\right], \\verb|trace| : \\left[-2, 2\\right]\\right\\}\\right)\n",
       "\\end{math}"
      ],
      "text/plain": [
       "('[0, 1, 0, 0, 1, 1, 1]',\n",
       " {'mon': [     -l^3 + 2*l l^4 - 3*l^2 + 1]\n",
       "  [        l^2 - 1      -l^3 + 2*l], 'sol': [-1, 1], 'trace': [-2, 2]})"
      ]
     },
     "metadata": {},
     "output_type": "display_data"
    },
    {
     "data": {
      "text/html": [
       "<html><script type=\"math/tex; mode=display\">\\newcommand{\\Bold}[1]{\\mathbf{#1}}\\left(\\verb|[1,|\\phantom{\\verb!x!}\\verb|1,|\\phantom{\\verb!x!}\\verb|0,|\\phantom{\\verb!x!}\\verb|0,|\\phantom{\\verb!x!}\\verb|1,|\\phantom{\\verb!x!}\\verb|1,|\\phantom{\\verb!x!}\\verb|1]|, \\left\\{\\verb|mon| : \\left(\\begin{array}{rr}\n",
       "l^{5} - 4 \\, l^{3} + 3 \\, l & l^{4} - 3 \\, l^{2} + 1 \\\\\n",
       "-l^{4} + 3 \\, l^{2} - 1 & -l^{3} + 2 \\, l\n",
       "\\end{array}\\right), \\verb|sol| : \\left[-\\sqrt{\\frac{1}{2} \\, \\sqrt{5} + \\frac{3}{2}}, -\\sqrt{-\\frac{1}{2} \\, \\sqrt{5} + \\frac{3}{2}}, \\sqrt{-\\frac{1}{2} \\, \\sqrt{5} + \\frac{3}{2}}, \\sqrt{\\frac{1}{2} \\, \\sqrt{5} + \\frac{3}{2}}\\right], \\verb|trace| : \\left[-{\\left(\\frac{1}{2} \\, \\sqrt{5} + \\frac{3}{2}\\right)}^{\\frac{5}{2}} + 5 \\, {\\left(\\frac{1}{2} \\, \\sqrt{5} + \\frac{3}{2}\\right)}^{\\frac{3}{2}} - 5 \\, \\sqrt{\\frac{1}{2} \\, \\sqrt{5} + \\frac{3}{2}}, -{\\left(-\\frac{1}{2} \\, \\sqrt{5} + \\frac{3}{2}\\right)}^{\\frac{5}{2}} + 5 \\, {\\left(-\\frac{1}{2} \\, \\sqrt{5} + \\frac{3}{2}\\right)}^{\\frac{3}{2}} - 5 \\, \\sqrt{-\\frac{1}{2} \\, \\sqrt{5} + \\frac{3}{2}}, {\\left(-\\frac{1}{2} \\, \\sqrt{5} + \\frac{3}{2}\\right)}^{\\frac{5}{2}} - 5 \\, {\\left(-\\frac{1}{2} \\, \\sqrt{5} + \\frac{3}{2}\\right)}^{\\frac{3}{2}} + 5 \\, \\sqrt{-\\frac{1}{2} \\, \\sqrt{5} + \\frac{3}{2}}, {\\left(\\frac{1}{2} \\, \\sqrt{5} + \\frac{3}{2}\\right)}^{\\frac{5}{2}} - 5 \\, {\\left(\\frac{1}{2} \\, \\sqrt{5} + \\frac{3}{2}\\right)}^{\\frac{3}{2}} + 5 \\, \\sqrt{\\frac{1}{2} \\, \\sqrt{5} + \\frac{3}{2}}\\right]\\right\\}\\right)</script></html>"
      ],
      "text/latex": [
       "\\begin{math}\n",
       "\\newcommand{\\Bold}[1]{\\mathbf{#1}}\\left(\\verb|[1,|\\phantom{\\verb!x!}\\verb|1,|\\phantom{\\verb!x!}\\verb|0,|\\phantom{\\verb!x!}\\verb|0,|\\phantom{\\verb!x!}\\verb|1,|\\phantom{\\verb!x!}\\verb|1,|\\phantom{\\verb!x!}\\verb|1]|, \\left\\{\\verb|mon| : \\left(\\begin{array}{rr}\n",
       "l^{5} - 4 \\, l^{3} + 3 \\, l & l^{4} - 3 \\, l^{2} + 1 \\\\\n",
       "-l^{4} + 3 \\, l^{2} - 1 & -l^{3} + 2 \\, l\n",
       "\\end{array}\\right), \\verb|sol| : \\left[-\\sqrt{\\frac{1}{2} \\, \\sqrt{5} + \\frac{3}{2}}, -\\sqrt{-\\frac{1}{2} \\, \\sqrt{5} + \\frac{3}{2}}, \\sqrt{-\\frac{1}{2} \\, \\sqrt{5} + \\frac{3}{2}}, \\sqrt{\\frac{1}{2} \\, \\sqrt{5} + \\frac{3}{2}}\\right], \\verb|trace| : \\left[-{\\left(\\frac{1}{2} \\, \\sqrt{5} + \\frac{3}{2}\\right)}^{\\frac{5}{2}} + 5 \\, {\\left(\\frac{1}{2} \\, \\sqrt{5} + \\frac{3}{2}\\right)}^{\\frac{3}{2}} - 5 \\, \\sqrt{\\frac{1}{2} \\, \\sqrt{5} + \\frac{3}{2}}, -{\\left(-\\frac{1}{2} \\, \\sqrt{5} + \\frac{3}{2}\\right)}^{\\frac{5}{2}} + 5 \\, {\\left(-\\frac{1}{2} \\, \\sqrt{5} + \\frac{3}{2}\\right)}^{\\frac{3}{2}} - 5 \\, \\sqrt{-\\frac{1}{2} \\, \\sqrt{5} + \\frac{3}{2}}, {\\left(-\\frac{1}{2} \\, \\sqrt{5} + \\frac{3}{2}\\right)}^{\\frac{5}{2}} - 5 \\, {\\left(-\\frac{1}{2} \\, \\sqrt{5} + \\frac{3}{2}\\right)}^{\\frac{3}{2}} + 5 \\, \\sqrt{-\\frac{1}{2} \\, \\sqrt{5} + \\frac{3}{2}}, {\\left(\\frac{1}{2} \\, \\sqrt{5} + \\frac{3}{2}\\right)}^{\\frac{5}{2}} - 5 \\, {\\left(\\frac{1}{2} \\, \\sqrt{5} + \\frac{3}{2}\\right)}^{\\frac{3}{2}} + 5 \\, \\sqrt{\\frac{1}{2} \\, \\sqrt{5} + \\frac{3}{2}}\\right]\\right\\}\\right)\n",
       "\\end{math}"
      ],
      "text/plain": [
       "('[1, 1, 0, 0, 1, 1, 1]',\n",
       " {'mon': [l^5 - 4*l^3 + 3*l   l^4 - 3*l^2 + 1]\n",
       "  [ -l^4 + 3*l^2 - 1        -l^3 + 2*l],\n",
       "  'sol': [-sqrt(1/2*sqrt(5) + 3/2),\n",
       "   -sqrt(-1/2*sqrt(5) + 3/2),\n",
       "   sqrt(-1/2*sqrt(5) + 3/2),\n",
       "   sqrt(1/2*sqrt(5) + 3/2)],\n",
       "  'trace': [-(1/2*sqrt(5) + 3/2)^(5/2) + 5*(1/2*sqrt(5) + 3/2)^(3/2) - 5*sqrt(1/2*sqrt(5) + 3/2),\n",
       "   -(-1/2*sqrt(5) + 3/2)^(5/2) + 5*(-1/2*sqrt(5) + 3/2)^(3/2) - 5*sqrt(-1/2*sqrt(5) + 3/2),\n",
       "   (-1/2*sqrt(5) + 3/2)^(5/2) - 5*(-1/2*sqrt(5) + 3/2)^(3/2) + 5*sqrt(-1/2*sqrt(5) + 3/2),\n",
       "   (1/2*sqrt(5) + 3/2)^(5/2) - 5*(1/2*sqrt(5) + 3/2)^(3/2) + 5*sqrt(1/2*sqrt(5) + 3/2)]})"
      ]
     },
     "metadata": {},
     "output_type": "display_data"
    },
    {
     "data": {
      "text/html": [
       "<html><script type=\"math/tex; mode=display\">\\newcommand{\\Bold}[1]{\\mathbf{#1}}\\left(\\verb|[0,|\\phantom{\\verb!x!}\\verb|0,|\\phantom{\\verb!x!}\\verb|1,|\\phantom{\\verb!x!}\\verb|0,|\\phantom{\\verb!x!}\\verb|1,|\\phantom{\\verb!x!}\\verb|1,|\\phantom{\\verb!x!}\\verb|1]|, \\left\\{\\verb|mon| : \\left(\\begin{array}{rr}\n",
       "-2 \\, l^{3} + 3 \\, l & -l^{2} + 1 \\\\\n",
       "2 \\, l^{2} - 1 & l\n",
       "\\end{array}\\right), \\verb|sol| : \\left[-\\frac{1}{2} \\, \\sqrt{2}, \\frac{1}{2} \\, \\sqrt{2}\\right], \\verb|trace| : \\left[-\\frac{3}{2} \\, \\sqrt{2}, \\frac{3}{2} \\, \\sqrt{2}\\right]\\right\\}\\right)</script></html>"
      ],
      "text/latex": [
       "\\begin{math}\n",
       "\\newcommand{\\Bold}[1]{\\mathbf{#1}}\\left(\\verb|[0,|\\phantom{\\verb!x!}\\verb|0,|\\phantom{\\verb!x!}\\verb|1,|\\phantom{\\verb!x!}\\verb|0,|\\phantom{\\verb!x!}\\verb|1,|\\phantom{\\verb!x!}\\verb|1,|\\phantom{\\verb!x!}\\verb|1]|, \\left\\{\\verb|mon| : \\left(\\begin{array}{rr}\n",
       "-2 \\, l^{3} + 3 \\, l & -l^{2} + 1 \\\\\n",
       "2 \\, l^{2} - 1 & l\n",
       "\\end{array}\\right), \\verb|sol| : \\left[-\\frac{1}{2} \\, \\sqrt{2}, \\frac{1}{2} \\, \\sqrt{2}\\right], \\verb|trace| : \\left[-\\frac{3}{2} \\, \\sqrt{2}, \\frac{3}{2} \\, \\sqrt{2}\\right]\\right\\}\\right)\n",
       "\\end{math}"
      ],
      "text/plain": [
       "('[0, 0, 1, 0, 1, 1, 1]',\n",
       " {'mon': [-2*l^3 + 3*l     -l^2 + 1]\n",
       "  [   2*l^2 - 1            l],\n",
       "  'sol': [-1/2*sqrt(2), 1/2*sqrt(2)],\n",
       "  'trace': [-3/2*sqrt(2), 3/2*sqrt(2)]})"
      ]
     },
     "metadata": {},
     "output_type": "display_data"
    },
    {
     "data": {
      "text/html": [
       "<html><script type=\"math/tex; mode=display\">\\newcommand{\\Bold}[1]{\\mathbf{#1}}\\left(\\verb|[1,|\\phantom{\\verb!x!}\\verb|0,|\\phantom{\\verb!x!}\\verb|1,|\\phantom{\\verb!x!}\\verb|0,|\\phantom{\\verb!x!}\\verb|1,|\\phantom{\\verb!x!}\\verb|1,|\\phantom{\\verb!x!}\\verb|1]|, \\left\\{\\verb|mon| : \\left(\\begin{array}{rr}\n",
       "-3 \\, l^{3} + 4 \\, l & -l^{2} + 1 \\\\\n",
       "3 \\, l^{2} - 1 & l\n",
       "\\end{array}\\right), \\verb|sol| : \\left[-\\frac{1}{3} \\, \\sqrt{3}, \\frac{1}{3} \\, \\sqrt{3}\\right], \\verb|trace| : \\left[-\\frac{4}{3} \\, \\sqrt{3}, \\frac{4}{3} \\, \\sqrt{3}\\right]\\right\\}\\right)</script></html>"
      ],
      "text/latex": [
       "\\begin{math}\n",
       "\\newcommand{\\Bold}[1]{\\mathbf{#1}}\\left(\\verb|[1,|\\phantom{\\verb!x!}\\verb|0,|\\phantom{\\verb!x!}\\verb|1,|\\phantom{\\verb!x!}\\verb|0,|\\phantom{\\verb!x!}\\verb|1,|\\phantom{\\verb!x!}\\verb|1,|\\phantom{\\verb!x!}\\verb|1]|, \\left\\{\\verb|mon| : \\left(\\begin{array}{rr}\n",
       "-3 \\, l^{3} + 4 \\, l & -l^{2} + 1 \\\\\n",
       "3 \\, l^{2} - 1 & l\n",
       "\\end{array}\\right), \\verb|sol| : \\left[-\\frac{1}{3} \\, \\sqrt{3}, \\frac{1}{3} \\, \\sqrt{3}\\right], \\verb|trace| : \\left[-\\frac{4}{3} \\, \\sqrt{3}, \\frac{4}{3} \\, \\sqrt{3}\\right]\\right\\}\\right)\n",
       "\\end{math}"
      ],
      "text/plain": [
       "('[1, 0, 1, 0, 1, 1, 1]',\n",
       " {'mon': [-3*l^3 + 4*l     -l^2 + 1]\n",
       "  [   3*l^2 - 1            l],\n",
       "  'sol': [-1/3*sqrt(3), 1/3*sqrt(3)],\n",
       "  'trace': [-4/3*sqrt(3), 4/3*sqrt(3)]})"
      ]
     },
     "metadata": {},
     "output_type": "display_data"
    },
    {
     "data": {
      "text/html": [
       "<html><script type=\"math/tex; mode=display\">\\newcommand{\\Bold}[1]{\\mathbf{#1}}\\left(\\verb|[0,|\\phantom{\\verb!x!}\\verb|1,|\\phantom{\\verb!x!}\\verb|1,|\\phantom{\\verb!x!}\\verb|0,|\\phantom{\\verb!x!}\\verb|1,|\\phantom{\\verb!x!}\\verb|1,|\\phantom{\\verb!x!}\\verb|1]|, \\left\\{\\verb|mon| : \\left(\\begin{array}{rr}\n",
       "-2 \\, l^{3} + 3 \\, l & 2 \\, l^{4} - 4 \\, l^{2} + 1 \\\\\n",
       "2 \\, l^{2} - 1 & -2 \\, l^{3} + 2 \\, l\n",
       "\\end{array}\\right), \\verb|sol| : \\left[-\\frac{1}{2} \\, \\sqrt{2}, \\frac{1}{2} \\, \\sqrt{2}\\right], \\verb|trace| : \\left[-\\frac{3}{2} \\, \\sqrt{2}, \\frac{3}{2} \\, \\sqrt{2}\\right]\\right\\}\\right)</script></html>"
      ],
      "text/latex": [
       "\\begin{math}\n",
       "\\newcommand{\\Bold}[1]{\\mathbf{#1}}\\left(\\verb|[0,|\\phantom{\\verb!x!}\\verb|1,|\\phantom{\\verb!x!}\\verb|1,|\\phantom{\\verb!x!}\\verb|0,|\\phantom{\\verb!x!}\\verb|1,|\\phantom{\\verb!x!}\\verb|1,|\\phantom{\\verb!x!}\\verb|1]|, \\left\\{\\verb|mon| : \\left(\\begin{array}{rr}\n",
       "-2 \\, l^{3} + 3 \\, l & 2 \\, l^{4} - 4 \\, l^{2} + 1 \\\\\n",
       "2 \\, l^{2} - 1 & -2 \\, l^{3} + 2 \\, l\n",
       "\\end{array}\\right), \\verb|sol| : \\left[-\\frac{1}{2} \\, \\sqrt{2}, \\frac{1}{2} \\, \\sqrt{2}\\right], \\verb|trace| : \\left[-\\frac{3}{2} \\, \\sqrt{2}, \\frac{3}{2} \\, \\sqrt{2}\\right]\\right\\}\\right)\n",
       "\\end{math}"
      ],
      "text/plain": [
       "('[0, 1, 1, 0, 1, 1, 1]',\n",
       " {'mon': [     -2*l^3 + 3*l 2*l^4 - 4*l^2 + 1]\n",
       "  [        2*l^2 - 1      -2*l^3 + 2*l],\n",
       "  'sol': [-1/2*sqrt(2), 1/2*sqrt(2)],\n",
       "  'trace': [-3/2*sqrt(2), 3/2*sqrt(2)]})"
      ]
     },
     "metadata": {},
     "output_type": "display_data"
    },
    {
     "data": {
      "text/html": [
       "<html><script type=\"math/tex; mode=display\">\\newcommand{\\Bold}[1]{\\mathbf{#1}}\\left(\\verb|[1,|\\phantom{\\verb!x!}\\verb|1,|\\phantom{\\verb!x!}\\verb|1,|\\phantom{\\verb!x!}\\verb|0,|\\phantom{\\verb!x!}\\verb|1,|\\phantom{\\verb!x!}\\verb|1,|\\phantom{\\verb!x!}\\verb|1]|, \\left\\{\\verb|mon| : \\left(\\begin{array}{rr}\n",
       "2 \\, l^{5} - 6 \\, l^{3} + 4 \\, l & 2 \\, l^{4} - 4 \\, l^{2} + 1 \\\\\n",
       "-2 \\, l^{4} + 4 \\, l^{2} - 1 & -2 \\, l^{3} + 2 \\, l\n",
       "\\end{array}\\right), \\verb|sol| : \\left[-\\sqrt{\\frac{1}{2} \\, \\sqrt{2} + 1}, -\\sqrt{-\\frac{1}{2} \\, \\sqrt{2} + 1}, \\sqrt{-\\frac{1}{2} \\, \\sqrt{2} + 1}, \\sqrt{\\frac{1}{2} \\, \\sqrt{2} + 1}\\right], \\verb|trace| : \\left[-2 \\, {\\left(\\frac{1}{2} \\, \\sqrt{2} + 1\\right)}^{\\frac{5}{2}} + 8 \\, {\\left(\\frac{1}{2} \\, \\sqrt{2} + 1\\right)}^{\\frac{3}{2}} - 6 \\, \\sqrt{\\frac{1}{2} \\, \\sqrt{2} + 1}, -2 \\, {\\left(-\\frac{1}{2} \\, \\sqrt{2} + 1\\right)}^{\\frac{5}{2}} + 8 \\, {\\left(-\\frac{1}{2} \\, \\sqrt{2} + 1\\right)}^{\\frac{3}{2}} - 6 \\, \\sqrt{-\\frac{1}{2} \\, \\sqrt{2} + 1}, 2 \\, {\\left(-\\frac{1}{2} \\, \\sqrt{2} + 1\\right)}^{\\frac{5}{2}} - 8 \\, {\\left(-\\frac{1}{2} \\, \\sqrt{2} + 1\\right)}^{\\frac{3}{2}} + 6 \\, \\sqrt{-\\frac{1}{2} \\, \\sqrt{2} + 1}, 2 \\, {\\left(\\frac{1}{2} \\, \\sqrt{2} + 1\\right)}^{\\frac{5}{2}} - 8 \\, {\\left(\\frac{1}{2} \\, \\sqrt{2} + 1\\right)}^{\\frac{3}{2}} + 6 \\, \\sqrt{\\frac{1}{2} \\, \\sqrt{2} + 1}\\right]\\right\\}\\right)</script></html>"
      ],
      "text/latex": [
       "\\begin{math}\n",
       "\\newcommand{\\Bold}[1]{\\mathbf{#1}}\\left(\\verb|[1,|\\phantom{\\verb!x!}\\verb|1,|\\phantom{\\verb!x!}\\verb|1,|\\phantom{\\verb!x!}\\verb|0,|\\phantom{\\verb!x!}\\verb|1,|\\phantom{\\verb!x!}\\verb|1,|\\phantom{\\verb!x!}\\verb|1]|, \\left\\{\\verb|mon| : \\left(\\begin{array}{rr}\n",
       "2 \\, l^{5} - 6 \\, l^{3} + 4 \\, l & 2 \\, l^{4} - 4 \\, l^{2} + 1 \\\\\n",
       "-2 \\, l^{4} + 4 \\, l^{2} - 1 & -2 \\, l^{3} + 2 \\, l\n",
       "\\end{array}\\right), \\verb|sol| : \\left[-\\sqrt{\\frac{1}{2} \\, \\sqrt{2} + 1}, -\\sqrt{-\\frac{1}{2} \\, \\sqrt{2} + 1}, \\sqrt{-\\frac{1}{2} \\, \\sqrt{2} + 1}, \\sqrt{\\frac{1}{2} \\, \\sqrt{2} + 1}\\right], \\verb|trace| : \\left[-2 \\, {\\left(\\frac{1}{2} \\, \\sqrt{2} + 1\\right)}^{\\frac{5}{2}} + 8 \\, {\\left(\\frac{1}{2} \\, \\sqrt{2} + 1\\right)}^{\\frac{3}{2}} - 6 \\, \\sqrt{\\frac{1}{2} \\, \\sqrt{2} + 1}, -2 \\, {\\left(-\\frac{1}{2} \\, \\sqrt{2} + 1\\right)}^{\\frac{5}{2}} + 8 \\, {\\left(-\\frac{1}{2} \\, \\sqrt{2} + 1\\right)}^{\\frac{3}{2}} - 6 \\, \\sqrt{-\\frac{1}{2} \\, \\sqrt{2} + 1}, 2 \\, {\\left(-\\frac{1}{2} \\, \\sqrt{2} + 1\\right)}^{\\frac{5}{2}} - 8 \\, {\\left(-\\frac{1}{2} \\, \\sqrt{2} + 1\\right)}^{\\frac{3}{2}} + 6 \\, \\sqrt{-\\frac{1}{2} \\, \\sqrt{2} + 1}, 2 \\, {\\left(\\frac{1}{2} \\, \\sqrt{2} + 1\\right)}^{\\frac{5}{2}} - 8 \\, {\\left(\\frac{1}{2} \\, \\sqrt{2} + 1\\right)}^{\\frac{3}{2}} + 6 \\, \\sqrt{\\frac{1}{2} \\, \\sqrt{2} + 1}\\right]\\right\\}\\right)\n",
       "\\end{math}"
      ],
      "text/plain": [
       "('[1, 1, 1, 0, 1, 1, 1]',\n",
       " {'mon': [2*l^5 - 6*l^3 + 4*l   2*l^4 - 4*l^2 + 1]\n",
       "  [ -2*l^4 + 4*l^2 - 1        -2*l^3 + 2*l],\n",
       "  'sol': [-sqrt(1/2*sqrt(2) + 1),\n",
       "   -sqrt(-1/2*sqrt(2) + 1),\n",
       "   sqrt(-1/2*sqrt(2) + 1),\n",
       "   sqrt(1/2*sqrt(2) + 1)],\n",
       "  'trace': [-2*(1/2*sqrt(2) + 1)^(5/2) + 8*(1/2*sqrt(2) + 1)^(3/2) - 6*sqrt(1/2*sqrt(2) + 1),\n",
       "   -2*(-1/2*sqrt(2) + 1)^(5/2) + 8*(-1/2*sqrt(2) + 1)^(3/2) - 6*sqrt(-1/2*sqrt(2) + 1),\n",
       "   2*(-1/2*sqrt(2) + 1)^(5/2) - 8*(-1/2*sqrt(2) + 1)^(3/2) + 6*sqrt(-1/2*sqrt(2) + 1),\n",
       "   2*(1/2*sqrt(2) + 1)^(5/2) - 8*(1/2*sqrt(2) + 1)^(3/2) + 6*sqrt(1/2*sqrt(2) + 1)]})"
      ]
     },
     "metadata": {},
     "output_type": "display_data"
    },
    {
     "data": {
      "text/html": [
       "<html><script type=\"math/tex; mode=display\">\\newcommand{\\Bold}[1]{\\mathbf{#1}}\\left(\\verb|[0,|\\phantom{\\verb!x!}\\verb|0,|\\phantom{\\verb!x!}\\verb|0,|\\phantom{\\verb!x!}\\verb|1,|\\phantom{\\verb!x!}\\verb|1,|\\phantom{\\verb!x!}\\verb|1,|\\phantom{\\verb!x!}\\verb|1]|, \\left\\{\\verb|mon| : \\left(\\begin{array}{rr}\n",
       "-l^{3} + 2 \\, l & l^{4} - 3 \\, l^{2} + 1 \\\\\n",
       "l^{2} - 1 & -l^{3} + 2 \\, l\n",
       "\\end{array}\\right), \\verb|sol| : \\left[-1, 1\\right], \\verb|trace| : \\left[-2, 2\\right]\\right\\}\\right)</script></html>"
      ],
      "text/latex": [
       "\\begin{math}\n",
       "\\newcommand{\\Bold}[1]{\\mathbf{#1}}\\left(\\verb|[0,|\\phantom{\\verb!x!}\\verb|0,|\\phantom{\\verb!x!}\\verb|0,|\\phantom{\\verb!x!}\\verb|1,|\\phantom{\\verb!x!}\\verb|1,|\\phantom{\\verb!x!}\\verb|1,|\\phantom{\\verb!x!}\\verb|1]|, \\left\\{\\verb|mon| : \\left(\\begin{array}{rr}\n",
       "-l^{3} + 2 \\, l & l^{4} - 3 \\, l^{2} + 1 \\\\\n",
       "l^{2} - 1 & -l^{3} + 2 \\, l\n",
       "\\end{array}\\right), \\verb|sol| : \\left[-1, 1\\right], \\verb|trace| : \\left[-2, 2\\right]\\right\\}\\right)\n",
       "\\end{math}"
      ],
      "text/plain": [
       "('[0, 0, 0, 1, 1, 1, 1]',\n",
       " {'mon': [     -l^3 + 2*l l^4 - 3*l^2 + 1]\n",
       "  [        l^2 - 1      -l^3 + 2*l], 'sol': [-1, 1], 'trace': [-2, 2]})"
      ]
     },
     "metadata": {},
     "output_type": "display_data"
    },
    {
     "data": {
      "text/html": [
       "<html><script type=\"math/tex; mode=display\">\\newcommand{\\Bold}[1]{\\mathbf{#1}}\\left(\\verb|[1,|\\phantom{\\verb!x!}\\verb|0,|\\phantom{\\verb!x!}\\verb|0,|\\phantom{\\verb!x!}\\verb|1,|\\phantom{\\verb!x!}\\verb|1,|\\phantom{\\verb!x!}\\verb|1,|\\phantom{\\verb!x!}\\verb|1]|, \\left\\{\\verb|mon| : \\left(\\begin{array}{rr}\n",
       "l^{5} - 4 \\, l^{3} + 3 \\, l & l^{4} - 3 \\, l^{2} + 1 \\\\\n",
       "-l^{4} + 3 \\, l^{2} - 1 & -l^{3} + 2 \\, l\n",
       "\\end{array}\\right), \\verb|sol| : \\left[-\\sqrt{\\frac{1}{2} \\, \\sqrt{5} + \\frac{3}{2}}, -\\sqrt{-\\frac{1}{2} \\, \\sqrt{5} + \\frac{3}{2}}, \\sqrt{-\\frac{1}{2} \\, \\sqrt{5} + \\frac{3}{2}}, \\sqrt{\\frac{1}{2} \\, \\sqrt{5} + \\frac{3}{2}}\\right], \\verb|trace| : \\left[-{\\left(\\frac{1}{2} \\, \\sqrt{5} + \\frac{3}{2}\\right)}^{\\frac{5}{2}} + 5 \\, {\\left(\\frac{1}{2} \\, \\sqrt{5} + \\frac{3}{2}\\right)}^{\\frac{3}{2}} - 5 \\, \\sqrt{\\frac{1}{2} \\, \\sqrt{5} + \\frac{3}{2}}, -{\\left(-\\frac{1}{2} \\, \\sqrt{5} + \\frac{3}{2}\\right)}^{\\frac{5}{2}} + 5 \\, {\\left(-\\frac{1}{2} \\, \\sqrt{5} + \\frac{3}{2}\\right)}^{\\frac{3}{2}} - 5 \\, \\sqrt{-\\frac{1}{2} \\, \\sqrt{5} + \\frac{3}{2}}, {\\left(-\\frac{1}{2} \\, \\sqrt{5} + \\frac{3}{2}\\right)}^{\\frac{5}{2}} - 5 \\, {\\left(-\\frac{1}{2} \\, \\sqrt{5} + \\frac{3}{2}\\right)}^{\\frac{3}{2}} + 5 \\, \\sqrt{-\\frac{1}{2} \\, \\sqrt{5} + \\frac{3}{2}}, {\\left(\\frac{1}{2} \\, \\sqrt{5} + \\frac{3}{2}\\right)}^{\\frac{5}{2}} - 5 \\, {\\left(\\frac{1}{2} \\, \\sqrt{5} + \\frac{3}{2}\\right)}^{\\frac{3}{2}} + 5 \\, \\sqrt{\\frac{1}{2} \\, \\sqrt{5} + \\frac{3}{2}}\\right]\\right\\}\\right)</script></html>"
      ],
      "text/latex": [
       "\\begin{math}\n",
       "\\newcommand{\\Bold}[1]{\\mathbf{#1}}\\left(\\verb|[1,|\\phantom{\\verb!x!}\\verb|0,|\\phantom{\\verb!x!}\\verb|0,|\\phantom{\\verb!x!}\\verb|1,|\\phantom{\\verb!x!}\\verb|1,|\\phantom{\\verb!x!}\\verb|1,|\\phantom{\\verb!x!}\\verb|1]|, \\left\\{\\verb|mon| : \\left(\\begin{array}{rr}\n",
       "l^{5} - 4 \\, l^{3} + 3 \\, l & l^{4} - 3 \\, l^{2} + 1 \\\\\n",
       "-l^{4} + 3 \\, l^{2} - 1 & -l^{3} + 2 \\, l\n",
       "\\end{array}\\right), \\verb|sol| : \\left[-\\sqrt{\\frac{1}{2} \\, \\sqrt{5} + \\frac{3}{2}}, -\\sqrt{-\\frac{1}{2} \\, \\sqrt{5} + \\frac{3}{2}}, \\sqrt{-\\frac{1}{2} \\, \\sqrt{5} + \\frac{3}{2}}, \\sqrt{\\frac{1}{2} \\, \\sqrt{5} + \\frac{3}{2}}\\right], \\verb|trace| : \\left[-{\\left(\\frac{1}{2} \\, \\sqrt{5} + \\frac{3}{2}\\right)}^{\\frac{5}{2}} + 5 \\, {\\left(\\frac{1}{2} \\, \\sqrt{5} + \\frac{3}{2}\\right)}^{\\frac{3}{2}} - 5 \\, \\sqrt{\\frac{1}{2} \\, \\sqrt{5} + \\frac{3}{2}}, -{\\left(-\\frac{1}{2} \\, \\sqrt{5} + \\frac{3}{2}\\right)}^{\\frac{5}{2}} + 5 \\, {\\left(-\\frac{1}{2} \\, \\sqrt{5} + \\frac{3}{2}\\right)}^{\\frac{3}{2}} - 5 \\, \\sqrt{-\\frac{1}{2} \\, \\sqrt{5} + \\frac{3}{2}}, {\\left(-\\frac{1}{2} \\, \\sqrt{5} + \\frac{3}{2}\\right)}^{\\frac{5}{2}} - 5 \\, {\\left(-\\frac{1}{2} \\, \\sqrt{5} + \\frac{3}{2}\\right)}^{\\frac{3}{2}} + 5 \\, \\sqrt{-\\frac{1}{2} \\, \\sqrt{5} + \\frac{3}{2}}, {\\left(\\frac{1}{2} \\, \\sqrt{5} + \\frac{3}{2}\\right)}^{\\frac{5}{2}} - 5 \\, {\\left(\\frac{1}{2} \\, \\sqrt{5} + \\frac{3}{2}\\right)}^{\\frac{3}{2}} + 5 \\, \\sqrt{\\frac{1}{2} \\, \\sqrt{5} + \\frac{3}{2}}\\right]\\right\\}\\right)\n",
       "\\end{math}"
      ],
      "text/plain": [
       "('[1, 0, 0, 1, 1, 1, 1]',\n",
       " {'mon': [l^5 - 4*l^3 + 3*l   l^4 - 3*l^2 + 1]\n",
       "  [ -l^4 + 3*l^2 - 1        -l^3 + 2*l],\n",
       "  'sol': [-sqrt(1/2*sqrt(5) + 3/2),\n",
       "   -sqrt(-1/2*sqrt(5) + 3/2),\n",
       "   sqrt(-1/2*sqrt(5) + 3/2),\n",
       "   sqrt(1/2*sqrt(5) + 3/2)],\n",
       "  'trace': [-(1/2*sqrt(5) + 3/2)^(5/2) + 5*(1/2*sqrt(5) + 3/2)^(3/2) - 5*sqrt(1/2*sqrt(5) + 3/2),\n",
       "   -(-1/2*sqrt(5) + 3/2)^(5/2) + 5*(-1/2*sqrt(5) + 3/2)^(3/2) - 5*sqrt(-1/2*sqrt(5) + 3/2),\n",
       "   (-1/2*sqrt(5) + 3/2)^(5/2) - 5*(-1/2*sqrt(5) + 3/2)^(3/2) + 5*sqrt(-1/2*sqrt(5) + 3/2),\n",
       "   (1/2*sqrt(5) + 3/2)^(5/2) - 5*(1/2*sqrt(5) + 3/2)^(3/2) + 5*sqrt(1/2*sqrt(5) + 3/2)]})"
      ]
     },
     "metadata": {},
     "output_type": "display_data"
    },
    {
     "data": {
      "text/html": [
       "<html><script type=\"math/tex; mode=display\">\\newcommand{\\Bold}[1]{\\mathbf{#1}}\\left(\\verb|[0,|\\phantom{\\verb!x!}\\verb|1,|\\phantom{\\verb!x!}\\verb|0,|\\phantom{\\verb!x!}\\verb|1,|\\phantom{\\verb!x!}\\verb|1,|\\phantom{\\verb!x!}\\verb|1,|\\phantom{\\verb!x!}\\verb|1]|, \\left\\{\\verb|mon| : \\left(\\begin{array}{rr}\n",
       "-l^{3} + 2 \\, l & 2 \\, l^{4} - 5 \\, l^{2} + 1 \\\\\n",
       "l^{2} - 1 & -2 \\, l^{3} + 3 \\, l\n",
       "\\end{array}\\right), \\verb|sol| : \\left[-1, 1\\right], \\verb|trace| : \\left[-2, 2\\right]\\right\\}\\right)</script></html>"
      ],
      "text/latex": [
       "\\begin{math}\n",
       "\\newcommand{\\Bold}[1]{\\mathbf{#1}}\\left(\\verb|[0,|\\phantom{\\verb!x!}\\verb|1,|\\phantom{\\verb!x!}\\verb|0,|\\phantom{\\verb!x!}\\verb|1,|\\phantom{\\verb!x!}\\verb|1,|\\phantom{\\verb!x!}\\verb|1,|\\phantom{\\verb!x!}\\verb|1]|, \\left\\{\\verb|mon| : \\left(\\begin{array}{rr}\n",
       "-l^{3} + 2 \\, l & 2 \\, l^{4} - 5 \\, l^{2} + 1 \\\\\n",
       "l^{2} - 1 & -2 \\, l^{3} + 3 \\, l\n",
       "\\end{array}\\right), \\verb|sol| : \\left[-1, 1\\right], \\verb|trace| : \\left[-2, 2\\right]\\right\\}\\right)\n",
       "\\end{math}"
      ],
      "text/plain": [
       "('[0, 1, 0, 1, 1, 1, 1]',\n",
       " {'mon': [       -l^3 + 2*l 2*l^4 - 5*l^2 + 1]\n",
       "  [          l^2 - 1      -2*l^3 + 3*l], 'sol': [-1, 1], 'trace': [-2, 2]})"
      ]
     },
     "metadata": {},
     "output_type": "display_data"
    },
    {
     "data": {
      "text/html": [
       "<html><script type=\"math/tex; mode=display\">\\newcommand{\\Bold}[1]{\\mathbf{#1}}\\left(\\verb|[1,|\\phantom{\\verb!x!}\\verb|1,|\\phantom{\\verb!x!}\\verb|0,|\\phantom{\\verb!x!}\\verb|1,|\\phantom{\\verb!x!}\\verb|1,|\\phantom{\\verb!x!}\\verb|1,|\\phantom{\\verb!x!}\\verb|1]|, \\left\\{\\verb|mon| : \\left(\\begin{array}{rr}\n",
       "2 \\, l^{5} - 6 \\, l^{3} + 3 \\, l & 2 \\, l^{4} - 5 \\, l^{2} + 1 \\\\\n",
       "-2 \\, l^{4} + 4 \\, l^{2} - 1 & -2 \\, l^{3} + 3 \\, l\n",
       "\\end{array}\\right), \\verb|sol| : \\left[-\\sqrt{\\frac{1}{2} \\, \\sqrt{2} + 1}, -\\sqrt{-\\frac{1}{2} \\, \\sqrt{2} + 1}, \\sqrt{-\\frac{1}{2} \\, \\sqrt{2} + 1}, \\sqrt{\\frac{1}{2} \\, \\sqrt{2} + 1}\\right], \\verb|trace| : \\left[-2 \\, {\\left(\\frac{1}{2} \\, \\sqrt{2} + 1\\right)}^{\\frac{5}{2}} + 8 \\, {\\left(\\frac{1}{2} \\, \\sqrt{2} + 1\\right)}^{\\frac{3}{2}} - 6 \\, \\sqrt{\\frac{1}{2} \\, \\sqrt{2} + 1}, -2 \\, {\\left(-\\frac{1}{2} \\, \\sqrt{2} + 1\\right)}^{\\frac{5}{2}} + 8 \\, {\\left(-\\frac{1}{2} \\, \\sqrt{2} + 1\\right)}^{\\frac{3}{2}} - 6 \\, \\sqrt{-\\frac{1}{2} \\, \\sqrt{2} + 1}, 2 \\, {\\left(-\\frac{1}{2} \\, \\sqrt{2} + 1\\right)}^{\\frac{5}{2}} - 8 \\, {\\left(-\\frac{1}{2} \\, \\sqrt{2} + 1\\right)}^{\\frac{3}{2}} + 6 \\, \\sqrt{-\\frac{1}{2} \\, \\sqrt{2} + 1}, 2 \\, {\\left(\\frac{1}{2} \\, \\sqrt{2} + 1\\right)}^{\\frac{5}{2}} - 8 \\, {\\left(\\frac{1}{2} \\, \\sqrt{2} + 1\\right)}^{\\frac{3}{2}} + 6 \\, \\sqrt{\\frac{1}{2} \\, \\sqrt{2} + 1}\\right]\\right\\}\\right)</script></html>"
      ],
      "text/latex": [
       "\\begin{math}\n",
       "\\newcommand{\\Bold}[1]{\\mathbf{#1}}\\left(\\verb|[1,|\\phantom{\\verb!x!}\\verb|1,|\\phantom{\\verb!x!}\\verb|0,|\\phantom{\\verb!x!}\\verb|1,|\\phantom{\\verb!x!}\\verb|1,|\\phantom{\\verb!x!}\\verb|1,|\\phantom{\\verb!x!}\\verb|1]|, \\left\\{\\verb|mon| : \\left(\\begin{array}{rr}\n",
       "2 \\, l^{5} - 6 \\, l^{3} + 3 \\, l & 2 \\, l^{4} - 5 \\, l^{2} + 1 \\\\\n",
       "-2 \\, l^{4} + 4 \\, l^{2} - 1 & -2 \\, l^{3} + 3 \\, l\n",
       "\\end{array}\\right), \\verb|sol| : \\left[-\\sqrt{\\frac{1}{2} \\, \\sqrt{2} + 1}, -\\sqrt{-\\frac{1}{2} \\, \\sqrt{2} + 1}, \\sqrt{-\\frac{1}{2} \\, \\sqrt{2} + 1}, \\sqrt{\\frac{1}{2} \\, \\sqrt{2} + 1}\\right], \\verb|trace| : \\left[-2 \\, {\\left(\\frac{1}{2} \\, \\sqrt{2} + 1\\right)}^{\\frac{5}{2}} + 8 \\, {\\left(\\frac{1}{2} \\, \\sqrt{2} + 1\\right)}^{\\frac{3}{2}} - 6 \\, \\sqrt{\\frac{1}{2} \\, \\sqrt{2} + 1}, -2 \\, {\\left(-\\frac{1}{2} \\, \\sqrt{2} + 1\\right)}^{\\frac{5}{2}} + 8 \\, {\\left(-\\frac{1}{2} \\, \\sqrt{2} + 1\\right)}^{\\frac{3}{2}} - 6 \\, \\sqrt{-\\frac{1}{2} \\, \\sqrt{2} + 1}, 2 \\, {\\left(-\\frac{1}{2} \\, \\sqrt{2} + 1\\right)}^{\\frac{5}{2}} - 8 \\, {\\left(-\\frac{1}{2} \\, \\sqrt{2} + 1\\right)}^{\\frac{3}{2}} + 6 \\, \\sqrt{-\\frac{1}{2} \\, \\sqrt{2} + 1}, 2 \\, {\\left(\\frac{1}{2} \\, \\sqrt{2} + 1\\right)}^{\\frac{5}{2}} - 8 \\, {\\left(\\frac{1}{2} \\, \\sqrt{2} + 1\\right)}^{\\frac{3}{2}} + 6 \\, \\sqrt{\\frac{1}{2} \\, \\sqrt{2} + 1}\\right]\\right\\}\\right)\n",
       "\\end{math}"
      ],
      "text/plain": [
       "('[1, 1, 0, 1, 1, 1, 1]',\n",
       " {'mon': [2*l^5 - 6*l^3 + 3*l   2*l^4 - 5*l^2 + 1]\n",
       "  [ -2*l^4 + 4*l^2 - 1        -2*l^3 + 3*l],\n",
       "  'sol': [-sqrt(1/2*sqrt(2) + 1),\n",
       "   -sqrt(-1/2*sqrt(2) + 1),\n",
       "   sqrt(-1/2*sqrt(2) + 1),\n",
       "   sqrt(1/2*sqrt(2) + 1)],\n",
       "  'trace': [-2*(1/2*sqrt(2) + 1)^(5/2) + 8*(1/2*sqrt(2) + 1)^(3/2) - 6*sqrt(1/2*sqrt(2) + 1),\n",
       "   -2*(-1/2*sqrt(2) + 1)^(5/2) + 8*(-1/2*sqrt(2) + 1)^(3/2) - 6*sqrt(-1/2*sqrt(2) + 1),\n",
       "   2*(-1/2*sqrt(2) + 1)^(5/2) - 8*(-1/2*sqrt(2) + 1)^(3/2) + 6*sqrt(-1/2*sqrt(2) + 1),\n",
       "   2*(1/2*sqrt(2) + 1)^(5/2) - 8*(1/2*sqrt(2) + 1)^(3/2) + 6*sqrt(1/2*sqrt(2) + 1)]})"
      ]
     },
     "metadata": {},
     "output_type": "display_data"
    },
    {
     "data": {
      "text/html": [
       "<html><script type=\"math/tex; mode=display\">\\newcommand{\\Bold}[1]{\\mathbf{#1}}\\left(\\verb|[0,|\\phantom{\\verb!x!}\\verb|0,|\\phantom{\\verb!x!}\\verb|1,|\\phantom{\\verb!x!}\\verb|1,|\\phantom{\\verb!x!}\\verb|1,|\\phantom{\\verb!x!}\\verb|1,|\\phantom{\\verb!x!}\\verb|1]|, \\left\\{\\verb|mon| : \\left(\\begin{array}{rr}\n",
       "l^{5} - 4 \\, l^{3} + 3 \\, l & l^{4} - 3 \\, l^{2} + 1 \\\\\n",
       "-l^{4} + 3 \\, l^{2} - 1 & -l^{3} + 2 \\, l\n",
       "\\end{array}\\right), \\verb|sol| : \\left[-\\sqrt{\\frac{1}{2} \\, \\sqrt{5} + \\frac{3}{2}}, -\\sqrt{-\\frac{1}{2} \\, \\sqrt{5} + \\frac{3}{2}}, \\sqrt{-\\frac{1}{2} \\, \\sqrt{5} + \\frac{3}{2}}, \\sqrt{\\frac{1}{2} \\, \\sqrt{5} + \\frac{3}{2}}\\right], \\verb|trace| : \\left[-{\\left(\\frac{1}{2} \\, \\sqrt{5} + \\frac{3}{2}\\right)}^{\\frac{5}{2}} + 5 \\, {\\left(\\frac{1}{2} \\, \\sqrt{5} + \\frac{3}{2}\\right)}^{\\frac{3}{2}} - 5 \\, \\sqrt{\\frac{1}{2} \\, \\sqrt{5} + \\frac{3}{2}}, -{\\left(-\\frac{1}{2} \\, \\sqrt{5} + \\frac{3}{2}\\right)}^{\\frac{5}{2}} + 5 \\, {\\left(-\\frac{1}{2} \\, \\sqrt{5} + \\frac{3}{2}\\right)}^{\\frac{3}{2}} - 5 \\, \\sqrt{-\\frac{1}{2} \\, \\sqrt{5} + \\frac{3}{2}}, {\\left(-\\frac{1}{2} \\, \\sqrt{5} + \\frac{3}{2}\\right)}^{\\frac{5}{2}} - 5 \\, {\\left(-\\frac{1}{2} \\, \\sqrt{5} + \\frac{3}{2}\\right)}^{\\frac{3}{2}} + 5 \\, \\sqrt{-\\frac{1}{2} \\, \\sqrt{5} + \\frac{3}{2}}, {\\left(\\frac{1}{2} \\, \\sqrt{5} + \\frac{3}{2}\\right)}^{\\frac{5}{2}} - 5 \\, {\\left(\\frac{1}{2} \\, \\sqrt{5} + \\frac{3}{2}\\right)}^{\\frac{3}{2}} + 5 \\, \\sqrt{\\frac{1}{2} \\, \\sqrt{5} + \\frac{3}{2}}\\right]\\right\\}\\right)</script></html>"
      ],
      "text/latex": [
       "\\begin{math}\n",
       "\\newcommand{\\Bold}[1]{\\mathbf{#1}}\\left(\\verb|[0,|\\phantom{\\verb!x!}\\verb|0,|\\phantom{\\verb!x!}\\verb|1,|\\phantom{\\verb!x!}\\verb|1,|\\phantom{\\verb!x!}\\verb|1,|\\phantom{\\verb!x!}\\verb|1,|\\phantom{\\verb!x!}\\verb|1]|, \\left\\{\\verb|mon| : \\left(\\begin{array}{rr}\n",
       "l^{5} - 4 \\, l^{3} + 3 \\, l & l^{4} - 3 \\, l^{2} + 1 \\\\\n",
       "-l^{4} + 3 \\, l^{2} - 1 & -l^{3} + 2 \\, l\n",
       "\\end{array}\\right), \\verb|sol| : \\left[-\\sqrt{\\frac{1}{2} \\, \\sqrt{5} + \\frac{3}{2}}, -\\sqrt{-\\frac{1}{2} \\, \\sqrt{5} + \\frac{3}{2}}, \\sqrt{-\\frac{1}{2} \\, \\sqrt{5} + \\frac{3}{2}}, \\sqrt{\\frac{1}{2} \\, \\sqrt{5} + \\frac{3}{2}}\\right], \\verb|trace| : \\left[-{\\left(\\frac{1}{2} \\, \\sqrt{5} + \\frac{3}{2}\\right)}^{\\frac{5}{2}} + 5 \\, {\\left(\\frac{1}{2} \\, \\sqrt{5} + \\frac{3}{2}\\right)}^{\\frac{3}{2}} - 5 \\, \\sqrt{\\frac{1}{2} \\, \\sqrt{5} + \\frac{3}{2}}, -{\\left(-\\frac{1}{2} \\, \\sqrt{5} + \\frac{3}{2}\\right)}^{\\frac{5}{2}} + 5 \\, {\\left(-\\frac{1}{2} \\, \\sqrt{5} + \\frac{3}{2}\\right)}^{\\frac{3}{2}} - 5 \\, \\sqrt{-\\frac{1}{2} \\, \\sqrt{5} + \\frac{3}{2}}, {\\left(-\\frac{1}{2} \\, \\sqrt{5} + \\frac{3}{2}\\right)}^{\\frac{5}{2}} - 5 \\, {\\left(-\\frac{1}{2} \\, \\sqrt{5} + \\frac{3}{2}\\right)}^{\\frac{3}{2}} + 5 \\, \\sqrt{-\\frac{1}{2} \\, \\sqrt{5} + \\frac{3}{2}}, {\\left(\\frac{1}{2} \\, \\sqrt{5} + \\frac{3}{2}\\right)}^{\\frac{5}{2}} - 5 \\, {\\left(\\frac{1}{2} \\, \\sqrt{5} + \\frac{3}{2}\\right)}^{\\frac{3}{2}} + 5 \\, \\sqrt{\\frac{1}{2} \\, \\sqrt{5} + \\frac{3}{2}}\\right]\\right\\}\\right)\n",
       "\\end{math}"
      ],
      "text/plain": [
       "('[0, 0, 1, 1, 1, 1, 1]',\n",
       " {'mon': [l^5 - 4*l^3 + 3*l   l^4 - 3*l^2 + 1]\n",
       "  [ -l^4 + 3*l^2 - 1        -l^3 + 2*l],\n",
       "  'sol': [-sqrt(1/2*sqrt(5) + 3/2),\n",
       "   -sqrt(-1/2*sqrt(5) + 3/2),\n",
       "   sqrt(-1/2*sqrt(5) + 3/2),\n",
       "   sqrt(1/2*sqrt(5) + 3/2)],\n",
       "  'trace': [-(1/2*sqrt(5) + 3/2)^(5/2) + 5*(1/2*sqrt(5) + 3/2)^(3/2) - 5*sqrt(1/2*sqrt(5) + 3/2),\n",
       "   -(-1/2*sqrt(5) + 3/2)^(5/2) + 5*(-1/2*sqrt(5) + 3/2)^(3/2) - 5*sqrt(-1/2*sqrt(5) + 3/2),\n",
       "   (-1/2*sqrt(5) + 3/2)^(5/2) - 5*(-1/2*sqrt(5) + 3/2)^(3/2) + 5*sqrt(-1/2*sqrt(5) + 3/2),\n",
       "   (1/2*sqrt(5) + 3/2)^(5/2) - 5*(1/2*sqrt(5) + 3/2)^(3/2) + 5*sqrt(1/2*sqrt(5) + 3/2)]})"
      ]
     },
     "metadata": {},
     "output_type": "display_data"
    },
    {
     "data": {
      "text/html": [
       "<html><script type=\"math/tex; mode=display\">\\newcommand{\\Bold}[1]{\\mathbf{#1}}\\left(\\verb|[1,|\\phantom{\\verb!x!}\\verb|0,|\\phantom{\\verb!x!}\\verb|1,|\\phantom{\\verb!x!}\\verb|1,|\\phantom{\\verb!x!}\\verb|1,|\\phantom{\\verb!x!}\\verb|1,|\\phantom{\\verb!x!}\\verb|1]|, \\left\\{\\verb|mon| : \\left(\\begin{array}{rr}\n",
       "2 \\, l^{5} - 7 \\, l^{3} + 4 \\, l & l^{4} - 3 \\, l^{2} + 1 \\\\\n",
       "-2 \\, l^{4} + 5 \\, l^{2} - 1 & -l^{3} + 2 \\, l\n",
       "\\end{array}\\right), \\verb|sol| : \\left[-\\frac{1}{2} \\, \\sqrt{\\sqrt{17} + 5}, -\\frac{1}{2} \\, \\sqrt{-\\sqrt{17} + 5}, \\frac{1}{2} \\, \\sqrt{-\\sqrt{17} + 5}, \\frac{1}{2} \\, \\sqrt{\\sqrt{17} + 5}\\right], \\verb|trace| : \\left[-\\frac{1}{16} \\, {\\left(\\sqrt{17} + 5\\right)}^{\\frac{5}{2}} + {\\left(\\sqrt{17} + 5\\right)}^{\\frac{3}{2}} - 3 \\, \\sqrt{\\sqrt{17} + 5}, -\\frac{1}{16} \\, {\\left(-\\sqrt{17} + 5\\right)}^{\\frac{5}{2}} + {\\left(-\\sqrt{17} + 5\\right)}^{\\frac{3}{2}} - 3 \\, \\sqrt{-\\sqrt{17} + 5}, \\frac{1}{16} \\, {\\left(-\\sqrt{17} + 5\\right)}^{\\frac{5}{2}} - {\\left(-\\sqrt{17} + 5\\right)}^{\\frac{3}{2}} + 3 \\, \\sqrt{-\\sqrt{17} + 5}, \\frac{1}{16} \\, {\\left(\\sqrt{17} + 5\\right)}^{\\frac{5}{2}} - {\\left(\\sqrt{17} + 5\\right)}^{\\frac{3}{2}} + 3 \\, \\sqrt{\\sqrt{17} + 5}\\right]\\right\\}\\right)</script></html>"
      ],
      "text/latex": [
       "\\begin{math}\n",
       "\\newcommand{\\Bold}[1]{\\mathbf{#1}}\\left(\\verb|[1,|\\phantom{\\verb!x!}\\verb|0,|\\phantom{\\verb!x!}\\verb|1,|\\phantom{\\verb!x!}\\verb|1,|\\phantom{\\verb!x!}\\verb|1,|\\phantom{\\verb!x!}\\verb|1,|\\phantom{\\verb!x!}\\verb|1]|, \\left\\{\\verb|mon| : \\left(\\begin{array}{rr}\n",
       "2 \\, l^{5} - 7 \\, l^{3} + 4 \\, l & l^{4} - 3 \\, l^{2} + 1 \\\\\n",
       "-2 \\, l^{4} + 5 \\, l^{2} - 1 & -l^{3} + 2 \\, l\n",
       "\\end{array}\\right), \\verb|sol| : \\left[-\\frac{1}{2} \\, \\sqrt{\\sqrt{17} + 5}, -\\frac{1}{2} \\, \\sqrt{-\\sqrt{17} + 5}, \\frac{1}{2} \\, \\sqrt{-\\sqrt{17} + 5}, \\frac{1}{2} \\, \\sqrt{\\sqrt{17} + 5}\\right], \\verb|trace| : \\left[-\\frac{1}{16} \\, {\\left(\\sqrt{17} + 5\\right)}^{\\frac{5}{2}} + {\\left(\\sqrt{17} + 5\\right)}^{\\frac{3}{2}} - 3 \\, \\sqrt{\\sqrt{17} + 5}, -\\frac{1}{16} \\, {\\left(-\\sqrt{17} + 5\\right)}^{\\frac{5}{2}} + {\\left(-\\sqrt{17} + 5\\right)}^{\\frac{3}{2}} - 3 \\, \\sqrt{-\\sqrt{17} + 5}, \\frac{1}{16} \\, {\\left(-\\sqrt{17} + 5\\right)}^{\\frac{5}{2}} - {\\left(-\\sqrt{17} + 5\\right)}^{\\frac{3}{2}} + 3 \\, \\sqrt{-\\sqrt{17} + 5}, \\frac{1}{16} \\, {\\left(\\sqrt{17} + 5\\right)}^{\\frac{5}{2}} - {\\left(\\sqrt{17} + 5\\right)}^{\\frac{3}{2}} + 3 \\, \\sqrt{\\sqrt{17} + 5}\\right]\\right\\}\\right)\n",
       "\\end{math}"
      ],
      "text/plain": [
       "('[1, 0, 1, 1, 1, 1, 1]',\n",
       " {'mon': [2*l^5 - 7*l^3 + 4*l     l^4 - 3*l^2 + 1]\n",
       "  [ -2*l^4 + 5*l^2 - 1          -l^3 + 2*l],\n",
       "  'sol': [-1/2*sqrt(sqrt(17) + 5),\n",
       "   -1/2*sqrt(-sqrt(17) + 5),\n",
       "   1/2*sqrt(-sqrt(17) + 5),\n",
       "   1/2*sqrt(sqrt(17) + 5)],\n",
       "  'trace': [-1/16*(sqrt(17) + 5)^(5/2) + (sqrt(17) + 5)^(3/2) - 3*sqrt(sqrt(17) + 5),\n",
       "   -1/16*(-sqrt(17) + 5)^(5/2) + (-sqrt(17) + 5)^(3/2) - 3*sqrt(-sqrt(17) + 5),\n",
       "   1/16*(-sqrt(17) + 5)^(5/2) - (-sqrt(17) + 5)^(3/2) + 3*sqrt(-sqrt(17) + 5),\n",
       "   1/16*(sqrt(17) + 5)^(5/2) - (sqrt(17) + 5)^(3/2) + 3*sqrt(sqrt(17) + 5)]})"
      ]
     },
     "metadata": {},
     "output_type": "display_data"
    },
    {
     "data": {
      "text/html": [
       "<html><script type=\"math/tex; mode=display\">\\newcommand{\\Bold}[1]{\\mathbf{#1}}\\left(\\verb|[0,|\\phantom{\\verb!x!}\\verb|1,|\\phantom{\\verb!x!}\\verb|1,|\\phantom{\\verb!x!}\\verb|1,|\\phantom{\\verb!x!}\\verb|1,|\\phantom{\\verb!x!}\\verb|1,|\\phantom{\\verb!x!}\\verb|1]|, \\left\\{\\verb|mon| : \\left(\\begin{array}{rr}\n",
       "l^{5} - 4 \\, l^{3} + 3 \\, l & -l^{6} + 5 \\, l^{4} - 6 \\, l^{2} + 1 \\\\\n",
       "-l^{4} + 3 \\, l^{2} - 1 & l^{5} - 4 \\, l^{3} + 3 \\, l\n",
       "\\end{array}\\right), \\verb|sol| : \\left[-\\sqrt{\\frac{1}{2} \\, \\sqrt{5} + \\frac{3}{2}}, -\\sqrt{-\\frac{1}{2} \\, \\sqrt{5} + \\frac{3}{2}}, \\sqrt{-\\frac{1}{2} \\, \\sqrt{5} + \\frac{3}{2}}, \\sqrt{\\frac{1}{2} \\, \\sqrt{5} + \\frac{3}{2}}\\right], \\verb|trace| : \\left[-2 \\, {\\left(\\frac{1}{2} \\, \\sqrt{5} + \\frac{3}{2}\\right)}^{\\frac{5}{2}} + 8 \\, {\\left(\\frac{1}{2} \\, \\sqrt{5} + \\frac{3}{2}\\right)}^{\\frac{3}{2}} - 6 \\, \\sqrt{\\frac{1}{2} \\, \\sqrt{5} + \\frac{3}{2}}, -2 \\, {\\left(-\\frac{1}{2} \\, \\sqrt{5} + \\frac{3}{2}\\right)}^{\\frac{5}{2}} + 8 \\, {\\left(-\\frac{1}{2} \\, \\sqrt{5} + \\frac{3}{2}\\right)}^{\\frac{3}{2}} - 6 \\, \\sqrt{-\\frac{1}{2} \\, \\sqrt{5} + \\frac{3}{2}}, 2 \\, {\\left(-\\frac{1}{2} \\, \\sqrt{5} + \\frac{3}{2}\\right)}^{\\frac{5}{2}} - 8 \\, {\\left(-\\frac{1}{2} \\, \\sqrt{5} + \\frac{3}{2}\\right)}^{\\frac{3}{2}} + 6 \\, \\sqrt{-\\frac{1}{2} \\, \\sqrt{5} + \\frac{3}{2}}, 2 \\, {\\left(\\frac{1}{2} \\, \\sqrt{5} + \\frac{3}{2}\\right)}^{\\frac{5}{2}} - 8 \\, {\\left(\\frac{1}{2} \\, \\sqrt{5} + \\frac{3}{2}\\right)}^{\\frac{3}{2}} + 6 \\, \\sqrt{\\frac{1}{2} \\, \\sqrt{5} + \\frac{3}{2}}\\right]\\right\\}\\right)</script></html>"
      ],
      "text/latex": [
       "\\begin{math}\n",
       "\\newcommand{\\Bold}[1]{\\mathbf{#1}}\\left(\\verb|[0,|\\phantom{\\verb!x!}\\verb|1,|\\phantom{\\verb!x!}\\verb|1,|\\phantom{\\verb!x!}\\verb|1,|\\phantom{\\verb!x!}\\verb|1,|\\phantom{\\verb!x!}\\verb|1,|\\phantom{\\verb!x!}\\verb|1]|, \\left\\{\\verb|mon| : \\left(\\begin{array}{rr}\n",
       "l^{5} - 4 \\, l^{3} + 3 \\, l & -l^{6} + 5 \\, l^{4} - 6 \\, l^{2} + 1 \\\\\n",
       "-l^{4} + 3 \\, l^{2} - 1 & l^{5} - 4 \\, l^{3} + 3 \\, l\n",
       "\\end{array}\\right), \\verb|sol| : \\left[-\\sqrt{\\frac{1}{2} \\, \\sqrt{5} + \\frac{3}{2}}, -\\sqrt{-\\frac{1}{2} \\, \\sqrt{5} + \\frac{3}{2}}, \\sqrt{-\\frac{1}{2} \\, \\sqrt{5} + \\frac{3}{2}}, \\sqrt{\\frac{1}{2} \\, \\sqrt{5} + \\frac{3}{2}}\\right], \\verb|trace| : \\left[-2 \\, {\\left(\\frac{1}{2} \\, \\sqrt{5} + \\frac{3}{2}\\right)}^{\\frac{5}{2}} + 8 \\, {\\left(\\frac{1}{2} \\, \\sqrt{5} + \\frac{3}{2}\\right)}^{\\frac{3}{2}} - 6 \\, \\sqrt{\\frac{1}{2} \\, \\sqrt{5} + \\frac{3}{2}}, -2 \\, {\\left(-\\frac{1}{2} \\, \\sqrt{5} + \\frac{3}{2}\\right)}^{\\frac{5}{2}} + 8 \\, {\\left(-\\frac{1}{2} \\, \\sqrt{5} + \\frac{3}{2}\\right)}^{\\frac{3}{2}} - 6 \\, \\sqrt{-\\frac{1}{2} \\, \\sqrt{5} + \\frac{3}{2}}, 2 \\, {\\left(-\\frac{1}{2} \\, \\sqrt{5} + \\frac{3}{2}\\right)}^{\\frac{5}{2}} - 8 \\, {\\left(-\\frac{1}{2} \\, \\sqrt{5} + \\frac{3}{2}\\right)}^{\\frac{3}{2}} + 6 \\, \\sqrt{-\\frac{1}{2} \\, \\sqrt{5} + \\frac{3}{2}}, 2 \\, {\\left(\\frac{1}{2} \\, \\sqrt{5} + \\frac{3}{2}\\right)}^{\\frac{5}{2}} - 8 \\, {\\left(\\frac{1}{2} \\, \\sqrt{5} + \\frac{3}{2}\\right)}^{\\frac{3}{2}} + 6 \\, \\sqrt{\\frac{1}{2} \\, \\sqrt{5} + \\frac{3}{2}}\\right]\\right\\}\\right)\n",
       "\\end{math}"
      ],
      "text/plain": [
       "('[0, 1, 1, 1, 1, 1, 1]',\n",
       " {'mon': [       l^5 - 4*l^3 + 3*l -l^6 + 5*l^4 - 6*l^2 + 1]\n",
       "  [        -l^4 + 3*l^2 - 1        l^5 - 4*l^3 + 3*l],\n",
       "  'sol': [-sqrt(1/2*sqrt(5) + 3/2),\n",
       "   -sqrt(-1/2*sqrt(5) + 3/2),\n",
       "   sqrt(-1/2*sqrt(5) + 3/2),\n",
       "   sqrt(1/2*sqrt(5) + 3/2)],\n",
       "  'trace': [-2*(1/2*sqrt(5) + 3/2)^(5/2) + 8*(1/2*sqrt(5) + 3/2)^(3/2) - 6*sqrt(1/2*sqrt(5) + 3/2),\n",
       "   -2*(-1/2*sqrt(5) + 3/2)^(5/2) + 8*(-1/2*sqrt(5) + 3/2)^(3/2) - 6*sqrt(-1/2*sqrt(5) + 3/2),\n",
       "   2*(-1/2*sqrt(5) + 3/2)^(5/2) - 8*(-1/2*sqrt(5) + 3/2)^(3/2) + 6*sqrt(-1/2*sqrt(5) + 3/2),\n",
       "   2*(1/2*sqrt(5) + 3/2)^(5/2) - 8*(1/2*sqrt(5) + 3/2)^(3/2) + 6*sqrt(1/2*sqrt(5) + 3/2)]})"
      ]
     },
     "metadata": {},
     "output_type": "display_data"
    },
    {
     "data": {
      "text/html": [
       "<html><script type=\"math/tex; mode=display\">\\newcommand{\\Bold}[1]{\\mathbf{#1}}\\verb|Period|\\phantom{\\verb!x!}\\verb|Length|\\phantom{\\verb!x!}\\verb|K|\\phantom{\\verb!x!}\\verb|=| 8</script></html>"
      ],
      "text/latex": [
       "\\begin{math}\n",
       "\\newcommand{\\Bold}[1]{\\mathbf{#1}}\\verb|Period|\\phantom{\\verb!x!}\\verb|Length|\\phantom{\\verb!x!}\\verb|K|\\phantom{\\verb!x!}\\verb|=| 8\n",
       "\\end{math}"
      ],
      "text/plain": [
       "'Period Length K = ' 8"
      ]
     },
     "metadata": {},
     "output_type": "display_data"
    },
    {
     "data": {
      "text/html": [
       "<html><script type=\"math/tex; mode=display\">\\newcommand{\\Bold}[1]{\\mathbf{#1}}\\left(\\verb|[0,|\\phantom{\\verb!x!}\\verb|0,|\\phantom{\\verb!x!}\\verb|0,|\\phantom{\\verb!x!}\\verb|0,|\\phantom{\\verb!x!}\\verb|0,|\\phantom{\\verb!x!}\\verb|0,|\\phantom{\\verb!x!}\\verb|0,|\\phantom{\\verb!x!}\\verb|0]|, \\left\\{\\verb|mon| : \\left(\\begin{array}{rr}\n",
       "1 & 0 \\\\\n",
       "0 & 1\n",
       "\\end{array}\\right), \\verb|sol| : \\left[r_{1}\\right], \\verb|trace| : \\left[2\\right]\\right\\}\\right)</script></html>"
      ],
      "text/latex": [
       "\\begin{math}\n",
       "\\newcommand{\\Bold}[1]{\\mathbf{#1}}\\left(\\verb|[0,|\\phantom{\\verb!x!}\\verb|0,|\\phantom{\\verb!x!}\\verb|0,|\\phantom{\\verb!x!}\\verb|0,|\\phantom{\\verb!x!}\\verb|0,|\\phantom{\\verb!x!}\\verb|0,|\\phantom{\\verb!x!}\\verb|0,|\\phantom{\\verb!x!}\\verb|0]|, \\left\\{\\verb|mon| : \\left(\\begin{array}{rr}\n",
       "1 & 0 \\\\\n",
       "0 & 1\n",
       "\\end{array}\\right), \\verb|sol| : \\left[r_{1}\\right], \\verb|trace| : \\left[2\\right]\\right\\}\\right)\n",
       "\\end{math}"
      ],
      "text/plain": [
       "('[0, 0, 0, 0, 0, 0, 0, 0]',\n",
       " {'mon': [1 0]\n",
       "  [0 1], 'sol': [r1], 'trace': [2]})"
      ]
     },
     "metadata": {},
     "output_type": "display_data"
    },
    {
     "data": {
      "text/html": [
       "<html><script type=\"math/tex; mode=display\">\\newcommand{\\Bold}[1]{\\mathbf{#1}}\\left(\\verb|[1,|\\phantom{\\verb!x!}\\verb|0,|\\phantom{\\verb!x!}\\verb|0,|\\phantom{\\verb!x!}\\verb|0,|\\phantom{\\verb!x!}\\verb|0,|\\phantom{\\verb!x!}\\verb|0,|\\phantom{\\verb!x!}\\verb|0,|\\phantom{\\verb!x!}\\verb|0]|, \\left\\{\\verb|mon| : \\left(\\begin{array}{rr}\n",
       "1 & 0 \\\\\n",
       "l & 1\n",
       "\\end{array}\\right), \\verb|sol| : \\left[0\\right], \\verb|trace| : \\left[2\\right]\\right\\}\\right)</script></html>"
      ],
      "text/latex": [
       "\\begin{math}\n",
       "\\newcommand{\\Bold}[1]{\\mathbf{#1}}\\left(\\verb|[1,|\\phantom{\\verb!x!}\\verb|0,|\\phantom{\\verb!x!}\\verb|0,|\\phantom{\\verb!x!}\\verb|0,|\\phantom{\\verb!x!}\\verb|0,|\\phantom{\\verb!x!}\\verb|0,|\\phantom{\\verb!x!}\\verb|0,|\\phantom{\\verb!x!}\\verb|0]|, \\left\\{\\verb|mon| : \\left(\\begin{array}{rr}\n",
       "1 & 0 \\\\\n",
       "l & 1\n",
       "\\end{array}\\right), \\verb|sol| : \\left[0\\right], \\verb|trace| : \\left[2\\right]\\right\\}\\right)\n",
       "\\end{math}"
      ],
      "text/plain": [
       "('[1, 0, 0, 0, 0, 0, 0, 0]',\n",
       " {'mon': [1 0]\n",
       "  [l 1], 'sol': [0], 'trace': [2]})"
      ]
     },
     "metadata": {},
     "output_type": "display_data"
    },
    {
     "data": {
      "text/html": [
       "<html><script type=\"math/tex; mode=display\">\\newcommand{\\Bold}[1]{\\mathbf{#1}}\\left(\\verb|[0,|\\phantom{\\verb!x!}\\verb|1,|\\phantom{\\verb!x!}\\verb|0,|\\phantom{\\verb!x!}\\verb|0,|\\phantom{\\verb!x!}\\verb|0,|\\phantom{\\verb!x!}\\verb|0,|\\phantom{\\verb!x!}\\verb|0,|\\phantom{\\verb!x!}\\verb|0]|, \\left\\{\\verb|mon| : \\left(\\begin{array}{rr}\n",
       "1 & -l \\\\\n",
       "0 & 1\n",
       "\\end{array}\\right), \\verb|sol| : \\left[r_{1}\\right], \\verb|trace| : \\left[2\\right]\\right\\}\\right)</script></html>"
      ],
      "text/latex": [
       "\\begin{math}\n",
       "\\newcommand{\\Bold}[1]{\\mathbf{#1}}\\left(\\verb|[0,|\\phantom{\\verb!x!}\\verb|1,|\\phantom{\\verb!x!}\\verb|0,|\\phantom{\\verb!x!}\\verb|0,|\\phantom{\\verb!x!}\\verb|0,|\\phantom{\\verb!x!}\\verb|0,|\\phantom{\\verb!x!}\\verb|0,|\\phantom{\\verb!x!}\\verb|0]|, \\left\\{\\verb|mon| : \\left(\\begin{array}{rr}\n",
       "1 & -l \\\\\n",
       "0 & 1\n",
       "\\end{array}\\right), \\verb|sol| : \\left[r_{1}\\right], \\verb|trace| : \\left[2\\right]\\right\\}\\right)\n",
       "\\end{math}"
      ],
      "text/plain": [
       "('[0, 1, 0, 0, 0, 0, 0, 0]',\n",
       " {'mon': [ 1 -l]\n",
       "  [ 0  1], 'sol': [r1], 'trace': [2]})"
      ]
     },
     "metadata": {},
     "output_type": "display_data"
    },
    {
     "data": {
      "text/html": [
       "<html><script type=\"math/tex; mode=display\">\\newcommand{\\Bold}[1]{\\mathbf{#1}}\\left(\\verb|[1,|\\phantom{\\verb!x!}\\verb|1,|\\phantom{\\verb!x!}\\verb|0,|\\phantom{\\verb!x!}\\verb|0,|\\phantom{\\verb!x!}\\verb|0,|\\phantom{\\verb!x!}\\verb|0,|\\phantom{\\verb!x!}\\verb|0,|\\phantom{\\verb!x!}\\verb|0]|, \\left\\{\\verb|mon| : \\left(\\begin{array}{rr}\n",
       "-l^{2} + 1 & -l \\\\\n",
       "l & 1\n",
       "\\end{array}\\right), \\verb|sol| : \\left[0\\right], \\verb|trace| : \\left[2\\right]\\right\\}\\right)</script></html>"
      ],
      "text/latex": [
       "\\begin{math}\n",
       "\\newcommand{\\Bold}[1]{\\mathbf{#1}}\\left(\\verb|[1,|\\phantom{\\verb!x!}\\verb|1,|\\phantom{\\verb!x!}\\verb|0,|\\phantom{\\verb!x!}\\verb|0,|\\phantom{\\verb!x!}\\verb|0,|\\phantom{\\verb!x!}\\verb|0,|\\phantom{\\verb!x!}\\verb|0,|\\phantom{\\verb!x!}\\verb|0]|, \\left\\{\\verb|mon| : \\left(\\begin{array}{rr}\n",
       "-l^{2} + 1 & -l \\\\\n",
       "l & 1\n",
       "\\end{array}\\right), \\verb|sol| : \\left[0\\right], \\verb|trace| : \\left[2\\right]\\right\\}\\right)\n",
       "\\end{math}"
      ],
      "text/plain": [
       "('[1, 1, 0, 0, 0, 0, 0, 0]',\n",
       " {'mon': [-l^2 + 1       -l]\n",
       "  [       l        1], 'sol': [0], 'trace': [2]})"
      ]
     },
     "metadata": {},
     "output_type": "display_data"
    },
    {
     "data": {
      "text/html": [
       "<html><script type=\"math/tex; mode=display\">\\newcommand{\\Bold}[1]{\\mathbf{#1}}\\left(\\verb|[0,|\\phantom{\\verb!x!}\\verb|0,|\\phantom{\\verb!x!}\\verb|1,|\\phantom{\\verb!x!}\\verb|0,|\\phantom{\\verb!x!}\\verb|0,|\\phantom{\\verb!x!}\\verb|0,|\\phantom{\\verb!x!}\\verb|0,|\\phantom{\\verb!x!}\\verb|0]|, \\left\\{\\verb|mon| : \\left(\\begin{array}{rr}\n",
       "1 & 0 \\\\\n",
       "l & 1\n",
       "\\end{array}\\right), \\verb|sol| : \\left[0\\right], \\verb|trace| : \\left[2\\right]\\right\\}\\right)</script></html>"
      ],
      "text/latex": [
       "\\begin{math}\n",
       "\\newcommand{\\Bold}[1]{\\mathbf{#1}}\\left(\\verb|[0,|\\phantom{\\verb!x!}\\verb|0,|\\phantom{\\verb!x!}\\verb|1,|\\phantom{\\verb!x!}\\verb|0,|\\phantom{\\verb!x!}\\verb|0,|\\phantom{\\verb!x!}\\verb|0,|\\phantom{\\verb!x!}\\verb|0,|\\phantom{\\verb!x!}\\verb|0]|, \\left\\{\\verb|mon| : \\left(\\begin{array}{rr}\n",
       "1 & 0 \\\\\n",
       "l & 1\n",
       "\\end{array}\\right), \\verb|sol| : \\left[0\\right], \\verb|trace| : \\left[2\\right]\\right\\}\\right)\n",
       "\\end{math}"
      ],
      "text/plain": [
       "('[0, 0, 1, 0, 0, 0, 0, 0]',\n",
       " {'mon': [1 0]\n",
       "  [l 1], 'sol': [0], 'trace': [2]})"
      ]
     },
     "metadata": {},
     "output_type": "display_data"
    },
    {
     "data": {
      "text/html": [
       "<html><script type=\"math/tex; mode=display\">\\newcommand{\\Bold}[1]{\\mathbf{#1}}\\left(\\verb|[1,|\\phantom{\\verb!x!}\\verb|0,|\\phantom{\\verb!x!}\\verb|1,|\\phantom{\\verb!x!}\\verb|0,|\\phantom{\\verb!x!}\\verb|0,|\\phantom{\\verb!x!}\\verb|0,|\\phantom{\\verb!x!}\\verb|0,|\\phantom{\\verb!x!}\\verb|0]|, \\left\\{\\verb|mon| : \\left(\\begin{array}{rr}\n",
       "1 & 0 \\\\\n",
       "2 \\, l & 1\n",
       "\\end{array}\\right), \\verb|sol| : \\left[0\\right], \\verb|trace| : \\left[2\\right]\\right\\}\\right)</script></html>"
      ],
      "text/latex": [
       "\\begin{math}\n",
       "\\newcommand{\\Bold}[1]{\\mathbf{#1}}\\left(\\verb|[1,|\\phantom{\\verb!x!}\\verb|0,|\\phantom{\\verb!x!}\\verb|1,|\\phantom{\\verb!x!}\\verb|0,|\\phantom{\\verb!x!}\\verb|0,|\\phantom{\\verb!x!}\\verb|0,|\\phantom{\\verb!x!}\\verb|0,|\\phantom{\\verb!x!}\\verb|0]|, \\left\\{\\verb|mon| : \\left(\\begin{array}{rr}\n",
       "1 & 0 \\\\\n",
       "2 \\, l & 1\n",
       "\\end{array}\\right), \\verb|sol| : \\left[0\\right], \\verb|trace| : \\left[2\\right]\\right\\}\\right)\n",
       "\\end{math}"
      ],
      "text/plain": [
       "('[1, 0, 1, 0, 0, 0, 0, 0]',\n",
       " {'mon': [  1   0]\n",
       "  [2*l   1], 'sol': [0], 'trace': [2]})"
      ]
     },
     "metadata": {},
     "output_type": "display_data"
    },
    {
     "data": {
      "text/html": [
       "<html><script type=\"math/tex; mode=display\">\\newcommand{\\Bold}[1]{\\mathbf{#1}}\\left(\\verb|[0,|\\phantom{\\verb!x!}\\verb|1,|\\phantom{\\verb!x!}\\verb|1,|\\phantom{\\verb!x!}\\verb|0,|\\phantom{\\verb!x!}\\verb|0,|\\phantom{\\verb!x!}\\verb|0,|\\phantom{\\verb!x!}\\verb|0,|\\phantom{\\verb!x!}\\verb|0]|, \\left\\{\\verb|mon| : \\left(\\begin{array}{rr}\n",
       "1 & -l \\\\\n",
       "l & -l^{2} + 1\n",
       "\\end{array}\\right), \\verb|sol| : \\left[0\\right], \\verb|trace| : \\left[2\\right]\\right\\}\\right)</script></html>"
      ],
      "text/latex": [
       "\\begin{math}\n",
       "\\newcommand{\\Bold}[1]{\\mathbf{#1}}\\left(\\verb|[0,|\\phantom{\\verb!x!}\\verb|1,|\\phantom{\\verb!x!}\\verb|1,|\\phantom{\\verb!x!}\\verb|0,|\\phantom{\\verb!x!}\\verb|0,|\\phantom{\\verb!x!}\\verb|0,|\\phantom{\\verb!x!}\\verb|0,|\\phantom{\\verb!x!}\\verb|0]|, \\left\\{\\verb|mon| : \\left(\\begin{array}{rr}\n",
       "1 & -l \\\\\n",
       "l & -l^{2} + 1\n",
       "\\end{array}\\right), \\verb|sol| : \\left[0\\right], \\verb|trace| : \\left[2\\right]\\right\\}\\right)\n",
       "\\end{math}"
      ],
      "text/plain": [
       "('[0, 1, 1, 0, 0, 0, 0, 0]',\n",
       " {'mon': [       1       -l]\n",
       "  [       l -l^2 + 1], 'sol': [0], 'trace': [2]})"
      ]
     },
     "metadata": {},
     "output_type": "display_data"
    },
    {
     "data": {
      "text/html": [
       "<html><script type=\"math/tex; mode=display\">\\newcommand{\\Bold}[1]{\\mathbf{#1}}\\left(\\verb|[1,|\\phantom{\\verb!x!}\\verb|1,|\\phantom{\\verb!x!}\\verb|1,|\\phantom{\\verb!x!}\\verb|0,|\\phantom{\\verb!x!}\\verb|0,|\\phantom{\\verb!x!}\\verb|0,|\\phantom{\\verb!x!}\\verb|0,|\\phantom{\\verb!x!}\\verb|0]|, \\left\\{\\verb|mon| : \\left(\\begin{array}{rr}\n",
       "-l^{2} + 1 & -l \\\\\n",
       "-l^{3} + 2 \\, l & -l^{2} + 1\n",
       "\\end{array}\\right), \\verb|sol| : \\left[-\\sqrt{2}, 0, \\sqrt{2}\\right], \\verb|trace| : \\left[-2, 2, -2\\right]\\right\\}\\right)</script></html>"
      ],
      "text/latex": [
       "\\begin{math}\n",
       "\\newcommand{\\Bold}[1]{\\mathbf{#1}}\\left(\\verb|[1,|\\phantom{\\verb!x!}\\verb|1,|\\phantom{\\verb!x!}\\verb|1,|\\phantom{\\verb!x!}\\verb|0,|\\phantom{\\verb!x!}\\verb|0,|\\phantom{\\verb!x!}\\verb|0,|\\phantom{\\verb!x!}\\verb|0,|\\phantom{\\verb!x!}\\verb|0]|, \\left\\{\\verb|mon| : \\left(\\begin{array}{rr}\n",
       "-l^{2} + 1 & -l \\\\\n",
       "-l^{3} + 2 \\, l & -l^{2} + 1\n",
       "\\end{array}\\right), \\verb|sol| : \\left[-\\sqrt{2}, 0, \\sqrt{2}\\right], \\verb|trace| : \\left[-2, 2, -2\\right]\\right\\}\\right)\n",
       "\\end{math}"
      ],
      "text/plain": [
       "('[1, 1, 1, 0, 0, 0, 0, 0]',\n",
       " {'mon': [  -l^2 + 1         -l]\n",
       "  [-l^3 + 2*l   -l^2 + 1],\n",
       "  'sol': [-sqrt(2), 0, sqrt(2)],\n",
       "  'trace': [-2, 2, -2]})"
      ]
     },
     "metadata": {},
     "output_type": "display_data"
    },
    {
     "data": {
      "text/html": [
       "<html><script type=\"math/tex; mode=display\">\\newcommand{\\Bold}[1]{\\mathbf{#1}}\\left(\\verb|[0,|\\phantom{\\verb!x!}\\verb|0,|\\phantom{\\verb!x!}\\verb|0,|\\phantom{\\verb!x!}\\verb|1,|\\phantom{\\verb!x!}\\verb|0,|\\phantom{\\verb!x!}\\verb|0,|\\phantom{\\verb!x!}\\verb|0,|\\phantom{\\verb!x!}\\verb|0]|, \\left\\{\\verb|mon| : \\left(\\begin{array}{rr}\n",
       "1 & -l \\\\\n",
       "0 & 1\n",
       "\\end{array}\\right), \\verb|sol| : \\left[r_{1}\\right], \\verb|trace| : \\left[2\\right]\\right\\}\\right)</script></html>"
      ],
      "text/latex": [
       "\\begin{math}\n",
       "\\newcommand{\\Bold}[1]{\\mathbf{#1}}\\left(\\verb|[0,|\\phantom{\\verb!x!}\\verb|0,|\\phantom{\\verb!x!}\\verb|0,|\\phantom{\\verb!x!}\\verb|1,|\\phantom{\\verb!x!}\\verb|0,|\\phantom{\\verb!x!}\\verb|0,|\\phantom{\\verb!x!}\\verb|0,|\\phantom{\\verb!x!}\\verb|0]|, \\left\\{\\verb|mon| : \\left(\\begin{array}{rr}\n",
       "1 & -l \\\\\n",
       "0 & 1\n",
       "\\end{array}\\right), \\verb|sol| : \\left[r_{1}\\right], \\verb|trace| : \\left[2\\right]\\right\\}\\right)\n",
       "\\end{math}"
      ],
      "text/plain": [
       "('[0, 0, 0, 1, 0, 0, 0, 0]',\n",
       " {'mon': [ 1 -l]\n",
       "  [ 0  1], 'sol': [r1], 'trace': [2]})"
      ]
     },
     "metadata": {},
     "output_type": "display_data"
    },
    {
     "data": {
      "text/html": [
       "<html><script type=\"math/tex; mode=display\">\\newcommand{\\Bold}[1]{\\mathbf{#1}}\\left(\\verb|[1,|\\phantom{\\verb!x!}\\verb|0,|\\phantom{\\verb!x!}\\verb|0,|\\phantom{\\verb!x!}\\verb|1,|\\phantom{\\verb!x!}\\verb|0,|\\phantom{\\verb!x!}\\verb|0,|\\phantom{\\verb!x!}\\verb|0,|\\phantom{\\verb!x!}\\verb|0]|, \\left\\{\\verb|mon| : \\left(\\begin{array}{rr}\n",
       "-l^{2} + 1 & -l \\\\\n",
       "l & 1\n",
       "\\end{array}\\right), \\verb|sol| : \\left[0\\right], \\verb|trace| : \\left[2\\right]\\right\\}\\right)</script></html>"
      ],
      "text/latex": [
       "\\begin{math}\n",
       "\\newcommand{\\Bold}[1]{\\mathbf{#1}}\\left(\\verb|[1,|\\phantom{\\verb!x!}\\verb|0,|\\phantom{\\verb!x!}\\verb|0,|\\phantom{\\verb!x!}\\verb|1,|\\phantom{\\verb!x!}\\verb|0,|\\phantom{\\verb!x!}\\verb|0,|\\phantom{\\verb!x!}\\verb|0,|\\phantom{\\verb!x!}\\verb|0]|, \\left\\{\\verb|mon| : \\left(\\begin{array}{rr}\n",
       "-l^{2} + 1 & -l \\\\\n",
       "l & 1\n",
       "\\end{array}\\right), \\verb|sol| : \\left[0\\right], \\verb|trace| : \\left[2\\right]\\right\\}\\right)\n",
       "\\end{math}"
      ],
      "text/plain": [
       "('[1, 0, 0, 1, 0, 0, 0, 0]',\n",
       " {'mon': [-l^2 + 1       -l]\n",
       "  [       l        1], 'sol': [0], 'trace': [2]})"
      ]
     },
     "metadata": {},
     "output_type": "display_data"
    },
    {
     "data": {
      "text/html": [
       "<html><script type=\"math/tex; mode=display\">\\newcommand{\\Bold}[1]{\\mathbf{#1}}\\left(\\verb|[0,|\\phantom{\\verb!x!}\\verb|1,|\\phantom{\\verb!x!}\\verb|0,|\\phantom{\\verb!x!}\\verb|1,|\\phantom{\\verb!x!}\\verb|0,|\\phantom{\\verb!x!}\\verb|0,|\\phantom{\\verb!x!}\\verb|0,|\\phantom{\\verb!x!}\\verb|0]|, \\left\\{\\verb|mon| : \\left(\\begin{array}{rr}\n",
       "1 & -2 \\, l \\\\\n",
       "0 & 1\n",
       "\\end{array}\\right), \\verb|sol| : \\left[r_{1}\\right], \\verb|trace| : \\left[2\\right]\\right\\}\\right)</script></html>"
      ],
      "text/latex": [
       "\\begin{math}\n",
       "\\newcommand{\\Bold}[1]{\\mathbf{#1}}\\left(\\verb|[0,|\\phantom{\\verb!x!}\\verb|1,|\\phantom{\\verb!x!}\\verb|0,|\\phantom{\\verb!x!}\\verb|1,|\\phantom{\\verb!x!}\\verb|0,|\\phantom{\\verb!x!}\\verb|0,|\\phantom{\\verb!x!}\\verb|0,|\\phantom{\\verb!x!}\\verb|0]|, \\left\\{\\verb|mon| : \\left(\\begin{array}{rr}\n",
       "1 & -2 \\, l \\\\\n",
       "0 & 1\n",
       "\\end{array}\\right), \\verb|sol| : \\left[r_{1}\\right], \\verb|trace| : \\left[2\\right]\\right\\}\\right)\n",
       "\\end{math}"
      ],
      "text/plain": [
       "('[0, 1, 0, 1, 0, 0, 0, 0]',\n",
       " {'mon': [   1 -2*l]\n",
       "  [   0    1], 'sol': [r1], 'trace': [2]})"
      ]
     },
     "metadata": {},
     "output_type": "display_data"
    },
    {
     "data": {
      "text/html": [
       "<html><script type=\"math/tex; mode=display\">\\newcommand{\\Bold}[1]{\\mathbf{#1}}\\left(\\verb|[1,|\\phantom{\\verb!x!}\\verb|1,|\\phantom{\\verb!x!}\\verb|0,|\\phantom{\\verb!x!}\\verb|1,|\\phantom{\\verb!x!}\\verb|0,|\\phantom{\\verb!x!}\\verb|0,|\\phantom{\\verb!x!}\\verb|0,|\\phantom{\\verb!x!}\\verb|0]|, \\left\\{\\verb|mon| : \\left(\\begin{array}{rr}\n",
       "-2 \\, l^{2} + 1 & -2 \\, l \\\\\n",
       "l & 1\n",
       "\\end{array}\\right), \\verb|sol| : \\left[0\\right], \\verb|trace| : \\left[2\\right]\\right\\}\\right)</script></html>"
      ],
      "text/latex": [
       "\\begin{math}\n",
       "\\newcommand{\\Bold}[1]{\\mathbf{#1}}\\left(\\verb|[1,|\\phantom{\\verb!x!}\\verb|1,|\\phantom{\\verb!x!}\\verb|0,|\\phantom{\\verb!x!}\\verb|1,|\\phantom{\\verb!x!}\\verb|0,|\\phantom{\\verb!x!}\\verb|0,|\\phantom{\\verb!x!}\\verb|0,|\\phantom{\\verb!x!}\\verb|0]|, \\left\\{\\verb|mon| : \\left(\\begin{array}{rr}\n",
       "-2 \\, l^{2} + 1 & -2 \\, l \\\\\n",
       "l & 1\n",
       "\\end{array}\\right), \\verb|sol| : \\left[0\\right], \\verb|trace| : \\left[2\\right]\\right\\}\\right)\n",
       "\\end{math}"
      ],
      "text/plain": [
       "('[1, 1, 0, 1, 0, 0, 0, 0]',\n",
       " {'mon': [-2*l^2 + 1       -2*l]\n",
       "  [         l          1], 'sol': [0], 'trace': [2]})"
      ]
     },
     "metadata": {},
     "output_type": "display_data"
    },
    {
     "data": {
      "text/html": [
       "<html><script type=\"math/tex; mode=display\">\\newcommand{\\Bold}[1]{\\mathbf{#1}}\\left(\\verb|[0,|\\phantom{\\verb!x!}\\verb|0,|\\phantom{\\verb!x!}\\verb|1,|\\phantom{\\verb!x!}\\verb|1,|\\phantom{\\verb!x!}\\verb|0,|\\phantom{\\verb!x!}\\verb|0,|\\phantom{\\verb!x!}\\verb|0,|\\phantom{\\verb!x!}\\verb|0]|, \\left\\{\\verb|mon| : \\left(\\begin{array}{rr}\n",
       "-l^{2} + 1 & -l \\\\\n",
       "l & 1\n",
       "\\end{array}\\right), \\verb|sol| : \\left[0\\right], \\verb|trace| : \\left[2\\right]\\right\\}\\right)</script></html>"
      ],
      "text/latex": [
       "\\begin{math}\n",
       "\\newcommand{\\Bold}[1]{\\mathbf{#1}}\\left(\\verb|[0,|\\phantom{\\verb!x!}\\verb|0,|\\phantom{\\verb!x!}\\verb|1,|\\phantom{\\verb!x!}\\verb|1,|\\phantom{\\verb!x!}\\verb|0,|\\phantom{\\verb!x!}\\verb|0,|\\phantom{\\verb!x!}\\verb|0,|\\phantom{\\verb!x!}\\verb|0]|, \\left\\{\\verb|mon| : \\left(\\begin{array}{rr}\n",
       "-l^{2} + 1 & -l \\\\\n",
       "l & 1\n",
       "\\end{array}\\right), \\verb|sol| : \\left[0\\right], \\verb|trace| : \\left[2\\right]\\right\\}\\right)\n",
       "\\end{math}"
      ],
      "text/plain": [
       "('[0, 0, 1, 1, 0, 0, 0, 0]',\n",
       " {'mon': [-l^2 + 1       -l]\n",
       "  [       l        1], 'sol': [0], 'trace': [2]})"
      ]
     },
     "metadata": {},
     "output_type": "display_data"
    },
    {
     "data": {
      "text/html": [
       "<html><script type=\"math/tex; mode=display\">\\newcommand{\\Bold}[1]{\\mathbf{#1}}\\left(\\verb|[1,|\\phantom{\\verb!x!}\\verb|0,|\\phantom{\\verb!x!}\\verb|1,|\\phantom{\\verb!x!}\\verb|1,|\\phantom{\\verb!x!}\\verb|0,|\\phantom{\\verb!x!}\\verb|0,|\\phantom{\\verb!x!}\\verb|0,|\\phantom{\\verb!x!}\\verb|0]|, \\left\\{\\verb|mon| : \\left(\\begin{array}{rr}\n",
       "-2 \\, l^{2} + 1 & -l \\\\\n",
       "2 \\, l & 1\n",
       "\\end{array}\\right), \\verb|sol| : \\left[0\\right], \\verb|trace| : \\left[2\\right]\\right\\}\\right)</script></html>"
      ],
      "text/latex": [
       "\\begin{math}\n",
       "\\newcommand{\\Bold}[1]{\\mathbf{#1}}\\left(\\verb|[1,|\\phantom{\\verb!x!}\\verb|0,|\\phantom{\\verb!x!}\\verb|1,|\\phantom{\\verb!x!}\\verb|1,|\\phantom{\\verb!x!}\\verb|0,|\\phantom{\\verb!x!}\\verb|0,|\\phantom{\\verb!x!}\\verb|0,|\\phantom{\\verb!x!}\\verb|0]|, \\left\\{\\verb|mon| : \\left(\\begin{array}{rr}\n",
       "-2 \\, l^{2} + 1 & -l \\\\\n",
       "2 \\, l & 1\n",
       "\\end{array}\\right), \\verb|sol| : \\left[0\\right], \\verb|trace| : \\left[2\\right]\\right\\}\\right)\n",
       "\\end{math}"
      ],
      "text/plain": [
       "('[1, 0, 1, 1, 0, 0, 0, 0]',\n",
       " {'mon': [-2*l^2 + 1         -l]\n",
       "  [       2*l          1], 'sol': [0], 'trace': [2]})"
      ]
     },
     "metadata": {},
     "output_type": "display_data"
    },
    {
     "data": {
      "text/html": [
       "<html><script type=\"math/tex; mode=display\">\\newcommand{\\Bold}[1]{\\mathbf{#1}}\\left(\\verb|[0,|\\phantom{\\verb!x!}\\verb|1,|\\phantom{\\verb!x!}\\verb|1,|\\phantom{\\verb!x!}\\verb|1,|\\phantom{\\verb!x!}\\verb|0,|\\phantom{\\verb!x!}\\verb|0,|\\phantom{\\verb!x!}\\verb|0,|\\phantom{\\verb!x!}\\verb|0]|, \\left\\{\\verb|mon| : \\left(\\begin{array}{rr}\n",
       "-l^{2} + 1 & l^{3} - 2 \\, l \\\\\n",
       "l & -l^{2} + 1\n",
       "\\end{array}\\right), \\verb|sol| : \\left[0\\right], \\verb|trace| : \\left[2\\right]\\right\\}\\right)</script></html>"
      ],
      "text/latex": [
       "\\begin{math}\n",
       "\\newcommand{\\Bold}[1]{\\mathbf{#1}}\\left(\\verb|[0,|\\phantom{\\verb!x!}\\verb|1,|\\phantom{\\verb!x!}\\verb|1,|\\phantom{\\verb!x!}\\verb|1,|\\phantom{\\verb!x!}\\verb|0,|\\phantom{\\verb!x!}\\verb|0,|\\phantom{\\verb!x!}\\verb|0,|\\phantom{\\verb!x!}\\verb|0]|, \\left\\{\\verb|mon| : \\left(\\begin{array}{rr}\n",
       "-l^{2} + 1 & l^{3} - 2 \\, l \\\\\n",
       "l & -l^{2} + 1\n",
       "\\end{array}\\right), \\verb|sol| : \\left[0\\right], \\verb|trace| : \\left[2\\right]\\right\\}\\right)\n",
       "\\end{math}"
      ],
      "text/plain": [
       "('[0, 1, 1, 1, 0, 0, 0, 0]',\n",
       " {'mon': [ -l^2 + 1 l^3 - 2*l]\n",
       "  [        l  -l^2 + 1], 'sol': [0], 'trace': [2]})"
      ]
     },
     "metadata": {},
     "output_type": "display_data"
    },
    {
     "data": {
      "text/html": [
       "<html><script type=\"math/tex; mode=display\">\\newcommand{\\Bold}[1]{\\mathbf{#1}}\\left(\\verb|[1,|\\phantom{\\verb!x!}\\verb|1,|\\phantom{\\verb!x!}\\verb|1,|\\phantom{\\verb!x!}\\verb|1,|\\phantom{\\verb!x!}\\verb|0,|\\phantom{\\verb!x!}\\verb|0,|\\phantom{\\verb!x!}\\verb|0,|\\phantom{\\verb!x!}\\verb|0]|, \\left\\{\\verb|mon| : \\left(\\begin{array}{rr}\n",
       "l^{4} - 3 \\, l^{2} + 1 & l^{3} - 2 \\, l \\\\\n",
       "-l^{3} + 2 \\, l & -l^{2} + 1\n",
       "\\end{array}\\right), \\verb|sol| : \\left[-\\sqrt{2}, 0, \\sqrt{2}\\right], \\verb|trace| : \\left[-2, 2, -2\\right]\\right\\}\\right)</script></html>"
      ],
      "text/latex": [
       "\\begin{math}\n",
       "\\newcommand{\\Bold}[1]{\\mathbf{#1}}\\left(\\verb|[1,|\\phantom{\\verb!x!}\\verb|1,|\\phantom{\\verb!x!}\\verb|1,|\\phantom{\\verb!x!}\\verb|1,|\\phantom{\\verb!x!}\\verb|0,|\\phantom{\\verb!x!}\\verb|0,|\\phantom{\\verb!x!}\\verb|0,|\\phantom{\\verb!x!}\\verb|0]|, \\left\\{\\verb|mon| : \\left(\\begin{array}{rr}\n",
       "l^{4} - 3 \\, l^{2} + 1 & l^{3} - 2 \\, l \\\\\n",
       "-l^{3} + 2 \\, l & -l^{2} + 1\n",
       "\\end{array}\\right), \\verb|sol| : \\left[-\\sqrt{2}, 0, \\sqrt{2}\\right], \\verb|trace| : \\left[-2, 2, -2\\right]\\right\\}\\right)\n",
       "\\end{math}"
      ],
      "text/plain": [
       "('[1, 1, 1, 1, 0, 0, 0, 0]',\n",
       " {'mon': [l^4 - 3*l^2 + 1       l^3 - 2*l]\n",
       "  [     -l^3 + 2*l        -l^2 + 1],\n",
       "  'sol': [-sqrt(2), 0, sqrt(2)],\n",
       "  'trace': [-2, 2, -2]})"
      ]
     },
     "metadata": {},
     "output_type": "display_data"
    },
    {
     "data": {
      "text/html": [
       "<html><script type=\"math/tex; mode=display\">\\newcommand{\\Bold}[1]{\\mathbf{#1}}\\left(\\verb|[0,|\\phantom{\\verb!x!}\\verb|0,|\\phantom{\\verb!x!}\\verb|0,|\\phantom{\\verb!x!}\\verb|0,|\\phantom{\\verb!x!}\\verb|1,|\\phantom{\\verb!x!}\\verb|0,|\\phantom{\\verb!x!}\\verb|0,|\\phantom{\\verb!x!}\\verb|0]|, \\left\\{\\verb|mon| : \\left(\\begin{array}{rr}\n",
       "1 & 0 \\\\\n",
       "l & 1\n",
       "\\end{array}\\right), \\verb|sol| : \\left[0\\right], \\verb|trace| : \\left[2\\right]\\right\\}\\right)</script></html>"
      ],
      "text/latex": [
       "\\begin{math}\n",
       "\\newcommand{\\Bold}[1]{\\mathbf{#1}}\\left(\\verb|[0,|\\phantom{\\verb!x!}\\verb|0,|\\phantom{\\verb!x!}\\verb|0,|\\phantom{\\verb!x!}\\verb|0,|\\phantom{\\verb!x!}\\verb|1,|\\phantom{\\verb!x!}\\verb|0,|\\phantom{\\verb!x!}\\verb|0,|\\phantom{\\verb!x!}\\verb|0]|, \\left\\{\\verb|mon| : \\left(\\begin{array}{rr}\n",
       "1 & 0 \\\\\n",
       "l & 1\n",
       "\\end{array}\\right), \\verb|sol| : \\left[0\\right], \\verb|trace| : \\left[2\\right]\\right\\}\\right)\n",
       "\\end{math}"
      ],
      "text/plain": [
       "('[0, 0, 0, 0, 1, 0, 0, 0]',\n",
       " {'mon': [1 0]\n",
       "  [l 1], 'sol': [0], 'trace': [2]})"
      ]
     },
     "metadata": {},
     "output_type": "display_data"
    },
    {
     "data": {
      "text/html": [
       "<html><script type=\"math/tex; mode=display\">\\newcommand{\\Bold}[1]{\\mathbf{#1}}\\left(\\verb|[1,|\\phantom{\\verb!x!}\\verb|0,|\\phantom{\\verb!x!}\\verb|0,|\\phantom{\\verb!x!}\\verb|0,|\\phantom{\\verb!x!}\\verb|1,|\\phantom{\\verb!x!}\\verb|0,|\\phantom{\\verb!x!}\\verb|0,|\\phantom{\\verb!x!}\\verb|0]|, \\left\\{\\verb|mon| : \\left(\\begin{array}{rr}\n",
       "1 & 0 \\\\\n",
       "2 \\, l & 1\n",
       "\\end{array}\\right), \\verb|sol| : \\left[0\\right], \\verb|trace| : \\left[2\\right]\\right\\}\\right)</script></html>"
      ],
      "text/latex": [
       "\\begin{math}\n",
       "\\newcommand{\\Bold}[1]{\\mathbf{#1}}\\left(\\verb|[1,|\\phantom{\\verb!x!}\\verb|0,|\\phantom{\\verb!x!}\\verb|0,|\\phantom{\\verb!x!}\\verb|0,|\\phantom{\\verb!x!}\\verb|1,|\\phantom{\\verb!x!}\\verb|0,|\\phantom{\\verb!x!}\\verb|0,|\\phantom{\\verb!x!}\\verb|0]|, \\left\\{\\verb|mon| : \\left(\\begin{array}{rr}\n",
       "1 & 0 \\\\\n",
       "2 \\, l & 1\n",
       "\\end{array}\\right), \\verb|sol| : \\left[0\\right], \\verb|trace| : \\left[2\\right]\\right\\}\\right)\n",
       "\\end{math}"
      ],
      "text/plain": [
       "('[1, 0, 0, 0, 1, 0, 0, 0]',\n",
       " {'mon': [  1   0]\n",
       "  [2*l   1], 'sol': [0], 'trace': [2]})"
      ]
     },
     "metadata": {},
     "output_type": "display_data"
    },
    {
     "data": {
      "text/html": [
       "<html><script type=\"math/tex; mode=display\">\\newcommand{\\Bold}[1]{\\mathbf{#1}}\\left(\\verb|[0,|\\phantom{\\verb!x!}\\verb|1,|\\phantom{\\verb!x!}\\verb|0,|\\phantom{\\verb!x!}\\verb|0,|\\phantom{\\verb!x!}\\verb|1,|\\phantom{\\verb!x!}\\verb|0,|\\phantom{\\verb!x!}\\verb|0,|\\phantom{\\verb!x!}\\verb|0]|, \\left\\{\\verb|mon| : \\left(\\begin{array}{rr}\n",
       "1 & -l \\\\\n",
       "l & -l^{2} + 1\n",
       "\\end{array}\\right), \\verb|sol| : \\left[0\\right], \\verb|trace| : \\left[2\\right]\\right\\}\\right)</script></html>"
      ],
      "text/latex": [
       "\\begin{math}\n",
       "\\newcommand{\\Bold}[1]{\\mathbf{#1}}\\left(\\verb|[0,|\\phantom{\\verb!x!}\\verb|1,|\\phantom{\\verb!x!}\\verb|0,|\\phantom{\\verb!x!}\\verb|0,|\\phantom{\\verb!x!}\\verb|1,|\\phantom{\\verb!x!}\\verb|0,|\\phantom{\\verb!x!}\\verb|0,|\\phantom{\\verb!x!}\\verb|0]|, \\left\\{\\verb|mon| : \\left(\\begin{array}{rr}\n",
       "1 & -l \\\\\n",
       "l & -l^{2} + 1\n",
       "\\end{array}\\right), \\verb|sol| : \\left[0\\right], \\verb|trace| : \\left[2\\right]\\right\\}\\right)\n",
       "\\end{math}"
      ],
      "text/plain": [
       "('[0, 1, 0, 0, 1, 0, 0, 0]',\n",
       " {'mon': [       1       -l]\n",
       "  [       l -l^2 + 1], 'sol': [0], 'trace': [2]})"
      ]
     },
     "metadata": {},
     "output_type": "display_data"
    },
    {
     "data": {
      "text/html": [
       "<html><script type=\"math/tex; mode=display\">\\newcommand{\\Bold}[1]{\\mathbf{#1}}\\left(\\verb|[1,|\\phantom{\\verb!x!}\\verb|1,|\\phantom{\\verb!x!}\\verb|0,|\\phantom{\\verb!x!}\\verb|0,|\\phantom{\\verb!x!}\\verb|1,|\\phantom{\\verb!x!}\\verb|0,|\\phantom{\\verb!x!}\\verb|0,|\\phantom{\\verb!x!}\\verb|0]|, \\left\\{\\verb|mon| : \\left(\\begin{array}{rr}\n",
       "-l^{2} + 1 & -l \\\\\n",
       "-l^{3} + 2 \\, l & -l^{2} + 1\n",
       "\\end{array}\\right), \\verb|sol| : \\left[-\\sqrt{2}, 0, \\sqrt{2}\\right], \\verb|trace| : \\left[-2, 2, -2\\right]\\right\\}\\right)</script></html>"
      ],
      "text/latex": [
       "\\begin{math}\n",
       "\\newcommand{\\Bold}[1]{\\mathbf{#1}}\\left(\\verb|[1,|\\phantom{\\verb!x!}\\verb|1,|\\phantom{\\verb!x!}\\verb|0,|\\phantom{\\verb!x!}\\verb|0,|\\phantom{\\verb!x!}\\verb|1,|\\phantom{\\verb!x!}\\verb|0,|\\phantom{\\verb!x!}\\verb|0,|\\phantom{\\verb!x!}\\verb|0]|, \\left\\{\\verb|mon| : \\left(\\begin{array}{rr}\n",
       "-l^{2} + 1 & -l \\\\\n",
       "-l^{3} + 2 \\, l & -l^{2} + 1\n",
       "\\end{array}\\right), \\verb|sol| : \\left[-\\sqrt{2}, 0, \\sqrt{2}\\right], \\verb|trace| : \\left[-2, 2, -2\\right]\\right\\}\\right)\n",
       "\\end{math}"
      ],
      "text/plain": [
       "('[1, 1, 0, 0, 1, 0, 0, 0]',\n",
       " {'mon': [  -l^2 + 1         -l]\n",
       "  [-l^3 + 2*l   -l^2 + 1],\n",
       "  'sol': [-sqrt(2), 0, sqrt(2)],\n",
       "  'trace': [-2, 2, -2]})"
      ]
     },
     "metadata": {},
     "output_type": "display_data"
    },
    {
     "data": {
      "text/html": [
       "<html><script type=\"math/tex; mode=display\">\\newcommand{\\Bold}[1]{\\mathbf{#1}}\\left(\\verb|[0,|\\phantom{\\verb!x!}\\verb|0,|\\phantom{\\verb!x!}\\verb|1,|\\phantom{\\verb!x!}\\verb|0,|\\phantom{\\verb!x!}\\verb|1,|\\phantom{\\verb!x!}\\verb|0,|\\phantom{\\verb!x!}\\verb|0,|\\phantom{\\verb!x!}\\verb|0]|, \\left\\{\\verb|mon| : \\left(\\begin{array}{rr}\n",
       "1 & 0 \\\\\n",
       "2 \\, l & 1\n",
       "\\end{array}\\right), \\verb|sol| : \\left[0\\right], \\verb|trace| : \\left[2\\right]\\right\\}\\right)</script></html>"
      ],
      "text/latex": [
       "\\begin{math}\n",
       "\\newcommand{\\Bold}[1]{\\mathbf{#1}}\\left(\\verb|[0,|\\phantom{\\verb!x!}\\verb|0,|\\phantom{\\verb!x!}\\verb|1,|\\phantom{\\verb!x!}\\verb|0,|\\phantom{\\verb!x!}\\verb|1,|\\phantom{\\verb!x!}\\verb|0,|\\phantom{\\verb!x!}\\verb|0,|\\phantom{\\verb!x!}\\verb|0]|, \\left\\{\\verb|mon| : \\left(\\begin{array}{rr}\n",
       "1 & 0 \\\\\n",
       "2 \\, l & 1\n",
       "\\end{array}\\right), \\verb|sol| : \\left[0\\right], \\verb|trace| : \\left[2\\right]\\right\\}\\right)\n",
       "\\end{math}"
      ],
      "text/plain": [
       "('[0, 0, 1, 0, 1, 0, 0, 0]',\n",
       " {'mon': [  1   0]\n",
       "  [2*l   1], 'sol': [0], 'trace': [2]})"
      ]
     },
     "metadata": {},
     "output_type": "display_data"
    },
    {
     "data": {
      "text/html": [
       "<html><script type=\"math/tex; mode=display\">\\newcommand{\\Bold}[1]{\\mathbf{#1}}\\left(\\verb|[1,|\\phantom{\\verb!x!}\\verb|0,|\\phantom{\\verb!x!}\\verb|1,|\\phantom{\\verb!x!}\\verb|0,|\\phantom{\\verb!x!}\\verb|1,|\\phantom{\\verb!x!}\\verb|0,|\\phantom{\\verb!x!}\\verb|0,|\\phantom{\\verb!x!}\\verb|0]|, \\left\\{\\verb|mon| : \\left(\\begin{array}{rr}\n",
       "1 & 0 \\\\\n",
       "3 \\, l & 1\n",
       "\\end{array}\\right), \\verb|sol| : \\left[0\\right], \\verb|trace| : \\left[2\\right]\\right\\}\\right)</script></html>"
      ],
      "text/latex": [
       "\\begin{math}\n",
       "\\newcommand{\\Bold}[1]{\\mathbf{#1}}\\left(\\verb|[1,|\\phantom{\\verb!x!}\\verb|0,|\\phantom{\\verb!x!}\\verb|1,|\\phantom{\\verb!x!}\\verb|0,|\\phantom{\\verb!x!}\\verb|1,|\\phantom{\\verb!x!}\\verb|0,|\\phantom{\\verb!x!}\\verb|0,|\\phantom{\\verb!x!}\\verb|0]|, \\left\\{\\verb|mon| : \\left(\\begin{array}{rr}\n",
       "1 & 0 \\\\\n",
       "3 \\, l & 1\n",
       "\\end{array}\\right), \\verb|sol| : \\left[0\\right], \\verb|trace| : \\left[2\\right]\\right\\}\\right)\n",
       "\\end{math}"
      ],
      "text/plain": [
       "('[1, 0, 1, 0, 1, 0, 0, 0]',\n",
       " {'mon': [  1   0]\n",
       "  [3*l   1], 'sol': [0], 'trace': [2]})"
      ]
     },
     "metadata": {},
     "output_type": "display_data"
    },
    {
     "data": {
      "text/html": [
       "<html><script type=\"math/tex; mode=display\">\\newcommand{\\Bold}[1]{\\mathbf{#1}}\\left(\\verb|[0,|\\phantom{\\verb!x!}\\verb|1,|\\phantom{\\verb!x!}\\verb|1,|\\phantom{\\verb!x!}\\verb|0,|\\phantom{\\verb!x!}\\verb|1,|\\phantom{\\verb!x!}\\verb|0,|\\phantom{\\verb!x!}\\verb|0,|\\phantom{\\verb!x!}\\verb|0]|, \\left\\{\\verb|mon| : \\left(\\begin{array}{rr}\n",
       "1 & -l \\\\\n",
       "2 \\, l & -2 \\, l^{2} + 1\n",
       "\\end{array}\\right), \\verb|sol| : \\left[0\\right], \\verb|trace| : \\left[2\\right]\\right\\}\\right)</script></html>"
      ],
      "text/latex": [
       "\\begin{math}\n",
       "\\newcommand{\\Bold}[1]{\\mathbf{#1}}\\left(\\verb|[0,|\\phantom{\\verb!x!}\\verb|1,|\\phantom{\\verb!x!}\\verb|1,|\\phantom{\\verb!x!}\\verb|0,|\\phantom{\\verb!x!}\\verb|1,|\\phantom{\\verb!x!}\\verb|0,|\\phantom{\\verb!x!}\\verb|0,|\\phantom{\\verb!x!}\\verb|0]|, \\left\\{\\verb|mon| : \\left(\\begin{array}{rr}\n",
       "1 & -l \\\\\n",
       "2 \\, l & -2 \\, l^{2} + 1\n",
       "\\end{array}\\right), \\verb|sol| : \\left[0\\right], \\verb|trace| : \\left[2\\right]\\right\\}\\right)\n",
       "\\end{math}"
      ],
      "text/plain": [
       "('[0, 1, 1, 0, 1, 0, 0, 0]',\n",
       " {'mon': [         1         -l]\n",
       "  [       2*l -2*l^2 + 1], 'sol': [0], 'trace': [2]})"
      ]
     },
     "metadata": {},
     "output_type": "display_data"
    },
    {
     "data": {
      "text/html": [
       "<html><script type=\"math/tex; mode=display\">\\newcommand{\\Bold}[1]{\\mathbf{#1}}\\left(\\verb|[1,|\\phantom{\\verb!x!}\\verb|1,|\\phantom{\\verb!x!}\\verb|1,|\\phantom{\\verb!x!}\\verb|0,|\\phantom{\\verb!x!}\\verb|1,|\\phantom{\\verb!x!}\\verb|0,|\\phantom{\\verb!x!}\\verb|0,|\\phantom{\\verb!x!}\\verb|0]|, \\left\\{\\verb|mon| : \\left(\\begin{array}{rr}\n",
       "-l^{2} + 1 & -l \\\\\n",
       "-2 \\, l^{3} + 3 \\, l & -2 \\, l^{2} + 1\n",
       "\\end{array}\\right), \\verb|sol| : \\left[-\\frac{1}{2} \\, \\sqrt{3} \\sqrt{2}, 0, \\frac{1}{2} \\, \\sqrt{3} \\sqrt{2}\\right], \\verb|trace| : \\left[-\\frac{5}{2}, 2, -\\frac{5}{2}\\right]\\right\\}\\right)</script></html>"
      ],
      "text/latex": [
       "\\begin{math}\n",
       "\\newcommand{\\Bold}[1]{\\mathbf{#1}}\\left(\\verb|[1,|\\phantom{\\verb!x!}\\verb|1,|\\phantom{\\verb!x!}\\verb|1,|\\phantom{\\verb!x!}\\verb|0,|\\phantom{\\verb!x!}\\verb|1,|\\phantom{\\verb!x!}\\verb|0,|\\phantom{\\verb!x!}\\verb|0,|\\phantom{\\verb!x!}\\verb|0]|, \\left\\{\\verb|mon| : \\left(\\begin{array}{rr}\n",
       "-l^{2} + 1 & -l \\\\\n",
       "-2 \\, l^{3} + 3 \\, l & -2 \\, l^{2} + 1\n",
       "\\end{array}\\right), \\verb|sol| : \\left[-\\frac{1}{2} \\, \\sqrt{3} \\sqrt{2}, 0, \\frac{1}{2} \\, \\sqrt{3} \\sqrt{2}\\right], \\verb|trace| : \\left[-\\frac{5}{2}, 2, -\\frac{5}{2}\\right]\\right\\}\\right)\n",
       "\\end{math}"
      ],
      "text/plain": [
       "('[1, 1, 1, 0, 1, 0, 0, 0]',\n",
       " {'mon': [    -l^2 + 1           -l]\n",
       "  [-2*l^3 + 3*l   -2*l^2 + 1],\n",
       "  'sol': [-1/2*sqrt(3)*sqrt(2), 0, 1/2*sqrt(3)*sqrt(2)],\n",
       "  'trace': [-5/2, 2, -5/2]})"
      ]
     },
     "metadata": {},
     "output_type": "display_data"
    },
    {
     "data": {
      "text/html": [
       "<html><script type=\"math/tex; mode=display\">\\newcommand{\\Bold}[1]{\\mathbf{#1}}\\left(\\verb|[0,|\\phantom{\\verb!x!}\\verb|0,|\\phantom{\\verb!x!}\\verb|0,|\\phantom{\\verb!x!}\\verb|1,|\\phantom{\\verb!x!}\\verb|1,|\\phantom{\\verb!x!}\\verb|0,|\\phantom{\\verb!x!}\\verb|0,|\\phantom{\\verb!x!}\\verb|0]|, \\left\\{\\verb|mon| : \\left(\\begin{array}{rr}\n",
       "1 & -l \\\\\n",
       "l & -l^{2} + 1\n",
       "\\end{array}\\right), \\verb|sol| : \\left[0\\right], \\verb|trace| : \\left[2\\right]\\right\\}\\right)</script></html>"
      ],
      "text/latex": [
       "\\begin{math}\n",
       "\\newcommand{\\Bold}[1]{\\mathbf{#1}}\\left(\\verb|[0,|\\phantom{\\verb!x!}\\verb|0,|\\phantom{\\verb!x!}\\verb|0,|\\phantom{\\verb!x!}\\verb|1,|\\phantom{\\verb!x!}\\verb|1,|\\phantom{\\verb!x!}\\verb|0,|\\phantom{\\verb!x!}\\verb|0,|\\phantom{\\verb!x!}\\verb|0]|, \\left\\{\\verb|mon| : \\left(\\begin{array}{rr}\n",
       "1 & -l \\\\\n",
       "l & -l^{2} + 1\n",
       "\\end{array}\\right), \\verb|sol| : \\left[0\\right], \\verb|trace| : \\left[2\\right]\\right\\}\\right)\n",
       "\\end{math}"
      ],
      "text/plain": [
       "('[0, 0, 0, 1, 1, 0, 0, 0]',\n",
       " {'mon': [       1       -l]\n",
       "  [       l -l^2 + 1], 'sol': [0], 'trace': [2]})"
      ]
     },
     "metadata": {},
     "output_type": "display_data"
    },
    {
     "data": {
      "text/html": [
       "<html><script type=\"math/tex; mode=display\">\\newcommand{\\Bold}[1]{\\mathbf{#1}}\\left(\\verb|[1,|\\phantom{\\verb!x!}\\verb|0,|\\phantom{\\verb!x!}\\verb|0,|\\phantom{\\verb!x!}\\verb|1,|\\phantom{\\verb!x!}\\verb|1,|\\phantom{\\verb!x!}\\verb|0,|\\phantom{\\verb!x!}\\verb|0,|\\phantom{\\verb!x!}\\verb|0]|, \\left\\{\\verb|mon| : \\left(\\begin{array}{rr}\n",
       "-l^{2} + 1 & -l \\\\\n",
       "-l^{3} + 2 \\, l & -l^{2} + 1\n",
       "\\end{array}\\right), \\verb|sol| : \\left[-\\sqrt{2}, 0, \\sqrt{2}\\right], \\verb|trace| : \\left[-2, 2, -2\\right]\\right\\}\\right)</script></html>"
      ],
      "text/latex": [
       "\\begin{math}\n",
       "\\newcommand{\\Bold}[1]{\\mathbf{#1}}\\left(\\verb|[1,|\\phantom{\\verb!x!}\\verb|0,|\\phantom{\\verb!x!}\\verb|0,|\\phantom{\\verb!x!}\\verb|1,|\\phantom{\\verb!x!}\\verb|1,|\\phantom{\\verb!x!}\\verb|0,|\\phantom{\\verb!x!}\\verb|0,|\\phantom{\\verb!x!}\\verb|0]|, \\left\\{\\verb|mon| : \\left(\\begin{array}{rr}\n",
       "-l^{2} + 1 & -l \\\\\n",
       "-l^{3} + 2 \\, l & -l^{2} + 1\n",
       "\\end{array}\\right), \\verb|sol| : \\left[-\\sqrt{2}, 0, \\sqrt{2}\\right], \\verb|trace| : \\left[-2, 2, -2\\right]\\right\\}\\right)\n",
       "\\end{math}"
      ],
      "text/plain": [
       "('[1, 0, 0, 1, 1, 0, 0, 0]',\n",
       " {'mon': [  -l^2 + 1         -l]\n",
       "  [-l^3 + 2*l   -l^2 + 1],\n",
       "  'sol': [-sqrt(2), 0, sqrt(2)],\n",
       "  'trace': [-2, 2, -2]})"
      ]
     },
     "metadata": {},
     "output_type": "display_data"
    },
    {
     "data": {
      "text/html": [
       "<html><script type=\"math/tex; mode=display\">\\newcommand{\\Bold}[1]{\\mathbf{#1}}\\left(\\verb|[0,|\\phantom{\\verb!x!}\\verb|1,|\\phantom{\\verb!x!}\\verb|0,|\\phantom{\\verb!x!}\\verb|1,|\\phantom{\\verb!x!}\\verb|1,|\\phantom{\\verb!x!}\\verb|0,|\\phantom{\\verb!x!}\\verb|0,|\\phantom{\\verb!x!}\\verb|0]|, \\left\\{\\verb|mon| : \\left(\\begin{array}{rr}\n",
       "1 & -2 \\, l \\\\\n",
       "l & -2 \\, l^{2} + 1\n",
       "\\end{array}\\right), \\verb|sol| : \\left[0\\right], \\verb|trace| : \\left[2\\right]\\right\\}\\right)</script></html>"
      ],
      "text/latex": [
       "\\begin{math}\n",
       "\\newcommand{\\Bold}[1]{\\mathbf{#1}}\\left(\\verb|[0,|\\phantom{\\verb!x!}\\verb|1,|\\phantom{\\verb!x!}\\verb|0,|\\phantom{\\verb!x!}\\verb|1,|\\phantom{\\verb!x!}\\verb|1,|\\phantom{\\verb!x!}\\verb|0,|\\phantom{\\verb!x!}\\verb|0,|\\phantom{\\verb!x!}\\verb|0]|, \\left\\{\\verb|mon| : \\left(\\begin{array}{rr}\n",
       "1 & -2 \\, l \\\\\n",
       "l & -2 \\, l^{2} + 1\n",
       "\\end{array}\\right), \\verb|sol| : \\left[0\\right], \\verb|trace| : \\left[2\\right]\\right\\}\\right)\n",
       "\\end{math}"
      ],
      "text/plain": [
       "('[0, 1, 0, 1, 1, 0, 0, 0]',\n",
       " {'mon': [         1       -2*l]\n",
       "  [         l -2*l^2 + 1], 'sol': [0], 'trace': [2]})"
      ]
     },
     "metadata": {},
     "output_type": "display_data"
    },
    {
     "data": {
      "text/html": [
       "<html><script type=\"math/tex; mode=display\">\\newcommand{\\Bold}[1]{\\mathbf{#1}}\\left(\\verb|[1,|\\phantom{\\verb!x!}\\verb|1,|\\phantom{\\verb!x!}\\verb|0,|\\phantom{\\verb!x!}\\verb|1,|\\phantom{\\verb!x!}\\verb|1,|\\phantom{\\verb!x!}\\verb|0,|\\phantom{\\verb!x!}\\verb|0,|\\phantom{\\verb!x!}\\verb|0]|, \\left\\{\\verb|mon| : \\left(\\begin{array}{rr}\n",
       "-2 \\, l^{2} + 1 & -2 \\, l \\\\\n",
       "-2 \\, l^{3} + 2 \\, l & -2 \\, l^{2} + 1\n",
       "\\end{array}\\right), \\verb|sol| : \\left[-1, 0, 1\\right], \\verb|trace| : \\left[-2, 2, -2\\right]\\right\\}\\right)</script></html>"
      ],
      "text/latex": [
       "\\begin{math}\n",
       "\\newcommand{\\Bold}[1]{\\mathbf{#1}}\\left(\\verb|[1,|\\phantom{\\verb!x!}\\verb|1,|\\phantom{\\verb!x!}\\verb|0,|\\phantom{\\verb!x!}\\verb|1,|\\phantom{\\verb!x!}\\verb|1,|\\phantom{\\verb!x!}\\verb|0,|\\phantom{\\verb!x!}\\verb|0,|\\phantom{\\verb!x!}\\verb|0]|, \\left\\{\\verb|mon| : \\left(\\begin{array}{rr}\n",
       "-2 \\, l^{2} + 1 & -2 \\, l \\\\\n",
       "-2 \\, l^{3} + 2 \\, l & -2 \\, l^{2} + 1\n",
       "\\end{array}\\right), \\verb|sol| : \\left[-1, 0, 1\\right], \\verb|trace| : \\left[-2, 2, -2\\right]\\right\\}\\right)\n",
       "\\end{math}"
      ],
      "text/plain": [
       "('[1, 1, 0, 1, 1, 0, 0, 0]',\n",
       " {'mon': [  -2*l^2 + 1         -2*l]\n",
       "  [-2*l^3 + 2*l   -2*l^2 + 1], 'sol': [-1, 0, 1], 'trace': [-2, 2, -2]})"
      ]
     },
     "metadata": {},
     "output_type": "display_data"
    },
    {
     "data": {
      "text/html": [
       "<html><script type=\"math/tex; mode=display\">\\newcommand{\\Bold}[1]{\\mathbf{#1}}\\left(\\verb|[0,|\\phantom{\\verb!x!}\\verb|0,|\\phantom{\\verb!x!}\\verb|1,|\\phantom{\\verb!x!}\\verb|1,|\\phantom{\\verb!x!}\\verb|1,|\\phantom{\\verb!x!}\\verb|0,|\\phantom{\\verb!x!}\\verb|0,|\\phantom{\\verb!x!}\\verb|0]|, \\left\\{\\verb|mon| : \\left(\\begin{array}{rr}\n",
       "-l^{2} + 1 & -l \\\\\n",
       "-l^{3} + 2 \\, l & -l^{2} + 1\n",
       "\\end{array}\\right), \\verb|sol| : \\left[-\\sqrt{2}, 0, \\sqrt{2}\\right], \\verb|trace| : \\left[-2, 2, -2\\right]\\right\\}\\right)</script></html>"
      ],
      "text/latex": [
       "\\begin{math}\n",
       "\\newcommand{\\Bold}[1]{\\mathbf{#1}}\\left(\\verb|[0,|\\phantom{\\verb!x!}\\verb|0,|\\phantom{\\verb!x!}\\verb|1,|\\phantom{\\verb!x!}\\verb|1,|\\phantom{\\verb!x!}\\verb|1,|\\phantom{\\verb!x!}\\verb|0,|\\phantom{\\verb!x!}\\verb|0,|\\phantom{\\verb!x!}\\verb|0]|, \\left\\{\\verb|mon| : \\left(\\begin{array}{rr}\n",
       "-l^{2} + 1 & -l \\\\\n",
       "-l^{3} + 2 \\, l & -l^{2} + 1\n",
       "\\end{array}\\right), \\verb|sol| : \\left[-\\sqrt{2}, 0, \\sqrt{2}\\right], \\verb|trace| : \\left[-2, 2, -2\\right]\\right\\}\\right)\n",
       "\\end{math}"
      ],
      "text/plain": [
       "('[0, 0, 1, 1, 1, 0, 0, 0]',\n",
       " {'mon': [  -l^2 + 1         -l]\n",
       "  [-l^3 + 2*l   -l^2 + 1],\n",
       "  'sol': [-sqrt(2), 0, sqrt(2)],\n",
       "  'trace': [-2, 2, -2]})"
      ]
     },
     "metadata": {},
     "output_type": "display_data"
    },
    {
     "data": {
      "text/html": [
       "<html><script type=\"math/tex; mode=display\">\\newcommand{\\Bold}[1]{\\mathbf{#1}}\\left(\\verb|[1,|\\phantom{\\verb!x!}\\verb|0,|\\phantom{\\verb!x!}\\verb|1,|\\phantom{\\verb!x!}\\verb|1,|\\phantom{\\verb!x!}\\verb|1,|\\phantom{\\verb!x!}\\verb|0,|\\phantom{\\verb!x!}\\verb|0,|\\phantom{\\verb!x!}\\verb|0]|, \\left\\{\\verb|mon| : \\left(\\begin{array}{rr}\n",
       "-2 \\, l^{2} + 1 & -l \\\\\n",
       "-2 \\, l^{3} + 3 \\, l & -l^{2} + 1\n",
       "\\end{array}\\right), \\verb|sol| : \\left[-\\frac{1}{2} \\, \\sqrt{3} \\sqrt{2}, 0, \\frac{1}{2} \\, \\sqrt{3} \\sqrt{2}\\right], \\verb|trace| : \\left[-\\frac{5}{2}, 2, -\\frac{5}{2}\\right]\\right\\}\\right)</script></html>"
      ],
      "text/latex": [
       "\\begin{math}\n",
       "\\newcommand{\\Bold}[1]{\\mathbf{#1}}\\left(\\verb|[1,|\\phantom{\\verb!x!}\\verb|0,|\\phantom{\\verb!x!}\\verb|1,|\\phantom{\\verb!x!}\\verb|1,|\\phantom{\\verb!x!}\\verb|1,|\\phantom{\\verb!x!}\\verb|0,|\\phantom{\\verb!x!}\\verb|0,|\\phantom{\\verb!x!}\\verb|0]|, \\left\\{\\verb|mon| : \\left(\\begin{array}{rr}\n",
       "-2 \\, l^{2} + 1 & -l \\\\\n",
       "-2 \\, l^{3} + 3 \\, l & -l^{2} + 1\n",
       "\\end{array}\\right), \\verb|sol| : \\left[-\\frac{1}{2} \\, \\sqrt{3} \\sqrt{2}, 0, \\frac{1}{2} \\, \\sqrt{3} \\sqrt{2}\\right], \\verb|trace| : \\left[-\\frac{5}{2}, 2, -\\frac{5}{2}\\right]\\right\\}\\right)\n",
       "\\end{math}"
      ],
      "text/plain": [
       "('[1, 0, 1, 1, 1, 0, 0, 0]',\n",
       " {'mon': [  -2*l^2 + 1           -l]\n",
       "  [-2*l^3 + 3*l     -l^2 + 1],\n",
       "  'sol': [-1/2*sqrt(3)*sqrt(2), 0, 1/2*sqrt(3)*sqrt(2)],\n",
       "  'trace': [-5/2, 2, -5/2]})"
      ]
     },
     "metadata": {},
     "output_type": "display_data"
    },
    {
     "data": {
      "text/html": [
       "<html><script type=\"math/tex; mode=display\">\\newcommand{\\Bold}[1]{\\mathbf{#1}}\\left(\\verb|[0,|\\phantom{\\verb!x!}\\verb|1,|\\phantom{\\verb!x!}\\verb|1,|\\phantom{\\verb!x!}\\verb|1,|\\phantom{\\verb!x!}\\verb|1,|\\phantom{\\verb!x!}\\verb|0,|\\phantom{\\verb!x!}\\verb|0,|\\phantom{\\verb!x!}\\verb|0]|, \\left\\{\\verb|mon| : \\left(\\begin{array}{rr}\n",
       "-l^{2} + 1 & l^{3} - 2 \\, l \\\\\n",
       "-l^{3} + 2 \\, l & l^{4} - 3 \\, l^{2} + 1\n",
       "\\end{array}\\right), \\verb|sol| : \\left[-\\sqrt{2}, 0, \\sqrt{2}\\right], \\verb|trace| : \\left[-2, 2, -2\\right]\\right\\}\\right)</script></html>"
      ],
      "text/latex": [
       "\\begin{math}\n",
       "\\newcommand{\\Bold}[1]{\\mathbf{#1}}\\left(\\verb|[0,|\\phantom{\\verb!x!}\\verb|1,|\\phantom{\\verb!x!}\\verb|1,|\\phantom{\\verb!x!}\\verb|1,|\\phantom{\\verb!x!}\\verb|1,|\\phantom{\\verb!x!}\\verb|0,|\\phantom{\\verb!x!}\\verb|0,|\\phantom{\\verb!x!}\\verb|0]|, \\left\\{\\verb|mon| : \\left(\\begin{array}{rr}\n",
       "-l^{2} + 1 & l^{3} - 2 \\, l \\\\\n",
       "-l^{3} + 2 \\, l & l^{4} - 3 \\, l^{2} + 1\n",
       "\\end{array}\\right), \\verb|sol| : \\left[-\\sqrt{2}, 0, \\sqrt{2}\\right], \\verb|trace| : \\left[-2, 2, -2\\right]\\right\\}\\right)\n",
       "\\end{math}"
      ],
      "text/plain": [
       "('[0, 1, 1, 1, 1, 0, 0, 0]',\n",
       " {'mon': [       -l^2 + 1       l^3 - 2*l]\n",
       "  [     -l^3 + 2*l l^4 - 3*l^2 + 1],\n",
       "  'sol': [-sqrt(2), 0, sqrt(2)],\n",
       "  'trace': [-2, 2, -2]})"
      ]
     },
     "metadata": {},
     "output_type": "display_data"
    },
    {
     "data": {
      "text/html": [
       "<html><script type=\"math/tex; mode=display\">\\newcommand{\\Bold}[1]{\\mathbf{#1}}\\left(\\verb|[1,|\\phantom{\\verb!x!}\\verb|1,|\\phantom{\\verb!x!}\\verb|1,|\\phantom{\\verb!x!}\\verb|1,|\\phantom{\\verb!x!}\\verb|1,|\\phantom{\\verb!x!}\\verb|0,|\\phantom{\\verb!x!}\\verb|0,|\\phantom{\\verb!x!}\\verb|0]|, \\left\\{\\verb|mon| : \\left(\\begin{array}{rr}\n",
       "l^{4} - 3 \\, l^{2} + 1 & l^{3} - 2 \\, l \\\\\n",
       "l^{5} - 4 \\, l^{3} + 3 \\, l & l^{4} - 3 \\, l^{2} + 1\n",
       "\\end{array}\\right), \\verb|sol| : \\left[-\\sqrt{3}, -1, 0, 1, \\sqrt{3}\\right], \\verb|trace| : \\left[2, -2, 2, -2, 2\\right]\\right\\}\\right)</script></html>"
      ],
      "text/latex": [
       "\\begin{math}\n",
       "\\newcommand{\\Bold}[1]{\\mathbf{#1}}\\left(\\verb|[1,|\\phantom{\\verb!x!}\\verb|1,|\\phantom{\\verb!x!}\\verb|1,|\\phantom{\\verb!x!}\\verb|1,|\\phantom{\\verb!x!}\\verb|1,|\\phantom{\\verb!x!}\\verb|0,|\\phantom{\\verb!x!}\\verb|0,|\\phantom{\\verb!x!}\\verb|0]|, \\left\\{\\verb|mon| : \\left(\\begin{array}{rr}\n",
       "l^{4} - 3 \\, l^{2} + 1 & l^{3} - 2 \\, l \\\\\n",
       "l^{5} - 4 \\, l^{3} + 3 \\, l & l^{4} - 3 \\, l^{2} + 1\n",
       "\\end{array}\\right), \\verb|sol| : \\left[-\\sqrt{3}, -1, 0, 1, \\sqrt{3}\\right], \\verb|trace| : \\left[2, -2, 2, -2, 2\\right]\\right\\}\\right)\n",
       "\\end{math}"
      ],
      "text/plain": [
       "('[1, 1, 1, 1, 1, 0, 0, 0]',\n",
       " {'mon': [  l^4 - 3*l^2 + 1         l^3 - 2*l]\n",
       "  [l^5 - 4*l^3 + 3*l   l^4 - 3*l^2 + 1],\n",
       "  'sol': [-sqrt(3), -1, 0, 1, sqrt(3)],\n",
       "  'trace': [2, -2, 2, -2, 2]})"
      ]
     },
     "metadata": {},
     "output_type": "display_data"
    },
    {
     "data": {
      "text/html": [
       "<html><script type=\"math/tex; mode=display\">\\newcommand{\\Bold}[1]{\\mathbf{#1}}\\left(\\verb|[0,|\\phantom{\\verb!x!}\\verb|0,|\\phantom{\\verb!x!}\\verb|0,|\\phantom{\\verb!x!}\\verb|0,|\\phantom{\\verb!x!}\\verb|0,|\\phantom{\\verb!x!}\\verb|1,|\\phantom{\\verb!x!}\\verb|0,|\\phantom{\\verb!x!}\\verb|0]|, \\left\\{\\verb|mon| : \\left(\\begin{array}{rr}\n",
       "1 & -l \\\\\n",
       "0 & 1\n",
       "\\end{array}\\right), \\verb|sol| : \\left[r_{1}\\right], \\verb|trace| : \\left[2\\right]\\right\\}\\right)</script></html>"
      ],
      "text/latex": [
       "\\begin{math}\n",
       "\\newcommand{\\Bold}[1]{\\mathbf{#1}}\\left(\\verb|[0,|\\phantom{\\verb!x!}\\verb|0,|\\phantom{\\verb!x!}\\verb|0,|\\phantom{\\verb!x!}\\verb|0,|\\phantom{\\verb!x!}\\verb|0,|\\phantom{\\verb!x!}\\verb|1,|\\phantom{\\verb!x!}\\verb|0,|\\phantom{\\verb!x!}\\verb|0]|, \\left\\{\\verb|mon| : \\left(\\begin{array}{rr}\n",
       "1 & -l \\\\\n",
       "0 & 1\n",
       "\\end{array}\\right), \\verb|sol| : \\left[r_{1}\\right], \\verb|trace| : \\left[2\\right]\\right\\}\\right)\n",
       "\\end{math}"
      ],
      "text/plain": [
       "('[0, 0, 0, 0, 0, 1, 0, 0]',\n",
       " {'mon': [ 1 -l]\n",
       "  [ 0  1], 'sol': [r1], 'trace': [2]})"
      ]
     },
     "metadata": {},
     "output_type": "display_data"
    },
    {
     "data": {
      "text/html": [
       "<html><script type=\"math/tex; mode=display\">\\newcommand{\\Bold}[1]{\\mathbf{#1}}\\left(\\verb|[1,|\\phantom{\\verb!x!}\\verb|0,|\\phantom{\\verb!x!}\\verb|0,|\\phantom{\\verb!x!}\\verb|0,|\\phantom{\\verb!x!}\\verb|0,|\\phantom{\\verb!x!}\\verb|1,|\\phantom{\\verb!x!}\\verb|0,|\\phantom{\\verb!x!}\\verb|0]|, \\left\\{\\verb|mon| : \\left(\\begin{array}{rr}\n",
       "-l^{2} + 1 & -l \\\\\n",
       "l & 1\n",
       "\\end{array}\\right), \\verb|sol| : \\left[0\\right], \\verb|trace| : \\left[2\\right]\\right\\}\\right)</script></html>"
      ],
      "text/latex": [
       "\\begin{math}\n",
       "\\newcommand{\\Bold}[1]{\\mathbf{#1}}\\left(\\verb|[1,|\\phantom{\\verb!x!}\\verb|0,|\\phantom{\\verb!x!}\\verb|0,|\\phantom{\\verb!x!}\\verb|0,|\\phantom{\\verb!x!}\\verb|0,|\\phantom{\\verb!x!}\\verb|1,|\\phantom{\\verb!x!}\\verb|0,|\\phantom{\\verb!x!}\\verb|0]|, \\left\\{\\verb|mon| : \\left(\\begin{array}{rr}\n",
       "-l^{2} + 1 & -l \\\\\n",
       "l & 1\n",
       "\\end{array}\\right), \\verb|sol| : \\left[0\\right], \\verb|trace| : \\left[2\\right]\\right\\}\\right)\n",
       "\\end{math}"
      ],
      "text/plain": [
       "('[1, 0, 0, 0, 0, 1, 0, 0]',\n",
       " {'mon': [-l^2 + 1       -l]\n",
       "  [       l        1], 'sol': [0], 'trace': [2]})"
      ]
     },
     "metadata": {},
     "output_type": "display_data"
    },
    {
     "data": {
      "text/html": [
       "<html><script type=\"math/tex; mode=display\">\\newcommand{\\Bold}[1]{\\mathbf{#1}}\\left(\\verb|[0,|\\phantom{\\verb!x!}\\verb|1,|\\phantom{\\verb!x!}\\verb|0,|\\phantom{\\verb!x!}\\verb|0,|\\phantom{\\verb!x!}\\verb|0,|\\phantom{\\verb!x!}\\verb|1,|\\phantom{\\verb!x!}\\verb|0,|\\phantom{\\verb!x!}\\verb|0]|, \\left\\{\\verb|mon| : \\left(\\begin{array}{rr}\n",
       "1 & -2 \\, l \\\\\n",
       "0 & 1\n",
       "\\end{array}\\right), \\verb|sol| : \\left[r_{1}\\right], \\verb|trace| : \\left[2\\right]\\right\\}\\right)</script></html>"
      ],
      "text/latex": [
       "\\begin{math}\n",
       "\\newcommand{\\Bold}[1]{\\mathbf{#1}}\\left(\\verb|[0,|\\phantom{\\verb!x!}\\verb|1,|\\phantom{\\verb!x!}\\verb|0,|\\phantom{\\verb!x!}\\verb|0,|\\phantom{\\verb!x!}\\verb|0,|\\phantom{\\verb!x!}\\verb|1,|\\phantom{\\verb!x!}\\verb|0,|\\phantom{\\verb!x!}\\verb|0]|, \\left\\{\\verb|mon| : \\left(\\begin{array}{rr}\n",
       "1 & -2 \\, l \\\\\n",
       "0 & 1\n",
       "\\end{array}\\right), \\verb|sol| : \\left[r_{1}\\right], \\verb|trace| : \\left[2\\right]\\right\\}\\right)\n",
       "\\end{math}"
      ],
      "text/plain": [
       "('[0, 1, 0, 0, 0, 1, 0, 0]',\n",
       " {'mon': [   1 -2*l]\n",
       "  [   0    1], 'sol': [r1], 'trace': [2]})"
      ]
     },
     "metadata": {},
     "output_type": "display_data"
    },
    {
     "data": {
      "text/html": [
       "<html><script type=\"math/tex; mode=display\">\\newcommand{\\Bold}[1]{\\mathbf{#1}}\\left(\\verb|[1,|\\phantom{\\verb!x!}\\verb|1,|\\phantom{\\verb!x!}\\verb|0,|\\phantom{\\verb!x!}\\verb|0,|\\phantom{\\verb!x!}\\verb|0,|\\phantom{\\verb!x!}\\verb|1,|\\phantom{\\verb!x!}\\verb|0,|\\phantom{\\verb!x!}\\verb|0]|, \\left\\{\\verb|mon| : \\left(\\begin{array}{rr}\n",
       "-2 \\, l^{2} + 1 & -2 \\, l \\\\\n",
       "l & 1\n",
       "\\end{array}\\right), \\verb|sol| : \\left[0\\right], \\verb|trace| : \\left[2\\right]\\right\\}\\right)</script></html>"
      ],
      "text/latex": [
       "\\begin{math}\n",
       "\\newcommand{\\Bold}[1]{\\mathbf{#1}}\\left(\\verb|[1,|\\phantom{\\verb!x!}\\verb|1,|\\phantom{\\verb!x!}\\verb|0,|\\phantom{\\verb!x!}\\verb|0,|\\phantom{\\verb!x!}\\verb|0,|\\phantom{\\verb!x!}\\verb|1,|\\phantom{\\verb!x!}\\verb|0,|\\phantom{\\verb!x!}\\verb|0]|, \\left\\{\\verb|mon| : \\left(\\begin{array}{rr}\n",
       "-2 \\, l^{2} + 1 & -2 \\, l \\\\\n",
       "l & 1\n",
       "\\end{array}\\right), \\verb|sol| : \\left[0\\right], \\verb|trace| : \\left[2\\right]\\right\\}\\right)\n",
       "\\end{math}"
      ],
      "text/plain": [
       "('[1, 1, 0, 0, 0, 1, 0, 0]',\n",
       " {'mon': [-2*l^2 + 1       -2*l]\n",
       "  [         l          1], 'sol': [0], 'trace': [2]})"
      ]
     },
     "metadata": {},
     "output_type": "display_data"
    },
    {
     "data": {
      "text/html": [
       "<html><script type=\"math/tex; mode=display\">\\newcommand{\\Bold}[1]{\\mathbf{#1}}\\left(\\verb|[0,|\\phantom{\\verb!x!}\\verb|0,|\\phantom{\\verb!x!}\\verb|1,|\\phantom{\\verb!x!}\\verb|0,|\\phantom{\\verb!x!}\\verb|0,|\\phantom{\\verb!x!}\\verb|1,|\\phantom{\\verb!x!}\\verb|0,|\\phantom{\\verb!x!}\\verb|0]|, \\left\\{\\verb|mon| : \\left(\\begin{array}{rr}\n",
       "-l^{2} + 1 & -l \\\\\n",
       "l & 1\n",
       "\\end{array}\\right), \\verb|sol| : \\left[0\\right], \\verb|trace| : \\left[2\\right]\\right\\}\\right)</script></html>"
      ],
      "text/latex": [
       "\\begin{math}\n",
       "\\newcommand{\\Bold}[1]{\\mathbf{#1}}\\left(\\verb|[0,|\\phantom{\\verb!x!}\\verb|0,|\\phantom{\\verb!x!}\\verb|1,|\\phantom{\\verb!x!}\\verb|0,|\\phantom{\\verb!x!}\\verb|0,|\\phantom{\\verb!x!}\\verb|1,|\\phantom{\\verb!x!}\\verb|0,|\\phantom{\\verb!x!}\\verb|0]|, \\left\\{\\verb|mon| : \\left(\\begin{array}{rr}\n",
       "-l^{2} + 1 & -l \\\\\n",
       "l & 1\n",
       "\\end{array}\\right), \\verb|sol| : \\left[0\\right], \\verb|trace| : \\left[2\\right]\\right\\}\\right)\n",
       "\\end{math}"
      ],
      "text/plain": [
       "('[0, 0, 1, 0, 0, 1, 0, 0]',\n",
       " {'mon': [-l^2 + 1       -l]\n",
       "  [       l        1], 'sol': [0], 'trace': [2]})"
      ]
     },
     "metadata": {},
     "output_type": "display_data"
    },
    {
     "data": {
      "text/html": [
       "<html><script type=\"math/tex; mode=display\">\\newcommand{\\Bold}[1]{\\mathbf{#1}}\\left(\\verb|[1,|\\phantom{\\verb!x!}\\verb|0,|\\phantom{\\verb!x!}\\verb|1,|\\phantom{\\verb!x!}\\verb|0,|\\phantom{\\verb!x!}\\verb|0,|\\phantom{\\verb!x!}\\verb|1,|\\phantom{\\verb!x!}\\verb|0,|\\phantom{\\verb!x!}\\verb|0]|, \\left\\{\\verb|mon| : \\left(\\begin{array}{rr}\n",
       "-2 \\, l^{2} + 1 & -l \\\\\n",
       "2 \\, l & 1\n",
       "\\end{array}\\right), \\verb|sol| : \\left[0\\right], \\verb|trace| : \\left[2\\right]\\right\\}\\right)</script></html>"
      ],
      "text/latex": [
       "\\begin{math}\n",
       "\\newcommand{\\Bold}[1]{\\mathbf{#1}}\\left(\\verb|[1,|\\phantom{\\verb!x!}\\verb|0,|\\phantom{\\verb!x!}\\verb|1,|\\phantom{\\verb!x!}\\verb|0,|\\phantom{\\verb!x!}\\verb|0,|\\phantom{\\verb!x!}\\verb|1,|\\phantom{\\verb!x!}\\verb|0,|\\phantom{\\verb!x!}\\verb|0]|, \\left\\{\\verb|mon| : \\left(\\begin{array}{rr}\n",
       "-2 \\, l^{2} + 1 & -l \\\\\n",
       "2 \\, l & 1\n",
       "\\end{array}\\right), \\verb|sol| : \\left[0\\right], \\verb|trace| : \\left[2\\right]\\right\\}\\right)\n",
       "\\end{math}"
      ],
      "text/plain": [
       "('[1, 0, 1, 0, 0, 1, 0, 0]',\n",
       " {'mon': [-2*l^2 + 1         -l]\n",
       "  [       2*l          1], 'sol': [0], 'trace': [2]})"
      ]
     },
     "metadata": {},
     "output_type": "display_data"
    },
    {
     "data": {
      "text/html": [
       "<html><script type=\"math/tex; mode=display\">\\newcommand{\\Bold}[1]{\\mathbf{#1}}\\left(\\verb|[0,|\\phantom{\\verb!x!}\\verb|1,|\\phantom{\\verb!x!}\\verb|1,|\\phantom{\\verb!x!}\\verb|0,|\\phantom{\\verb!x!}\\verb|0,|\\phantom{\\verb!x!}\\verb|1,|\\phantom{\\verb!x!}\\verb|0,|\\phantom{\\verb!x!}\\verb|0]|, \\left\\{\\verb|mon| : \\left(\\begin{array}{rr}\n",
       "-l^{2} + 1 & l^{3} - 2 \\, l \\\\\n",
       "l & -l^{2} + 1\n",
       "\\end{array}\\right), \\verb|sol| : \\left[0\\right], \\verb|trace| : \\left[2\\right]\\right\\}\\right)</script></html>"
      ],
      "text/latex": [
       "\\begin{math}\n",
       "\\newcommand{\\Bold}[1]{\\mathbf{#1}}\\left(\\verb|[0,|\\phantom{\\verb!x!}\\verb|1,|\\phantom{\\verb!x!}\\verb|1,|\\phantom{\\verb!x!}\\verb|0,|\\phantom{\\verb!x!}\\verb|0,|\\phantom{\\verb!x!}\\verb|1,|\\phantom{\\verb!x!}\\verb|0,|\\phantom{\\verb!x!}\\verb|0]|, \\left\\{\\verb|mon| : \\left(\\begin{array}{rr}\n",
       "-l^{2} + 1 & l^{3} - 2 \\, l \\\\\n",
       "l & -l^{2} + 1\n",
       "\\end{array}\\right), \\verb|sol| : \\left[0\\right], \\verb|trace| : \\left[2\\right]\\right\\}\\right)\n",
       "\\end{math}"
      ],
      "text/plain": [
       "('[0, 1, 1, 0, 0, 1, 0, 0]',\n",
       " {'mon': [ -l^2 + 1 l^3 - 2*l]\n",
       "  [        l  -l^2 + 1], 'sol': [0], 'trace': [2]})"
      ]
     },
     "metadata": {},
     "output_type": "display_data"
    },
    {
     "data": {
      "text/html": [
       "<html><script type=\"math/tex; mode=display\">\\newcommand{\\Bold}[1]{\\mathbf{#1}}\\left(\\verb|[1,|\\phantom{\\verb!x!}\\verb|1,|\\phantom{\\verb!x!}\\verb|1,|\\phantom{\\verb!x!}\\verb|0,|\\phantom{\\verb!x!}\\verb|0,|\\phantom{\\verb!x!}\\verb|1,|\\phantom{\\verb!x!}\\verb|0,|\\phantom{\\verb!x!}\\verb|0]|, \\left\\{\\verb|mon| : \\left(\\begin{array}{rr}\n",
       "l^{4} - 3 \\, l^{2} + 1 & l^{3} - 2 \\, l \\\\\n",
       "-l^{3} + 2 \\, l & -l^{2} + 1\n",
       "\\end{array}\\right), \\verb|sol| : \\left[-\\sqrt{2}, 0, \\sqrt{2}\\right], \\verb|trace| : \\left[-2, 2, -2\\right]\\right\\}\\right)</script></html>"
      ],
      "text/latex": [
       "\\begin{math}\n",
       "\\newcommand{\\Bold}[1]{\\mathbf{#1}}\\left(\\verb|[1,|\\phantom{\\verb!x!}\\verb|1,|\\phantom{\\verb!x!}\\verb|1,|\\phantom{\\verb!x!}\\verb|0,|\\phantom{\\verb!x!}\\verb|0,|\\phantom{\\verb!x!}\\verb|1,|\\phantom{\\verb!x!}\\verb|0,|\\phantom{\\verb!x!}\\verb|0]|, \\left\\{\\verb|mon| : \\left(\\begin{array}{rr}\n",
       "l^{4} - 3 \\, l^{2} + 1 & l^{3} - 2 \\, l \\\\\n",
       "-l^{3} + 2 \\, l & -l^{2} + 1\n",
       "\\end{array}\\right), \\verb|sol| : \\left[-\\sqrt{2}, 0, \\sqrt{2}\\right], \\verb|trace| : \\left[-2, 2, -2\\right]\\right\\}\\right)\n",
       "\\end{math}"
      ],
      "text/plain": [
       "('[1, 1, 1, 0, 0, 1, 0, 0]',\n",
       " {'mon': [l^4 - 3*l^2 + 1       l^3 - 2*l]\n",
       "  [     -l^3 + 2*l        -l^2 + 1],\n",
       "  'sol': [-sqrt(2), 0, sqrt(2)],\n",
       "  'trace': [-2, 2, -2]})"
      ]
     },
     "metadata": {},
     "output_type": "display_data"
    },
    {
     "data": {
      "text/html": [
       "<html><script type=\"math/tex; mode=display\">\\newcommand{\\Bold}[1]{\\mathbf{#1}}\\left(\\verb|[0,|\\phantom{\\verb!x!}\\verb|0,|\\phantom{\\verb!x!}\\verb|0,|\\phantom{\\verb!x!}\\verb|1,|\\phantom{\\verb!x!}\\verb|0,|\\phantom{\\verb!x!}\\verb|1,|\\phantom{\\verb!x!}\\verb|0,|\\phantom{\\verb!x!}\\verb|0]|, \\left\\{\\verb|mon| : \\left(\\begin{array}{rr}\n",
       "1 & -2 \\, l \\\\\n",
       "0 & 1\n",
       "\\end{array}\\right), \\verb|sol| : \\left[r_{1}\\right], \\verb|trace| : \\left[2\\right]\\right\\}\\right)</script></html>"
      ],
      "text/latex": [
       "\\begin{math}\n",
       "\\newcommand{\\Bold}[1]{\\mathbf{#1}}\\left(\\verb|[0,|\\phantom{\\verb!x!}\\verb|0,|\\phantom{\\verb!x!}\\verb|0,|\\phantom{\\verb!x!}\\verb|1,|\\phantom{\\verb!x!}\\verb|0,|\\phantom{\\verb!x!}\\verb|1,|\\phantom{\\verb!x!}\\verb|0,|\\phantom{\\verb!x!}\\verb|0]|, \\left\\{\\verb|mon| : \\left(\\begin{array}{rr}\n",
       "1 & -2 \\, l \\\\\n",
       "0 & 1\n",
       "\\end{array}\\right), \\verb|sol| : \\left[r_{1}\\right], \\verb|trace| : \\left[2\\right]\\right\\}\\right)\n",
       "\\end{math}"
      ],
      "text/plain": [
       "('[0, 0, 0, 1, 0, 1, 0, 0]',\n",
       " {'mon': [   1 -2*l]\n",
       "  [   0    1], 'sol': [r1], 'trace': [2]})"
      ]
     },
     "metadata": {},
     "output_type": "display_data"
    },
    {
     "data": {
      "text/html": [
       "<html><script type=\"math/tex; mode=display\">\\newcommand{\\Bold}[1]{\\mathbf{#1}}\\left(\\verb|[1,|\\phantom{\\verb!x!}\\verb|0,|\\phantom{\\verb!x!}\\verb|0,|\\phantom{\\verb!x!}\\verb|1,|\\phantom{\\verb!x!}\\verb|0,|\\phantom{\\verb!x!}\\verb|1,|\\phantom{\\verb!x!}\\verb|0,|\\phantom{\\verb!x!}\\verb|0]|, \\left\\{\\verb|mon| : \\left(\\begin{array}{rr}\n",
       "-2 \\, l^{2} + 1 & -2 \\, l \\\\\n",
       "l & 1\n",
       "\\end{array}\\right), \\verb|sol| : \\left[0\\right], \\verb|trace| : \\left[2\\right]\\right\\}\\right)</script></html>"
      ],
      "text/latex": [
       "\\begin{math}\n",
       "\\newcommand{\\Bold}[1]{\\mathbf{#1}}\\left(\\verb|[1,|\\phantom{\\verb!x!}\\verb|0,|\\phantom{\\verb!x!}\\verb|0,|\\phantom{\\verb!x!}\\verb|1,|\\phantom{\\verb!x!}\\verb|0,|\\phantom{\\verb!x!}\\verb|1,|\\phantom{\\verb!x!}\\verb|0,|\\phantom{\\verb!x!}\\verb|0]|, \\left\\{\\verb|mon| : \\left(\\begin{array}{rr}\n",
       "-2 \\, l^{2} + 1 & -2 \\, l \\\\\n",
       "l & 1\n",
       "\\end{array}\\right), \\verb|sol| : \\left[0\\right], \\verb|trace| : \\left[2\\right]\\right\\}\\right)\n",
       "\\end{math}"
      ],
      "text/plain": [
       "('[1, 0, 0, 1, 0, 1, 0, 0]',\n",
       " {'mon': [-2*l^2 + 1       -2*l]\n",
       "  [         l          1], 'sol': [0], 'trace': [2]})"
      ]
     },
     "metadata": {},
     "output_type": "display_data"
    },
    {
     "data": {
      "text/html": [
       "<html><script type=\"math/tex; mode=display\">\\newcommand{\\Bold}[1]{\\mathbf{#1}}\\left(\\verb|[0,|\\phantom{\\verb!x!}\\verb|1,|\\phantom{\\verb!x!}\\verb|0,|\\phantom{\\verb!x!}\\verb|1,|\\phantom{\\verb!x!}\\verb|0,|\\phantom{\\verb!x!}\\verb|1,|\\phantom{\\verb!x!}\\verb|0,|\\phantom{\\verb!x!}\\verb|0]|, \\left\\{\\verb|mon| : \\left(\\begin{array}{rr}\n",
       "1 & -3 \\, l \\\\\n",
       "0 & 1\n",
       "\\end{array}\\right), \\verb|sol| : \\left[r_{1}\\right], \\verb|trace| : \\left[2\\right]\\right\\}\\right)</script></html>"
      ],
      "text/latex": [
       "\\begin{math}\n",
       "\\newcommand{\\Bold}[1]{\\mathbf{#1}}\\left(\\verb|[0,|\\phantom{\\verb!x!}\\verb|1,|\\phantom{\\verb!x!}\\verb|0,|\\phantom{\\verb!x!}\\verb|1,|\\phantom{\\verb!x!}\\verb|0,|\\phantom{\\verb!x!}\\verb|1,|\\phantom{\\verb!x!}\\verb|0,|\\phantom{\\verb!x!}\\verb|0]|, \\left\\{\\verb|mon| : \\left(\\begin{array}{rr}\n",
       "1 & -3 \\, l \\\\\n",
       "0 & 1\n",
       "\\end{array}\\right), \\verb|sol| : \\left[r_{1}\\right], \\verb|trace| : \\left[2\\right]\\right\\}\\right)\n",
       "\\end{math}"
      ],
      "text/plain": [
       "('[0, 1, 0, 1, 0, 1, 0, 0]',\n",
       " {'mon': [   1 -3*l]\n",
       "  [   0    1], 'sol': [r1], 'trace': [2]})"
      ]
     },
     "metadata": {},
     "output_type": "display_data"
    },
    {
     "data": {
      "text/html": [
       "<html><script type=\"math/tex; mode=display\">\\newcommand{\\Bold}[1]{\\mathbf{#1}}\\left(\\verb|[1,|\\phantom{\\verb!x!}\\verb|1,|\\phantom{\\verb!x!}\\verb|0,|\\phantom{\\verb!x!}\\verb|1,|\\phantom{\\verb!x!}\\verb|0,|\\phantom{\\verb!x!}\\verb|1,|\\phantom{\\verb!x!}\\verb|0,|\\phantom{\\verb!x!}\\verb|0]|, \\left\\{\\verb|mon| : \\left(\\begin{array}{rr}\n",
       "-3 \\, l^{2} + 1 & -3 \\, l \\\\\n",
       "l & 1\n",
       "\\end{array}\\right), \\verb|sol| : \\left[0\\right], \\verb|trace| : \\left[2\\right]\\right\\}\\right)</script></html>"
      ],
      "text/latex": [
       "\\begin{math}\n",
       "\\newcommand{\\Bold}[1]{\\mathbf{#1}}\\left(\\verb|[1,|\\phantom{\\verb!x!}\\verb|1,|\\phantom{\\verb!x!}\\verb|0,|\\phantom{\\verb!x!}\\verb|1,|\\phantom{\\verb!x!}\\verb|0,|\\phantom{\\verb!x!}\\verb|1,|\\phantom{\\verb!x!}\\verb|0,|\\phantom{\\verb!x!}\\verb|0]|, \\left\\{\\verb|mon| : \\left(\\begin{array}{rr}\n",
       "-3 \\, l^{2} + 1 & -3 \\, l \\\\\n",
       "l & 1\n",
       "\\end{array}\\right), \\verb|sol| : \\left[0\\right], \\verb|trace| : \\left[2\\right]\\right\\}\\right)\n",
       "\\end{math}"
      ],
      "text/plain": [
       "('[1, 1, 0, 1, 0, 1, 0, 0]',\n",
       " {'mon': [-3*l^2 + 1       -3*l]\n",
       "  [         l          1], 'sol': [0], 'trace': [2]})"
      ]
     },
     "metadata": {},
     "output_type": "display_data"
    },
    {
     "data": {
      "text/html": [
       "<html><script type=\"math/tex; mode=display\">\\newcommand{\\Bold}[1]{\\mathbf{#1}}\\left(\\verb|[0,|\\phantom{\\verb!x!}\\verb|0,|\\phantom{\\verb!x!}\\verb|1,|\\phantom{\\verb!x!}\\verb|1,|\\phantom{\\verb!x!}\\verb|0,|\\phantom{\\verb!x!}\\verb|1,|\\phantom{\\verb!x!}\\verb|0,|\\phantom{\\verb!x!}\\verb|0]|, \\left\\{\\verb|mon| : \\left(\\begin{array}{rr}\n",
       "-2 \\, l^{2} + 1 & -2 \\, l \\\\\n",
       "l & 1\n",
       "\\end{array}\\right), \\verb|sol| : \\left[0\\right], \\verb|trace| : \\left[2\\right]\\right\\}\\right)</script></html>"
      ],
      "text/latex": [
       "\\begin{math}\n",
       "\\newcommand{\\Bold}[1]{\\mathbf{#1}}\\left(\\verb|[0,|\\phantom{\\verb!x!}\\verb|0,|\\phantom{\\verb!x!}\\verb|1,|\\phantom{\\verb!x!}\\verb|1,|\\phantom{\\verb!x!}\\verb|0,|\\phantom{\\verb!x!}\\verb|1,|\\phantom{\\verb!x!}\\verb|0,|\\phantom{\\verb!x!}\\verb|0]|, \\left\\{\\verb|mon| : \\left(\\begin{array}{rr}\n",
       "-2 \\, l^{2} + 1 & -2 \\, l \\\\\n",
       "l & 1\n",
       "\\end{array}\\right), \\verb|sol| : \\left[0\\right], \\verb|trace| : \\left[2\\right]\\right\\}\\right)\n",
       "\\end{math}"
      ],
      "text/plain": [
       "('[0, 0, 1, 1, 0, 1, 0, 0]',\n",
       " {'mon': [-2*l^2 + 1       -2*l]\n",
       "  [         l          1], 'sol': [0], 'trace': [2]})"
      ]
     },
     "metadata": {},
     "output_type": "display_data"
    },
    {
     "data": {
      "text/html": [
       "<html><script type=\"math/tex; mode=display\">\\newcommand{\\Bold}[1]{\\mathbf{#1}}\\left(\\verb|[1,|\\phantom{\\verb!x!}\\verb|0,|\\phantom{\\verb!x!}\\verb|1,|\\phantom{\\verb!x!}\\verb|1,|\\phantom{\\verb!x!}\\verb|0,|\\phantom{\\verb!x!}\\verb|1,|\\phantom{\\verb!x!}\\verb|0,|\\phantom{\\verb!x!}\\verb|0]|, \\left\\{\\verb|mon| : \\left(\\begin{array}{rr}\n",
       "-4 \\, l^{2} + 1 & -2 \\, l \\\\\n",
       "2 \\, l & 1\n",
       "\\end{array}\\right), \\verb|sol| : \\left[0\\right], \\verb|trace| : \\left[2\\right]\\right\\}\\right)</script></html>"
      ],
      "text/latex": [
       "\\begin{math}\n",
       "\\newcommand{\\Bold}[1]{\\mathbf{#1}}\\left(\\verb|[1,|\\phantom{\\verb!x!}\\verb|0,|\\phantom{\\verb!x!}\\verb|1,|\\phantom{\\verb!x!}\\verb|1,|\\phantom{\\verb!x!}\\verb|0,|\\phantom{\\verb!x!}\\verb|1,|\\phantom{\\verb!x!}\\verb|0,|\\phantom{\\verb!x!}\\verb|0]|, \\left\\{\\verb|mon| : \\left(\\begin{array}{rr}\n",
       "-4 \\, l^{2} + 1 & -2 \\, l \\\\\n",
       "2 \\, l & 1\n",
       "\\end{array}\\right), \\verb|sol| : \\left[0\\right], \\verb|trace| : \\left[2\\right]\\right\\}\\right)\n",
       "\\end{math}"
      ],
      "text/plain": [
       "('[1, 0, 1, 1, 0, 1, 0, 0]',\n",
       " {'mon': [-4*l^2 + 1       -2*l]\n",
       "  [       2*l          1], 'sol': [0], 'trace': [2]})"
      ]
     },
     "metadata": {},
     "output_type": "display_data"
    },
    {
     "data": {
      "text/html": [
       "<html><script type=\"math/tex; mode=display\">\\newcommand{\\Bold}[1]{\\mathbf{#1}}\\left(\\verb|[0,|\\phantom{\\verb!x!}\\verb|1,|\\phantom{\\verb!x!}\\verb|1,|\\phantom{\\verb!x!}\\verb|1,|\\phantom{\\verb!x!}\\verb|0,|\\phantom{\\verb!x!}\\verb|1,|\\phantom{\\verb!x!}\\verb|0,|\\phantom{\\verb!x!}\\verb|0]|, \\left\\{\\verb|mon| : \\left(\\begin{array}{rr}\n",
       "-2 \\, l^{2} + 1 & 2 \\, l^{3} - 3 \\, l \\\\\n",
       "l & -l^{2} + 1\n",
       "\\end{array}\\right), \\verb|sol| : \\left[0\\right], \\verb|trace| : \\left[2\\right]\\right\\}\\right)</script></html>"
      ],
      "text/latex": [
       "\\begin{math}\n",
       "\\newcommand{\\Bold}[1]{\\mathbf{#1}}\\left(\\verb|[0,|\\phantom{\\verb!x!}\\verb|1,|\\phantom{\\verb!x!}\\verb|1,|\\phantom{\\verb!x!}\\verb|1,|\\phantom{\\verb!x!}\\verb|0,|\\phantom{\\verb!x!}\\verb|1,|\\phantom{\\verb!x!}\\verb|0,|\\phantom{\\verb!x!}\\verb|0]|, \\left\\{\\verb|mon| : \\left(\\begin{array}{rr}\n",
       "-2 \\, l^{2} + 1 & 2 \\, l^{3} - 3 \\, l \\\\\n",
       "l & -l^{2} + 1\n",
       "\\end{array}\\right), \\verb|sol| : \\left[0\\right], \\verb|trace| : \\left[2\\right]\\right\\}\\right)\n",
       "\\end{math}"
      ],
      "text/plain": [
       "('[0, 1, 1, 1, 0, 1, 0, 0]',\n",
       " {'mon': [ -2*l^2 + 1 2*l^3 - 3*l]\n",
       "  [          l    -l^2 + 1], 'sol': [0], 'trace': [2]})"
      ]
     },
     "metadata": {},
     "output_type": "display_data"
    },
    {
     "data": {
      "text/html": [
       "<html><script type=\"math/tex; mode=display\">\\newcommand{\\Bold}[1]{\\mathbf{#1}}\\left(\\verb|[1,|\\phantom{\\verb!x!}\\verb|1,|\\phantom{\\verb!x!}\\verb|1,|\\phantom{\\verb!x!}\\verb|1,|\\phantom{\\verb!x!}\\verb|0,|\\phantom{\\verb!x!}\\verb|1,|\\phantom{\\verb!x!}\\verb|0,|\\phantom{\\verb!x!}\\verb|0]|, \\left\\{\\verb|mon| : \\left(\\begin{array}{rr}\n",
       "2 \\, l^{4} - 5 \\, l^{2} + 1 & 2 \\, l^{3} - 3 \\, l \\\\\n",
       "-l^{3} + 2 \\, l & -l^{2} + 1\n",
       "\\end{array}\\right), \\verb|sol| : \\left[-\\sqrt{2}, 0, \\sqrt{2}\\right], \\verb|trace| : \\left[-2, 2, -2\\right]\\right\\}\\right)</script></html>"
      ],
      "text/latex": [
       "\\begin{math}\n",
       "\\newcommand{\\Bold}[1]{\\mathbf{#1}}\\left(\\verb|[1,|\\phantom{\\verb!x!}\\verb|1,|\\phantom{\\verb!x!}\\verb|1,|\\phantom{\\verb!x!}\\verb|1,|\\phantom{\\verb!x!}\\verb|0,|\\phantom{\\verb!x!}\\verb|1,|\\phantom{\\verb!x!}\\verb|0,|\\phantom{\\verb!x!}\\verb|0]|, \\left\\{\\verb|mon| : \\left(\\begin{array}{rr}\n",
       "2 \\, l^{4} - 5 \\, l^{2} + 1 & 2 \\, l^{3} - 3 \\, l \\\\\n",
       "-l^{3} + 2 \\, l & -l^{2} + 1\n",
       "\\end{array}\\right), \\verb|sol| : \\left[-\\sqrt{2}, 0, \\sqrt{2}\\right], \\verb|trace| : \\left[-2, 2, -2\\right]\\right\\}\\right)\n",
       "\\end{math}"
      ],
      "text/plain": [
       "('[1, 1, 1, 1, 0, 1, 0, 0]',\n",
       " {'mon': [2*l^4 - 5*l^2 + 1       2*l^3 - 3*l]\n",
       "  [       -l^3 + 2*l          -l^2 + 1],\n",
       "  'sol': [-sqrt(2), 0, sqrt(2)],\n",
       "  'trace': [-2, 2, -2]})"
      ]
     },
     "metadata": {},
     "output_type": "display_data"
    },
    {
     "data": {
      "text/html": [
       "<html><script type=\"math/tex; mode=display\">\\newcommand{\\Bold}[1]{\\mathbf{#1}}\\left(\\verb|[0,|\\phantom{\\verb!x!}\\verb|0,|\\phantom{\\verb!x!}\\verb|0,|\\phantom{\\verb!x!}\\verb|0,|\\phantom{\\verb!x!}\\verb|1,|\\phantom{\\verb!x!}\\verb|1,|\\phantom{\\verb!x!}\\verb|0,|\\phantom{\\verb!x!}\\verb|0]|, \\left\\{\\verb|mon| : \\left(\\begin{array}{rr}\n",
       "-l^{2} + 1 & -l \\\\\n",
       "l & 1\n",
       "\\end{array}\\right), \\verb|sol| : \\left[0\\right], \\verb|trace| : \\left[2\\right]\\right\\}\\right)</script></html>"
      ],
      "text/latex": [
       "\\begin{math}\n",
       "\\newcommand{\\Bold}[1]{\\mathbf{#1}}\\left(\\verb|[0,|\\phantom{\\verb!x!}\\verb|0,|\\phantom{\\verb!x!}\\verb|0,|\\phantom{\\verb!x!}\\verb|0,|\\phantom{\\verb!x!}\\verb|1,|\\phantom{\\verb!x!}\\verb|1,|\\phantom{\\verb!x!}\\verb|0,|\\phantom{\\verb!x!}\\verb|0]|, \\left\\{\\verb|mon| : \\left(\\begin{array}{rr}\n",
       "-l^{2} + 1 & -l \\\\\n",
       "l & 1\n",
       "\\end{array}\\right), \\verb|sol| : \\left[0\\right], \\verb|trace| : \\left[2\\right]\\right\\}\\right)\n",
       "\\end{math}"
      ],
      "text/plain": [
       "('[0, 0, 0, 0, 1, 1, 0, 0]',\n",
       " {'mon': [-l^2 + 1       -l]\n",
       "  [       l        1], 'sol': [0], 'trace': [2]})"
      ]
     },
     "metadata": {},
     "output_type": "display_data"
    },
    {
     "data": {
      "text/html": [
       "<html><script type=\"math/tex; mode=display\">\\newcommand{\\Bold}[1]{\\mathbf{#1}}\\left(\\verb|[1,|\\phantom{\\verb!x!}\\verb|0,|\\phantom{\\verb!x!}\\verb|0,|\\phantom{\\verb!x!}\\verb|0,|\\phantom{\\verb!x!}\\verb|1,|\\phantom{\\verb!x!}\\verb|1,|\\phantom{\\verb!x!}\\verb|0,|\\phantom{\\verb!x!}\\verb|0]|, \\left\\{\\verb|mon| : \\left(\\begin{array}{rr}\n",
       "-2 \\, l^{2} + 1 & -l \\\\\n",
       "2 \\, l & 1\n",
       "\\end{array}\\right), \\verb|sol| : \\left[0\\right], \\verb|trace| : \\left[2\\right]\\right\\}\\right)</script></html>"
      ],
      "text/latex": [
       "\\begin{math}\n",
       "\\newcommand{\\Bold}[1]{\\mathbf{#1}}\\left(\\verb|[1,|\\phantom{\\verb!x!}\\verb|0,|\\phantom{\\verb!x!}\\verb|0,|\\phantom{\\verb!x!}\\verb|0,|\\phantom{\\verb!x!}\\verb|1,|\\phantom{\\verb!x!}\\verb|1,|\\phantom{\\verb!x!}\\verb|0,|\\phantom{\\verb!x!}\\verb|0]|, \\left\\{\\verb|mon| : \\left(\\begin{array}{rr}\n",
       "-2 \\, l^{2} + 1 & -l \\\\\n",
       "2 \\, l & 1\n",
       "\\end{array}\\right), \\verb|sol| : \\left[0\\right], \\verb|trace| : \\left[2\\right]\\right\\}\\right)\n",
       "\\end{math}"
      ],
      "text/plain": [
       "('[1, 0, 0, 0, 1, 1, 0, 0]',\n",
       " {'mon': [-2*l^2 + 1         -l]\n",
       "  [       2*l          1], 'sol': [0], 'trace': [2]})"
      ]
     },
     "metadata": {},
     "output_type": "display_data"
    },
    {
     "data": {
      "text/html": [
       "<html><script type=\"math/tex; mode=display\">\\newcommand{\\Bold}[1]{\\mathbf{#1}}\\left(\\verb|[0,|\\phantom{\\verb!x!}\\verb|1,|\\phantom{\\verb!x!}\\verb|0,|\\phantom{\\verb!x!}\\verb|0,|\\phantom{\\verb!x!}\\verb|1,|\\phantom{\\verb!x!}\\verb|1,|\\phantom{\\verb!x!}\\verb|0,|\\phantom{\\verb!x!}\\verb|0]|, \\left\\{\\verb|mon| : \\left(\\begin{array}{rr}\n",
       "-l^{2} + 1 & l^{3} - 2 \\, l \\\\\n",
       "l & -l^{2} + 1\n",
       "\\end{array}\\right), \\verb|sol| : \\left[0\\right], \\verb|trace| : \\left[2\\right]\\right\\}\\right)</script></html>"
      ],
      "text/latex": [
       "\\begin{math}\n",
       "\\newcommand{\\Bold}[1]{\\mathbf{#1}}\\left(\\verb|[0,|\\phantom{\\verb!x!}\\verb|1,|\\phantom{\\verb!x!}\\verb|0,|\\phantom{\\verb!x!}\\verb|0,|\\phantom{\\verb!x!}\\verb|1,|\\phantom{\\verb!x!}\\verb|1,|\\phantom{\\verb!x!}\\verb|0,|\\phantom{\\verb!x!}\\verb|0]|, \\left\\{\\verb|mon| : \\left(\\begin{array}{rr}\n",
       "-l^{2} + 1 & l^{3} - 2 \\, l \\\\\n",
       "l & -l^{2} + 1\n",
       "\\end{array}\\right), \\verb|sol| : \\left[0\\right], \\verb|trace| : \\left[2\\right]\\right\\}\\right)\n",
       "\\end{math}"
      ],
      "text/plain": [
       "('[0, 1, 0, 0, 1, 1, 0, 0]',\n",
       " {'mon': [ -l^2 + 1 l^3 - 2*l]\n",
       "  [        l  -l^2 + 1], 'sol': [0], 'trace': [2]})"
      ]
     },
     "metadata": {},
     "output_type": "display_data"
    },
    {
     "data": {
      "text/html": [
       "<html><script type=\"math/tex; mode=display\">\\newcommand{\\Bold}[1]{\\mathbf{#1}}\\left(\\verb|[1,|\\phantom{\\verb!x!}\\verb|1,|\\phantom{\\verb!x!}\\verb|0,|\\phantom{\\verb!x!}\\verb|0,|\\phantom{\\verb!x!}\\verb|1,|\\phantom{\\verb!x!}\\verb|1,|\\phantom{\\verb!x!}\\verb|0,|\\phantom{\\verb!x!}\\verb|0]|, \\left\\{\\verb|mon| : \\left(\\begin{array}{rr}\n",
       "l^{4} - 3 \\, l^{2} + 1 & l^{3} - 2 \\, l \\\\\n",
       "-l^{3} + 2 \\, l & -l^{2} + 1\n",
       "\\end{array}\\right), \\verb|sol| : \\left[-\\sqrt{2}, 0, \\sqrt{2}\\right], \\verb|trace| : \\left[-2, 2, -2\\right]\\right\\}\\right)</script></html>"
      ],
      "text/latex": [
       "\\begin{math}\n",
       "\\newcommand{\\Bold}[1]{\\mathbf{#1}}\\left(\\verb|[1,|\\phantom{\\verb!x!}\\verb|1,|\\phantom{\\verb!x!}\\verb|0,|\\phantom{\\verb!x!}\\verb|0,|\\phantom{\\verb!x!}\\verb|1,|\\phantom{\\verb!x!}\\verb|1,|\\phantom{\\verb!x!}\\verb|0,|\\phantom{\\verb!x!}\\verb|0]|, \\left\\{\\verb|mon| : \\left(\\begin{array}{rr}\n",
       "l^{4} - 3 \\, l^{2} + 1 & l^{3} - 2 \\, l \\\\\n",
       "-l^{3} + 2 \\, l & -l^{2} + 1\n",
       "\\end{array}\\right), \\verb|sol| : \\left[-\\sqrt{2}, 0, \\sqrt{2}\\right], \\verb|trace| : \\left[-2, 2, -2\\right]\\right\\}\\right)\n",
       "\\end{math}"
      ],
      "text/plain": [
       "('[1, 1, 0, 0, 1, 1, 0, 0]',\n",
       " {'mon': [l^4 - 3*l^2 + 1       l^3 - 2*l]\n",
       "  [     -l^3 + 2*l        -l^2 + 1],\n",
       "  'sol': [-sqrt(2), 0, sqrt(2)],\n",
       "  'trace': [-2, 2, -2]})"
      ]
     },
     "metadata": {},
     "output_type": "display_data"
    },
    {
     "data": {
      "text/html": [
       "<html><script type=\"math/tex; mode=display\">\\newcommand{\\Bold}[1]{\\mathbf{#1}}\\left(\\verb|[0,|\\phantom{\\verb!x!}\\verb|0,|\\phantom{\\verb!x!}\\verb|1,|\\phantom{\\verb!x!}\\verb|0,|\\phantom{\\verb!x!}\\verb|1,|\\phantom{\\verb!x!}\\verb|1,|\\phantom{\\verb!x!}\\verb|0,|\\phantom{\\verb!x!}\\verb|0]|, \\left\\{\\verb|mon| : \\left(\\begin{array}{rr}\n",
       "-2 \\, l^{2} + 1 & -l \\\\\n",
       "2 \\, l & 1\n",
       "\\end{array}\\right), \\verb|sol| : \\left[0\\right], \\verb|trace| : \\left[2\\right]\\right\\}\\right)</script></html>"
      ],
      "text/latex": [
       "\\begin{math}\n",
       "\\newcommand{\\Bold}[1]{\\mathbf{#1}}\\left(\\verb|[0,|\\phantom{\\verb!x!}\\verb|0,|\\phantom{\\verb!x!}\\verb|1,|\\phantom{\\verb!x!}\\verb|0,|\\phantom{\\verb!x!}\\verb|1,|\\phantom{\\verb!x!}\\verb|1,|\\phantom{\\verb!x!}\\verb|0,|\\phantom{\\verb!x!}\\verb|0]|, \\left\\{\\verb|mon| : \\left(\\begin{array}{rr}\n",
       "-2 \\, l^{2} + 1 & -l \\\\\n",
       "2 \\, l & 1\n",
       "\\end{array}\\right), \\verb|sol| : \\left[0\\right], \\verb|trace| : \\left[2\\right]\\right\\}\\right)\n",
       "\\end{math}"
      ],
      "text/plain": [
       "('[0, 0, 1, 0, 1, 1, 0, 0]',\n",
       " {'mon': [-2*l^2 + 1         -l]\n",
       "  [       2*l          1], 'sol': [0], 'trace': [2]})"
      ]
     },
     "metadata": {},
     "output_type": "display_data"
    },
    {
     "data": {
      "text/html": [
       "<html><script type=\"math/tex; mode=display\">\\newcommand{\\Bold}[1]{\\mathbf{#1}}\\left(\\verb|[1,|\\phantom{\\verb!x!}\\verb|0,|\\phantom{\\verb!x!}\\verb|1,|\\phantom{\\verb!x!}\\verb|0,|\\phantom{\\verb!x!}\\verb|1,|\\phantom{\\verb!x!}\\verb|1,|\\phantom{\\verb!x!}\\verb|0,|\\phantom{\\verb!x!}\\verb|0]|, \\left\\{\\verb|mon| : \\left(\\begin{array}{rr}\n",
       "-3 \\, l^{2} + 1 & -l \\\\\n",
       "3 \\, l & 1\n",
       "\\end{array}\\right), \\verb|sol| : \\left[0\\right], \\verb|trace| : \\left[2\\right]\\right\\}\\right)</script></html>"
      ],
      "text/latex": [
       "\\begin{math}\n",
       "\\newcommand{\\Bold}[1]{\\mathbf{#1}}\\left(\\verb|[1,|\\phantom{\\verb!x!}\\verb|0,|\\phantom{\\verb!x!}\\verb|1,|\\phantom{\\verb!x!}\\verb|0,|\\phantom{\\verb!x!}\\verb|1,|\\phantom{\\verb!x!}\\verb|1,|\\phantom{\\verb!x!}\\verb|0,|\\phantom{\\verb!x!}\\verb|0]|, \\left\\{\\verb|mon| : \\left(\\begin{array}{rr}\n",
       "-3 \\, l^{2} + 1 & -l \\\\\n",
       "3 \\, l & 1\n",
       "\\end{array}\\right), \\verb|sol| : \\left[0\\right], \\verb|trace| : \\left[2\\right]\\right\\}\\right)\n",
       "\\end{math}"
      ],
      "text/plain": [
       "('[1, 0, 1, 0, 1, 1, 0, 0]',\n",
       " {'mon': [-3*l^2 + 1         -l]\n",
       "  [       3*l          1], 'sol': [0], 'trace': [2]})"
      ]
     },
     "metadata": {},
     "output_type": "display_data"
    },
    {
     "data": {
      "text/html": [
       "<html><script type=\"math/tex; mode=display\">\\newcommand{\\Bold}[1]{\\mathbf{#1}}\\left(\\verb|[0,|\\phantom{\\verb!x!}\\verb|1,|\\phantom{\\verb!x!}\\verb|1,|\\phantom{\\verb!x!}\\verb|0,|\\phantom{\\verb!x!}\\verb|1,|\\phantom{\\verb!x!}\\verb|1,|\\phantom{\\verb!x!}\\verb|0,|\\phantom{\\verb!x!}\\verb|0]|, \\left\\{\\verb|mon| : \\left(\\begin{array}{rr}\n",
       "-2 \\, l^{2} + 1 & 2 \\, l^{3} - 2 \\, l \\\\\n",
       "2 \\, l & -2 \\, l^{2} + 1\n",
       "\\end{array}\\right), \\verb|sol| : \\left[0\\right], \\verb|trace| : \\left[2\\right]\\right\\}\\right)</script></html>"
      ],
      "text/latex": [
       "\\begin{math}\n",
       "\\newcommand{\\Bold}[1]{\\mathbf{#1}}\\left(\\verb|[0,|\\phantom{\\verb!x!}\\verb|1,|\\phantom{\\verb!x!}\\verb|1,|\\phantom{\\verb!x!}\\verb|0,|\\phantom{\\verb!x!}\\verb|1,|\\phantom{\\verb!x!}\\verb|1,|\\phantom{\\verb!x!}\\verb|0,|\\phantom{\\verb!x!}\\verb|0]|, \\left\\{\\verb|mon| : \\left(\\begin{array}{rr}\n",
       "-2 \\, l^{2} + 1 & 2 \\, l^{3} - 2 \\, l \\\\\n",
       "2 \\, l & -2 \\, l^{2} + 1\n",
       "\\end{array}\\right), \\verb|sol| : \\left[0\\right], \\verb|trace| : \\left[2\\right]\\right\\}\\right)\n",
       "\\end{math}"
      ],
      "text/plain": [
       "('[0, 1, 1, 0, 1, 1, 0, 0]',\n",
       " {'mon': [ -2*l^2 + 1 2*l^3 - 2*l]\n",
       "  [        2*l  -2*l^2 + 1], 'sol': [0], 'trace': [2]})"
      ]
     },
     "metadata": {},
     "output_type": "display_data"
    },
    {
     "data": {
      "text/html": [
       "<html><script type=\"math/tex; mode=display\">\\newcommand{\\Bold}[1]{\\mathbf{#1}}\\left(\\verb|[1,|\\phantom{\\verb!x!}\\verb|1,|\\phantom{\\verb!x!}\\verb|1,|\\phantom{\\verb!x!}\\verb|0,|\\phantom{\\verb!x!}\\verb|1,|\\phantom{\\verb!x!}\\verb|1,|\\phantom{\\verb!x!}\\verb|0,|\\phantom{\\verb!x!}\\verb|0]|, \\left\\{\\verb|mon| : \\left(\\begin{array}{rr}\n",
       "2 \\, l^{4} - 4 \\, l^{2} + 1 & 2 \\, l^{3} - 2 \\, l \\\\\n",
       "-2 \\, l^{3} + 3 \\, l & -2 \\, l^{2} + 1\n",
       "\\end{array}\\right), \\verb|sol| : \\left[-\\frac{1}{2} \\, \\sqrt{3} \\sqrt{2}, 0, \\frac{1}{2} \\, \\sqrt{3} \\sqrt{2}\\right], \\verb|trace| : \\left[-\\frac{5}{2}, 2, -\\frac{5}{2}\\right]\\right\\}\\right)</script></html>"
      ],
      "text/latex": [
       "\\begin{math}\n",
       "\\newcommand{\\Bold}[1]{\\mathbf{#1}}\\left(\\verb|[1,|\\phantom{\\verb!x!}\\verb|1,|\\phantom{\\verb!x!}\\verb|1,|\\phantom{\\verb!x!}\\verb|0,|\\phantom{\\verb!x!}\\verb|1,|\\phantom{\\verb!x!}\\verb|1,|\\phantom{\\verb!x!}\\verb|0,|\\phantom{\\verb!x!}\\verb|0]|, \\left\\{\\verb|mon| : \\left(\\begin{array}{rr}\n",
       "2 \\, l^{4} - 4 \\, l^{2} + 1 & 2 \\, l^{3} - 2 \\, l \\\\\n",
       "-2 \\, l^{3} + 3 \\, l & -2 \\, l^{2} + 1\n",
       "\\end{array}\\right), \\verb|sol| : \\left[-\\frac{1}{2} \\, \\sqrt{3} \\sqrt{2}, 0, \\frac{1}{2} \\, \\sqrt{3} \\sqrt{2}\\right], \\verb|trace| : \\left[-\\frac{5}{2}, 2, -\\frac{5}{2}\\right]\\right\\}\\right)\n",
       "\\end{math}"
      ],
      "text/plain": [
       "('[1, 1, 1, 0, 1, 1, 0, 0]',\n",
       " {'mon': [2*l^4 - 4*l^2 + 1       2*l^3 - 2*l]\n",
       "  [     -2*l^3 + 3*l        -2*l^2 + 1],\n",
       "  'sol': [-1/2*sqrt(3)*sqrt(2), 0, 1/2*sqrt(3)*sqrt(2)],\n",
       "  'trace': [-5/2, 2, -5/2]})"
      ]
     },
     "metadata": {},
     "output_type": "display_data"
    },
    {
     "data": {
      "text/html": [
       "<html><script type=\"math/tex; mode=display\">\\newcommand{\\Bold}[1]{\\mathbf{#1}}\\left(\\verb|[0,|\\phantom{\\verb!x!}\\verb|0,|\\phantom{\\verb!x!}\\verb|0,|\\phantom{\\verb!x!}\\verb|1,|\\phantom{\\verb!x!}\\verb|1,|\\phantom{\\verb!x!}\\verb|1,|\\phantom{\\verb!x!}\\verb|0,|\\phantom{\\verb!x!}\\verb|0]|, \\left\\{\\verb|mon| : \\left(\\begin{array}{rr}\n",
       "-l^{2} + 1 & l^{3} - 2 \\, l \\\\\n",
       "l & -l^{2} + 1\n",
       "\\end{array}\\right), \\verb|sol| : \\left[0\\right], \\verb|trace| : \\left[2\\right]\\right\\}\\right)</script></html>"
      ],
      "text/latex": [
       "\\begin{math}\n",
       "\\newcommand{\\Bold}[1]{\\mathbf{#1}}\\left(\\verb|[0,|\\phantom{\\verb!x!}\\verb|0,|\\phantom{\\verb!x!}\\verb|0,|\\phantom{\\verb!x!}\\verb|1,|\\phantom{\\verb!x!}\\verb|1,|\\phantom{\\verb!x!}\\verb|1,|\\phantom{\\verb!x!}\\verb|0,|\\phantom{\\verb!x!}\\verb|0]|, \\left\\{\\verb|mon| : \\left(\\begin{array}{rr}\n",
       "-l^{2} + 1 & l^{3} - 2 \\, l \\\\\n",
       "l & -l^{2} + 1\n",
       "\\end{array}\\right), \\verb|sol| : \\left[0\\right], \\verb|trace| : \\left[2\\right]\\right\\}\\right)\n",
       "\\end{math}"
      ],
      "text/plain": [
       "('[0, 0, 0, 1, 1, 1, 0, 0]',\n",
       " {'mon': [ -l^2 + 1 l^3 - 2*l]\n",
       "  [        l  -l^2 + 1], 'sol': [0], 'trace': [2]})"
      ]
     },
     "metadata": {},
     "output_type": "display_data"
    },
    {
     "data": {
      "text/html": [
       "<html><script type=\"math/tex; mode=display\">\\newcommand{\\Bold}[1]{\\mathbf{#1}}\\left(\\verb|[1,|\\phantom{\\verb!x!}\\verb|0,|\\phantom{\\verb!x!}\\verb|0,|\\phantom{\\verb!x!}\\verb|1,|\\phantom{\\verb!x!}\\verb|1,|\\phantom{\\verb!x!}\\verb|1,|\\phantom{\\verb!x!}\\verb|0,|\\phantom{\\verb!x!}\\verb|0]|, \\left\\{\\verb|mon| : \\left(\\begin{array}{rr}\n",
       "l^{4} - 3 \\, l^{2} + 1 & l^{3} - 2 \\, l \\\\\n",
       "-l^{3} + 2 \\, l & -l^{2} + 1\n",
       "\\end{array}\\right), \\verb|sol| : \\left[-\\sqrt{2}, 0, \\sqrt{2}\\right], \\verb|trace| : \\left[-2, 2, -2\\right]\\right\\}\\right)</script></html>"
      ],
      "text/latex": [
       "\\begin{math}\n",
       "\\newcommand{\\Bold}[1]{\\mathbf{#1}}\\left(\\verb|[1,|\\phantom{\\verb!x!}\\verb|0,|\\phantom{\\verb!x!}\\verb|0,|\\phantom{\\verb!x!}\\verb|1,|\\phantom{\\verb!x!}\\verb|1,|\\phantom{\\verb!x!}\\verb|1,|\\phantom{\\verb!x!}\\verb|0,|\\phantom{\\verb!x!}\\verb|0]|, \\left\\{\\verb|mon| : \\left(\\begin{array}{rr}\n",
       "l^{4} - 3 \\, l^{2} + 1 & l^{3} - 2 \\, l \\\\\n",
       "-l^{3} + 2 \\, l & -l^{2} + 1\n",
       "\\end{array}\\right), \\verb|sol| : \\left[-\\sqrt{2}, 0, \\sqrt{2}\\right], \\verb|trace| : \\left[-2, 2, -2\\right]\\right\\}\\right)\n",
       "\\end{math}"
      ],
      "text/plain": [
       "('[1, 0, 0, 1, 1, 1, 0, 0]',\n",
       " {'mon': [l^4 - 3*l^2 + 1       l^3 - 2*l]\n",
       "  [     -l^3 + 2*l        -l^2 + 1],\n",
       "  'sol': [-sqrt(2), 0, sqrt(2)],\n",
       "  'trace': [-2, 2, -2]})"
      ]
     },
     "metadata": {},
     "output_type": "display_data"
    },
    {
     "data": {
      "text/html": [
       "<html><script type=\"math/tex; mode=display\">\\newcommand{\\Bold}[1]{\\mathbf{#1}}\\left(\\verb|[0,|\\phantom{\\verb!x!}\\verb|1,|\\phantom{\\verb!x!}\\verb|0,|\\phantom{\\verb!x!}\\verb|1,|\\phantom{\\verb!x!}\\verb|1,|\\phantom{\\verb!x!}\\verb|1,|\\phantom{\\verb!x!}\\verb|0,|\\phantom{\\verb!x!}\\verb|0]|, \\left\\{\\verb|mon| : \\left(\\begin{array}{rr}\n",
       "-l^{2} + 1 & 2 \\, l^{3} - 3 \\, l \\\\\n",
       "l & -2 \\, l^{2} + 1\n",
       "\\end{array}\\right), \\verb|sol| : \\left[0\\right], \\verb|trace| : \\left[2\\right]\\right\\}\\right)</script></html>"
      ],
      "text/latex": [
       "\\begin{math}\n",
       "\\newcommand{\\Bold}[1]{\\mathbf{#1}}\\left(\\verb|[0,|\\phantom{\\verb!x!}\\verb|1,|\\phantom{\\verb!x!}\\verb|0,|\\phantom{\\verb!x!}\\verb|1,|\\phantom{\\verb!x!}\\verb|1,|\\phantom{\\verb!x!}\\verb|1,|\\phantom{\\verb!x!}\\verb|0,|\\phantom{\\verb!x!}\\verb|0]|, \\left\\{\\verb|mon| : \\left(\\begin{array}{rr}\n",
       "-l^{2} + 1 & 2 \\, l^{3} - 3 \\, l \\\\\n",
       "l & -2 \\, l^{2} + 1\n",
       "\\end{array}\\right), \\verb|sol| : \\left[0\\right], \\verb|trace| : \\left[2\\right]\\right\\}\\right)\n",
       "\\end{math}"
      ],
      "text/plain": [
       "('[0, 1, 0, 1, 1, 1, 0, 0]',\n",
       " {'mon': [   -l^2 + 1 2*l^3 - 3*l]\n",
       "  [          l  -2*l^2 + 1], 'sol': [0], 'trace': [2]})"
      ]
     },
     "metadata": {},
     "output_type": "display_data"
    },
    {
     "data": {
      "text/html": [
       "<html><script type=\"math/tex; mode=display\">\\newcommand{\\Bold}[1]{\\mathbf{#1}}\\left(\\verb|[1,|\\phantom{\\verb!x!}\\verb|1,|\\phantom{\\verb!x!}\\verb|0,|\\phantom{\\verb!x!}\\verb|1,|\\phantom{\\verb!x!}\\verb|1,|\\phantom{\\verb!x!}\\verb|1,|\\phantom{\\verb!x!}\\verb|0,|\\phantom{\\verb!x!}\\verb|0]|, \\left\\{\\verb|mon| : \\left(\\begin{array}{rr}\n",
       "2 \\, l^{4} - 4 \\, l^{2} + 1 & 2 \\, l^{3} - 3 \\, l \\\\\n",
       "-2 \\, l^{3} + 2 \\, l & -2 \\, l^{2} + 1\n",
       "\\end{array}\\right), \\verb|sol| : \\left[-1, 0, 1\\right], \\verb|trace| : \\left[-2, 2, -2\\right]\\right\\}\\right)</script></html>"
      ],
      "text/latex": [
       "\\begin{math}\n",
       "\\newcommand{\\Bold}[1]{\\mathbf{#1}}\\left(\\verb|[1,|\\phantom{\\verb!x!}\\verb|1,|\\phantom{\\verb!x!}\\verb|0,|\\phantom{\\verb!x!}\\verb|1,|\\phantom{\\verb!x!}\\verb|1,|\\phantom{\\verb!x!}\\verb|1,|\\phantom{\\verb!x!}\\verb|0,|\\phantom{\\verb!x!}\\verb|0]|, \\left\\{\\verb|mon| : \\left(\\begin{array}{rr}\n",
       "2 \\, l^{4} - 4 \\, l^{2} + 1 & 2 \\, l^{3} - 3 \\, l \\\\\n",
       "-2 \\, l^{3} + 2 \\, l & -2 \\, l^{2} + 1\n",
       "\\end{array}\\right), \\verb|sol| : \\left[-1, 0, 1\\right], \\verb|trace| : \\left[-2, 2, -2\\right]\\right\\}\\right)\n",
       "\\end{math}"
      ],
      "text/plain": [
       "('[1, 1, 0, 1, 1, 1, 0, 0]',\n",
       " {'mon': [2*l^4 - 4*l^2 + 1       2*l^3 - 3*l]\n",
       "  [     -2*l^3 + 2*l        -2*l^2 + 1],\n",
       "  'sol': [-1, 0, 1],\n",
       "  'trace': [-2, 2, -2]})"
      ]
     },
     "metadata": {},
     "output_type": "display_data"
    },
    {
     "data": {
      "text/html": [
       "<html><script type=\"math/tex; mode=display\">\\newcommand{\\Bold}[1]{\\mathbf{#1}}\\left(\\verb|[0,|\\phantom{\\verb!x!}\\verb|0,|\\phantom{\\verb!x!}\\verb|1,|\\phantom{\\verb!x!}\\verb|1,|\\phantom{\\verb!x!}\\verb|1,|\\phantom{\\verb!x!}\\verb|1,|\\phantom{\\verb!x!}\\verb|0,|\\phantom{\\verb!x!}\\verb|0]|, \\left\\{\\verb|mon| : \\left(\\begin{array}{rr}\n",
       "l^{4} - 3 \\, l^{2} + 1 & l^{3} - 2 \\, l \\\\\n",
       "-l^{3} + 2 \\, l & -l^{2} + 1\n",
       "\\end{array}\\right), \\verb|sol| : \\left[-\\sqrt{2}, 0, \\sqrt{2}\\right], \\verb|trace| : \\left[-2, 2, -2\\right]\\right\\}\\right)</script></html>"
      ],
      "text/latex": [
       "\\begin{math}\n",
       "\\newcommand{\\Bold}[1]{\\mathbf{#1}}\\left(\\verb|[0,|\\phantom{\\verb!x!}\\verb|0,|\\phantom{\\verb!x!}\\verb|1,|\\phantom{\\verb!x!}\\verb|1,|\\phantom{\\verb!x!}\\verb|1,|\\phantom{\\verb!x!}\\verb|1,|\\phantom{\\verb!x!}\\verb|0,|\\phantom{\\verb!x!}\\verb|0]|, \\left\\{\\verb|mon| : \\left(\\begin{array}{rr}\n",
       "l^{4} - 3 \\, l^{2} + 1 & l^{3} - 2 \\, l \\\\\n",
       "-l^{3} + 2 \\, l & -l^{2} + 1\n",
       "\\end{array}\\right), \\verb|sol| : \\left[-\\sqrt{2}, 0, \\sqrt{2}\\right], \\verb|trace| : \\left[-2, 2, -2\\right]\\right\\}\\right)\n",
       "\\end{math}"
      ],
      "text/plain": [
       "('[0, 0, 1, 1, 1, 1, 0, 0]',\n",
       " {'mon': [l^4 - 3*l^2 + 1       l^3 - 2*l]\n",
       "  [     -l^3 + 2*l        -l^2 + 1],\n",
       "  'sol': [-sqrt(2), 0, sqrt(2)],\n",
       "  'trace': [-2, 2, -2]})"
      ]
     },
     "metadata": {},
     "output_type": "display_data"
    },
    {
     "data": {
      "text/html": [
       "<html><script type=\"math/tex; mode=display\">\\newcommand{\\Bold}[1]{\\mathbf{#1}}\\left(\\verb|[1,|\\phantom{\\verb!x!}\\verb|0,|\\phantom{\\verb!x!}\\verb|1,|\\phantom{\\verb!x!}\\verb|1,|\\phantom{\\verb!x!}\\verb|1,|\\phantom{\\verb!x!}\\verb|1,|\\phantom{\\verb!x!}\\verb|0,|\\phantom{\\verb!x!}\\verb|0]|, \\left\\{\\verb|mon| : \\left(\\begin{array}{rr}\n",
       "2 \\, l^{4} - 5 \\, l^{2} + 1 & l^{3} - 2 \\, l \\\\\n",
       "-2 \\, l^{3} + 3 \\, l & -l^{2} + 1\n",
       "\\end{array}\\right), \\verb|sol| : \\left[-\\frac{1}{2} \\, \\sqrt{3} \\sqrt{2}, 0, \\frac{1}{2} \\, \\sqrt{3} \\sqrt{2}\\right], \\verb|trace| : \\left[-\\frac{5}{2}, 2, -\\frac{5}{2}\\right]\\right\\}\\right)</script></html>"
      ],
      "text/latex": [
       "\\begin{math}\n",
       "\\newcommand{\\Bold}[1]{\\mathbf{#1}}\\left(\\verb|[1,|\\phantom{\\verb!x!}\\verb|0,|\\phantom{\\verb!x!}\\verb|1,|\\phantom{\\verb!x!}\\verb|1,|\\phantom{\\verb!x!}\\verb|1,|\\phantom{\\verb!x!}\\verb|1,|\\phantom{\\verb!x!}\\verb|0,|\\phantom{\\verb!x!}\\verb|0]|, \\left\\{\\verb|mon| : \\left(\\begin{array}{rr}\n",
       "2 \\, l^{4} - 5 \\, l^{2} + 1 & l^{3} - 2 \\, l \\\\\n",
       "-2 \\, l^{3} + 3 \\, l & -l^{2} + 1\n",
       "\\end{array}\\right), \\verb|sol| : \\left[-\\frac{1}{2} \\, \\sqrt{3} \\sqrt{2}, 0, \\frac{1}{2} \\, \\sqrt{3} \\sqrt{2}\\right], \\verb|trace| : \\left[-\\frac{5}{2}, 2, -\\frac{5}{2}\\right]\\right\\}\\right)\n",
       "\\end{math}"
      ],
      "text/plain": [
       "('[1, 0, 1, 1, 1, 1, 0, 0]',\n",
       " {'mon': [2*l^4 - 5*l^2 + 1         l^3 - 2*l]\n",
       "  [     -2*l^3 + 3*l          -l^2 + 1],\n",
       "  'sol': [-1/2*sqrt(3)*sqrt(2), 0, 1/2*sqrt(3)*sqrt(2)],\n",
       "  'trace': [-5/2, 2, -5/2]})"
      ]
     },
     "metadata": {},
     "output_type": "display_data"
    },
    {
     "data": {
      "text/html": [
       "<html><script type=\"math/tex; mode=display\">\\newcommand{\\Bold}[1]{\\mathbf{#1}}\\left(\\verb|[0,|\\phantom{\\verb!x!}\\verb|1,|\\phantom{\\verb!x!}\\verb|1,|\\phantom{\\verb!x!}\\verb|1,|\\phantom{\\verb!x!}\\verb|1,|\\phantom{\\verb!x!}\\verb|1,|\\phantom{\\verb!x!}\\verb|0,|\\phantom{\\verb!x!}\\verb|0]|, \\left\\{\\verb|mon| : \\left(\\begin{array}{rr}\n",
       "l^{4} - 3 \\, l^{2} + 1 & -l^{5} + 4 \\, l^{3} - 3 \\, l \\\\\n",
       "-l^{3} + 2 \\, l & l^{4} - 3 \\, l^{2} + 1\n",
       "\\end{array}\\right), \\verb|sol| : \\left[-\\sqrt{2}, 0, \\sqrt{2}\\right], \\verb|trace| : \\left[-2, 2, -2\\right]\\right\\}\\right)</script></html>"
      ],
      "text/latex": [
       "\\begin{math}\n",
       "\\newcommand{\\Bold}[1]{\\mathbf{#1}}\\left(\\verb|[0,|\\phantom{\\verb!x!}\\verb|1,|\\phantom{\\verb!x!}\\verb|1,|\\phantom{\\verb!x!}\\verb|1,|\\phantom{\\verb!x!}\\verb|1,|\\phantom{\\verb!x!}\\verb|1,|\\phantom{\\verb!x!}\\verb|0,|\\phantom{\\verb!x!}\\verb|0]|, \\left\\{\\verb|mon| : \\left(\\begin{array}{rr}\n",
       "l^{4} - 3 \\, l^{2} + 1 & -l^{5} + 4 \\, l^{3} - 3 \\, l \\\\\n",
       "-l^{3} + 2 \\, l & l^{4} - 3 \\, l^{2} + 1\n",
       "\\end{array}\\right), \\verb|sol| : \\left[-\\sqrt{2}, 0, \\sqrt{2}\\right], \\verb|trace| : \\left[-2, 2, -2\\right]\\right\\}\\right)\n",
       "\\end{math}"
      ],
      "text/plain": [
       "('[0, 1, 1, 1, 1, 1, 0, 0]',\n",
       " {'mon': [   l^4 - 3*l^2 + 1 -l^5 + 4*l^3 - 3*l]\n",
       "  [        -l^3 + 2*l    l^4 - 3*l^2 + 1],\n",
       "  'sol': [-sqrt(2), 0, sqrt(2)],\n",
       "  'trace': [-2, 2, -2]})"
      ]
     },
     "metadata": {},
     "output_type": "display_data"
    },
    {
     "data": {
      "text/html": [
       "<html><script type=\"math/tex; mode=display\">\\newcommand{\\Bold}[1]{\\mathbf{#1}}\\left(\\verb|[1,|\\phantom{\\verb!x!}\\verb|1,|\\phantom{\\verb!x!}\\verb|1,|\\phantom{\\verb!x!}\\verb|1,|\\phantom{\\verb!x!}\\verb|1,|\\phantom{\\verb!x!}\\verb|1,|\\phantom{\\verb!x!}\\verb|0,|\\phantom{\\verb!x!}\\verb|0]|, \\left\\{\\verb|mon| : \\left(\\begin{array}{rr}\n",
       "-l^{6} + 5 \\, l^{4} - 6 \\, l^{2} + 1 & -l^{5} + 4 \\, l^{3} - 3 \\, l \\\\\n",
       "l^{5} - 4 \\, l^{3} + 3 \\, l & l^{4} - 3 \\, l^{2} + 1\n",
       "\\end{array}\\right), \\verb|sol| : \\left[-\\sqrt{3}, -1, 0, 1, \\sqrt{3}\\right], \\verb|trace| : \\left[2, -2, 2, -2, 2\\right]\\right\\}\\right)</script></html>"
      ],
      "text/latex": [
       "\\begin{math}\n",
       "\\newcommand{\\Bold}[1]{\\mathbf{#1}}\\left(\\verb|[1,|\\phantom{\\verb!x!}\\verb|1,|\\phantom{\\verb!x!}\\verb|1,|\\phantom{\\verb!x!}\\verb|1,|\\phantom{\\verb!x!}\\verb|1,|\\phantom{\\verb!x!}\\verb|1,|\\phantom{\\verb!x!}\\verb|0,|\\phantom{\\verb!x!}\\verb|0]|, \\left\\{\\verb|mon| : \\left(\\begin{array}{rr}\n",
       "-l^{6} + 5 \\, l^{4} - 6 \\, l^{2} + 1 & -l^{5} + 4 \\, l^{3} - 3 \\, l \\\\\n",
       "l^{5} - 4 \\, l^{3} + 3 \\, l & l^{4} - 3 \\, l^{2} + 1\n",
       "\\end{array}\\right), \\verb|sol| : \\left[-\\sqrt{3}, -1, 0, 1, \\sqrt{3}\\right], \\verb|trace| : \\left[2, -2, 2, -2, 2\\right]\\right\\}\\right)\n",
       "\\end{math}"
      ],
      "text/plain": [
       "('[1, 1, 1, 1, 1, 1, 0, 0]',\n",
       " {'mon': [-l^6 + 5*l^4 - 6*l^2 + 1       -l^5 + 4*l^3 - 3*l]\n",
       "  [       l^5 - 4*l^3 + 3*l          l^4 - 3*l^2 + 1],\n",
       "  'sol': [-sqrt(3), -1, 0, 1, sqrt(3)],\n",
       "  'trace': [2, -2, 2, -2, 2]})"
      ]
     },
     "metadata": {},
     "output_type": "display_data"
    },
    {
     "data": {
      "text/html": [
       "<html><script type=\"math/tex; mode=display\">\\newcommand{\\Bold}[1]{\\mathbf{#1}}\\left(\\verb|[0,|\\phantom{\\verb!x!}\\verb|0,|\\phantom{\\verb!x!}\\verb|0,|\\phantom{\\verb!x!}\\verb|0,|\\phantom{\\verb!x!}\\verb|0,|\\phantom{\\verb!x!}\\verb|0,|\\phantom{\\verb!x!}\\verb|1,|\\phantom{\\verb!x!}\\verb|0]|, \\left\\{\\verb|mon| : \\left(\\begin{array}{rr}\n",
       "1 & 0 \\\\\n",
       "l & 1\n",
       "\\end{array}\\right), \\verb|sol| : \\left[0\\right], \\verb|trace| : \\left[2\\right]\\right\\}\\right)</script></html>"
      ],
      "text/latex": [
       "\\begin{math}\n",
       "\\newcommand{\\Bold}[1]{\\mathbf{#1}}\\left(\\verb|[0,|\\phantom{\\verb!x!}\\verb|0,|\\phantom{\\verb!x!}\\verb|0,|\\phantom{\\verb!x!}\\verb|0,|\\phantom{\\verb!x!}\\verb|0,|\\phantom{\\verb!x!}\\verb|0,|\\phantom{\\verb!x!}\\verb|1,|\\phantom{\\verb!x!}\\verb|0]|, \\left\\{\\verb|mon| : \\left(\\begin{array}{rr}\n",
       "1 & 0 \\\\\n",
       "l & 1\n",
       "\\end{array}\\right), \\verb|sol| : \\left[0\\right], \\verb|trace| : \\left[2\\right]\\right\\}\\right)\n",
       "\\end{math}"
      ],
      "text/plain": [
       "('[0, 0, 0, 0, 0, 0, 1, 0]',\n",
       " {'mon': [1 0]\n",
       "  [l 1], 'sol': [0], 'trace': [2]})"
      ]
     },
     "metadata": {},
     "output_type": "display_data"
    },
    {
     "data": {
      "text/html": [
       "<html><script type=\"math/tex; mode=display\">\\newcommand{\\Bold}[1]{\\mathbf{#1}}\\left(\\verb|[1,|\\phantom{\\verb!x!}\\verb|0,|\\phantom{\\verb!x!}\\verb|0,|\\phantom{\\verb!x!}\\verb|0,|\\phantom{\\verb!x!}\\verb|0,|\\phantom{\\verb!x!}\\verb|0,|\\phantom{\\verb!x!}\\verb|1,|\\phantom{\\verb!x!}\\verb|0]|, \\left\\{\\verb|mon| : \\left(\\begin{array}{rr}\n",
       "1 & 0 \\\\\n",
       "2 \\, l & 1\n",
       "\\end{array}\\right), \\verb|sol| : \\left[0\\right], \\verb|trace| : \\left[2\\right]\\right\\}\\right)</script></html>"
      ],
      "text/latex": [
       "\\begin{math}\n",
       "\\newcommand{\\Bold}[1]{\\mathbf{#1}}\\left(\\verb|[1,|\\phantom{\\verb!x!}\\verb|0,|\\phantom{\\verb!x!}\\verb|0,|\\phantom{\\verb!x!}\\verb|0,|\\phantom{\\verb!x!}\\verb|0,|\\phantom{\\verb!x!}\\verb|0,|\\phantom{\\verb!x!}\\verb|1,|\\phantom{\\verb!x!}\\verb|0]|, \\left\\{\\verb|mon| : \\left(\\begin{array}{rr}\n",
       "1 & 0 \\\\\n",
       "2 \\, l & 1\n",
       "\\end{array}\\right), \\verb|sol| : \\left[0\\right], \\verb|trace| : \\left[2\\right]\\right\\}\\right)\n",
       "\\end{math}"
      ],
      "text/plain": [
       "('[1, 0, 0, 0, 0, 0, 1, 0]',\n",
       " {'mon': [  1   0]\n",
       "  [2*l   1], 'sol': [0], 'trace': [2]})"
      ]
     },
     "metadata": {},
     "output_type": "display_data"
    },
    {
     "data": {
      "text/html": [
       "<html><script type=\"math/tex; mode=display\">\\newcommand{\\Bold}[1]{\\mathbf{#1}}\\left(\\verb|[0,|\\phantom{\\verb!x!}\\verb|1,|\\phantom{\\verb!x!}\\verb|0,|\\phantom{\\verb!x!}\\verb|0,|\\phantom{\\verb!x!}\\verb|0,|\\phantom{\\verb!x!}\\verb|0,|\\phantom{\\verb!x!}\\verb|1,|\\phantom{\\verb!x!}\\verb|0]|, \\left\\{\\verb|mon| : \\left(\\begin{array}{rr}\n",
       "1 & -l \\\\\n",
       "l & -l^{2} + 1\n",
       "\\end{array}\\right), \\verb|sol| : \\left[0\\right], \\verb|trace| : \\left[2\\right]\\right\\}\\right)</script></html>"
      ],
      "text/latex": [
       "\\begin{math}\n",
       "\\newcommand{\\Bold}[1]{\\mathbf{#1}}\\left(\\verb|[0,|\\phantom{\\verb!x!}\\verb|1,|\\phantom{\\verb!x!}\\verb|0,|\\phantom{\\verb!x!}\\verb|0,|\\phantom{\\verb!x!}\\verb|0,|\\phantom{\\verb!x!}\\verb|0,|\\phantom{\\verb!x!}\\verb|1,|\\phantom{\\verb!x!}\\verb|0]|, \\left\\{\\verb|mon| : \\left(\\begin{array}{rr}\n",
       "1 & -l \\\\\n",
       "l & -l^{2} + 1\n",
       "\\end{array}\\right), \\verb|sol| : \\left[0\\right], \\verb|trace| : \\left[2\\right]\\right\\}\\right)\n",
       "\\end{math}"
      ],
      "text/plain": [
       "('[0, 1, 0, 0, 0, 0, 1, 0]',\n",
       " {'mon': [       1       -l]\n",
       "  [       l -l^2 + 1], 'sol': [0], 'trace': [2]})"
      ]
     },
     "metadata": {},
     "output_type": "display_data"
    },
    {
     "data": {
      "text/html": [
       "<html><script type=\"math/tex; mode=display\">\\newcommand{\\Bold}[1]{\\mathbf{#1}}\\left(\\verb|[1,|\\phantom{\\verb!x!}\\verb|1,|\\phantom{\\verb!x!}\\verb|0,|\\phantom{\\verb!x!}\\verb|0,|\\phantom{\\verb!x!}\\verb|0,|\\phantom{\\verb!x!}\\verb|0,|\\phantom{\\verb!x!}\\verb|1,|\\phantom{\\verb!x!}\\verb|0]|, \\left\\{\\verb|mon| : \\left(\\begin{array}{rr}\n",
       "-l^{2} + 1 & -l \\\\\n",
       "-l^{3} + 2 \\, l & -l^{2} + 1\n",
       "\\end{array}\\right), \\verb|sol| : \\left[-\\sqrt{2}, 0, \\sqrt{2}\\right], \\verb|trace| : \\left[-2, 2, -2\\right]\\right\\}\\right)</script></html>"
      ],
      "text/latex": [
       "\\begin{math}\n",
       "\\newcommand{\\Bold}[1]{\\mathbf{#1}}\\left(\\verb|[1,|\\phantom{\\verb!x!}\\verb|1,|\\phantom{\\verb!x!}\\verb|0,|\\phantom{\\verb!x!}\\verb|0,|\\phantom{\\verb!x!}\\verb|0,|\\phantom{\\verb!x!}\\verb|0,|\\phantom{\\verb!x!}\\verb|1,|\\phantom{\\verb!x!}\\verb|0]|, \\left\\{\\verb|mon| : \\left(\\begin{array}{rr}\n",
       "-l^{2} + 1 & -l \\\\\n",
       "-l^{3} + 2 \\, l & -l^{2} + 1\n",
       "\\end{array}\\right), \\verb|sol| : \\left[-\\sqrt{2}, 0, \\sqrt{2}\\right], \\verb|trace| : \\left[-2, 2, -2\\right]\\right\\}\\right)\n",
       "\\end{math}"
      ],
      "text/plain": [
       "('[1, 1, 0, 0, 0, 0, 1, 0]',\n",
       " {'mon': [  -l^2 + 1         -l]\n",
       "  [-l^3 + 2*l   -l^2 + 1],\n",
       "  'sol': [-sqrt(2), 0, sqrt(2)],\n",
       "  'trace': [-2, 2, -2]})"
      ]
     },
     "metadata": {},
     "output_type": "display_data"
    },
    {
     "data": {
      "text/html": [
       "<html><script type=\"math/tex; mode=display\">\\newcommand{\\Bold}[1]{\\mathbf{#1}}\\left(\\verb|[0,|\\phantom{\\verb!x!}\\verb|0,|\\phantom{\\verb!x!}\\verb|1,|\\phantom{\\verb!x!}\\verb|0,|\\phantom{\\verb!x!}\\verb|0,|\\phantom{\\verb!x!}\\verb|0,|\\phantom{\\verb!x!}\\verb|1,|\\phantom{\\verb!x!}\\verb|0]|, \\left\\{\\verb|mon| : \\left(\\begin{array}{rr}\n",
       "1 & 0 \\\\\n",
       "2 \\, l & 1\n",
       "\\end{array}\\right), \\verb|sol| : \\left[0\\right], \\verb|trace| : \\left[2\\right]\\right\\}\\right)</script></html>"
      ],
      "text/latex": [
       "\\begin{math}\n",
       "\\newcommand{\\Bold}[1]{\\mathbf{#1}}\\left(\\verb|[0,|\\phantom{\\verb!x!}\\verb|0,|\\phantom{\\verb!x!}\\verb|1,|\\phantom{\\verb!x!}\\verb|0,|\\phantom{\\verb!x!}\\verb|0,|\\phantom{\\verb!x!}\\verb|0,|\\phantom{\\verb!x!}\\verb|1,|\\phantom{\\verb!x!}\\verb|0]|, \\left\\{\\verb|mon| : \\left(\\begin{array}{rr}\n",
       "1 & 0 \\\\\n",
       "2 \\, l & 1\n",
       "\\end{array}\\right), \\verb|sol| : \\left[0\\right], \\verb|trace| : \\left[2\\right]\\right\\}\\right)\n",
       "\\end{math}"
      ],
      "text/plain": [
       "('[0, 0, 1, 0, 0, 0, 1, 0]',\n",
       " {'mon': [  1   0]\n",
       "  [2*l   1], 'sol': [0], 'trace': [2]})"
      ]
     },
     "metadata": {},
     "output_type": "display_data"
    },
    {
     "data": {
      "text/html": [
       "<html><script type=\"math/tex; mode=display\">\\newcommand{\\Bold}[1]{\\mathbf{#1}}\\left(\\verb|[1,|\\phantom{\\verb!x!}\\verb|0,|\\phantom{\\verb!x!}\\verb|1,|\\phantom{\\verb!x!}\\verb|0,|\\phantom{\\verb!x!}\\verb|0,|\\phantom{\\verb!x!}\\verb|0,|\\phantom{\\verb!x!}\\verb|1,|\\phantom{\\verb!x!}\\verb|0]|, \\left\\{\\verb|mon| : \\left(\\begin{array}{rr}\n",
       "1 & 0 \\\\\n",
       "3 \\, l & 1\n",
       "\\end{array}\\right), \\verb|sol| : \\left[0\\right], \\verb|trace| : \\left[2\\right]\\right\\}\\right)</script></html>"
      ],
      "text/latex": [
       "\\begin{math}\n",
       "\\newcommand{\\Bold}[1]{\\mathbf{#1}}\\left(\\verb|[1,|\\phantom{\\verb!x!}\\verb|0,|\\phantom{\\verb!x!}\\verb|1,|\\phantom{\\verb!x!}\\verb|0,|\\phantom{\\verb!x!}\\verb|0,|\\phantom{\\verb!x!}\\verb|0,|\\phantom{\\verb!x!}\\verb|1,|\\phantom{\\verb!x!}\\verb|0]|, \\left\\{\\verb|mon| : \\left(\\begin{array}{rr}\n",
       "1 & 0 \\\\\n",
       "3 \\, l & 1\n",
       "\\end{array}\\right), \\verb|sol| : \\left[0\\right], \\verb|trace| : \\left[2\\right]\\right\\}\\right)\n",
       "\\end{math}"
      ],
      "text/plain": [
       "('[1, 0, 1, 0, 0, 0, 1, 0]',\n",
       " {'mon': [  1   0]\n",
       "  [3*l   1], 'sol': [0], 'trace': [2]})"
      ]
     },
     "metadata": {},
     "output_type": "display_data"
    },
    {
     "data": {
      "text/html": [
       "<html><script type=\"math/tex; mode=display\">\\newcommand{\\Bold}[1]{\\mathbf{#1}}\\left(\\verb|[0,|\\phantom{\\verb!x!}\\verb|1,|\\phantom{\\verb!x!}\\verb|1,|\\phantom{\\verb!x!}\\verb|0,|\\phantom{\\verb!x!}\\verb|0,|\\phantom{\\verb!x!}\\verb|0,|\\phantom{\\verb!x!}\\verb|1,|\\phantom{\\verb!x!}\\verb|0]|, \\left\\{\\verb|mon| : \\left(\\begin{array}{rr}\n",
       "1 & -l \\\\\n",
       "2 \\, l & -2 \\, l^{2} + 1\n",
       "\\end{array}\\right), \\verb|sol| : \\left[0\\right], \\verb|trace| : \\left[2\\right]\\right\\}\\right)</script></html>"
      ],
      "text/latex": [
       "\\begin{math}\n",
       "\\newcommand{\\Bold}[1]{\\mathbf{#1}}\\left(\\verb|[0,|\\phantom{\\verb!x!}\\verb|1,|\\phantom{\\verb!x!}\\verb|1,|\\phantom{\\verb!x!}\\verb|0,|\\phantom{\\verb!x!}\\verb|0,|\\phantom{\\verb!x!}\\verb|0,|\\phantom{\\verb!x!}\\verb|1,|\\phantom{\\verb!x!}\\verb|0]|, \\left\\{\\verb|mon| : \\left(\\begin{array}{rr}\n",
       "1 & -l \\\\\n",
       "2 \\, l & -2 \\, l^{2} + 1\n",
       "\\end{array}\\right), \\verb|sol| : \\left[0\\right], \\verb|trace| : \\left[2\\right]\\right\\}\\right)\n",
       "\\end{math}"
      ],
      "text/plain": [
       "('[0, 1, 1, 0, 0, 0, 1, 0]',\n",
       " {'mon': [         1         -l]\n",
       "  [       2*l -2*l^2 + 1], 'sol': [0], 'trace': [2]})"
      ]
     },
     "metadata": {},
     "output_type": "display_data"
    },
    {
     "data": {
      "text/html": [
       "<html><script type=\"math/tex; mode=display\">\\newcommand{\\Bold}[1]{\\mathbf{#1}}\\left(\\verb|[1,|\\phantom{\\verb!x!}\\verb|1,|\\phantom{\\verb!x!}\\verb|1,|\\phantom{\\verb!x!}\\verb|0,|\\phantom{\\verb!x!}\\verb|0,|\\phantom{\\verb!x!}\\verb|0,|\\phantom{\\verb!x!}\\verb|1,|\\phantom{\\verb!x!}\\verb|0]|, \\left\\{\\verb|mon| : \\left(\\begin{array}{rr}\n",
       "-l^{2} + 1 & -l \\\\\n",
       "-2 \\, l^{3} + 3 \\, l & -2 \\, l^{2} + 1\n",
       "\\end{array}\\right), \\verb|sol| : \\left[-\\frac{1}{2} \\, \\sqrt{3} \\sqrt{2}, 0, \\frac{1}{2} \\, \\sqrt{3} \\sqrt{2}\\right], \\verb|trace| : \\left[-\\frac{5}{2}, 2, -\\frac{5}{2}\\right]\\right\\}\\right)</script></html>"
      ],
      "text/latex": [
       "\\begin{math}\n",
       "\\newcommand{\\Bold}[1]{\\mathbf{#1}}\\left(\\verb|[1,|\\phantom{\\verb!x!}\\verb|1,|\\phantom{\\verb!x!}\\verb|1,|\\phantom{\\verb!x!}\\verb|0,|\\phantom{\\verb!x!}\\verb|0,|\\phantom{\\verb!x!}\\verb|0,|\\phantom{\\verb!x!}\\verb|1,|\\phantom{\\verb!x!}\\verb|0]|, \\left\\{\\verb|mon| : \\left(\\begin{array}{rr}\n",
       "-l^{2} + 1 & -l \\\\\n",
       "-2 \\, l^{3} + 3 \\, l & -2 \\, l^{2} + 1\n",
       "\\end{array}\\right), \\verb|sol| : \\left[-\\frac{1}{2} \\, \\sqrt{3} \\sqrt{2}, 0, \\frac{1}{2} \\, \\sqrt{3} \\sqrt{2}\\right], \\verb|trace| : \\left[-\\frac{5}{2}, 2, -\\frac{5}{2}\\right]\\right\\}\\right)\n",
       "\\end{math}"
      ],
      "text/plain": [
       "('[1, 1, 1, 0, 0, 0, 1, 0]',\n",
       " {'mon': [    -l^2 + 1           -l]\n",
       "  [-2*l^3 + 3*l   -2*l^2 + 1],\n",
       "  'sol': [-1/2*sqrt(3)*sqrt(2), 0, 1/2*sqrt(3)*sqrt(2)],\n",
       "  'trace': [-5/2, 2, -5/2]})"
      ]
     },
     "metadata": {},
     "output_type": "display_data"
    },
    {
     "data": {
      "text/html": [
       "<html><script type=\"math/tex; mode=display\">\\newcommand{\\Bold}[1]{\\mathbf{#1}}\\left(\\verb|[0,|\\phantom{\\verb!x!}\\verb|0,|\\phantom{\\verb!x!}\\verb|0,|\\phantom{\\verb!x!}\\verb|1,|\\phantom{\\verb!x!}\\verb|0,|\\phantom{\\verb!x!}\\verb|0,|\\phantom{\\verb!x!}\\verb|1,|\\phantom{\\verb!x!}\\verb|0]|, \\left\\{\\verb|mon| : \\left(\\begin{array}{rr}\n",
       "1 & -l \\\\\n",
       "l & -l^{2} + 1\n",
       "\\end{array}\\right), \\verb|sol| : \\left[0\\right], \\verb|trace| : \\left[2\\right]\\right\\}\\right)</script></html>"
      ],
      "text/latex": [
       "\\begin{math}\n",
       "\\newcommand{\\Bold}[1]{\\mathbf{#1}}\\left(\\verb|[0,|\\phantom{\\verb!x!}\\verb|0,|\\phantom{\\verb!x!}\\verb|0,|\\phantom{\\verb!x!}\\verb|1,|\\phantom{\\verb!x!}\\verb|0,|\\phantom{\\verb!x!}\\verb|0,|\\phantom{\\verb!x!}\\verb|1,|\\phantom{\\verb!x!}\\verb|0]|, \\left\\{\\verb|mon| : \\left(\\begin{array}{rr}\n",
       "1 & -l \\\\\n",
       "l & -l^{2} + 1\n",
       "\\end{array}\\right), \\verb|sol| : \\left[0\\right], \\verb|trace| : \\left[2\\right]\\right\\}\\right)\n",
       "\\end{math}"
      ],
      "text/plain": [
       "('[0, 0, 0, 1, 0, 0, 1, 0]',\n",
       " {'mon': [       1       -l]\n",
       "  [       l -l^2 + 1], 'sol': [0], 'trace': [2]})"
      ]
     },
     "metadata": {},
     "output_type": "display_data"
    },
    {
     "data": {
      "text/html": [
       "<html><script type=\"math/tex; mode=display\">\\newcommand{\\Bold}[1]{\\mathbf{#1}}\\left(\\verb|[1,|\\phantom{\\verb!x!}\\verb|0,|\\phantom{\\verb!x!}\\verb|0,|\\phantom{\\verb!x!}\\verb|1,|\\phantom{\\verb!x!}\\verb|0,|\\phantom{\\verb!x!}\\verb|0,|\\phantom{\\verb!x!}\\verb|1,|\\phantom{\\verb!x!}\\verb|0]|, \\left\\{\\verb|mon| : \\left(\\begin{array}{rr}\n",
       "-l^{2} + 1 & -l \\\\\n",
       "-l^{3} + 2 \\, l & -l^{2} + 1\n",
       "\\end{array}\\right), \\verb|sol| : \\left[-\\sqrt{2}, 0, \\sqrt{2}\\right], \\verb|trace| : \\left[-2, 2, -2\\right]\\right\\}\\right)</script></html>"
      ],
      "text/latex": [
       "\\begin{math}\n",
       "\\newcommand{\\Bold}[1]{\\mathbf{#1}}\\left(\\verb|[1,|\\phantom{\\verb!x!}\\verb|0,|\\phantom{\\verb!x!}\\verb|0,|\\phantom{\\verb!x!}\\verb|1,|\\phantom{\\verb!x!}\\verb|0,|\\phantom{\\verb!x!}\\verb|0,|\\phantom{\\verb!x!}\\verb|1,|\\phantom{\\verb!x!}\\verb|0]|, \\left\\{\\verb|mon| : \\left(\\begin{array}{rr}\n",
       "-l^{2} + 1 & -l \\\\\n",
       "-l^{3} + 2 \\, l & -l^{2} + 1\n",
       "\\end{array}\\right), \\verb|sol| : \\left[-\\sqrt{2}, 0, \\sqrt{2}\\right], \\verb|trace| : \\left[-2, 2, -2\\right]\\right\\}\\right)\n",
       "\\end{math}"
      ],
      "text/plain": [
       "('[1, 0, 0, 1, 0, 0, 1, 0]',\n",
       " {'mon': [  -l^2 + 1         -l]\n",
       "  [-l^3 + 2*l   -l^2 + 1],\n",
       "  'sol': [-sqrt(2), 0, sqrt(2)],\n",
       "  'trace': [-2, 2, -2]})"
      ]
     },
     "metadata": {},
     "output_type": "display_data"
    },
    {
     "data": {
      "text/html": [
       "<html><script type=\"math/tex; mode=display\">\\newcommand{\\Bold}[1]{\\mathbf{#1}}\\left(\\verb|[0,|\\phantom{\\verb!x!}\\verb|1,|\\phantom{\\verb!x!}\\verb|0,|\\phantom{\\verb!x!}\\verb|1,|\\phantom{\\verb!x!}\\verb|0,|\\phantom{\\verb!x!}\\verb|0,|\\phantom{\\verb!x!}\\verb|1,|\\phantom{\\verb!x!}\\verb|0]|, \\left\\{\\verb|mon| : \\left(\\begin{array}{rr}\n",
       "1 & -2 \\, l \\\\\n",
       "l & -2 \\, l^{2} + 1\n",
       "\\end{array}\\right), \\verb|sol| : \\left[0\\right], \\verb|trace| : \\left[2\\right]\\right\\}\\right)</script></html>"
      ],
      "text/latex": [
       "\\begin{math}\n",
       "\\newcommand{\\Bold}[1]{\\mathbf{#1}}\\left(\\verb|[0,|\\phantom{\\verb!x!}\\verb|1,|\\phantom{\\verb!x!}\\verb|0,|\\phantom{\\verb!x!}\\verb|1,|\\phantom{\\verb!x!}\\verb|0,|\\phantom{\\verb!x!}\\verb|0,|\\phantom{\\verb!x!}\\verb|1,|\\phantom{\\verb!x!}\\verb|0]|, \\left\\{\\verb|mon| : \\left(\\begin{array}{rr}\n",
       "1 & -2 \\, l \\\\\n",
       "l & -2 \\, l^{2} + 1\n",
       "\\end{array}\\right), \\verb|sol| : \\left[0\\right], \\verb|trace| : \\left[2\\right]\\right\\}\\right)\n",
       "\\end{math}"
      ],
      "text/plain": [
       "('[0, 1, 0, 1, 0, 0, 1, 0]',\n",
       " {'mon': [         1       -2*l]\n",
       "  [         l -2*l^2 + 1], 'sol': [0], 'trace': [2]})"
      ]
     },
     "metadata": {},
     "output_type": "display_data"
    },
    {
     "data": {
      "text/html": [
       "<html><script type=\"math/tex; mode=display\">\\newcommand{\\Bold}[1]{\\mathbf{#1}}\\left(\\verb|[1,|\\phantom{\\verb!x!}\\verb|1,|\\phantom{\\verb!x!}\\verb|0,|\\phantom{\\verb!x!}\\verb|1,|\\phantom{\\verb!x!}\\verb|0,|\\phantom{\\verb!x!}\\verb|0,|\\phantom{\\verb!x!}\\verb|1,|\\phantom{\\verb!x!}\\verb|0]|, \\left\\{\\verb|mon| : \\left(\\begin{array}{rr}\n",
       "-2 \\, l^{2} + 1 & -2 \\, l \\\\\n",
       "-2 \\, l^{3} + 2 \\, l & -2 \\, l^{2} + 1\n",
       "\\end{array}\\right), \\verb|sol| : \\left[-1, 0, 1\\right], \\verb|trace| : \\left[-2, 2, -2\\right]\\right\\}\\right)</script></html>"
      ],
      "text/latex": [
       "\\begin{math}\n",
       "\\newcommand{\\Bold}[1]{\\mathbf{#1}}\\left(\\verb|[1,|\\phantom{\\verb!x!}\\verb|1,|\\phantom{\\verb!x!}\\verb|0,|\\phantom{\\verb!x!}\\verb|1,|\\phantom{\\verb!x!}\\verb|0,|\\phantom{\\verb!x!}\\verb|0,|\\phantom{\\verb!x!}\\verb|1,|\\phantom{\\verb!x!}\\verb|0]|, \\left\\{\\verb|mon| : \\left(\\begin{array}{rr}\n",
       "-2 \\, l^{2} + 1 & -2 \\, l \\\\\n",
       "-2 \\, l^{3} + 2 \\, l & -2 \\, l^{2} + 1\n",
       "\\end{array}\\right), \\verb|sol| : \\left[-1, 0, 1\\right], \\verb|trace| : \\left[-2, 2, -2\\right]\\right\\}\\right)\n",
       "\\end{math}"
      ],
      "text/plain": [
       "('[1, 1, 0, 1, 0, 0, 1, 0]',\n",
       " {'mon': [  -2*l^2 + 1         -2*l]\n",
       "  [-2*l^3 + 2*l   -2*l^2 + 1], 'sol': [-1, 0, 1], 'trace': [-2, 2, -2]})"
      ]
     },
     "metadata": {},
     "output_type": "display_data"
    },
    {
     "data": {
      "text/html": [
       "<html><script type=\"math/tex; mode=display\">\\newcommand{\\Bold}[1]{\\mathbf{#1}}\\left(\\verb|[0,|\\phantom{\\verb!x!}\\verb|0,|\\phantom{\\verb!x!}\\verb|1,|\\phantom{\\verb!x!}\\verb|1,|\\phantom{\\verb!x!}\\verb|0,|\\phantom{\\verb!x!}\\verb|0,|\\phantom{\\verb!x!}\\verb|1,|\\phantom{\\verb!x!}\\verb|0]|, \\left\\{\\verb|mon| : \\left(\\begin{array}{rr}\n",
       "-l^{2} + 1 & -l \\\\\n",
       "-l^{3} + 2 \\, l & -l^{2} + 1\n",
       "\\end{array}\\right), \\verb|sol| : \\left[-\\sqrt{2}, 0, \\sqrt{2}\\right], \\verb|trace| : \\left[-2, 2, -2\\right]\\right\\}\\right)</script></html>"
      ],
      "text/latex": [
       "\\begin{math}\n",
       "\\newcommand{\\Bold}[1]{\\mathbf{#1}}\\left(\\verb|[0,|\\phantom{\\verb!x!}\\verb|0,|\\phantom{\\verb!x!}\\verb|1,|\\phantom{\\verb!x!}\\verb|1,|\\phantom{\\verb!x!}\\verb|0,|\\phantom{\\verb!x!}\\verb|0,|\\phantom{\\verb!x!}\\verb|1,|\\phantom{\\verb!x!}\\verb|0]|, \\left\\{\\verb|mon| : \\left(\\begin{array}{rr}\n",
       "-l^{2} + 1 & -l \\\\\n",
       "-l^{3} + 2 \\, l & -l^{2} + 1\n",
       "\\end{array}\\right), \\verb|sol| : \\left[-\\sqrt{2}, 0, \\sqrt{2}\\right], \\verb|trace| : \\left[-2, 2, -2\\right]\\right\\}\\right)\n",
       "\\end{math}"
      ],
      "text/plain": [
       "('[0, 0, 1, 1, 0, 0, 1, 0]',\n",
       " {'mon': [  -l^2 + 1         -l]\n",
       "  [-l^3 + 2*l   -l^2 + 1],\n",
       "  'sol': [-sqrt(2), 0, sqrt(2)],\n",
       "  'trace': [-2, 2, -2]})"
      ]
     },
     "metadata": {},
     "output_type": "display_data"
    },
    {
     "data": {
      "text/html": [
       "<html><script type=\"math/tex; mode=display\">\\newcommand{\\Bold}[1]{\\mathbf{#1}}\\left(\\verb|[1,|\\phantom{\\verb!x!}\\verb|0,|\\phantom{\\verb!x!}\\verb|1,|\\phantom{\\verb!x!}\\verb|1,|\\phantom{\\verb!x!}\\verb|0,|\\phantom{\\verb!x!}\\verb|0,|\\phantom{\\verb!x!}\\verb|1,|\\phantom{\\verb!x!}\\verb|0]|, \\left\\{\\verb|mon| : \\left(\\begin{array}{rr}\n",
       "-2 \\, l^{2} + 1 & -l \\\\\n",
       "-2 \\, l^{3} + 3 \\, l & -l^{2} + 1\n",
       "\\end{array}\\right), \\verb|sol| : \\left[-\\frac{1}{2} \\, \\sqrt{3} \\sqrt{2}, 0, \\frac{1}{2} \\, \\sqrt{3} \\sqrt{2}\\right], \\verb|trace| : \\left[-\\frac{5}{2}, 2, -\\frac{5}{2}\\right]\\right\\}\\right)</script></html>"
      ],
      "text/latex": [
       "\\begin{math}\n",
       "\\newcommand{\\Bold}[1]{\\mathbf{#1}}\\left(\\verb|[1,|\\phantom{\\verb!x!}\\verb|0,|\\phantom{\\verb!x!}\\verb|1,|\\phantom{\\verb!x!}\\verb|1,|\\phantom{\\verb!x!}\\verb|0,|\\phantom{\\verb!x!}\\verb|0,|\\phantom{\\verb!x!}\\verb|1,|\\phantom{\\verb!x!}\\verb|0]|, \\left\\{\\verb|mon| : \\left(\\begin{array}{rr}\n",
       "-2 \\, l^{2} + 1 & -l \\\\\n",
       "-2 \\, l^{3} + 3 \\, l & -l^{2} + 1\n",
       "\\end{array}\\right), \\verb|sol| : \\left[-\\frac{1}{2} \\, \\sqrt{3} \\sqrt{2}, 0, \\frac{1}{2} \\, \\sqrt{3} \\sqrt{2}\\right], \\verb|trace| : \\left[-\\frac{5}{2}, 2, -\\frac{5}{2}\\right]\\right\\}\\right)\n",
       "\\end{math}"
      ],
      "text/plain": [
       "('[1, 0, 1, 1, 0, 0, 1, 0]',\n",
       " {'mon': [  -2*l^2 + 1           -l]\n",
       "  [-2*l^3 + 3*l     -l^2 + 1],\n",
       "  'sol': [-1/2*sqrt(3)*sqrt(2), 0, 1/2*sqrt(3)*sqrt(2)],\n",
       "  'trace': [-5/2, 2, -5/2]})"
      ]
     },
     "metadata": {},
     "output_type": "display_data"
    },
    {
     "data": {
      "text/html": [
       "<html><script type=\"math/tex; mode=display\">\\newcommand{\\Bold}[1]{\\mathbf{#1}}\\left(\\verb|[0,|\\phantom{\\verb!x!}\\verb|1,|\\phantom{\\verb!x!}\\verb|1,|\\phantom{\\verb!x!}\\verb|1,|\\phantom{\\verb!x!}\\verb|0,|\\phantom{\\verb!x!}\\verb|0,|\\phantom{\\verb!x!}\\verb|1,|\\phantom{\\verb!x!}\\verb|0]|, \\left\\{\\verb|mon| : \\left(\\begin{array}{rr}\n",
       "-l^{2} + 1 & l^{3} - 2 \\, l \\\\\n",
       "-l^{3} + 2 \\, l & l^{4} - 3 \\, l^{2} + 1\n",
       "\\end{array}\\right), \\verb|sol| : \\left[-\\sqrt{2}, 0, \\sqrt{2}\\right], \\verb|trace| : \\left[-2, 2, -2\\right]\\right\\}\\right)</script></html>"
      ],
      "text/latex": [
       "\\begin{math}\n",
       "\\newcommand{\\Bold}[1]{\\mathbf{#1}}\\left(\\verb|[0,|\\phantom{\\verb!x!}\\verb|1,|\\phantom{\\verb!x!}\\verb|1,|\\phantom{\\verb!x!}\\verb|1,|\\phantom{\\verb!x!}\\verb|0,|\\phantom{\\verb!x!}\\verb|0,|\\phantom{\\verb!x!}\\verb|1,|\\phantom{\\verb!x!}\\verb|0]|, \\left\\{\\verb|mon| : \\left(\\begin{array}{rr}\n",
       "-l^{2} + 1 & l^{3} - 2 \\, l \\\\\n",
       "-l^{3} + 2 \\, l & l^{4} - 3 \\, l^{2} + 1\n",
       "\\end{array}\\right), \\verb|sol| : \\left[-\\sqrt{2}, 0, \\sqrt{2}\\right], \\verb|trace| : \\left[-2, 2, -2\\right]\\right\\}\\right)\n",
       "\\end{math}"
      ],
      "text/plain": [
       "('[0, 1, 1, 1, 0, 0, 1, 0]',\n",
       " {'mon': [       -l^2 + 1       l^3 - 2*l]\n",
       "  [     -l^3 + 2*l l^4 - 3*l^2 + 1],\n",
       "  'sol': [-sqrt(2), 0, sqrt(2)],\n",
       "  'trace': [-2, 2, -2]})"
      ]
     },
     "metadata": {},
     "output_type": "display_data"
    },
    {
     "data": {
      "text/html": [
       "<html><script type=\"math/tex; mode=display\">\\newcommand{\\Bold}[1]{\\mathbf{#1}}\\left(\\verb|[1,|\\phantom{\\verb!x!}\\verb|1,|\\phantom{\\verb!x!}\\verb|1,|\\phantom{\\verb!x!}\\verb|1,|\\phantom{\\verb!x!}\\verb|0,|\\phantom{\\verb!x!}\\verb|0,|\\phantom{\\verb!x!}\\verb|1,|\\phantom{\\verb!x!}\\verb|0]|, \\left\\{\\verb|mon| : \\left(\\begin{array}{rr}\n",
       "l^{4} - 3 \\, l^{2} + 1 & l^{3} - 2 \\, l \\\\\n",
       "l^{5} - 4 \\, l^{3} + 3 \\, l & l^{4} - 3 \\, l^{2} + 1\n",
       "\\end{array}\\right), \\verb|sol| : \\left[-\\sqrt{3}, -1, 0, 1, \\sqrt{3}\\right], \\verb|trace| : \\left[2, -2, 2, -2, 2\\right]\\right\\}\\right)</script></html>"
      ],
      "text/latex": [
       "\\begin{math}\n",
       "\\newcommand{\\Bold}[1]{\\mathbf{#1}}\\left(\\verb|[1,|\\phantom{\\verb!x!}\\verb|1,|\\phantom{\\verb!x!}\\verb|1,|\\phantom{\\verb!x!}\\verb|1,|\\phantom{\\verb!x!}\\verb|0,|\\phantom{\\verb!x!}\\verb|0,|\\phantom{\\verb!x!}\\verb|1,|\\phantom{\\verb!x!}\\verb|0]|, \\left\\{\\verb|mon| : \\left(\\begin{array}{rr}\n",
       "l^{4} - 3 \\, l^{2} + 1 & l^{3} - 2 \\, l \\\\\n",
       "l^{5} - 4 \\, l^{3} + 3 \\, l & l^{4} - 3 \\, l^{2} + 1\n",
       "\\end{array}\\right), \\verb|sol| : \\left[-\\sqrt{3}, -1, 0, 1, \\sqrt{3}\\right], \\verb|trace| : \\left[2, -2, 2, -2, 2\\right]\\right\\}\\right)\n",
       "\\end{math}"
      ],
      "text/plain": [
       "('[1, 1, 1, 1, 0, 0, 1, 0]',\n",
       " {'mon': [  l^4 - 3*l^2 + 1         l^3 - 2*l]\n",
       "  [l^5 - 4*l^3 + 3*l   l^4 - 3*l^2 + 1],\n",
       "  'sol': [-sqrt(3), -1, 0, 1, sqrt(3)],\n",
       "  'trace': [2, -2, 2, -2, 2]})"
      ]
     },
     "metadata": {},
     "output_type": "display_data"
    },
    {
     "data": {
      "text/html": [
       "<html><script type=\"math/tex; mode=display\">\\newcommand{\\Bold}[1]{\\mathbf{#1}}\\left(\\verb|[0,|\\phantom{\\verb!x!}\\verb|0,|\\phantom{\\verb!x!}\\verb|0,|\\phantom{\\verb!x!}\\verb|0,|\\phantom{\\verb!x!}\\verb|1,|\\phantom{\\verb!x!}\\verb|0,|\\phantom{\\verb!x!}\\verb|1,|\\phantom{\\verb!x!}\\verb|0]|, \\left\\{\\verb|mon| : \\left(\\begin{array}{rr}\n",
       "1 & 0 \\\\\n",
       "2 \\, l & 1\n",
       "\\end{array}\\right), \\verb|sol| : \\left[0\\right], \\verb|trace| : \\left[2\\right]\\right\\}\\right)</script></html>"
      ],
      "text/latex": [
       "\\begin{math}\n",
       "\\newcommand{\\Bold}[1]{\\mathbf{#1}}\\left(\\verb|[0,|\\phantom{\\verb!x!}\\verb|0,|\\phantom{\\verb!x!}\\verb|0,|\\phantom{\\verb!x!}\\verb|0,|\\phantom{\\verb!x!}\\verb|1,|\\phantom{\\verb!x!}\\verb|0,|\\phantom{\\verb!x!}\\verb|1,|\\phantom{\\verb!x!}\\verb|0]|, \\left\\{\\verb|mon| : \\left(\\begin{array}{rr}\n",
       "1 & 0 \\\\\n",
       "2 \\, l & 1\n",
       "\\end{array}\\right), \\verb|sol| : \\left[0\\right], \\verb|trace| : \\left[2\\right]\\right\\}\\right)\n",
       "\\end{math}"
      ],
      "text/plain": [
       "('[0, 0, 0, 0, 1, 0, 1, 0]',\n",
       " {'mon': [  1   0]\n",
       "  [2*l   1], 'sol': [0], 'trace': [2]})"
      ]
     },
     "metadata": {},
     "output_type": "display_data"
    },
    {
     "data": {
      "text/html": [
       "<html><script type=\"math/tex; mode=display\">\\newcommand{\\Bold}[1]{\\mathbf{#1}}\\left(\\verb|[1,|\\phantom{\\verb!x!}\\verb|0,|\\phantom{\\verb!x!}\\verb|0,|\\phantom{\\verb!x!}\\verb|0,|\\phantom{\\verb!x!}\\verb|1,|\\phantom{\\verb!x!}\\verb|0,|\\phantom{\\verb!x!}\\verb|1,|\\phantom{\\verb!x!}\\verb|0]|, \\left\\{\\verb|mon| : \\left(\\begin{array}{rr}\n",
       "1 & 0 \\\\\n",
       "3 \\, l & 1\n",
       "\\end{array}\\right), \\verb|sol| : \\left[0\\right], \\verb|trace| : \\left[2\\right]\\right\\}\\right)</script></html>"
      ],
      "text/latex": [
       "\\begin{math}\n",
       "\\newcommand{\\Bold}[1]{\\mathbf{#1}}\\left(\\verb|[1,|\\phantom{\\verb!x!}\\verb|0,|\\phantom{\\verb!x!}\\verb|0,|\\phantom{\\verb!x!}\\verb|0,|\\phantom{\\verb!x!}\\verb|1,|\\phantom{\\verb!x!}\\verb|0,|\\phantom{\\verb!x!}\\verb|1,|\\phantom{\\verb!x!}\\verb|0]|, \\left\\{\\verb|mon| : \\left(\\begin{array}{rr}\n",
       "1 & 0 \\\\\n",
       "3 \\, l & 1\n",
       "\\end{array}\\right), \\verb|sol| : \\left[0\\right], \\verb|trace| : \\left[2\\right]\\right\\}\\right)\n",
       "\\end{math}"
      ],
      "text/plain": [
       "('[1, 0, 0, 0, 1, 0, 1, 0]',\n",
       " {'mon': [  1   0]\n",
       "  [3*l   1], 'sol': [0], 'trace': [2]})"
      ]
     },
     "metadata": {},
     "output_type": "display_data"
    },
    {
     "data": {
      "text/html": [
       "<html><script type=\"math/tex; mode=display\">\\newcommand{\\Bold}[1]{\\mathbf{#1}}\\left(\\verb|[0,|\\phantom{\\verb!x!}\\verb|1,|\\phantom{\\verb!x!}\\verb|0,|\\phantom{\\verb!x!}\\verb|0,|\\phantom{\\verb!x!}\\verb|1,|\\phantom{\\verb!x!}\\verb|0,|\\phantom{\\verb!x!}\\verb|1,|\\phantom{\\verb!x!}\\verb|0]|, \\left\\{\\verb|mon| : \\left(\\begin{array}{rr}\n",
       "1 & -l \\\\\n",
       "2 \\, l & -2 \\, l^{2} + 1\n",
       "\\end{array}\\right), \\verb|sol| : \\left[0\\right], \\verb|trace| : \\left[2\\right]\\right\\}\\right)</script></html>"
      ],
      "text/latex": [
       "\\begin{math}\n",
       "\\newcommand{\\Bold}[1]{\\mathbf{#1}}\\left(\\verb|[0,|\\phantom{\\verb!x!}\\verb|1,|\\phantom{\\verb!x!}\\verb|0,|\\phantom{\\verb!x!}\\verb|0,|\\phantom{\\verb!x!}\\verb|1,|\\phantom{\\verb!x!}\\verb|0,|\\phantom{\\verb!x!}\\verb|1,|\\phantom{\\verb!x!}\\verb|0]|, \\left\\{\\verb|mon| : \\left(\\begin{array}{rr}\n",
       "1 & -l \\\\\n",
       "2 \\, l & -2 \\, l^{2} + 1\n",
       "\\end{array}\\right), \\verb|sol| : \\left[0\\right], \\verb|trace| : \\left[2\\right]\\right\\}\\right)\n",
       "\\end{math}"
      ],
      "text/plain": [
       "('[0, 1, 0, 0, 1, 0, 1, 0]',\n",
       " {'mon': [         1         -l]\n",
       "  [       2*l -2*l^2 + 1], 'sol': [0], 'trace': [2]})"
      ]
     },
     "metadata": {},
     "output_type": "display_data"
    },
    {
     "data": {
      "text/html": [
       "<html><script type=\"math/tex; mode=display\">\\newcommand{\\Bold}[1]{\\mathbf{#1}}\\left(\\verb|[1,|\\phantom{\\verb!x!}\\verb|1,|\\phantom{\\verb!x!}\\verb|0,|\\phantom{\\verb!x!}\\verb|0,|\\phantom{\\verb!x!}\\verb|1,|\\phantom{\\verb!x!}\\verb|0,|\\phantom{\\verb!x!}\\verb|1,|\\phantom{\\verb!x!}\\verb|0]|, \\left\\{\\verb|mon| : \\left(\\begin{array}{rr}\n",
       "-l^{2} + 1 & -l \\\\\n",
       "-2 \\, l^{3} + 3 \\, l & -2 \\, l^{2} + 1\n",
       "\\end{array}\\right), \\verb|sol| : \\left[-\\frac{1}{2} \\, \\sqrt{3} \\sqrt{2}, 0, \\frac{1}{2} \\, \\sqrt{3} \\sqrt{2}\\right], \\verb|trace| : \\left[-\\frac{5}{2}, 2, -\\frac{5}{2}\\right]\\right\\}\\right)</script></html>"
      ],
      "text/latex": [
       "\\begin{math}\n",
       "\\newcommand{\\Bold}[1]{\\mathbf{#1}}\\left(\\verb|[1,|\\phantom{\\verb!x!}\\verb|1,|\\phantom{\\verb!x!}\\verb|0,|\\phantom{\\verb!x!}\\verb|0,|\\phantom{\\verb!x!}\\verb|1,|\\phantom{\\verb!x!}\\verb|0,|\\phantom{\\verb!x!}\\verb|1,|\\phantom{\\verb!x!}\\verb|0]|, \\left\\{\\verb|mon| : \\left(\\begin{array}{rr}\n",
       "-l^{2} + 1 & -l \\\\\n",
       "-2 \\, l^{3} + 3 \\, l & -2 \\, l^{2} + 1\n",
       "\\end{array}\\right), \\verb|sol| : \\left[-\\frac{1}{2} \\, \\sqrt{3} \\sqrt{2}, 0, \\frac{1}{2} \\, \\sqrt{3} \\sqrt{2}\\right], \\verb|trace| : \\left[-\\frac{5}{2}, 2, -\\frac{5}{2}\\right]\\right\\}\\right)\n",
       "\\end{math}"
      ],
      "text/plain": [
       "('[1, 1, 0, 0, 1, 0, 1, 0]',\n",
       " {'mon': [    -l^2 + 1           -l]\n",
       "  [-2*l^3 + 3*l   -2*l^2 + 1],\n",
       "  'sol': [-1/2*sqrt(3)*sqrt(2), 0, 1/2*sqrt(3)*sqrt(2)],\n",
       "  'trace': [-5/2, 2, -5/2]})"
      ]
     },
     "metadata": {},
     "output_type": "display_data"
    },
    {
     "data": {
      "text/html": [
       "<html><script type=\"math/tex; mode=display\">\\newcommand{\\Bold}[1]{\\mathbf{#1}}\\left(\\verb|[0,|\\phantom{\\verb!x!}\\verb|0,|\\phantom{\\verb!x!}\\verb|1,|\\phantom{\\verb!x!}\\verb|0,|\\phantom{\\verb!x!}\\verb|1,|\\phantom{\\verb!x!}\\verb|0,|\\phantom{\\verb!x!}\\verb|1,|\\phantom{\\verb!x!}\\verb|0]|, \\left\\{\\verb|mon| : \\left(\\begin{array}{rr}\n",
       "1 & 0 \\\\\n",
       "3 \\, l & 1\n",
       "\\end{array}\\right), \\verb|sol| : \\left[0\\right], \\verb|trace| : \\left[2\\right]\\right\\}\\right)</script></html>"
      ],
      "text/latex": [
       "\\begin{math}\n",
       "\\newcommand{\\Bold}[1]{\\mathbf{#1}}\\left(\\verb|[0,|\\phantom{\\verb!x!}\\verb|0,|\\phantom{\\verb!x!}\\verb|1,|\\phantom{\\verb!x!}\\verb|0,|\\phantom{\\verb!x!}\\verb|1,|\\phantom{\\verb!x!}\\verb|0,|\\phantom{\\verb!x!}\\verb|1,|\\phantom{\\verb!x!}\\verb|0]|, \\left\\{\\verb|mon| : \\left(\\begin{array}{rr}\n",
       "1 & 0 \\\\\n",
       "3 \\, l & 1\n",
       "\\end{array}\\right), \\verb|sol| : \\left[0\\right], \\verb|trace| : \\left[2\\right]\\right\\}\\right)\n",
       "\\end{math}"
      ],
      "text/plain": [
       "('[0, 0, 1, 0, 1, 0, 1, 0]',\n",
       " {'mon': [  1   0]\n",
       "  [3*l   1], 'sol': [0], 'trace': [2]})"
      ]
     },
     "metadata": {},
     "output_type": "display_data"
    },
    {
     "data": {
      "text/html": [
       "<html><script type=\"math/tex; mode=display\">\\newcommand{\\Bold}[1]{\\mathbf{#1}}\\left(\\verb|[1,|\\phantom{\\verb!x!}\\verb|0,|\\phantom{\\verb!x!}\\verb|1,|\\phantom{\\verb!x!}\\verb|0,|\\phantom{\\verb!x!}\\verb|1,|\\phantom{\\verb!x!}\\verb|0,|\\phantom{\\verb!x!}\\verb|1,|\\phantom{\\verb!x!}\\verb|0]|, \\left\\{\\verb|mon| : \\left(\\begin{array}{rr}\n",
       "1 & 0 \\\\\n",
       "4 \\, l & 1\n",
       "\\end{array}\\right), \\verb|sol| : \\left[0\\right], \\verb|trace| : \\left[2\\right]\\right\\}\\right)</script></html>"
      ],
      "text/latex": [
       "\\begin{math}\n",
       "\\newcommand{\\Bold}[1]{\\mathbf{#1}}\\left(\\verb|[1,|\\phantom{\\verb!x!}\\verb|0,|\\phantom{\\verb!x!}\\verb|1,|\\phantom{\\verb!x!}\\verb|0,|\\phantom{\\verb!x!}\\verb|1,|\\phantom{\\verb!x!}\\verb|0,|\\phantom{\\verb!x!}\\verb|1,|\\phantom{\\verb!x!}\\verb|0]|, \\left\\{\\verb|mon| : \\left(\\begin{array}{rr}\n",
       "1 & 0 \\\\\n",
       "4 \\, l & 1\n",
       "\\end{array}\\right), \\verb|sol| : \\left[0\\right], \\verb|trace| : \\left[2\\right]\\right\\}\\right)\n",
       "\\end{math}"
      ],
      "text/plain": [
       "('[1, 0, 1, 0, 1, 0, 1, 0]',\n",
       " {'mon': [  1   0]\n",
       "  [4*l   1], 'sol': [0], 'trace': [2]})"
      ]
     },
     "metadata": {},
     "output_type": "display_data"
    },
    {
     "data": {
      "text/html": [
       "<html><script type=\"math/tex; mode=display\">\\newcommand{\\Bold}[1]{\\mathbf{#1}}\\left(\\verb|[0,|\\phantom{\\verb!x!}\\verb|1,|\\phantom{\\verb!x!}\\verb|1,|\\phantom{\\verb!x!}\\verb|0,|\\phantom{\\verb!x!}\\verb|1,|\\phantom{\\verb!x!}\\verb|0,|\\phantom{\\verb!x!}\\verb|1,|\\phantom{\\verb!x!}\\verb|0]|, \\left\\{\\verb|mon| : \\left(\\begin{array}{rr}\n",
       "1 & -l \\\\\n",
       "3 \\, l & -3 \\, l^{2} + 1\n",
       "\\end{array}\\right), \\verb|sol| : \\left[0\\right], \\verb|trace| : \\left[2\\right]\\right\\}\\right)</script></html>"
      ],
      "text/latex": [
       "\\begin{math}\n",
       "\\newcommand{\\Bold}[1]{\\mathbf{#1}}\\left(\\verb|[0,|\\phantom{\\verb!x!}\\verb|1,|\\phantom{\\verb!x!}\\verb|1,|\\phantom{\\verb!x!}\\verb|0,|\\phantom{\\verb!x!}\\verb|1,|\\phantom{\\verb!x!}\\verb|0,|\\phantom{\\verb!x!}\\verb|1,|\\phantom{\\verb!x!}\\verb|0]|, \\left\\{\\verb|mon| : \\left(\\begin{array}{rr}\n",
       "1 & -l \\\\\n",
       "3 \\, l & -3 \\, l^{2} + 1\n",
       "\\end{array}\\right), \\verb|sol| : \\left[0\\right], \\verb|trace| : \\left[2\\right]\\right\\}\\right)\n",
       "\\end{math}"
      ],
      "text/plain": [
       "('[0, 1, 1, 0, 1, 0, 1, 0]',\n",
       " {'mon': [         1         -l]\n",
       "  [       3*l -3*l^2 + 1], 'sol': [0], 'trace': [2]})"
      ]
     },
     "metadata": {},
     "output_type": "display_data"
    },
    {
     "data": {
      "text/html": [
       "<html><script type=\"math/tex; mode=display\">\\newcommand{\\Bold}[1]{\\mathbf{#1}}\\left(\\verb|[1,|\\phantom{\\verb!x!}\\verb|1,|\\phantom{\\verb!x!}\\verb|1,|\\phantom{\\verb!x!}\\verb|0,|\\phantom{\\verb!x!}\\verb|1,|\\phantom{\\verb!x!}\\verb|0,|\\phantom{\\verb!x!}\\verb|1,|\\phantom{\\verb!x!}\\verb|0]|, \\left\\{\\verb|mon| : \\left(\\begin{array}{rr}\n",
       "-l^{2} + 1 & -l \\\\\n",
       "-3 \\, l^{3} + 4 \\, l & -3 \\, l^{2} + 1\n",
       "\\end{array}\\right), \\verb|sol| : \\left[-\\frac{2}{3} \\, \\sqrt{3}, 0, \\frac{2}{3} \\, \\sqrt{3}\\right], \\verb|trace| : \\left[-\\frac{10}{3}, 2, -\\frac{10}{3}\\right]\\right\\}\\right)</script></html>"
      ],
      "text/latex": [
       "\\begin{math}\n",
       "\\newcommand{\\Bold}[1]{\\mathbf{#1}}\\left(\\verb|[1,|\\phantom{\\verb!x!}\\verb|1,|\\phantom{\\verb!x!}\\verb|1,|\\phantom{\\verb!x!}\\verb|0,|\\phantom{\\verb!x!}\\verb|1,|\\phantom{\\verb!x!}\\verb|0,|\\phantom{\\verb!x!}\\verb|1,|\\phantom{\\verb!x!}\\verb|0]|, \\left\\{\\verb|mon| : \\left(\\begin{array}{rr}\n",
       "-l^{2} + 1 & -l \\\\\n",
       "-3 \\, l^{3} + 4 \\, l & -3 \\, l^{2} + 1\n",
       "\\end{array}\\right), \\verb|sol| : \\left[-\\frac{2}{3} \\, \\sqrt{3}, 0, \\frac{2}{3} \\, \\sqrt{3}\\right], \\verb|trace| : \\left[-\\frac{10}{3}, 2, -\\frac{10}{3}\\right]\\right\\}\\right)\n",
       "\\end{math}"
      ],
      "text/plain": [
       "('[1, 1, 1, 0, 1, 0, 1, 0]',\n",
       " {'mon': [    -l^2 + 1           -l]\n",
       "  [-3*l^3 + 4*l   -3*l^2 + 1],\n",
       "  'sol': [-2/3*sqrt(3), 0, 2/3*sqrt(3)],\n",
       "  'trace': [-10/3, 2, -10/3]})"
      ]
     },
     "metadata": {},
     "output_type": "display_data"
    },
    {
     "data": {
      "text/html": [
       "<html><script type=\"math/tex; mode=display\">\\newcommand{\\Bold}[1]{\\mathbf{#1}}\\left(\\verb|[0,|\\phantom{\\verb!x!}\\verb|0,|\\phantom{\\verb!x!}\\verb|0,|\\phantom{\\verb!x!}\\verb|1,|\\phantom{\\verb!x!}\\verb|1,|\\phantom{\\verb!x!}\\verb|0,|\\phantom{\\verb!x!}\\verb|1,|\\phantom{\\verb!x!}\\verb|0]|, \\left\\{\\verb|mon| : \\left(\\begin{array}{rr}\n",
       "1 & -l \\\\\n",
       "2 \\, l & -2 \\, l^{2} + 1\n",
       "\\end{array}\\right), \\verb|sol| : \\left[0\\right], \\verb|trace| : \\left[2\\right]\\right\\}\\right)</script></html>"
      ],
      "text/latex": [
       "\\begin{math}\n",
       "\\newcommand{\\Bold}[1]{\\mathbf{#1}}\\left(\\verb|[0,|\\phantom{\\verb!x!}\\verb|0,|\\phantom{\\verb!x!}\\verb|0,|\\phantom{\\verb!x!}\\verb|1,|\\phantom{\\verb!x!}\\verb|1,|\\phantom{\\verb!x!}\\verb|0,|\\phantom{\\verb!x!}\\verb|1,|\\phantom{\\verb!x!}\\verb|0]|, \\left\\{\\verb|mon| : \\left(\\begin{array}{rr}\n",
       "1 & -l \\\\\n",
       "2 \\, l & -2 \\, l^{2} + 1\n",
       "\\end{array}\\right), \\verb|sol| : \\left[0\\right], \\verb|trace| : \\left[2\\right]\\right\\}\\right)\n",
       "\\end{math}"
      ],
      "text/plain": [
       "('[0, 0, 0, 1, 1, 0, 1, 0]',\n",
       " {'mon': [         1         -l]\n",
       "  [       2*l -2*l^2 + 1], 'sol': [0], 'trace': [2]})"
      ]
     },
     "metadata": {},
     "output_type": "display_data"
    },
    {
     "data": {
      "text/html": [
       "<html><script type=\"math/tex; mode=display\">\\newcommand{\\Bold}[1]{\\mathbf{#1}}\\left(\\verb|[1,|\\phantom{\\verb!x!}\\verb|0,|\\phantom{\\verb!x!}\\verb|0,|\\phantom{\\verb!x!}\\verb|1,|\\phantom{\\verb!x!}\\verb|1,|\\phantom{\\verb!x!}\\verb|0,|\\phantom{\\verb!x!}\\verb|1,|\\phantom{\\verb!x!}\\verb|0]|, \\left\\{\\verb|mon| : \\left(\\begin{array}{rr}\n",
       "-l^{2} + 1 & -l \\\\\n",
       "-2 \\, l^{3} + 3 \\, l & -2 \\, l^{2} + 1\n",
       "\\end{array}\\right), \\verb|sol| : \\left[-\\frac{1}{2} \\, \\sqrt{3} \\sqrt{2}, 0, \\frac{1}{2} \\, \\sqrt{3} \\sqrt{2}\\right], \\verb|trace| : \\left[-\\frac{5}{2}, 2, -\\frac{5}{2}\\right]\\right\\}\\right)</script></html>"
      ],
      "text/latex": [
       "\\begin{math}\n",
       "\\newcommand{\\Bold}[1]{\\mathbf{#1}}\\left(\\verb|[1,|\\phantom{\\verb!x!}\\verb|0,|\\phantom{\\verb!x!}\\verb|0,|\\phantom{\\verb!x!}\\verb|1,|\\phantom{\\verb!x!}\\verb|1,|\\phantom{\\verb!x!}\\verb|0,|\\phantom{\\verb!x!}\\verb|1,|\\phantom{\\verb!x!}\\verb|0]|, \\left\\{\\verb|mon| : \\left(\\begin{array}{rr}\n",
       "-l^{2} + 1 & -l \\\\\n",
       "-2 \\, l^{3} + 3 \\, l & -2 \\, l^{2} + 1\n",
       "\\end{array}\\right), \\verb|sol| : \\left[-\\frac{1}{2} \\, \\sqrt{3} \\sqrt{2}, 0, \\frac{1}{2} \\, \\sqrt{3} \\sqrt{2}\\right], \\verb|trace| : \\left[-\\frac{5}{2}, 2, -\\frac{5}{2}\\right]\\right\\}\\right)\n",
       "\\end{math}"
      ],
      "text/plain": [
       "('[1, 0, 0, 1, 1, 0, 1, 0]',\n",
       " {'mon': [    -l^2 + 1           -l]\n",
       "  [-2*l^3 + 3*l   -2*l^2 + 1],\n",
       "  'sol': [-1/2*sqrt(3)*sqrt(2), 0, 1/2*sqrt(3)*sqrt(2)],\n",
       "  'trace': [-5/2, 2, -5/2]})"
      ]
     },
     "metadata": {},
     "output_type": "display_data"
    },
    {
     "data": {
      "text/html": [
       "<html><script type=\"math/tex; mode=display\">\\newcommand{\\Bold}[1]{\\mathbf{#1}}\\left(\\verb|[0,|\\phantom{\\verb!x!}\\verb|1,|\\phantom{\\verb!x!}\\verb|0,|\\phantom{\\verb!x!}\\verb|1,|\\phantom{\\verb!x!}\\verb|1,|\\phantom{\\verb!x!}\\verb|0,|\\phantom{\\verb!x!}\\verb|1,|\\phantom{\\verb!x!}\\verb|0]|, \\left\\{\\verb|mon| : \\left(\\begin{array}{rr}\n",
       "1 & -2 \\, l \\\\\n",
       "2 \\, l & -4 \\, l^{2} + 1\n",
       "\\end{array}\\right), \\verb|sol| : \\left[0\\right], \\verb|trace| : \\left[2\\right]\\right\\}\\right)</script></html>"
      ],
      "text/latex": [
       "\\begin{math}\n",
       "\\newcommand{\\Bold}[1]{\\mathbf{#1}}\\left(\\verb|[0,|\\phantom{\\verb!x!}\\verb|1,|\\phantom{\\verb!x!}\\verb|0,|\\phantom{\\verb!x!}\\verb|1,|\\phantom{\\verb!x!}\\verb|1,|\\phantom{\\verb!x!}\\verb|0,|\\phantom{\\verb!x!}\\verb|1,|\\phantom{\\verb!x!}\\verb|0]|, \\left\\{\\verb|mon| : \\left(\\begin{array}{rr}\n",
       "1 & -2 \\, l \\\\\n",
       "2 \\, l & -4 \\, l^{2} + 1\n",
       "\\end{array}\\right), \\verb|sol| : \\left[0\\right], \\verb|trace| : \\left[2\\right]\\right\\}\\right)\n",
       "\\end{math}"
      ],
      "text/plain": [
       "('[0, 1, 0, 1, 1, 0, 1, 0]',\n",
       " {'mon': [         1       -2*l]\n",
       "  [       2*l -4*l^2 + 1], 'sol': [0], 'trace': [2]})"
      ]
     },
     "metadata": {},
     "output_type": "display_data"
    },
    {
     "data": {
      "text/html": [
       "<html><script type=\"math/tex; mode=display\">\\newcommand{\\Bold}[1]{\\mathbf{#1}}\\left(\\verb|[1,|\\phantom{\\verb!x!}\\verb|1,|\\phantom{\\verb!x!}\\verb|0,|\\phantom{\\verb!x!}\\verb|1,|\\phantom{\\verb!x!}\\verb|1,|\\phantom{\\verb!x!}\\verb|0,|\\phantom{\\verb!x!}\\verb|1,|\\phantom{\\verb!x!}\\verb|0]|, \\left\\{\\verb|mon| : \\left(\\begin{array}{rr}\n",
       "-2 \\, l^{2} + 1 & -2 \\, l \\\\\n",
       "-4 \\, l^{3} + 3 \\, l & -4 \\, l^{2} + 1\n",
       "\\end{array}\\right), \\verb|sol| : \\left[-\\frac{1}{2} \\, \\sqrt{3}, 0, \\frac{1}{2} \\, \\sqrt{3}\\right], \\verb|trace| : \\left[-\\frac{5}{2}, 2, -\\frac{5}{2}\\right]\\right\\}\\right)</script></html>"
      ],
      "text/latex": [
       "\\begin{math}\n",
       "\\newcommand{\\Bold}[1]{\\mathbf{#1}}\\left(\\verb|[1,|\\phantom{\\verb!x!}\\verb|1,|\\phantom{\\verb!x!}\\verb|0,|\\phantom{\\verb!x!}\\verb|1,|\\phantom{\\verb!x!}\\verb|1,|\\phantom{\\verb!x!}\\verb|0,|\\phantom{\\verb!x!}\\verb|1,|\\phantom{\\verb!x!}\\verb|0]|, \\left\\{\\verb|mon| : \\left(\\begin{array}{rr}\n",
       "-2 \\, l^{2} + 1 & -2 \\, l \\\\\n",
       "-4 \\, l^{3} + 3 \\, l & -4 \\, l^{2} + 1\n",
       "\\end{array}\\right), \\verb|sol| : \\left[-\\frac{1}{2} \\, \\sqrt{3}, 0, \\frac{1}{2} \\, \\sqrt{3}\\right], \\verb|trace| : \\left[-\\frac{5}{2}, 2, -\\frac{5}{2}\\right]\\right\\}\\right)\n",
       "\\end{math}"
      ],
      "text/plain": [
       "('[1, 1, 0, 1, 1, 0, 1, 0]',\n",
       " {'mon': [  -2*l^2 + 1         -2*l]\n",
       "  [-4*l^3 + 3*l   -4*l^2 + 1],\n",
       "  'sol': [-1/2*sqrt(3), 0, 1/2*sqrt(3)],\n",
       "  'trace': [-5/2, 2, -5/2]})"
      ]
     },
     "metadata": {},
     "output_type": "display_data"
    },
    {
     "data": {
      "text/html": [
       "<html><script type=\"math/tex; mode=display\">\\newcommand{\\Bold}[1]{\\mathbf{#1}}\\left(\\verb|[0,|\\phantom{\\verb!x!}\\verb|0,|\\phantom{\\verb!x!}\\verb|1,|\\phantom{\\verb!x!}\\verb|1,|\\phantom{\\verb!x!}\\verb|1,|\\phantom{\\verb!x!}\\verb|0,|\\phantom{\\verb!x!}\\verb|1,|\\phantom{\\verb!x!}\\verb|0]|, \\left\\{\\verb|mon| : \\left(\\begin{array}{rr}\n",
       "-l^{2} + 1 & -l \\\\\n",
       "-2 \\, l^{3} + 3 \\, l & -2 \\, l^{2} + 1\n",
       "\\end{array}\\right), \\verb|sol| : \\left[-\\frac{1}{2} \\, \\sqrt{3} \\sqrt{2}, 0, \\frac{1}{2} \\, \\sqrt{3} \\sqrt{2}\\right], \\verb|trace| : \\left[-\\frac{5}{2}, 2, -\\frac{5}{2}\\right]\\right\\}\\right)</script></html>"
      ],
      "text/latex": [
       "\\begin{math}\n",
       "\\newcommand{\\Bold}[1]{\\mathbf{#1}}\\left(\\verb|[0,|\\phantom{\\verb!x!}\\verb|0,|\\phantom{\\verb!x!}\\verb|1,|\\phantom{\\verb!x!}\\verb|1,|\\phantom{\\verb!x!}\\verb|1,|\\phantom{\\verb!x!}\\verb|0,|\\phantom{\\verb!x!}\\verb|1,|\\phantom{\\verb!x!}\\verb|0]|, \\left\\{\\verb|mon| : \\left(\\begin{array}{rr}\n",
       "-l^{2} + 1 & -l \\\\\n",
       "-2 \\, l^{3} + 3 \\, l & -2 \\, l^{2} + 1\n",
       "\\end{array}\\right), \\verb|sol| : \\left[-\\frac{1}{2} \\, \\sqrt{3} \\sqrt{2}, 0, \\frac{1}{2} \\, \\sqrt{3} \\sqrt{2}\\right], \\verb|trace| : \\left[-\\frac{5}{2}, 2, -\\frac{5}{2}\\right]\\right\\}\\right)\n",
       "\\end{math}"
      ],
      "text/plain": [
       "('[0, 0, 1, 1, 1, 0, 1, 0]',\n",
       " {'mon': [    -l^2 + 1           -l]\n",
       "  [-2*l^3 + 3*l   -2*l^2 + 1],\n",
       "  'sol': [-1/2*sqrt(3)*sqrt(2), 0, 1/2*sqrt(3)*sqrt(2)],\n",
       "  'trace': [-5/2, 2, -5/2]})"
      ]
     },
     "metadata": {},
     "output_type": "display_data"
    },
    {
     "data": {
      "text/html": [
       "<html><script type=\"math/tex; mode=display\">\\newcommand{\\Bold}[1]{\\mathbf{#1}}\\left(\\verb|[1,|\\phantom{\\verb!x!}\\verb|0,|\\phantom{\\verb!x!}\\verb|1,|\\phantom{\\verb!x!}\\verb|1,|\\phantom{\\verb!x!}\\verb|1,|\\phantom{\\verb!x!}\\verb|0,|\\phantom{\\verb!x!}\\verb|1,|\\phantom{\\verb!x!}\\verb|0]|, \\left\\{\\verb|mon| : \\left(\\begin{array}{rr}\n",
       "-2 \\, l^{2} + 1 & -l \\\\\n",
       "-4 \\, l^{3} + 4 \\, l & -2 \\, l^{2} + 1\n",
       "\\end{array}\\right), \\verb|sol| : \\left[-1, 0, 1\\right], \\verb|trace| : \\left[-2, 2, -2\\right]\\right\\}\\right)</script></html>"
      ],
      "text/latex": [
       "\\begin{math}\n",
       "\\newcommand{\\Bold}[1]{\\mathbf{#1}}\\left(\\verb|[1,|\\phantom{\\verb!x!}\\verb|0,|\\phantom{\\verb!x!}\\verb|1,|\\phantom{\\verb!x!}\\verb|1,|\\phantom{\\verb!x!}\\verb|1,|\\phantom{\\verb!x!}\\verb|0,|\\phantom{\\verb!x!}\\verb|1,|\\phantom{\\verb!x!}\\verb|0]|, \\left\\{\\verb|mon| : \\left(\\begin{array}{rr}\n",
       "-2 \\, l^{2} + 1 & -l \\\\\n",
       "-4 \\, l^{3} + 4 \\, l & -2 \\, l^{2} + 1\n",
       "\\end{array}\\right), \\verb|sol| : \\left[-1, 0, 1\\right], \\verb|trace| : \\left[-2, 2, -2\\right]\\right\\}\\right)\n",
       "\\end{math}"
      ],
      "text/plain": [
       "('[1, 0, 1, 1, 1, 0, 1, 0]',\n",
       " {'mon': [  -2*l^2 + 1           -l]\n",
       "  [-4*l^3 + 4*l   -2*l^2 + 1], 'sol': [-1, 0, 1], 'trace': [-2, 2, -2]})"
      ]
     },
     "metadata": {},
     "output_type": "display_data"
    },
    {
     "data": {
      "text/html": [
       "<html><script type=\"math/tex; mode=display\">\\newcommand{\\Bold}[1]{\\mathbf{#1}}\\left(\\verb|[0,|\\phantom{\\verb!x!}\\verb|1,|\\phantom{\\verb!x!}\\verb|1,|\\phantom{\\verb!x!}\\verb|1,|\\phantom{\\verb!x!}\\verb|1,|\\phantom{\\verb!x!}\\verb|0,|\\phantom{\\verb!x!}\\verb|1,|\\phantom{\\verb!x!}\\verb|0]|, \\left\\{\\verb|mon| : \\left(\\begin{array}{rr}\n",
       "-l^{2} + 1 & l^{3} - 2 \\, l \\\\\n",
       "-2 \\, l^{3} + 3 \\, l & 2 \\, l^{4} - 5 \\, l^{2} + 1\n",
       "\\end{array}\\right), \\verb|sol| : \\left[-\\frac{1}{2} \\, \\sqrt{3} \\sqrt{2}, 0, \\frac{1}{2} \\, \\sqrt{3} \\sqrt{2}\\right], \\verb|trace| : \\left[-\\frac{5}{2}, 2, -\\frac{5}{2}\\right]\\right\\}\\right)</script></html>"
      ],
      "text/latex": [
       "\\begin{math}\n",
       "\\newcommand{\\Bold}[1]{\\mathbf{#1}}\\left(\\verb|[0,|\\phantom{\\verb!x!}\\verb|1,|\\phantom{\\verb!x!}\\verb|1,|\\phantom{\\verb!x!}\\verb|1,|\\phantom{\\verb!x!}\\verb|1,|\\phantom{\\verb!x!}\\verb|0,|\\phantom{\\verb!x!}\\verb|1,|\\phantom{\\verb!x!}\\verb|0]|, \\left\\{\\verb|mon| : \\left(\\begin{array}{rr}\n",
       "-l^{2} + 1 & l^{3} - 2 \\, l \\\\\n",
       "-2 \\, l^{3} + 3 \\, l & 2 \\, l^{4} - 5 \\, l^{2} + 1\n",
       "\\end{array}\\right), \\verb|sol| : \\left[-\\frac{1}{2} \\, \\sqrt{3} \\sqrt{2}, 0, \\frac{1}{2} \\, \\sqrt{3} \\sqrt{2}\\right], \\verb|trace| : \\left[-\\frac{5}{2}, 2, -\\frac{5}{2}\\right]\\right\\}\\right)\n",
       "\\end{math}"
      ],
      "text/plain": [
       "('[0, 1, 1, 1, 1, 0, 1, 0]',\n",
       " {'mon': [         -l^2 + 1         l^3 - 2*l]\n",
       "  [     -2*l^3 + 3*l 2*l^4 - 5*l^2 + 1],\n",
       "  'sol': [-1/2*sqrt(3)*sqrt(2), 0, 1/2*sqrt(3)*sqrt(2)],\n",
       "  'trace': [-5/2, 2, -5/2]})"
      ]
     },
     "metadata": {},
     "output_type": "display_data"
    },
    {
     "data": {
      "text/html": [
       "<html><script type=\"math/tex; mode=display\">\\newcommand{\\Bold}[1]{\\mathbf{#1}}\\left(\\verb|[1,|\\phantom{\\verb!x!}\\verb|1,|\\phantom{\\verb!x!}\\verb|1,|\\phantom{\\verb!x!}\\verb|1,|\\phantom{\\verb!x!}\\verb|1,|\\phantom{\\verb!x!}\\verb|0,|\\phantom{\\verb!x!}\\verb|1,|\\phantom{\\verb!x!}\\verb|0]|, \\left\\{\\verb|mon| : \\left(\\begin{array}{rr}\n",
       "l^{4} - 3 \\, l^{2} + 1 & l^{3} - 2 \\, l \\\\\n",
       "2 \\, l^{5} - 7 \\, l^{3} + 4 \\, l & 2 \\, l^{4} - 5 \\, l^{2} + 1\n",
       "\\end{array}\\right), \\verb|sol| : \\left[-\\frac{1}{2} \\, \\sqrt{\\sqrt{17} + 7}, -\\frac{1}{2} \\, \\sqrt{-\\sqrt{17} + 7}, 0, \\frac{1}{2} \\, \\sqrt{-\\sqrt{17} + 7}, \\frac{1}{2} \\, \\sqrt{\\sqrt{17} + 7}\\right], \\verb|trace| : \\left[\\frac{3}{16} \\, {\\left(\\sqrt{17} + 7\\right)}^{2} - 2 \\, \\sqrt{17} - 12, \\frac{3}{16} \\, {\\left(\\sqrt{17} - 7\\right)}^{2} + 2 \\, \\sqrt{17} - 12, 2, \\frac{3}{16} \\, {\\left(\\sqrt{17} - 7\\right)}^{2} + 2 \\, \\sqrt{17} - 12, \\frac{3}{16} \\, {\\left(\\sqrt{17} + 7\\right)}^{2} - 2 \\, \\sqrt{17} - 12\\right]\\right\\}\\right)</script></html>"
      ],
      "text/latex": [
       "\\begin{math}\n",
       "\\newcommand{\\Bold}[1]{\\mathbf{#1}}\\left(\\verb|[1,|\\phantom{\\verb!x!}\\verb|1,|\\phantom{\\verb!x!}\\verb|1,|\\phantom{\\verb!x!}\\verb|1,|\\phantom{\\verb!x!}\\verb|1,|\\phantom{\\verb!x!}\\verb|0,|\\phantom{\\verb!x!}\\verb|1,|\\phantom{\\verb!x!}\\verb|0]|, \\left\\{\\verb|mon| : \\left(\\begin{array}{rr}\n",
       "l^{4} - 3 \\, l^{2} + 1 & l^{3} - 2 \\, l \\\\\n",
       "2 \\, l^{5} - 7 \\, l^{3} + 4 \\, l & 2 \\, l^{4} - 5 \\, l^{2} + 1\n",
       "\\end{array}\\right), \\verb|sol| : \\left[-\\frac{1}{2} \\, \\sqrt{\\sqrt{17} + 7}, -\\frac{1}{2} \\, \\sqrt{-\\sqrt{17} + 7}, 0, \\frac{1}{2} \\, \\sqrt{-\\sqrt{17} + 7}, \\frac{1}{2} \\, \\sqrt{\\sqrt{17} + 7}\\right], \\verb|trace| : \\left[\\frac{3}{16} \\, {\\left(\\sqrt{17} + 7\\right)}^{2} - 2 \\, \\sqrt{17} - 12, \\frac{3}{16} \\, {\\left(\\sqrt{17} - 7\\right)}^{2} + 2 \\, \\sqrt{17} - 12, 2, \\frac{3}{16} \\, {\\left(\\sqrt{17} - 7\\right)}^{2} + 2 \\, \\sqrt{17} - 12, \\frac{3}{16} \\, {\\left(\\sqrt{17} + 7\\right)}^{2} - 2 \\, \\sqrt{17} - 12\\right]\\right\\}\\right)\n",
       "\\end{math}"
      ],
      "text/plain": [
       "('[1, 1, 1, 1, 1, 0, 1, 0]',\n",
       " {'mon': [    l^4 - 3*l^2 + 1           l^3 - 2*l]\n",
       "  [2*l^5 - 7*l^3 + 4*l   2*l^4 - 5*l^2 + 1],\n",
       "  'sol': [-1/2*sqrt(sqrt(17) + 7),\n",
       "   -1/2*sqrt(-sqrt(17) + 7),\n",
       "   0,\n",
       "   1/2*sqrt(-sqrt(17) + 7),\n",
       "   1/2*sqrt(sqrt(17) + 7)],\n",
       "  'trace': [3/16*(sqrt(17) + 7)^2 - 2*sqrt(17) - 12,\n",
       "   3/16*(sqrt(17) - 7)^2 + 2*sqrt(17) - 12,\n",
       "   2,\n",
       "   3/16*(sqrt(17) - 7)^2 + 2*sqrt(17) - 12,\n",
       "   3/16*(sqrt(17) + 7)^2 - 2*sqrt(17) - 12]})"
      ]
     },
     "metadata": {},
     "output_type": "display_data"
    },
    {
     "data": {
      "text/html": [
       "<html><script type=\"math/tex; mode=display\">\\newcommand{\\Bold}[1]{\\mathbf{#1}}\\left(\\verb|[0,|\\phantom{\\verb!x!}\\verb|0,|\\phantom{\\verb!x!}\\verb|0,|\\phantom{\\verb!x!}\\verb|0,|\\phantom{\\verb!x!}\\verb|0,|\\phantom{\\verb!x!}\\verb|1,|\\phantom{\\verb!x!}\\verb|1,|\\phantom{\\verb!x!}\\verb|0]|, \\left\\{\\verb|mon| : \\left(\\begin{array}{rr}\n",
       "1 & -l \\\\\n",
       "l & -l^{2} + 1\n",
       "\\end{array}\\right), \\verb|sol| : \\left[0\\right], \\verb|trace| : \\left[2\\right]\\right\\}\\right)</script></html>"
      ],
      "text/latex": [
       "\\begin{math}\n",
       "\\newcommand{\\Bold}[1]{\\mathbf{#1}}\\left(\\verb|[0,|\\phantom{\\verb!x!}\\verb|0,|\\phantom{\\verb!x!}\\verb|0,|\\phantom{\\verb!x!}\\verb|0,|\\phantom{\\verb!x!}\\verb|0,|\\phantom{\\verb!x!}\\verb|1,|\\phantom{\\verb!x!}\\verb|1,|\\phantom{\\verb!x!}\\verb|0]|, \\left\\{\\verb|mon| : \\left(\\begin{array}{rr}\n",
       "1 & -l \\\\\n",
       "l & -l^{2} + 1\n",
       "\\end{array}\\right), \\verb|sol| : \\left[0\\right], \\verb|trace| : \\left[2\\right]\\right\\}\\right)\n",
       "\\end{math}"
      ],
      "text/plain": [
       "('[0, 0, 0, 0, 0, 1, 1, 0]',\n",
       " {'mon': [       1       -l]\n",
       "  [       l -l^2 + 1], 'sol': [0], 'trace': [2]})"
      ]
     },
     "metadata": {},
     "output_type": "display_data"
    },
    {
     "data": {
      "text/html": [
       "<html><script type=\"math/tex; mode=display\">\\newcommand{\\Bold}[1]{\\mathbf{#1}}\\left(\\verb|[1,|\\phantom{\\verb!x!}\\verb|0,|\\phantom{\\verb!x!}\\verb|0,|\\phantom{\\verb!x!}\\verb|0,|\\phantom{\\verb!x!}\\verb|0,|\\phantom{\\verb!x!}\\verb|1,|\\phantom{\\verb!x!}\\verb|1,|\\phantom{\\verb!x!}\\verb|0]|, \\left\\{\\verb|mon| : \\left(\\begin{array}{rr}\n",
       "-l^{2} + 1 & -l \\\\\n",
       "-l^{3} + 2 \\, l & -l^{2} + 1\n",
       "\\end{array}\\right), \\verb|sol| : \\left[-\\sqrt{2}, 0, \\sqrt{2}\\right], \\verb|trace| : \\left[-2, 2, -2\\right]\\right\\}\\right)</script></html>"
      ],
      "text/latex": [
       "\\begin{math}\n",
       "\\newcommand{\\Bold}[1]{\\mathbf{#1}}\\left(\\verb|[1,|\\phantom{\\verb!x!}\\verb|0,|\\phantom{\\verb!x!}\\verb|0,|\\phantom{\\verb!x!}\\verb|0,|\\phantom{\\verb!x!}\\verb|0,|\\phantom{\\verb!x!}\\verb|1,|\\phantom{\\verb!x!}\\verb|1,|\\phantom{\\verb!x!}\\verb|0]|, \\left\\{\\verb|mon| : \\left(\\begin{array}{rr}\n",
       "-l^{2} + 1 & -l \\\\\n",
       "-l^{3} + 2 \\, l & -l^{2} + 1\n",
       "\\end{array}\\right), \\verb|sol| : \\left[-\\sqrt{2}, 0, \\sqrt{2}\\right], \\verb|trace| : \\left[-2, 2, -2\\right]\\right\\}\\right)\n",
       "\\end{math}"
      ],
      "text/plain": [
       "('[1, 0, 0, 0, 0, 1, 1, 0]',\n",
       " {'mon': [  -l^2 + 1         -l]\n",
       "  [-l^3 + 2*l   -l^2 + 1],\n",
       "  'sol': [-sqrt(2), 0, sqrt(2)],\n",
       "  'trace': [-2, 2, -2]})"
      ]
     },
     "metadata": {},
     "output_type": "display_data"
    },
    {
     "data": {
      "text/html": [
       "<html><script type=\"math/tex; mode=display\">\\newcommand{\\Bold}[1]{\\mathbf{#1}}\\left(\\verb|[0,|\\phantom{\\verb!x!}\\verb|1,|\\phantom{\\verb!x!}\\verb|0,|\\phantom{\\verb!x!}\\verb|0,|\\phantom{\\verb!x!}\\verb|0,|\\phantom{\\verb!x!}\\verb|1,|\\phantom{\\verb!x!}\\verb|1,|\\phantom{\\verb!x!}\\verb|0]|, \\left\\{\\verb|mon| : \\left(\\begin{array}{rr}\n",
       "1 & -2 \\, l \\\\\n",
       "l & -2 \\, l^{2} + 1\n",
       "\\end{array}\\right), \\verb|sol| : \\left[0\\right], \\verb|trace| : \\left[2\\right]\\right\\}\\right)</script></html>"
      ],
      "text/latex": [
       "\\begin{math}\n",
       "\\newcommand{\\Bold}[1]{\\mathbf{#1}}\\left(\\verb|[0,|\\phantom{\\verb!x!}\\verb|1,|\\phantom{\\verb!x!}\\verb|0,|\\phantom{\\verb!x!}\\verb|0,|\\phantom{\\verb!x!}\\verb|0,|\\phantom{\\verb!x!}\\verb|1,|\\phantom{\\verb!x!}\\verb|1,|\\phantom{\\verb!x!}\\verb|0]|, \\left\\{\\verb|mon| : \\left(\\begin{array}{rr}\n",
       "1 & -2 \\, l \\\\\n",
       "l & -2 \\, l^{2} + 1\n",
       "\\end{array}\\right), \\verb|sol| : \\left[0\\right], \\verb|trace| : \\left[2\\right]\\right\\}\\right)\n",
       "\\end{math}"
      ],
      "text/plain": [
       "('[0, 1, 0, 0, 0, 1, 1, 0]',\n",
       " {'mon': [         1       -2*l]\n",
       "  [         l -2*l^2 + 1], 'sol': [0], 'trace': [2]})"
      ]
     },
     "metadata": {},
     "output_type": "display_data"
    },
    {
     "data": {
      "text/html": [
       "<html><script type=\"math/tex; mode=display\">\\newcommand{\\Bold}[1]{\\mathbf{#1}}\\left(\\verb|[1,|\\phantom{\\verb!x!}\\verb|1,|\\phantom{\\verb!x!}\\verb|0,|\\phantom{\\verb!x!}\\verb|0,|\\phantom{\\verb!x!}\\verb|0,|\\phantom{\\verb!x!}\\verb|1,|\\phantom{\\verb!x!}\\verb|1,|\\phantom{\\verb!x!}\\verb|0]|, \\left\\{\\verb|mon| : \\left(\\begin{array}{rr}\n",
       "-2 \\, l^{2} + 1 & -2 \\, l \\\\\n",
       "-2 \\, l^{3} + 2 \\, l & -2 \\, l^{2} + 1\n",
       "\\end{array}\\right), \\verb|sol| : \\left[-1, 0, 1\\right], \\verb|trace| : \\left[-2, 2, -2\\right]\\right\\}\\right)</script></html>"
      ],
      "text/latex": [
       "\\begin{math}\n",
       "\\newcommand{\\Bold}[1]{\\mathbf{#1}}\\left(\\verb|[1,|\\phantom{\\verb!x!}\\verb|1,|\\phantom{\\verb!x!}\\verb|0,|\\phantom{\\verb!x!}\\verb|0,|\\phantom{\\verb!x!}\\verb|0,|\\phantom{\\verb!x!}\\verb|1,|\\phantom{\\verb!x!}\\verb|1,|\\phantom{\\verb!x!}\\verb|0]|, \\left\\{\\verb|mon| : \\left(\\begin{array}{rr}\n",
       "-2 \\, l^{2} + 1 & -2 \\, l \\\\\n",
       "-2 \\, l^{3} + 2 \\, l & -2 \\, l^{2} + 1\n",
       "\\end{array}\\right), \\verb|sol| : \\left[-1, 0, 1\\right], \\verb|trace| : \\left[-2, 2, -2\\right]\\right\\}\\right)\n",
       "\\end{math}"
      ],
      "text/plain": [
       "('[1, 1, 0, 0, 0, 1, 1, 0]',\n",
       " {'mon': [  -2*l^2 + 1         -2*l]\n",
       "  [-2*l^3 + 2*l   -2*l^2 + 1], 'sol': [-1, 0, 1], 'trace': [-2, 2, -2]})"
      ]
     },
     "metadata": {},
     "output_type": "display_data"
    },
    {
     "data": {
      "text/html": [
       "<html><script type=\"math/tex; mode=display\">\\newcommand{\\Bold}[1]{\\mathbf{#1}}\\left(\\verb|[0,|\\phantom{\\verb!x!}\\verb|0,|\\phantom{\\verb!x!}\\verb|1,|\\phantom{\\verb!x!}\\verb|0,|\\phantom{\\verb!x!}\\verb|0,|\\phantom{\\verb!x!}\\verb|1,|\\phantom{\\verb!x!}\\verb|1,|\\phantom{\\verb!x!}\\verb|0]|, \\left\\{\\verb|mon| : \\left(\\begin{array}{rr}\n",
       "-l^{2} + 1 & -l \\\\\n",
       "-l^{3} + 2 \\, l & -l^{2} + 1\n",
       "\\end{array}\\right), \\verb|sol| : \\left[-\\sqrt{2}, 0, \\sqrt{2}\\right], \\verb|trace| : \\left[-2, 2, -2\\right]\\right\\}\\right)</script></html>"
      ],
      "text/latex": [
       "\\begin{math}\n",
       "\\newcommand{\\Bold}[1]{\\mathbf{#1}}\\left(\\verb|[0,|\\phantom{\\verb!x!}\\verb|0,|\\phantom{\\verb!x!}\\verb|1,|\\phantom{\\verb!x!}\\verb|0,|\\phantom{\\verb!x!}\\verb|0,|\\phantom{\\verb!x!}\\verb|1,|\\phantom{\\verb!x!}\\verb|1,|\\phantom{\\verb!x!}\\verb|0]|, \\left\\{\\verb|mon| : \\left(\\begin{array}{rr}\n",
       "-l^{2} + 1 & -l \\\\\n",
       "-l^{3} + 2 \\, l & -l^{2} + 1\n",
       "\\end{array}\\right), \\verb|sol| : \\left[-\\sqrt{2}, 0, \\sqrt{2}\\right], \\verb|trace| : \\left[-2, 2, -2\\right]\\right\\}\\right)\n",
       "\\end{math}"
      ],
      "text/plain": [
       "('[0, 0, 1, 0, 0, 1, 1, 0]',\n",
       " {'mon': [  -l^2 + 1         -l]\n",
       "  [-l^3 + 2*l   -l^2 + 1],\n",
       "  'sol': [-sqrt(2), 0, sqrt(2)],\n",
       "  'trace': [-2, 2, -2]})"
      ]
     },
     "metadata": {},
     "output_type": "display_data"
    },
    {
     "data": {
      "text/html": [
       "<html><script type=\"math/tex; mode=display\">\\newcommand{\\Bold}[1]{\\mathbf{#1}}\\left(\\verb|[1,|\\phantom{\\verb!x!}\\verb|0,|\\phantom{\\verb!x!}\\verb|1,|\\phantom{\\verb!x!}\\verb|0,|\\phantom{\\verb!x!}\\verb|0,|\\phantom{\\verb!x!}\\verb|1,|\\phantom{\\verb!x!}\\verb|1,|\\phantom{\\verb!x!}\\verb|0]|, \\left\\{\\verb|mon| : \\left(\\begin{array}{rr}\n",
       "-2 \\, l^{2} + 1 & -l \\\\\n",
       "-2 \\, l^{3} + 3 \\, l & -l^{2} + 1\n",
       "\\end{array}\\right), \\verb|sol| : \\left[-\\frac{1}{2} \\, \\sqrt{3} \\sqrt{2}, 0, \\frac{1}{2} \\, \\sqrt{3} \\sqrt{2}\\right], \\verb|trace| : \\left[-\\frac{5}{2}, 2, -\\frac{5}{2}\\right]\\right\\}\\right)</script></html>"
      ],
      "text/latex": [
       "\\begin{math}\n",
       "\\newcommand{\\Bold}[1]{\\mathbf{#1}}\\left(\\verb|[1,|\\phantom{\\verb!x!}\\verb|0,|\\phantom{\\verb!x!}\\verb|1,|\\phantom{\\verb!x!}\\verb|0,|\\phantom{\\verb!x!}\\verb|0,|\\phantom{\\verb!x!}\\verb|1,|\\phantom{\\verb!x!}\\verb|1,|\\phantom{\\verb!x!}\\verb|0]|, \\left\\{\\verb|mon| : \\left(\\begin{array}{rr}\n",
       "-2 \\, l^{2} + 1 & -l \\\\\n",
       "-2 \\, l^{3} + 3 \\, l & -l^{2} + 1\n",
       "\\end{array}\\right), \\verb|sol| : \\left[-\\frac{1}{2} \\, \\sqrt{3} \\sqrt{2}, 0, \\frac{1}{2} \\, \\sqrt{3} \\sqrt{2}\\right], \\verb|trace| : \\left[-\\frac{5}{2}, 2, -\\frac{5}{2}\\right]\\right\\}\\right)\n",
       "\\end{math}"
      ],
      "text/plain": [
       "('[1, 0, 1, 0, 0, 1, 1, 0]',\n",
       " {'mon': [  -2*l^2 + 1           -l]\n",
       "  [-2*l^3 + 3*l     -l^2 + 1],\n",
       "  'sol': [-1/2*sqrt(3)*sqrt(2), 0, 1/2*sqrt(3)*sqrt(2)],\n",
       "  'trace': [-5/2, 2, -5/2]})"
      ]
     },
     "metadata": {},
     "output_type": "display_data"
    },
    {
     "data": {
      "text/html": [
       "<html><script type=\"math/tex; mode=display\">\\newcommand{\\Bold}[1]{\\mathbf{#1}}\\left(\\verb|[0,|\\phantom{\\verb!x!}\\verb|1,|\\phantom{\\verb!x!}\\verb|1,|\\phantom{\\verb!x!}\\verb|0,|\\phantom{\\verb!x!}\\verb|0,|\\phantom{\\verb!x!}\\verb|1,|\\phantom{\\verb!x!}\\verb|1,|\\phantom{\\verb!x!}\\verb|0]|, \\left\\{\\verb|mon| : \\left(\\begin{array}{rr}\n",
       "-l^{2} + 1 & l^{3} - 2 \\, l \\\\\n",
       "-l^{3} + 2 \\, l & l^{4} - 3 \\, l^{2} + 1\n",
       "\\end{array}\\right), \\verb|sol| : \\left[-\\sqrt{2}, 0, \\sqrt{2}\\right], \\verb|trace| : \\left[-2, 2, -2\\right]\\right\\}\\right)</script></html>"
      ],
      "text/latex": [
       "\\begin{math}\n",
       "\\newcommand{\\Bold}[1]{\\mathbf{#1}}\\left(\\verb|[0,|\\phantom{\\verb!x!}\\verb|1,|\\phantom{\\verb!x!}\\verb|1,|\\phantom{\\verb!x!}\\verb|0,|\\phantom{\\verb!x!}\\verb|0,|\\phantom{\\verb!x!}\\verb|1,|\\phantom{\\verb!x!}\\verb|1,|\\phantom{\\verb!x!}\\verb|0]|, \\left\\{\\verb|mon| : \\left(\\begin{array}{rr}\n",
       "-l^{2} + 1 & l^{3} - 2 \\, l \\\\\n",
       "-l^{3} + 2 \\, l & l^{4} - 3 \\, l^{2} + 1\n",
       "\\end{array}\\right), \\verb|sol| : \\left[-\\sqrt{2}, 0, \\sqrt{2}\\right], \\verb|trace| : \\left[-2, 2, -2\\right]\\right\\}\\right)\n",
       "\\end{math}"
      ],
      "text/plain": [
       "('[0, 1, 1, 0, 0, 1, 1, 0]',\n",
       " {'mon': [       -l^2 + 1       l^3 - 2*l]\n",
       "  [     -l^3 + 2*l l^4 - 3*l^2 + 1],\n",
       "  'sol': [-sqrt(2), 0, sqrt(2)],\n",
       "  'trace': [-2, 2, -2]})"
      ]
     },
     "metadata": {},
     "output_type": "display_data"
    },
    {
     "data": {
      "text/html": [
       "<html><script type=\"math/tex; mode=display\">\\newcommand{\\Bold}[1]{\\mathbf{#1}}\\left(\\verb|[1,|\\phantom{\\verb!x!}\\verb|1,|\\phantom{\\verb!x!}\\verb|1,|\\phantom{\\verb!x!}\\verb|0,|\\phantom{\\verb!x!}\\verb|0,|\\phantom{\\verb!x!}\\verb|1,|\\phantom{\\verb!x!}\\verb|1,|\\phantom{\\verb!x!}\\verb|0]|, \\left\\{\\verb|mon| : \\left(\\begin{array}{rr}\n",
       "l^{4} - 3 \\, l^{2} + 1 & l^{3} - 2 \\, l \\\\\n",
       "l^{5} - 4 \\, l^{3} + 3 \\, l & l^{4} - 3 \\, l^{2} + 1\n",
       "\\end{array}\\right), \\verb|sol| : \\left[-\\sqrt{3}, -1, 0, 1, \\sqrt{3}\\right], \\verb|trace| : \\left[2, -2, 2, -2, 2\\right]\\right\\}\\right)</script></html>"
      ],
      "text/latex": [
       "\\begin{math}\n",
       "\\newcommand{\\Bold}[1]{\\mathbf{#1}}\\left(\\verb|[1,|\\phantom{\\verb!x!}\\verb|1,|\\phantom{\\verb!x!}\\verb|1,|\\phantom{\\verb!x!}\\verb|0,|\\phantom{\\verb!x!}\\verb|0,|\\phantom{\\verb!x!}\\verb|1,|\\phantom{\\verb!x!}\\verb|1,|\\phantom{\\verb!x!}\\verb|0]|, \\left\\{\\verb|mon| : \\left(\\begin{array}{rr}\n",
       "l^{4} - 3 \\, l^{2} + 1 & l^{3} - 2 \\, l \\\\\n",
       "l^{5} - 4 \\, l^{3} + 3 \\, l & l^{4} - 3 \\, l^{2} + 1\n",
       "\\end{array}\\right), \\verb|sol| : \\left[-\\sqrt{3}, -1, 0, 1, \\sqrt{3}\\right], \\verb|trace| : \\left[2, -2, 2, -2, 2\\right]\\right\\}\\right)\n",
       "\\end{math}"
      ],
      "text/plain": [
       "('[1, 1, 1, 0, 0, 1, 1, 0]',\n",
       " {'mon': [  l^4 - 3*l^2 + 1         l^3 - 2*l]\n",
       "  [l^5 - 4*l^3 + 3*l   l^4 - 3*l^2 + 1],\n",
       "  'sol': [-sqrt(3), -1, 0, 1, sqrt(3)],\n",
       "  'trace': [2, -2, 2, -2, 2]})"
      ]
     },
     "metadata": {},
     "output_type": "display_data"
    },
    {
     "data": {
      "text/html": [
       "<html><script type=\"math/tex; mode=display\">\\newcommand{\\Bold}[1]{\\mathbf{#1}}\\left(\\verb|[0,|\\phantom{\\verb!x!}\\verb|0,|\\phantom{\\verb!x!}\\verb|0,|\\phantom{\\verb!x!}\\verb|1,|\\phantom{\\verb!x!}\\verb|0,|\\phantom{\\verb!x!}\\verb|1,|\\phantom{\\verb!x!}\\verb|1,|\\phantom{\\verb!x!}\\verb|0]|, \\left\\{\\verb|mon| : \\left(\\begin{array}{rr}\n",
       "1 & -2 \\, l \\\\\n",
       "l & -2 \\, l^{2} + 1\n",
       "\\end{array}\\right), \\verb|sol| : \\left[0\\right], \\verb|trace| : \\left[2\\right]\\right\\}\\right)</script></html>"
      ],
      "text/latex": [
       "\\begin{math}\n",
       "\\newcommand{\\Bold}[1]{\\mathbf{#1}}\\left(\\verb|[0,|\\phantom{\\verb!x!}\\verb|0,|\\phantom{\\verb!x!}\\verb|0,|\\phantom{\\verb!x!}\\verb|1,|\\phantom{\\verb!x!}\\verb|0,|\\phantom{\\verb!x!}\\verb|1,|\\phantom{\\verb!x!}\\verb|1,|\\phantom{\\verb!x!}\\verb|0]|, \\left\\{\\verb|mon| : \\left(\\begin{array}{rr}\n",
       "1 & -2 \\, l \\\\\n",
       "l & -2 \\, l^{2} + 1\n",
       "\\end{array}\\right), \\verb|sol| : \\left[0\\right], \\verb|trace| : \\left[2\\right]\\right\\}\\right)\n",
       "\\end{math}"
      ],
      "text/plain": [
       "('[0, 0, 0, 1, 0, 1, 1, 0]',\n",
       " {'mon': [         1       -2*l]\n",
       "  [         l -2*l^2 + 1], 'sol': [0], 'trace': [2]})"
      ]
     },
     "metadata": {},
     "output_type": "display_data"
    },
    {
     "data": {
      "text/html": [
       "<html><script type=\"math/tex; mode=display\">\\newcommand{\\Bold}[1]{\\mathbf{#1}}\\left(\\verb|[1,|\\phantom{\\verb!x!}\\verb|0,|\\phantom{\\verb!x!}\\verb|0,|\\phantom{\\verb!x!}\\verb|1,|\\phantom{\\verb!x!}\\verb|0,|\\phantom{\\verb!x!}\\verb|1,|\\phantom{\\verb!x!}\\verb|1,|\\phantom{\\verb!x!}\\verb|0]|, \\left\\{\\verb|mon| : \\left(\\begin{array}{rr}\n",
       "-2 \\, l^{2} + 1 & -2 \\, l \\\\\n",
       "-2 \\, l^{3} + 2 \\, l & -2 \\, l^{2} + 1\n",
       "\\end{array}\\right), \\verb|sol| : \\left[-1, 0, 1\\right], \\verb|trace| : \\left[-2, 2, -2\\right]\\right\\}\\right)</script></html>"
      ],
      "text/latex": [
       "\\begin{math}\n",
       "\\newcommand{\\Bold}[1]{\\mathbf{#1}}\\left(\\verb|[1,|\\phantom{\\verb!x!}\\verb|0,|\\phantom{\\verb!x!}\\verb|0,|\\phantom{\\verb!x!}\\verb|1,|\\phantom{\\verb!x!}\\verb|0,|\\phantom{\\verb!x!}\\verb|1,|\\phantom{\\verb!x!}\\verb|1,|\\phantom{\\verb!x!}\\verb|0]|, \\left\\{\\verb|mon| : \\left(\\begin{array}{rr}\n",
       "-2 \\, l^{2} + 1 & -2 \\, l \\\\\n",
       "-2 \\, l^{3} + 2 \\, l & -2 \\, l^{2} + 1\n",
       "\\end{array}\\right), \\verb|sol| : \\left[-1, 0, 1\\right], \\verb|trace| : \\left[-2, 2, -2\\right]\\right\\}\\right)\n",
       "\\end{math}"
      ],
      "text/plain": [
       "('[1, 0, 0, 1, 0, 1, 1, 0]',\n",
       " {'mon': [  -2*l^2 + 1         -2*l]\n",
       "  [-2*l^3 + 2*l   -2*l^2 + 1], 'sol': [-1, 0, 1], 'trace': [-2, 2, -2]})"
      ]
     },
     "metadata": {},
     "output_type": "display_data"
    },
    {
     "data": {
      "text/html": [
       "<html><script type=\"math/tex; mode=display\">\\newcommand{\\Bold}[1]{\\mathbf{#1}}\\left(\\verb|[0,|\\phantom{\\verb!x!}\\verb|1,|\\phantom{\\verb!x!}\\verb|0,|\\phantom{\\verb!x!}\\verb|1,|\\phantom{\\verb!x!}\\verb|0,|\\phantom{\\verb!x!}\\verb|1,|\\phantom{\\verb!x!}\\verb|1,|\\phantom{\\verb!x!}\\verb|0]|, \\left\\{\\verb|mon| : \\left(\\begin{array}{rr}\n",
       "1 & -3 \\, l \\\\\n",
       "l & -3 \\, l^{2} + 1\n",
       "\\end{array}\\right), \\verb|sol| : \\left[0\\right], \\verb|trace| : \\left[2\\right]\\right\\}\\right)</script></html>"
      ],
      "text/latex": [
       "\\begin{math}\n",
       "\\newcommand{\\Bold}[1]{\\mathbf{#1}}\\left(\\verb|[0,|\\phantom{\\verb!x!}\\verb|1,|\\phantom{\\verb!x!}\\verb|0,|\\phantom{\\verb!x!}\\verb|1,|\\phantom{\\verb!x!}\\verb|0,|\\phantom{\\verb!x!}\\verb|1,|\\phantom{\\verb!x!}\\verb|1,|\\phantom{\\verb!x!}\\verb|0]|, \\left\\{\\verb|mon| : \\left(\\begin{array}{rr}\n",
       "1 & -3 \\, l \\\\\n",
       "l & -3 \\, l^{2} + 1\n",
       "\\end{array}\\right), \\verb|sol| : \\left[0\\right], \\verb|trace| : \\left[2\\right]\\right\\}\\right)\n",
       "\\end{math}"
      ],
      "text/plain": [
       "('[0, 1, 0, 1, 0, 1, 1, 0]',\n",
       " {'mon': [         1       -3*l]\n",
       "  [         l -3*l^2 + 1], 'sol': [0], 'trace': [2]})"
      ]
     },
     "metadata": {},
     "output_type": "display_data"
    },
    {
     "data": {
      "text/html": [
       "<html><script type=\"math/tex; mode=display\">\\newcommand{\\Bold}[1]{\\mathbf{#1}}\\left(\\verb|[1,|\\phantom{\\verb!x!}\\verb|1,|\\phantom{\\verb!x!}\\verb|0,|\\phantom{\\verb!x!}\\verb|1,|\\phantom{\\verb!x!}\\verb|0,|\\phantom{\\verb!x!}\\verb|1,|\\phantom{\\verb!x!}\\verb|1,|\\phantom{\\verb!x!}\\verb|0]|, \\left\\{\\verb|mon| : \\left(\\begin{array}{rr}\n",
       "-3 \\, l^{2} + 1 & -3 \\, l \\\\\n",
       "-3 \\, l^{3} + 2 \\, l & -3 \\, l^{2} + 1\n",
       "\\end{array}\\right), \\verb|sol| : \\left[-\\frac{1}{3} \\, \\sqrt{3} \\sqrt{2}, 0, \\frac{1}{3} \\, \\sqrt{3} \\sqrt{2}\\right], \\verb|trace| : \\left[-2, 2, -2\\right]\\right\\}\\right)</script></html>"
      ],
      "text/latex": [
       "\\begin{math}\n",
       "\\newcommand{\\Bold}[1]{\\mathbf{#1}}\\left(\\verb|[1,|\\phantom{\\verb!x!}\\verb|1,|\\phantom{\\verb!x!}\\verb|0,|\\phantom{\\verb!x!}\\verb|1,|\\phantom{\\verb!x!}\\verb|0,|\\phantom{\\verb!x!}\\verb|1,|\\phantom{\\verb!x!}\\verb|1,|\\phantom{\\verb!x!}\\verb|0]|, \\left\\{\\verb|mon| : \\left(\\begin{array}{rr}\n",
       "-3 \\, l^{2} + 1 & -3 \\, l \\\\\n",
       "-3 \\, l^{3} + 2 \\, l & -3 \\, l^{2} + 1\n",
       "\\end{array}\\right), \\verb|sol| : \\left[-\\frac{1}{3} \\, \\sqrt{3} \\sqrt{2}, 0, \\frac{1}{3} \\, \\sqrt{3} \\sqrt{2}\\right], \\verb|trace| : \\left[-2, 2, -2\\right]\\right\\}\\right)\n",
       "\\end{math}"
      ],
      "text/plain": [
       "('[1, 1, 0, 1, 0, 1, 1, 0]',\n",
       " {'mon': [  -3*l^2 + 1         -3*l]\n",
       "  [-3*l^3 + 2*l   -3*l^2 + 1],\n",
       "  'sol': [-1/3*sqrt(3)*sqrt(2), 0, 1/3*sqrt(3)*sqrt(2)],\n",
       "  'trace': [-2, 2, -2]})"
      ]
     },
     "metadata": {},
     "output_type": "display_data"
    },
    {
     "data": {
      "text/html": [
       "<html><script type=\"math/tex; mode=display\">\\newcommand{\\Bold}[1]{\\mathbf{#1}}\\left(\\verb|[0,|\\phantom{\\verb!x!}\\verb|0,|\\phantom{\\verb!x!}\\verb|1,|\\phantom{\\verb!x!}\\verb|1,|\\phantom{\\verb!x!}\\verb|0,|\\phantom{\\verb!x!}\\verb|1,|\\phantom{\\verb!x!}\\verb|1,|\\phantom{\\verb!x!}\\verb|0]|, \\left\\{\\verb|mon| : \\left(\\begin{array}{rr}\n",
       "-2 \\, l^{2} + 1 & -2 \\, l \\\\\n",
       "-2 \\, l^{3} + 2 \\, l & -2 \\, l^{2} + 1\n",
       "\\end{array}\\right), \\verb|sol| : \\left[-1, 0, 1\\right], \\verb|trace| : \\left[-2, 2, -2\\right]\\right\\}\\right)</script></html>"
      ],
      "text/latex": [
       "\\begin{math}\n",
       "\\newcommand{\\Bold}[1]{\\mathbf{#1}}\\left(\\verb|[0,|\\phantom{\\verb!x!}\\verb|0,|\\phantom{\\verb!x!}\\verb|1,|\\phantom{\\verb!x!}\\verb|1,|\\phantom{\\verb!x!}\\verb|0,|\\phantom{\\verb!x!}\\verb|1,|\\phantom{\\verb!x!}\\verb|1,|\\phantom{\\verb!x!}\\verb|0]|, \\left\\{\\verb|mon| : \\left(\\begin{array}{rr}\n",
       "-2 \\, l^{2} + 1 & -2 \\, l \\\\\n",
       "-2 \\, l^{3} + 2 \\, l & -2 \\, l^{2} + 1\n",
       "\\end{array}\\right), \\verb|sol| : \\left[-1, 0, 1\\right], \\verb|trace| : \\left[-2, 2, -2\\right]\\right\\}\\right)\n",
       "\\end{math}"
      ],
      "text/plain": [
       "('[0, 0, 1, 1, 0, 1, 1, 0]',\n",
       " {'mon': [  -2*l^2 + 1         -2*l]\n",
       "  [-2*l^3 + 2*l   -2*l^2 + 1], 'sol': [-1, 0, 1], 'trace': [-2, 2, -2]})"
      ]
     },
     "metadata": {},
     "output_type": "display_data"
    },
    {
     "data": {
      "text/html": [
       "<html><script type=\"math/tex; mode=display\">\\newcommand{\\Bold}[1]{\\mathbf{#1}}\\left(\\verb|[1,|\\phantom{\\verb!x!}\\verb|0,|\\phantom{\\verb!x!}\\verb|1,|\\phantom{\\verb!x!}\\verb|1,|\\phantom{\\verb!x!}\\verb|0,|\\phantom{\\verb!x!}\\verb|1,|\\phantom{\\verb!x!}\\verb|1,|\\phantom{\\verb!x!}\\verb|0]|, \\left\\{\\verb|mon| : \\left(\\begin{array}{rr}\n",
       "-4 \\, l^{2} + 1 & -2 \\, l \\\\\n",
       "-4 \\, l^{3} + 3 \\, l & -2 \\, l^{2} + 1\n",
       "\\end{array}\\right), \\verb|sol| : \\left[-\\frac{1}{2} \\, \\sqrt{3}, 0, \\frac{1}{2} \\, \\sqrt{3}\\right], \\verb|trace| : \\left[-\\frac{5}{2}, 2, -\\frac{5}{2}\\right]\\right\\}\\right)</script></html>"
      ],
      "text/latex": [
       "\\begin{math}\n",
       "\\newcommand{\\Bold}[1]{\\mathbf{#1}}\\left(\\verb|[1,|\\phantom{\\verb!x!}\\verb|0,|\\phantom{\\verb!x!}\\verb|1,|\\phantom{\\verb!x!}\\verb|1,|\\phantom{\\verb!x!}\\verb|0,|\\phantom{\\verb!x!}\\verb|1,|\\phantom{\\verb!x!}\\verb|1,|\\phantom{\\verb!x!}\\verb|0]|, \\left\\{\\verb|mon| : \\left(\\begin{array}{rr}\n",
       "-4 \\, l^{2} + 1 & -2 \\, l \\\\\n",
       "-4 \\, l^{3} + 3 \\, l & -2 \\, l^{2} + 1\n",
       "\\end{array}\\right), \\verb|sol| : \\left[-\\frac{1}{2} \\, \\sqrt{3}, 0, \\frac{1}{2} \\, \\sqrt{3}\\right], \\verb|trace| : \\left[-\\frac{5}{2}, 2, -\\frac{5}{2}\\right]\\right\\}\\right)\n",
       "\\end{math}"
      ],
      "text/plain": [
       "('[1, 0, 1, 1, 0, 1, 1, 0]',\n",
       " {'mon': [  -4*l^2 + 1         -2*l]\n",
       "  [-4*l^3 + 3*l   -2*l^2 + 1],\n",
       "  'sol': [-1/2*sqrt(3), 0, 1/2*sqrt(3)],\n",
       "  'trace': [-5/2, 2, -5/2]})"
      ]
     },
     "metadata": {},
     "output_type": "display_data"
    },
    {
     "data": {
      "text/html": [
       "<html><script type=\"math/tex; mode=display\">\\newcommand{\\Bold}[1]{\\mathbf{#1}}\\left(\\verb|[0,|\\phantom{\\verb!x!}\\verb|1,|\\phantom{\\verb!x!}\\verb|1,|\\phantom{\\verb!x!}\\verb|1,|\\phantom{\\verb!x!}\\verb|0,|\\phantom{\\verb!x!}\\verb|1,|\\phantom{\\verb!x!}\\verb|1,|\\phantom{\\verb!x!}\\verb|0]|, \\left\\{\\verb|mon| : \\left(\\begin{array}{rr}\n",
       "-2 \\, l^{2} + 1 & 2 \\, l^{3} - 3 \\, l \\\\\n",
       "-2 \\, l^{3} + 2 \\, l & 2 \\, l^{4} - 4 \\, l^{2} + 1\n",
       "\\end{array}\\right), \\verb|sol| : \\left[-1, 0, 1\\right], \\verb|trace| : \\left[-2, 2, -2\\right]\\right\\}\\right)</script></html>"
      ],
      "text/latex": [
       "\\begin{math}\n",
       "\\newcommand{\\Bold}[1]{\\mathbf{#1}}\\left(\\verb|[0,|\\phantom{\\verb!x!}\\verb|1,|\\phantom{\\verb!x!}\\verb|1,|\\phantom{\\verb!x!}\\verb|1,|\\phantom{\\verb!x!}\\verb|0,|\\phantom{\\verb!x!}\\verb|1,|\\phantom{\\verb!x!}\\verb|1,|\\phantom{\\verb!x!}\\verb|0]|, \\left\\{\\verb|mon| : \\left(\\begin{array}{rr}\n",
       "-2 \\, l^{2} + 1 & 2 \\, l^{3} - 3 \\, l \\\\\n",
       "-2 \\, l^{3} + 2 \\, l & 2 \\, l^{4} - 4 \\, l^{2} + 1\n",
       "\\end{array}\\right), \\verb|sol| : \\left[-1, 0, 1\\right], \\verb|trace| : \\left[-2, 2, -2\\right]\\right\\}\\right)\n",
       "\\end{math}"
      ],
      "text/plain": [
       "('[0, 1, 1, 1, 0, 1, 1, 0]',\n",
       " {'mon': [       -2*l^2 + 1       2*l^3 - 3*l]\n",
       "  [     -2*l^3 + 2*l 2*l^4 - 4*l^2 + 1],\n",
       "  'sol': [-1, 0, 1],\n",
       "  'trace': [-2, 2, -2]})"
      ]
     },
     "metadata": {},
     "output_type": "display_data"
    },
    {
     "data": {
      "text/html": [
       "<html><script type=\"math/tex; mode=display\">\\newcommand{\\Bold}[1]{\\mathbf{#1}}\\left(\\verb|[1,|\\phantom{\\verb!x!}\\verb|1,|\\phantom{\\verb!x!}\\verb|1,|\\phantom{\\verb!x!}\\verb|1,|\\phantom{\\verb!x!}\\verb|0,|\\phantom{\\verb!x!}\\verb|1,|\\phantom{\\verb!x!}\\verb|1,|\\phantom{\\verb!x!}\\verb|0]|, \\left\\{\\verb|mon| : \\left(\\begin{array}{rr}\n",
       "2 \\, l^{4} - 5 \\, l^{2} + 1 & 2 \\, l^{3} - 3 \\, l \\\\\n",
       "2 \\, l^{5} - 6 \\, l^{3} + 3 \\, l & 2 \\, l^{4} - 4 \\, l^{2} + 1\n",
       "\\end{array}\\right), \\verb|sol| : \\left[-\\sqrt{\\frac{1}{2} \\, \\sqrt{3} + \\frac{3}{2}}, -\\sqrt{-\\frac{1}{2} \\, \\sqrt{3} + \\frac{3}{2}}, 0, \\sqrt{-\\frac{1}{2} \\, \\sqrt{3} + \\frac{3}{2}}, \\sqrt{\\frac{1}{2} \\, \\sqrt{3} + \\frac{3}{2}}\\right], \\verb|trace| : \\left[{\\left(\\sqrt{3} + 3\\right)}^{2} - \\frac{9}{2} \\, \\sqrt{3} - \\frac{23}{2}, {\\left(\\sqrt{3} - 3\\right)}^{2} + \\frac{9}{2} \\, \\sqrt{3} - \\frac{23}{2}, 2, {\\left(\\sqrt{3} - 3\\right)}^{2} + \\frac{9}{2} \\, \\sqrt{3} - \\frac{23}{2}, {\\left(\\sqrt{3} + 3\\right)}^{2} - \\frac{9}{2} \\, \\sqrt{3} - \\frac{23}{2}\\right]\\right\\}\\right)</script></html>"
      ],
      "text/latex": [
       "\\begin{math}\n",
       "\\newcommand{\\Bold}[1]{\\mathbf{#1}}\\left(\\verb|[1,|\\phantom{\\verb!x!}\\verb|1,|\\phantom{\\verb!x!}\\verb|1,|\\phantom{\\verb!x!}\\verb|1,|\\phantom{\\verb!x!}\\verb|0,|\\phantom{\\verb!x!}\\verb|1,|\\phantom{\\verb!x!}\\verb|1,|\\phantom{\\verb!x!}\\verb|0]|, \\left\\{\\verb|mon| : \\left(\\begin{array}{rr}\n",
       "2 \\, l^{4} - 5 \\, l^{2} + 1 & 2 \\, l^{3} - 3 \\, l \\\\\n",
       "2 \\, l^{5} - 6 \\, l^{3} + 3 \\, l & 2 \\, l^{4} - 4 \\, l^{2} + 1\n",
       "\\end{array}\\right), \\verb|sol| : \\left[-\\sqrt{\\frac{1}{2} \\, \\sqrt{3} + \\frac{3}{2}}, -\\sqrt{-\\frac{1}{2} \\, \\sqrt{3} + \\frac{3}{2}}, 0, \\sqrt{-\\frac{1}{2} \\, \\sqrt{3} + \\frac{3}{2}}, \\sqrt{\\frac{1}{2} \\, \\sqrt{3} + \\frac{3}{2}}\\right], \\verb|trace| : \\left[{\\left(\\sqrt{3} + 3\\right)}^{2} - \\frac{9}{2} \\, \\sqrt{3} - \\frac{23}{2}, {\\left(\\sqrt{3} - 3\\right)}^{2} + \\frac{9}{2} \\, \\sqrt{3} - \\frac{23}{2}, 2, {\\left(\\sqrt{3} - 3\\right)}^{2} + \\frac{9}{2} \\, \\sqrt{3} - \\frac{23}{2}, {\\left(\\sqrt{3} + 3\\right)}^{2} - \\frac{9}{2} \\, \\sqrt{3} - \\frac{23}{2}\\right]\\right\\}\\right)\n",
       "\\end{math}"
      ],
      "text/plain": [
       "('[1, 1, 1, 1, 0, 1, 1, 0]',\n",
       " {'mon': [  2*l^4 - 5*l^2 + 1         2*l^3 - 3*l]\n",
       "  [2*l^5 - 6*l^3 + 3*l   2*l^4 - 4*l^2 + 1],\n",
       "  'sol': [-sqrt(1/2*sqrt(3) + 3/2),\n",
       "   -sqrt(-1/2*sqrt(3) + 3/2),\n",
       "   0,\n",
       "   sqrt(-1/2*sqrt(3) + 3/2),\n",
       "   sqrt(1/2*sqrt(3) + 3/2)],\n",
       "  'trace': [(sqrt(3) + 3)^2 - 9/2*sqrt(3) - 23/2,\n",
       "   (sqrt(3) - 3)^2 + 9/2*sqrt(3) - 23/2,\n",
       "   2,\n",
       "   (sqrt(3) - 3)^2 + 9/2*sqrt(3) - 23/2,\n",
       "   (sqrt(3) + 3)^2 - 9/2*sqrt(3) - 23/2]})"
      ]
     },
     "metadata": {},
     "output_type": "display_data"
    },
    {
     "data": {
      "text/html": [
       "<html><script type=\"math/tex; mode=display\">\\newcommand{\\Bold}[1]{\\mathbf{#1}}\\left(\\verb|[0,|\\phantom{\\verb!x!}\\verb|0,|\\phantom{\\verb!x!}\\verb|0,|\\phantom{\\verb!x!}\\verb|0,|\\phantom{\\verb!x!}\\verb|1,|\\phantom{\\verb!x!}\\verb|1,|\\phantom{\\verb!x!}\\verb|1,|\\phantom{\\verb!x!}\\verb|0]|, \\left\\{\\verb|mon| : \\left(\\begin{array}{rr}\n",
       "-l^{2} + 1 & -l \\\\\n",
       "-l^{3} + 2 \\, l & -l^{2} + 1\n",
       "\\end{array}\\right), \\verb|sol| : \\left[-\\sqrt{2}, 0, \\sqrt{2}\\right], \\verb|trace| : \\left[-2, 2, -2\\right]\\right\\}\\right)</script></html>"
      ],
      "text/latex": [
       "\\begin{math}\n",
       "\\newcommand{\\Bold}[1]{\\mathbf{#1}}\\left(\\verb|[0,|\\phantom{\\verb!x!}\\verb|0,|\\phantom{\\verb!x!}\\verb|0,|\\phantom{\\verb!x!}\\verb|0,|\\phantom{\\verb!x!}\\verb|1,|\\phantom{\\verb!x!}\\verb|1,|\\phantom{\\verb!x!}\\verb|1,|\\phantom{\\verb!x!}\\verb|0]|, \\left\\{\\verb|mon| : \\left(\\begin{array}{rr}\n",
       "-l^{2} + 1 & -l \\\\\n",
       "-l^{3} + 2 \\, l & -l^{2} + 1\n",
       "\\end{array}\\right), \\verb|sol| : \\left[-\\sqrt{2}, 0, \\sqrt{2}\\right], \\verb|trace| : \\left[-2, 2, -2\\right]\\right\\}\\right)\n",
       "\\end{math}"
      ],
      "text/plain": [
       "('[0, 0, 0, 0, 1, 1, 1, 0]',\n",
       " {'mon': [  -l^2 + 1         -l]\n",
       "  [-l^3 + 2*l   -l^2 + 1],\n",
       "  'sol': [-sqrt(2), 0, sqrt(2)],\n",
       "  'trace': [-2, 2, -2]})"
      ]
     },
     "metadata": {},
     "output_type": "display_data"
    },
    {
     "data": {
      "text/html": [
       "<html><script type=\"math/tex; mode=display\">\\newcommand{\\Bold}[1]{\\mathbf{#1}}\\left(\\verb|[1,|\\phantom{\\verb!x!}\\verb|0,|\\phantom{\\verb!x!}\\verb|0,|\\phantom{\\verb!x!}\\verb|0,|\\phantom{\\verb!x!}\\verb|1,|\\phantom{\\verb!x!}\\verb|1,|\\phantom{\\verb!x!}\\verb|1,|\\phantom{\\verb!x!}\\verb|0]|, \\left\\{\\verb|mon| : \\left(\\begin{array}{rr}\n",
       "-2 \\, l^{2} + 1 & -l \\\\\n",
       "-2 \\, l^{3} + 3 \\, l & -l^{2} + 1\n",
       "\\end{array}\\right), \\verb|sol| : \\left[-\\frac{1}{2} \\, \\sqrt{3} \\sqrt{2}, 0, \\frac{1}{2} \\, \\sqrt{3} \\sqrt{2}\\right], \\verb|trace| : \\left[-\\frac{5}{2}, 2, -\\frac{5}{2}\\right]\\right\\}\\right)</script></html>"
      ],
      "text/latex": [
       "\\begin{math}\n",
       "\\newcommand{\\Bold}[1]{\\mathbf{#1}}\\left(\\verb|[1,|\\phantom{\\verb!x!}\\verb|0,|\\phantom{\\verb!x!}\\verb|0,|\\phantom{\\verb!x!}\\verb|0,|\\phantom{\\verb!x!}\\verb|1,|\\phantom{\\verb!x!}\\verb|1,|\\phantom{\\verb!x!}\\verb|1,|\\phantom{\\verb!x!}\\verb|0]|, \\left\\{\\verb|mon| : \\left(\\begin{array}{rr}\n",
       "-2 \\, l^{2} + 1 & -l \\\\\n",
       "-2 \\, l^{3} + 3 \\, l & -l^{2} + 1\n",
       "\\end{array}\\right), \\verb|sol| : \\left[-\\frac{1}{2} \\, \\sqrt{3} \\sqrt{2}, 0, \\frac{1}{2} \\, \\sqrt{3} \\sqrt{2}\\right], \\verb|trace| : \\left[-\\frac{5}{2}, 2, -\\frac{5}{2}\\right]\\right\\}\\right)\n",
       "\\end{math}"
      ],
      "text/plain": [
       "('[1, 0, 0, 0, 1, 1, 1, 0]',\n",
       " {'mon': [  -2*l^2 + 1           -l]\n",
       "  [-2*l^3 + 3*l     -l^2 + 1],\n",
       "  'sol': [-1/2*sqrt(3)*sqrt(2), 0, 1/2*sqrt(3)*sqrt(2)],\n",
       "  'trace': [-5/2, 2, -5/2]})"
      ]
     },
     "metadata": {},
     "output_type": "display_data"
    },
    {
     "data": {
      "text/html": [
       "<html><script type=\"math/tex; mode=display\">\\newcommand{\\Bold}[1]{\\mathbf{#1}}\\left(\\verb|[0,|\\phantom{\\verb!x!}\\verb|1,|\\phantom{\\verb!x!}\\verb|0,|\\phantom{\\verb!x!}\\verb|0,|\\phantom{\\verb!x!}\\verb|1,|\\phantom{\\verb!x!}\\verb|1,|\\phantom{\\verb!x!}\\verb|1,|\\phantom{\\verb!x!}\\verb|0]|, \\left\\{\\verb|mon| : \\left(\\begin{array}{rr}\n",
       "-l^{2} + 1 & l^{3} - 2 \\, l \\\\\n",
       "-l^{3} + 2 \\, l & l^{4} - 3 \\, l^{2} + 1\n",
       "\\end{array}\\right), \\verb|sol| : \\left[-\\sqrt{2}, 0, \\sqrt{2}\\right], \\verb|trace| : \\left[-2, 2, -2\\right]\\right\\}\\right)</script></html>"
      ],
      "text/latex": [
       "\\begin{math}\n",
       "\\newcommand{\\Bold}[1]{\\mathbf{#1}}\\left(\\verb|[0,|\\phantom{\\verb!x!}\\verb|1,|\\phantom{\\verb!x!}\\verb|0,|\\phantom{\\verb!x!}\\verb|0,|\\phantom{\\verb!x!}\\verb|1,|\\phantom{\\verb!x!}\\verb|1,|\\phantom{\\verb!x!}\\verb|1,|\\phantom{\\verb!x!}\\verb|0]|, \\left\\{\\verb|mon| : \\left(\\begin{array}{rr}\n",
       "-l^{2} + 1 & l^{3} - 2 \\, l \\\\\n",
       "-l^{3} + 2 \\, l & l^{4} - 3 \\, l^{2} + 1\n",
       "\\end{array}\\right), \\verb|sol| : \\left[-\\sqrt{2}, 0, \\sqrt{2}\\right], \\verb|trace| : \\left[-2, 2, -2\\right]\\right\\}\\right)\n",
       "\\end{math}"
      ],
      "text/plain": [
       "('[0, 1, 0, 0, 1, 1, 1, 0]',\n",
       " {'mon': [       -l^2 + 1       l^3 - 2*l]\n",
       "  [     -l^3 + 2*l l^4 - 3*l^2 + 1],\n",
       "  'sol': [-sqrt(2), 0, sqrt(2)],\n",
       "  'trace': [-2, 2, -2]})"
      ]
     },
     "metadata": {},
     "output_type": "display_data"
    },
    {
     "data": {
      "text/html": [
       "<html><script type=\"math/tex; mode=display\">\\newcommand{\\Bold}[1]{\\mathbf{#1}}\\left(\\verb|[1,|\\phantom{\\verb!x!}\\verb|1,|\\phantom{\\verb!x!}\\verb|0,|\\phantom{\\verb!x!}\\verb|0,|\\phantom{\\verb!x!}\\verb|1,|\\phantom{\\verb!x!}\\verb|1,|\\phantom{\\verb!x!}\\verb|1,|\\phantom{\\verb!x!}\\verb|0]|, \\left\\{\\verb|mon| : \\left(\\begin{array}{rr}\n",
       "l^{4} - 3 \\, l^{2} + 1 & l^{3} - 2 \\, l \\\\\n",
       "l^{5} - 4 \\, l^{3} + 3 \\, l & l^{4} - 3 \\, l^{2} + 1\n",
       "\\end{array}\\right), \\verb|sol| : \\left[-\\sqrt{3}, -1, 0, 1, \\sqrt{3}\\right], \\verb|trace| : \\left[2, -2, 2, -2, 2\\right]\\right\\}\\right)</script></html>"
      ],
      "text/latex": [
       "\\begin{math}\n",
       "\\newcommand{\\Bold}[1]{\\mathbf{#1}}\\left(\\verb|[1,|\\phantom{\\verb!x!}\\verb|1,|\\phantom{\\verb!x!}\\verb|0,|\\phantom{\\verb!x!}\\verb|0,|\\phantom{\\verb!x!}\\verb|1,|\\phantom{\\verb!x!}\\verb|1,|\\phantom{\\verb!x!}\\verb|1,|\\phantom{\\verb!x!}\\verb|0]|, \\left\\{\\verb|mon| : \\left(\\begin{array}{rr}\n",
       "l^{4} - 3 \\, l^{2} + 1 & l^{3} - 2 \\, l \\\\\n",
       "l^{5} - 4 \\, l^{3} + 3 \\, l & l^{4} - 3 \\, l^{2} + 1\n",
       "\\end{array}\\right), \\verb|sol| : \\left[-\\sqrt{3}, -1, 0, 1, \\sqrt{3}\\right], \\verb|trace| : \\left[2, -2, 2, -2, 2\\right]\\right\\}\\right)\n",
       "\\end{math}"
      ],
      "text/plain": [
       "('[1, 1, 0, 0, 1, 1, 1, 0]',\n",
       " {'mon': [  l^4 - 3*l^2 + 1         l^3 - 2*l]\n",
       "  [l^5 - 4*l^3 + 3*l   l^4 - 3*l^2 + 1],\n",
       "  'sol': [-sqrt(3), -1, 0, 1, sqrt(3)],\n",
       "  'trace': [2, -2, 2, -2, 2]})"
      ]
     },
     "metadata": {},
     "output_type": "display_data"
    },
    {
     "data": {
      "text/html": [
       "<html><script type=\"math/tex; mode=display\">\\newcommand{\\Bold}[1]{\\mathbf{#1}}\\left(\\verb|[0,|\\phantom{\\verb!x!}\\verb|0,|\\phantom{\\verb!x!}\\verb|1,|\\phantom{\\verb!x!}\\verb|0,|\\phantom{\\verb!x!}\\verb|1,|\\phantom{\\verb!x!}\\verb|1,|\\phantom{\\verb!x!}\\verb|1,|\\phantom{\\verb!x!}\\verb|0]|, \\left\\{\\verb|mon| : \\left(\\begin{array}{rr}\n",
       "-2 \\, l^{2} + 1 & -l \\\\\n",
       "-2 \\, l^{3} + 3 \\, l & -l^{2} + 1\n",
       "\\end{array}\\right), \\verb|sol| : \\left[-\\frac{1}{2} \\, \\sqrt{3} \\sqrt{2}, 0, \\frac{1}{2} \\, \\sqrt{3} \\sqrt{2}\\right], \\verb|trace| : \\left[-\\frac{5}{2}, 2, -\\frac{5}{2}\\right]\\right\\}\\right)</script></html>"
      ],
      "text/latex": [
       "\\begin{math}\n",
       "\\newcommand{\\Bold}[1]{\\mathbf{#1}}\\left(\\verb|[0,|\\phantom{\\verb!x!}\\verb|0,|\\phantom{\\verb!x!}\\verb|1,|\\phantom{\\verb!x!}\\verb|0,|\\phantom{\\verb!x!}\\verb|1,|\\phantom{\\verb!x!}\\verb|1,|\\phantom{\\verb!x!}\\verb|1,|\\phantom{\\verb!x!}\\verb|0]|, \\left\\{\\verb|mon| : \\left(\\begin{array}{rr}\n",
       "-2 \\, l^{2} + 1 & -l \\\\\n",
       "-2 \\, l^{3} + 3 \\, l & -l^{2} + 1\n",
       "\\end{array}\\right), \\verb|sol| : \\left[-\\frac{1}{2} \\, \\sqrt{3} \\sqrt{2}, 0, \\frac{1}{2} \\, \\sqrt{3} \\sqrt{2}\\right], \\verb|trace| : \\left[-\\frac{5}{2}, 2, -\\frac{5}{2}\\right]\\right\\}\\right)\n",
       "\\end{math}"
      ],
      "text/plain": [
       "('[0, 0, 1, 0, 1, 1, 1, 0]',\n",
       " {'mon': [  -2*l^2 + 1           -l]\n",
       "  [-2*l^3 + 3*l     -l^2 + 1],\n",
       "  'sol': [-1/2*sqrt(3)*sqrt(2), 0, 1/2*sqrt(3)*sqrt(2)],\n",
       "  'trace': [-5/2, 2, -5/2]})"
      ]
     },
     "metadata": {},
     "output_type": "display_data"
    },
    {
     "data": {
      "text/html": [
       "<html><script type=\"math/tex; mode=display\">\\newcommand{\\Bold}[1]{\\mathbf{#1}}\\left(\\verb|[1,|\\phantom{\\verb!x!}\\verb|0,|\\phantom{\\verb!x!}\\verb|1,|\\phantom{\\verb!x!}\\verb|0,|\\phantom{\\verb!x!}\\verb|1,|\\phantom{\\verb!x!}\\verb|1,|\\phantom{\\verb!x!}\\verb|1,|\\phantom{\\verb!x!}\\verb|0]|, \\left\\{\\verb|mon| : \\left(\\begin{array}{rr}\n",
       "-3 \\, l^{2} + 1 & -l \\\\\n",
       "-3 \\, l^{3} + 4 \\, l & -l^{2} + 1\n",
       "\\end{array}\\right), \\verb|sol| : \\left[-\\frac{2}{3} \\, \\sqrt{3}, 0, \\frac{2}{3} \\, \\sqrt{3}\\right], \\verb|trace| : \\left[-\\frac{10}{3}, 2, -\\frac{10}{3}\\right]\\right\\}\\right)</script></html>"
      ],
      "text/latex": [
       "\\begin{math}\n",
       "\\newcommand{\\Bold}[1]{\\mathbf{#1}}\\left(\\verb|[1,|\\phantom{\\verb!x!}\\verb|0,|\\phantom{\\verb!x!}\\verb|1,|\\phantom{\\verb!x!}\\verb|0,|\\phantom{\\verb!x!}\\verb|1,|\\phantom{\\verb!x!}\\verb|1,|\\phantom{\\verb!x!}\\verb|1,|\\phantom{\\verb!x!}\\verb|0]|, \\left\\{\\verb|mon| : \\left(\\begin{array}{rr}\n",
       "-3 \\, l^{2} + 1 & -l \\\\\n",
       "-3 \\, l^{3} + 4 \\, l & -l^{2} + 1\n",
       "\\end{array}\\right), \\verb|sol| : \\left[-\\frac{2}{3} \\, \\sqrt{3}, 0, \\frac{2}{3} \\, \\sqrt{3}\\right], \\verb|trace| : \\left[-\\frac{10}{3}, 2, -\\frac{10}{3}\\right]\\right\\}\\right)\n",
       "\\end{math}"
      ],
      "text/plain": [
       "('[1, 0, 1, 0, 1, 1, 1, 0]',\n",
       " {'mon': [  -3*l^2 + 1           -l]\n",
       "  [-3*l^3 + 4*l     -l^2 + 1],\n",
       "  'sol': [-2/3*sqrt(3), 0, 2/3*sqrt(3)],\n",
       "  'trace': [-10/3, 2, -10/3]})"
      ]
     },
     "metadata": {},
     "output_type": "display_data"
    },
    {
     "data": {
      "text/html": [
       "<html><script type=\"math/tex; mode=display\">\\newcommand{\\Bold}[1]{\\mathbf{#1}}\\left(\\verb|[0,|\\phantom{\\verb!x!}\\verb|1,|\\phantom{\\verb!x!}\\verb|1,|\\phantom{\\verb!x!}\\verb|0,|\\phantom{\\verb!x!}\\verb|1,|\\phantom{\\verb!x!}\\verb|1,|\\phantom{\\verb!x!}\\verb|1,|\\phantom{\\verb!x!}\\verb|0]|, \\left\\{\\verb|mon| : \\left(\\begin{array}{rr}\n",
       "-2 \\, l^{2} + 1 & 2 \\, l^{3} - 2 \\, l \\\\\n",
       "-2 \\, l^{3} + 3 \\, l & 2 \\, l^{4} - 4 \\, l^{2} + 1\n",
       "\\end{array}\\right), \\verb|sol| : \\left[-\\frac{1}{2} \\, \\sqrt{3} \\sqrt{2}, 0, \\frac{1}{2} \\, \\sqrt{3} \\sqrt{2}\\right], \\verb|trace| : \\left[-\\frac{5}{2}, 2, -\\frac{5}{2}\\right]\\right\\}\\right)</script></html>"
      ],
      "text/latex": [
       "\\begin{math}\n",
       "\\newcommand{\\Bold}[1]{\\mathbf{#1}}\\left(\\verb|[0,|\\phantom{\\verb!x!}\\verb|1,|\\phantom{\\verb!x!}\\verb|1,|\\phantom{\\verb!x!}\\verb|0,|\\phantom{\\verb!x!}\\verb|1,|\\phantom{\\verb!x!}\\verb|1,|\\phantom{\\verb!x!}\\verb|1,|\\phantom{\\verb!x!}\\verb|0]|, \\left\\{\\verb|mon| : \\left(\\begin{array}{rr}\n",
       "-2 \\, l^{2} + 1 & 2 \\, l^{3} - 2 \\, l \\\\\n",
       "-2 \\, l^{3} + 3 \\, l & 2 \\, l^{4} - 4 \\, l^{2} + 1\n",
       "\\end{array}\\right), \\verb|sol| : \\left[-\\frac{1}{2} \\, \\sqrt{3} \\sqrt{2}, 0, \\frac{1}{2} \\, \\sqrt{3} \\sqrt{2}\\right], \\verb|trace| : \\left[-\\frac{5}{2}, 2, -\\frac{5}{2}\\right]\\right\\}\\right)\n",
       "\\end{math}"
      ],
      "text/plain": [
       "('[0, 1, 1, 0, 1, 1, 1, 0]',\n",
       " {'mon': [       -2*l^2 + 1       2*l^3 - 2*l]\n",
       "  [     -2*l^3 + 3*l 2*l^4 - 4*l^2 + 1],\n",
       "  'sol': [-1/2*sqrt(3)*sqrt(2), 0, 1/2*sqrt(3)*sqrt(2)],\n",
       "  'trace': [-5/2, 2, -5/2]})"
      ]
     },
     "metadata": {},
     "output_type": "display_data"
    },
    {
     "data": {
      "text/html": [
       "<html><script type=\"math/tex; mode=display\">\\newcommand{\\Bold}[1]{\\mathbf{#1}}\\left(\\verb|[1,|\\phantom{\\verb!x!}\\verb|1,|\\phantom{\\verb!x!}\\verb|1,|\\phantom{\\verb!x!}\\verb|0,|\\phantom{\\verb!x!}\\verb|1,|\\phantom{\\verb!x!}\\verb|1,|\\phantom{\\verb!x!}\\verb|1,|\\phantom{\\verb!x!}\\verb|0]|, \\left\\{\\verb|mon| : \\left(\\begin{array}{rr}\n",
       "2 \\, l^{4} - 4 \\, l^{2} + 1 & 2 \\, l^{3} - 2 \\, l \\\\\n",
       "2 \\, l^{5} - 6 \\, l^{3} + 4 \\, l & 2 \\, l^{4} - 4 \\, l^{2} + 1\n",
       "\\end{array}\\right), \\verb|sol| : \\left[-\\sqrt{2}, -1, 0, 1, \\sqrt{2}\\right], \\verb|trace| : \\left[2, -2, 2, -2, 2\\right]\\right\\}\\right)</script></html>"
      ],
      "text/latex": [
       "\\begin{math}\n",
       "\\newcommand{\\Bold}[1]{\\mathbf{#1}}\\left(\\verb|[1,|\\phantom{\\verb!x!}\\verb|1,|\\phantom{\\verb!x!}\\verb|1,|\\phantom{\\verb!x!}\\verb|0,|\\phantom{\\verb!x!}\\verb|1,|\\phantom{\\verb!x!}\\verb|1,|\\phantom{\\verb!x!}\\verb|1,|\\phantom{\\verb!x!}\\verb|0]|, \\left\\{\\verb|mon| : \\left(\\begin{array}{rr}\n",
       "2 \\, l^{4} - 4 \\, l^{2} + 1 & 2 \\, l^{3} - 2 \\, l \\\\\n",
       "2 \\, l^{5} - 6 \\, l^{3} + 4 \\, l & 2 \\, l^{4} - 4 \\, l^{2} + 1\n",
       "\\end{array}\\right), \\verb|sol| : \\left[-\\sqrt{2}, -1, 0, 1, \\sqrt{2}\\right], \\verb|trace| : \\left[2, -2, 2, -2, 2\\right]\\right\\}\\right)\n",
       "\\end{math}"
      ],
      "text/plain": [
       "('[1, 1, 1, 0, 1, 1, 1, 0]',\n",
       " {'mon': [  2*l^4 - 4*l^2 + 1         2*l^3 - 2*l]\n",
       "  [2*l^5 - 6*l^3 + 4*l   2*l^4 - 4*l^2 + 1],\n",
       "  'sol': [-sqrt(2), -1, 0, 1, sqrt(2)],\n",
       "  'trace': [2, -2, 2, -2, 2]})"
      ]
     },
     "metadata": {},
     "output_type": "display_data"
    },
    {
     "data": {
      "text/html": [
       "<html><script type=\"math/tex; mode=display\">\\newcommand{\\Bold}[1]{\\mathbf{#1}}\\left(\\verb|[0,|\\phantom{\\verb!x!}\\verb|0,|\\phantom{\\verb!x!}\\verb|0,|\\phantom{\\verb!x!}\\verb|1,|\\phantom{\\verb!x!}\\verb|1,|\\phantom{\\verb!x!}\\verb|1,|\\phantom{\\verb!x!}\\verb|1,|\\phantom{\\verb!x!}\\verb|0]|, \\left\\{\\verb|mon| : \\left(\\begin{array}{rr}\n",
       "-l^{2} + 1 & l^{3} - 2 \\, l \\\\\n",
       "-l^{3} + 2 \\, l & l^{4} - 3 \\, l^{2} + 1\n",
       "\\end{array}\\right), \\verb|sol| : \\left[-\\sqrt{2}, 0, \\sqrt{2}\\right], \\verb|trace| : \\left[-2, 2, -2\\right]\\right\\}\\right)</script></html>"
      ],
      "text/latex": [
       "\\begin{math}\n",
       "\\newcommand{\\Bold}[1]{\\mathbf{#1}}\\left(\\verb|[0,|\\phantom{\\verb!x!}\\verb|0,|\\phantom{\\verb!x!}\\verb|0,|\\phantom{\\verb!x!}\\verb|1,|\\phantom{\\verb!x!}\\verb|1,|\\phantom{\\verb!x!}\\verb|1,|\\phantom{\\verb!x!}\\verb|1,|\\phantom{\\verb!x!}\\verb|0]|, \\left\\{\\verb|mon| : \\left(\\begin{array}{rr}\n",
       "-l^{2} + 1 & l^{3} - 2 \\, l \\\\\n",
       "-l^{3} + 2 \\, l & l^{4} - 3 \\, l^{2} + 1\n",
       "\\end{array}\\right), \\verb|sol| : \\left[-\\sqrt{2}, 0, \\sqrt{2}\\right], \\verb|trace| : \\left[-2, 2, -2\\right]\\right\\}\\right)\n",
       "\\end{math}"
      ],
      "text/plain": [
       "('[0, 0, 0, 1, 1, 1, 1, 0]',\n",
       " {'mon': [       -l^2 + 1       l^3 - 2*l]\n",
       "  [     -l^3 + 2*l l^4 - 3*l^2 + 1],\n",
       "  'sol': [-sqrt(2), 0, sqrt(2)],\n",
       "  'trace': [-2, 2, -2]})"
      ]
     },
     "metadata": {},
     "output_type": "display_data"
    },
    {
     "data": {
      "text/html": [
       "<html><script type=\"math/tex; mode=display\">\\newcommand{\\Bold}[1]{\\mathbf{#1}}\\left(\\verb|[1,|\\phantom{\\verb!x!}\\verb|0,|\\phantom{\\verb!x!}\\verb|0,|\\phantom{\\verb!x!}\\verb|1,|\\phantom{\\verb!x!}\\verb|1,|\\phantom{\\verb!x!}\\verb|1,|\\phantom{\\verb!x!}\\verb|1,|\\phantom{\\verb!x!}\\verb|0]|, \\left\\{\\verb|mon| : \\left(\\begin{array}{rr}\n",
       "l^{4} - 3 \\, l^{2} + 1 & l^{3} - 2 \\, l \\\\\n",
       "l^{5} - 4 \\, l^{3} + 3 \\, l & l^{4} - 3 \\, l^{2} + 1\n",
       "\\end{array}\\right), \\verb|sol| : \\left[-\\sqrt{3}, -1, 0, 1, \\sqrt{3}\\right], \\verb|trace| : \\left[2, -2, 2, -2, 2\\right]\\right\\}\\right)</script></html>"
      ],
      "text/latex": [
       "\\begin{math}\n",
       "\\newcommand{\\Bold}[1]{\\mathbf{#1}}\\left(\\verb|[1,|\\phantom{\\verb!x!}\\verb|0,|\\phantom{\\verb!x!}\\verb|0,|\\phantom{\\verb!x!}\\verb|1,|\\phantom{\\verb!x!}\\verb|1,|\\phantom{\\verb!x!}\\verb|1,|\\phantom{\\verb!x!}\\verb|1,|\\phantom{\\verb!x!}\\verb|0]|, \\left\\{\\verb|mon| : \\left(\\begin{array}{rr}\n",
       "l^{4} - 3 \\, l^{2} + 1 & l^{3} - 2 \\, l \\\\\n",
       "l^{5} - 4 \\, l^{3} + 3 \\, l & l^{4} - 3 \\, l^{2} + 1\n",
       "\\end{array}\\right), \\verb|sol| : \\left[-\\sqrt{3}, -1, 0, 1, \\sqrt{3}\\right], \\verb|trace| : \\left[2, -2, 2, -2, 2\\right]\\right\\}\\right)\n",
       "\\end{math}"
      ],
      "text/plain": [
       "('[1, 0, 0, 1, 1, 1, 1, 0]',\n",
       " {'mon': [  l^4 - 3*l^2 + 1         l^3 - 2*l]\n",
       "  [l^5 - 4*l^3 + 3*l   l^4 - 3*l^2 + 1],\n",
       "  'sol': [-sqrt(3), -1, 0, 1, sqrt(3)],\n",
       "  'trace': [2, -2, 2, -2, 2]})"
      ]
     },
     "metadata": {},
     "output_type": "display_data"
    },
    {
     "data": {
      "text/html": [
       "<html><script type=\"math/tex; mode=display\">\\newcommand{\\Bold}[1]{\\mathbf{#1}}\\left(\\verb|[0,|\\phantom{\\verb!x!}\\verb|1,|\\phantom{\\verb!x!}\\verb|0,|\\phantom{\\verb!x!}\\verb|1,|\\phantom{\\verb!x!}\\verb|1,|\\phantom{\\verb!x!}\\verb|1,|\\phantom{\\verb!x!}\\verb|1,|\\phantom{\\verb!x!}\\verb|0]|, \\left\\{\\verb|mon| : \\left(\\begin{array}{rr}\n",
       "-l^{2} + 1 & 2 \\, l^{3} - 3 \\, l \\\\\n",
       "-l^{3} + 2 \\, l & 2 \\, l^{4} - 5 \\, l^{2} + 1\n",
       "\\end{array}\\right), \\verb|sol| : \\left[-\\sqrt{2}, 0, \\sqrt{2}\\right], \\verb|trace| : \\left[-2, 2, -2\\right]\\right\\}\\right)</script></html>"
      ],
      "text/latex": [
       "\\begin{math}\n",
       "\\newcommand{\\Bold}[1]{\\mathbf{#1}}\\left(\\verb|[0,|\\phantom{\\verb!x!}\\verb|1,|\\phantom{\\verb!x!}\\verb|0,|\\phantom{\\verb!x!}\\verb|1,|\\phantom{\\verb!x!}\\verb|1,|\\phantom{\\verb!x!}\\verb|1,|\\phantom{\\verb!x!}\\verb|1,|\\phantom{\\verb!x!}\\verb|0]|, \\left\\{\\verb|mon| : \\left(\\begin{array}{rr}\n",
       "-l^{2} + 1 & 2 \\, l^{3} - 3 \\, l \\\\\n",
       "-l^{3} + 2 \\, l & 2 \\, l^{4} - 5 \\, l^{2} + 1\n",
       "\\end{array}\\right), \\verb|sol| : \\left[-\\sqrt{2}, 0, \\sqrt{2}\\right], \\verb|trace| : \\left[-2, 2, -2\\right]\\right\\}\\right)\n",
       "\\end{math}"
      ],
      "text/plain": [
       "('[0, 1, 0, 1, 1, 1, 1, 0]',\n",
       " {'mon': [         -l^2 + 1       2*l^3 - 3*l]\n",
       "  [       -l^3 + 2*l 2*l^4 - 5*l^2 + 1],\n",
       "  'sol': [-sqrt(2), 0, sqrt(2)],\n",
       "  'trace': [-2, 2, -2]})"
      ]
     },
     "metadata": {},
     "output_type": "display_data"
    },
    {
     "data": {
      "text/html": [
       "<html><script type=\"math/tex; mode=display\">\\newcommand{\\Bold}[1]{\\mathbf{#1}}\\left(\\verb|[1,|\\phantom{\\verb!x!}\\verb|1,|\\phantom{\\verb!x!}\\verb|0,|\\phantom{\\verb!x!}\\verb|1,|\\phantom{\\verb!x!}\\verb|1,|\\phantom{\\verb!x!}\\verb|1,|\\phantom{\\verb!x!}\\verb|1,|\\phantom{\\verb!x!}\\verb|0]|, \\left\\{\\verb|mon| : \\left(\\begin{array}{rr}\n",
       "2 \\, l^{4} - 4 \\, l^{2} + 1 & 2 \\, l^{3} - 3 \\, l \\\\\n",
       "2 \\, l^{5} - 6 \\, l^{3} + 3 \\, l & 2 \\, l^{4} - 5 \\, l^{2} + 1\n",
       "\\end{array}\\right), \\verb|sol| : \\left[-\\sqrt{\\frac{1}{2} \\, \\sqrt{3} + \\frac{3}{2}}, -\\sqrt{-\\frac{1}{2} \\, \\sqrt{3} + \\frac{3}{2}}, 0, \\sqrt{-\\frac{1}{2} \\, \\sqrt{3} + \\frac{3}{2}}, \\sqrt{\\frac{1}{2} \\, \\sqrt{3} + \\frac{3}{2}}\\right], \\verb|trace| : \\left[{\\left(\\sqrt{3} + 3\\right)}^{2} - \\frac{9}{2} \\, \\sqrt{3} - \\frac{23}{2}, {\\left(\\sqrt{3} - 3\\right)}^{2} + \\frac{9}{2} \\, \\sqrt{3} - \\frac{23}{2}, 2, {\\left(\\sqrt{3} - 3\\right)}^{2} + \\frac{9}{2} \\, \\sqrt{3} - \\frac{23}{2}, {\\left(\\sqrt{3} + 3\\right)}^{2} - \\frac{9}{2} \\, \\sqrt{3} - \\frac{23}{2}\\right]\\right\\}\\right)</script></html>"
      ],
      "text/latex": [
       "\\begin{math}\n",
       "\\newcommand{\\Bold}[1]{\\mathbf{#1}}\\left(\\verb|[1,|\\phantom{\\verb!x!}\\verb|1,|\\phantom{\\verb!x!}\\verb|0,|\\phantom{\\verb!x!}\\verb|1,|\\phantom{\\verb!x!}\\verb|1,|\\phantom{\\verb!x!}\\verb|1,|\\phantom{\\verb!x!}\\verb|1,|\\phantom{\\verb!x!}\\verb|0]|, \\left\\{\\verb|mon| : \\left(\\begin{array}{rr}\n",
       "2 \\, l^{4} - 4 \\, l^{2} + 1 & 2 \\, l^{3} - 3 \\, l \\\\\n",
       "2 \\, l^{5} - 6 \\, l^{3} + 3 \\, l & 2 \\, l^{4} - 5 \\, l^{2} + 1\n",
       "\\end{array}\\right), \\verb|sol| : \\left[-\\sqrt{\\frac{1}{2} \\, \\sqrt{3} + \\frac{3}{2}}, -\\sqrt{-\\frac{1}{2} \\, \\sqrt{3} + \\frac{3}{2}}, 0, \\sqrt{-\\frac{1}{2} \\, \\sqrt{3} + \\frac{3}{2}}, \\sqrt{\\frac{1}{2} \\, \\sqrt{3} + \\frac{3}{2}}\\right], \\verb|trace| : \\left[{\\left(\\sqrt{3} + 3\\right)}^{2} - \\frac{9}{2} \\, \\sqrt{3} - \\frac{23}{2}, {\\left(\\sqrt{3} - 3\\right)}^{2} + \\frac{9}{2} \\, \\sqrt{3} - \\frac{23}{2}, 2, {\\left(\\sqrt{3} - 3\\right)}^{2} + \\frac{9}{2} \\, \\sqrt{3} - \\frac{23}{2}, {\\left(\\sqrt{3} + 3\\right)}^{2} - \\frac{9}{2} \\, \\sqrt{3} - \\frac{23}{2}\\right]\\right\\}\\right)\n",
       "\\end{math}"
      ],
      "text/plain": [
       "('[1, 1, 0, 1, 1, 1, 1, 0]',\n",
       " {'mon': [  2*l^4 - 4*l^2 + 1         2*l^3 - 3*l]\n",
       "  [2*l^5 - 6*l^3 + 3*l   2*l^4 - 5*l^2 + 1],\n",
       "  'sol': [-sqrt(1/2*sqrt(3) + 3/2),\n",
       "   -sqrt(-1/2*sqrt(3) + 3/2),\n",
       "   0,\n",
       "   sqrt(-1/2*sqrt(3) + 3/2),\n",
       "   sqrt(1/2*sqrt(3) + 3/2)],\n",
       "  'trace': [(sqrt(3) + 3)^2 - 9/2*sqrt(3) - 23/2,\n",
       "   (sqrt(3) - 3)^2 + 9/2*sqrt(3) - 23/2,\n",
       "   2,\n",
       "   (sqrt(3) - 3)^2 + 9/2*sqrt(3) - 23/2,\n",
       "   (sqrt(3) + 3)^2 - 9/2*sqrt(3) - 23/2]})"
      ]
     },
     "metadata": {},
     "output_type": "display_data"
    },
    {
     "data": {
      "text/html": [
       "<html><script type=\"math/tex; mode=display\">\\newcommand{\\Bold}[1]{\\mathbf{#1}}\\left(\\verb|[0,|\\phantom{\\verb!x!}\\verb|0,|\\phantom{\\verb!x!}\\verb|1,|\\phantom{\\verb!x!}\\verb|1,|\\phantom{\\verb!x!}\\verb|1,|\\phantom{\\verb!x!}\\verb|1,|\\phantom{\\verb!x!}\\verb|1,|\\phantom{\\verb!x!}\\verb|0]|, \\left\\{\\verb|mon| : \\left(\\begin{array}{rr}\n",
       "l^{4} - 3 \\, l^{2} + 1 & l^{3} - 2 \\, l \\\\\n",
       "l^{5} - 4 \\, l^{3} + 3 \\, l & l^{4} - 3 \\, l^{2} + 1\n",
       "\\end{array}\\right), \\verb|sol| : \\left[-\\sqrt{3}, -1, 0, 1, \\sqrt{3}\\right], \\verb|trace| : \\left[2, -2, 2, -2, 2\\right]\\right\\}\\right)</script></html>"
      ],
      "text/latex": [
       "\\begin{math}\n",
       "\\newcommand{\\Bold}[1]{\\mathbf{#1}}\\left(\\verb|[0,|\\phantom{\\verb!x!}\\verb|0,|\\phantom{\\verb!x!}\\verb|1,|\\phantom{\\verb!x!}\\verb|1,|\\phantom{\\verb!x!}\\verb|1,|\\phantom{\\verb!x!}\\verb|1,|\\phantom{\\verb!x!}\\verb|1,|\\phantom{\\verb!x!}\\verb|0]|, \\left\\{\\verb|mon| : \\left(\\begin{array}{rr}\n",
       "l^{4} - 3 \\, l^{2} + 1 & l^{3} - 2 \\, l \\\\\n",
       "l^{5} - 4 \\, l^{3} + 3 \\, l & l^{4} - 3 \\, l^{2} + 1\n",
       "\\end{array}\\right), \\verb|sol| : \\left[-\\sqrt{3}, -1, 0, 1, \\sqrt{3}\\right], \\verb|trace| : \\left[2, -2, 2, -2, 2\\right]\\right\\}\\right)\n",
       "\\end{math}"
      ],
      "text/plain": [
       "('[0, 0, 1, 1, 1, 1, 1, 0]',\n",
       " {'mon': [  l^4 - 3*l^2 + 1         l^3 - 2*l]\n",
       "  [l^5 - 4*l^3 + 3*l   l^4 - 3*l^2 + 1],\n",
       "  'sol': [-sqrt(3), -1, 0, 1, sqrt(3)],\n",
       "  'trace': [2, -2, 2, -2, 2]})"
      ]
     },
     "metadata": {},
     "output_type": "display_data"
    },
    {
     "data": {
      "text/html": [
       "<html><script type=\"math/tex; mode=display\">\\newcommand{\\Bold}[1]{\\mathbf{#1}}\\left(\\verb|[1,|\\phantom{\\verb!x!}\\verb|0,|\\phantom{\\verb!x!}\\verb|1,|\\phantom{\\verb!x!}\\verb|1,|\\phantom{\\verb!x!}\\verb|1,|\\phantom{\\verb!x!}\\verb|1,|\\phantom{\\verb!x!}\\verb|1,|\\phantom{\\verb!x!}\\verb|0]|, \\left\\{\\verb|mon| : \\left(\\begin{array}{rr}\n",
       "2 \\, l^{4} - 5 \\, l^{2} + 1 & l^{3} - 2 \\, l \\\\\n",
       "2 \\, l^{5} - 7 \\, l^{3} + 4 \\, l & l^{4} - 3 \\, l^{2} + 1\n",
       "\\end{array}\\right), \\verb|sol| : \\left[-\\frac{1}{2} \\, \\sqrt{\\sqrt{17} + 7}, -\\frac{1}{2} \\, \\sqrt{-\\sqrt{17} + 7}, 0, \\frac{1}{2} \\, \\sqrt{-\\sqrt{17} + 7}, \\frac{1}{2} \\, \\sqrt{\\sqrt{17} + 7}\\right], \\verb|trace| : \\left[\\frac{3}{16} \\, {\\left(\\sqrt{17} + 7\\right)}^{2} - 2 \\, \\sqrt{17} - 12, \\frac{3}{16} \\, {\\left(\\sqrt{17} - 7\\right)}^{2} + 2 \\, \\sqrt{17} - 12, 2, \\frac{3}{16} \\, {\\left(\\sqrt{17} - 7\\right)}^{2} + 2 \\, \\sqrt{17} - 12, \\frac{3}{16} \\, {\\left(\\sqrt{17} + 7\\right)}^{2} - 2 \\, \\sqrt{17} - 12\\right]\\right\\}\\right)</script></html>"
      ],
      "text/latex": [
       "\\begin{math}\n",
       "\\newcommand{\\Bold}[1]{\\mathbf{#1}}\\left(\\verb|[1,|\\phantom{\\verb!x!}\\verb|0,|\\phantom{\\verb!x!}\\verb|1,|\\phantom{\\verb!x!}\\verb|1,|\\phantom{\\verb!x!}\\verb|1,|\\phantom{\\verb!x!}\\verb|1,|\\phantom{\\verb!x!}\\verb|1,|\\phantom{\\verb!x!}\\verb|0]|, \\left\\{\\verb|mon| : \\left(\\begin{array}{rr}\n",
       "2 \\, l^{4} - 5 \\, l^{2} + 1 & l^{3} - 2 \\, l \\\\\n",
       "2 \\, l^{5} - 7 \\, l^{3} + 4 \\, l & l^{4} - 3 \\, l^{2} + 1\n",
       "\\end{array}\\right), \\verb|sol| : \\left[-\\frac{1}{2} \\, \\sqrt{\\sqrt{17} + 7}, -\\frac{1}{2} \\, \\sqrt{-\\sqrt{17} + 7}, 0, \\frac{1}{2} \\, \\sqrt{-\\sqrt{17} + 7}, \\frac{1}{2} \\, \\sqrt{\\sqrt{17} + 7}\\right], \\verb|trace| : \\left[\\frac{3}{16} \\, {\\left(\\sqrt{17} + 7\\right)}^{2} - 2 \\, \\sqrt{17} - 12, \\frac{3}{16} \\, {\\left(\\sqrt{17} - 7\\right)}^{2} + 2 \\, \\sqrt{17} - 12, 2, \\frac{3}{16} \\, {\\left(\\sqrt{17} - 7\\right)}^{2} + 2 \\, \\sqrt{17} - 12, \\frac{3}{16} \\, {\\left(\\sqrt{17} + 7\\right)}^{2} - 2 \\, \\sqrt{17} - 12\\right]\\right\\}\\right)\n",
       "\\end{math}"
      ],
      "text/plain": [
       "('[1, 0, 1, 1, 1, 1, 1, 0]',\n",
       " {'mon': [  2*l^4 - 5*l^2 + 1           l^3 - 2*l]\n",
       "  [2*l^5 - 7*l^3 + 4*l     l^4 - 3*l^2 + 1],\n",
       "  'sol': [-1/2*sqrt(sqrt(17) + 7),\n",
       "   -1/2*sqrt(-sqrt(17) + 7),\n",
       "   0,\n",
       "   1/2*sqrt(-sqrt(17) + 7),\n",
       "   1/2*sqrt(sqrt(17) + 7)],\n",
       "  'trace': [3/16*(sqrt(17) + 7)^2 - 2*sqrt(17) - 12,\n",
       "   3/16*(sqrt(17) - 7)^2 + 2*sqrt(17) - 12,\n",
       "   2,\n",
       "   3/16*(sqrt(17) - 7)^2 + 2*sqrt(17) - 12,\n",
       "   3/16*(sqrt(17) + 7)^2 - 2*sqrt(17) - 12]})"
      ]
     },
     "metadata": {},
     "output_type": "display_data"
    },
    {
     "data": {
      "text/html": [
       "<html><script type=\"math/tex; mode=display\">\\newcommand{\\Bold}[1]{\\mathbf{#1}}\\left(\\verb|[0,|\\phantom{\\verb!x!}\\verb|1,|\\phantom{\\verb!x!}\\verb|1,|\\phantom{\\verb!x!}\\verb|1,|\\phantom{\\verb!x!}\\verb|1,|\\phantom{\\verb!x!}\\verb|1,|\\phantom{\\verb!x!}\\verb|1,|\\phantom{\\verb!x!}\\verb|0]|, \\left\\{\\verb|mon| : \\left(\\begin{array}{rr}\n",
       "l^{4} - 3 \\, l^{2} + 1 & -l^{5} + 4 \\, l^{3} - 3 \\, l \\\\\n",
       "l^{5} - 4 \\, l^{3} + 3 \\, l & -l^{6} + 5 \\, l^{4} - 6 \\, l^{2} + 1\n",
       "\\end{array}\\right), \\verb|sol| : \\left[-\\sqrt{3}, -1, 0, 1, \\sqrt{3}\\right], \\verb|trace| : \\left[2, -2, 2, -2, 2\\right]\\right\\}\\right)</script></html>"
      ],
      "text/latex": [
       "\\begin{math}\n",
       "\\newcommand{\\Bold}[1]{\\mathbf{#1}}\\left(\\verb|[0,|\\phantom{\\verb!x!}\\verb|1,|\\phantom{\\verb!x!}\\verb|1,|\\phantom{\\verb!x!}\\verb|1,|\\phantom{\\verb!x!}\\verb|1,|\\phantom{\\verb!x!}\\verb|1,|\\phantom{\\verb!x!}\\verb|1,|\\phantom{\\verb!x!}\\verb|0]|, \\left\\{\\verb|mon| : \\left(\\begin{array}{rr}\n",
       "l^{4} - 3 \\, l^{2} + 1 & -l^{5} + 4 \\, l^{3} - 3 \\, l \\\\\n",
       "l^{5} - 4 \\, l^{3} + 3 \\, l & -l^{6} + 5 \\, l^{4} - 6 \\, l^{2} + 1\n",
       "\\end{array}\\right), \\verb|sol| : \\left[-\\sqrt{3}, -1, 0, 1, \\sqrt{3}\\right], \\verb|trace| : \\left[2, -2, 2, -2, 2\\right]\\right\\}\\right)\n",
       "\\end{math}"
      ],
      "text/plain": [
       "('[0, 1, 1, 1, 1, 1, 1, 0]',\n",
       " {'mon': [         l^4 - 3*l^2 + 1       -l^5 + 4*l^3 - 3*l]\n",
       "  [       l^5 - 4*l^3 + 3*l -l^6 + 5*l^4 - 6*l^2 + 1],\n",
       "  'sol': [-sqrt(3), -1, 0, 1, sqrt(3)],\n",
       "  'trace': [2, -2, 2, -2, 2]})"
      ]
     },
     "metadata": {},
     "output_type": "display_data"
    },
    {
     "data": {
      "text/html": [
       "<html><script type=\"math/tex; mode=display\">\\newcommand{\\Bold}[1]{\\mathbf{#1}}\\left(\\verb|[1,|\\phantom{\\verb!x!}\\verb|1,|\\phantom{\\verb!x!}\\verb|1,|\\phantom{\\verb!x!}\\verb|1,|\\phantom{\\verb!x!}\\verb|1,|\\phantom{\\verb!x!}\\verb|1,|\\phantom{\\verb!x!}\\verb|1,|\\phantom{\\verb!x!}\\verb|0]|, \\left\\{\\verb|mon| : \\left(\\begin{array}{rr}\n",
       "-l^{6} + 5 \\, l^{4} - 6 \\, l^{2} + 1 & -l^{5} + 4 \\, l^{3} - 3 \\, l \\\\\n",
       "-l^{7} + 6 \\, l^{5} - 10 \\, l^{3} + 4 \\, l & -l^{6} + 5 \\, l^{4} - 6 \\, l^{2} + 1\n",
       "\\end{array}\\right), \\verb|sol| : \\left[-\\sqrt{\\sqrt{2} + 2}, -\\sqrt{2}, -\\sqrt{-\\sqrt{2} + 2}, 0, \\sqrt{-\\sqrt{2} + 2}, \\sqrt{2}, \\sqrt{\\sqrt{2} + 2}\\right], \\verb|trace| : \\left[-2 \\, {\\left(\\sqrt{2} + 2\\right)}^{3} + 10 \\, {\\left(\\sqrt{2} + 2\\right)}^{2} - 12 \\, \\sqrt{2} - 22, 2, 2 \\, {\\left(\\sqrt{2} - 2\\right)}^{3} + 10 \\, {\\left(\\sqrt{2} - 2\\right)}^{2} + 12 \\, \\sqrt{2} - 22, 2, 2 \\, {\\left(\\sqrt{2} - 2\\right)}^{3} + 10 \\, {\\left(\\sqrt{2} - 2\\right)}^{2} + 12 \\, \\sqrt{2} - 22, 2, -2 \\, {\\left(\\sqrt{2} + 2\\right)}^{3} + 10 \\, {\\left(\\sqrt{2} + 2\\right)}^{2} - 12 \\, \\sqrt{2} - 22\\right]\\right\\}\\right)</script></html>"
      ],
      "text/latex": [
       "\\begin{math}\n",
       "\\newcommand{\\Bold}[1]{\\mathbf{#1}}\\left(\\verb|[1,|\\phantom{\\verb!x!}\\verb|1,|\\phantom{\\verb!x!}\\verb|1,|\\phantom{\\verb!x!}\\verb|1,|\\phantom{\\verb!x!}\\verb|1,|\\phantom{\\verb!x!}\\verb|1,|\\phantom{\\verb!x!}\\verb|1,|\\phantom{\\verb!x!}\\verb|0]|, \\left\\{\\verb|mon| : \\left(\\begin{array}{rr}\n",
       "-l^{6} + 5 \\, l^{4} - 6 \\, l^{2} + 1 & -l^{5} + 4 \\, l^{3} - 3 \\, l \\\\\n",
       "-l^{7} + 6 \\, l^{5} - 10 \\, l^{3} + 4 \\, l & -l^{6} + 5 \\, l^{4} - 6 \\, l^{2} + 1\n",
       "\\end{array}\\right), \\verb|sol| : \\left[-\\sqrt{\\sqrt{2} + 2}, -\\sqrt{2}, -\\sqrt{-\\sqrt{2} + 2}, 0, \\sqrt{-\\sqrt{2} + 2}, \\sqrt{2}, \\sqrt{\\sqrt{2} + 2}\\right], \\verb|trace| : \\left[-2 \\, {\\left(\\sqrt{2} + 2\\right)}^{3} + 10 \\, {\\left(\\sqrt{2} + 2\\right)}^{2} - 12 \\, \\sqrt{2} - 22, 2, 2 \\, {\\left(\\sqrt{2} - 2\\right)}^{3} + 10 \\, {\\left(\\sqrt{2} - 2\\right)}^{2} + 12 \\, \\sqrt{2} - 22, 2, 2 \\, {\\left(\\sqrt{2} - 2\\right)}^{3} + 10 \\, {\\left(\\sqrt{2} - 2\\right)}^{2} + 12 \\, \\sqrt{2} - 22, 2, -2 \\, {\\left(\\sqrt{2} + 2\\right)}^{3} + 10 \\, {\\left(\\sqrt{2} + 2\\right)}^{2} - 12 \\, \\sqrt{2} - 22\\right]\\right\\}\\right)\n",
       "\\end{math}"
      ],
      "text/plain": [
       "('[1, 1, 1, 1, 1, 1, 1, 0]',\n",
       " {'mon': [   -l^6 + 5*l^4 - 6*l^2 + 1          -l^5 + 4*l^3 - 3*l]\n",
       "  [-l^7 + 6*l^5 - 10*l^3 + 4*l    -l^6 + 5*l^4 - 6*l^2 + 1],\n",
       "  'sol': [-sqrt(sqrt(2) + 2),\n",
       "   -sqrt(2),\n",
       "   -sqrt(-sqrt(2) + 2),\n",
       "   0,\n",
       "   sqrt(-sqrt(2) + 2),\n",
       "   sqrt(2),\n",
       "   sqrt(sqrt(2) + 2)],\n",
       "  'trace': [-2*(sqrt(2) + 2)^3 + 10*(sqrt(2) + 2)^2 - 12*sqrt(2) - 22,\n",
       "   2,\n",
       "   2*(sqrt(2) - 2)^3 + 10*(sqrt(2) - 2)^2 + 12*sqrt(2) - 22,\n",
       "   2,\n",
       "   2*(sqrt(2) - 2)^3 + 10*(sqrt(2) - 2)^2 + 12*sqrt(2) - 22,\n",
       "   2,\n",
       "   -2*(sqrt(2) + 2)^3 + 10*(sqrt(2) + 2)^2 - 12*sqrt(2) - 22]})"
      ]
     },
     "metadata": {},
     "output_type": "display_data"
    },
    {
     "data": {
      "text/html": [
       "<html><script type=\"math/tex; mode=display\">\\newcommand{\\Bold}[1]{\\mathbf{#1}}\\left(\\verb|[0,|\\phantom{\\verb!x!}\\verb|0,|\\phantom{\\verb!x!}\\verb|0,|\\phantom{\\verb!x!}\\verb|0,|\\phantom{\\verb!x!}\\verb|0,|\\phantom{\\verb!x!}\\verb|0,|\\phantom{\\verb!x!}\\verb|0,|\\phantom{\\verb!x!}\\verb|1]|, \\left\\{\\verb|mon| : \\left(\\begin{array}{rr}\n",
       "1 & -l \\\\\n",
       "0 & 1\n",
       "\\end{array}\\right), \\verb|sol| : \\left[r_{1}\\right], \\verb|trace| : \\left[2\\right]\\right\\}\\right)</script></html>"
      ],
      "text/latex": [
       "\\begin{math}\n",
       "\\newcommand{\\Bold}[1]{\\mathbf{#1}}\\left(\\verb|[0,|\\phantom{\\verb!x!}\\verb|0,|\\phantom{\\verb!x!}\\verb|0,|\\phantom{\\verb!x!}\\verb|0,|\\phantom{\\verb!x!}\\verb|0,|\\phantom{\\verb!x!}\\verb|0,|\\phantom{\\verb!x!}\\verb|0,|\\phantom{\\verb!x!}\\verb|1]|, \\left\\{\\verb|mon| : \\left(\\begin{array}{rr}\n",
       "1 & -l \\\\\n",
       "0 & 1\n",
       "\\end{array}\\right), \\verb|sol| : \\left[r_{1}\\right], \\verb|trace| : \\left[2\\right]\\right\\}\\right)\n",
       "\\end{math}"
      ],
      "text/plain": [
       "('[0, 0, 0, 0, 0, 0, 0, 1]',\n",
       " {'mon': [ 1 -l]\n",
       "  [ 0  1], 'sol': [r1], 'trace': [2]})"
      ]
     },
     "metadata": {},
     "output_type": "display_data"
    },
    {
     "data": {
      "text/html": [
       "<html><script type=\"math/tex; mode=display\">\\newcommand{\\Bold}[1]{\\mathbf{#1}}\\left(\\verb|[1,|\\phantom{\\verb!x!}\\verb|0,|\\phantom{\\verb!x!}\\verb|0,|\\phantom{\\verb!x!}\\verb|0,|\\phantom{\\verb!x!}\\verb|0,|\\phantom{\\verb!x!}\\verb|0,|\\phantom{\\verb!x!}\\verb|0,|\\phantom{\\verb!x!}\\verb|1]|, \\left\\{\\verb|mon| : \\left(\\begin{array}{rr}\n",
       "-l^{2} + 1 & -l \\\\\n",
       "l & 1\n",
       "\\end{array}\\right), \\verb|sol| : \\left[0\\right], \\verb|trace| : \\left[2\\right]\\right\\}\\right)</script></html>"
      ],
      "text/latex": [
       "\\begin{math}\n",
       "\\newcommand{\\Bold}[1]{\\mathbf{#1}}\\left(\\verb|[1,|\\phantom{\\verb!x!}\\verb|0,|\\phantom{\\verb!x!}\\verb|0,|\\phantom{\\verb!x!}\\verb|0,|\\phantom{\\verb!x!}\\verb|0,|\\phantom{\\verb!x!}\\verb|0,|\\phantom{\\verb!x!}\\verb|0,|\\phantom{\\verb!x!}\\verb|1]|, \\left\\{\\verb|mon| : \\left(\\begin{array}{rr}\n",
       "-l^{2} + 1 & -l \\\\\n",
       "l & 1\n",
       "\\end{array}\\right), \\verb|sol| : \\left[0\\right], \\verb|trace| : \\left[2\\right]\\right\\}\\right)\n",
       "\\end{math}"
      ],
      "text/plain": [
       "('[1, 0, 0, 0, 0, 0, 0, 1]',\n",
       " {'mon': [-l^2 + 1       -l]\n",
       "  [       l        1], 'sol': [0], 'trace': [2]})"
      ]
     },
     "metadata": {},
     "output_type": "display_data"
    },
    {
     "data": {
      "text/html": [
       "<html><script type=\"math/tex; mode=display\">\\newcommand{\\Bold}[1]{\\mathbf{#1}}\\left(\\verb|[0,|\\phantom{\\verb!x!}\\verb|1,|\\phantom{\\verb!x!}\\verb|0,|\\phantom{\\verb!x!}\\verb|0,|\\phantom{\\verb!x!}\\verb|0,|\\phantom{\\verb!x!}\\verb|0,|\\phantom{\\verb!x!}\\verb|0,|\\phantom{\\verb!x!}\\verb|1]|, \\left\\{\\verb|mon| : \\left(\\begin{array}{rr}\n",
       "1 & -2 \\, l \\\\\n",
       "0 & 1\n",
       "\\end{array}\\right), \\verb|sol| : \\left[r_{1}\\right], \\verb|trace| : \\left[2\\right]\\right\\}\\right)</script></html>"
      ],
      "text/latex": [
       "\\begin{math}\n",
       "\\newcommand{\\Bold}[1]{\\mathbf{#1}}\\left(\\verb|[0,|\\phantom{\\verb!x!}\\verb|1,|\\phantom{\\verb!x!}\\verb|0,|\\phantom{\\verb!x!}\\verb|0,|\\phantom{\\verb!x!}\\verb|0,|\\phantom{\\verb!x!}\\verb|0,|\\phantom{\\verb!x!}\\verb|0,|\\phantom{\\verb!x!}\\verb|1]|, \\left\\{\\verb|mon| : \\left(\\begin{array}{rr}\n",
       "1 & -2 \\, l \\\\\n",
       "0 & 1\n",
       "\\end{array}\\right), \\verb|sol| : \\left[r_{1}\\right], \\verb|trace| : \\left[2\\right]\\right\\}\\right)\n",
       "\\end{math}"
      ],
      "text/plain": [
       "('[0, 1, 0, 0, 0, 0, 0, 1]',\n",
       " {'mon': [   1 -2*l]\n",
       "  [   0    1], 'sol': [r1], 'trace': [2]})"
      ]
     },
     "metadata": {},
     "output_type": "display_data"
    },
    {
     "data": {
      "text/html": [
       "<html><script type=\"math/tex; mode=display\">\\newcommand{\\Bold}[1]{\\mathbf{#1}}\\left(\\verb|[1,|\\phantom{\\verb!x!}\\verb|1,|\\phantom{\\verb!x!}\\verb|0,|\\phantom{\\verb!x!}\\verb|0,|\\phantom{\\verb!x!}\\verb|0,|\\phantom{\\verb!x!}\\verb|0,|\\phantom{\\verb!x!}\\verb|0,|\\phantom{\\verb!x!}\\verb|1]|, \\left\\{\\verb|mon| : \\left(\\begin{array}{rr}\n",
       "-2 \\, l^{2} + 1 & -2 \\, l \\\\\n",
       "l & 1\n",
       "\\end{array}\\right), \\verb|sol| : \\left[0\\right], \\verb|trace| : \\left[2\\right]\\right\\}\\right)</script></html>"
      ],
      "text/latex": [
       "\\begin{math}\n",
       "\\newcommand{\\Bold}[1]{\\mathbf{#1}}\\left(\\verb|[1,|\\phantom{\\verb!x!}\\verb|1,|\\phantom{\\verb!x!}\\verb|0,|\\phantom{\\verb!x!}\\verb|0,|\\phantom{\\verb!x!}\\verb|0,|\\phantom{\\verb!x!}\\verb|0,|\\phantom{\\verb!x!}\\verb|0,|\\phantom{\\verb!x!}\\verb|1]|, \\left\\{\\verb|mon| : \\left(\\begin{array}{rr}\n",
       "-2 \\, l^{2} + 1 & -2 \\, l \\\\\n",
       "l & 1\n",
       "\\end{array}\\right), \\verb|sol| : \\left[0\\right], \\verb|trace| : \\left[2\\right]\\right\\}\\right)\n",
       "\\end{math}"
      ],
      "text/plain": [
       "('[1, 1, 0, 0, 0, 0, 0, 1]',\n",
       " {'mon': [-2*l^2 + 1       -2*l]\n",
       "  [         l          1], 'sol': [0], 'trace': [2]})"
      ]
     },
     "metadata": {},
     "output_type": "display_data"
    },
    {
     "data": {
      "text/html": [
       "<html><script type=\"math/tex; mode=display\">\\newcommand{\\Bold}[1]{\\mathbf{#1}}\\left(\\verb|[0,|\\phantom{\\verb!x!}\\verb|0,|\\phantom{\\verb!x!}\\verb|1,|\\phantom{\\verb!x!}\\verb|0,|\\phantom{\\verb!x!}\\verb|0,|\\phantom{\\verb!x!}\\verb|0,|\\phantom{\\verb!x!}\\verb|0,|\\phantom{\\verb!x!}\\verb|1]|, \\left\\{\\verb|mon| : \\left(\\begin{array}{rr}\n",
       "-l^{2} + 1 & -l \\\\\n",
       "l & 1\n",
       "\\end{array}\\right), \\verb|sol| : \\left[0\\right], \\verb|trace| : \\left[2\\right]\\right\\}\\right)</script></html>"
      ],
      "text/latex": [
       "\\begin{math}\n",
       "\\newcommand{\\Bold}[1]{\\mathbf{#1}}\\left(\\verb|[0,|\\phantom{\\verb!x!}\\verb|0,|\\phantom{\\verb!x!}\\verb|1,|\\phantom{\\verb!x!}\\verb|0,|\\phantom{\\verb!x!}\\verb|0,|\\phantom{\\verb!x!}\\verb|0,|\\phantom{\\verb!x!}\\verb|0,|\\phantom{\\verb!x!}\\verb|1]|, \\left\\{\\verb|mon| : \\left(\\begin{array}{rr}\n",
       "-l^{2} + 1 & -l \\\\\n",
       "l & 1\n",
       "\\end{array}\\right), \\verb|sol| : \\left[0\\right], \\verb|trace| : \\left[2\\right]\\right\\}\\right)\n",
       "\\end{math}"
      ],
      "text/plain": [
       "('[0, 0, 1, 0, 0, 0, 0, 1]',\n",
       " {'mon': [-l^2 + 1       -l]\n",
       "  [       l        1], 'sol': [0], 'trace': [2]})"
      ]
     },
     "metadata": {},
     "output_type": "display_data"
    },
    {
     "data": {
      "text/html": [
       "<html><script type=\"math/tex; mode=display\">\\newcommand{\\Bold}[1]{\\mathbf{#1}}\\left(\\verb|[1,|\\phantom{\\verb!x!}\\verb|0,|\\phantom{\\verb!x!}\\verb|1,|\\phantom{\\verb!x!}\\verb|0,|\\phantom{\\verb!x!}\\verb|0,|\\phantom{\\verb!x!}\\verb|0,|\\phantom{\\verb!x!}\\verb|0,|\\phantom{\\verb!x!}\\verb|1]|, \\left\\{\\verb|mon| : \\left(\\begin{array}{rr}\n",
       "-2 \\, l^{2} + 1 & -l \\\\\n",
       "2 \\, l & 1\n",
       "\\end{array}\\right), \\verb|sol| : \\left[0\\right], \\verb|trace| : \\left[2\\right]\\right\\}\\right)</script></html>"
      ],
      "text/latex": [
       "\\begin{math}\n",
       "\\newcommand{\\Bold}[1]{\\mathbf{#1}}\\left(\\verb|[1,|\\phantom{\\verb!x!}\\verb|0,|\\phantom{\\verb!x!}\\verb|1,|\\phantom{\\verb!x!}\\verb|0,|\\phantom{\\verb!x!}\\verb|0,|\\phantom{\\verb!x!}\\verb|0,|\\phantom{\\verb!x!}\\verb|0,|\\phantom{\\verb!x!}\\verb|1]|, \\left\\{\\verb|mon| : \\left(\\begin{array}{rr}\n",
       "-2 \\, l^{2} + 1 & -l \\\\\n",
       "2 \\, l & 1\n",
       "\\end{array}\\right), \\verb|sol| : \\left[0\\right], \\verb|trace| : \\left[2\\right]\\right\\}\\right)\n",
       "\\end{math}"
      ],
      "text/plain": [
       "('[1, 0, 1, 0, 0, 0, 0, 1]',\n",
       " {'mon': [-2*l^2 + 1         -l]\n",
       "  [       2*l          1], 'sol': [0], 'trace': [2]})"
      ]
     },
     "metadata": {},
     "output_type": "display_data"
    },
    {
     "data": {
      "text/html": [
       "<html><script type=\"math/tex; mode=display\">\\newcommand{\\Bold}[1]{\\mathbf{#1}}\\left(\\verb|[0,|\\phantom{\\verb!x!}\\verb|1,|\\phantom{\\verb!x!}\\verb|1,|\\phantom{\\verb!x!}\\verb|0,|\\phantom{\\verb!x!}\\verb|0,|\\phantom{\\verb!x!}\\verb|0,|\\phantom{\\verb!x!}\\verb|0,|\\phantom{\\verb!x!}\\verb|1]|, \\left\\{\\verb|mon| : \\left(\\begin{array}{rr}\n",
       "-l^{2} + 1 & l^{3} - 2 \\, l \\\\\n",
       "l & -l^{2} + 1\n",
       "\\end{array}\\right), \\verb|sol| : \\left[0\\right], \\verb|trace| : \\left[2\\right]\\right\\}\\right)</script></html>"
      ],
      "text/latex": [
       "\\begin{math}\n",
       "\\newcommand{\\Bold}[1]{\\mathbf{#1}}\\left(\\verb|[0,|\\phantom{\\verb!x!}\\verb|1,|\\phantom{\\verb!x!}\\verb|1,|\\phantom{\\verb!x!}\\verb|0,|\\phantom{\\verb!x!}\\verb|0,|\\phantom{\\verb!x!}\\verb|0,|\\phantom{\\verb!x!}\\verb|0,|\\phantom{\\verb!x!}\\verb|1]|, \\left\\{\\verb|mon| : \\left(\\begin{array}{rr}\n",
       "-l^{2} + 1 & l^{3} - 2 \\, l \\\\\n",
       "l & -l^{2} + 1\n",
       "\\end{array}\\right), \\verb|sol| : \\left[0\\right], \\verb|trace| : \\left[2\\right]\\right\\}\\right)\n",
       "\\end{math}"
      ],
      "text/plain": [
       "('[0, 1, 1, 0, 0, 0, 0, 1]',\n",
       " {'mon': [ -l^2 + 1 l^3 - 2*l]\n",
       "  [        l  -l^2 + 1], 'sol': [0], 'trace': [2]})"
      ]
     },
     "metadata": {},
     "output_type": "display_data"
    },
    {
     "data": {
      "text/html": [
       "<html><script type=\"math/tex; mode=display\">\\newcommand{\\Bold}[1]{\\mathbf{#1}}\\left(\\verb|[1,|\\phantom{\\verb!x!}\\verb|1,|\\phantom{\\verb!x!}\\verb|1,|\\phantom{\\verb!x!}\\verb|0,|\\phantom{\\verb!x!}\\verb|0,|\\phantom{\\verb!x!}\\verb|0,|\\phantom{\\verb!x!}\\verb|0,|\\phantom{\\verb!x!}\\verb|1]|, \\left\\{\\verb|mon| : \\left(\\begin{array}{rr}\n",
       "l^{4} - 3 \\, l^{2} + 1 & l^{3} - 2 \\, l \\\\\n",
       "-l^{3} + 2 \\, l & -l^{2} + 1\n",
       "\\end{array}\\right), \\verb|sol| : \\left[-\\sqrt{2}, 0, \\sqrt{2}\\right], \\verb|trace| : \\left[-2, 2, -2\\right]\\right\\}\\right)</script></html>"
      ],
      "text/latex": [
       "\\begin{math}\n",
       "\\newcommand{\\Bold}[1]{\\mathbf{#1}}\\left(\\verb|[1,|\\phantom{\\verb!x!}\\verb|1,|\\phantom{\\verb!x!}\\verb|1,|\\phantom{\\verb!x!}\\verb|0,|\\phantom{\\verb!x!}\\verb|0,|\\phantom{\\verb!x!}\\verb|0,|\\phantom{\\verb!x!}\\verb|0,|\\phantom{\\verb!x!}\\verb|1]|, \\left\\{\\verb|mon| : \\left(\\begin{array}{rr}\n",
       "l^{4} - 3 \\, l^{2} + 1 & l^{3} - 2 \\, l \\\\\n",
       "-l^{3} + 2 \\, l & -l^{2} + 1\n",
       "\\end{array}\\right), \\verb|sol| : \\left[-\\sqrt{2}, 0, \\sqrt{2}\\right], \\verb|trace| : \\left[-2, 2, -2\\right]\\right\\}\\right)\n",
       "\\end{math}"
      ],
      "text/plain": [
       "('[1, 1, 1, 0, 0, 0, 0, 1]',\n",
       " {'mon': [l^4 - 3*l^2 + 1       l^3 - 2*l]\n",
       "  [     -l^3 + 2*l        -l^2 + 1],\n",
       "  'sol': [-sqrt(2), 0, sqrt(2)],\n",
       "  'trace': [-2, 2, -2]})"
      ]
     },
     "metadata": {},
     "output_type": "display_data"
    },
    {
     "data": {
      "text/html": [
       "<html><script type=\"math/tex; mode=display\">\\newcommand{\\Bold}[1]{\\mathbf{#1}}\\left(\\verb|[0,|\\phantom{\\verb!x!}\\verb|0,|\\phantom{\\verb!x!}\\verb|0,|\\phantom{\\verb!x!}\\verb|1,|\\phantom{\\verb!x!}\\verb|0,|\\phantom{\\verb!x!}\\verb|0,|\\phantom{\\verb!x!}\\verb|0,|\\phantom{\\verb!x!}\\verb|1]|, \\left\\{\\verb|mon| : \\left(\\begin{array}{rr}\n",
       "1 & -2 \\, l \\\\\n",
       "0 & 1\n",
       "\\end{array}\\right), \\verb|sol| : \\left[r_{1}\\right], \\verb|trace| : \\left[2\\right]\\right\\}\\right)</script></html>"
      ],
      "text/latex": [
       "\\begin{math}\n",
       "\\newcommand{\\Bold}[1]{\\mathbf{#1}}\\left(\\verb|[0,|\\phantom{\\verb!x!}\\verb|0,|\\phantom{\\verb!x!}\\verb|0,|\\phantom{\\verb!x!}\\verb|1,|\\phantom{\\verb!x!}\\verb|0,|\\phantom{\\verb!x!}\\verb|0,|\\phantom{\\verb!x!}\\verb|0,|\\phantom{\\verb!x!}\\verb|1]|, \\left\\{\\verb|mon| : \\left(\\begin{array}{rr}\n",
       "1 & -2 \\, l \\\\\n",
       "0 & 1\n",
       "\\end{array}\\right), \\verb|sol| : \\left[r_{1}\\right], \\verb|trace| : \\left[2\\right]\\right\\}\\right)\n",
       "\\end{math}"
      ],
      "text/plain": [
       "('[0, 0, 0, 1, 0, 0, 0, 1]',\n",
       " {'mon': [   1 -2*l]\n",
       "  [   0    1], 'sol': [r1], 'trace': [2]})"
      ]
     },
     "metadata": {},
     "output_type": "display_data"
    },
    {
     "data": {
      "text/html": [
       "<html><script type=\"math/tex; mode=display\">\\newcommand{\\Bold}[1]{\\mathbf{#1}}\\left(\\verb|[1,|\\phantom{\\verb!x!}\\verb|0,|\\phantom{\\verb!x!}\\verb|0,|\\phantom{\\verb!x!}\\verb|1,|\\phantom{\\verb!x!}\\verb|0,|\\phantom{\\verb!x!}\\verb|0,|\\phantom{\\verb!x!}\\verb|0,|\\phantom{\\verb!x!}\\verb|1]|, \\left\\{\\verb|mon| : \\left(\\begin{array}{rr}\n",
       "-2 \\, l^{2} + 1 & -2 \\, l \\\\\n",
       "l & 1\n",
       "\\end{array}\\right), \\verb|sol| : \\left[0\\right], \\verb|trace| : \\left[2\\right]\\right\\}\\right)</script></html>"
      ],
      "text/latex": [
       "\\begin{math}\n",
       "\\newcommand{\\Bold}[1]{\\mathbf{#1}}\\left(\\verb|[1,|\\phantom{\\verb!x!}\\verb|0,|\\phantom{\\verb!x!}\\verb|0,|\\phantom{\\verb!x!}\\verb|1,|\\phantom{\\verb!x!}\\verb|0,|\\phantom{\\verb!x!}\\verb|0,|\\phantom{\\verb!x!}\\verb|0,|\\phantom{\\verb!x!}\\verb|1]|, \\left\\{\\verb|mon| : \\left(\\begin{array}{rr}\n",
       "-2 \\, l^{2} + 1 & -2 \\, l \\\\\n",
       "l & 1\n",
       "\\end{array}\\right), \\verb|sol| : \\left[0\\right], \\verb|trace| : \\left[2\\right]\\right\\}\\right)\n",
       "\\end{math}"
      ],
      "text/plain": [
       "('[1, 0, 0, 1, 0, 0, 0, 1]',\n",
       " {'mon': [-2*l^2 + 1       -2*l]\n",
       "  [         l          1], 'sol': [0], 'trace': [2]})"
      ]
     },
     "metadata": {},
     "output_type": "display_data"
    },
    {
     "data": {
      "text/html": [
       "<html><script type=\"math/tex; mode=display\">\\newcommand{\\Bold}[1]{\\mathbf{#1}}\\left(\\verb|[0,|\\phantom{\\verb!x!}\\verb|1,|\\phantom{\\verb!x!}\\verb|0,|\\phantom{\\verb!x!}\\verb|1,|\\phantom{\\verb!x!}\\verb|0,|\\phantom{\\verb!x!}\\verb|0,|\\phantom{\\verb!x!}\\verb|0,|\\phantom{\\verb!x!}\\verb|1]|, \\left\\{\\verb|mon| : \\left(\\begin{array}{rr}\n",
       "1 & -3 \\, l \\\\\n",
       "0 & 1\n",
       "\\end{array}\\right), \\verb|sol| : \\left[r_{1}\\right], \\verb|trace| : \\left[2\\right]\\right\\}\\right)</script></html>"
      ],
      "text/latex": [
       "\\begin{math}\n",
       "\\newcommand{\\Bold}[1]{\\mathbf{#1}}\\left(\\verb|[0,|\\phantom{\\verb!x!}\\verb|1,|\\phantom{\\verb!x!}\\verb|0,|\\phantom{\\verb!x!}\\verb|1,|\\phantom{\\verb!x!}\\verb|0,|\\phantom{\\verb!x!}\\verb|0,|\\phantom{\\verb!x!}\\verb|0,|\\phantom{\\verb!x!}\\verb|1]|, \\left\\{\\verb|mon| : \\left(\\begin{array}{rr}\n",
       "1 & -3 \\, l \\\\\n",
       "0 & 1\n",
       "\\end{array}\\right), \\verb|sol| : \\left[r_{1}\\right], \\verb|trace| : \\left[2\\right]\\right\\}\\right)\n",
       "\\end{math}"
      ],
      "text/plain": [
       "('[0, 1, 0, 1, 0, 0, 0, 1]',\n",
       " {'mon': [   1 -3*l]\n",
       "  [   0    1], 'sol': [r1], 'trace': [2]})"
      ]
     },
     "metadata": {},
     "output_type": "display_data"
    },
    {
     "data": {
      "text/html": [
       "<html><script type=\"math/tex; mode=display\">\\newcommand{\\Bold}[1]{\\mathbf{#1}}\\left(\\verb|[1,|\\phantom{\\verb!x!}\\verb|1,|\\phantom{\\verb!x!}\\verb|0,|\\phantom{\\verb!x!}\\verb|1,|\\phantom{\\verb!x!}\\verb|0,|\\phantom{\\verb!x!}\\verb|0,|\\phantom{\\verb!x!}\\verb|0,|\\phantom{\\verb!x!}\\verb|1]|, \\left\\{\\verb|mon| : \\left(\\begin{array}{rr}\n",
       "-3 \\, l^{2} + 1 & -3 \\, l \\\\\n",
       "l & 1\n",
       "\\end{array}\\right), \\verb|sol| : \\left[0\\right], \\verb|trace| : \\left[2\\right]\\right\\}\\right)</script></html>"
      ],
      "text/latex": [
       "\\begin{math}\n",
       "\\newcommand{\\Bold}[1]{\\mathbf{#1}}\\left(\\verb|[1,|\\phantom{\\verb!x!}\\verb|1,|\\phantom{\\verb!x!}\\verb|0,|\\phantom{\\verb!x!}\\verb|1,|\\phantom{\\verb!x!}\\verb|0,|\\phantom{\\verb!x!}\\verb|0,|\\phantom{\\verb!x!}\\verb|0,|\\phantom{\\verb!x!}\\verb|1]|, \\left\\{\\verb|mon| : \\left(\\begin{array}{rr}\n",
       "-3 \\, l^{2} + 1 & -3 \\, l \\\\\n",
       "l & 1\n",
       "\\end{array}\\right), \\verb|sol| : \\left[0\\right], \\verb|trace| : \\left[2\\right]\\right\\}\\right)\n",
       "\\end{math}"
      ],
      "text/plain": [
       "('[1, 1, 0, 1, 0, 0, 0, 1]',\n",
       " {'mon': [-3*l^2 + 1       -3*l]\n",
       "  [         l          1], 'sol': [0], 'trace': [2]})"
      ]
     },
     "metadata": {},
     "output_type": "display_data"
    },
    {
     "data": {
      "text/html": [
       "<html><script type=\"math/tex; mode=display\">\\newcommand{\\Bold}[1]{\\mathbf{#1}}\\left(\\verb|[0,|\\phantom{\\verb!x!}\\verb|0,|\\phantom{\\verb!x!}\\verb|1,|\\phantom{\\verb!x!}\\verb|1,|\\phantom{\\verb!x!}\\verb|0,|\\phantom{\\verb!x!}\\verb|0,|\\phantom{\\verb!x!}\\verb|0,|\\phantom{\\verb!x!}\\verb|1]|, \\left\\{\\verb|mon| : \\left(\\begin{array}{rr}\n",
       "-2 \\, l^{2} + 1 & -2 \\, l \\\\\n",
       "l & 1\n",
       "\\end{array}\\right), \\verb|sol| : \\left[0\\right], \\verb|trace| : \\left[2\\right]\\right\\}\\right)</script></html>"
      ],
      "text/latex": [
       "\\begin{math}\n",
       "\\newcommand{\\Bold}[1]{\\mathbf{#1}}\\left(\\verb|[0,|\\phantom{\\verb!x!}\\verb|0,|\\phantom{\\verb!x!}\\verb|1,|\\phantom{\\verb!x!}\\verb|1,|\\phantom{\\verb!x!}\\verb|0,|\\phantom{\\verb!x!}\\verb|0,|\\phantom{\\verb!x!}\\verb|0,|\\phantom{\\verb!x!}\\verb|1]|, \\left\\{\\verb|mon| : \\left(\\begin{array}{rr}\n",
       "-2 \\, l^{2} + 1 & -2 \\, l \\\\\n",
       "l & 1\n",
       "\\end{array}\\right), \\verb|sol| : \\left[0\\right], \\verb|trace| : \\left[2\\right]\\right\\}\\right)\n",
       "\\end{math}"
      ],
      "text/plain": [
       "('[0, 0, 1, 1, 0, 0, 0, 1]',\n",
       " {'mon': [-2*l^2 + 1       -2*l]\n",
       "  [         l          1], 'sol': [0], 'trace': [2]})"
      ]
     },
     "metadata": {},
     "output_type": "display_data"
    },
    {
     "data": {
      "text/html": [
       "<html><script type=\"math/tex; mode=display\">\\newcommand{\\Bold}[1]{\\mathbf{#1}}\\left(\\verb|[1,|\\phantom{\\verb!x!}\\verb|0,|\\phantom{\\verb!x!}\\verb|1,|\\phantom{\\verb!x!}\\verb|1,|\\phantom{\\verb!x!}\\verb|0,|\\phantom{\\verb!x!}\\verb|0,|\\phantom{\\verb!x!}\\verb|0,|\\phantom{\\verb!x!}\\verb|1]|, \\left\\{\\verb|mon| : \\left(\\begin{array}{rr}\n",
       "-4 \\, l^{2} + 1 & -2 \\, l \\\\\n",
       "2 \\, l & 1\n",
       "\\end{array}\\right), \\verb|sol| : \\left[0\\right], \\verb|trace| : \\left[2\\right]\\right\\}\\right)</script></html>"
      ],
      "text/latex": [
       "\\begin{math}\n",
       "\\newcommand{\\Bold}[1]{\\mathbf{#1}}\\left(\\verb|[1,|\\phantom{\\verb!x!}\\verb|0,|\\phantom{\\verb!x!}\\verb|1,|\\phantom{\\verb!x!}\\verb|1,|\\phantom{\\verb!x!}\\verb|0,|\\phantom{\\verb!x!}\\verb|0,|\\phantom{\\verb!x!}\\verb|0,|\\phantom{\\verb!x!}\\verb|1]|, \\left\\{\\verb|mon| : \\left(\\begin{array}{rr}\n",
       "-4 \\, l^{2} + 1 & -2 \\, l \\\\\n",
       "2 \\, l & 1\n",
       "\\end{array}\\right), \\verb|sol| : \\left[0\\right], \\verb|trace| : \\left[2\\right]\\right\\}\\right)\n",
       "\\end{math}"
      ],
      "text/plain": [
       "('[1, 0, 1, 1, 0, 0, 0, 1]',\n",
       " {'mon': [-4*l^2 + 1       -2*l]\n",
       "  [       2*l          1], 'sol': [0], 'trace': [2]})"
      ]
     },
     "metadata": {},
     "output_type": "display_data"
    },
    {
     "data": {
      "text/html": [
       "<html><script type=\"math/tex; mode=display\">\\newcommand{\\Bold}[1]{\\mathbf{#1}}\\left(\\verb|[0,|\\phantom{\\verb!x!}\\verb|1,|\\phantom{\\verb!x!}\\verb|1,|\\phantom{\\verb!x!}\\verb|1,|\\phantom{\\verb!x!}\\verb|0,|\\phantom{\\verb!x!}\\verb|0,|\\phantom{\\verb!x!}\\verb|0,|\\phantom{\\verb!x!}\\verb|1]|, \\left\\{\\verb|mon| : \\left(\\begin{array}{rr}\n",
       "-2 \\, l^{2} + 1 & 2 \\, l^{3} - 3 \\, l \\\\\n",
       "l & -l^{2} + 1\n",
       "\\end{array}\\right), \\verb|sol| : \\left[0\\right], \\verb|trace| : \\left[2\\right]\\right\\}\\right)</script></html>"
      ],
      "text/latex": [
       "\\begin{math}\n",
       "\\newcommand{\\Bold}[1]{\\mathbf{#1}}\\left(\\verb|[0,|\\phantom{\\verb!x!}\\verb|1,|\\phantom{\\verb!x!}\\verb|1,|\\phantom{\\verb!x!}\\verb|1,|\\phantom{\\verb!x!}\\verb|0,|\\phantom{\\verb!x!}\\verb|0,|\\phantom{\\verb!x!}\\verb|0,|\\phantom{\\verb!x!}\\verb|1]|, \\left\\{\\verb|mon| : \\left(\\begin{array}{rr}\n",
       "-2 \\, l^{2} + 1 & 2 \\, l^{3} - 3 \\, l \\\\\n",
       "l & -l^{2} + 1\n",
       "\\end{array}\\right), \\verb|sol| : \\left[0\\right], \\verb|trace| : \\left[2\\right]\\right\\}\\right)\n",
       "\\end{math}"
      ],
      "text/plain": [
       "('[0, 1, 1, 1, 0, 0, 0, 1]',\n",
       " {'mon': [ -2*l^2 + 1 2*l^3 - 3*l]\n",
       "  [          l    -l^2 + 1], 'sol': [0], 'trace': [2]})"
      ]
     },
     "metadata": {},
     "output_type": "display_data"
    },
    {
     "data": {
      "text/html": [
       "<html><script type=\"math/tex; mode=display\">\\newcommand{\\Bold}[1]{\\mathbf{#1}}\\left(\\verb|[1,|\\phantom{\\verb!x!}\\verb|1,|\\phantom{\\verb!x!}\\verb|1,|\\phantom{\\verb!x!}\\verb|1,|\\phantom{\\verb!x!}\\verb|0,|\\phantom{\\verb!x!}\\verb|0,|\\phantom{\\verb!x!}\\verb|0,|\\phantom{\\verb!x!}\\verb|1]|, \\left\\{\\verb|mon| : \\left(\\begin{array}{rr}\n",
       "2 \\, l^{4} - 5 \\, l^{2} + 1 & 2 \\, l^{3} - 3 \\, l \\\\\n",
       "-l^{3} + 2 \\, l & -l^{2} + 1\n",
       "\\end{array}\\right), \\verb|sol| : \\left[-\\sqrt{2}, 0, \\sqrt{2}\\right], \\verb|trace| : \\left[-2, 2, -2\\right]\\right\\}\\right)</script></html>"
      ],
      "text/latex": [
       "\\begin{math}\n",
       "\\newcommand{\\Bold}[1]{\\mathbf{#1}}\\left(\\verb|[1,|\\phantom{\\verb!x!}\\verb|1,|\\phantom{\\verb!x!}\\verb|1,|\\phantom{\\verb!x!}\\verb|1,|\\phantom{\\verb!x!}\\verb|0,|\\phantom{\\verb!x!}\\verb|0,|\\phantom{\\verb!x!}\\verb|0,|\\phantom{\\verb!x!}\\verb|1]|, \\left\\{\\verb|mon| : \\left(\\begin{array}{rr}\n",
       "2 \\, l^{4} - 5 \\, l^{2} + 1 & 2 \\, l^{3} - 3 \\, l \\\\\n",
       "-l^{3} + 2 \\, l & -l^{2} + 1\n",
       "\\end{array}\\right), \\verb|sol| : \\left[-\\sqrt{2}, 0, \\sqrt{2}\\right], \\verb|trace| : \\left[-2, 2, -2\\right]\\right\\}\\right)\n",
       "\\end{math}"
      ],
      "text/plain": [
       "('[1, 1, 1, 1, 0, 0, 0, 1]',\n",
       " {'mon': [2*l^4 - 5*l^2 + 1       2*l^3 - 3*l]\n",
       "  [       -l^3 + 2*l          -l^2 + 1],\n",
       "  'sol': [-sqrt(2), 0, sqrt(2)],\n",
       "  'trace': [-2, 2, -2]})"
      ]
     },
     "metadata": {},
     "output_type": "display_data"
    },
    {
     "data": {
      "text/html": [
       "<html><script type=\"math/tex; mode=display\">\\newcommand{\\Bold}[1]{\\mathbf{#1}}\\left(\\verb|[0,|\\phantom{\\verb!x!}\\verb|0,|\\phantom{\\verb!x!}\\verb|0,|\\phantom{\\verb!x!}\\verb|0,|\\phantom{\\verb!x!}\\verb|1,|\\phantom{\\verb!x!}\\verb|0,|\\phantom{\\verb!x!}\\verb|0,|\\phantom{\\verb!x!}\\verb|1]|, \\left\\{\\verb|mon| : \\left(\\begin{array}{rr}\n",
       "-l^{2} + 1 & -l \\\\\n",
       "l & 1\n",
       "\\end{array}\\right), \\verb|sol| : \\left[0\\right], \\verb|trace| : \\left[2\\right]\\right\\}\\right)</script></html>"
      ],
      "text/latex": [
       "\\begin{math}\n",
       "\\newcommand{\\Bold}[1]{\\mathbf{#1}}\\left(\\verb|[0,|\\phantom{\\verb!x!}\\verb|0,|\\phantom{\\verb!x!}\\verb|0,|\\phantom{\\verb!x!}\\verb|0,|\\phantom{\\verb!x!}\\verb|1,|\\phantom{\\verb!x!}\\verb|0,|\\phantom{\\verb!x!}\\verb|0,|\\phantom{\\verb!x!}\\verb|1]|, \\left\\{\\verb|mon| : \\left(\\begin{array}{rr}\n",
       "-l^{2} + 1 & -l \\\\\n",
       "l & 1\n",
       "\\end{array}\\right), \\verb|sol| : \\left[0\\right], \\verb|trace| : \\left[2\\right]\\right\\}\\right)\n",
       "\\end{math}"
      ],
      "text/plain": [
       "('[0, 0, 0, 0, 1, 0, 0, 1]',\n",
       " {'mon': [-l^2 + 1       -l]\n",
       "  [       l        1], 'sol': [0], 'trace': [2]})"
      ]
     },
     "metadata": {},
     "output_type": "display_data"
    },
    {
     "data": {
      "text/html": [
       "<html><script type=\"math/tex; mode=display\">\\newcommand{\\Bold}[1]{\\mathbf{#1}}\\left(\\verb|[1,|\\phantom{\\verb!x!}\\verb|0,|\\phantom{\\verb!x!}\\verb|0,|\\phantom{\\verb!x!}\\verb|0,|\\phantom{\\verb!x!}\\verb|1,|\\phantom{\\verb!x!}\\verb|0,|\\phantom{\\verb!x!}\\verb|0,|\\phantom{\\verb!x!}\\verb|1]|, \\left\\{\\verb|mon| : \\left(\\begin{array}{rr}\n",
       "-2 \\, l^{2} + 1 & -l \\\\\n",
       "2 \\, l & 1\n",
       "\\end{array}\\right), \\verb|sol| : \\left[0\\right], \\verb|trace| : \\left[2\\right]\\right\\}\\right)</script></html>"
      ],
      "text/latex": [
       "\\begin{math}\n",
       "\\newcommand{\\Bold}[1]{\\mathbf{#1}}\\left(\\verb|[1,|\\phantom{\\verb!x!}\\verb|0,|\\phantom{\\verb!x!}\\verb|0,|\\phantom{\\verb!x!}\\verb|0,|\\phantom{\\verb!x!}\\verb|1,|\\phantom{\\verb!x!}\\verb|0,|\\phantom{\\verb!x!}\\verb|0,|\\phantom{\\verb!x!}\\verb|1]|, \\left\\{\\verb|mon| : \\left(\\begin{array}{rr}\n",
       "-2 \\, l^{2} + 1 & -l \\\\\n",
       "2 \\, l & 1\n",
       "\\end{array}\\right), \\verb|sol| : \\left[0\\right], \\verb|trace| : \\left[2\\right]\\right\\}\\right)\n",
       "\\end{math}"
      ],
      "text/plain": [
       "('[1, 0, 0, 0, 1, 0, 0, 1]',\n",
       " {'mon': [-2*l^2 + 1         -l]\n",
       "  [       2*l          1], 'sol': [0], 'trace': [2]})"
      ]
     },
     "metadata": {},
     "output_type": "display_data"
    },
    {
     "data": {
      "text/html": [
       "<html><script type=\"math/tex; mode=display\">\\newcommand{\\Bold}[1]{\\mathbf{#1}}\\left(\\verb|[0,|\\phantom{\\verb!x!}\\verb|1,|\\phantom{\\verb!x!}\\verb|0,|\\phantom{\\verb!x!}\\verb|0,|\\phantom{\\verb!x!}\\verb|1,|\\phantom{\\verb!x!}\\verb|0,|\\phantom{\\verb!x!}\\verb|0,|\\phantom{\\verb!x!}\\verb|1]|, \\left\\{\\verb|mon| : \\left(\\begin{array}{rr}\n",
       "-l^{2} + 1 & l^{3} - 2 \\, l \\\\\n",
       "l & -l^{2} + 1\n",
       "\\end{array}\\right), \\verb|sol| : \\left[0\\right], \\verb|trace| : \\left[2\\right]\\right\\}\\right)</script></html>"
      ],
      "text/latex": [
       "\\begin{math}\n",
       "\\newcommand{\\Bold}[1]{\\mathbf{#1}}\\left(\\verb|[0,|\\phantom{\\verb!x!}\\verb|1,|\\phantom{\\verb!x!}\\verb|0,|\\phantom{\\verb!x!}\\verb|0,|\\phantom{\\verb!x!}\\verb|1,|\\phantom{\\verb!x!}\\verb|0,|\\phantom{\\verb!x!}\\verb|0,|\\phantom{\\verb!x!}\\verb|1]|, \\left\\{\\verb|mon| : \\left(\\begin{array}{rr}\n",
       "-l^{2} + 1 & l^{3} - 2 \\, l \\\\\n",
       "l & -l^{2} + 1\n",
       "\\end{array}\\right), \\verb|sol| : \\left[0\\right], \\verb|trace| : \\left[2\\right]\\right\\}\\right)\n",
       "\\end{math}"
      ],
      "text/plain": [
       "('[0, 1, 0, 0, 1, 0, 0, 1]',\n",
       " {'mon': [ -l^2 + 1 l^3 - 2*l]\n",
       "  [        l  -l^2 + 1], 'sol': [0], 'trace': [2]})"
      ]
     },
     "metadata": {},
     "output_type": "display_data"
    },
    {
     "data": {
      "text/html": [
       "<html><script type=\"math/tex; mode=display\">\\newcommand{\\Bold}[1]{\\mathbf{#1}}\\left(\\verb|[1,|\\phantom{\\verb!x!}\\verb|1,|\\phantom{\\verb!x!}\\verb|0,|\\phantom{\\verb!x!}\\verb|0,|\\phantom{\\verb!x!}\\verb|1,|\\phantom{\\verb!x!}\\verb|0,|\\phantom{\\verb!x!}\\verb|0,|\\phantom{\\verb!x!}\\verb|1]|, \\left\\{\\verb|mon| : \\left(\\begin{array}{rr}\n",
       "l^{4} - 3 \\, l^{2} + 1 & l^{3} - 2 \\, l \\\\\n",
       "-l^{3} + 2 \\, l & -l^{2} + 1\n",
       "\\end{array}\\right), \\verb|sol| : \\left[-\\sqrt{2}, 0, \\sqrt{2}\\right], \\verb|trace| : \\left[-2, 2, -2\\right]\\right\\}\\right)</script></html>"
      ],
      "text/latex": [
       "\\begin{math}\n",
       "\\newcommand{\\Bold}[1]{\\mathbf{#1}}\\left(\\verb|[1,|\\phantom{\\verb!x!}\\verb|1,|\\phantom{\\verb!x!}\\verb|0,|\\phantom{\\verb!x!}\\verb|0,|\\phantom{\\verb!x!}\\verb|1,|\\phantom{\\verb!x!}\\verb|0,|\\phantom{\\verb!x!}\\verb|0,|\\phantom{\\verb!x!}\\verb|1]|, \\left\\{\\verb|mon| : \\left(\\begin{array}{rr}\n",
       "l^{4} - 3 \\, l^{2} + 1 & l^{3} - 2 \\, l \\\\\n",
       "-l^{3} + 2 \\, l & -l^{2} + 1\n",
       "\\end{array}\\right), \\verb|sol| : \\left[-\\sqrt{2}, 0, \\sqrt{2}\\right], \\verb|trace| : \\left[-2, 2, -2\\right]\\right\\}\\right)\n",
       "\\end{math}"
      ],
      "text/plain": [
       "('[1, 1, 0, 0, 1, 0, 0, 1]',\n",
       " {'mon': [l^4 - 3*l^2 + 1       l^3 - 2*l]\n",
       "  [     -l^3 + 2*l        -l^2 + 1],\n",
       "  'sol': [-sqrt(2), 0, sqrt(2)],\n",
       "  'trace': [-2, 2, -2]})"
      ]
     },
     "metadata": {},
     "output_type": "display_data"
    },
    {
     "data": {
      "text/html": [
       "<html><script type=\"math/tex; mode=display\">\\newcommand{\\Bold}[1]{\\mathbf{#1}}\\left(\\verb|[0,|\\phantom{\\verb!x!}\\verb|0,|\\phantom{\\verb!x!}\\verb|1,|\\phantom{\\verb!x!}\\verb|0,|\\phantom{\\verb!x!}\\verb|1,|\\phantom{\\verb!x!}\\verb|0,|\\phantom{\\verb!x!}\\verb|0,|\\phantom{\\verb!x!}\\verb|1]|, \\left\\{\\verb|mon| : \\left(\\begin{array}{rr}\n",
       "-2 \\, l^{2} + 1 & -l \\\\\n",
       "2 \\, l & 1\n",
       "\\end{array}\\right), \\verb|sol| : \\left[0\\right], \\verb|trace| : \\left[2\\right]\\right\\}\\right)</script></html>"
      ],
      "text/latex": [
       "\\begin{math}\n",
       "\\newcommand{\\Bold}[1]{\\mathbf{#1}}\\left(\\verb|[0,|\\phantom{\\verb!x!}\\verb|0,|\\phantom{\\verb!x!}\\verb|1,|\\phantom{\\verb!x!}\\verb|0,|\\phantom{\\verb!x!}\\verb|1,|\\phantom{\\verb!x!}\\verb|0,|\\phantom{\\verb!x!}\\verb|0,|\\phantom{\\verb!x!}\\verb|1]|, \\left\\{\\verb|mon| : \\left(\\begin{array}{rr}\n",
       "-2 \\, l^{2} + 1 & -l \\\\\n",
       "2 \\, l & 1\n",
       "\\end{array}\\right), \\verb|sol| : \\left[0\\right], \\verb|trace| : \\left[2\\right]\\right\\}\\right)\n",
       "\\end{math}"
      ],
      "text/plain": [
       "('[0, 0, 1, 0, 1, 0, 0, 1]',\n",
       " {'mon': [-2*l^2 + 1         -l]\n",
       "  [       2*l          1], 'sol': [0], 'trace': [2]})"
      ]
     },
     "metadata": {},
     "output_type": "display_data"
    },
    {
     "data": {
      "text/html": [
       "<html><script type=\"math/tex; mode=display\">\\newcommand{\\Bold}[1]{\\mathbf{#1}}\\left(\\verb|[1,|\\phantom{\\verb!x!}\\verb|0,|\\phantom{\\verb!x!}\\verb|1,|\\phantom{\\verb!x!}\\verb|0,|\\phantom{\\verb!x!}\\verb|1,|\\phantom{\\verb!x!}\\verb|0,|\\phantom{\\verb!x!}\\verb|0,|\\phantom{\\verb!x!}\\verb|1]|, \\left\\{\\verb|mon| : \\left(\\begin{array}{rr}\n",
       "-3 \\, l^{2} + 1 & -l \\\\\n",
       "3 \\, l & 1\n",
       "\\end{array}\\right), \\verb|sol| : \\left[0\\right], \\verb|trace| : \\left[2\\right]\\right\\}\\right)</script></html>"
      ],
      "text/latex": [
       "\\begin{math}\n",
       "\\newcommand{\\Bold}[1]{\\mathbf{#1}}\\left(\\verb|[1,|\\phantom{\\verb!x!}\\verb|0,|\\phantom{\\verb!x!}\\verb|1,|\\phantom{\\verb!x!}\\verb|0,|\\phantom{\\verb!x!}\\verb|1,|\\phantom{\\verb!x!}\\verb|0,|\\phantom{\\verb!x!}\\verb|0,|\\phantom{\\verb!x!}\\verb|1]|, \\left\\{\\verb|mon| : \\left(\\begin{array}{rr}\n",
       "-3 \\, l^{2} + 1 & -l \\\\\n",
       "3 \\, l & 1\n",
       "\\end{array}\\right), \\verb|sol| : \\left[0\\right], \\verb|trace| : \\left[2\\right]\\right\\}\\right)\n",
       "\\end{math}"
      ],
      "text/plain": [
       "('[1, 0, 1, 0, 1, 0, 0, 1]',\n",
       " {'mon': [-3*l^2 + 1         -l]\n",
       "  [       3*l          1], 'sol': [0], 'trace': [2]})"
      ]
     },
     "metadata": {},
     "output_type": "display_data"
    },
    {
     "data": {
      "text/html": [
       "<html><script type=\"math/tex; mode=display\">\\newcommand{\\Bold}[1]{\\mathbf{#1}}\\left(\\verb|[0,|\\phantom{\\verb!x!}\\verb|1,|\\phantom{\\verb!x!}\\verb|1,|\\phantom{\\verb!x!}\\verb|0,|\\phantom{\\verb!x!}\\verb|1,|\\phantom{\\verb!x!}\\verb|0,|\\phantom{\\verb!x!}\\verb|0,|\\phantom{\\verb!x!}\\verb|1]|, \\left\\{\\verb|mon| : \\left(\\begin{array}{rr}\n",
       "-2 \\, l^{2} + 1 & 2 \\, l^{3} - 2 \\, l \\\\\n",
       "2 \\, l & -2 \\, l^{2} + 1\n",
       "\\end{array}\\right), \\verb|sol| : \\left[0\\right], \\verb|trace| : \\left[2\\right]\\right\\}\\right)</script></html>"
      ],
      "text/latex": [
       "\\begin{math}\n",
       "\\newcommand{\\Bold}[1]{\\mathbf{#1}}\\left(\\verb|[0,|\\phantom{\\verb!x!}\\verb|1,|\\phantom{\\verb!x!}\\verb|1,|\\phantom{\\verb!x!}\\verb|0,|\\phantom{\\verb!x!}\\verb|1,|\\phantom{\\verb!x!}\\verb|0,|\\phantom{\\verb!x!}\\verb|0,|\\phantom{\\verb!x!}\\verb|1]|, \\left\\{\\verb|mon| : \\left(\\begin{array}{rr}\n",
       "-2 \\, l^{2} + 1 & 2 \\, l^{3} - 2 \\, l \\\\\n",
       "2 \\, l & -2 \\, l^{2} + 1\n",
       "\\end{array}\\right), \\verb|sol| : \\left[0\\right], \\verb|trace| : \\left[2\\right]\\right\\}\\right)\n",
       "\\end{math}"
      ],
      "text/plain": [
       "('[0, 1, 1, 0, 1, 0, 0, 1]',\n",
       " {'mon': [ -2*l^2 + 1 2*l^3 - 2*l]\n",
       "  [        2*l  -2*l^2 + 1], 'sol': [0], 'trace': [2]})"
      ]
     },
     "metadata": {},
     "output_type": "display_data"
    },
    {
     "data": {
      "text/html": [
       "<html><script type=\"math/tex; mode=display\">\\newcommand{\\Bold}[1]{\\mathbf{#1}}\\left(\\verb|[1,|\\phantom{\\verb!x!}\\verb|1,|\\phantom{\\verb!x!}\\verb|1,|\\phantom{\\verb!x!}\\verb|0,|\\phantom{\\verb!x!}\\verb|1,|\\phantom{\\verb!x!}\\verb|0,|\\phantom{\\verb!x!}\\verb|0,|\\phantom{\\verb!x!}\\verb|1]|, \\left\\{\\verb|mon| : \\left(\\begin{array}{rr}\n",
       "2 \\, l^{4} - 4 \\, l^{2} + 1 & 2 \\, l^{3} - 2 \\, l \\\\\n",
       "-2 \\, l^{3} + 3 \\, l & -2 \\, l^{2} + 1\n",
       "\\end{array}\\right), \\verb|sol| : \\left[-\\frac{1}{2} \\, \\sqrt{3} \\sqrt{2}, 0, \\frac{1}{2} \\, \\sqrt{3} \\sqrt{2}\\right], \\verb|trace| : \\left[-\\frac{5}{2}, 2, -\\frac{5}{2}\\right]\\right\\}\\right)</script></html>"
      ],
      "text/latex": [
       "\\begin{math}\n",
       "\\newcommand{\\Bold}[1]{\\mathbf{#1}}\\left(\\verb|[1,|\\phantom{\\verb!x!}\\verb|1,|\\phantom{\\verb!x!}\\verb|1,|\\phantom{\\verb!x!}\\verb|0,|\\phantom{\\verb!x!}\\verb|1,|\\phantom{\\verb!x!}\\verb|0,|\\phantom{\\verb!x!}\\verb|0,|\\phantom{\\verb!x!}\\verb|1]|, \\left\\{\\verb|mon| : \\left(\\begin{array}{rr}\n",
       "2 \\, l^{4} - 4 \\, l^{2} + 1 & 2 \\, l^{3} - 2 \\, l \\\\\n",
       "-2 \\, l^{3} + 3 \\, l & -2 \\, l^{2} + 1\n",
       "\\end{array}\\right), \\verb|sol| : \\left[-\\frac{1}{2} \\, \\sqrt{3} \\sqrt{2}, 0, \\frac{1}{2} \\, \\sqrt{3} \\sqrt{2}\\right], \\verb|trace| : \\left[-\\frac{5}{2}, 2, -\\frac{5}{2}\\right]\\right\\}\\right)\n",
       "\\end{math}"
      ],
      "text/plain": [
       "('[1, 1, 1, 0, 1, 0, 0, 1]',\n",
       " {'mon': [2*l^4 - 4*l^2 + 1       2*l^3 - 2*l]\n",
       "  [     -2*l^3 + 3*l        -2*l^2 + 1],\n",
       "  'sol': [-1/2*sqrt(3)*sqrt(2), 0, 1/2*sqrt(3)*sqrt(2)],\n",
       "  'trace': [-5/2, 2, -5/2]})"
      ]
     },
     "metadata": {},
     "output_type": "display_data"
    },
    {
     "data": {
      "text/html": [
       "<html><script type=\"math/tex; mode=display\">\\newcommand{\\Bold}[1]{\\mathbf{#1}}\\left(\\verb|[0,|\\phantom{\\verb!x!}\\verb|0,|\\phantom{\\verb!x!}\\verb|0,|\\phantom{\\verb!x!}\\verb|1,|\\phantom{\\verb!x!}\\verb|1,|\\phantom{\\verb!x!}\\verb|0,|\\phantom{\\verb!x!}\\verb|0,|\\phantom{\\verb!x!}\\verb|1]|, \\left\\{\\verb|mon| : \\left(\\begin{array}{rr}\n",
       "-l^{2} + 1 & l^{3} - 2 \\, l \\\\\n",
       "l & -l^{2} + 1\n",
       "\\end{array}\\right), \\verb|sol| : \\left[0\\right], \\verb|trace| : \\left[2\\right]\\right\\}\\right)</script></html>"
      ],
      "text/latex": [
       "\\begin{math}\n",
       "\\newcommand{\\Bold}[1]{\\mathbf{#1}}\\left(\\verb|[0,|\\phantom{\\verb!x!}\\verb|0,|\\phantom{\\verb!x!}\\verb|0,|\\phantom{\\verb!x!}\\verb|1,|\\phantom{\\verb!x!}\\verb|1,|\\phantom{\\verb!x!}\\verb|0,|\\phantom{\\verb!x!}\\verb|0,|\\phantom{\\verb!x!}\\verb|1]|, \\left\\{\\verb|mon| : \\left(\\begin{array}{rr}\n",
       "-l^{2} + 1 & l^{3} - 2 \\, l \\\\\n",
       "l & -l^{2} + 1\n",
       "\\end{array}\\right), \\verb|sol| : \\left[0\\right], \\verb|trace| : \\left[2\\right]\\right\\}\\right)\n",
       "\\end{math}"
      ],
      "text/plain": [
       "('[0, 0, 0, 1, 1, 0, 0, 1]',\n",
       " {'mon': [ -l^2 + 1 l^3 - 2*l]\n",
       "  [        l  -l^2 + 1], 'sol': [0], 'trace': [2]})"
      ]
     },
     "metadata": {},
     "output_type": "display_data"
    },
    {
     "data": {
      "text/html": [
       "<html><script type=\"math/tex; mode=display\">\\newcommand{\\Bold}[1]{\\mathbf{#1}}\\left(\\verb|[1,|\\phantom{\\verb!x!}\\verb|0,|\\phantom{\\verb!x!}\\verb|0,|\\phantom{\\verb!x!}\\verb|1,|\\phantom{\\verb!x!}\\verb|1,|\\phantom{\\verb!x!}\\verb|0,|\\phantom{\\verb!x!}\\verb|0,|\\phantom{\\verb!x!}\\verb|1]|, \\left\\{\\verb|mon| : \\left(\\begin{array}{rr}\n",
       "l^{4} - 3 \\, l^{2} + 1 & l^{3} - 2 \\, l \\\\\n",
       "-l^{3} + 2 \\, l & -l^{2} + 1\n",
       "\\end{array}\\right), \\verb|sol| : \\left[-\\sqrt{2}, 0, \\sqrt{2}\\right], \\verb|trace| : \\left[-2, 2, -2\\right]\\right\\}\\right)</script></html>"
      ],
      "text/latex": [
       "\\begin{math}\n",
       "\\newcommand{\\Bold}[1]{\\mathbf{#1}}\\left(\\verb|[1,|\\phantom{\\verb!x!}\\verb|0,|\\phantom{\\verb!x!}\\verb|0,|\\phantom{\\verb!x!}\\verb|1,|\\phantom{\\verb!x!}\\verb|1,|\\phantom{\\verb!x!}\\verb|0,|\\phantom{\\verb!x!}\\verb|0,|\\phantom{\\verb!x!}\\verb|1]|, \\left\\{\\verb|mon| : \\left(\\begin{array}{rr}\n",
       "l^{4} - 3 \\, l^{2} + 1 & l^{3} - 2 \\, l \\\\\n",
       "-l^{3} + 2 \\, l & -l^{2} + 1\n",
       "\\end{array}\\right), \\verb|sol| : \\left[-\\sqrt{2}, 0, \\sqrt{2}\\right], \\verb|trace| : \\left[-2, 2, -2\\right]\\right\\}\\right)\n",
       "\\end{math}"
      ],
      "text/plain": [
       "('[1, 0, 0, 1, 1, 0, 0, 1]',\n",
       " {'mon': [l^4 - 3*l^2 + 1       l^3 - 2*l]\n",
       "  [     -l^3 + 2*l        -l^2 + 1],\n",
       "  'sol': [-sqrt(2), 0, sqrt(2)],\n",
       "  'trace': [-2, 2, -2]})"
      ]
     },
     "metadata": {},
     "output_type": "display_data"
    },
    {
     "data": {
      "text/html": [
       "<html><script type=\"math/tex; mode=display\">\\newcommand{\\Bold}[1]{\\mathbf{#1}}\\left(\\verb|[0,|\\phantom{\\verb!x!}\\verb|1,|\\phantom{\\verb!x!}\\verb|0,|\\phantom{\\verb!x!}\\verb|1,|\\phantom{\\verb!x!}\\verb|1,|\\phantom{\\verb!x!}\\verb|0,|\\phantom{\\verb!x!}\\verb|0,|\\phantom{\\verb!x!}\\verb|1]|, \\left\\{\\verb|mon| : \\left(\\begin{array}{rr}\n",
       "-l^{2} + 1 & 2 \\, l^{3} - 3 \\, l \\\\\n",
       "l & -2 \\, l^{2} + 1\n",
       "\\end{array}\\right), \\verb|sol| : \\left[0\\right], \\verb|trace| : \\left[2\\right]\\right\\}\\right)</script></html>"
      ],
      "text/latex": [
       "\\begin{math}\n",
       "\\newcommand{\\Bold}[1]{\\mathbf{#1}}\\left(\\verb|[0,|\\phantom{\\verb!x!}\\verb|1,|\\phantom{\\verb!x!}\\verb|0,|\\phantom{\\verb!x!}\\verb|1,|\\phantom{\\verb!x!}\\verb|1,|\\phantom{\\verb!x!}\\verb|0,|\\phantom{\\verb!x!}\\verb|0,|\\phantom{\\verb!x!}\\verb|1]|, \\left\\{\\verb|mon| : \\left(\\begin{array}{rr}\n",
       "-l^{2} + 1 & 2 \\, l^{3} - 3 \\, l \\\\\n",
       "l & -2 \\, l^{2} + 1\n",
       "\\end{array}\\right), \\verb|sol| : \\left[0\\right], \\verb|trace| : \\left[2\\right]\\right\\}\\right)\n",
       "\\end{math}"
      ],
      "text/plain": [
       "('[0, 1, 0, 1, 1, 0, 0, 1]',\n",
       " {'mon': [   -l^2 + 1 2*l^3 - 3*l]\n",
       "  [          l  -2*l^2 + 1], 'sol': [0], 'trace': [2]})"
      ]
     },
     "metadata": {},
     "output_type": "display_data"
    },
    {
     "data": {
      "text/html": [
       "<html><script type=\"math/tex; mode=display\">\\newcommand{\\Bold}[1]{\\mathbf{#1}}\\left(\\verb|[1,|\\phantom{\\verb!x!}\\verb|1,|\\phantom{\\verb!x!}\\verb|0,|\\phantom{\\verb!x!}\\verb|1,|\\phantom{\\verb!x!}\\verb|1,|\\phantom{\\verb!x!}\\verb|0,|\\phantom{\\verb!x!}\\verb|0,|\\phantom{\\verb!x!}\\verb|1]|, \\left\\{\\verb|mon| : \\left(\\begin{array}{rr}\n",
       "2 \\, l^{4} - 4 \\, l^{2} + 1 & 2 \\, l^{3} - 3 \\, l \\\\\n",
       "-2 \\, l^{3} + 2 \\, l & -2 \\, l^{2} + 1\n",
       "\\end{array}\\right), \\verb|sol| : \\left[-1, 0, 1\\right], \\verb|trace| : \\left[-2, 2, -2\\right]\\right\\}\\right)</script></html>"
      ],
      "text/latex": [
       "\\begin{math}\n",
       "\\newcommand{\\Bold}[1]{\\mathbf{#1}}\\left(\\verb|[1,|\\phantom{\\verb!x!}\\verb|1,|\\phantom{\\verb!x!}\\verb|0,|\\phantom{\\verb!x!}\\verb|1,|\\phantom{\\verb!x!}\\verb|1,|\\phantom{\\verb!x!}\\verb|0,|\\phantom{\\verb!x!}\\verb|0,|\\phantom{\\verb!x!}\\verb|1]|, \\left\\{\\verb|mon| : \\left(\\begin{array}{rr}\n",
       "2 \\, l^{4} - 4 \\, l^{2} + 1 & 2 \\, l^{3} - 3 \\, l \\\\\n",
       "-2 \\, l^{3} + 2 \\, l & -2 \\, l^{2} + 1\n",
       "\\end{array}\\right), \\verb|sol| : \\left[-1, 0, 1\\right], \\verb|trace| : \\left[-2, 2, -2\\right]\\right\\}\\right)\n",
       "\\end{math}"
      ],
      "text/plain": [
       "('[1, 1, 0, 1, 1, 0, 0, 1]',\n",
       " {'mon': [2*l^4 - 4*l^2 + 1       2*l^3 - 3*l]\n",
       "  [     -2*l^3 + 2*l        -2*l^2 + 1],\n",
       "  'sol': [-1, 0, 1],\n",
       "  'trace': [-2, 2, -2]})"
      ]
     },
     "metadata": {},
     "output_type": "display_data"
    },
    {
     "data": {
      "text/html": [
       "<html><script type=\"math/tex; mode=display\">\\newcommand{\\Bold}[1]{\\mathbf{#1}}\\left(\\verb|[0,|\\phantom{\\verb!x!}\\verb|0,|\\phantom{\\verb!x!}\\verb|1,|\\phantom{\\verb!x!}\\verb|1,|\\phantom{\\verb!x!}\\verb|1,|\\phantom{\\verb!x!}\\verb|0,|\\phantom{\\verb!x!}\\verb|0,|\\phantom{\\verb!x!}\\verb|1]|, \\left\\{\\verb|mon| : \\left(\\begin{array}{rr}\n",
       "l^{4} - 3 \\, l^{2} + 1 & l^{3} - 2 \\, l \\\\\n",
       "-l^{3} + 2 \\, l & -l^{2} + 1\n",
       "\\end{array}\\right), \\verb|sol| : \\left[-\\sqrt{2}, 0, \\sqrt{2}\\right], \\verb|trace| : \\left[-2, 2, -2\\right]\\right\\}\\right)</script></html>"
      ],
      "text/latex": [
       "\\begin{math}\n",
       "\\newcommand{\\Bold}[1]{\\mathbf{#1}}\\left(\\verb|[0,|\\phantom{\\verb!x!}\\verb|0,|\\phantom{\\verb!x!}\\verb|1,|\\phantom{\\verb!x!}\\verb|1,|\\phantom{\\verb!x!}\\verb|1,|\\phantom{\\verb!x!}\\verb|0,|\\phantom{\\verb!x!}\\verb|0,|\\phantom{\\verb!x!}\\verb|1]|, \\left\\{\\verb|mon| : \\left(\\begin{array}{rr}\n",
       "l^{4} - 3 \\, l^{2} + 1 & l^{3} - 2 \\, l \\\\\n",
       "-l^{3} + 2 \\, l & -l^{2} + 1\n",
       "\\end{array}\\right), \\verb|sol| : \\left[-\\sqrt{2}, 0, \\sqrt{2}\\right], \\verb|trace| : \\left[-2, 2, -2\\right]\\right\\}\\right)\n",
       "\\end{math}"
      ],
      "text/plain": [
       "('[0, 0, 1, 1, 1, 0, 0, 1]',\n",
       " {'mon': [l^4 - 3*l^2 + 1       l^3 - 2*l]\n",
       "  [     -l^3 + 2*l        -l^2 + 1],\n",
       "  'sol': [-sqrt(2), 0, sqrt(2)],\n",
       "  'trace': [-2, 2, -2]})"
      ]
     },
     "metadata": {},
     "output_type": "display_data"
    },
    {
     "data": {
      "text/html": [
       "<html><script type=\"math/tex; mode=display\">\\newcommand{\\Bold}[1]{\\mathbf{#1}}\\left(\\verb|[1,|\\phantom{\\verb!x!}\\verb|0,|\\phantom{\\verb!x!}\\verb|1,|\\phantom{\\verb!x!}\\verb|1,|\\phantom{\\verb!x!}\\verb|1,|\\phantom{\\verb!x!}\\verb|0,|\\phantom{\\verb!x!}\\verb|0,|\\phantom{\\verb!x!}\\verb|1]|, \\left\\{\\verb|mon| : \\left(\\begin{array}{rr}\n",
       "2 \\, l^{4} - 5 \\, l^{2} + 1 & l^{3} - 2 \\, l \\\\\n",
       "-2 \\, l^{3} + 3 \\, l & -l^{2} + 1\n",
       "\\end{array}\\right), \\verb|sol| : \\left[-\\frac{1}{2} \\, \\sqrt{3} \\sqrt{2}, 0, \\frac{1}{2} \\, \\sqrt{3} \\sqrt{2}\\right], \\verb|trace| : \\left[-\\frac{5}{2}, 2, -\\frac{5}{2}\\right]\\right\\}\\right)</script></html>"
      ],
      "text/latex": [
       "\\begin{math}\n",
       "\\newcommand{\\Bold}[1]{\\mathbf{#1}}\\left(\\verb|[1,|\\phantom{\\verb!x!}\\verb|0,|\\phantom{\\verb!x!}\\verb|1,|\\phantom{\\verb!x!}\\verb|1,|\\phantom{\\verb!x!}\\verb|1,|\\phantom{\\verb!x!}\\verb|0,|\\phantom{\\verb!x!}\\verb|0,|\\phantom{\\verb!x!}\\verb|1]|, \\left\\{\\verb|mon| : \\left(\\begin{array}{rr}\n",
       "2 \\, l^{4} - 5 \\, l^{2} + 1 & l^{3} - 2 \\, l \\\\\n",
       "-2 \\, l^{3} + 3 \\, l & -l^{2} + 1\n",
       "\\end{array}\\right), \\verb|sol| : \\left[-\\frac{1}{2} \\, \\sqrt{3} \\sqrt{2}, 0, \\frac{1}{2} \\, \\sqrt{3} \\sqrt{2}\\right], \\verb|trace| : \\left[-\\frac{5}{2}, 2, -\\frac{5}{2}\\right]\\right\\}\\right)\n",
       "\\end{math}"
      ],
      "text/plain": [
       "('[1, 0, 1, 1, 1, 0, 0, 1]',\n",
       " {'mon': [2*l^4 - 5*l^2 + 1         l^3 - 2*l]\n",
       "  [     -2*l^3 + 3*l          -l^2 + 1],\n",
       "  'sol': [-1/2*sqrt(3)*sqrt(2), 0, 1/2*sqrt(3)*sqrt(2)],\n",
       "  'trace': [-5/2, 2, -5/2]})"
      ]
     },
     "metadata": {},
     "output_type": "display_data"
    },
    {
     "data": {
      "text/html": [
       "<html><script type=\"math/tex; mode=display\">\\newcommand{\\Bold}[1]{\\mathbf{#1}}\\left(\\verb|[0,|\\phantom{\\verb!x!}\\verb|1,|\\phantom{\\verb!x!}\\verb|1,|\\phantom{\\verb!x!}\\verb|1,|\\phantom{\\verb!x!}\\verb|1,|\\phantom{\\verb!x!}\\verb|0,|\\phantom{\\verb!x!}\\verb|0,|\\phantom{\\verb!x!}\\verb|1]|, \\left\\{\\verb|mon| : \\left(\\begin{array}{rr}\n",
       "l^{4} - 3 \\, l^{2} + 1 & -l^{5} + 4 \\, l^{3} - 3 \\, l \\\\\n",
       "-l^{3} + 2 \\, l & l^{4} - 3 \\, l^{2} + 1\n",
       "\\end{array}\\right), \\verb|sol| : \\left[-\\sqrt{2}, 0, \\sqrt{2}\\right], \\verb|trace| : \\left[-2, 2, -2\\right]\\right\\}\\right)</script></html>"
      ],
      "text/latex": [
       "\\begin{math}\n",
       "\\newcommand{\\Bold}[1]{\\mathbf{#1}}\\left(\\verb|[0,|\\phantom{\\verb!x!}\\verb|1,|\\phantom{\\verb!x!}\\verb|1,|\\phantom{\\verb!x!}\\verb|1,|\\phantom{\\verb!x!}\\verb|1,|\\phantom{\\verb!x!}\\verb|0,|\\phantom{\\verb!x!}\\verb|0,|\\phantom{\\verb!x!}\\verb|1]|, \\left\\{\\verb|mon| : \\left(\\begin{array}{rr}\n",
       "l^{4} - 3 \\, l^{2} + 1 & -l^{5} + 4 \\, l^{3} - 3 \\, l \\\\\n",
       "-l^{3} + 2 \\, l & l^{4} - 3 \\, l^{2} + 1\n",
       "\\end{array}\\right), \\verb|sol| : \\left[-\\sqrt{2}, 0, \\sqrt{2}\\right], \\verb|trace| : \\left[-2, 2, -2\\right]\\right\\}\\right)\n",
       "\\end{math}"
      ],
      "text/plain": [
       "('[0, 1, 1, 1, 1, 0, 0, 1]',\n",
       " {'mon': [   l^4 - 3*l^2 + 1 -l^5 + 4*l^3 - 3*l]\n",
       "  [        -l^3 + 2*l    l^4 - 3*l^2 + 1],\n",
       "  'sol': [-sqrt(2), 0, sqrt(2)],\n",
       "  'trace': [-2, 2, -2]})"
      ]
     },
     "metadata": {},
     "output_type": "display_data"
    },
    {
     "data": {
      "text/html": [
       "<html><script type=\"math/tex; mode=display\">\\newcommand{\\Bold}[1]{\\mathbf{#1}}\\left(\\verb|[1,|\\phantom{\\verb!x!}\\verb|1,|\\phantom{\\verb!x!}\\verb|1,|\\phantom{\\verb!x!}\\verb|1,|\\phantom{\\verb!x!}\\verb|1,|\\phantom{\\verb!x!}\\verb|0,|\\phantom{\\verb!x!}\\verb|0,|\\phantom{\\verb!x!}\\verb|1]|, \\left\\{\\verb|mon| : \\left(\\begin{array}{rr}\n",
       "-l^{6} + 5 \\, l^{4} - 6 \\, l^{2} + 1 & -l^{5} + 4 \\, l^{3} - 3 \\, l \\\\\n",
       "l^{5} - 4 \\, l^{3} + 3 \\, l & l^{4} - 3 \\, l^{2} + 1\n",
       "\\end{array}\\right), \\verb|sol| : \\left[-\\sqrt{3}, -1, 0, 1, \\sqrt{3}\\right], \\verb|trace| : \\left[2, -2, 2, -2, 2\\right]\\right\\}\\right)</script></html>"
      ],
      "text/latex": [
       "\\begin{math}\n",
       "\\newcommand{\\Bold}[1]{\\mathbf{#1}}\\left(\\verb|[1,|\\phantom{\\verb!x!}\\verb|1,|\\phantom{\\verb!x!}\\verb|1,|\\phantom{\\verb!x!}\\verb|1,|\\phantom{\\verb!x!}\\verb|1,|\\phantom{\\verb!x!}\\verb|0,|\\phantom{\\verb!x!}\\verb|0,|\\phantom{\\verb!x!}\\verb|1]|, \\left\\{\\verb|mon| : \\left(\\begin{array}{rr}\n",
       "-l^{6} + 5 \\, l^{4} - 6 \\, l^{2} + 1 & -l^{5} + 4 \\, l^{3} - 3 \\, l \\\\\n",
       "l^{5} - 4 \\, l^{3} + 3 \\, l & l^{4} - 3 \\, l^{2} + 1\n",
       "\\end{array}\\right), \\verb|sol| : \\left[-\\sqrt{3}, -1, 0, 1, \\sqrt{3}\\right], \\verb|trace| : \\left[2, -2, 2, -2, 2\\right]\\right\\}\\right)\n",
       "\\end{math}"
      ],
      "text/plain": [
       "('[1, 1, 1, 1, 1, 0, 0, 1]',\n",
       " {'mon': [-l^6 + 5*l^4 - 6*l^2 + 1       -l^5 + 4*l^3 - 3*l]\n",
       "  [       l^5 - 4*l^3 + 3*l          l^4 - 3*l^2 + 1],\n",
       "  'sol': [-sqrt(3), -1, 0, 1, sqrt(3)],\n",
       "  'trace': [2, -2, 2, -2, 2]})"
      ]
     },
     "metadata": {},
     "output_type": "display_data"
    },
    {
     "data": {
      "text/html": [
       "<html><script type=\"math/tex; mode=display\">\\newcommand{\\Bold}[1]{\\mathbf{#1}}\\left(\\verb|[0,|\\phantom{\\verb!x!}\\verb|0,|\\phantom{\\verb!x!}\\verb|0,|\\phantom{\\verb!x!}\\verb|0,|\\phantom{\\verb!x!}\\verb|0,|\\phantom{\\verb!x!}\\verb|1,|\\phantom{\\verb!x!}\\verb|0,|\\phantom{\\verb!x!}\\verb|1]|, \\left\\{\\verb|mon| : \\left(\\begin{array}{rr}\n",
       "1 & -2 \\, l \\\\\n",
       "0 & 1\n",
       "\\end{array}\\right), \\verb|sol| : \\left[r_{1}\\right], \\verb|trace| : \\left[2\\right]\\right\\}\\right)</script></html>"
      ],
      "text/latex": [
       "\\begin{math}\n",
       "\\newcommand{\\Bold}[1]{\\mathbf{#1}}\\left(\\verb|[0,|\\phantom{\\verb!x!}\\verb|0,|\\phantom{\\verb!x!}\\verb|0,|\\phantom{\\verb!x!}\\verb|0,|\\phantom{\\verb!x!}\\verb|0,|\\phantom{\\verb!x!}\\verb|1,|\\phantom{\\verb!x!}\\verb|0,|\\phantom{\\verb!x!}\\verb|1]|, \\left\\{\\verb|mon| : \\left(\\begin{array}{rr}\n",
       "1 & -2 \\, l \\\\\n",
       "0 & 1\n",
       "\\end{array}\\right), \\verb|sol| : \\left[r_{1}\\right], \\verb|trace| : \\left[2\\right]\\right\\}\\right)\n",
       "\\end{math}"
      ],
      "text/plain": [
       "('[0, 0, 0, 0, 0, 1, 0, 1]',\n",
       " {'mon': [   1 -2*l]\n",
       "  [   0    1], 'sol': [r1], 'trace': [2]})"
      ]
     },
     "metadata": {},
     "output_type": "display_data"
    },
    {
     "data": {
      "text/html": [
       "<html><script type=\"math/tex; mode=display\">\\newcommand{\\Bold}[1]{\\mathbf{#1}}\\left(\\verb|[1,|\\phantom{\\verb!x!}\\verb|0,|\\phantom{\\verb!x!}\\verb|0,|\\phantom{\\verb!x!}\\verb|0,|\\phantom{\\verb!x!}\\verb|0,|\\phantom{\\verb!x!}\\verb|1,|\\phantom{\\verb!x!}\\verb|0,|\\phantom{\\verb!x!}\\verb|1]|, \\left\\{\\verb|mon| : \\left(\\begin{array}{rr}\n",
       "-2 \\, l^{2} + 1 & -2 \\, l \\\\\n",
       "l & 1\n",
       "\\end{array}\\right), \\verb|sol| : \\left[0\\right], \\verb|trace| : \\left[2\\right]\\right\\}\\right)</script></html>"
      ],
      "text/latex": [
       "\\begin{math}\n",
       "\\newcommand{\\Bold}[1]{\\mathbf{#1}}\\left(\\verb|[1,|\\phantom{\\verb!x!}\\verb|0,|\\phantom{\\verb!x!}\\verb|0,|\\phantom{\\verb!x!}\\verb|0,|\\phantom{\\verb!x!}\\verb|0,|\\phantom{\\verb!x!}\\verb|1,|\\phantom{\\verb!x!}\\verb|0,|\\phantom{\\verb!x!}\\verb|1]|, \\left\\{\\verb|mon| : \\left(\\begin{array}{rr}\n",
       "-2 \\, l^{2} + 1 & -2 \\, l \\\\\n",
       "l & 1\n",
       "\\end{array}\\right), \\verb|sol| : \\left[0\\right], \\verb|trace| : \\left[2\\right]\\right\\}\\right)\n",
       "\\end{math}"
      ],
      "text/plain": [
       "('[1, 0, 0, 0, 0, 1, 0, 1]',\n",
       " {'mon': [-2*l^2 + 1       -2*l]\n",
       "  [         l          1], 'sol': [0], 'trace': [2]})"
      ]
     },
     "metadata": {},
     "output_type": "display_data"
    },
    {
     "data": {
      "text/html": [
       "<html><script type=\"math/tex; mode=display\">\\newcommand{\\Bold}[1]{\\mathbf{#1}}\\left(\\verb|[0,|\\phantom{\\verb!x!}\\verb|1,|\\phantom{\\verb!x!}\\verb|0,|\\phantom{\\verb!x!}\\verb|0,|\\phantom{\\verb!x!}\\verb|0,|\\phantom{\\verb!x!}\\verb|1,|\\phantom{\\verb!x!}\\verb|0,|\\phantom{\\verb!x!}\\verb|1]|, \\left\\{\\verb|mon| : \\left(\\begin{array}{rr}\n",
       "1 & -3 \\, l \\\\\n",
       "0 & 1\n",
       "\\end{array}\\right), \\verb|sol| : \\left[r_{1}\\right], \\verb|trace| : \\left[2\\right]\\right\\}\\right)</script></html>"
      ],
      "text/latex": [
       "\\begin{math}\n",
       "\\newcommand{\\Bold}[1]{\\mathbf{#1}}\\left(\\verb|[0,|\\phantom{\\verb!x!}\\verb|1,|\\phantom{\\verb!x!}\\verb|0,|\\phantom{\\verb!x!}\\verb|0,|\\phantom{\\verb!x!}\\verb|0,|\\phantom{\\verb!x!}\\verb|1,|\\phantom{\\verb!x!}\\verb|0,|\\phantom{\\verb!x!}\\verb|1]|, \\left\\{\\verb|mon| : \\left(\\begin{array}{rr}\n",
       "1 & -3 \\, l \\\\\n",
       "0 & 1\n",
       "\\end{array}\\right), \\verb|sol| : \\left[r_{1}\\right], \\verb|trace| : \\left[2\\right]\\right\\}\\right)\n",
       "\\end{math}"
      ],
      "text/plain": [
       "('[0, 1, 0, 0, 0, 1, 0, 1]',\n",
       " {'mon': [   1 -3*l]\n",
       "  [   0    1], 'sol': [r1], 'trace': [2]})"
      ]
     },
     "metadata": {},
     "output_type": "display_data"
    },
    {
     "data": {
      "text/html": [
       "<html><script type=\"math/tex; mode=display\">\\newcommand{\\Bold}[1]{\\mathbf{#1}}\\left(\\verb|[1,|\\phantom{\\verb!x!}\\verb|1,|\\phantom{\\verb!x!}\\verb|0,|\\phantom{\\verb!x!}\\verb|0,|\\phantom{\\verb!x!}\\verb|0,|\\phantom{\\verb!x!}\\verb|1,|\\phantom{\\verb!x!}\\verb|0,|\\phantom{\\verb!x!}\\verb|1]|, \\left\\{\\verb|mon| : \\left(\\begin{array}{rr}\n",
       "-3 \\, l^{2} + 1 & -3 \\, l \\\\\n",
       "l & 1\n",
       "\\end{array}\\right), \\verb|sol| : \\left[0\\right], \\verb|trace| : \\left[2\\right]\\right\\}\\right)</script></html>"
      ],
      "text/latex": [
       "\\begin{math}\n",
       "\\newcommand{\\Bold}[1]{\\mathbf{#1}}\\left(\\verb|[1,|\\phantom{\\verb!x!}\\verb|1,|\\phantom{\\verb!x!}\\verb|0,|\\phantom{\\verb!x!}\\verb|0,|\\phantom{\\verb!x!}\\verb|0,|\\phantom{\\verb!x!}\\verb|1,|\\phantom{\\verb!x!}\\verb|0,|\\phantom{\\verb!x!}\\verb|1]|, \\left\\{\\verb|mon| : \\left(\\begin{array}{rr}\n",
       "-3 \\, l^{2} + 1 & -3 \\, l \\\\\n",
       "l & 1\n",
       "\\end{array}\\right), \\verb|sol| : \\left[0\\right], \\verb|trace| : \\left[2\\right]\\right\\}\\right)\n",
       "\\end{math}"
      ],
      "text/plain": [
       "('[1, 1, 0, 0, 0, 1, 0, 1]',\n",
       " {'mon': [-3*l^2 + 1       -3*l]\n",
       "  [         l          1], 'sol': [0], 'trace': [2]})"
      ]
     },
     "metadata": {},
     "output_type": "display_data"
    },
    {
     "data": {
      "text/html": [
       "<html><script type=\"math/tex; mode=display\">\\newcommand{\\Bold}[1]{\\mathbf{#1}}\\left(\\verb|[0,|\\phantom{\\verb!x!}\\verb|0,|\\phantom{\\verb!x!}\\verb|1,|\\phantom{\\verb!x!}\\verb|0,|\\phantom{\\verb!x!}\\verb|0,|\\phantom{\\verb!x!}\\verb|1,|\\phantom{\\verb!x!}\\verb|0,|\\phantom{\\verb!x!}\\verb|1]|, \\left\\{\\verb|mon| : \\left(\\begin{array}{rr}\n",
       "-2 \\, l^{2} + 1 & -2 \\, l \\\\\n",
       "l & 1\n",
       "\\end{array}\\right), \\verb|sol| : \\left[0\\right], \\verb|trace| : \\left[2\\right]\\right\\}\\right)</script></html>"
      ],
      "text/latex": [
       "\\begin{math}\n",
       "\\newcommand{\\Bold}[1]{\\mathbf{#1}}\\left(\\verb|[0,|\\phantom{\\verb!x!}\\verb|0,|\\phantom{\\verb!x!}\\verb|1,|\\phantom{\\verb!x!}\\verb|0,|\\phantom{\\verb!x!}\\verb|0,|\\phantom{\\verb!x!}\\verb|1,|\\phantom{\\verb!x!}\\verb|0,|\\phantom{\\verb!x!}\\verb|1]|, \\left\\{\\verb|mon| : \\left(\\begin{array}{rr}\n",
       "-2 \\, l^{2} + 1 & -2 \\, l \\\\\n",
       "l & 1\n",
       "\\end{array}\\right), \\verb|sol| : \\left[0\\right], \\verb|trace| : \\left[2\\right]\\right\\}\\right)\n",
       "\\end{math}"
      ],
      "text/plain": [
       "('[0, 0, 1, 0, 0, 1, 0, 1]',\n",
       " {'mon': [-2*l^2 + 1       -2*l]\n",
       "  [         l          1], 'sol': [0], 'trace': [2]})"
      ]
     },
     "metadata": {},
     "output_type": "display_data"
    },
    {
     "data": {
      "text/html": [
       "<html><script type=\"math/tex; mode=display\">\\newcommand{\\Bold}[1]{\\mathbf{#1}}\\left(\\verb|[1,|\\phantom{\\verb!x!}\\verb|0,|\\phantom{\\verb!x!}\\verb|1,|\\phantom{\\verb!x!}\\verb|0,|\\phantom{\\verb!x!}\\verb|0,|\\phantom{\\verb!x!}\\verb|1,|\\phantom{\\verb!x!}\\verb|0,|\\phantom{\\verb!x!}\\verb|1]|, \\left\\{\\verb|mon| : \\left(\\begin{array}{rr}\n",
       "-4 \\, l^{2} + 1 & -2 \\, l \\\\\n",
       "2 \\, l & 1\n",
       "\\end{array}\\right), \\verb|sol| : \\left[0\\right], \\verb|trace| : \\left[2\\right]\\right\\}\\right)</script></html>"
      ],
      "text/latex": [
       "\\begin{math}\n",
       "\\newcommand{\\Bold}[1]{\\mathbf{#1}}\\left(\\verb|[1,|\\phantom{\\verb!x!}\\verb|0,|\\phantom{\\verb!x!}\\verb|1,|\\phantom{\\verb!x!}\\verb|0,|\\phantom{\\verb!x!}\\verb|0,|\\phantom{\\verb!x!}\\verb|1,|\\phantom{\\verb!x!}\\verb|0,|\\phantom{\\verb!x!}\\verb|1]|, \\left\\{\\verb|mon| : \\left(\\begin{array}{rr}\n",
       "-4 \\, l^{2} + 1 & -2 \\, l \\\\\n",
       "2 \\, l & 1\n",
       "\\end{array}\\right), \\verb|sol| : \\left[0\\right], \\verb|trace| : \\left[2\\right]\\right\\}\\right)\n",
       "\\end{math}"
      ],
      "text/plain": [
       "('[1, 0, 1, 0, 0, 1, 0, 1]',\n",
       " {'mon': [-4*l^2 + 1       -2*l]\n",
       "  [       2*l          1], 'sol': [0], 'trace': [2]})"
      ]
     },
     "metadata": {},
     "output_type": "display_data"
    },
    {
     "data": {
      "text/html": [
       "<html><script type=\"math/tex; mode=display\">\\newcommand{\\Bold}[1]{\\mathbf{#1}}\\left(\\verb|[0,|\\phantom{\\verb!x!}\\verb|1,|\\phantom{\\verb!x!}\\verb|1,|\\phantom{\\verb!x!}\\verb|0,|\\phantom{\\verb!x!}\\verb|0,|\\phantom{\\verb!x!}\\verb|1,|\\phantom{\\verb!x!}\\verb|0,|\\phantom{\\verb!x!}\\verb|1]|, \\left\\{\\verb|mon| : \\left(\\begin{array}{rr}\n",
       "-2 \\, l^{2} + 1 & 2 \\, l^{3} - 3 \\, l \\\\\n",
       "l & -l^{2} + 1\n",
       "\\end{array}\\right), \\verb|sol| : \\left[0\\right], \\verb|trace| : \\left[2\\right]\\right\\}\\right)</script></html>"
      ],
      "text/latex": [
       "\\begin{math}\n",
       "\\newcommand{\\Bold}[1]{\\mathbf{#1}}\\left(\\verb|[0,|\\phantom{\\verb!x!}\\verb|1,|\\phantom{\\verb!x!}\\verb|1,|\\phantom{\\verb!x!}\\verb|0,|\\phantom{\\verb!x!}\\verb|0,|\\phantom{\\verb!x!}\\verb|1,|\\phantom{\\verb!x!}\\verb|0,|\\phantom{\\verb!x!}\\verb|1]|, \\left\\{\\verb|mon| : \\left(\\begin{array}{rr}\n",
       "-2 \\, l^{2} + 1 & 2 \\, l^{3} - 3 \\, l \\\\\n",
       "l & -l^{2} + 1\n",
       "\\end{array}\\right), \\verb|sol| : \\left[0\\right], \\verb|trace| : \\left[2\\right]\\right\\}\\right)\n",
       "\\end{math}"
      ],
      "text/plain": [
       "('[0, 1, 1, 0, 0, 1, 0, 1]',\n",
       " {'mon': [ -2*l^2 + 1 2*l^3 - 3*l]\n",
       "  [          l    -l^2 + 1], 'sol': [0], 'trace': [2]})"
      ]
     },
     "metadata": {},
     "output_type": "display_data"
    },
    {
     "data": {
      "text/html": [
       "<html><script type=\"math/tex; mode=display\">\\newcommand{\\Bold}[1]{\\mathbf{#1}}\\left(\\verb|[1,|\\phantom{\\verb!x!}\\verb|1,|\\phantom{\\verb!x!}\\verb|1,|\\phantom{\\verb!x!}\\verb|0,|\\phantom{\\verb!x!}\\verb|0,|\\phantom{\\verb!x!}\\verb|1,|\\phantom{\\verb!x!}\\verb|0,|\\phantom{\\verb!x!}\\verb|1]|, \\left\\{\\verb|mon| : \\left(\\begin{array}{rr}\n",
       "2 \\, l^{4} - 5 \\, l^{2} + 1 & 2 \\, l^{3} - 3 \\, l \\\\\n",
       "-l^{3} + 2 \\, l & -l^{2} + 1\n",
       "\\end{array}\\right), \\verb|sol| : \\left[-\\sqrt{2}, 0, \\sqrt{2}\\right], \\verb|trace| : \\left[-2, 2, -2\\right]\\right\\}\\right)</script></html>"
      ],
      "text/latex": [
       "\\begin{math}\n",
       "\\newcommand{\\Bold}[1]{\\mathbf{#1}}\\left(\\verb|[1,|\\phantom{\\verb!x!}\\verb|1,|\\phantom{\\verb!x!}\\verb|1,|\\phantom{\\verb!x!}\\verb|0,|\\phantom{\\verb!x!}\\verb|0,|\\phantom{\\verb!x!}\\verb|1,|\\phantom{\\verb!x!}\\verb|0,|\\phantom{\\verb!x!}\\verb|1]|, \\left\\{\\verb|mon| : \\left(\\begin{array}{rr}\n",
       "2 \\, l^{4} - 5 \\, l^{2} + 1 & 2 \\, l^{3} - 3 \\, l \\\\\n",
       "-l^{3} + 2 \\, l & -l^{2} + 1\n",
       "\\end{array}\\right), \\verb|sol| : \\left[-\\sqrt{2}, 0, \\sqrt{2}\\right], \\verb|trace| : \\left[-2, 2, -2\\right]\\right\\}\\right)\n",
       "\\end{math}"
      ],
      "text/plain": [
       "('[1, 1, 1, 0, 0, 1, 0, 1]',\n",
       " {'mon': [2*l^4 - 5*l^2 + 1       2*l^3 - 3*l]\n",
       "  [       -l^3 + 2*l          -l^2 + 1],\n",
       "  'sol': [-sqrt(2), 0, sqrt(2)],\n",
       "  'trace': [-2, 2, -2]})"
      ]
     },
     "metadata": {},
     "output_type": "display_data"
    },
    {
     "data": {
      "text/html": [
       "<html><script type=\"math/tex; mode=display\">\\newcommand{\\Bold}[1]{\\mathbf{#1}}\\left(\\verb|[0,|\\phantom{\\verb!x!}\\verb|0,|\\phantom{\\verb!x!}\\verb|0,|\\phantom{\\verb!x!}\\verb|1,|\\phantom{\\verb!x!}\\verb|0,|\\phantom{\\verb!x!}\\verb|1,|\\phantom{\\verb!x!}\\verb|0,|\\phantom{\\verb!x!}\\verb|1]|, \\left\\{\\verb|mon| : \\left(\\begin{array}{rr}\n",
       "1 & -3 \\, l \\\\\n",
       "0 & 1\n",
       "\\end{array}\\right), \\verb|sol| : \\left[r_{1}\\right], \\verb|trace| : \\left[2\\right]\\right\\}\\right)</script></html>"
      ],
      "text/latex": [
       "\\begin{math}\n",
       "\\newcommand{\\Bold}[1]{\\mathbf{#1}}\\left(\\verb|[0,|\\phantom{\\verb!x!}\\verb|0,|\\phantom{\\verb!x!}\\verb|0,|\\phantom{\\verb!x!}\\verb|1,|\\phantom{\\verb!x!}\\verb|0,|\\phantom{\\verb!x!}\\verb|1,|\\phantom{\\verb!x!}\\verb|0,|\\phantom{\\verb!x!}\\verb|1]|, \\left\\{\\verb|mon| : \\left(\\begin{array}{rr}\n",
       "1 & -3 \\, l \\\\\n",
       "0 & 1\n",
       "\\end{array}\\right), \\verb|sol| : \\left[r_{1}\\right], \\verb|trace| : \\left[2\\right]\\right\\}\\right)\n",
       "\\end{math}"
      ],
      "text/plain": [
       "('[0, 0, 0, 1, 0, 1, 0, 1]',\n",
       " {'mon': [   1 -3*l]\n",
       "  [   0    1], 'sol': [r1], 'trace': [2]})"
      ]
     },
     "metadata": {},
     "output_type": "display_data"
    },
    {
     "data": {
      "text/html": [
       "<html><script type=\"math/tex; mode=display\">\\newcommand{\\Bold}[1]{\\mathbf{#1}}\\left(\\verb|[1,|\\phantom{\\verb!x!}\\verb|0,|\\phantom{\\verb!x!}\\verb|0,|\\phantom{\\verb!x!}\\verb|1,|\\phantom{\\verb!x!}\\verb|0,|\\phantom{\\verb!x!}\\verb|1,|\\phantom{\\verb!x!}\\verb|0,|\\phantom{\\verb!x!}\\verb|1]|, \\left\\{\\verb|mon| : \\left(\\begin{array}{rr}\n",
       "-3 \\, l^{2} + 1 & -3 \\, l \\\\\n",
       "l & 1\n",
       "\\end{array}\\right), \\verb|sol| : \\left[0\\right], \\verb|trace| : \\left[2\\right]\\right\\}\\right)</script></html>"
      ],
      "text/latex": [
       "\\begin{math}\n",
       "\\newcommand{\\Bold}[1]{\\mathbf{#1}}\\left(\\verb|[1,|\\phantom{\\verb!x!}\\verb|0,|\\phantom{\\verb!x!}\\verb|0,|\\phantom{\\verb!x!}\\verb|1,|\\phantom{\\verb!x!}\\verb|0,|\\phantom{\\verb!x!}\\verb|1,|\\phantom{\\verb!x!}\\verb|0,|\\phantom{\\verb!x!}\\verb|1]|, \\left\\{\\verb|mon| : \\left(\\begin{array}{rr}\n",
       "-3 \\, l^{2} + 1 & -3 \\, l \\\\\n",
       "l & 1\n",
       "\\end{array}\\right), \\verb|sol| : \\left[0\\right], \\verb|trace| : \\left[2\\right]\\right\\}\\right)\n",
       "\\end{math}"
      ],
      "text/plain": [
       "('[1, 0, 0, 1, 0, 1, 0, 1]',\n",
       " {'mon': [-3*l^2 + 1       -3*l]\n",
       "  [         l          1], 'sol': [0], 'trace': [2]})"
      ]
     },
     "metadata": {},
     "output_type": "display_data"
    },
    {
     "data": {
      "text/html": [
       "<html><script type=\"math/tex; mode=display\">\\newcommand{\\Bold}[1]{\\mathbf{#1}}\\left(\\verb|[0,|\\phantom{\\verb!x!}\\verb|1,|\\phantom{\\verb!x!}\\verb|0,|\\phantom{\\verb!x!}\\verb|1,|\\phantom{\\verb!x!}\\verb|0,|\\phantom{\\verb!x!}\\verb|1,|\\phantom{\\verb!x!}\\verb|0,|\\phantom{\\verb!x!}\\verb|1]|, \\left\\{\\verb|mon| : \\left(\\begin{array}{rr}\n",
       "1 & -4 \\, l \\\\\n",
       "0 & 1\n",
       "\\end{array}\\right), \\verb|sol| : \\left[r_{1}\\right], \\verb|trace| : \\left[2\\right]\\right\\}\\right)</script></html>"
      ],
      "text/latex": [
       "\\begin{math}\n",
       "\\newcommand{\\Bold}[1]{\\mathbf{#1}}\\left(\\verb|[0,|\\phantom{\\verb!x!}\\verb|1,|\\phantom{\\verb!x!}\\verb|0,|\\phantom{\\verb!x!}\\verb|1,|\\phantom{\\verb!x!}\\verb|0,|\\phantom{\\verb!x!}\\verb|1,|\\phantom{\\verb!x!}\\verb|0,|\\phantom{\\verb!x!}\\verb|1]|, \\left\\{\\verb|mon| : \\left(\\begin{array}{rr}\n",
       "1 & -4 \\, l \\\\\n",
       "0 & 1\n",
       "\\end{array}\\right), \\verb|sol| : \\left[r_{1}\\right], \\verb|trace| : \\left[2\\right]\\right\\}\\right)\n",
       "\\end{math}"
      ],
      "text/plain": [
       "('[0, 1, 0, 1, 0, 1, 0, 1]',\n",
       " {'mon': [   1 -4*l]\n",
       "  [   0    1], 'sol': [r1], 'trace': [2]})"
      ]
     },
     "metadata": {},
     "output_type": "display_data"
    },
    {
     "data": {
      "text/html": [
       "<html><script type=\"math/tex; mode=display\">\\newcommand{\\Bold}[1]{\\mathbf{#1}}\\left(\\verb|[1,|\\phantom{\\verb!x!}\\verb|1,|\\phantom{\\verb!x!}\\verb|0,|\\phantom{\\verb!x!}\\verb|1,|\\phantom{\\verb!x!}\\verb|0,|\\phantom{\\verb!x!}\\verb|1,|\\phantom{\\verb!x!}\\verb|0,|\\phantom{\\verb!x!}\\verb|1]|, \\left\\{\\verb|mon| : \\left(\\begin{array}{rr}\n",
       "-4 \\, l^{2} + 1 & -4 \\, l \\\\\n",
       "l & 1\n",
       "\\end{array}\\right), \\verb|sol| : \\left[0\\right], \\verb|trace| : \\left[2\\right]\\right\\}\\right)</script></html>"
      ],
      "text/latex": [
       "\\begin{math}\n",
       "\\newcommand{\\Bold}[1]{\\mathbf{#1}}\\left(\\verb|[1,|\\phantom{\\verb!x!}\\verb|1,|\\phantom{\\verb!x!}\\verb|0,|\\phantom{\\verb!x!}\\verb|1,|\\phantom{\\verb!x!}\\verb|0,|\\phantom{\\verb!x!}\\verb|1,|\\phantom{\\verb!x!}\\verb|0,|\\phantom{\\verb!x!}\\verb|1]|, \\left\\{\\verb|mon| : \\left(\\begin{array}{rr}\n",
       "-4 \\, l^{2} + 1 & -4 \\, l \\\\\n",
       "l & 1\n",
       "\\end{array}\\right), \\verb|sol| : \\left[0\\right], \\verb|trace| : \\left[2\\right]\\right\\}\\right)\n",
       "\\end{math}"
      ],
      "text/plain": [
       "('[1, 1, 0, 1, 0, 1, 0, 1]',\n",
       " {'mon': [-4*l^2 + 1       -4*l]\n",
       "  [         l          1], 'sol': [0], 'trace': [2]})"
      ]
     },
     "metadata": {},
     "output_type": "display_data"
    },
    {
     "data": {
      "text/html": [
       "<html><script type=\"math/tex; mode=display\">\\newcommand{\\Bold}[1]{\\mathbf{#1}}\\left(\\verb|[0,|\\phantom{\\verb!x!}\\verb|0,|\\phantom{\\verb!x!}\\verb|1,|\\phantom{\\verb!x!}\\verb|1,|\\phantom{\\verb!x!}\\verb|0,|\\phantom{\\verb!x!}\\verb|1,|\\phantom{\\verb!x!}\\verb|0,|\\phantom{\\verb!x!}\\verb|1]|, \\left\\{\\verb|mon| : \\left(\\begin{array}{rr}\n",
       "-3 \\, l^{2} + 1 & -3 \\, l \\\\\n",
       "l & 1\n",
       "\\end{array}\\right), \\verb|sol| : \\left[0\\right], \\verb|trace| : \\left[2\\right]\\right\\}\\right)</script></html>"
      ],
      "text/latex": [
       "\\begin{math}\n",
       "\\newcommand{\\Bold}[1]{\\mathbf{#1}}\\left(\\verb|[0,|\\phantom{\\verb!x!}\\verb|0,|\\phantom{\\verb!x!}\\verb|1,|\\phantom{\\verb!x!}\\verb|1,|\\phantom{\\verb!x!}\\verb|0,|\\phantom{\\verb!x!}\\verb|1,|\\phantom{\\verb!x!}\\verb|0,|\\phantom{\\verb!x!}\\verb|1]|, \\left\\{\\verb|mon| : \\left(\\begin{array}{rr}\n",
       "-3 \\, l^{2} + 1 & -3 \\, l \\\\\n",
       "l & 1\n",
       "\\end{array}\\right), \\verb|sol| : \\left[0\\right], \\verb|trace| : \\left[2\\right]\\right\\}\\right)\n",
       "\\end{math}"
      ],
      "text/plain": [
       "('[0, 0, 1, 1, 0, 1, 0, 1]',\n",
       " {'mon': [-3*l^2 + 1       -3*l]\n",
       "  [         l          1], 'sol': [0], 'trace': [2]})"
      ]
     },
     "metadata": {},
     "output_type": "display_data"
    },
    {
     "data": {
      "text/html": [
       "<html><script type=\"math/tex; mode=display\">\\newcommand{\\Bold}[1]{\\mathbf{#1}}\\left(\\verb|[1,|\\phantom{\\verb!x!}\\verb|0,|\\phantom{\\verb!x!}\\verb|1,|\\phantom{\\verb!x!}\\verb|1,|\\phantom{\\verb!x!}\\verb|0,|\\phantom{\\verb!x!}\\verb|1,|\\phantom{\\verb!x!}\\verb|0,|\\phantom{\\verb!x!}\\verb|1]|, \\left\\{\\verb|mon| : \\left(\\begin{array}{rr}\n",
       "-6 \\, l^{2} + 1 & -3 \\, l \\\\\n",
       "2 \\, l & 1\n",
       "\\end{array}\\right), \\verb|sol| : \\left[0\\right], \\verb|trace| : \\left[2\\right]\\right\\}\\right)</script></html>"
      ],
      "text/latex": [
       "\\begin{math}\n",
       "\\newcommand{\\Bold}[1]{\\mathbf{#1}}\\left(\\verb|[1,|\\phantom{\\verb!x!}\\verb|0,|\\phantom{\\verb!x!}\\verb|1,|\\phantom{\\verb!x!}\\verb|1,|\\phantom{\\verb!x!}\\verb|0,|\\phantom{\\verb!x!}\\verb|1,|\\phantom{\\verb!x!}\\verb|0,|\\phantom{\\verb!x!}\\verb|1]|, \\left\\{\\verb|mon| : \\left(\\begin{array}{rr}\n",
       "-6 \\, l^{2} + 1 & -3 \\, l \\\\\n",
       "2 \\, l & 1\n",
       "\\end{array}\\right), \\verb|sol| : \\left[0\\right], \\verb|trace| : \\left[2\\right]\\right\\}\\right)\n",
       "\\end{math}"
      ],
      "text/plain": [
       "('[1, 0, 1, 1, 0, 1, 0, 1]',\n",
       " {'mon': [-6*l^2 + 1       -3*l]\n",
       "  [       2*l          1], 'sol': [0], 'trace': [2]})"
      ]
     },
     "metadata": {},
     "output_type": "display_data"
    },
    {
     "data": {
      "text/html": [
       "<html><script type=\"math/tex; mode=display\">\\newcommand{\\Bold}[1]{\\mathbf{#1}}\\left(\\verb|[0,|\\phantom{\\verb!x!}\\verb|1,|\\phantom{\\verb!x!}\\verb|1,|\\phantom{\\verb!x!}\\verb|1,|\\phantom{\\verb!x!}\\verb|0,|\\phantom{\\verb!x!}\\verb|1,|\\phantom{\\verb!x!}\\verb|0,|\\phantom{\\verb!x!}\\verb|1]|, \\left\\{\\verb|mon| : \\left(\\begin{array}{rr}\n",
       "-3 \\, l^{2} + 1 & 3 \\, l^{3} - 4 \\, l \\\\\n",
       "l & -l^{2} + 1\n",
       "\\end{array}\\right), \\verb|sol| : \\left[0\\right], \\verb|trace| : \\left[2\\right]\\right\\}\\right)</script></html>"
      ],
      "text/latex": [
       "\\begin{math}\n",
       "\\newcommand{\\Bold}[1]{\\mathbf{#1}}\\left(\\verb|[0,|\\phantom{\\verb!x!}\\verb|1,|\\phantom{\\verb!x!}\\verb|1,|\\phantom{\\verb!x!}\\verb|1,|\\phantom{\\verb!x!}\\verb|0,|\\phantom{\\verb!x!}\\verb|1,|\\phantom{\\verb!x!}\\verb|0,|\\phantom{\\verb!x!}\\verb|1]|, \\left\\{\\verb|mon| : \\left(\\begin{array}{rr}\n",
       "-3 \\, l^{2} + 1 & 3 \\, l^{3} - 4 \\, l \\\\\n",
       "l & -l^{2} + 1\n",
       "\\end{array}\\right), \\verb|sol| : \\left[0\\right], \\verb|trace| : \\left[2\\right]\\right\\}\\right)\n",
       "\\end{math}"
      ],
      "text/plain": [
       "('[0, 1, 1, 1, 0, 1, 0, 1]',\n",
       " {'mon': [ -3*l^2 + 1 3*l^3 - 4*l]\n",
       "  [          l    -l^2 + 1], 'sol': [0], 'trace': [2]})"
      ]
     },
     "metadata": {},
     "output_type": "display_data"
    },
    {
     "data": {
      "text/html": [
       "<html><script type=\"math/tex; mode=display\">\\newcommand{\\Bold}[1]{\\mathbf{#1}}\\left(\\verb|[1,|\\phantom{\\verb!x!}\\verb|1,|\\phantom{\\verb!x!}\\verb|1,|\\phantom{\\verb!x!}\\verb|1,|\\phantom{\\verb!x!}\\verb|0,|\\phantom{\\verb!x!}\\verb|1,|\\phantom{\\verb!x!}\\verb|0,|\\phantom{\\verb!x!}\\verb|1]|, \\left\\{\\verb|mon| : \\left(\\begin{array}{rr}\n",
       "3 \\, l^{4} - 7 \\, l^{2} + 1 & 3 \\, l^{3} - 4 \\, l \\\\\n",
       "-l^{3} + 2 \\, l & -l^{2} + 1\n",
       "\\end{array}\\right), \\verb|sol| : \\left[-\\sqrt{2}, 0, \\sqrt{2}\\right], \\verb|trace| : \\left[-2, 2, -2\\right]\\right\\}\\right)</script></html>"
      ],
      "text/latex": [
       "\\begin{math}\n",
       "\\newcommand{\\Bold}[1]{\\mathbf{#1}}\\left(\\verb|[1,|\\phantom{\\verb!x!}\\verb|1,|\\phantom{\\verb!x!}\\verb|1,|\\phantom{\\verb!x!}\\verb|1,|\\phantom{\\verb!x!}\\verb|0,|\\phantom{\\verb!x!}\\verb|1,|\\phantom{\\verb!x!}\\verb|0,|\\phantom{\\verb!x!}\\verb|1]|, \\left\\{\\verb|mon| : \\left(\\begin{array}{rr}\n",
       "3 \\, l^{4} - 7 \\, l^{2} + 1 & 3 \\, l^{3} - 4 \\, l \\\\\n",
       "-l^{3} + 2 \\, l & -l^{2} + 1\n",
       "\\end{array}\\right), \\verb|sol| : \\left[-\\sqrt{2}, 0, \\sqrt{2}\\right], \\verb|trace| : \\left[-2, 2, -2\\right]\\right\\}\\right)\n",
       "\\end{math}"
      ],
      "text/plain": [
       "('[1, 1, 1, 1, 0, 1, 0, 1]',\n",
       " {'mon': [3*l^4 - 7*l^2 + 1       3*l^3 - 4*l]\n",
       "  [       -l^3 + 2*l          -l^2 + 1],\n",
       "  'sol': [-sqrt(2), 0, sqrt(2)],\n",
       "  'trace': [-2, 2, -2]})"
      ]
     },
     "metadata": {},
     "output_type": "display_data"
    },
    {
     "data": {
      "text/html": [
       "<html><script type=\"math/tex; mode=display\">\\newcommand{\\Bold}[1]{\\mathbf{#1}}\\left(\\verb|[0,|\\phantom{\\verb!x!}\\verb|0,|\\phantom{\\verb!x!}\\verb|0,|\\phantom{\\verb!x!}\\verb|0,|\\phantom{\\verb!x!}\\verb|1,|\\phantom{\\verb!x!}\\verb|1,|\\phantom{\\verb!x!}\\verb|0,|\\phantom{\\verb!x!}\\verb|1]|, \\left\\{\\verb|mon| : \\left(\\begin{array}{rr}\n",
       "-2 \\, l^{2} + 1 & -2 \\, l \\\\\n",
       "l & 1\n",
       "\\end{array}\\right), \\verb|sol| : \\left[0\\right], \\verb|trace| : \\left[2\\right]\\right\\}\\right)</script></html>"
      ],
      "text/latex": [
       "\\begin{math}\n",
       "\\newcommand{\\Bold}[1]{\\mathbf{#1}}\\left(\\verb|[0,|\\phantom{\\verb!x!}\\verb|0,|\\phantom{\\verb!x!}\\verb|0,|\\phantom{\\verb!x!}\\verb|0,|\\phantom{\\verb!x!}\\verb|1,|\\phantom{\\verb!x!}\\verb|1,|\\phantom{\\verb!x!}\\verb|0,|\\phantom{\\verb!x!}\\verb|1]|, \\left\\{\\verb|mon| : \\left(\\begin{array}{rr}\n",
       "-2 \\, l^{2} + 1 & -2 \\, l \\\\\n",
       "l & 1\n",
       "\\end{array}\\right), \\verb|sol| : \\left[0\\right], \\verb|trace| : \\left[2\\right]\\right\\}\\right)\n",
       "\\end{math}"
      ],
      "text/plain": [
       "('[0, 0, 0, 0, 1, 1, 0, 1]',\n",
       " {'mon': [-2*l^2 + 1       -2*l]\n",
       "  [         l          1], 'sol': [0], 'trace': [2]})"
      ]
     },
     "metadata": {},
     "output_type": "display_data"
    },
    {
     "data": {
      "text/html": [
       "<html><script type=\"math/tex; mode=display\">\\newcommand{\\Bold}[1]{\\mathbf{#1}}\\left(\\verb|[1,|\\phantom{\\verb!x!}\\verb|0,|\\phantom{\\verb!x!}\\verb|0,|\\phantom{\\verb!x!}\\verb|0,|\\phantom{\\verb!x!}\\verb|1,|\\phantom{\\verb!x!}\\verb|1,|\\phantom{\\verb!x!}\\verb|0,|\\phantom{\\verb!x!}\\verb|1]|, \\left\\{\\verb|mon| : \\left(\\begin{array}{rr}\n",
       "-4 \\, l^{2} + 1 & -2 \\, l \\\\\n",
       "2 \\, l & 1\n",
       "\\end{array}\\right), \\verb|sol| : \\left[0\\right], \\verb|trace| : \\left[2\\right]\\right\\}\\right)</script></html>"
      ],
      "text/latex": [
       "\\begin{math}\n",
       "\\newcommand{\\Bold}[1]{\\mathbf{#1}}\\left(\\verb|[1,|\\phantom{\\verb!x!}\\verb|0,|\\phantom{\\verb!x!}\\verb|0,|\\phantom{\\verb!x!}\\verb|0,|\\phantom{\\verb!x!}\\verb|1,|\\phantom{\\verb!x!}\\verb|1,|\\phantom{\\verb!x!}\\verb|0,|\\phantom{\\verb!x!}\\verb|1]|, \\left\\{\\verb|mon| : \\left(\\begin{array}{rr}\n",
       "-4 \\, l^{2} + 1 & -2 \\, l \\\\\n",
       "2 \\, l & 1\n",
       "\\end{array}\\right), \\verb|sol| : \\left[0\\right], \\verb|trace| : \\left[2\\right]\\right\\}\\right)\n",
       "\\end{math}"
      ],
      "text/plain": [
       "('[1, 0, 0, 0, 1, 1, 0, 1]',\n",
       " {'mon': [-4*l^2 + 1       -2*l]\n",
       "  [       2*l          1], 'sol': [0], 'trace': [2]})"
      ]
     },
     "metadata": {},
     "output_type": "display_data"
    },
    {
     "data": {
      "text/html": [
       "<html><script type=\"math/tex; mode=display\">\\newcommand{\\Bold}[1]{\\mathbf{#1}}\\left(\\verb|[0,|\\phantom{\\verb!x!}\\verb|1,|\\phantom{\\verb!x!}\\verb|0,|\\phantom{\\verb!x!}\\verb|0,|\\phantom{\\verb!x!}\\verb|1,|\\phantom{\\verb!x!}\\verb|1,|\\phantom{\\verb!x!}\\verb|0,|\\phantom{\\verb!x!}\\verb|1]|, \\left\\{\\verb|mon| : \\left(\\begin{array}{rr}\n",
       "-2 \\, l^{2} + 1 & 2 \\, l^{3} - 3 \\, l \\\\\n",
       "l & -l^{2} + 1\n",
       "\\end{array}\\right), \\verb|sol| : \\left[0\\right], \\verb|trace| : \\left[2\\right]\\right\\}\\right)</script></html>"
      ],
      "text/latex": [
       "\\begin{math}\n",
       "\\newcommand{\\Bold}[1]{\\mathbf{#1}}\\left(\\verb|[0,|\\phantom{\\verb!x!}\\verb|1,|\\phantom{\\verb!x!}\\verb|0,|\\phantom{\\verb!x!}\\verb|0,|\\phantom{\\verb!x!}\\verb|1,|\\phantom{\\verb!x!}\\verb|1,|\\phantom{\\verb!x!}\\verb|0,|\\phantom{\\verb!x!}\\verb|1]|, \\left\\{\\verb|mon| : \\left(\\begin{array}{rr}\n",
       "-2 \\, l^{2} + 1 & 2 \\, l^{3} - 3 \\, l \\\\\n",
       "l & -l^{2} + 1\n",
       "\\end{array}\\right), \\verb|sol| : \\left[0\\right], \\verb|trace| : \\left[2\\right]\\right\\}\\right)\n",
       "\\end{math}"
      ],
      "text/plain": [
       "('[0, 1, 0, 0, 1, 1, 0, 1]',\n",
       " {'mon': [ -2*l^2 + 1 2*l^3 - 3*l]\n",
       "  [          l    -l^2 + 1], 'sol': [0], 'trace': [2]})"
      ]
     },
     "metadata": {},
     "output_type": "display_data"
    },
    {
     "data": {
      "text/html": [
       "<html><script type=\"math/tex; mode=display\">\\newcommand{\\Bold}[1]{\\mathbf{#1}}\\left(\\verb|[1,|\\phantom{\\verb!x!}\\verb|1,|\\phantom{\\verb!x!}\\verb|0,|\\phantom{\\verb!x!}\\verb|0,|\\phantom{\\verb!x!}\\verb|1,|\\phantom{\\verb!x!}\\verb|1,|\\phantom{\\verb!x!}\\verb|0,|\\phantom{\\verb!x!}\\verb|1]|, \\left\\{\\verb|mon| : \\left(\\begin{array}{rr}\n",
       "2 \\, l^{4} - 5 \\, l^{2} + 1 & 2 \\, l^{3} - 3 \\, l \\\\\n",
       "-l^{3} + 2 \\, l & -l^{2} + 1\n",
       "\\end{array}\\right), \\verb|sol| : \\left[-\\sqrt{2}, 0, \\sqrt{2}\\right], \\verb|trace| : \\left[-2, 2, -2\\right]\\right\\}\\right)</script></html>"
      ],
      "text/latex": [
       "\\begin{math}\n",
       "\\newcommand{\\Bold}[1]{\\mathbf{#1}}\\left(\\verb|[1,|\\phantom{\\verb!x!}\\verb|1,|\\phantom{\\verb!x!}\\verb|0,|\\phantom{\\verb!x!}\\verb|0,|\\phantom{\\verb!x!}\\verb|1,|\\phantom{\\verb!x!}\\verb|1,|\\phantom{\\verb!x!}\\verb|0,|\\phantom{\\verb!x!}\\verb|1]|, \\left\\{\\verb|mon| : \\left(\\begin{array}{rr}\n",
       "2 \\, l^{4} - 5 \\, l^{2} + 1 & 2 \\, l^{3} - 3 \\, l \\\\\n",
       "-l^{3} + 2 \\, l & -l^{2} + 1\n",
       "\\end{array}\\right), \\verb|sol| : \\left[-\\sqrt{2}, 0, \\sqrt{2}\\right], \\verb|trace| : \\left[-2, 2, -2\\right]\\right\\}\\right)\n",
       "\\end{math}"
      ],
      "text/plain": [
       "('[1, 1, 0, 0, 1, 1, 0, 1]',\n",
       " {'mon': [2*l^4 - 5*l^2 + 1       2*l^3 - 3*l]\n",
       "  [       -l^3 + 2*l          -l^2 + 1],\n",
       "  'sol': [-sqrt(2), 0, sqrt(2)],\n",
       "  'trace': [-2, 2, -2]})"
      ]
     },
     "metadata": {},
     "output_type": "display_data"
    },
    {
     "data": {
      "text/html": [
       "<html><script type=\"math/tex; mode=display\">\\newcommand{\\Bold}[1]{\\mathbf{#1}}\\left(\\verb|[0,|\\phantom{\\verb!x!}\\verb|0,|\\phantom{\\verb!x!}\\verb|1,|\\phantom{\\verb!x!}\\verb|0,|\\phantom{\\verb!x!}\\verb|1,|\\phantom{\\verb!x!}\\verb|1,|\\phantom{\\verb!x!}\\verb|0,|\\phantom{\\verb!x!}\\verb|1]|, \\left\\{\\verb|mon| : \\left(\\begin{array}{rr}\n",
       "-4 \\, l^{2} + 1 & -2 \\, l \\\\\n",
       "2 \\, l & 1\n",
       "\\end{array}\\right), \\verb|sol| : \\left[0\\right], \\verb|trace| : \\left[2\\right]\\right\\}\\right)</script></html>"
      ],
      "text/latex": [
       "\\begin{math}\n",
       "\\newcommand{\\Bold}[1]{\\mathbf{#1}}\\left(\\verb|[0,|\\phantom{\\verb!x!}\\verb|0,|\\phantom{\\verb!x!}\\verb|1,|\\phantom{\\verb!x!}\\verb|0,|\\phantom{\\verb!x!}\\verb|1,|\\phantom{\\verb!x!}\\verb|1,|\\phantom{\\verb!x!}\\verb|0,|\\phantom{\\verb!x!}\\verb|1]|, \\left\\{\\verb|mon| : \\left(\\begin{array}{rr}\n",
       "-4 \\, l^{2} + 1 & -2 \\, l \\\\\n",
       "2 \\, l & 1\n",
       "\\end{array}\\right), \\verb|sol| : \\left[0\\right], \\verb|trace| : \\left[2\\right]\\right\\}\\right)\n",
       "\\end{math}"
      ],
      "text/plain": [
       "('[0, 0, 1, 0, 1, 1, 0, 1]',\n",
       " {'mon': [-4*l^2 + 1       -2*l]\n",
       "  [       2*l          1], 'sol': [0], 'trace': [2]})"
      ]
     },
     "metadata": {},
     "output_type": "display_data"
    },
    {
     "data": {
      "text/html": [
       "<html><script type=\"math/tex; mode=display\">\\newcommand{\\Bold}[1]{\\mathbf{#1}}\\left(\\verb|[1,|\\phantom{\\verb!x!}\\verb|0,|\\phantom{\\verb!x!}\\verb|1,|\\phantom{\\verb!x!}\\verb|0,|\\phantom{\\verb!x!}\\verb|1,|\\phantom{\\verb!x!}\\verb|1,|\\phantom{\\verb!x!}\\verb|0,|\\phantom{\\verb!x!}\\verb|1]|, \\left\\{\\verb|mon| : \\left(\\begin{array}{rr}\n",
       "-6 \\, l^{2} + 1 & -2 \\, l \\\\\n",
       "3 \\, l & 1\n",
       "\\end{array}\\right), \\verb|sol| : \\left[0\\right], \\verb|trace| : \\left[2\\right]\\right\\}\\right)</script></html>"
      ],
      "text/latex": [
       "\\begin{math}\n",
       "\\newcommand{\\Bold}[1]{\\mathbf{#1}}\\left(\\verb|[1,|\\phantom{\\verb!x!}\\verb|0,|\\phantom{\\verb!x!}\\verb|1,|\\phantom{\\verb!x!}\\verb|0,|\\phantom{\\verb!x!}\\verb|1,|\\phantom{\\verb!x!}\\verb|1,|\\phantom{\\verb!x!}\\verb|0,|\\phantom{\\verb!x!}\\verb|1]|, \\left\\{\\verb|mon| : \\left(\\begin{array}{rr}\n",
       "-6 \\, l^{2} + 1 & -2 \\, l \\\\\n",
       "3 \\, l & 1\n",
       "\\end{array}\\right), \\verb|sol| : \\left[0\\right], \\verb|trace| : \\left[2\\right]\\right\\}\\right)\n",
       "\\end{math}"
      ],
      "text/plain": [
       "('[1, 0, 1, 0, 1, 1, 0, 1]',\n",
       " {'mon': [-6*l^2 + 1       -2*l]\n",
       "  [       3*l          1], 'sol': [0], 'trace': [2]})"
      ]
     },
     "metadata": {},
     "output_type": "display_data"
    },
    {
     "data": {
      "text/html": [
       "<html><script type=\"math/tex; mode=display\">\\newcommand{\\Bold}[1]{\\mathbf{#1}}\\left(\\verb|[0,|\\phantom{\\verb!x!}\\verb|1,|\\phantom{\\verb!x!}\\verb|1,|\\phantom{\\verb!x!}\\verb|0,|\\phantom{\\verb!x!}\\verb|1,|\\phantom{\\verb!x!}\\verb|1,|\\phantom{\\verb!x!}\\verb|0,|\\phantom{\\verb!x!}\\verb|1]|, \\left\\{\\verb|mon| : \\left(\\begin{array}{rr}\n",
       "-4 \\, l^{2} + 1 & 4 \\, l^{3} - 3 \\, l \\\\\n",
       "2 \\, l & -2 \\, l^{2} + 1\n",
       "\\end{array}\\right), \\verb|sol| : \\left[0\\right], \\verb|trace| : \\left[2\\right]\\right\\}\\right)</script></html>"
      ],
      "text/latex": [
       "\\begin{math}\n",
       "\\newcommand{\\Bold}[1]{\\mathbf{#1}}\\left(\\verb|[0,|\\phantom{\\verb!x!}\\verb|1,|\\phantom{\\verb!x!}\\verb|1,|\\phantom{\\verb!x!}\\verb|0,|\\phantom{\\verb!x!}\\verb|1,|\\phantom{\\verb!x!}\\verb|1,|\\phantom{\\verb!x!}\\verb|0,|\\phantom{\\verb!x!}\\verb|1]|, \\left\\{\\verb|mon| : \\left(\\begin{array}{rr}\n",
       "-4 \\, l^{2} + 1 & 4 \\, l^{3} - 3 \\, l \\\\\n",
       "2 \\, l & -2 \\, l^{2} + 1\n",
       "\\end{array}\\right), \\verb|sol| : \\left[0\\right], \\verb|trace| : \\left[2\\right]\\right\\}\\right)\n",
       "\\end{math}"
      ],
      "text/plain": [
       "('[0, 1, 1, 0, 1, 1, 0, 1]',\n",
       " {'mon': [ -4*l^2 + 1 4*l^3 - 3*l]\n",
       "  [        2*l  -2*l^2 + 1], 'sol': [0], 'trace': [2]})"
      ]
     },
     "metadata": {},
     "output_type": "display_data"
    },
    {
     "data": {
      "text/html": [
       "<html><script type=\"math/tex; mode=display\">\\newcommand{\\Bold}[1]{\\mathbf{#1}}\\left(\\verb|[1,|\\phantom{\\verb!x!}\\verb|1,|\\phantom{\\verb!x!}\\verb|1,|\\phantom{\\verb!x!}\\verb|0,|\\phantom{\\verb!x!}\\verb|1,|\\phantom{\\verb!x!}\\verb|1,|\\phantom{\\verb!x!}\\verb|0,|\\phantom{\\verb!x!}\\verb|1]|, \\left\\{\\verb|mon| : \\left(\\begin{array}{rr}\n",
       "4 \\, l^{4} - 7 \\, l^{2} + 1 & 4 \\, l^{3} - 3 \\, l \\\\\n",
       "-2 \\, l^{3} + 3 \\, l & -2 \\, l^{2} + 1\n",
       "\\end{array}\\right), \\verb|sol| : \\left[-\\frac{1}{2} \\, \\sqrt{3} \\sqrt{2}, 0, \\frac{1}{2} \\, \\sqrt{3} \\sqrt{2}\\right], \\verb|trace| : \\left[-\\frac{5}{2}, 2, -\\frac{5}{2}\\right]\\right\\}\\right)</script></html>"
      ],
      "text/latex": [
       "\\begin{math}\n",
       "\\newcommand{\\Bold}[1]{\\mathbf{#1}}\\left(\\verb|[1,|\\phantom{\\verb!x!}\\verb|1,|\\phantom{\\verb!x!}\\verb|1,|\\phantom{\\verb!x!}\\verb|0,|\\phantom{\\verb!x!}\\verb|1,|\\phantom{\\verb!x!}\\verb|1,|\\phantom{\\verb!x!}\\verb|0,|\\phantom{\\verb!x!}\\verb|1]|, \\left\\{\\verb|mon| : \\left(\\begin{array}{rr}\n",
       "4 \\, l^{4} - 7 \\, l^{2} + 1 & 4 \\, l^{3} - 3 \\, l \\\\\n",
       "-2 \\, l^{3} + 3 \\, l & -2 \\, l^{2} + 1\n",
       "\\end{array}\\right), \\verb|sol| : \\left[-\\frac{1}{2} \\, \\sqrt{3} \\sqrt{2}, 0, \\frac{1}{2} \\, \\sqrt{3} \\sqrt{2}\\right], \\verb|trace| : \\left[-\\frac{5}{2}, 2, -\\frac{5}{2}\\right]\\right\\}\\right)\n",
       "\\end{math}"
      ],
      "text/plain": [
       "('[1, 1, 1, 0, 1, 1, 0, 1]',\n",
       " {'mon': [4*l^4 - 7*l^2 + 1       4*l^3 - 3*l]\n",
       "  [     -2*l^3 + 3*l        -2*l^2 + 1],\n",
       "  'sol': [-1/2*sqrt(3)*sqrt(2), 0, 1/2*sqrt(3)*sqrt(2)],\n",
       "  'trace': [-5/2, 2, -5/2]})"
      ]
     },
     "metadata": {},
     "output_type": "display_data"
    },
    {
     "data": {
      "text/html": [
       "<html><script type=\"math/tex; mode=display\">\\newcommand{\\Bold}[1]{\\mathbf{#1}}\\left(\\verb|[0,|\\phantom{\\verb!x!}\\verb|0,|\\phantom{\\verb!x!}\\verb|0,|\\phantom{\\verb!x!}\\verb|1,|\\phantom{\\verb!x!}\\verb|1,|\\phantom{\\verb!x!}\\verb|1,|\\phantom{\\verb!x!}\\verb|0,|\\phantom{\\verb!x!}\\verb|1]|, \\left\\{\\verb|mon| : \\left(\\begin{array}{rr}\n",
       "-2 \\, l^{2} + 1 & 2 \\, l^{3} - 3 \\, l \\\\\n",
       "l & -l^{2} + 1\n",
       "\\end{array}\\right), \\verb|sol| : \\left[0\\right], \\verb|trace| : \\left[2\\right]\\right\\}\\right)</script></html>"
      ],
      "text/latex": [
       "\\begin{math}\n",
       "\\newcommand{\\Bold}[1]{\\mathbf{#1}}\\left(\\verb|[0,|\\phantom{\\verb!x!}\\verb|0,|\\phantom{\\verb!x!}\\verb|0,|\\phantom{\\verb!x!}\\verb|1,|\\phantom{\\verb!x!}\\verb|1,|\\phantom{\\verb!x!}\\verb|1,|\\phantom{\\verb!x!}\\verb|0,|\\phantom{\\verb!x!}\\verb|1]|, \\left\\{\\verb|mon| : \\left(\\begin{array}{rr}\n",
       "-2 \\, l^{2} + 1 & 2 \\, l^{3} - 3 \\, l \\\\\n",
       "l & -l^{2} + 1\n",
       "\\end{array}\\right), \\verb|sol| : \\left[0\\right], \\verb|trace| : \\left[2\\right]\\right\\}\\right)\n",
       "\\end{math}"
      ],
      "text/plain": [
       "('[0, 0, 0, 1, 1, 1, 0, 1]',\n",
       " {'mon': [ -2*l^2 + 1 2*l^3 - 3*l]\n",
       "  [          l    -l^2 + 1], 'sol': [0], 'trace': [2]})"
      ]
     },
     "metadata": {},
     "output_type": "display_data"
    },
    {
     "data": {
      "text/html": [
       "<html><script type=\"math/tex; mode=display\">\\newcommand{\\Bold}[1]{\\mathbf{#1}}\\left(\\verb|[1,|\\phantom{\\verb!x!}\\verb|0,|\\phantom{\\verb!x!}\\verb|0,|\\phantom{\\verb!x!}\\verb|1,|\\phantom{\\verb!x!}\\verb|1,|\\phantom{\\verb!x!}\\verb|1,|\\phantom{\\verb!x!}\\verb|0,|\\phantom{\\verb!x!}\\verb|1]|, \\left\\{\\verb|mon| : \\left(\\begin{array}{rr}\n",
       "2 \\, l^{4} - 5 \\, l^{2} + 1 & 2 \\, l^{3} - 3 \\, l \\\\\n",
       "-l^{3} + 2 \\, l & -l^{2} + 1\n",
       "\\end{array}\\right), \\verb|sol| : \\left[-\\sqrt{2}, 0, \\sqrt{2}\\right], \\verb|trace| : \\left[-2, 2, -2\\right]\\right\\}\\right)</script></html>"
      ],
      "text/latex": [
       "\\begin{math}\n",
       "\\newcommand{\\Bold}[1]{\\mathbf{#1}}\\left(\\verb|[1,|\\phantom{\\verb!x!}\\verb|0,|\\phantom{\\verb!x!}\\verb|0,|\\phantom{\\verb!x!}\\verb|1,|\\phantom{\\verb!x!}\\verb|1,|\\phantom{\\verb!x!}\\verb|1,|\\phantom{\\verb!x!}\\verb|0,|\\phantom{\\verb!x!}\\verb|1]|, \\left\\{\\verb|mon| : \\left(\\begin{array}{rr}\n",
       "2 \\, l^{4} - 5 \\, l^{2} + 1 & 2 \\, l^{3} - 3 \\, l \\\\\n",
       "-l^{3} + 2 \\, l & -l^{2} + 1\n",
       "\\end{array}\\right), \\verb|sol| : \\left[-\\sqrt{2}, 0, \\sqrt{2}\\right], \\verb|trace| : \\left[-2, 2, -2\\right]\\right\\}\\right)\n",
       "\\end{math}"
      ],
      "text/plain": [
       "('[1, 0, 0, 1, 1, 1, 0, 1]',\n",
       " {'mon': [2*l^4 - 5*l^2 + 1       2*l^3 - 3*l]\n",
       "  [       -l^3 + 2*l          -l^2 + 1],\n",
       "  'sol': [-sqrt(2), 0, sqrt(2)],\n",
       "  'trace': [-2, 2, -2]})"
      ]
     },
     "metadata": {},
     "output_type": "display_data"
    },
    {
     "data": {
      "text/html": [
       "<html><script type=\"math/tex; mode=display\">\\newcommand{\\Bold}[1]{\\mathbf{#1}}\\left(\\verb|[0,|\\phantom{\\verb!x!}\\verb|1,|\\phantom{\\verb!x!}\\verb|0,|\\phantom{\\verb!x!}\\verb|1,|\\phantom{\\verb!x!}\\verb|1,|\\phantom{\\verb!x!}\\verb|1,|\\phantom{\\verb!x!}\\verb|0,|\\phantom{\\verb!x!}\\verb|1]|, \\left\\{\\verb|mon| : \\left(\\begin{array}{rr}\n",
       "-2 \\, l^{2} + 1 & 4 \\, l^{3} - 4 \\, l \\\\\n",
       "l & -2 \\, l^{2} + 1\n",
       "\\end{array}\\right), \\verb|sol| : \\left[0\\right], \\verb|trace| : \\left[2\\right]\\right\\}\\right)</script></html>"
      ],
      "text/latex": [
       "\\begin{math}\n",
       "\\newcommand{\\Bold}[1]{\\mathbf{#1}}\\left(\\verb|[0,|\\phantom{\\verb!x!}\\verb|1,|\\phantom{\\verb!x!}\\verb|0,|\\phantom{\\verb!x!}\\verb|1,|\\phantom{\\verb!x!}\\verb|1,|\\phantom{\\verb!x!}\\verb|1,|\\phantom{\\verb!x!}\\verb|0,|\\phantom{\\verb!x!}\\verb|1]|, \\left\\{\\verb|mon| : \\left(\\begin{array}{rr}\n",
       "-2 \\, l^{2} + 1 & 4 \\, l^{3} - 4 \\, l \\\\\n",
       "l & -2 \\, l^{2} + 1\n",
       "\\end{array}\\right), \\verb|sol| : \\left[0\\right], \\verb|trace| : \\left[2\\right]\\right\\}\\right)\n",
       "\\end{math}"
      ],
      "text/plain": [
       "('[0, 1, 0, 1, 1, 1, 0, 1]',\n",
       " {'mon': [ -2*l^2 + 1 4*l^3 - 4*l]\n",
       "  [          l  -2*l^2 + 1], 'sol': [0], 'trace': [2]})"
      ]
     },
     "metadata": {},
     "output_type": "display_data"
    },
    {
     "data": {
      "text/html": [
       "<html><script type=\"math/tex; mode=display\">\\newcommand{\\Bold}[1]{\\mathbf{#1}}\\left(\\verb|[1,|\\phantom{\\verb!x!}\\verb|1,|\\phantom{\\verb!x!}\\verb|0,|\\phantom{\\verb!x!}\\verb|1,|\\phantom{\\verb!x!}\\verb|1,|\\phantom{\\verb!x!}\\verb|1,|\\phantom{\\verb!x!}\\verb|0,|\\phantom{\\verb!x!}\\verb|1]|, \\left\\{\\verb|mon| : \\left(\\begin{array}{rr}\n",
       "4 \\, l^{4} - 6 \\, l^{2} + 1 & 4 \\, l^{3} - 4 \\, l \\\\\n",
       "-2 \\, l^{3} + 2 \\, l & -2 \\, l^{2} + 1\n",
       "\\end{array}\\right), \\verb|sol| : \\left[-1, 0, 1\\right], \\verb|trace| : \\left[-2, 2, -2\\right]\\right\\}\\right)</script></html>"
      ],
      "text/latex": [
       "\\begin{math}\n",
       "\\newcommand{\\Bold}[1]{\\mathbf{#1}}\\left(\\verb|[1,|\\phantom{\\verb!x!}\\verb|1,|\\phantom{\\verb!x!}\\verb|0,|\\phantom{\\verb!x!}\\verb|1,|\\phantom{\\verb!x!}\\verb|1,|\\phantom{\\verb!x!}\\verb|1,|\\phantom{\\verb!x!}\\verb|0,|\\phantom{\\verb!x!}\\verb|1]|, \\left\\{\\verb|mon| : \\left(\\begin{array}{rr}\n",
       "4 \\, l^{4} - 6 \\, l^{2} + 1 & 4 \\, l^{3} - 4 \\, l \\\\\n",
       "-2 \\, l^{3} + 2 \\, l & -2 \\, l^{2} + 1\n",
       "\\end{array}\\right), \\verb|sol| : \\left[-1, 0, 1\\right], \\verb|trace| : \\left[-2, 2, -2\\right]\\right\\}\\right)\n",
       "\\end{math}"
      ],
      "text/plain": [
       "('[1, 1, 0, 1, 1, 1, 0, 1]',\n",
       " {'mon': [4*l^4 - 6*l^2 + 1       4*l^3 - 4*l]\n",
       "  [     -2*l^3 + 2*l        -2*l^2 + 1],\n",
       "  'sol': [-1, 0, 1],\n",
       "  'trace': [-2, 2, -2]})"
      ]
     },
     "metadata": {},
     "output_type": "display_data"
    },
    {
     "data": {
      "text/html": [
       "<html><script type=\"math/tex; mode=display\">\\newcommand{\\Bold}[1]{\\mathbf{#1}}\\left(\\verb|[0,|\\phantom{\\verb!x!}\\verb|0,|\\phantom{\\verb!x!}\\verb|1,|\\phantom{\\verb!x!}\\verb|1,|\\phantom{\\verb!x!}\\verb|1,|\\phantom{\\verb!x!}\\verb|1,|\\phantom{\\verb!x!}\\verb|0,|\\phantom{\\verb!x!}\\verb|1]|, \\left\\{\\verb|mon| : \\left(\\begin{array}{rr}\n",
       "2 \\, l^{4} - 5 \\, l^{2} + 1 & 2 \\, l^{3} - 3 \\, l \\\\\n",
       "-l^{3} + 2 \\, l & -l^{2} + 1\n",
       "\\end{array}\\right), \\verb|sol| : \\left[-\\sqrt{2}, 0, \\sqrt{2}\\right], \\verb|trace| : \\left[-2, 2, -2\\right]\\right\\}\\right)</script></html>"
      ],
      "text/latex": [
       "\\begin{math}\n",
       "\\newcommand{\\Bold}[1]{\\mathbf{#1}}\\left(\\verb|[0,|\\phantom{\\verb!x!}\\verb|0,|\\phantom{\\verb!x!}\\verb|1,|\\phantom{\\verb!x!}\\verb|1,|\\phantom{\\verb!x!}\\verb|1,|\\phantom{\\verb!x!}\\verb|1,|\\phantom{\\verb!x!}\\verb|0,|\\phantom{\\verb!x!}\\verb|1]|, \\left\\{\\verb|mon| : \\left(\\begin{array}{rr}\n",
       "2 \\, l^{4} - 5 \\, l^{2} + 1 & 2 \\, l^{3} - 3 \\, l \\\\\n",
       "-l^{3} + 2 \\, l & -l^{2} + 1\n",
       "\\end{array}\\right), \\verb|sol| : \\left[-\\sqrt{2}, 0, \\sqrt{2}\\right], \\verb|trace| : \\left[-2, 2, -2\\right]\\right\\}\\right)\n",
       "\\end{math}"
      ],
      "text/plain": [
       "('[0, 0, 1, 1, 1, 1, 0, 1]',\n",
       " {'mon': [2*l^4 - 5*l^2 + 1       2*l^3 - 3*l]\n",
       "  [       -l^3 + 2*l          -l^2 + 1],\n",
       "  'sol': [-sqrt(2), 0, sqrt(2)],\n",
       "  'trace': [-2, 2, -2]})"
      ]
     },
     "metadata": {},
     "output_type": "display_data"
    },
    {
     "data": {
      "text/html": [
       "<html><script type=\"math/tex; mode=display\">\\newcommand{\\Bold}[1]{\\mathbf{#1}}\\left(\\verb|[1,|\\phantom{\\verb!x!}\\verb|0,|\\phantom{\\verb!x!}\\verb|1,|\\phantom{\\verb!x!}\\verb|1,|\\phantom{\\verb!x!}\\verb|1,|\\phantom{\\verb!x!}\\verb|1,|\\phantom{\\verb!x!}\\verb|0,|\\phantom{\\verb!x!}\\verb|1]|, \\left\\{\\verb|mon| : \\left(\\begin{array}{rr}\n",
       "4 \\, l^{4} - 8 \\, l^{2} + 1 & 2 \\, l^{3} - 3 \\, l \\\\\n",
       "-2 \\, l^{3} + 3 \\, l & -l^{2} + 1\n",
       "\\end{array}\\right), \\verb|sol| : \\left[-\\frac{1}{2} \\, \\sqrt{3} \\sqrt{2}, 0, \\frac{1}{2} \\, \\sqrt{3} \\sqrt{2}\\right], \\verb|trace| : \\left[-\\frac{5}{2}, 2, -\\frac{5}{2}\\right]\\right\\}\\right)</script></html>"
      ],
      "text/latex": [
       "\\begin{math}\n",
       "\\newcommand{\\Bold}[1]{\\mathbf{#1}}\\left(\\verb|[1,|\\phantom{\\verb!x!}\\verb|0,|\\phantom{\\verb!x!}\\verb|1,|\\phantom{\\verb!x!}\\verb|1,|\\phantom{\\verb!x!}\\verb|1,|\\phantom{\\verb!x!}\\verb|1,|\\phantom{\\verb!x!}\\verb|0,|\\phantom{\\verb!x!}\\verb|1]|, \\left\\{\\verb|mon| : \\left(\\begin{array}{rr}\n",
       "4 \\, l^{4} - 8 \\, l^{2} + 1 & 2 \\, l^{3} - 3 \\, l \\\\\n",
       "-2 \\, l^{3} + 3 \\, l & -l^{2} + 1\n",
       "\\end{array}\\right), \\verb|sol| : \\left[-\\frac{1}{2} \\, \\sqrt{3} \\sqrt{2}, 0, \\frac{1}{2} \\, \\sqrt{3} \\sqrt{2}\\right], \\verb|trace| : \\left[-\\frac{5}{2}, 2, -\\frac{5}{2}\\right]\\right\\}\\right)\n",
       "\\end{math}"
      ],
      "text/plain": [
       "('[1, 0, 1, 1, 1, 1, 0, 1]',\n",
       " {'mon': [4*l^4 - 8*l^2 + 1       2*l^3 - 3*l]\n",
       "  [     -2*l^3 + 3*l          -l^2 + 1],\n",
       "  'sol': [-1/2*sqrt(3)*sqrt(2), 0, 1/2*sqrt(3)*sqrt(2)],\n",
       "  'trace': [-5/2, 2, -5/2]})"
      ]
     },
     "metadata": {},
     "output_type": "display_data"
    },
    {
     "data": {
      "text/html": [
       "<html><script type=\"math/tex; mode=display\">\\newcommand{\\Bold}[1]{\\mathbf{#1}}\\left(\\verb|[0,|\\phantom{\\verb!x!}\\verb|1,|\\phantom{\\verb!x!}\\verb|1,|\\phantom{\\verb!x!}\\verb|1,|\\phantom{\\verb!x!}\\verb|1,|\\phantom{\\verb!x!}\\verb|1,|\\phantom{\\verb!x!}\\verb|0,|\\phantom{\\verb!x!}\\verb|1]|, \\left\\{\\verb|mon| : \\left(\\begin{array}{rr}\n",
       "2 \\, l^{4} - 5 \\, l^{2} + 1 & -2 \\, l^{5} + 7 \\, l^{3} - 4 \\, l \\\\\n",
       "-l^{3} + 2 \\, l & l^{4} - 3 \\, l^{2} + 1\n",
       "\\end{array}\\right), \\verb|sol| : \\left[-\\sqrt{2}, 0, \\sqrt{2}\\right], \\verb|trace| : \\left[-2, 2, -2\\right]\\right\\}\\right)</script></html>"
      ],
      "text/latex": [
       "\\begin{math}\n",
       "\\newcommand{\\Bold}[1]{\\mathbf{#1}}\\left(\\verb|[0,|\\phantom{\\verb!x!}\\verb|1,|\\phantom{\\verb!x!}\\verb|1,|\\phantom{\\verb!x!}\\verb|1,|\\phantom{\\verb!x!}\\verb|1,|\\phantom{\\verb!x!}\\verb|1,|\\phantom{\\verb!x!}\\verb|0,|\\phantom{\\verb!x!}\\verb|1]|, \\left\\{\\verb|mon| : \\left(\\begin{array}{rr}\n",
       "2 \\, l^{4} - 5 \\, l^{2} + 1 & -2 \\, l^{5} + 7 \\, l^{3} - 4 \\, l \\\\\n",
       "-l^{3} + 2 \\, l & l^{4} - 3 \\, l^{2} + 1\n",
       "\\end{array}\\right), \\verb|sol| : \\left[-\\sqrt{2}, 0, \\sqrt{2}\\right], \\verb|trace| : \\left[-2, 2, -2\\right]\\right\\}\\right)\n",
       "\\end{math}"
      ],
      "text/plain": [
       "('[0, 1, 1, 1, 1, 1, 0, 1]',\n",
       " {'mon': [   2*l^4 - 5*l^2 + 1 -2*l^5 + 7*l^3 - 4*l]\n",
       "  [          -l^3 + 2*l      l^4 - 3*l^2 + 1],\n",
       "  'sol': [-sqrt(2), 0, sqrt(2)],\n",
       "  'trace': [-2, 2, -2]})"
      ]
     },
     "metadata": {},
     "output_type": "display_data"
    },
    {
     "data": {
      "text/html": [
       "<html><script type=\"math/tex; mode=display\">\\newcommand{\\Bold}[1]{\\mathbf{#1}}\\left(\\verb|[1,|\\phantom{\\verb!x!}\\verb|1,|\\phantom{\\verb!x!}\\verb|1,|\\phantom{\\verb!x!}\\verb|1,|\\phantom{\\verb!x!}\\verb|1,|\\phantom{\\verb!x!}\\verb|1,|\\phantom{\\verb!x!}\\verb|0,|\\phantom{\\verb!x!}\\verb|1]|, \\left\\{\\verb|mon| : \\left(\\begin{array}{rr}\n",
       "-2 \\, l^{6} + 9 \\, l^{4} - 9 \\, l^{2} + 1 & -2 \\, l^{5} + 7 \\, l^{3} - 4 \\, l \\\\\n",
       "l^{5} - 4 \\, l^{3} + 3 \\, l & l^{4} - 3 \\, l^{2} + 1\n",
       "\\end{array}\\right), \\verb|sol| : \\left[-\\sqrt{3}, -1, 0, 1, \\sqrt{3}\\right], \\verb|trace| : \\left[2, -2, 2, -2, 2\\right]\\right\\}\\right)</script></html>"
      ],
      "text/latex": [
       "\\begin{math}\n",
       "\\newcommand{\\Bold}[1]{\\mathbf{#1}}\\left(\\verb|[1,|\\phantom{\\verb!x!}\\verb|1,|\\phantom{\\verb!x!}\\verb|1,|\\phantom{\\verb!x!}\\verb|1,|\\phantom{\\verb!x!}\\verb|1,|\\phantom{\\verb!x!}\\verb|1,|\\phantom{\\verb!x!}\\verb|0,|\\phantom{\\verb!x!}\\verb|1]|, \\left\\{\\verb|mon| : \\left(\\begin{array}{rr}\n",
       "-2 \\, l^{6} + 9 \\, l^{4} - 9 \\, l^{2} + 1 & -2 \\, l^{5} + 7 \\, l^{3} - 4 \\, l \\\\\n",
       "l^{5} - 4 \\, l^{3} + 3 \\, l & l^{4} - 3 \\, l^{2} + 1\n",
       "\\end{array}\\right), \\verb|sol| : \\left[-\\sqrt{3}, -1, 0, 1, \\sqrt{3}\\right], \\verb|trace| : \\left[2, -2, 2, -2, 2\\right]\\right\\}\\right)\n",
       "\\end{math}"
      ],
      "text/plain": [
       "('[1, 1, 1, 1, 1, 1, 0, 1]',\n",
       " {'mon': [-2*l^6 + 9*l^4 - 9*l^2 + 1       -2*l^5 + 7*l^3 - 4*l]\n",
       "  [         l^5 - 4*l^3 + 3*l            l^4 - 3*l^2 + 1],\n",
       "  'sol': [-sqrt(3), -1, 0, 1, sqrt(3)],\n",
       "  'trace': [2, -2, 2, -2, 2]})"
      ]
     },
     "metadata": {},
     "output_type": "display_data"
    },
    {
     "data": {
      "text/html": [
       "<html><script type=\"math/tex; mode=display\">\\newcommand{\\Bold}[1]{\\mathbf{#1}}\\left(\\verb|[0,|\\phantom{\\verb!x!}\\verb|0,|\\phantom{\\verb!x!}\\verb|0,|\\phantom{\\verb!x!}\\verb|0,|\\phantom{\\verb!x!}\\verb|0,|\\phantom{\\verb!x!}\\verb|0,|\\phantom{\\verb!x!}\\verb|1,|\\phantom{\\verb!x!}\\verb|1]|, \\left\\{\\verb|mon| : \\left(\\begin{array}{rr}\n",
       "-l^{2} + 1 & -l \\\\\n",
       "l & 1\n",
       "\\end{array}\\right), \\verb|sol| : \\left[0\\right], \\verb|trace| : \\left[2\\right]\\right\\}\\right)</script></html>"
      ],
      "text/latex": [
       "\\begin{math}\n",
       "\\newcommand{\\Bold}[1]{\\mathbf{#1}}\\left(\\verb|[0,|\\phantom{\\verb!x!}\\verb|0,|\\phantom{\\verb!x!}\\verb|0,|\\phantom{\\verb!x!}\\verb|0,|\\phantom{\\verb!x!}\\verb|0,|\\phantom{\\verb!x!}\\verb|0,|\\phantom{\\verb!x!}\\verb|1,|\\phantom{\\verb!x!}\\verb|1]|, \\left\\{\\verb|mon| : \\left(\\begin{array}{rr}\n",
       "-l^{2} + 1 & -l \\\\\n",
       "l & 1\n",
       "\\end{array}\\right), \\verb|sol| : \\left[0\\right], \\verb|trace| : \\left[2\\right]\\right\\}\\right)\n",
       "\\end{math}"
      ],
      "text/plain": [
       "('[0, 0, 0, 0, 0, 0, 1, 1]',\n",
       " {'mon': [-l^2 + 1       -l]\n",
       "  [       l        1], 'sol': [0], 'trace': [2]})"
      ]
     },
     "metadata": {},
     "output_type": "display_data"
    },
    {
     "data": {
      "text/html": [
       "<html><script type=\"math/tex; mode=display\">\\newcommand{\\Bold}[1]{\\mathbf{#1}}\\left(\\verb|[1,|\\phantom{\\verb!x!}\\verb|0,|\\phantom{\\verb!x!}\\verb|0,|\\phantom{\\verb!x!}\\verb|0,|\\phantom{\\verb!x!}\\verb|0,|\\phantom{\\verb!x!}\\verb|0,|\\phantom{\\verb!x!}\\verb|1,|\\phantom{\\verb!x!}\\verb|1]|, \\left\\{\\verb|mon| : \\left(\\begin{array}{rr}\n",
       "-2 \\, l^{2} + 1 & -l \\\\\n",
       "2 \\, l & 1\n",
       "\\end{array}\\right), \\verb|sol| : \\left[0\\right], \\verb|trace| : \\left[2\\right]\\right\\}\\right)</script></html>"
      ],
      "text/latex": [
       "\\begin{math}\n",
       "\\newcommand{\\Bold}[1]{\\mathbf{#1}}\\left(\\verb|[1,|\\phantom{\\verb!x!}\\verb|0,|\\phantom{\\verb!x!}\\verb|0,|\\phantom{\\verb!x!}\\verb|0,|\\phantom{\\verb!x!}\\verb|0,|\\phantom{\\verb!x!}\\verb|0,|\\phantom{\\verb!x!}\\verb|1,|\\phantom{\\verb!x!}\\verb|1]|, \\left\\{\\verb|mon| : \\left(\\begin{array}{rr}\n",
       "-2 \\, l^{2} + 1 & -l \\\\\n",
       "2 \\, l & 1\n",
       "\\end{array}\\right), \\verb|sol| : \\left[0\\right], \\verb|trace| : \\left[2\\right]\\right\\}\\right)\n",
       "\\end{math}"
      ],
      "text/plain": [
       "('[1, 0, 0, 0, 0, 0, 1, 1]',\n",
       " {'mon': [-2*l^2 + 1         -l]\n",
       "  [       2*l          1], 'sol': [0], 'trace': [2]})"
      ]
     },
     "metadata": {},
     "output_type": "display_data"
    },
    {
     "data": {
      "text/html": [
       "<html><script type=\"math/tex; mode=display\">\\newcommand{\\Bold}[1]{\\mathbf{#1}}\\left(\\verb|[0,|\\phantom{\\verb!x!}\\verb|1,|\\phantom{\\verb!x!}\\verb|0,|\\phantom{\\verb!x!}\\verb|0,|\\phantom{\\verb!x!}\\verb|0,|\\phantom{\\verb!x!}\\verb|0,|\\phantom{\\verb!x!}\\verb|1,|\\phantom{\\verb!x!}\\verb|1]|, \\left\\{\\verb|mon| : \\left(\\begin{array}{rr}\n",
       "-l^{2} + 1 & l^{3} - 2 \\, l \\\\\n",
       "l & -l^{2} + 1\n",
       "\\end{array}\\right), \\verb|sol| : \\left[0\\right], \\verb|trace| : \\left[2\\right]\\right\\}\\right)</script></html>"
      ],
      "text/latex": [
       "\\begin{math}\n",
       "\\newcommand{\\Bold}[1]{\\mathbf{#1}}\\left(\\verb|[0,|\\phantom{\\verb!x!}\\verb|1,|\\phantom{\\verb!x!}\\verb|0,|\\phantom{\\verb!x!}\\verb|0,|\\phantom{\\verb!x!}\\verb|0,|\\phantom{\\verb!x!}\\verb|0,|\\phantom{\\verb!x!}\\verb|1,|\\phantom{\\verb!x!}\\verb|1]|, \\left\\{\\verb|mon| : \\left(\\begin{array}{rr}\n",
       "-l^{2} + 1 & l^{3} - 2 \\, l \\\\\n",
       "l & -l^{2} + 1\n",
       "\\end{array}\\right), \\verb|sol| : \\left[0\\right], \\verb|trace| : \\left[2\\right]\\right\\}\\right)\n",
       "\\end{math}"
      ],
      "text/plain": [
       "('[0, 1, 0, 0, 0, 0, 1, 1]',\n",
       " {'mon': [ -l^2 + 1 l^3 - 2*l]\n",
       "  [        l  -l^2 + 1], 'sol': [0], 'trace': [2]})"
      ]
     },
     "metadata": {},
     "output_type": "display_data"
    },
    {
     "data": {
      "text/html": [
       "<html><script type=\"math/tex; mode=display\">\\newcommand{\\Bold}[1]{\\mathbf{#1}}\\left(\\verb|[1,|\\phantom{\\verb!x!}\\verb|1,|\\phantom{\\verb!x!}\\verb|0,|\\phantom{\\verb!x!}\\verb|0,|\\phantom{\\verb!x!}\\verb|0,|\\phantom{\\verb!x!}\\verb|0,|\\phantom{\\verb!x!}\\verb|1,|\\phantom{\\verb!x!}\\verb|1]|, \\left\\{\\verb|mon| : \\left(\\begin{array}{rr}\n",
       "l^{4} - 3 \\, l^{2} + 1 & l^{3} - 2 \\, l \\\\\n",
       "-l^{3} + 2 \\, l & -l^{2} + 1\n",
       "\\end{array}\\right), \\verb|sol| : \\left[-\\sqrt{2}, 0, \\sqrt{2}\\right], \\verb|trace| : \\left[-2, 2, -2\\right]\\right\\}\\right)</script></html>"
      ],
      "text/latex": [
       "\\begin{math}\n",
       "\\newcommand{\\Bold}[1]{\\mathbf{#1}}\\left(\\verb|[1,|\\phantom{\\verb!x!}\\verb|1,|\\phantom{\\verb!x!}\\verb|0,|\\phantom{\\verb!x!}\\verb|0,|\\phantom{\\verb!x!}\\verb|0,|\\phantom{\\verb!x!}\\verb|0,|\\phantom{\\verb!x!}\\verb|1,|\\phantom{\\verb!x!}\\verb|1]|, \\left\\{\\verb|mon| : \\left(\\begin{array}{rr}\n",
       "l^{4} - 3 \\, l^{2} + 1 & l^{3} - 2 \\, l \\\\\n",
       "-l^{3} + 2 \\, l & -l^{2} + 1\n",
       "\\end{array}\\right), \\verb|sol| : \\left[-\\sqrt{2}, 0, \\sqrt{2}\\right], \\verb|trace| : \\left[-2, 2, -2\\right]\\right\\}\\right)\n",
       "\\end{math}"
      ],
      "text/plain": [
       "('[1, 1, 0, 0, 0, 0, 1, 1]',\n",
       " {'mon': [l^4 - 3*l^2 + 1       l^3 - 2*l]\n",
       "  [     -l^3 + 2*l        -l^2 + 1],\n",
       "  'sol': [-sqrt(2), 0, sqrt(2)],\n",
       "  'trace': [-2, 2, -2]})"
      ]
     },
     "metadata": {},
     "output_type": "display_data"
    },
    {
     "data": {
      "text/html": [
       "<html><script type=\"math/tex; mode=display\">\\newcommand{\\Bold}[1]{\\mathbf{#1}}\\left(\\verb|[0,|\\phantom{\\verb!x!}\\verb|0,|\\phantom{\\verb!x!}\\verb|1,|\\phantom{\\verb!x!}\\verb|0,|\\phantom{\\verb!x!}\\verb|0,|\\phantom{\\verb!x!}\\verb|0,|\\phantom{\\verb!x!}\\verb|1,|\\phantom{\\verb!x!}\\verb|1]|, \\left\\{\\verb|mon| : \\left(\\begin{array}{rr}\n",
       "-2 \\, l^{2} + 1 & -l \\\\\n",
       "2 \\, l & 1\n",
       "\\end{array}\\right), \\verb|sol| : \\left[0\\right], \\verb|trace| : \\left[2\\right]\\right\\}\\right)</script></html>"
      ],
      "text/latex": [
       "\\begin{math}\n",
       "\\newcommand{\\Bold}[1]{\\mathbf{#1}}\\left(\\verb|[0,|\\phantom{\\verb!x!}\\verb|0,|\\phantom{\\verb!x!}\\verb|1,|\\phantom{\\verb!x!}\\verb|0,|\\phantom{\\verb!x!}\\verb|0,|\\phantom{\\verb!x!}\\verb|0,|\\phantom{\\verb!x!}\\verb|1,|\\phantom{\\verb!x!}\\verb|1]|, \\left\\{\\verb|mon| : \\left(\\begin{array}{rr}\n",
       "-2 \\, l^{2} + 1 & -l \\\\\n",
       "2 \\, l & 1\n",
       "\\end{array}\\right), \\verb|sol| : \\left[0\\right], \\verb|trace| : \\left[2\\right]\\right\\}\\right)\n",
       "\\end{math}"
      ],
      "text/plain": [
       "('[0, 0, 1, 0, 0, 0, 1, 1]',\n",
       " {'mon': [-2*l^2 + 1         -l]\n",
       "  [       2*l          1], 'sol': [0], 'trace': [2]})"
      ]
     },
     "metadata": {},
     "output_type": "display_data"
    },
    {
     "data": {
      "text/html": [
       "<html><script type=\"math/tex; mode=display\">\\newcommand{\\Bold}[1]{\\mathbf{#1}}\\left(\\verb|[1,|\\phantom{\\verb!x!}\\verb|0,|\\phantom{\\verb!x!}\\verb|1,|\\phantom{\\verb!x!}\\verb|0,|\\phantom{\\verb!x!}\\verb|0,|\\phantom{\\verb!x!}\\verb|0,|\\phantom{\\verb!x!}\\verb|1,|\\phantom{\\verb!x!}\\verb|1]|, \\left\\{\\verb|mon| : \\left(\\begin{array}{rr}\n",
       "-3 \\, l^{2} + 1 & -l \\\\\n",
       "3 \\, l & 1\n",
       "\\end{array}\\right), \\verb|sol| : \\left[0\\right], \\verb|trace| : \\left[2\\right]\\right\\}\\right)</script></html>"
      ],
      "text/latex": [
       "\\begin{math}\n",
       "\\newcommand{\\Bold}[1]{\\mathbf{#1}}\\left(\\verb|[1,|\\phantom{\\verb!x!}\\verb|0,|\\phantom{\\verb!x!}\\verb|1,|\\phantom{\\verb!x!}\\verb|0,|\\phantom{\\verb!x!}\\verb|0,|\\phantom{\\verb!x!}\\verb|0,|\\phantom{\\verb!x!}\\verb|1,|\\phantom{\\verb!x!}\\verb|1]|, \\left\\{\\verb|mon| : \\left(\\begin{array}{rr}\n",
       "-3 \\, l^{2} + 1 & -l \\\\\n",
       "3 \\, l & 1\n",
       "\\end{array}\\right), \\verb|sol| : \\left[0\\right], \\verb|trace| : \\left[2\\right]\\right\\}\\right)\n",
       "\\end{math}"
      ],
      "text/plain": [
       "('[1, 0, 1, 0, 0, 0, 1, 1]',\n",
       " {'mon': [-3*l^2 + 1         -l]\n",
       "  [       3*l          1], 'sol': [0], 'trace': [2]})"
      ]
     },
     "metadata": {},
     "output_type": "display_data"
    },
    {
     "data": {
      "text/html": [
       "<html><script type=\"math/tex; mode=display\">\\newcommand{\\Bold}[1]{\\mathbf{#1}}\\left(\\verb|[0,|\\phantom{\\verb!x!}\\verb|1,|\\phantom{\\verb!x!}\\verb|1,|\\phantom{\\verb!x!}\\verb|0,|\\phantom{\\verb!x!}\\verb|0,|\\phantom{\\verb!x!}\\verb|0,|\\phantom{\\verb!x!}\\verb|1,|\\phantom{\\verb!x!}\\verb|1]|, \\left\\{\\verb|mon| : \\left(\\begin{array}{rr}\n",
       "-2 \\, l^{2} + 1 & 2 \\, l^{3} - 2 \\, l \\\\\n",
       "2 \\, l & -2 \\, l^{2} + 1\n",
       "\\end{array}\\right), \\verb|sol| : \\left[0\\right], \\verb|trace| : \\left[2\\right]\\right\\}\\right)</script></html>"
      ],
      "text/latex": [
       "\\begin{math}\n",
       "\\newcommand{\\Bold}[1]{\\mathbf{#1}}\\left(\\verb|[0,|\\phantom{\\verb!x!}\\verb|1,|\\phantom{\\verb!x!}\\verb|1,|\\phantom{\\verb!x!}\\verb|0,|\\phantom{\\verb!x!}\\verb|0,|\\phantom{\\verb!x!}\\verb|0,|\\phantom{\\verb!x!}\\verb|1,|\\phantom{\\verb!x!}\\verb|1]|, \\left\\{\\verb|mon| : \\left(\\begin{array}{rr}\n",
       "-2 \\, l^{2} + 1 & 2 \\, l^{3} - 2 \\, l \\\\\n",
       "2 \\, l & -2 \\, l^{2} + 1\n",
       "\\end{array}\\right), \\verb|sol| : \\left[0\\right], \\verb|trace| : \\left[2\\right]\\right\\}\\right)\n",
       "\\end{math}"
      ],
      "text/plain": [
       "('[0, 1, 1, 0, 0, 0, 1, 1]',\n",
       " {'mon': [ -2*l^2 + 1 2*l^3 - 2*l]\n",
       "  [        2*l  -2*l^2 + 1], 'sol': [0], 'trace': [2]})"
      ]
     },
     "metadata": {},
     "output_type": "display_data"
    },
    {
     "data": {
      "text/html": [
       "<html><script type=\"math/tex; mode=display\">\\newcommand{\\Bold}[1]{\\mathbf{#1}}\\left(\\verb|[1,|\\phantom{\\verb!x!}\\verb|1,|\\phantom{\\verb!x!}\\verb|1,|\\phantom{\\verb!x!}\\verb|0,|\\phantom{\\verb!x!}\\verb|0,|\\phantom{\\verb!x!}\\verb|0,|\\phantom{\\verb!x!}\\verb|1,|\\phantom{\\verb!x!}\\verb|1]|, \\left\\{\\verb|mon| : \\left(\\begin{array}{rr}\n",
       "2 \\, l^{4} - 4 \\, l^{2} + 1 & 2 \\, l^{3} - 2 \\, l \\\\\n",
       "-2 \\, l^{3} + 3 \\, l & -2 \\, l^{2} + 1\n",
       "\\end{array}\\right), \\verb|sol| : \\left[-\\frac{1}{2} \\, \\sqrt{3} \\sqrt{2}, 0, \\frac{1}{2} \\, \\sqrt{3} \\sqrt{2}\\right], \\verb|trace| : \\left[-\\frac{5}{2}, 2, -\\frac{5}{2}\\right]\\right\\}\\right)</script></html>"
      ],
      "text/latex": [
       "\\begin{math}\n",
       "\\newcommand{\\Bold}[1]{\\mathbf{#1}}\\left(\\verb|[1,|\\phantom{\\verb!x!}\\verb|1,|\\phantom{\\verb!x!}\\verb|1,|\\phantom{\\verb!x!}\\verb|0,|\\phantom{\\verb!x!}\\verb|0,|\\phantom{\\verb!x!}\\verb|0,|\\phantom{\\verb!x!}\\verb|1,|\\phantom{\\verb!x!}\\verb|1]|, \\left\\{\\verb|mon| : \\left(\\begin{array}{rr}\n",
       "2 \\, l^{4} - 4 \\, l^{2} + 1 & 2 \\, l^{3} - 2 \\, l \\\\\n",
       "-2 \\, l^{3} + 3 \\, l & -2 \\, l^{2} + 1\n",
       "\\end{array}\\right), \\verb|sol| : \\left[-\\frac{1}{2} \\, \\sqrt{3} \\sqrt{2}, 0, \\frac{1}{2} \\, \\sqrt{3} \\sqrt{2}\\right], \\verb|trace| : \\left[-\\frac{5}{2}, 2, -\\frac{5}{2}\\right]\\right\\}\\right)\n",
       "\\end{math}"
      ],
      "text/plain": [
       "('[1, 1, 1, 0, 0, 0, 1, 1]',\n",
       " {'mon': [2*l^4 - 4*l^2 + 1       2*l^3 - 2*l]\n",
       "  [     -2*l^3 + 3*l        -2*l^2 + 1],\n",
       "  'sol': [-1/2*sqrt(3)*sqrt(2), 0, 1/2*sqrt(3)*sqrt(2)],\n",
       "  'trace': [-5/2, 2, -5/2]})"
      ]
     },
     "metadata": {},
     "output_type": "display_data"
    },
    {
     "data": {
      "text/html": [
       "<html><script type=\"math/tex; mode=display\">\\newcommand{\\Bold}[1]{\\mathbf{#1}}\\left(\\verb|[0,|\\phantom{\\verb!x!}\\verb|0,|\\phantom{\\verb!x!}\\verb|0,|\\phantom{\\verb!x!}\\verb|1,|\\phantom{\\verb!x!}\\verb|0,|\\phantom{\\verb!x!}\\verb|0,|\\phantom{\\verb!x!}\\verb|1,|\\phantom{\\verb!x!}\\verb|1]|, \\left\\{\\verb|mon| : \\left(\\begin{array}{rr}\n",
       "-l^{2} + 1 & l^{3} - 2 \\, l \\\\\n",
       "l & -l^{2} + 1\n",
       "\\end{array}\\right), \\verb|sol| : \\left[0\\right], \\verb|trace| : \\left[2\\right]\\right\\}\\right)</script></html>"
      ],
      "text/latex": [
       "\\begin{math}\n",
       "\\newcommand{\\Bold}[1]{\\mathbf{#1}}\\left(\\verb|[0,|\\phantom{\\verb!x!}\\verb|0,|\\phantom{\\verb!x!}\\verb|0,|\\phantom{\\verb!x!}\\verb|1,|\\phantom{\\verb!x!}\\verb|0,|\\phantom{\\verb!x!}\\verb|0,|\\phantom{\\verb!x!}\\verb|1,|\\phantom{\\verb!x!}\\verb|1]|, \\left\\{\\verb|mon| : \\left(\\begin{array}{rr}\n",
       "-l^{2} + 1 & l^{3} - 2 \\, l \\\\\n",
       "l & -l^{2} + 1\n",
       "\\end{array}\\right), \\verb|sol| : \\left[0\\right], \\verb|trace| : \\left[2\\right]\\right\\}\\right)\n",
       "\\end{math}"
      ],
      "text/plain": [
       "('[0, 0, 0, 1, 0, 0, 1, 1]',\n",
       " {'mon': [ -l^2 + 1 l^3 - 2*l]\n",
       "  [        l  -l^2 + 1], 'sol': [0], 'trace': [2]})"
      ]
     },
     "metadata": {},
     "output_type": "display_data"
    },
    {
     "data": {
      "text/html": [
       "<html><script type=\"math/tex; mode=display\">\\newcommand{\\Bold}[1]{\\mathbf{#1}}\\left(\\verb|[1,|\\phantom{\\verb!x!}\\verb|0,|\\phantom{\\verb!x!}\\verb|0,|\\phantom{\\verb!x!}\\verb|1,|\\phantom{\\verb!x!}\\verb|0,|\\phantom{\\verb!x!}\\verb|0,|\\phantom{\\verb!x!}\\verb|1,|\\phantom{\\verb!x!}\\verb|1]|, \\left\\{\\verb|mon| : \\left(\\begin{array}{rr}\n",
       "l^{4} - 3 \\, l^{2} + 1 & l^{3} - 2 \\, l \\\\\n",
       "-l^{3} + 2 \\, l & -l^{2} + 1\n",
       "\\end{array}\\right), \\verb|sol| : \\left[-\\sqrt{2}, 0, \\sqrt{2}\\right], \\verb|trace| : \\left[-2, 2, -2\\right]\\right\\}\\right)</script></html>"
      ],
      "text/latex": [
       "\\begin{math}\n",
       "\\newcommand{\\Bold}[1]{\\mathbf{#1}}\\left(\\verb|[1,|\\phantom{\\verb!x!}\\verb|0,|\\phantom{\\verb!x!}\\verb|0,|\\phantom{\\verb!x!}\\verb|1,|\\phantom{\\verb!x!}\\verb|0,|\\phantom{\\verb!x!}\\verb|0,|\\phantom{\\verb!x!}\\verb|1,|\\phantom{\\verb!x!}\\verb|1]|, \\left\\{\\verb|mon| : \\left(\\begin{array}{rr}\n",
       "l^{4} - 3 \\, l^{2} + 1 & l^{3} - 2 \\, l \\\\\n",
       "-l^{3} + 2 \\, l & -l^{2} + 1\n",
       "\\end{array}\\right), \\verb|sol| : \\left[-\\sqrt{2}, 0, \\sqrt{2}\\right], \\verb|trace| : \\left[-2, 2, -2\\right]\\right\\}\\right)\n",
       "\\end{math}"
      ],
      "text/plain": [
       "('[1, 0, 0, 1, 0, 0, 1, 1]',\n",
       " {'mon': [l^4 - 3*l^2 + 1       l^3 - 2*l]\n",
       "  [     -l^3 + 2*l        -l^2 + 1],\n",
       "  'sol': [-sqrt(2), 0, sqrt(2)],\n",
       "  'trace': [-2, 2, -2]})"
      ]
     },
     "metadata": {},
     "output_type": "display_data"
    },
    {
     "data": {
      "text/html": [
       "<html><script type=\"math/tex; mode=display\">\\newcommand{\\Bold}[1]{\\mathbf{#1}}\\left(\\verb|[0,|\\phantom{\\verb!x!}\\verb|1,|\\phantom{\\verb!x!}\\verb|0,|\\phantom{\\verb!x!}\\verb|1,|\\phantom{\\verb!x!}\\verb|0,|\\phantom{\\verb!x!}\\verb|0,|\\phantom{\\verb!x!}\\verb|1,|\\phantom{\\verb!x!}\\verb|1]|, \\left\\{\\verb|mon| : \\left(\\begin{array}{rr}\n",
       "-l^{2} + 1 & 2 \\, l^{3} - 3 \\, l \\\\\n",
       "l & -2 \\, l^{2} + 1\n",
       "\\end{array}\\right), \\verb|sol| : \\left[0\\right], \\verb|trace| : \\left[2\\right]\\right\\}\\right)</script></html>"
      ],
      "text/latex": [
       "\\begin{math}\n",
       "\\newcommand{\\Bold}[1]{\\mathbf{#1}}\\left(\\verb|[0,|\\phantom{\\verb!x!}\\verb|1,|\\phantom{\\verb!x!}\\verb|0,|\\phantom{\\verb!x!}\\verb|1,|\\phantom{\\verb!x!}\\verb|0,|\\phantom{\\verb!x!}\\verb|0,|\\phantom{\\verb!x!}\\verb|1,|\\phantom{\\verb!x!}\\verb|1]|, \\left\\{\\verb|mon| : \\left(\\begin{array}{rr}\n",
       "-l^{2} + 1 & 2 \\, l^{3} - 3 \\, l \\\\\n",
       "l & -2 \\, l^{2} + 1\n",
       "\\end{array}\\right), \\verb|sol| : \\left[0\\right], \\verb|trace| : \\left[2\\right]\\right\\}\\right)\n",
       "\\end{math}"
      ],
      "text/plain": [
       "('[0, 1, 0, 1, 0, 0, 1, 1]',\n",
       " {'mon': [   -l^2 + 1 2*l^3 - 3*l]\n",
       "  [          l  -2*l^2 + 1], 'sol': [0], 'trace': [2]})"
      ]
     },
     "metadata": {},
     "output_type": "display_data"
    },
    {
     "data": {
      "text/html": [
       "<html><script type=\"math/tex; mode=display\">\\newcommand{\\Bold}[1]{\\mathbf{#1}}\\left(\\verb|[1,|\\phantom{\\verb!x!}\\verb|1,|\\phantom{\\verb!x!}\\verb|0,|\\phantom{\\verb!x!}\\verb|1,|\\phantom{\\verb!x!}\\verb|0,|\\phantom{\\verb!x!}\\verb|0,|\\phantom{\\verb!x!}\\verb|1,|\\phantom{\\verb!x!}\\verb|1]|, \\left\\{\\verb|mon| : \\left(\\begin{array}{rr}\n",
       "2 \\, l^{4} - 4 \\, l^{2} + 1 & 2 \\, l^{3} - 3 \\, l \\\\\n",
       "-2 \\, l^{3} + 2 \\, l & -2 \\, l^{2} + 1\n",
       "\\end{array}\\right), \\verb|sol| : \\left[-1, 0, 1\\right], \\verb|trace| : \\left[-2, 2, -2\\right]\\right\\}\\right)</script></html>"
      ],
      "text/latex": [
       "\\begin{math}\n",
       "\\newcommand{\\Bold}[1]{\\mathbf{#1}}\\left(\\verb|[1,|\\phantom{\\verb!x!}\\verb|1,|\\phantom{\\verb!x!}\\verb|0,|\\phantom{\\verb!x!}\\verb|1,|\\phantom{\\verb!x!}\\verb|0,|\\phantom{\\verb!x!}\\verb|0,|\\phantom{\\verb!x!}\\verb|1,|\\phantom{\\verb!x!}\\verb|1]|, \\left\\{\\verb|mon| : \\left(\\begin{array}{rr}\n",
       "2 \\, l^{4} - 4 \\, l^{2} + 1 & 2 \\, l^{3} - 3 \\, l \\\\\n",
       "-2 \\, l^{3} + 2 \\, l & -2 \\, l^{2} + 1\n",
       "\\end{array}\\right), \\verb|sol| : \\left[-1, 0, 1\\right], \\verb|trace| : \\left[-2, 2, -2\\right]\\right\\}\\right)\n",
       "\\end{math}"
      ],
      "text/plain": [
       "('[1, 1, 0, 1, 0, 0, 1, 1]',\n",
       " {'mon': [2*l^4 - 4*l^2 + 1       2*l^3 - 3*l]\n",
       "  [     -2*l^3 + 2*l        -2*l^2 + 1],\n",
       "  'sol': [-1, 0, 1],\n",
       "  'trace': [-2, 2, -2]})"
      ]
     },
     "metadata": {},
     "output_type": "display_data"
    },
    {
     "data": {
      "text/html": [
       "<html><script type=\"math/tex; mode=display\">\\newcommand{\\Bold}[1]{\\mathbf{#1}}\\left(\\verb|[0,|\\phantom{\\verb!x!}\\verb|0,|\\phantom{\\verb!x!}\\verb|1,|\\phantom{\\verb!x!}\\verb|1,|\\phantom{\\verb!x!}\\verb|0,|\\phantom{\\verb!x!}\\verb|0,|\\phantom{\\verb!x!}\\verb|1,|\\phantom{\\verb!x!}\\verb|1]|, \\left\\{\\verb|mon| : \\left(\\begin{array}{rr}\n",
       "l^{4} - 3 \\, l^{2} + 1 & l^{3} - 2 \\, l \\\\\n",
       "-l^{3} + 2 \\, l & -l^{2} + 1\n",
       "\\end{array}\\right), \\verb|sol| : \\left[-\\sqrt{2}, 0, \\sqrt{2}\\right], \\verb|trace| : \\left[-2, 2, -2\\right]\\right\\}\\right)</script></html>"
      ],
      "text/latex": [
       "\\begin{math}\n",
       "\\newcommand{\\Bold}[1]{\\mathbf{#1}}\\left(\\verb|[0,|\\phantom{\\verb!x!}\\verb|0,|\\phantom{\\verb!x!}\\verb|1,|\\phantom{\\verb!x!}\\verb|1,|\\phantom{\\verb!x!}\\verb|0,|\\phantom{\\verb!x!}\\verb|0,|\\phantom{\\verb!x!}\\verb|1,|\\phantom{\\verb!x!}\\verb|1]|, \\left\\{\\verb|mon| : \\left(\\begin{array}{rr}\n",
       "l^{4} - 3 \\, l^{2} + 1 & l^{3} - 2 \\, l \\\\\n",
       "-l^{3} + 2 \\, l & -l^{2} + 1\n",
       "\\end{array}\\right), \\verb|sol| : \\left[-\\sqrt{2}, 0, \\sqrt{2}\\right], \\verb|trace| : \\left[-2, 2, -2\\right]\\right\\}\\right)\n",
       "\\end{math}"
      ],
      "text/plain": [
       "('[0, 0, 1, 1, 0, 0, 1, 1]',\n",
       " {'mon': [l^4 - 3*l^2 + 1       l^3 - 2*l]\n",
       "  [     -l^3 + 2*l        -l^2 + 1],\n",
       "  'sol': [-sqrt(2), 0, sqrt(2)],\n",
       "  'trace': [-2, 2, -2]})"
      ]
     },
     "metadata": {},
     "output_type": "display_data"
    },
    {
     "data": {
      "text/html": [
       "<html><script type=\"math/tex; mode=display\">\\newcommand{\\Bold}[1]{\\mathbf{#1}}\\left(\\verb|[1,|\\phantom{\\verb!x!}\\verb|0,|\\phantom{\\verb!x!}\\verb|1,|\\phantom{\\verb!x!}\\verb|1,|\\phantom{\\verb!x!}\\verb|0,|\\phantom{\\verb!x!}\\verb|0,|\\phantom{\\verb!x!}\\verb|1,|\\phantom{\\verb!x!}\\verb|1]|, \\left\\{\\verb|mon| : \\left(\\begin{array}{rr}\n",
       "2 \\, l^{4} - 5 \\, l^{2} + 1 & l^{3} - 2 \\, l \\\\\n",
       "-2 \\, l^{3} + 3 \\, l & -l^{2} + 1\n",
       "\\end{array}\\right), \\verb|sol| : \\left[-\\frac{1}{2} \\, \\sqrt{3} \\sqrt{2}, 0, \\frac{1}{2} \\, \\sqrt{3} \\sqrt{2}\\right], \\verb|trace| : \\left[-\\frac{5}{2}, 2, -\\frac{5}{2}\\right]\\right\\}\\right)</script></html>"
      ],
      "text/latex": [
       "\\begin{math}\n",
       "\\newcommand{\\Bold}[1]{\\mathbf{#1}}\\left(\\verb|[1,|\\phantom{\\verb!x!}\\verb|0,|\\phantom{\\verb!x!}\\verb|1,|\\phantom{\\verb!x!}\\verb|1,|\\phantom{\\verb!x!}\\verb|0,|\\phantom{\\verb!x!}\\verb|0,|\\phantom{\\verb!x!}\\verb|1,|\\phantom{\\verb!x!}\\verb|1]|, \\left\\{\\verb|mon| : \\left(\\begin{array}{rr}\n",
       "2 \\, l^{4} - 5 \\, l^{2} + 1 & l^{3} - 2 \\, l \\\\\n",
       "-2 \\, l^{3} + 3 \\, l & -l^{2} + 1\n",
       "\\end{array}\\right), \\verb|sol| : \\left[-\\frac{1}{2} \\, \\sqrt{3} \\sqrt{2}, 0, \\frac{1}{2} \\, \\sqrt{3} \\sqrt{2}\\right], \\verb|trace| : \\left[-\\frac{5}{2}, 2, -\\frac{5}{2}\\right]\\right\\}\\right)\n",
       "\\end{math}"
      ],
      "text/plain": [
       "('[1, 0, 1, 1, 0, 0, 1, 1]',\n",
       " {'mon': [2*l^4 - 5*l^2 + 1         l^3 - 2*l]\n",
       "  [     -2*l^3 + 3*l          -l^2 + 1],\n",
       "  'sol': [-1/2*sqrt(3)*sqrt(2), 0, 1/2*sqrt(3)*sqrt(2)],\n",
       "  'trace': [-5/2, 2, -5/2]})"
      ]
     },
     "metadata": {},
     "output_type": "display_data"
    },
    {
     "data": {
      "text/html": [
       "<html><script type=\"math/tex; mode=display\">\\newcommand{\\Bold}[1]{\\mathbf{#1}}\\left(\\verb|[0,|\\phantom{\\verb!x!}\\verb|1,|\\phantom{\\verb!x!}\\verb|1,|\\phantom{\\verb!x!}\\verb|1,|\\phantom{\\verb!x!}\\verb|0,|\\phantom{\\verb!x!}\\verb|0,|\\phantom{\\verb!x!}\\verb|1,|\\phantom{\\verb!x!}\\verb|1]|, \\left\\{\\verb|mon| : \\left(\\begin{array}{rr}\n",
       "l^{4} - 3 \\, l^{2} + 1 & -l^{5} + 4 \\, l^{3} - 3 \\, l \\\\\n",
       "-l^{3} + 2 \\, l & l^{4} - 3 \\, l^{2} + 1\n",
       "\\end{array}\\right), \\verb|sol| : \\left[-\\sqrt{2}, 0, \\sqrt{2}\\right], \\verb|trace| : \\left[-2, 2, -2\\right]\\right\\}\\right)</script></html>"
      ],
      "text/latex": [
       "\\begin{math}\n",
       "\\newcommand{\\Bold}[1]{\\mathbf{#1}}\\left(\\verb|[0,|\\phantom{\\verb!x!}\\verb|1,|\\phantom{\\verb!x!}\\verb|1,|\\phantom{\\verb!x!}\\verb|1,|\\phantom{\\verb!x!}\\verb|0,|\\phantom{\\verb!x!}\\verb|0,|\\phantom{\\verb!x!}\\verb|1,|\\phantom{\\verb!x!}\\verb|1]|, \\left\\{\\verb|mon| : \\left(\\begin{array}{rr}\n",
       "l^{4} - 3 \\, l^{2} + 1 & -l^{5} + 4 \\, l^{3} - 3 \\, l \\\\\n",
       "-l^{3} + 2 \\, l & l^{4} - 3 \\, l^{2} + 1\n",
       "\\end{array}\\right), \\verb|sol| : \\left[-\\sqrt{2}, 0, \\sqrt{2}\\right], \\verb|trace| : \\left[-2, 2, -2\\right]\\right\\}\\right)\n",
       "\\end{math}"
      ],
      "text/plain": [
       "('[0, 1, 1, 1, 0, 0, 1, 1]',\n",
       " {'mon': [   l^4 - 3*l^2 + 1 -l^5 + 4*l^3 - 3*l]\n",
       "  [        -l^3 + 2*l    l^4 - 3*l^2 + 1],\n",
       "  'sol': [-sqrt(2), 0, sqrt(2)],\n",
       "  'trace': [-2, 2, -2]})"
      ]
     },
     "metadata": {},
     "output_type": "display_data"
    },
    {
     "data": {
      "text/html": [
       "<html><script type=\"math/tex; mode=display\">\\newcommand{\\Bold}[1]{\\mathbf{#1}}\\left(\\verb|[1,|\\phantom{\\verb!x!}\\verb|1,|\\phantom{\\verb!x!}\\verb|1,|\\phantom{\\verb!x!}\\verb|1,|\\phantom{\\verb!x!}\\verb|0,|\\phantom{\\verb!x!}\\verb|0,|\\phantom{\\verb!x!}\\verb|1,|\\phantom{\\verb!x!}\\verb|1]|, \\left\\{\\verb|mon| : \\left(\\begin{array}{rr}\n",
       "-l^{6} + 5 \\, l^{4} - 6 \\, l^{2} + 1 & -l^{5} + 4 \\, l^{3} - 3 \\, l \\\\\n",
       "l^{5} - 4 \\, l^{3} + 3 \\, l & l^{4} - 3 \\, l^{2} + 1\n",
       "\\end{array}\\right), \\verb|sol| : \\left[-\\sqrt{3}, -1, 0, 1, \\sqrt{3}\\right], \\verb|trace| : \\left[2, -2, 2, -2, 2\\right]\\right\\}\\right)</script></html>"
      ],
      "text/latex": [
       "\\begin{math}\n",
       "\\newcommand{\\Bold}[1]{\\mathbf{#1}}\\left(\\verb|[1,|\\phantom{\\verb!x!}\\verb|1,|\\phantom{\\verb!x!}\\verb|1,|\\phantom{\\verb!x!}\\verb|1,|\\phantom{\\verb!x!}\\verb|0,|\\phantom{\\verb!x!}\\verb|0,|\\phantom{\\verb!x!}\\verb|1,|\\phantom{\\verb!x!}\\verb|1]|, \\left\\{\\verb|mon| : \\left(\\begin{array}{rr}\n",
       "-l^{6} + 5 \\, l^{4} - 6 \\, l^{2} + 1 & -l^{5} + 4 \\, l^{3} - 3 \\, l \\\\\n",
       "l^{5} - 4 \\, l^{3} + 3 \\, l & l^{4} - 3 \\, l^{2} + 1\n",
       "\\end{array}\\right), \\verb|sol| : \\left[-\\sqrt{3}, -1, 0, 1, \\sqrt{3}\\right], \\verb|trace| : \\left[2, -2, 2, -2, 2\\right]\\right\\}\\right)\n",
       "\\end{math}"
      ],
      "text/plain": [
       "('[1, 1, 1, 1, 0, 0, 1, 1]',\n",
       " {'mon': [-l^6 + 5*l^4 - 6*l^2 + 1       -l^5 + 4*l^3 - 3*l]\n",
       "  [       l^5 - 4*l^3 + 3*l          l^4 - 3*l^2 + 1],\n",
       "  'sol': [-sqrt(3), -1, 0, 1, sqrt(3)],\n",
       "  'trace': [2, -2, 2, -2, 2]})"
      ]
     },
     "metadata": {},
     "output_type": "display_data"
    },
    {
     "data": {
      "text/html": [
       "<html><script type=\"math/tex; mode=display\">\\newcommand{\\Bold}[1]{\\mathbf{#1}}\\left(\\verb|[0,|\\phantom{\\verb!x!}\\verb|0,|\\phantom{\\verb!x!}\\verb|0,|\\phantom{\\verb!x!}\\verb|0,|\\phantom{\\verb!x!}\\verb|1,|\\phantom{\\verb!x!}\\verb|0,|\\phantom{\\verb!x!}\\verb|1,|\\phantom{\\verb!x!}\\verb|1]|, \\left\\{\\verb|mon| : \\left(\\begin{array}{rr}\n",
       "-2 \\, l^{2} + 1 & -l \\\\\n",
       "2 \\, l & 1\n",
       "\\end{array}\\right), \\verb|sol| : \\left[0\\right], \\verb|trace| : \\left[2\\right]\\right\\}\\right)</script></html>"
      ],
      "text/latex": [
       "\\begin{math}\n",
       "\\newcommand{\\Bold}[1]{\\mathbf{#1}}\\left(\\verb|[0,|\\phantom{\\verb!x!}\\verb|0,|\\phantom{\\verb!x!}\\verb|0,|\\phantom{\\verb!x!}\\verb|0,|\\phantom{\\verb!x!}\\verb|1,|\\phantom{\\verb!x!}\\verb|0,|\\phantom{\\verb!x!}\\verb|1,|\\phantom{\\verb!x!}\\verb|1]|, \\left\\{\\verb|mon| : \\left(\\begin{array}{rr}\n",
       "-2 \\, l^{2} + 1 & -l \\\\\n",
       "2 \\, l & 1\n",
       "\\end{array}\\right), \\verb|sol| : \\left[0\\right], \\verb|trace| : \\left[2\\right]\\right\\}\\right)\n",
       "\\end{math}"
      ],
      "text/plain": [
       "('[0, 0, 0, 0, 1, 0, 1, 1]',\n",
       " {'mon': [-2*l^2 + 1         -l]\n",
       "  [       2*l          1], 'sol': [0], 'trace': [2]})"
      ]
     },
     "metadata": {},
     "output_type": "display_data"
    },
    {
     "data": {
      "text/html": [
       "<html><script type=\"math/tex; mode=display\">\\newcommand{\\Bold}[1]{\\mathbf{#1}}\\left(\\verb|[1,|\\phantom{\\verb!x!}\\verb|0,|\\phantom{\\verb!x!}\\verb|0,|\\phantom{\\verb!x!}\\verb|0,|\\phantom{\\verb!x!}\\verb|1,|\\phantom{\\verb!x!}\\verb|0,|\\phantom{\\verb!x!}\\verb|1,|\\phantom{\\verb!x!}\\verb|1]|, \\left\\{\\verb|mon| : \\left(\\begin{array}{rr}\n",
       "-3 \\, l^{2} + 1 & -l \\\\\n",
       "3 \\, l & 1\n",
       "\\end{array}\\right), \\verb|sol| : \\left[0\\right], \\verb|trace| : \\left[2\\right]\\right\\}\\right)</script></html>"
      ],
      "text/latex": [
       "\\begin{math}\n",
       "\\newcommand{\\Bold}[1]{\\mathbf{#1}}\\left(\\verb|[1,|\\phantom{\\verb!x!}\\verb|0,|\\phantom{\\verb!x!}\\verb|0,|\\phantom{\\verb!x!}\\verb|0,|\\phantom{\\verb!x!}\\verb|1,|\\phantom{\\verb!x!}\\verb|0,|\\phantom{\\verb!x!}\\verb|1,|\\phantom{\\verb!x!}\\verb|1]|, \\left\\{\\verb|mon| : \\left(\\begin{array}{rr}\n",
       "-3 \\, l^{2} + 1 & -l \\\\\n",
       "3 \\, l & 1\n",
       "\\end{array}\\right), \\verb|sol| : \\left[0\\right], \\verb|trace| : \\left[2\\right]\\right\\}\\right)\n",
       "\\end{math}"
      ],
      "text/plain": [
       "('[1, 0, 0, 0, 1, 0, 1, 1]',\n",
       " {'mon': [-3*l^2 + 1         -l]\n",
       "  [       3*l          1], 'sol': [0], 'trace': [2]})"
      ]
     },
     "metadata": {},
     "output_type": "display_data"
    },
    {
     "data": {
      "text/html": [
       "<html><script type=\"math/tex; mode=display\">\\newcommand{\\Bold}[1]{\\mathbf{#1}}\\left(\\verb|[0,|\\phantom{\\verb!x!}\\verb|1,|\\phantom{\\verb!x!}\\verb|0,|\\phantom{\\verb!x!}\\verb|0,|\\phantom{\\verb!x!}\\verb|1,|\\phantom{\\verb!x!}\\verb|0,|\\phantom{\\verb!x!}\\verb|1,|\\phantom{\\verb!x!}\\verb|1]|, \\left\\{\\verb|mon| : \\left(\\begin{array}{rr}\n",
       "-2 \\, l^{2} + 1 & 2 \\, l^{3} - 2 \\, l \\\\\n",
       "2 \\, l & -2 \\, l^{2} + 1\n",
       "\\end{array}\\right), \\verb|sol| : \\left[0\\right], \\verb|trace| : \\left[2\\right]\\right\\}\\right)</script></html>"
      ],
      "text/latex": [
       "\\begin{math}\n",
       "\\newcommand{\\Bold}[1]{\\mathbf{#1}}\\left(\\verb|[0,|\\phantom{\\verb!x!}\\verb|1,|\\phantom{\\verb!x!}\\verb|0,|\\phantom{\\verb!x!}\\verb|0,|\\phantom{\\verb!x!}\\verb|1,|\\phantom{\\verb!x!}\\verb|0,|\\phantom{\\verb!x!}\\verb|1,|\\phantom{\\verb!x!}\\verb|1]|, \\left\\{\\verb|mon| : \\left(\\begin{array}{rr}\n",
       "-2 \\, l^{2} + 1 & 2 \\, l^{3} - 2 \\, l \\\\\n",
       "2 \\, l & -2 \\, l^{2} + 1\n",
       "\\end{array}\\right), \\verb|sol| : \\left[0\\right], \\verb|trace| : \\left[2\\right]\\right\\}\\right)\n",
       "\\end{math}"
      ],
      "text/plain": [
       "('[0, 1, 0, 0, 1, 0, 1, 1]',\n",
       " {'mon': [ -2*l^2 + 1 2*l^3 - 2*l]\n",
       "  [        2*l  -2*l^2 + 1], 'sol': [0], 'trace': [2]})"
      ]
     },
     "metadata": {},
     "output_type": "display_data"
    },
    {
     "data": {
      "text/html": [
       "<html><script type=\"math/tex; mode=display\">\\newcommand{\\Bold}[1]{\\mathbf{#1}}\\left(\\verb|[1,|\\phantom{\\verb!x!}\\verb|1,|\\phantom{\\verb!x!}\\verb|0,|\\phantom{\\verb!x!}\\verb|0,|\\phantom{\\verb!x!}\\verb|1,|\\phantom{\\verb!x!}\\verb|0,|\\phantom{\\verb!x!}\\verb|1,|\\phantom{\\verb!x!}\\verb|1]|, \\left\\{\\verb|mon| : \\left(\\begin{array}{rr}\n",
       "2 \\, l^{4} - 4 \\, l^{2} + 1 & 2 \\, l^{3} - 2 \\, l \\\\\n",
       "-2 \\, l^{3} + 3 \\, l & -2 \\, l^{2} + 1\n",
       "\\end{array}\\right), \\verb|sol| : \\left[-\\frac{1}{2} \\, \\sqrt{3} \\sqrt{2}, 0, \\frac{1}{2} \\, \\sqrt{3} \\sqrt{2}\\right], \\verb|trace| : \\left[-\\frac{5}{2}, 2, -\\frac{5}{2}\\right]\\right\\}\\right)</script></html>"
      ],
      "text/latex": [
       "\\begin{math}\n",
       "\\newcommand{\\Bold}[1]{\\mathbf{#1}}\\left(\\verb|[1,|\\phantom{\\verb!x!}\\verb|1,|\\phantom{\\verb!x!}\\verb|0,|\\phantom{\\verb!x!}\\verb|0,|\\phantom{\\verb!x!}\\verb|1,|\\phantom{\\verb!x!}\\verb|0,|\\phantom{\\verb!x!}\\verb|1,|\\phantom{\\verb!x!}\\verb|1]|, \\left\\{\\verb|mon| : \\left(\\begin{array}{rr}\n",
       "2 \\, l^{4} - 4 \\, l^{2} + 1 & 2 \\, l^{3} - 2 \\, l \\\\\n",
       "-2 \\, l^{3} + 3 \\, l & -2 \\, l^{2} + 1\n",
       "\\end{array}\\right), \\verb|sol| : \\left[-\\frac{1}{2} \\, \\sqrt{3} \\sqrt{2}, 0, \\frac{1}{2} \\, \\sqrt{3} \\sqrt{2}\\right], \\verb|trace| : \\left[-\\frac{5}{2}, 2, -\\frac{5}{2}\\right]\\right\\}\\right)\n",
       "\\end{math}"
      ],
      "text/plain": [
       "('[1, 1, 0, 0, 1, 0, 1, 1]',\n",
       " {'mon': [2*l^4 - 4*l^2 + 1       2*l^3 - 2*l]\n",
       "  [     -2*l^3 + 3*l        -2*l^2 + 1],\n",
       "  'sol': [-1/2*sqrt(3)*sqrt(2), 0, 1/2*sqrt(3)*sqrt(2)],\n",
       "  'trace': [-5/2, 2, -5/2]})"
      ]
     },
     "metadata": {},
     "output_type": "display_data"
    },
    {
     "data": {
      "text/html": [
       "<html><script type=\"math/tex; mode=display\">\\newcommand{\\Bold}[1]{\\mathbf{#1}}\\left(\\verb|[0,|\\phantom{\\verb!x!}\\verb|0,|\\phantom{\\verb!x!}\\verb|1,|\\phantom{\\verb!x!}\\verb|0,|\\phantom{\\verb!x!}\\verb|1,|\\phantom{\\verb!x!}\\verb|0,|\\phantom{\\verb!x!}\\verb|1,|\\phantom{\\verb!x!}\\verb|1]|, \\left\\{\\verb|mon| : \\left(\\begin{array}{rr}\n",
       "-3 \\, l^{2} + 1 & -l \\\\\n",
       "3 \\, l & 1\n",
       "\\end{array}\\right), \\verb|sol| : \\left[0\\right], \\verb|trace| : \\left[2\\right]\\right\\}\\right)</script></html>"
      ],
      "text/latex": [
       "\\begin{math}\n",
       "\\newcommand{\\Bold}[1]{\\mathbf{#1}}\\left(\\verb|[0,|\\phantom{\\verb!x!}\\verb|0,|\\phantom{\\verb!x!}\\verb|1,|\\phantom{\\verb!x!}\\verb|0,|\\phantom{\\verb!x!}\\verb|1,|\\phantom{\\verb!x!}\\verb|0,|\\phantom{\\verb!x!}\\verb|1,|\\phantom{\\verb!x!}\\verb|1]|, \\left\\{\\verb|mon| : \\left(\\begin{array}{rr}\n",
       "-3 \\, l^{2} + 1 & -l \\\\\n",
       "3 \\, l & 1\n",
       "\\end{array}\\right), \\verb|sol| : \\left[0\\right], \\verb|trace| : \\left[2\\right]\\right\\}\\right)\n",
       "\\end{math}"
      ],
      "text/plain": [
       "('[0, 0, 1, 0, 1, 0, 1, 1]',\n",
       " {'mon': [-3*l^2 + 1         -l]\n",
       "  [       3*l          1], 'sol': [0], 'trace': [2]})"
      ]
     },
     "metadata": {},
     "output_type": "display_data"
    },
    {
     "data": {
      "text/html": [
       "<html><script type=\"math/tex; mode=display\">\\newcommand{\\Bold}[1]{\\mathbf{#1}}\\left(\\verb|[1,|\\phantom{\\verb!x!}\\verb|0,|\\phantom{\\verb!x!}\\verb|1,|\\phantom{\\verb!x!}\\verb|0,|\\phantom{\\verb!x!}\\verb|1,|\\phantom{\\verb!x!}\\verb|0,|\\phantom{\\verb!x!}\\verb|1,|\\phantom{\\verb!x!}\\verb|1]|, \\left\\{\\verb|mon| : \\left(\\begin{array}{rr}\n",
       "-4 \\, l^{2} + 1 & -l \\\\\n",
       "4 \\, l & 1\n",
       "\\end{array}\\right), \\verb|sol| : \\left[0\\right], \\verb|trace| : \\left[2\\right]\\right\\}\\right)</script></html>"
      ],
      "text/latex": [
       "\\begin{math}\n",
       "\\newcommand{\\Bold}[1]{\\mathbf{#1}}\\left(\\verb|[1,|\\phantom{\\verb!x!}\\verb|0,|\\phantom{\\verb!x!}\\verb|1,|\\phantom{\\verb!x!}\\verb|0,|\\phantom{\\verb!x!}\\verb|1,|\\phantom{\\verb!x!}\\verb|0,|\\phantom{\\verb!x!}\\verb|1,|\\phantom{\\verb!x!}\\verb|1]|, \\left\\{\\verb|mon| : \\left(\\begin{array}{rr}\n",
       "-4 \\, l^{2} + 1 & -l \\\\\n",
       "4 \\, l & 1\n",
       "\\end{array}\\right), \\verb|sol| : \\left[0\\right], \\verb|trace| : \\left[2\\right]\\right\\}\\right)\n",
       "\\end{math}"
      ],
      "text/plain": [
       "('[1, 0, 1, 0, 1, 0, 1, 1]',\n",
       " {'mon': [-4*l^2 + 1         -l]\n",
       "  [       4*l          1], 'sol': [0], 'trace': [2]})"
      ]
     },
     "metadata": {},
     "output_type": "display_data"
    },
    {
     "data": {
      "text/html": [
       "<html><script type=\"math/tex; mode=display\">\\newcommand{\\Bold}[1]{\\mathbf{#1}}\\left(\\verb|[0,|\\phantom{\\verb!x!}\\verb|1,|\\phantom{\\verb!x!}\\verb|1,|\\phantom{\\verb!x!}\\verb|0,|\\phantom{\\verb!x!}\\verb|1,|\\phantom{\\verb!x!}\\verb|0,|\\phantom{\\verb!x!}\\verb|1,|\\phantom{\\verb!x!}\\verb|1]|, \\left\\{\\verb|mon| : \\left(\\begin{array}{rr}\n",
       "-3 \\, l^{2} + 1 & 3 \\, l^{3} - 2 \\, l \\\\\n",
       "3 \\, l & -3 \\, l^{2} + 1\n",
       "\\end{array}\\right), \\verb|sol| : \\left[0\\right], \\verb|trace| : \\left[2\\right]\\right\\}\\right)</script></html>"
      ],
      "text/latex": [
       "\\begin{math}\n",
       "\\newcommand{\\Bold}[1]{\\mathbf{#1}}\\left(\\verb|[0,|\\phantom{\\verb!x!}\\verb|1,|\\phantom{\\verb!x!}\\verb|1,|\\phantom{\\verb!x!}\\verb|0,|\\phantom{\\verb!x!}\\verb|1,|\\phantom{\\verb!x!}\\verb|0,|\\phantom{\\verb!x!}\\verb|1,|\\phantom{\\verb!x!}\\verb|1]|, \\left\\{\\verb|mon| : \\left(\\begin{array}{rr}\n",
       "-3 \\, l^{2} + 1 & 3 \\, l^{3} - 2 \\, l \\\\\n",
       "3 \\, l & -3 \\, l^{2} + 1\n",
       "\\end{array}\\right), \\verb|sol| : \\left[0\\right], \\verb|trace| : \\left[2\\right]\\right\\}\\right)\n",
       "\\end{math}"
      ],
      "text/plain": [
       "('[0, 1, 1, 0, 1, 0, 1, 1]',\n",
       " {'mon': [ -3*l^2 + 1 3*l^3 - 2*l]\n",
       "  [        3*l  -3*l^2 + 1], 'sol': [0], 'trace': [2]})"
      ]
     },
     "metadata": {},
     "output_type": "display_data"
    },
    {
     "data": {
      "text/html": [
       "<html><script type=\"math/tex; mode=display\">\\newcommand{\\Bold}[1]{\\mathbf{#1}}\\left(\\verb|[1,|\\phantom{\\verb!x!}\\verb|1,|\\phantom{\\verb!x!}\\verb|1,|\\phantom{\\verb!x!}\\verb|0,|\\phantom{\\verb!x!}\\verb|1,|\\phantom{\\verb!x!}\\verb|0,|\\phantom{\\verb!x!}\\verb|1,|\\phantom{\\verb!x!}\\verb|1]|, \\left\\{\\verb|mon| : \\left(\\begin{array}{rr}\n",
       "3 \\, l^{4} - 5 \\, l^{2} + 1 & 3 \\, l^{3} - 2 \\, l \\\\\n",
       "-3 \\, l^{3} + 4 \\, l & -3 \\, l^{2} + 1\n",
       "\\end{array}\\right), \\verb|sol| : \\left[-\\frac{2}{3} \\, \\sqrt{3}, 0, \\frac{2}{3} \\, \\sqrt{3}\\right], \\verb|trace| : \\left[-\\frac{10}{3}, 2, -\\frac{10}{3}\\right]\\right\\}\\right)</script></html>"
      ],
      "text/latex": [
       "\\begin{math}\n",
       "\\newcommand{\\Bold}[1]{\\mathbf{#1}}\\left(\\verb|[1,|\\phantom{\\verb!x!}\\verb|1,|\\phantom{\\verb!x!}\\verb|1,|\\phantom{\\verb!x!}\\verb|0,|\\phantom{\\verb!x!}\\verb|1,|\\phantom{\\verb!x!}\\verb|0,|\\phantom{\\verb!x!}\\verb|1,|\\phantom{\\verb!x!}\\verb|1]|, \\left\\{\\verb|mon| : \\left(\\begin{array}{rr}\n",
       "3 \\, l^{4} - 5 \\, l^{2} + 1 & 3 \\, l^{3} - 2 \\, l \\\\\n",
       "-3 \\, l^{3} + 4 \\, l & -3 \\, l^{2} + 1\n",
       "\\end{array}\\right), \\verb|sol| : \\left[-\\frac{2}{3} \\, \\sqrt{3}, 0, \\frac{2}{3} \\, \\sqrt{3}\\right], \\verb|trace| : \\left[-\\frac{10}{3}, 2, -\\frac{10}{3}\\right]\\right\\}\\right)\n",
       "\\end{math}"
      ],
      "text/plain": [
       "('[1, 1, 1, 0, 1, 0, 1, 1]',\n",
       " {'mon': [3*l^4 - 5*l^2 + 1       3*l^3 - 2*l]\n",
       "  [     -3*l^3 + 4*l        -3*l^2 + 1],\n",
       "  'sol': [-2/3*sqrt(3), 0, 2/3*sqrt(3)],\n",
       "  'trace': [-10/3, 2, -10/3]})"
      ]
     },
     "metadata": {},
     "output_type": "display_data"
    },
    {
     "data": {
      "text/html": [
       "<html><script type=\"math/tex; mode=display\">\\newcommand{\\Bold}[1]{\\mathbf{#1}}\\left(\\verb|[0,|\\phantom{\\verb!x!}\\verb|0,|\\phantom{\\verb!x!}\\verb|0,|\\phantom{\\verb!x!}\\verb|1,|\\phantom{\\verb!x!}\\verb|1,|\\phantom{\\verb!x!}\\verb|0,|\\phantom{\\verb!x!}\\verb|1,|\\phantom{\\verb!x!}\\verb|1]|, \\left\\{\\verb|mon| : \\left(\\begin{array}{rr}\n",
       "-2 \\, l^{2} + 1 & 2 \\, l^{3} - 2 \\, l \\\\\n",
       "2 \\, l & -2 \\, l^{2} + 1\n",
       "\\end{array}\\right), \\verb|sol| : \\left[0\\right], \\verb|trace| : \\left[2\\right]\\right\\}\\right)</script></html>"
      ],
      "text/latex": [
       "\\begin{math}\n",
       "\\newcommand{\\Bold}[1]{\\mathbf{#1}}\\left(\\verb|[0,|\\phantom{\\verb!x!}\\verb|0,|\\phantom{\\verb!x!}\\verb|0,|\\phantom{\\verb!x!}\\verb|1,|\\phantom{\\verb!x!}\\verb|1,|\\phantom{\\verb!x!}\\verb|0,|\\phantom{\\verb!x!}\\verb|1,|\\phantom{\\verb!x!}\\verb|1]|, \\left\\{\\verb|mon| : \\left(\\begin{array}{rr}\n",
       "-2 \\, l^{2} + 1 & 2 \\, l^{3} - 2 \\, l \\\\\n",
       "2 \\, l & -2 \\, l^{2} + 1\n",
       "\\end{array}\\right), \\verb|sol| : \\left[0\\right], \\verb|trace| : \\left[2\\right]\\right\\}\\right)\n",
       "\\end{math}"
      ],
      "text/plain": [
       "('[0, 0, 0, 1, 1, 0, 1, 1]',\n",
       " {'mon': [ -2*l^2 + 1 2*l^3 - 2*l]\n",
       "  [        2*l  -2*l^2 + 1], 'sol': [0], 'trace': [2]})"
      ]
     },
     "metadata": {},
     "output_type": "display_data"
    },
    {
     "data": {
      "text/html": [
       "<html><script type=\"math/tex; mode=display\">\\newcommand{\\Bold}[1]{\\mathbf{#1}}\\left(\\verb|[1,|\\phantom{\\verb!x!}\\verb|0,|\\phantom{\\verb!x!}\\verb|0,|\\phantom{\\verb!x!}\\verb|1,|\\phantom{\\verb!x!}\\verb|1,|\\phantom{\\verb!x!}\\verb|0,|\\phantom{\\verb!x!}\\verb|1,|\\phantom{\\verb!x!}\\verb|1]|, \\left\\{\\verb|mon| : \\left(\\begin{array}{rr}\n",
       "2 \\, l^{4} - 4 \\, l^{2} + 1 & 2 \\, l^{3} - 2 \\, l \\\\\n",
       "-2 \\, l^{3} + 3 \\, l & -2 \\, l^{2} + 1\n",
       "\\end{array}\\right), \\verb|sol| : \\left[-\\frac{1}{2} \\, \\sqrt{3} \\sqrt{2}, 0, \\frac{1}{2} \\, \\sqrt{3} \\sqrt{2}\\right], \\verb|trace| : \\left[-\\frac{5}{2}, 2, -\\frac{5}{2}\\right]\\right\\}\\right)</script></html>"
      ],
      "text/latex": [
       "\\begin{math}\n",
       "\\newcommand{\\Bold}[1]{\\mathbf{#1}}\\left(\\verb|[1,|\\phantom{\\verb!x!}\\verb|0,|\\phantom{\\verb!x!}\\verb|0,|\\phantom{\\verb!x!}\\verb|1,|\\phantom{\\verb!x!}\\verb|1,|\\phantom{\\verb!x!}\\verb|0,|\\phantom{\\verb!x!}\\verb|1,|\\phantom{\\verb!x!}\\verb|1]|, \\left\\{\\verb|mon| : \\left(\\begin{array}{rr}\n",
       "2 \\, l^{4} - 4 \\, l^{2} + 1 & 2 \\, l^{3} - 2 \\, l \\\\\n",
       "-2 \\, l^{3} + 3 \\, l & -2 \\, l^{2} + 1\n",
       "\\end{array}\\right), \\verb|sol| : \\left[-\\frac{1}{2} \\, \\sqrt{3} \\sqrt{2}, 0, \\frac{1}{2} \\, \\sqrt{3} \\sqrt{2}\\right], \\verb|trace| : \\left[-\\frac{5}{2}, 2, -\\frac{5}{2}\\right]\\right\\}\\right)\n",
       "\\end{math}"
      ],
      "text/plain": [
       "('[1, 0, 0, 1, 1, 0, 1, 1]',\n",
       " {'mon': [2*l^4 - 4*l^2 + 1       2*l^3 - 2*l]\n",
       "  [     -2*l^3 + 3*l        -2*l^2 + 1],\n",
       "  'sol': [-1/2*sqrt(3)*sqrt(2), 0, 1/2*sqrt(3)*sqrt(2)],\n",
       "  'trace': [-5/2, 2, -5/2]})"
      ]
     },
     "metadata": {},
     "output_type": "display_data"
    },
    {
     "data": {
      "text/html": [
       "<html><script type=\"math/tex; mode=display\">\\newcommand{\\Bold}[1]{\\mathbf{#1}}\\left(\\verb|[0,|\\phantom{\\verb!x!}\\verb|1,|\\phantom{\\verb!x!}\\verb|0,|\\phantom{\\verb!x!}\\verb|1,|\\phantom{\\verb!x!}\\verb|1,|\\phantom{\\verb!x!}\\verb|0,|\\phantom{\\verb!x!}\\verb|1,|\\phantom{\\verb!x!}\\verb|1]|, \\left\\{\\verb|mon| : \\left(\\begin{array}{rr}\n",
       "-2 \\, l^{2} + 1 & 4 \\, l^{3} - 3 \\, l \\\\\n",
       "2 \\, l & -4 \\, l^{2} + 1\n",
       "\\end{array}\\right), \\verb|sol| : \\left[0\\right], \\verb|trace| : \\left[2\\right]\\right\\}\\right)</script></html>"
      ],
      "text/latex": [
       "\\begin{math}\n",
       "\\newcommand{\\Bold}[1]{\\mathbf{#1}}\\left(\\verb|[0,|\\phantom{\\verb!x!}\\verb|1,|\\phantom{\\verb!x!}\\verb|0,|\\phantom{\\verb!x!}\\verb|1,|\\phantom{\\verb!x!}\\verb|1,|\\phantom{\\verb!x!}\\verb|0,|\\phantom{\\verb!x!}\\verb|1,|\\phantom{\\verb!x!}\\verb|1]|, \\left\\{\\verb|mon| : \\left(\\begin{array}{rr}\n",
       "-2 \\, l^{2} + 1 & 4 \\, l^{3} - 3 \\, l \\\\\n",
       "2 \\, l & -4 \\, l^{2} + 1\n",
       "\\end{array}\\right), \\verb|sol| : \\left[0\\right], \\verb|trace| : \\left[2\\right]\\right\\}\\right)\n",
       "\\end{math}"
      ],
      "text/plain": [
       "('[0, 1, 0, 1, 1, 0, 1, 1]',\n",
       " {'mon': [ -2*l^2 + 1 4*l^3 - 3*l]\n",
       "  [        2*l  -4*l^2 + 1], 'sol': [0], 'trace': [2]})"
      ]
     },
     "metadata": {},
     "output_type": "display_data"
    },
    {
     "data": {
      "text/html": [
       "<html><script type=\"math/tex; mode=display\">\\newcommand{\\Bold}[1]{\\mathbf{#1}}\\left(\\verb|[1,|\\phantom{\\verb!x!}\\verb|1,|\\phantom{\\verb!x!}\\verb|0,|\\phantom{\\verb!x!}\\verb|1,|\\phantom{\\verb!x!}\\verb|1,|\\phantom{\\verb!x!}\\verb|0,|\\phantom{\\verb!x!}\\verb|1,|\\phantom{\\verb!x!}\\verb|1]|, \\left\\{\\verb|mon| : \\left(\\begin{array}{rr}\n",
       "4 \\, l^{4} - 5 \\, l^{2} + 1 & 4 \\, l^{3} - 3 \\, l \\\\\n",
       "-4 \\, l^{3} + 3 \\, l & -4 \\, l^{2} + 1\n",
       "\\end{array}\\right), \\verb|sol| : \\left[-\\frac{1}{2} \\, \\sqrt{3}, 0, \\frac{1}{2} \\, \\sqrt{3}\\right], \\verb|trace| : \\left[-\\frac{5}{2}, 2, -\\frac{5}{2}\\right]\\right\\}\\right)</script></html>"
      ],
      "text/latex": [
       "\\begin{math}\n",
       "\\newcommand{\\Bold}[1]{\\mathbf{#1}}\\left(\\verb|[1,|\\phantom{\\verb!x!}\\verb|1,|\\phantom{\\verb!x!}\\verb|0,|\\phantom{\\verb!x!}\\verb|1,|\\phantom{\\verb!x!}\\verb|1,|\\phantom{\\verb!x!}\\verb|0,|\\phantom{\\verb!x!}\\verb|1,|\\phantom{\\verb!x!}\\verb|1]|, \\left\\{\\verb|mon| : \\left(\\begin{array}{rr}\n",
       "4 \\, l^{4} - 5 \\, l^{2} + 1 & 4 \\, l^{3} - 3 \\, l \\\\\n",
       "-4 \\, l^{3} + 3 \\, l & -4 \\, l^{2} + 1\n",
       "\\end{array}\\right), \\verb|sol| : \\left[-\\frac{1}{2} \\, \\sqrt{3}, 0, \\frac{1}{2} \\, \\sqrt{3}\\right], \\verb|trace| : \\left[-\\frac{5}{2}, 2, -\\frac{5}{2}\\right]\\right\\}\\right)\n",
       "\\end{math}"
      ],
      "text/plain": [
       "('[1, 1, 0, 1, 1, 0, 1, 1]',\n",
       " {'mon': [4*l^4 - 5*l^2 + 1       4*l^3 - 3*l]\n",
       "  [     -4*l^3 + 3*l        -4*l^2 + 1],\n",
       "  'sol': [-1/2*sqrt(3), 0, 1/2*sqrt(3)],\n",
       "  'trace': [-5/2, 2, -5/2]})"
      ]
     },
     "metadata": {},
     "output_type": "display_data"
    },
    {
     "data": {
      "text/html": [
       "<html><script type=\"math/tex; mode=display\">\\newcommand{\\Bold}[1]{\\mathbf{#1}}\\left(\\verb|[0,|\\phantom{\\verb!x!}\\verb|0,|\\phantom{\\verb!x!}\\verb|1,|\\phantom{\\verb!x!}\\verb|1,|\\phantom{\\verb!x!}\\verb|1,|\\phantom{\\verb!x!}\\verb|0,|\\phantom{\\verb!x!}\\verb|1,|\\phantom{\\verb!x!}\\verb|1]|, \\left\\{\\verb|mon| : \\left(\\begin{array}{rr}\n",
       "2 \\, l^{4} - 4 \\, l^{2} + 1 & 2 \\, l^{3} - 2 \\, l \\\\\n",
       "-2 \\, l^{3} + 3 \\, l & -2 \\, l^{2} + 1\n",
       "\\end{array}\\right), \\verb|sol| : \\left[-\\frac{1}{2} \\, \\sqrt{3} \\sqrt{2}, 0, \\frac{1}{2} \\, \\sqrt{3} \\sqrt{2}\\right], \\verb|trace| : \\left[-\\frac{5}{2}, 2, -\\frac{5}{2}\\right]\\right\\}\\right)</script></html>"
      ],
      "text/latex": [
       "\\begin{math}\n",
       "\\newcommand{\\Bold}[1]{\\mathbf{#1}}\\left(\\verb|[0,|\\phantom{\\verb!x!}\\verb|0,|\\phantom{\\verb!x!}\\verb|1,|\\phantom{\\verb!x!}\\verb|1,|\\phantom{\\verb!x!}\\verb|1,|\\phantom{\\verb!x!}\\verb|0,|\\phantom{\\verb!x!}\\verb|1,|\\phantom{\\verb!x!}\\verb|1]|, \\left\\{\\verb|mon| : \\left(\\begin{array}{rr}\n",
       "2 \\, l^{4} - 4 \\, l^{2} + 1 & 2 \\, l^{3} - 2 \\, l \\\\\n",
       "-2 \\, l^{3} + 3 \\, l & -2 \\, l^{2} + 1\n",
       "\\end{array}\\right), \\verb|sol| : \\left[-\\frac{1}{2} \\, \\sqrt{3} \\sqrt{2}, 0, \\frac{1}{2} \\, \\sqrt{3} \\sqrt{2}\\right], \\verb|trace| : \\left[-\\frac{5}{2}, 2, -\\frac{5}{2}\\right]\\right\\}\\right)\n",
       "\\end{math}"
      ],
      "text/plain": [
       "('[0, 0, 1, 1, 1, 0, 1, 1]',\n",
       " {'mon': [2*l^4 - 4*l^2 + 1       2*l^3 - 2*l]\n",
       "  [     -2*l^3 + 3*l        -2*l^2 + 1],\n",
       "  'sol': [-1/2*sqrt(3)*sqrt(2), 0, 1/2*sqrt(3)*sqrt(2)],\n",
       "  'trace': [-5/2, 2, -5/2]})"
      ]
     },
     "metadata": {},
     "output_type": "display_data"
    },
    {
     "data": {
      "text/html": [
       "<html><script type=\"math/tex; mode=display\">\\newcommand{\\Bold}[1]{\\mathbf{#1}}\\left(\\verb|[1,|\\phantom{\\verb!x!}\\verb|0,|\\phantom{\\verb!x!}\\verb|1,|\\phantom{\\verb!x!}\\verb|1,|\\phantom{\\verb!x!}\\verb|1,|\\phantom{\\verb!x!}\\verb|0,|\\phantom{\\verb!x!}\\verb|1,|\\phantom{\\verb!x!}\\verb|1]|, \\left\\{\\verb|mon| : \\left(\\begin{array}{rr}\n",
       "4 \\, l^{4} - 6 \\, l^{2} + 1 & 2 \\, l^{3} - 2 \\, l \\\\\n",
       "-4 \\, l^{3} + 4 \\, l & -2 \\, l^{2} + 1\n",
       "\\end{array}\\right), \\verb|sol| : \\left[-1, 0, 1\\right], \\verb|trace| : \\left[-2, 2, -2\\right]\\right\\}\\right)</script></html>"
      ],
      "text/latex": [
       "\\begin{math}\n",
       "\\newcommand{\\Bold}[1]{\\mathbf{#1}}\\left(\\verb|[1,|\\phantom{\\verb!x!}\\verb|0,|\\phantom{\\verb!x!}\\verb|1,|\\phantom{\\verb!x!}\\verb|1,|\\phantom{\\verb!x!}\\verb|1,|\\phantom{\\verb!x!}\\verb|0,|\\phantom{\\verb!x!}\\verb|1,|\\phantom{\\verb!x!}\\verb|1]|, \\left\\{\\verb|mon| : \\left(\\begin{array}{rr}\n",
       "4 \\, l^{4} - 6 \\, l^{2} + 1 & 2 \\, l^{3} - 2 \\, l \\\\\n",
       "-4 \\, l^{3} + 4 \\, l & -2 \\, l^{2} + 1\n",
       "\\end{array}\\right), \\verb|sol| : \\left[-1, 0, 1\\right], \\verb|trace| : \\left[-2, 2, -2\\right]\\right\\}\\right)\n",
       "\\end{math}"
      ],
      "text/plain": [
       "('[1, 0, 1, 1, 1, 0, 1, 1]',\n",
       " {'mon': [4*l^4 - 6*l^2 + 1       2*l^3 - 2*l]\n",
       "  [     -4*l^3 + 4*l        -2*l^2 + 1],\n",
       "  'sol': [-1, 0, 1],\n",
       "  'trace': [-2, 2, -2]})"
      ]
     },
     "metadata": {},
     "output_type": "display_data"
    },
    {
     "data": {
      "text/html": [
       "<html><script type=\"math/tex; mode=display\">\\newcommand{\\Bold}[1]{\\mathbf{#1}}\\left(\\verb|[0,|\\phantom{\\verb!x!}\\verb|1,|\\phantom{\\verb!x!}\\verb|1,|\\phantom{\\verb!x!}\\verb|1,|\\phantom{\\verb!x!}\\verb|1,|\\phantom{\\verb!x!}\\verb|0,|\\phantom{\\verb!x!}\\verb|1,|\\phantom{\\verb!x!}\\verb|1]|, \\left\\{\\verb|mon| : \\left(\\begin{array}{rr}\n",
       "2 \\, l^{4} - 4 \\, l^{2} + 1 & -2 \\, l^{5} + 6 \\, l^{3} - 3 \\, l \\\\\n",
       "-2 \\, l^{3} + 3 \\, l & 2 \\, l^{4} - 5 \\, l^{2} + 1\n",
       "\\end{array}\\right), \\verb|sol| : \\left[-\\frac{1}{2} \\, \\sqrt{3} \\sqrt{2}, 0, \\frac{1}{2} \\, \\sqrt{3} \\sqrt{2}\\right], \\verb|trace| : \\left[-\\frac{5}{2}, 2, -\\frac{5}{2}\\right]\\right\\}\\right)</script></html>"
      ],
      "text/latex": [
       "\\begin{math}\n",
       "\\newcommand{\\Bold}[1]{\\mathbf{#1}}\\left(\\verb|[0,|\\phantom{\\verb!x!}\\verb|1,|\\phantom{\\verb!x!}\\verb|1,|\\phantom{\\verb!x!}\\verb|1,|\\phantom{\\verb!x!}\\verb|1,|\\phantom{\\verb!x!}\\verb|0,|\\phantom{\\verb!x!}\\verb|1,|\\phantom{\\verb!x!}\\verb|1]|, \\left\\{\\verb|mon| : \\left(\\begin{array}{rr}\n",
       "2 \\, l^{4} - 4 \\, l^{2} + 1 & -2 \\, l^{5} + 6 \\, l^{3} - 3 \\, l \\\\\n",
       "-2 \\, l^{3} + 3 \\, l & 2 \\, l^{4} - 5 \\, l^{2} + 1\n",
       "\\end{array}\\right), \\verb|sol| : \\left[-\\frac{1}{2} \\, \\sqrt{3} \\sqrt{2}, 0, \\frac{1}{2} \\, \\sqrt{3} \\sqrt{2}\\right], \\verb|trace| : \\left[-\\frac{5}{2}, 2, -\\frac{5}{2}\\right]\\right\\}\\right)\n",
       "\\end{math}"
      ],
      "text/plain": [
       "('[0, 1, 1, 1, 1, 0, 1, 1]',\n",
       " {'mon': [   2*l^4 - 4*l^2 + 1 -2*l^5 + 6*l^3 - 3*l]\n",
       "  [        -2*l^3 + 3*l    2*l^4 - 5*l^2 + 1],\n",
       "  'sol': [-1/2*sqrt(3)*sqrt(2), 0, 1/2*sqrt(3)*sqrt(2)],\n",
       "  'trace': [-5/2, 2, -5/2]})"
      ]
     },
     "metadata": {},
     "output_type": "display_data"
    },
    {
     "data": {
      "text/html": [
       "<html><script type=\"math/tex; mode=display\">\\newcommand{\\Bold}[1]{\\mathbf{#1}}\\left(\\verb|[1,|\\phantom{\\verb!x!}\\verb|1,|\\phantom{\\verb!x!}\\verb|1,|\\phantom{\\verb!x!}\\verb|1,|\\phantom{\\verb!x!}\\verb|1,|\\phantom{\\verb!x!}\\verb|0,|\\phantom{\\verb!x!}\\verb|1,|\\phantom{\\verb!x!}\\verb|1]|, \\left\\{\\verb|mon| : \\left(\\begin{array}{rr}\n",
       "-2 \\, l^{6} + 8 \\, l^{4} - 7 \\, l^{2} + 1 & -2 \\, l^{5} + 6 \\, l^{3} - 3 \\, l \\\\\n",
       "2 \\, l^{5} - 7 \\, l^{3} + 4 \\, l & 2 \\, l^{4} - 5 \\, l^{2} + 1\n",
       "\\end{array}\\right), \\verb|sol| : \\left[-\\frac{1}{2} \\, \\sqrt{\\sqrt{17} + 7}, -\\frac{1}{2} \\, \\sqrt{-\\sqrt{17} + 7}, 0, \\frac{1}{2} \\, \\sqrt{-\\sqrt{17} + 7}, \\frac{1}{2} \\, \\sqrt{\\sqrt{17} + 7}\\right], \\verb|trace| : \\left[-\\frac{1}{32} \\, {\\left(\\sqrt{17} + 7\\right)}^{3} + \\frac{5}{8} \\, {\\left(\\sqrt{17} + 7\\right)}^{2} - 3 \\, \\sqrt{17} - 19, \\frac{1}{32} \\, {\\left(\\sqrt{17} - 7\\right)}^{3} + \\frac{5}{8} \\, {\\left(\\sqrt{17} - 7\\right)}^{2} + 3 \\, \\sqrt{17} - 19, 2, \\frac{1}{32} \\, {\\left(\\sqrt{17} - 7\\right)}^{3} + \\frac{5}{8} \\, {\\left(\\sqrt{17} - 7\\right)}^{2} + 3 \\, \\sqrt{17} - 19, -\\frac{1}{32} \\, {\\left(\\sqrt{17} + 7\\right)}^{3} + \\frac{5}{8} \\, {\\left(\\sqrt{17} + 7\\right)}^{2} - 3 \\, \\sqrt{17} - 19\\right]\\right\\}\\right)</script></html>"
      ],
      "text/latex": [
       "\\begin{math}\n",
       "\\newcommand{\\Bold}[1]{\\mathbf{#1}}\\left(\\verb|[1,|\\phantom{\\verb!x!}\\verb|1,|\\phantom{\\verb!x!}\\verb|1,|\\phantom{\\verb!x!}\\verb|1,|\\phantom{\\verb!x!}\\verb|1,|\\phantom{\\verb!x!}\\verb|0,|\\phantom{\\verb!x!}\\verb|1,|\\phantom{\\verb!x!}\\verb|1]|, \\left\\{\\verb|mon| : \\left(\\begin{array}{rr}\n",
       "-2 \\, l^{6} + 8 \\, l^{4} - 7 \\, l^{2} + 1 & -2 \\, l^{5} + 6 \\, l^{3} - 3 \\, l \\\\\n",
       "2 \\, l^{5} - 7 \\, l^{3} + 4 \\, l & 2 \\, l^{4} - 5 \\, l^{2} + 1\n",
       "\\end{array}\\right), \\verb|sol| : \\left[-\\frac{1}{2} \\, \\sqrt{\\sqrt{17} + 7}, -\\frac{1}{2} \\, \\sqrt{-\\sqrt{17} + 7}, 0, \\frac{1}{2} \\, \\sqrt{-\\sqrt{17} + 7}, \\frac{1}{2} \\, \\sqrt{\\sqrt{17} + 7}\\right], \\verb|trace| : \\left[-\\frac{1}{32} \\, {\\left(\\sqrt{17} + 7\\right)}^{3} + \\frac{5}{8} \\, {\\left(\\sqrt{17} + 7\\right)}^{2} - 3 \\, \\sqrt{17} - 19, \\frac{1}{32} \\, {\\left(\\sqrt{17} - 7\\right)}^{3} + \\frac{5}{8} \\, {\\left(\\sqrt{17} - 7\\right)}^{2} + 3 \\, \\sqrt{17} - 19, 2, \\frac{1}{32} \\, {\\left(\\sqrt{17} - 7\\right)}^{3} + \\frac{5}{8} \\, {\\left(\\sqrt{17} - 7\\right)}^{2} + 3 \\, \\sqrt{17} - 19, -\\frac{1}{32} \\, {\\left(\\sqrt{17} + 7\\right)}^{3} + \\frac{5}{8} \\, {\\left(\\sqrt{17} + 7\\right)}^{2} - 3 \\, \\sqrt{17} - 19\\right]\\right\\}\\right)\n",
       "\\end{math}"
      ],
      "text/plain": [
       "('[1, 1, 1, 1, 1, 0, 1, 1]',\n",
       " {'mon': [-2*l^6 + 8*l^4 - 7*l^2 + 1       -2*l^5 + 6*l^3 - 3*l]\n",
       "  [       2*l^5 - 7*l^3 + 4*l          2*l^4 - 5*l^2 + 1],\n",
       "  'sol': [-1/2*sqrt(sqrt(17) + 7),\n",
       "   -1/2*sqrt(-sqrt(17) + 7),\n",
       "   0,\n",
       "   1/2*sqrt(-sqrt(17) + 7),\n",
       "   1/2*sqrt(sqrt(17) + 7)],\n",
       "  'trace': [-1/32*(sqrt(17) + 7)^3 + 5/8*(sqrt(17) + 7)^2 - 3*sqrt(17) - 19,\n",
       "   1/32*(sqrt(17) - 7)^3 + 5/8*(sqrt(17) - 7)^2 + 3*sqrt(17) - 19,\n",
       "   2,\n",
       "   1/32*(sqrt(17) - 7)^3 + 5/8*(sqrt(17) - 7)^2 + 3*sqrt(17) - 19,\n",
       "   -1/32*(sqrt(17) + 7)^3 + 5/8*(sqrt(17) + 7)^2 - 3*sqrt(17) - 19]})"
      ]
     },
     "metadata": {},
     "output_type": "display_data"
    },
    {
     "data": {
      "text/html": [
       "<html><script type=\"math/tex; mode=display\">\\newcommand{\\Bold}[1]{\\mathbf{#1}}\\left(\\verb|[0,|\\phantom{\\verb!x!}\\verb|0,|\\phantom{\\verb!x!}\\verb|0,|\\phantom{\\verb!x!}\\verb|0,|\\phantom{\\verb!x!}\\verb|0,|\\phantom{\\verb!x!}\\verb|1,|\\phantom{\\verb!x!}\\verb|1,|\\phantom{\\verb!x!}\\verb|1]|, \\left\\{\\verb|mon| : \\left(\\begin{array}{rr}\n",
       "-l^{2} + 1 & l^{3} - 2 \\, l \\\\\n",
       "l & -l^{2} + 1\n",
       "\\end{array}\\right), \\verb|sol| : \\left[0\\right], \\verb|trace| : \\left[2\\right]\\right\\}\\right)</script></html>"
      ],
      "text/latex": [
       "\\begin{math}\n",
       "\\newcommand{\\Bold}[1]{\\mathbf{#1}}\\left(\\verb|[0,|\\phantom{\\verb!x!}\\verb|0,|\\phantom{\\verb!x!}\\verb|0,|\\phantom{\\verb!x!}\\verb|0,|\\phantom{\\verb!x!}\\verb|0,|\\phantom{\\verb!x!}\\verb|1,|\\phantom{\\verb!x!}\\verb|1,|\\phantom{\\verb!x!}\\verb|1]|, \\left\\{\\verb|mon| : \\left(\\begin{array}{rr}\n",
       "-l^{2} + 1 & l^{3} - 2 \\, l \\\\\n",
       "l & -l^{2} + 1\n",
       "\\end{array}\\right), \\verb|sol| : \\left[0\\right], \\verb|trace| : \\left[2\\right]\\right\\}\\right)\n",
       "\\end{math}"
      ],
      "text/plain": [
       "('[0, 0, 0, 0, 0, 1, 1, 1]',\n",
       " {'mon': [ -l^2 + 1 l^3 - 2*l]\n",
       "  [        l  -l^2 + 1], 'sol': [0], 'trace': [2]})"
      ]
     },
     "metadata": {},
     "output_type": "display_data"
    },
    {
     "data": {
      "text/html": [
       "<html><script type=\"math/tex; mode=display\">\\newcommand{\\Bold}[1]{\\mathbf{#1}}\\left(\\verb|[1,|\\phantom{\\verb!x!}\\verb|0,|\\phantom{\\verb!x!}\\verb|0,|\\phantom{\\verb!x!}\\verb|0,|\\phantom{\\verb!x!}\\verb|0,|\\phantom{\\verb!x!}\\verb|1,|\\phantom{\\verb!x!}\\verb|1,|\\phantom{\\verb!x!}\\verb|1]|, \\left\\{\\verb|mon| : \\left(\\begin{array}{rr}\n",
       "l^{4} - 3 \\, l^{2} + 1 & l^{3} - 2 \\, l \\\\\n",
       "-l^{3} + 2 \\, l & -l^{2} + 1\n",
       "\\end{array}\\right), \\verb|sol| : \\left[-\\sqrt{2}, 0, \\sqrt{2}\\right], \\verb|trace| : \\left[-2, 2, -2\\right]\\right\\}\\right)</script></html>"
      ],
      "text/latex": [
       "\\begin{math}\n",
       "\\newcommand{\\Bold}[1]{\\mathbf{#1}}\\left(\\verb|[1,|\\phantom{\\verb!x!}\\verb|0,|\\phantom{\\verb!x!}\\verb|0,|\\phantom{\\verb!x!}\\verb|0,|\\phantom{\\verb!x!}\\verb|0,|\\phantom{\\verb!x!}\\verb|1,|\\phantom{\\verb!x!}\\verb|1,|\\phantom{\\verb!x!}\\verb|1]|, \\left\\{\\verb|mon| : \\left(\\begin{array}{rr}\n",
       "l^{4} - 3 \\, l^{2} + 1 & l^{3} - 2 \\, l \\\\\n",
       "-l^{3} + 2 \\, l & -l^{2} + 1\n",
       "\\end{array}\\right), \\verb|sol| : \\left[-\\sqrt{2}, 0, \\sqrt{2}\\right], \\verb|trace| : \\left[-2, 2, -2\\right]\\right\\}\\right)\n",
       "\\end{math}"
      ],
      "text/plain": [
       "('[1, 0, 0, 0, 0, 1, 1, 1]',\n",
       " {'mon': [l^4 - 3*l^2 + 1       l^3 - 2*l]\n",
       "  [     -l^3 + 2*l        -l^2 + 1],\n",
       "  'sol': [-sqrt(2), 0, sqrt(2)],\n",
       "  'trace': [-2, 2, -2]})"
      ]
     },
     "metadata": {},
     "output_type": "display_data"
    },
    {
     "data": {
      "text/html": [
       "<html><script type=\"math/tex; mode=display\">\\newcommand{\\Bold}[1]{\\mathbf{#1}}\\left(\\verb|[0,|\\phantom{\\verb!x!}\\verb|1,|\\phantom{\\verb!x!}\\verb|0,|\\phantom{\\verb!x!}\\verb|0,|\\phantom{\\verb!x!}\\verb|0,|\\phantom{\\verb!x!}\\verb|1,|\\phantom{\\verb!x!}\\verb|1,|\\phantom{\\verb!x!}\\verb|1]|, \\left\\{\\verb|mon| : \\left(\\begin{array}{rr}\n",
       "-l^{2} + 1 & 2 \\, l^{3} - 3 \\, l \\\\\n",
       "l & -2 \\, l^{2} + 1\n",
       "\\end{array}\\right), \\verb|sol| : \\left[0\\right], \\verb|trace| : \\left[2\\right]\\right\\}\\right)</script></html>"
      ],
      "text/latex": [
       "\\begin{math}\n",
       "\\newcommand{\\Bold}[1]{\\mathbf{#1}}\\left(\\verb|[0,|\\phantom{\\verb!x!}\\verb|1,|\\phantom{\\verb!x!}\\verb|0,|\\phantom{\\verb!x!}\\verb|0,|\\phantom{\\verb!x!}\\verb|0,|\\phantom{\\verb!x!}\\verb|1,|\\phantom{\\verb!x!}\\verb|1,|\\phantom{\\verb!x!}\\verb|1]|, \\left\\{\\verb|mon| : \\left(\\begin{array}{rr}\n",
       "-l^{2} + 1 & 2 \\, l^{3} - 3 \\, l \\\\\n",
       "l & -2 \\, l^{2} + 1\n",
       "\\end{array}\\right), \\verb|sol| : \\left[0\\right], \\verb|trace| : \\left[2\\right]\\right\\}\\right)\n",
       "\\end{math}"
      ],
      "text/plain": [
       "('[0, 1, 0, 0, 0, 1, 1, 1]',\n",
       " {'mon': [   -l^2 + 1 2*l^3 - 3*l]\n",
       "  [          l  -2*l^2 + 1], 'sol': [0], 'trace': [2]})"
      ]
     },
     "metadata": {},
     "output_type": "display_data"
    },
    {
     "data": {
      "text/html": [
       "<html><script type=\"math/tex; mode=display\">\\newcommand{\\Bold}[1]{\\mathbf{#1}}\\left(\\verb|[1,|\\phantom{\\verb!x!}\\verb|1,|\\phantom{\\verb!x!}\\verb|0,|\\phantom{\\verb!x!}\\verb|0,|\\phantom{\\verb!x!}\\verb|0,|\\phantom{\\verb!x!}\\verb|1,|\\phantom{\\verb!x!}\\verb|1,|\\phantom{\\verb!x!}\\verb|1]|, \\left\\{\\verb|mon| : \\left(\\begin{array}{rr}\n",
       "2 \\, l^{4} - 4 \\, l^{2} + 1 & 2 \\, l^{3} - 3 \\, l \\\\\n",
       "-2 \\, l^{3} + 2 \\, l & -2 \\, l^{2} + 1\n",
       "\\end{array}\\right), \\verb|sol| : \\left[-1, 0, 1\\right], \\verb|trace| : \\left[-2, 2, -2\\right]\\right\\}\\right)</script></html>"
      ],
      "text/latex": [
       "\\begin{math}\n",
       "\\newcommand{\\Bold}[1]{\\mathbf{#1}}\\left(\\verb|[1,|\\phantom{\\verb!x!}\\verb|1,|\\phantom{\\verb!x!}\\verb|0,|\\phantom{\\verb!x!}\\verb|0,|\\phantom{\\verb!x!}\\verb|0,|\\phantom{\\verb!x!}\\verb|1,|\\phantom{\\verb!x!}\\verb|1,|\\phantom{\\verb!x!}\\verb|1]|, \\left\\{\\verb|mon| : \\left(\\begin{array}{rr}\n",
       "2 \\, l^{4} - 4 \\, l^{2} + 1 & 2 \\, l^{3} - 3 \\, l \\\\\n",
       "-2 \\, l^{3} + 2 \\, l & -2 \\, l^{2} + 1\n",
       "\\end{array}\\right), \\verb|sol| : \\left[-1, 0, 1\\right], \\verb|trace| : \\left[-2, 2, -2\\right]\\right\\}\\right)\n",
       "\\end{math}"
      ],
      "text/plain": [
       "('[1, 1, 0, 0, 0, 1, 1, 1]',\n",
       " {'mon': [2*l^4 - 4*l^2 + 1       2*l^3 - 3*l]\n",
       "  [     -2*l^3 + 2*l        -2*l^2 + 1],\n",
       "  'sol': [-1, 0, 1],\n",
       "  'trace': [-2, 2, -2]})"
      ]
     },
     "metadata": {},
     "output_type": "display_data"
    },
    {
     "data": {
      "text/html": [
       "<html><script type=\"math/tex; mode=display\">\\newcommand{\\Bold}[1]{\\mathbf{#1}}\\left(\\verb|[0,|\\phantom{\\verb!x!}\\verb|0,|\\phantom{\\verb!x!}\\verb|1,|\\phantom{\\verb!x!}\\verb|0,|\\phantom{\\verb!x!}\\verb|0,|\\phantom{\\verb!x!}\\verb|1,|\\phantom{\\verb!x!}\\verb|1,|\\phantom{\\verb!x!}\\verb|1]|, \\left\\{\\verb|mon| : \\left(\\begin{array}{rr}\n",
       "l^{4} - 3 \\, l^{2} + 1 & l^{3} - 2 \\, l \\\\\n",
       "-l^{3} + 2 \\, l & -l^{2} + 1\n",
       "\\end{array}\\right), \\verb|sol| : \\left[-\\sqrt{2}, 0, \\sqrt{2}\\right], \\verb|trace| : \\left[-2, 2, -2\\right]\\right\\}\\right)</script></html>"
      ],
      "text/latex": [
       "\\begin{math}\n",
       "\\newcommand{\\Bold}[1]{\\mathbf{#1}}\\left(\\verb|[0,|\\phantom{\\verb!x!}\\verb|0,|\\phantom{\\verb!x!}\\verb|1,|\\phantom{\\verb!x!}\\verb|0,|\\phantom{\\verb!x!}\\verb|0,|\\phantom{\\verb!x!}\\verb|1,|\\phantom{\\verb!x!}\\verb|1,|\\phantom{\\verb!x!}\\verb|1]|, \\left\\{\\verb|mon| : \\left(\\begin{array}{rr}\n",
       "l^{4} - 3 \\, l^{2} + 1 & l^{3} - 2 \\, l \\\\\n",
       "-l^{3} + 2 \\, l & -l^{2} + 1\n",
       "\\end{array}\\right), \\verb|sol| : \\left[-\\sqrt{2}, 0, \\sqrt{2}\\right], \\verb|trace| : \\left[-2, 2, -2\\right]\\right\\}\\right)\n",
       "\\end{math}"
      ],
      "text/plain": [
       "('[0, 0, 1, 0, 0, 1, 1, 1]',\n",
       " {'mon': [l^4 - 3*l^2 + 1       l^3 - 2*l]\n",
       "  [     -l^3 + 2*l        -l^2 + 1],\n",
       "  'sol': [-sqrt(2), 0, sqrt(2)],\n",
       "  'trace': [-2, 2, -2]})"
      ]
     },
     "metadata": {},
     "output_type": "display_data"
    },
    {
     "data": {
      "text/html": [
       "<html><script type=\"math/tex; mode=display\">\\newcommand{\\Bold}[1]{\\mathbf{#1}}\\left(\\verb|[1,|\\phantom{\\verb!x!}\\verb|0,|\\phantom{\\verb!x!}\\verb|1,|\\phantom{\\verb!x!}\\verb|0,|\\phantom{\\verb!x!}\\verb|0,|\\phantom{\\verb!x!}\\verb|1,|\\phantom{\\verb!x!}\\verb|1,|\\phantom{\\verb!x!}\\verb|1]|, \\left\\{\\verb|mon| : \\left(\\begin{array}{rr}\n",
       "2 \\, l^{4} - 5 \\, l^{2} + 1 & l^{3} - 2 \\, l \\\\\n",
       "-2 \\, l^{3} + 3 \\, l & -l^{2} + 1\n",
       "\\end{array}\\right), \\verb|sol| : \\left[-\\frac{1}{2} \\, \\sqrt{3} \\sqrt{2}, 0, \\frac{1}{2} \\, \\sqrt{3} \\sqrt{2}\\right], \\verb|trace| : \\left[-\\frac{5}{2}, 2, -\\frac{5}{2}\\right]\\right\\}\\right)</script></html>"
      ],
      "text/latex": [
       "\\begin{math}\n",
       "\\newcommand{\\Bold}[1]{\\mathbf{#1}}\\left(\\verb|[1,|\\phantom{\\verb!x!}\\verb|0,|\\phantom{\\verb!x!}\\verb|1,|\\phantom{\\verb!x!}\\verb|0,|\\phantom{\\verb!x!}\\verb|0,|\\phantom{\\verb!x!}\\verb|1,|\\phantom{\\verb!x!}\\verb|1,|\\phantom{\\verb!x!}\\verb|1]|, \\left\\{\\verb|mon| : \\left(\\begin{array}{rr}\n",
       "2 \\, l^{4} - 5 \\, l^{2} + 1 & l^{3} - 2 \\, l \\\\\n",
       "-2 \\, l^{3} + 3 \\, l & -l^{2} + 1\n",
       "\\end{array}\\right), \\verb|sol| : \\left[-\\frac{1}{2} \\, \\sqrt{3} \\sqrt{2}, 0, \\frac{1}{2} \\, \\sqrt{3} \\sqrt{2}\\right], \\verb|trace| : \\left[-\\frac{5}{2}, 2, -\\frac{5}{2}\\right]\\right\\}\\right)\n",
       "\\end{math}"
      ],
      "text/plain": [
       "('[1, 0, 1, 0, 0, 1, 1, 1]',\n",
       " {'mon': [2*l^4 - 5*l^2 + 1         l^3 - 2*l]\n",
       "  [     -2*l^3 + 3*l          -l^2 + 1],\n",
       "  'sol': [-1/2*sqrt(3)*sqrt(2), 0, 1/2*sqrt(3)*sqrt(2)],\n",
       "  'trace': [-5/2, 2, -5/2]})"
      ]
     },
     "metadata": {},
     "output_type": "display_data"
    },
    {
     "data": {
      "text/html": [
       "<html><script type=\"math/tex; mode=display\">\\newcommand{\\Bold}[1]{\\mathbf{#1}}\\left(\\verb|[0,|\\phantom{\\verb!x!}\\verb|1,|\\phantom{\\verb!x!}\\verb|1,|\\phantom{\\verb!x!}\\verb|0,|\\phantom{\\verb!x!}\\verb|0,|\\phantom{\\verb!x!}\\verb|1,|\\phantom{\\verb!x!}\\verb|1,|\\phantom{\\verb!x!}\\verb|1]|, \\left\\{\\verb|mon| : \\left(\\begin{array}{rr}\n",
       "l^{4} - 3 \\, l^{2} + 1 & -l^{5} + 4 \\, l^{3} - 3 \\, l \\\\\n",
       "-l^{3} + 2 \\, l & l^{4} - 3 \\, l^{2} + 1\n",
       "\\end{array}\\right), \\verb|sol| : \\left[-\\sqrt{2}, 0, \\sqrt{2}\\right], \\verb|trace| : \\left[-2, 2, -2\\right]\\right\\}\\right)</script></html>"
      ],
      "text/latex": [
       "\\begin{math}\n",
       "\\newcommand{\\Bold}[1]{\\mathbf{#1}}\\left(\\verb|[0,|\\phantom{\\verb!x!}\\verb|1,|\\phantom{\\verb!x!}\\verb|1,|\\phantom{\\verb!x!}\\verb|0,|\\phantom{\\verb!x!}\\verb|0,|\\phantom{\\verb!x!}\\verb|1,|\\phantom{\\verb!x!}\\verb|1,|\\phantom{\\verb!x!}\\verb|1]|, \\left\\{\\verb|mon| : \\left(\\begin{array}{rr}\n",
       "l^{4} - 3 \\, l^{2} + 1 & -l^{5} + 4 \\, l^{3} - 3 \\, l \\\\\n",
       "-l^{3} + 2 \\, l & l^{4} - 3 \\, l^{2} + 1\n",
       "\\end{array}\\right), \\verb|sol| : \\left[-\\sqrt{2}, 0, \\sqrt{2}\\right], \\verb|trace| : \\left[-2, 2, -2\\right]\\right\\}\\right)\n",
       "\\end{math}"
      ],
      "text/plain": [
       "('[0, 1, 1, 0, 0, 1, 1, 1]',\n",
       " {'mon': [   l^4 - 3*l^2 + 1 -l^5 + 4*l^3 - 3*l]\n",
       "  [        -l^3 + 2*l    l^4 - 3*l^2 + 1],\n",
       "  'sol': [-sqrt(2), 0, sqrt(2)],\n",
       "  'trace': [-2, 2, -2]})"
      ]
     },
     "metadata": {},
     "output_type": "display_data"
    },
    {
     "data": {
      "text/html": [
       "<html><script type=\"math/tex; mode=display\">\\newcommand{\\Bold}[1]{\\mathbf{#1}}\\left(\\verb|[1,|\\phantom{\\verb!x!}\\verb|1,|\\phantom{\\verb!x!}\\verb|1,|\\phantom{\\verb!x!}\\verb|0,|\\phantom{\\verb!x!}\\verb|0,|\\phantom{\\verb!x!}\\verb|1,|\\phantom{\\verb!x!}\\verb|1,|\\phantom{\\verb!x!}\\verb|1]|, \\left\\{\\verb|mon| : \\left(\\begin{array}{rr}\n",
       "-l^{6} + 5 \\, l^{4} - 6 \\, l^{2} + 1 & -l^{5} + 4 \\, l^{3} - 3 \\, l \\\\\n",
       "l^{5} - 4 \\, l^{3} + 3 \\, l & l^{4} - 3 \\, l^{2} + 1\n",
       "\\end{array}\\right), \\verb|sol| : \\left[-\\sqrt{3}, -1, 0, 1, \\sqrt{3}\\right], \\verb|trace| : \\left[2, -2, 2, -2, 2\\right]\\right\\}\\right)</script></html>"
      ],
      "text/latex": [
       "\\begin{math}\n",
       "\\newcommand{\\Bold}[1]{\\mathbf{#1}}\\left(\\verb|[1,|\\phantom{\\verb!x!}\\verb|1,|\\phantom{\\verb!x!}\\verb|1,|\\phantom{\\verb!x!}\\verb|0,|\\phantom{\\verb!x!}\\verb|0,|\\phantom{\\verb!x!}\\verb|1,|\\phantom{\\verb!x!}\\verb|1,|\\phantom{\\verb!x!}\\verb|1]|, \\left\\{\\verb|mon| : \\left(\\begin{array}{rr}\n",
       "-l^{6} + 5 \\, l^{4} - 6 \\, l^{2} + 1 & -l^{5} + 4 \\, l^{3} - 3 \\, l \\\\\n",
       "l^{5} - 4 \\, l^{3} + 3 \\, l & l^{4} - 3 \\, l^{2} + 1\n",
       "\\end{array}\\right), \\verb|sol| : \\left[-\\sqrt{3}, -1, 0, 1, \\sqrt{3}\\right], \\verb|trace| : \\left[2, -2, 2, -2, 2\\right]\\right\\}\\right)\n",
       "\\end{math}"
      ],
      "text/plain": [
       "('[1, 1, 1, 0, 0, 1, 1, 1]',\n",
       " {'mon': [-l^6 + 5*l^4 - 6*l^2 + 1       -l^5 + 4*l^3 - 3*l]\n",
       "  [       l^5 - 4*l^3 + 3*l          l^4 - 3*l^2 + 1],\n",
       "  'sol': [-sqrt(3), -1, 0, 1, sqrt(3)],\n",
       "  'trace': [2, -2, 2, -2, 2]})"
      ]
     },
     "metadata": {},
     "output_type": "display_data"
    },
    {
     "data": {
      "text/html": [
       "<html><script type=\"math/tex; mode=display\">\\newcommand{\\Bold}[1]{\\mathbf{#1}}\\left(\\verb|[0,|\\phantom{\\verb!x!}\\verb|0,|\\phantom{\\verb!x!}\\verb|0,|\\phantom{\\verb!x!}\\verb|1,|\\phantom{\\verb!x!}\\verb|0,|\\phantom{\\verb!x!}\\verb|1,|\\phantom{\\verb!x!}\\verb|1,|\\phantom{\\verb!x!}\\verb|1]|, \\left\\{\\verb|mon| : \\left(\\begin{array}{rr}\n",
       "-l^{2} + 1 & 2 \\, l^{3} - 3 \\, l \\\\\n",
       "l & -2 \\, l^{2} + 1\n",
       "\\end{array}\\right), \\verb|sol| : \\left[0\\right], \\verb|trace| : \\left[2\\right]\\right\\}\\right)</script></html>"
      ],
      "text/latex": [
       "\\begin{math}\n",
       "\\newcommand{\\Bold}[1]{\\mathbf{#1}}\\left(\\verb|[0,|\\phantom{\\verb!x!}\\verb|0,|\\phantom{\\verb!x!}\\verb|0,|\\phantom{\\verb!x!}\\verb|1,|\\phantom{\\verb!x!}\\verb|0,|\\phantom{\\verb!x!}\\verb|1,|\\phantom{\\verb!x!}\\verb|1,|\\phantom{\\verb!x!}\\verb|1]|, \\left\\{\\verb|mon| : \\left(\\begin{array}{rr}\n",
       "-l^{2} + 1 & 2 \\, l^{3} - 3 \\, l \\\\\n",
       "l & -2 \\, l^{2} + 1\n",
       "\\end{array}\\right), \\verb|sol| : \\left[0\\right], \\verb|trace| : \\left[2\\right]\\right\\}\\right)\n",
       "\\end{math}"
      ],
      "text/plain": [
       "('[0, 0, 0, 1, 0, 1, 1, 1]',\n",
       " {'mon': [   -l^2 + 1 2*l^3 - 3*l]\n",
       "  [          l  -2*l^2 + 1], 'sol': [0], 'trace': [2]})"
      ]
     },
     "metadata": {},
     "output_type": "display_data"
    },
    {
     "data": {
      "text/html": [
       "<html><script type=\"math/tex; mode=display\">\\newcommand{\\Bold}[1]{\\mathbf{#1}}\\left(\\verb|[1,|\\phantom{\\verb!x!}\\verb|0,|\\phantom{\\verb!x!}\\verb|0,|\\phantom{\\verb!x!}\\verb|1,|\\phantom{\\verb!x!}\\verb|0,|\\phantom{\\verb!x!}\\verb|1,|\\phantom{\\verb!x!}\\verb|1,|\\phantom{\\verb!x!}\\verb|1]|, \\left\\{\\verb|mon| : \\left(\\begin{array}{rr}\n",
       "2 \\, l^{4} - 4 \\, l^{2} + 1 & 2 \\, l^{3} - 3 \\, l \\\\\n",
       "-2 \\, l^{3} + 2 \\, l & -2 \\, l^{2} + 1\n",
       "\\end{array}\\right), \\verb|sol| : \\left[-1, 0, 1\\right], \\verb|trace| : \\left[-2, 2, -2\\right]\\right\\}\\right)</script></html>"
      ],
      "text/latex": [
       "\\begin{math}\n",
       "\\newcommand{\\Bold}[1]{\\mathbf{#1}}\\left(\\verb|[1,|\\phantom{\\verb!x!}\\verb|0,|\\phantom{\\verb!x!}\\verb|0,|\\phantom{\\verb!x!}\\verb|1,|\\phantom{\\verb!x!}\\verb|0,|\\phantom{\\verb!x!}\\verb|1,|\\phantom{\\verb!x!}\\verb|1,|\\phantom{\\verb!x!}\\verb|1]|, \\left\\{\\verb|mon| : \\left(\\begin{array}{rr}\n",
       "2 \\, l^{4} - 4 \\, l^{2} + 1 & 2 \\, l^{3} - 3 \\, l \\\\\n",
       "-2 \\, l^{3} + 2 \\, l & -2 \\, l^{2} + 1\n",
       "\\end{array}\\right), \\verb|sol| : \\left[-1, 0, 1\\right], \\verb|trace| : \\left[-2, 2, -2\\right]\\right\\}\\right)\n",
       "\\end{math}"
      ],
      "text/plain": [
       "('[1, 0, 0, 1, 0, 1, 1, 1]',\n",
       " {'mon': [2*l^4 - 4*l^2 + 1       2*l^3 - 3*l]\n",
       "  [     -2*l^3 + 2*l        -2*l^2 + 1],\n",
       "  'sol': [-1, 0, 1],\n",
       "  'trace': [-2, 2, -2]})"
      ]
     },
     "metadata": {},
     "output_type": "display_data"
    },
    {
     "data": {
      "text/html": [
       "<html><script type=\"math/tex; mode=display\">\\newcommand{\\Bold}[1]{\\mathbf{#1}}\\left(\\verb|[0,|\\phantom{\\verb!x!}\\verb|1,|\\phantom{\\verb!x!}\\verb|0,|\\phantom{\\verb!x!}\\verb|1,|\\phantom{\\verb!x!}\\verb|0,|\\phantom{\\verb!x!}\\verb|1,|\\phantom{\\verb!x!}\\verb|1,|\\phantom{\\verb!x!}\\verb|1]|, \\left\\{\\verb|mon| : \\left(\\begin{array}{rr}\n",
       "-l^{2} + 1 & 3 \\, l^{3} - 4 \\, l \\\\\n",
       "l & -3 \\, l^{2} + 1\n",
       "\\end{array}\\right), \\verb|sol| : \\left[0\\right], \\verb|trace| : \\left[2\\right]\\right\\}\\right)</script></html>"
      ],
      "text/latex": [
       "\\begin{math}\n",
       "\\newcommand{\\Bold}[1]{\\mathbf{#1}}\\left(\\verb|[0,|\\phantom{\\verb!x!}\\verb|1,|\\phantom{\\verb!x!}\\verb|0,|\\phantom{\\verb!x!}\\verb|1,|\\phantom{\\verb!x!}\\verb|0,|\\phantom{\\verb!x!}\\verb|1,|\\phantom{\\verb!x!}\\verb|1,|\\phantom{\\verb!x!}\\verb|1]|, \\left\\{\\verb|mon| : \\left(\\begin{array}{rr}\n",
       "-l^{2} + 1 & 3 \\, l^{3} - 4 \\, l \\\\\n",
       "l & -3 \\, l^{2} + 1\n",
       "\\end{array}\\right), \\verb|sol| : \\left[0\\right], \\verb|trace| : \\left[2\\right]\\right\\}\\right)\n",
       "\\end{math}"
      ],
      "text/plain": [
       "('[0, 1, 0, 1, 0, 1, 1, 1]',\n",
       " {'mon': [   -l^2 + 1 3*l^3 - 4*l]\n",
       "  [          l  -3*l^2 + 1], 'sol': [0], 'trace': [2]})"
      ]
     },
     "metadata": {},
     "output_type": "display_data"
    },
    {
     "data": {
      "text/html": [
       "<html><script type=\"math/tex; mode=display\">\\newcommand{\\Bold}[1]{\\mathbf{#1}}\\left(\\verb|[1,|\\phantom{\\verb!x!}\\verb|1,|\\phantom{\\verb!x!}\\verb|0,|\\phantom{\\verb!x!}\\verb|1,|\\phantom{\\verb!x!}\\verb|0,|\\phantom{\\verb!x!}\\verb|1,|\\phantom{\\verb!x!}\\verb|1,|\\phantom{\\verb!x!}\\verb|1]|, \\left\\{\\verb|mon| : \\left(\\begin{array}{rr}\n",
       "3 \\, l^{4} - 5 \\, l^{2} + 1 & 3 \\, l^{3} - 4 \\, l \\\\\n",
       "-3 \\, l^{3} + 2 \\, l & -3 \\, l^{2} + 1\n",
       "\\end{array}\\right), \\verb|sol| : \\left[-\\frac{1}{3} \\, \\sqrt{3} \\sqrt{2}, 0, \\frac{1}{3} \\, \\sqrt{3} \\sqrt{2}\\right], \\verb|trace| : \\left[-2, 2, -2\\right]\\right\\}\\right)</script></html>"
      ],
      "text/latex": [
       "\\begin{math}\n",
       "\\newcommand{\\Bold}[1]{\\mathbf{#1}}\\left(\\verb|[1,|\\phantom{\\verb!x!}\\verb|1,|\\phantom{\\verb!x!}\\verb|0,|\\phantom{\\verb!x!}\\verb|1,|\\phantom{\\verb!x!}\\verb|0,|\\phantom{\\verb!x!}\\verb|1,|\\phantom{\\verb!x!}\\verb|1,|\\phantom{\\verb!x!}\\verb|1]|, \\left\\{\\verb|mon| : \\left(\\begin{array}{rr}\n",
       "3 \\, l^{4} - 5 \\, l^{2} + 1 & 3 \\, l^{3} - 4 \\, l \\\\\n",
       "-3 \\, l^{3} + 2 \\, l & -3 \\, l^{2} + 1\n",
       "\\end{array}\\right), \\verb|sol| : \\left[-\\frac{1}{3} \\, \\sqrt{3} \\sqrt{2}, 0, \\frac{1}{3} \\, \\sqrt{3} \\sqrt{2}\\right], \\verb|trace| : \\left[-2, 2, -2\\right]\\right\\}\\right)\n",
       "\\end{math}"
      ],
      "text/plain": [
       "('[1, 1, 0, 1, 0, 1, 1, 1]',\n",
       " {'mon': [3*l^4 - 5*l^2 + 1       3*l^3 - 4*l]\n",
       "  [     -3*l^3 + 2*l        -3*l^2 + 1],\n",
       "  'sol': [-1/3*sqrt(3)*sqrt(2), 0, 1/3*sqrt(3)*sqrt(2)],\n",
       "  'trace': [-2, 2, -2]})"
      ]
     },
     "metadata": {},
     "output_type": "display_data"
    },
    {
     "data": {
      "text/html": [
       "<html><script type=\"math/tex; mode=display\">\\newcommand{\\Bold}[1]{\\mathbf{#1}}\\left(\\verb|[0,|\\phantom{\\verb!x!}\\verb|0,|\\phantom{\\verb!x!}\\verb|1,|\\phantom{\\verb!x!}\\verb|1,|\\phantom{\\verb!x!}\\verb|0,|\\phantom{\\verb!x!}\\verb|1,|\\phantom{\\verb!x!}\\verb|1,|\\phantom{\\verb!x!}\\verb|1]|, \\left\\{\\verb|mon| : \\left(\\begin{array}{rr}\n",
       "2 \\, l^{4} - 4 \\, l^{2} + 1 & 2 \\, l^{3} - 3 \\, l \\\\\n",
       "-2 \\, l^{3} + 2 \\, l & -2 \\, l^{2} + 1\n",
       "\\end{array}\\right), \\verb|sol| : \\left[-1, 0, 1\\right], \\verb|trace| : \\left[-2, 2, -2\\right]\\right\\}\\right)</script></html>"
      ],
      "text/latex": [
       "\\begin{math}\n",
       "\\newcommand{\\Bold}[1]{\\mathbf{#1}}\\left(\\verb|[0,|\\phantom{\\verb!x!}\\verb|0,|\\phantom{\\verb!x!}\\verb|1,|\\phantom{\\verb!x!}\\verb|1,|\\phantom{\\verb!x!}\\verb|0,|\\phantom{\\verb!x!}\\verb|1,|\\phantom{\\verb!x!}\\verb|1,|\\phantom{\\verb!x!}\\verb|1]|, \\left\\{\\verb|mon| : \\left(\\begin{array}{rr}\n",
       "2 \\, l^{4} - 4 \\, l^{2} + 1 & 2 \\, l^{3} - 3 \\, l \\\\\n",
       "-2 \\, l^{3} + 2 \\, l & -2 \\, l^{2} + 1\n",
       "\\end{array}\\right), \\verb|sol| : \\left[-1, 0, 1\\right], \\verb|trace| : \\left[-2, 2, -2\\right]\\right\\}\\right)\n",
       "\\end{math}"
      ],
      "text/plain": [
       "('[0, 0, 1, 1, 0, 1, 1, 1]',\n",
       " {'mon': [2*l^4 - 4*l^2 + 1       2*l^3 - 3*l]\n",
       "  [     -2*l^3 + 2*l        -2*l^2 + 1],\n",
       "  'sol': [-1, 0, 1],\n",
       "  'trace': [-2, 2, -2]})"
      ]
     },
     "metadata": {},
     "output_type": "display_data"
    },
    {
     "data": {
      "text/html": [
       "<html><script type=\"math/tex; mode=display\">\\newcommand{\\Bold}[1]{\\mathbf{#1}}\\left(\\verb|[1,|\\phantom{\\verb!x!}\\verb|0,|\\phantom{\\verb!x!}\\verb|1,|\\phantom{\\verb!x!}\\verb|1,|\\phantom{\\verb!x!}\\verb|0,|\\phantom{\\verb!x!}\\verb|1,|\\phantom{\\verb!x!}\\verb|1,|\\phantom{\\verb!x!}\\verb|1]|, \\left\\{\\verb|mon| : \\left(\\begin{array}{rr}\n",
       "4 \\, l^{4} - 7 \\, l^{2} + 1 & 2 \\, l^{3} - 3 \\, l \\\\\n",
       "-4 \\, l^{3} + 3 \\, l & -2 \\, l^{2} + 1\n",
       "\\end{array}\\right), \\verb|sol| : \\left[-\\frac{1}{2} \\, \\sqrt{3}, 0, \\frac{1}{2} \\, \\sqrt{3}\\right], \\verb|trace| : \\left[-\\frac{5}{2}, 2, -\\frac{5}{2}\\right]\\right\\}\\right)</script></html>"
      ],
      "text/latex": [
       "\\begin{math}\n",
       "\\newcommand{\\Bold}[1]{\\mathbf{#1}}\\left(\\verb|[1,|\\phantom{\\verb!x!}\\verb|0,|\\phantom{\\verb!x!}\\verb|1,|\\phantom{\\verb!x!}\\verb|1,|\\phantom{\\verb!x!}\\verb|0,|\\phantom{\\verb!x!}\\verb|1,|\\phantom{\\verb!x!}\\verb|1,|\\phantom{\\verb!x!}\\verb|1]|, \\left\\{\\verb|mon| : \\left(\\begin{array}{rr}\n",
       "4 \\, l^{4} - 7 \\, l^{2} + 1 & 2 \\, l^{3} - 3 \\, l \\\\\n",
       "-4 \\, l^{3} + 3 \\, l & -2 \\, l^{2} + 1\n",
       "\\end{array}\\right), \\verb|sol| : \\left[-\\frac{1}{2} \\, \\sqrt{3}, 0, \\frac{1}{2} \\, \\sqrt{3}\\right], \\verb|trace| : \\left[-\\frac{5}{2}, 2, -\\frac{5}{2}\\right]\\right\\}\\right)\n",
       "\\end{math}"
      ],
      "text/plain": [
       "('[1, 0, 1, 1, 0, 1, 1, 1]',\n",
       " {'mon': [4*l^4 - 7*l^2 + 1       2*l^3 - 3*l]\n",
       "  [     -4*l^3 + 3*l        -2*l^2 + 1],\n",
       "  'sol': [-1/2*sqrt(3), 0, 1/2*sqrt(3)],\n",
       "  'trace': [-5/2, 2, -5/2]})"
      ]
     },
     "metadata": {},
     "output_type": "display_data"
    },
    {
     "data": {
      "text/html": [
       "<html><script type=\"math/tex; mode=display\">\\newcommand{\\Bold}[1]{\\mathbf{#1}}\\left(\\verb|[0,|\\phantom{\\verb!x!}\\verb|1,|\\phantom{\\verb!x!}\\verb|1,|\\phantom{\\verb!x!}\\verb|1,|\\phantom{\\verb!x!}\\verb|0,|\\phantom{\\verb!x!}\\verb|1,|\\phantom{\\verb!x!}\\verb|1,|\\phantom{\\verb!x!}\\verb|1]|, \\left\\{\\verb|mon| : \\left(\\begin{array}{rr}\n",
       "2 \\, l^{4} - 4 \\, l^{2} + 1 & -2 \\, l^{5} + 6 \\, l^{3} - 4 \\, l \\\\\n",
       "-2 \\, l^{3} + 2 \\, l & 2 \\, l^{4} - 4 \\, l^{2} + 1\n",
       "\\end{array}\\right), \\verb|sol| : \\left[-1, 0, 1\\right], \\verb|trace| : \\left[-2, 2, -2\\right]\\right\\}\\right)</script></html>"
      ],
      "text/latex": [
       "\\begin{math}\n",
       "\\newcommand{\\Bold}[1]{\\mathbf{#1}}\\left(\\verb|[0,|\\phantom{\\verb!x!}\\verb|1,|\\phantom{\\verb!x!}\\verb|1,|\\phantom{\\verb!x!}\\verb|1,|\\phantom{\\verb!x!}\\verb|0,|\\phantom{\\verb!x!}\\verb|1,|\\phantom{\\verb!x!}\\verb|1,|\\phantom{\\verb!x!}\\verb|1]|, \\left\\{\\verb|mon| : \\left(\\begin{array}{rr}\n",
       "2 \\, l^{4} - 4 \\, l^{2} + 1 & -2 \\, l^{5} + 6 \\, l^{3} - 4 \\, l \\\\\n",
       "-2 \\, l^{3} + 2 \\, l & 2 \\, l^{4} - 4 \\, l^{2} + 1\n",
       "\\end{array}\\right), \\verb|sol| : \\left[-1, 0, 1\\right], \\verb|trace| : \\left[-2, 2, -2\\right]\\right\\}\\right)\n",
       "\\end{math}"
      ],
      "text/plain": [
       "('[0, 1, 1, 1, 0, 1, 1, 1]',\n",
       " {'mon': [   2*l^4 - 4*l^2 + 1 -2*l^5 + 6*l^3 - 4*l]\n",
       "  [        -2*l^3 + 2*l    2*l^4 - 4*l^2 + 1],\n",
       "  'sol': [-1, 0, 1],\n",
       "  'trace': [-2, 2, -2]})"
      ]
     },
     "metadata": {},
     "output_type": "display_data"
    },
    {
     "data": {
      "text/html": [
       "<html><script type=\"math/tex; mode=display\">\\newcommand{\\Bold}[1]{\\mathbf{#1}}\\left(\\verb|[1,|\\phantom{\\verb!x!}\\verb|1,|\\phantom{\\verb!x!}\\verb|1,|\\phantom{\\verb!x!}\\verb|1,|\\phantom{\\verb!x!}\\verb|0,|\\phantom{\\verb!x!}\\verb|1,|\\phantom{\\verb!x!}\\verb|1,|\\phantom{\\verb!x!}\\verb|1]|, \\left\\{\\verb|mon| : \\left(\\begin{array}{rr}\n",
       "-2 \\, l^{6} + 8 \\, l^{4} - 8 \\, l^{2} + 1 & -2 \\, l^{5} + 6 \\, l^{3} - 4 \\, l \\\\\n",
       "2 \\, l^{5} - 6 \\, l^{3} + 3 \\, l & 2 \\, l^{4} - 4 \\, l^{2} + 1\n",
       "\\end{array}\\right), \\verb|sol| : \\left[-\\sqrt{\\frac{1}{2} \\, \\sqrt{3} + \\frac{3}{2}}, -\\sqrt{-\\frac{1}{2} \\, \\sqrt{3} + \\frac{3}{2}}, 0, \\sqrt{-\\frac{1}{2} \\, \\sqrt{3} + \\frac{3}{2}}, \\sqrt{\\frac{1}{2} \\, \\sqrt{3} + \\frac{3}{2}}\\right], \\verb|trace| : \\left[-\\frac{1}{4} \\, {\\left(\\sqrt{3} + 3\\right)}^{3} + \\frac{5}{2} \\, {\\left(\\sqrt{3} + 3\\right)}^{2} - 6 \\, \\sqrt{3} - 16, \\frac{1}{4} \\, {\\left(\\sqrt{3} - 3\\right)}^{3} + \\frac{5}{2} \\, {\\left(\\sqrt{3} - 3\\right)}^{2} + 6 \\, \\sqrt{3} - 16, 2, \\frac{1}{4} \\, {\\left(\\sqrt{3} - 3\\right)}^{3} + \\frac{5}{2} \\, {\\left(\\sqrt{3} - 3\\right)}^{2} + 6 \\, \\sqrt{3} - 16, -\\frac{1}{4} \\, {\\left(\\sqrt{3} + 3\\right)}^{3} + \\frac{5}{2} \\, {\\left(\\sqrt{3} + 3\\right)}^{2} - 6 \\, \\sqrt{3} - 16\\right]\\right\\}\\right)</script></html>"
      ],
      "text/latex": [
       "\\begin{math}\n",
       "\\newcommand{\\Bold}[1]{\\mathbf{#1}}\\left(\\verb|[1,|\\phantom{\\verb!x!}\\verb|1,|\\phantom{\\verb!x!}\\verb|1,|\\phantom{\\verb!x!}\\verb|1,|\\phantom{\\verb!x!}\\verb|0,|\\phantom{\\verb!x!}\\verb|1,|\\phantom{\\verb!x!}\\verb|1,|\\phantom{\\verb!x!}\\verb|1]|, \\left\\{\\verb|mon| : \\left(\\begin{array}{rr}\n",
       "-2 \\, l^{6} + 8 \\, l^{4} - 8 \\, l^{2} + 1 & -2 \\, l^{5} + 6 \\, l^{3} - 4 \\, l \\\\\n",
       "2 \\, l^{5} - 6 \\, l^{3} + 3 \\, l & 2 \\, l^{4} - 4 \\, l^{2} + 1\n",
       "\\end{array}\\right), \\verb|sol| : \\left[-\\sqrt{\\frac{1}{2} \\, \\sqrt{3} + \\frac{3}{2}}, -\\sqrt{-\\frac{1}{2} \\, \\sqrt{3} + \\frac{3}{2}}, 0, \\sqrt{-\\frac{1}{2} \\, \\sqrt{3} + \\frac{3}{2}}, \\sqrt{\\frac{1}{2} \\, \\sqrt{3} + \\frac{3}{2}}\\right], \\verb|trace| : \\left[-\\frac{1}{4} \\, {\\left(\\sqrt{3} + 3\\right)}^{3} + \\frac{5}{2} \\, {\\left(\\sqrt{3} + 3\\right)}^{2} - 6 \\, \\sqrt{3} - 16, \\frac{1}{4} \\, {\\left(\\sqrt{3} - 3\\right)}^{3} + \\frac{5}{2} \\, {\\left(\\sqrt{3} - 3\\right)}^{2} + 6 \\, \\sqrt{3} - 16, 2, \\frac{1}{4} \\, {\\left(\\sqrt{3} - 3\\right)}^{3} + \\frac{5}{2} \\, {\\left(\\sqrt{3} - 3\\right)}^{2} + 6 \\, \\sqrt{3} - 16, -\\frac{1}{4} \\, {\\left(\\sqrt{3} + 3\\right)}^{3} + \\frac{5}{2} \\, {\\left(\\sqrt{3} + 3\\right)}^{2} - 6 \\, \\sqrt{3} - 16\\right]\\right\\}\\right)\n",
       "\\end{math}"
      ],
      "text/plain": [
       "('[1, 1, 1, 1, 0, 1, 1, 1]',\n",
       " {'mon': [-2*l^6 + 8*l^4 - 8*l^2 + 1       -2*l^5 + 6*l^3 - 4*l]\n",
       "  [       2*l^5 - 6*l^3 + 3*l          2*l^4 - 4*l^2 + 1],\n",
       "  'sol': [-sqrt(1/2*sqrt(3) + 3/2),\n",
       "   -sqrt(-1/2*sqrt(3) + 3/2),\n",
       "   0,\n",
       "   sqrt(-1/2*sqrt(3) + 3/2),\n",
       "   sqrt(1/2*sqrt(3) + 3/2)],\n",
       "  'trace': [-1/4*(sqrt(3) + 3)^3 + 5/2*(sqrt(3) + 3)^2 - 6*sqrt(3) - 16,\n",
       "   1/4*(sqrt(3) - 3)^3 + 5/2*(sqrt(3) - 3)^2 + 6*sqrt(3) - 16,\n",
       "   2,\n",
       "   1/4*(sqrt(3) - 3)^3 + 5/2*(sqrt(3) - 3)^2 + 6*sqrt(3) - 16,\n",
       "   -1/4*(sqrt(3) + 3)^3 + 5/2*(sqrt(3) + 3)^2 - 6*sqrt(3) - 16]})"
      ]
     },
     "metadata": {},
     "output_type": "display_data"
    },
    {
     "data": {
      "text/html": [
       "<html><script type=\"math/tex; mode=display\">\\newcommand{\\Bold}[1]{\\mathbf{#1}}\\left(\\verb|[0,|\\phantom{\\verb!x!}\\verb|0,|\\phantom{\\verb!x!}\\verb|0,|\\phantom{\\verb!x!}\\verb|0,|\\phantom{\\verb!x!}\\verb|1,|\\phantom{\\verb!x!}\\verb|1,|\\phantom{\\verb!x!}\\verb|1,|\\phantom{\\verb!x!}\\verb|1]|, \\left\\{\\verb|mon| : \\left(\\begin{array}{rr}\n",
       "l^{4} - 3 \\, l^{2} + 1 & l^{3} - 2 \\, l \\\\\n",
       "-l^{3} + 2 \\, l & -l^{2} + 1\n",
       "\\end{array}\\right), \\verb|sol| : \\left[-\\sqrt{2}, 0, \\sqrt{2}\\right], \\verb|trace| : \\left[-2, 2, -2\\right]\\right\\}\\right)</script></html>"
      ],
      "text/latex": [
       "\\begin{math}\n",
       "\\newcommand{\\Bold}[1]{\\mathbf{#1}}\\left(\\verb|[0,|\\phantom{\\verb!x!}\\verb|0,|\\phantom{\\verb!x!}\\verb|0,|\\phantom{\\verb!x!}\\verb|0,|\\phantom{\\verb!x!}\\verb|1,|\\phantom{\\verb!x!}\\verb|1,|\\phantom{\\verb!x!}\\verb|1,|\\phantom{\\verb!x!}\\verb|1]|, \\left\\{\\verb|mon| : \\left(\\begin{array}{rr}\n",
       "l^{4} - 3 \\, l^{2} + 1 & l^{3} - 2 \\, l \\\\\n",
       "-l^{3} + 2 \\, l & -l^{2} + 1\n",
       "\\end{array}\\right), \\verb|sol| : \\left[-\\sqrt{2}, 0, \\sqrt{2}\\right], \\verb|trace| : \\left[-2, 2, -2\\right]\\right\\}\\right)\n",
       "\\end{math}"
      ],
      "text/plain": [
       "('[0, 0, 0, 0, 1, 1, 1, 1]',\n",
       " {'mon': [l^4 - 3*l^2 + 1       l^3 - 2*l]\n",
       "  [     -l^3 + 2*l        -l^2 + 1],\n",
       "  'sol': [-sqrt(2), 0, sqrt(2)],\n",
       "  'trace': [-2, 2, -2]})"
      ]
     },
     "metadata": {},
     "output_type": "display_data"
    },
    {
     "data": {
      "text/html": [
       "<html><script type=\"math/tex; mode=display\">\\newcommand{\\Bold}[1]{\\mathbf{#1}}\\left(\\verb|[1,|\\phantom{\\verb!x!}\\verb|0,|\\phantom{\\verb!x!}\\verb|0,|\\phantom{\\verb!x!}\\verb|0,|\\phantom{\\verb!x!}\\verb|1,|\\phantom{\\verb!x!}\\verb|1,|\\phantom{\\verb!x!}\\verb|1,|\\phantom{\\verb!x!}\\verb|1]|, \\left\\{\\verb|mon| : \\left(\\begin{array}{rr}\n",
       "2 \\, l^{4} - 5 \\, l^{2} + 1 & l^{3} - 2 \\, l \\\\\n",
       "-2 \\, l^{3} + 3 \\, l & -l^{2} + 1\n",
       "\\end{array}\\right), \\verb|sol| : \\left[-\\frac{1}{2} \\, \\sqrt{3} \\sqrt{2}, 0, \\frac{1}{2} \\, \\sqrt{3} \\sqrt{2}\\right], \\verb|trace| : \\left[-\\frac{5}{2}, 2, -\\frac{5}{2}\\right]\\right\\}\\right)</script></html>"
      ],
      "text/latex": [
       "\\begin{math}\n",
       "\\newcommand{\\Bold}[1]{\\mathbf{#1}}\\left(\\verb|[1,|\\phantom{\\verb!x!}\\verb|0,|\\phantom{\\verb!x!}\\verb|0,|\\phantom{\\verb!x!}\\verb|0,|\\phantom{\\verb!x!}\\verb|1,|\\phantom{\\verb!x!}\\verb|1,|\\phantom{\\verb!x!}\\verb|1,|\\phantom{\\verb!x!}\\verb|1]|, \\left\\{\\verb|mon| : \\left(\\begin{array}{rr}\n",
       "2 \\, l^{4} - 5 \\, l^{2} + 1 & l^{3} - 2 \\, l \\\\\n",
       "-2 \\, l^{3} + 3 \\, l & -l^{2} + 1\n",
       "\\end{array}\\right), \\verb|sol| : \\left[-\\frac{1}{2} \\, \\sqrt{3} \\sqrt{2}, 0, \\frac{1}{2} \\, \\sqrt{3} \\sqrt{2}\\right], \\verb|trace| : \\left[-\\frac{5}{2}, 2, -\\frac{5}{2}\\right]\\right\\}\\right)\n",
       "\\end{math}"
      ],
      "text/plain": [
       "('[1, 0, 0, 0, 1, 1, 1, 1]',\n",
       " {'mon': [2*l^4 - 5*l^2 + 1         l^3 - 2*l]\n",
       "  [     -2*l^3 + 3*l          -l^2 + 1],\n",
       "  'sol': [-1/2*sqrt(3)*sqrt(2), 0, 1/2*sqrt(3)*sqrt(2)],\n",
       "  'trace': [-5/2, 2, -5/2]})"
      ]
     },
     "metadata": {},
     "output_type": "display_data"
    },
    {
     "data": {
      "text/html": [
       "<html><script type=\"math/tex; mode=display\">\\newcommand{\\Bold}[1]{\\mathbf{#1}}\\left(\\verb|[0,|\\phantom{\\verb!x!}\\verb|1,|\\phantom{\\verb!x!}\\verb|0,|\\phantom{\\verb!x!}\\verb|0,|\\phantom{\\verb!x!}\\verb|1,|\\phantom{\\verb!x!}\\verb|1,|\\phantom{\\verb!x!}\\verb|1,|\\phantom{\\verb!x!}\\verb|1]|, \\left\\{\\verb|mon| : \\left(\\begin{array}{rr}\n",
       "l^{4} - 3 \\, l^{2} + 1 & -l^{5} + 4 \\, l^{3} - 3 \\, l \\\\\n",
       "-l^{3} + 2 \\, l & l^{4} - 3 \\, l^{2} + 1\n",
       "\\end{array}\\right), \\verb|sol| : \\left[-\\sqrt{2}, 0, \\sqrt{2}\\right], \\verb|trace| : \\left[-2, 2, -2\\right]\\right\\}\\right)</script></html>"
      ],
      "text/latex": [
       "\\begin{math}\n",
       "\\newcommand{\\Bold}[1]{\\mathbf{#1}}\\left(\\verb|[0,|\\phantom{\\verb!x!}\\verb|1,|\\phantom{\\verb!x!}\\verb|0,|\\phantom{\\verb!x!}\\verb|0,|\\phantom{\\verb!x!}\\verb|1,|\\phantom{\\verb!x!}\\verb|1,|\\phantom{\\verb!x!}\\verb|1,|\\phantom{\\verb!x!}\\verb|1]|, \\left\\{\\verb|mon| : \\left(\\begin{array}{rr}\n",
       "l^{4} - 3 \\, l^{2} + 1 & -l^{5} + 4 \\, l^{3} - 3 \\, l \\\\\n",
       "-l^{3} + 2 \\, l & l^{4} - 3 \\, l^{2} + 1\n",
       "\\end{array}\\right), \\verb|sol| : \\left[-\\sqrt{2}, 0, \\sqrt{2}\\right], \\verb|trace| : \\left[-2, 2, -2\\right]\\right\\}\\right)\n",
       "\\end{math}"
      ],
      "text/plain": [
       "('[0, 1, 0, 0, 1, 1, 1, 1]',\n",
       " {'mon': [   l^4 - 3*l^2 + 1 -l^5 + 4*l^3 - 3*l]\n",
       "  [        -l^3 + 2*l    l^4 - 3*l^2 + 1],\n",
       "  'sol': [-sqrt(2), 0, sqrt(2)],\n",
       "  'trace': [-2, 2, -2]})"
      ]
     },
     "metadata": {},
     "output_type": "display_data"
    },
    {
     "data": {
      "text/html": [
       "<html><script type=\"math/tex; mode=display\">\\newcommand{\\Bold}[1]{\\mathbf{#1}}\\left(\\verb|[1,|\\phantom{\\verb!x!}\\verb|1,|\\phantom{\\verb!x!}\\verb|0,|\\phantom{\\verb!x!}\\verb|0,|\\phantom{\\verb!x!}\\verb|1,|\\phantom{\\verb!x!}\\verb|1,|\\phantom{\\verb!x!}\\verb|1,|\\phantom{\\verb!x!}\\verb|1]|, \\left\\{\\verb|mon| : \\left(\\begin{array}{rr}\n",
       "-l^{6} + 5 \\, l^{4} - 6 \\, l^{2} + 1 & -l^{5} + 4 \\, l^{3} - 3 \\, l \\\\\n",
       "l^{5} - 4 \\, l^{3} + 3 \\, l & l^{4} - 3 \\, l^{2} + 1\n",
       "\\end{array}\\right), \\verb|sol| : \\left[-\\sqrt{3}, -1, 0, 1, \\sqrt{3}\\right], \\verb|trace| : \\left[2, -2, 2, -2, 2\\right]\\right\\}\\right)</script></html>"
      ],
      "text/latex": [
       "\\begin{math}\n",
       "\\newcommand{\\Bold}[1]{\\mathbf{#1}}\\left(\\verb|[1,|\\phantom{\\verb!x!}\\verb|1,|\\phantom{\\verb!x!}\\verb|0,|\\phantom{\\verb!x!}\\verb|0,|\\phantom{\\verb!x!}\\verb|1,|\\phantom{\\verb!x!}\\verb|1,|\\phantom{\\verb!x!}\\verb|1,|\\phantom{\\verb!x!}\\verb|1]|, \\left\\{\\verb|mon| : \\left(\\begin{array}{rr}\n",
       "-l^{6} + 5 \\, l^{4} - 6 \\, l^{2} + 1 & -l^{5} + 4 \\, l^{3} - 3 \\, l \\\\\n",
       "l^{5} - 4 \\, l^{3} + 3 \\, l & l^{4} - 3 \\, l^{2} + 1\n",
       "\\end{array}\\right), \\verb|sol| : \\left[-\\sqrt{3}, -1, 0, 1, \\sqrt{3}\\right], \\verb|trace| : \\left[2, -2, 2, -2, 2\\right]\\right\\}\\right)\n",
       "\\end{math}"
      ],
      "text/plain": [
       "('[1, 1, 0, 0, 1, 1, 1, 1]',\n",
       " {'mon': [-l^6 + 5*l^4 - 6*l^2 + 1       -l^5 + 4*l^3 - 3*l]\n",
       "  [       l^5 - 4*l^3 + 3*l          l^4 - 3*l^2 + 1],\n",
       "  'sol': [-sqrt(3), -1, 0, 1, sqrt(3)],\n",
       "  'trace': [2, -2, 2, -2, 2]})"
      ]
     },
     "metadata": {},
     "output_type": "display_data"
    },
    {
     "data": {
      "text/html": [
       "<html><script type=\"math/tex; mode=display\">\\newcommand{\\Bold}[1]{\\mathbf{#1}}\\left(\\verb|[0,|\\phantom{\\verb!x!}\\verb|0,|\\phantom{\\verb!x!}\\verb|1,|\\phantom{\\verb!x!}\\verb|0,|\\phantom{\\verb!x!}\\verb|1,|\\phantom{\\verb!x!}\\verb|1,|\\phantom{\\verb!x!}\\verb|1,|\\phantom{\\verb!x!}\\verb|1]|, \\left\\{\\verb|mon| : \\left(\\begin{array}{rr}\n",
       "2 \\, l^{4} - 5 \\, l^{2} + 1 & l^{3} - 2 \\, l \\\\\n",
       "-2 \\, l^{3} + 3 \\, l & -l^{2} + 1\n",
       "\\end{array}\\right), \\verb|sol| : \\left[-\\frac{1}{2} \\, \\sqrt{3} \\sqrt{2}, 0, \\frac{1}{2} \\, \\sqrt{3} \\sqrt{2}\\right], \\verb|trace| : \\left[-\\frac{5}{2}, 2, -\\frac{5}{2}\\right]\\right\\}\\right)</script></html>"
      ],
      "text/latex": [
       "\\begin{math}\n",
       "\\newcommand{\\Bold}[1]{\\mathbf{#1}}\\left(\\verb|[0,|\\phantom{\\verb!x!}\\verb|0,|\\phantom{\\verb!x!}\\verb|1,|\\phantom{\\verb!x!}\\verb|0,|\\phantom{\\verb!x!}\\verb|1,|\\phantom{\\verb!x!}\\verb|1,|\\phantom{\\verb!x!}\\verb|1,|\\phantom{\\verb!x!}\\verb|1]|, \\left\\{\\verb|mon| : \\left(\\begin{array}{rr}\n",
       "2 \\, l^{4} - 5 \\, l^{2} + 1 & l^{3} - 2 \\, l \\\\\n",
       "-2 \\, l^{3} + 3 \\, l & -l^{2} + 1\n",
       "\\end{array}\\right), \\verb|sol| : \\left[-\\frac{1}{2} \\, \\sqrt{3} \\sqrt{2}, 0, \\frac{1}{2} \\, \\sqrt{3} \\sqrt{2}\\right], \\verb|trace| : \\left[-\\frac{5}{2}, 2, -\\frac{5}{2}\\right]\\right\\}\\right)\n",
       "\\end{math}"
      ],
      "text/plain": [
       "('[0, 0, 1, 0, 1, 1, 1, 1]',\n",
       " {'mon': [2*l^4 - 5*l^2 + 1         l^3 - 2*l]\n",
       "  [     -2*l^3 + 3*l          -l^2 + 1],\n",
       "  'sol': [-1/2*sqrt(3)*sqrt(2), 0, 1/2*sqrt(3)*sqrt(2)],\n",
       "  'trace': [-5/2, 2, -5/2]})"
      ]
     },
     "metadata": {},
     "output_type": "display_data"
    },
    {
     "data": {
      "text/html": [
       "<html><script type=\"math/tex; mode=display\">\\newcommand{\\Bold}[1]{\\mathbf{#1}}\\left(\\verb|[1,|\\phantom{\\verb!x!}\\verb|0,|\\phantom{\\verb!x!}\\verb|1,|\\phantom{\\verb!x!}\\verb|0,|\\phantom{\\verb!x!}\\verb|1,|\\phantom{\\verb!x!}\\verb|1,|\\phantom{\\verb!x!}\\verb|1,|\\phantom{\\verb!x!}\\verb|1]|, \\left\\{\\verb|mon| : \\left(\\begin{array}{rr}\n",
       "3 \\, l^{4} - 7 \\, l^{2} + 1 & l^{3} - 2 \\, l \\\\\n",
       "-3 \\, l^{3} + 4 \\, l & -l^{2} + 1\n",
       "\\end{array}\\right), \\verb|sol| : \\left[-\\frac{2}{3} \\, \\sqrt{3}, 0, \\frac{2}{3} \\, \\sqrt{3}\\right], \\verb|trace| : \\left[-\\frac{10}{3}, 2, -\\frac{10}{3}\\right]\\right\\}\\right)</script></html>"
      ],
      "text/latex": [
       "\\begin{math}\n",
       "\\newcommand{\\Bold}[1]{\\mathbf{#1}}\\left(\\verb|[1,|\\phantom{\\verb!x!}\\verb|0,|\\phantom{\\verb!x!}\\verb|1,|\\phantom{\\verb!x!}\\verb|0,|\\phantom{\\verb!x!}\\verb|1,|\\phantom{\\verb!x!}\\verb|1,|\\phantom{\\verb!x!}\\verb|1,|\\phantom{\\verb!x!}\\verb|1]|, \\left\\{\\verb|mon| : \\left(\\begin{array}{rr}\n",
       "3 \\, l^{4} - 7 \\, l^{2} + 1 & l^{3} - 2 \\, l \\\\\n",
       "-3 \\, l^{3} + 4 \\, l & -l^{2} + 1\n",
       "\\end{array}\\right), \\verb|sol| : \\left[-\\frac{2}{3} \\, \\sqrt{3}, 0, \\frac{2}{3} \\, \\sqrt{3}\\right], \\verb|trace| : \\left[-\\frac{10}{3}, 2, -\\frac{10}{3}\\right]\\right\\}\\right)\n",
       "\\end{math}"
      ],
      "text/plain": [
       "('[1, 0, 1, 0, 1, 1, 1, 1]',\n",
       " {'mon': [3*l^4 - 7*l^2 + 1         l^3 - 2*l]\n",
       "  [     -3*l^3 + 4*l          -l^2 + 1],\n",
       "  'sol': [-2/3*sqrt(3), 0, 2/3*sqrt(3)],\n",
       "  'trace': [-10/3, 2, -10/3]})"
      ]
     },
     "metadata": {},
     "output_type": "display_data"
    },
    {
     "data": {
      "text/html": [
       "<html><script type=\"math/tex; mode=display\">\\newcommand{\\Bold}[1]{\\mathbf{#1}}\\left(\\verb|[0,|\\phantom{\\verb!x!}\\verb|1,|\\phantom{\\verb!x!}\\verb|1,|\\phantom{\\verb!x!}\\verb|0,|\\phantom{\\verb!x!}\\verb|1,|\\phantom{\\verb!x!}\\verb|1,|\\phantom{\\verb!x!}\\verb|1,|\\phantom{\\verb!x!}\\verb|1]|, \\left\\{\\verb|mon| : \\left(\\begin{array}{rr}\n",
       "2 \\, l^{4} - 5 \\, l^{2} + 1 & -2 \\, l^{5} + 6 \\, l^{3} - 3 \\, l \\\\\n",
       "-2 \\, l^{3} + 3 \\, l & 2 \\, l^{4} - 4 \\, l^{2} + 1\n",
       "\\end{array}\\right), \\verb|sol| : \\left[-\\frac{1}{2} \\, \\sqrt{3} \\sqrt{2}, 0, \\frac{1}{2} \\, \\sqrt{3} \\sqrt{2}\\right], \\verb|trace| : \\left[-\\frac{5}{2}, 2, -\\frac{5}{2}\\right]\\right\\}\\right)</script></html>"
      ],
      "text/latex": [
       "\\begin{math}\n",
       "\\newcommand{\\Bold}[1]{\\mathbf{#1}}\\left(\\verb|[0,|\\phantom{\\verb!x!}\\verb|1,|\\phantom{\\verb!x!}\\verb|1,|\\phantom{\\verb!x!}\\verb|0,|\\phantom{\\verb!x!}\\verb|1,|\\phantom{\\verb!x!}\\verb|1,|\\phantom{\\verb!x!}\\verb|1,|\\phantom{\\verb!x!}\\verb|1]|, \\left\\{\\verb|mon| : \\left(\\begin{array}{rr}\n",
       "2 \\, l^{4} - 5 \\, l^{2} + 1 & -2 \\, l^{5} + 6 \\, l^{3} - 3 \\, l \\\\\n",
       "-2 \\, l^{3} + 3 \\, l & 2 \\, l^{4} - 4 \\, l^{2} + 1\n",
       "\\end{array}\\right), \\verb|sol| : \\left[-\\frac{1}{2} \\, \\sqrt{3} \\sqrt{2}, 0, \\frac{1}{2} \\, \\sqrt{3} \\sqrt{2}\\right], \\verb|trace| : \\left[-\\frac{5}{2}, 2, -\\frac{5}{2}\\right]\\right\\}\\right)\n",
       "\\end{math}"
      ],
      "text/plain": [
       "('[0, 1, 1, 0, 1, 1, 1, 1]',\n",
       " {'mon': [   2*l^4 - 5*l^2 + 1 -2*l^5 + 6*l^3 - 3*l]\n",
       "  [        -2*l^3 + 3*l    2*l^4 - 4*l^2 + 1],\n",
       "  'sol': [-1/2*sqrt(3)*sqrt(2), 0, 1/2*sqrt(3)*sqrt(2)],\n",
       "  'trace': [-5/2, 2, -5/2]})"
      ]
     },
     "metadata": {},
     "output_type": "display_data"
    },
    {
     "data": {
      "text/html": [
       "<html><script type=\"math/tex; mode=display\">\\newcommand{\\Bold}[1]{\\mathbf{#1}}\\left(\\verb|[1,|\\phantom{\\verb!x!}\\verb|1,|\\phantom{\\verb!x!}\\verb|1,|\\phantom{\\verb!x!}\\verb|0,|\\phantom{\\verb!x!}\\verb|1,|\\phantom{\\verb!x!}\\verb|1,|\\phantom{\\verb!x!}\\verb|1,|\\phantom{\\verb!x!}\\verb|1]|, \\left\\{\\verb|mon| : \\left(\\begin{array}{rr}\n",
       "-2 \\, l^{6} + 8 \\, l^{4} - 8 \\, l^{2} + 1 & -2 \\, l^{5} + 6 \\, l^{3} - 3 \\, l \\\\\n",
       "2 \\, l^{5} - 6 \\, l^{3} + 4 \\, l & 2 \\, l^{4} - 4 \\, l^{2} + 1\n",
       "\\end{array}\\right), \\verb|sol| : \\left[-\\sqrt{2}, -1, 0, 1, \\sqrt{2}\\right], \\verb|trace| : \\left[2, -2, 2, -2, 2\\right]\\right\\}\\right)</script></html>"
      ],
      "text/latex": [
       "\\begin{math}\n",
       "\\newcommand{\\Bold}[1]{\\mathbf{#1}}\\left(\\verb|[1,|\\phantom{\\verb!x!}\\verb|1,|\\phantom{\\verb!x!}\\verb|1,|\\phantom{\\verb!x!}\\verb|0,|\\phantom{\\verb!x!}\\verb|1,|\\phantom{\\verb!x!}\\verb|1,|\\phantom{\\verb!x!}\\verb|1,|\\phantom{\\verb!x!}\\verb|1]|, \\left\\{\\verb|mon| : \\left(\\begin{array}{rr}\n",
       "-2 \\, l^{6} + 8 \\, l^{4} - 8 \\, l^{2} + 1 & -2 \\, l^{5} + 6 \\, l^{3} - 3 \\, l \\\\\n",
       "2 \\, l^{5} - 6 \\, l^{3} + 4 \\, l & 2 \\, l^{4} - 4 \\, l^{2} + 1\n",
       "\\end{array}\\right), \\verb|sol| : \\left[-\\sqrt{2}, -1, 0, 1, \\sqrt{2}\\right], \\verb|trace| : \\left[2, -2, 2, -2, 2\\right]\\right\\}\\right)\n",
       "\\end{math}"
      ],
      "text/plain": [
       "('[1, 1, 1, 0, 1, 1, 1, 1]',\n",
       " {'mon': [-2*l^6 + 8*l^4 - 8*l^2 + 1       -2*l^5 + 6*l^3 - 3*l]\n",
       "  [       2*l^5 - 6*l^3 + 4*l          2*l^4 - 4*l^2 + 1],\n",
       "  'sol': [-sqrt(2), -1, 0, 1, sqrt(2)],\n",
       "  'trace': [2, -2, 2, -2, 2]})"
      ]
     },
     "metadata": {},
     "output_type": "display_data"
    },
    {
     "data": {
      "text/html": [
       "<html><script type=\"math/tex; mode=display\">\\newcommand{\\Bold}[1]{\\mathbf{#1}}\\left(\\verb|[0,|\\phantom{\\verb!x!}\\verb|0,|\\phantom{\\verb!x!}\\verb|0,|\\phantom{\\verb!x!}\\verb|1,|\\phantom{\\verb!x!}\\verb|1,|\\phantom{\\verb!x!}\\verb|1,|\\phantom{\\verb!x!}\\verb|1,|\\phantom{\\verb!x!}\\verb|1]|, \\left\\{\\verb|mon| : \\left(\\begin{array}{rr}\n",
       "l^{4} - 3 \\, l^{2} + 1 & -l^{5} + 4 \\, l^{3} - 3 \\, l \\\\\n",
       "-l^{3} + 2 \\, l & l^{4} - 3 \\, l^{2} + 1\n",
       "\\end{array}\\right), \\verb|sol| : \\left[-\\sqrt{2}, 0, \\sqrt{2}\\right], \\verb|trace| : \\left[-2, 2, -2\\right]\\right\\}\\right)</script></html>"
      ],
      "text/latex": [
       "\\begin{math}\n",
       "\\newcommand{\\Bold}[1]{\\mathbf{#1}}\\left(\\verb|[0,|\\phantom{\\verb!x!}\\verb|0,|\\phantom{\\verb!x!}\\verb|0,|\\phantom{\\verb!x!}\\verb|1,|\\phantom{\\verb!x!}\\verb|1,|\\phantom{\\verb!x!}\\verb|1,|\\phantom{\\verb!x!}\\verb|1,|\\phantom{\\verb!x!}\\verb|1]|, \\left\\{\\verb|mon| : \\left(\\begin{array}{rr}\n",
       "l^{4} - 3 \\, l^{2} + 1 & -l^{5} + 4 \\, l^{3} - 3 \\, l \\\\\n",
       "-l^{3} + 2 \\, l & l^{4} - 3 \\, l^{2} + 1\n",
       "\\end{array}\\right), \\verb|sol| : \\left[-\\sqrt{2}, 0, \\sqrt{2}\\right], \\verb|trace| : \\left[-2, 2, -2\\right]\\right\\}\\right)\n",
       "\\end{math}"
      ],
      "text/plain": [
       "('[0, 0, 0, 1, 1, 1, 1, 1]',\n",
       " {'mon': [   l^4 - 3*l^2 + 1 -l^5 + 4*l^3 - 3*l]\n",
       "  [        -l^3 + 2*l    l^4 - 3*l^2 + 1],\n",
       "  'sol': [-sqrt(2), 0, sqrt(2)],\n",
       "  'trace': [-2, 2, -2]})"
      ]
     },
     "metadata": {},
     "output_type": "display_data"
    },
    {
     "data": {
      "text/html": [
       "<html><script type=\"math/tex; mode=display\">\\newcommand{\\Bold}[1]{\\mathbf{#1}}\\left(\\verb|[1,|\\phantom{\\verb!x!}\\verb|0,|\\phantom{\\verb!x!}\\verb|0,|\\phantom{\\verb!x!}\\verb|1,|\\phantom{\\verb!x!}\\verb|1,|\\phantom{\\verb!x!}\\verb|1,|\\phantom{\\verb!x!}\\verb|1,|\\phantom{\\verb!x!}\\verb|1]|, \\left\\{\\verb|mon| : \\left(\\begin{array}{rr}\n",
       "-l^{6} + 5 \\, l^{4} - 6 \\, l^{2} + 1 & -l^{5} + 4 \\, l^{3} - 3 \\, l \\\\\n",
       "l^{5} - 4 \\, l^{3} + 3 \\, l & l^{4} - 3 \\, l^{2} + 1\n",
       "\\end{array}\\right), \\verb|sol| : \\left[-\\sqrt{3}, -1, 0, 1, \\sqrt{3}\\right], \\verb|trace| : \\left[2, -2, 2, -2, 2\\right]\\right\\}\\right)</script></html>"
      ],
      "text/latex": [
       "\\begin{math}\n",
       "\\newcommand{\\Bold}[1]{\\mathbf{#1}}\\left(\\verb|[1,|\\phantom{\\verb!x!}\\verb|0,|\\phantom{\\verb!x!}\\verb|0,|\\phantom{\\verb!x!}\\verb|1,|\\phantom{\\verb!x!}\\verb|1,|\\phantom{\\verb!x!}\\verb|1,|\\phantom{\\verb!x!}\\verb|1,|\\phantom{\\verb!x!}\\verb|1]|, \\left\\{\\verb|mon| : \\left(\\begin{array}{rr}\n",
       "-l^{6} + 5 \\, l^{4} - 6 \\, l^{2} + 1 & -l^{5} + 4 \\, l^{3} - 3 \\, l \\\\\n",
       "l^{5} - 4 \\, l^{3} + 3 \\, l & l^{4} - 3 \\, l^{2} + 1\n",
       "\\end{array}\\right), \\verb|sol| : \\left[-\\sqrt{3}, -1, 0, 1, \\sqrt{3}\\right], \\verb|trace| : \\left[2, -2, 2, -2, 2\\right]\\right\\}\\right)\n",
       "\\end{math}"
      ],
      "text/plain": [
       "('[1, 0, 0, 1, 1, 1, 1, 1]',\n",
       " {'mon': [-l^6 + 5*l^4 - 6*l^2 + 1       -l^5 + 4*l^3 - 3*l]\n",
       "  [       l^5 - 4*l^3 + 3*l          l^4 - 3*l^2 + 1],\n",
       "  'sol': [-sqrt(3), -1, 0, 1, sqrt(3)],\n",
       "  'trace': [2, -2, 2, -2, 2]})"
      ]
     },
     "metadata": {},
     "output_type": "display_data"
    },
    {
     "data": {
      "text/html": [
       "<html><script type=\"math/tex; mode=display\">\\newcommand{\\Bold}[1]{\\mathbf{#1}}\\left(\\verb|[0,|\\phantom{\\verb!x!}\\verb|1,|\\phantom{\\verb!x!}\\verb|0,|\\phantom{\\verb!x!}\\verb|1,|\\phantom{\\verb!x!}\\verb|1,|\\phantom{\\verb!x!}\\verb|1,|\\phantom{\\verb!x!}\\verb|1,|\\phantom{\\verb!x!}\\verb|1]|, \\left\\{\\verb|mon| : \\left(\\begin{array}{rr}\n",
       "l^{4} - 3 \\, l^{2} + 1 & -2 \\, l^{5} + 7 \\, l^{3} - 4 \\, l \\\\\n",
       "-l^{3} + 2 \\, l & 2 \\, l^{4} - 5 \\, l^{2} + 1\n",
       "\\end{array}\\right), \\verb|sol| : \\left[-\\sqrt{2}, 0, \\sqrt{2}\\right], \\verb|trace| : \\left[-2, 2, -2\\right]\\right\\}\\right)</script></html>"
      ],
      "text/latex": [
       "\\begin{math}\n",
       "\\newcommand{\\Bold}[1]{\\mathbf{#1}}\\left(\\verb|[0,|\\phantom{\\verb!x!}\\verb|1,|\\phantom{\\verb!x!}\\verb|0,|\\phantom{\\verb!x!}\\verb|1,|\\phantom{\\verb!x!}\\verb|1,|\\phantom{\\verb!x!}\\verb|1,|\\phantom{\\verb!x!}\\verb|1,|\\phantom{\\verb!x!}\\verb|1]|, \\left\\{\\verb|mon| : \\left(\\begin{array}{rr}\n",
       "l^{4} - 3 \\, l^{2} + 1 & -2 \\, l^{5} + 7 \\, l^{3} - 4 \\, l \\\\\n",
       "-l^{3} + 2 \\, l & 2 \\, l^{4} - 5 \\, l^{2} + 1\n",
       "\\end{array}\\right), \\verb|sol| : \\left[-\\sqrt{2}, 0, \\sqrt{2}\\right], \\verb|trace| : \\left[-2, 2, -2\\right]\\right\\}\\right)\n",
       "\\end{math}"
      ],
      "text/plain": [
       "('[0, 1, 0, 1, 1, 1, 1, 1]',\n",
       " {'mon': [     l^4 - 3*l^2 + 1 -2*l^5 + 7*l^3 - 4*l]\n",
       "  [          -l^3 + 2*l    2*l^4 - 5*l^2 + 1],\n",
       "  'sol': [-sqrt(2), 0, sqrt(2)],\n",
       "  'trace': [-2, 2, -2]})"
      ]
     },
     "metadata": {},
     "output_type": "display_data"
    },
    {
     "data": {
      "text/html": [
       "<html><script type=\"math/tex; mode=display\">\\newcommand{\\Bold}[1]{\\mathbf{#1}}\\left(\\verb|[1,|\\phantom{\\verb!x!}\\verb|1,|\\phantom{\\verb!x!}\\verb|0,|\\phantom{\\verb!x!}\\verb|1,|\\phantom{\\verb!x!}\\verb|1,|\\phantom{\\verb!x!}\\verb|1,|\\phantom{\\verb!x!}\\verb|1,|\\phantom{\\verb!x!}\\verb|1]|, \\left\\{\\verb|mon| : \\left(\\begin{array}{rr}\n",
       "-2 \\, l^{6} + 8 \\, l^{4} - 7 \\, l^{2} + 1 & -2 \\, l^{5} + 7 \\, l^{3} - 4 \\, l \\\\\n",
       "2 \\, l^{5} - 6 \\, l^{3} + 3 \\, l & 2 \\, l^{4} - 5 \\, l^{2} + 1\n",
       "\\end{array}\\right), \\verb|sol| : \\left[-\\sqrt{\\frac{1}{2} \\, \\sqrt{3} + \\frac{3}{2}}, -\\sqrt{-\\frac{1}{2} \\, \\sqrt{3} + \\frac{3}{2}}, 0, \\sqrt{-\\frac{1}{2} \\, \\sqrt{3} + \\frac{3}{2}}, \\sqrt{\\frac{1}{2} \\, \\sqrt{3} + \\frac{3}{2}}\\right], \\verb|trace| : \\left[-\\frac{1}{4} \\, {\\left(\\sqrt{3} + 3\\right)}^{3} + \\frac{5}{2} \\, {\\left(\\sqrt{3} + 3\\right)}^{2} - 6 \\, \\sqrt{3} - 16, \\frac{1}{4} \\, {\\left(\\sqrt{3} - 3\\right)}^{3} + \\frac{5}{2} \\, {\\left(\\sqrt{3} - 3\\right)}^{2} + 6 \\, \\sqrt{3} - 16, 2, \\frac{1}{4} \\, {\\left(\\sqrt{3} - 3\\right)}^{3} + \\frac{5}{2} \\, {\\left(\\sqrt{3} - 3\\right)}^{2} + 6 \\, \\sqrt{3} - 16, -\\frac{1}{4} \\, {\\left(\\sqrt{3} + 3\\right)}^{3} + \\frac{5}{2} \\, {\\left(\\sqrt{3} + 3\\right)}^{2} - 6 \\, \\sqrt{3} - 16\\right]\\right\\}\\right)</script></html>"
      ],
      "text/latex": [
       "\\begin{math}\n",
       "\\newcommand{\\Bold}[1]{\\mathbf{#1}}\\left(\\verb|[1,|\\phantom{\\verb!x!}\\verb|1,|\\phantom{\\verb!x!}\\verb|0,|\\phantom{\\verb!x!}\\verb|1,|\\phantom{\\verb!x!}\\verb|1,|\\phantom{\\verb!x!}\\verb|1,|\\phantom{\\verb!x!}\\verb|1,|\\phantom{\\verb!x!}\\verb|1]|, \\left\\{\\verb|mon| : \\left(\\begin{array}{rr}\n",
       "-2 \\, l^{6} + 8 \\, l^{4} - 7 \\, l^{2} + 1 & -2 \\, l^{5} + 7 \\, l^{3} - 4 \\, l \\\\\n",
       "2 \\, l^{5} - 6 \\, l^{3} + 3 \\, l & 2 \\, l^{4} - 5 \\, l^{2} + 1\n",
       "\\end{array}\\right), \\verb|sol| : \\left[-\\sqrt{\\frac{1}{2} \\, \\sqrt{3} + \\frac{3}{2}}, -\\sqrt{-\\frac{1}{2} \\, \\sqrt{3} + \\frac{3}{2}}, 0, \\sqrt{-\\frac{1}{2} \\, \\sqrt{3} + \\frac{3}{2}}, \\sqrt{\\frac{1}{2} \\, \\sqrt{3} + \\frac{3}{2}}\\right], \\verb|trace| : \\left[-\\frac{1}{4} \\, {\\left(\\sqrt{3} + 3\\right)}^{3} + \\frac{5}{2} \\, {\\left(\\sqrt{3} + 3\\right)}^{2} - 6 \\, \\sqrt{3} - 16, \\frac{1}{4} \\, {\\left(\\sqrt{3} - 3\\right)}^{3} + \\frac{5}{2} \\, {\\left(\\sqrt{3} - 3\\right)}^{2} + 6 \\, \\sqrt{3} - 16, 2, \\frac{1}{4} \\, {\\left(\\sqrt{3} - 3\\right)}^{3} + \\frac{5}{2} \\, {\\left(\\sqrt{3} - 3\\right)}^{2} + 6 \\, \\sqrt{3} - 16, -\\frac{1}{4} \\, {\\left(\\sqrt{3} + 3\\right)}^{3} + \\frac{5}{2} \\, {\\left(\\sqrt{3} + 3\\right)}^{2} - 6 \\, \\sqrt{3} - 16\\right]\\right\\}\\right)\n",
       "\\end{math}"
      ],
      "text/plain": [
       "('[1, 1, 0, 1, 1, 1, 1, 1]',\n",
       " {'mon': [-2*l^6 + 8*l^4 - 7*l^2 + 1       -2*l^5 + 7*l^3 - 4*l]\n",
       "  [       2*l^5 - 6*l^3 + 3*l          2*l^4 - 5*l^2 + 1],\n",
       "  'sol': [-sqrt(1/2*sqrt(3) + 3/2),\n",
       "   -sqrt(-1/2*sqrt(3) + 3/2),\n",
       "   0,\n",
       "   sqrt(-1/2*sqrt(3) + 3/2),\n",
       "   sqrt(1/2*sqrt(3) + 3/2)],\n",
       "  'trace': [-1/4*(sqrt(3) + 3)^3 + 5/2*(sqrt(3) + 3)^2 - 6*sqrt(3) - 16,\n",
       "   1/4*(sqrt(3) - 3)^3 + 5/2*(sqrt(3) - 3)^2 + 6*sqrt(3) - 16,\n",
       "   2,\n",
       "   1/4*(sqrt(3) - 3)^3 + 5/2*(sqrt(3) - 3)^2 + 6*sqrt(3) - 16,\n",
       "   -1/4*(sqrt(3) + 3)^3 + 5/2*(sqrt(3) + 3)^2 - 6*sqrt(3) - 16]})"
      ]
     },
     "metadata": {},
     "output_type": "display_data"
    },
    {
     "data": {
      "text/html": [
       "<html><script type=\"math/tex; mode=display\">\\newcommand{\\Bold}[1]{\\mathbf{#1}}\\left(\\verb|[0,|\\phantom{\\verb!x!}\\verb|0,|\\phantom{\\verb!x!}\\verb|1,|\\phantom{\\verb!x!}\\verb|1,|\\phantom{\\verb!x!}\\verb|1,|\\phantom{\\verb!x!}\\verb|1,|\\phantom{\\verb!x!}\\verb|1,|\\phantom{\\verb!x!}\\verb|1]|, \\left\\{\\verb|mon| : \\left(\\begin{array}{rr}\n",
       "-l^{6} + 5 \\, l^{4} - 6 \\, l^{2} + 1 & -l^{5} + 4 \\, l^{3} - 3 \\, l \\\\\n",
       "l^{5} - 4 \\, l^{3} + 3 \\, l & l^{4} - 3 \\, l^{2} + 1\n",
       "\\end{array}\\right), \\verb|sol| : \\left[-\\sqrt{3}, -1, 0, 1, \\sqrt{3}\\right], \\verb|trace| : \\left[2, -2, 2, -2, 2\\right]\\right\\}\\right)</script></html>"
      ],
      "text/latex": [
       "\\begin{math}\n",
       "\\newcommand{\\Bold}[1]{\\mathbf{#1}}\\left(\\verb|[0,|\\phantom{\\verb!x!}\\verb|0,|\\phantom{\\verb!x!}\\verb|1,|\\phantom{\\verb!x!}\\verb|1,|\\phantom{\\verb!x!}\\verb|1,|\\phantom{\\verb!x!}\\verb|1,|\\phantom{\\verb!x!}\\verb|1,|\\phantom{\\verb!x!}\\verb|1]|, \\left\\{\\verb|mon| : \\left(\\begin{array}{rr}\n",
       "-l^{6} + 5 \\, l^{4} - 6 \\, l^{2} + 1 & -l^{5} + 4 \\, l^{3} - 3 \\, l \\\\\n",
       "l^{5} - 4 \\, l^{3} + 3 \\, l & l^{4} - 3 \\, l^{2} + 1\n",
       "\\end{array}\\right), \\verb|sol| : \\left[-\\sqrt{3}, -1, 0, 1, \\sqrt{3}\\right], \\verb|trace| : \\left[2, -2, 2, -2, 2\\right]\\right\\}\\right)\n",
       "\\end{math}"
      ],
      "text/plain": [
       "('[0, 0, 1, 1, 1, 1, 1, 1]',\n",
       " {'mon': [-l^6 + 5*l^4 - 6*l^2 + 1       -l^5 + 4*l^3 - 3*l]\n",
       "  [       l^5 - 4*l^3 + 3*l          l^4 - 3*l^2 + 1],\n",
       "  'sol': [-sqrt(3), -1, 0, 1, sqrt(3)],\n",
       "  'trace': [2, -2, 2, -2, 2]})"
      ]
     },
     "metadata": {},
     "output_type": "display_data"
    },
    {
     "data": {
      "text/html": [
       "<html><script type=\"math/tex; mode=display\">\\newcommand{\\Bold}[1]{\\mathbf{#1}}\\left(\\verb|[1,|\\phantom{\\verb!x!}\\verb|0,|\\phantom{\\verb!x!}\\verb|1,|\\phantom{\\verb!x!}\\verb|1,|\\phantom{\\verb!x!}\\verb|1,|\\phantom{\\verb!x!}\\verb|1,|\\phantom{\\verb!x!}\\verb|1,|\\phantom{\\verb!x!}\\verb|1]|, \\left\\{\\verb|mon| : \\left(\\begin{array}{rr}\n",
       "-2 \\, l^{6} + 9 \\, l^{4} - 9 \\, l^{2} + 1 & -l^{5} + 4 \\, l^{3} - 3 \\, l \\\\\n",
       "2 \\, l^{5} - 7 \\, l^{3} + 4 \\, l & l^{4} - 3 \\, l^{2} + 1\n",
       "\\end{array}\\right), \\verb|sol| : \\left[-\\frac{1}{2} \\, \\sqrt{\\sqrt{17} + 7}, -\\frac{1}{2} \\, \\sqrt{-\\sqrt{17} + 7}, 0, \\frac{1}{2} \\, \\sqrt{-\\sqrt{17} + 7}, \\frac{1}{2} \\, \\sqrt{\\sqrt{17} + 7}\\right], \\verb|trace| : \\left[-\\frac{1}{32} \\, {\\left(\\sqrt{17} + 7\\right)}^{3} + \\frac{5}{8} \\, {\\left(\\sqrt{17} + 7\\right)}^{2} - 3 \\, \\sqrt{17} - 19, \\frac{1}{32} \\, {\\left(\\sqrt{17} - 7\\right)}^{3} + \\frac{5}{8} \\, {\\left(\\sqrt{17} - 7\\right)}^{2} + 3 \\, \\sqrt{17} - 19, 2, \\frac{1}{32} \\, {\\left(\\sqrt{17} - 7\\right)}^{3} + \\frac{5}{8} \\, {\\left(\\sqrt{17} - 7\\right)}^{2} + 3 \\, \\sqrt{17} - 19, -\\frac{1}{32} \\, {\\left(\\sqrt{17} + 7\\right)}^{3} + \\frac{5}{8} \\, {\\left(\\sqrt{17} + 7\\right)}^{2} - 3 \\, \\sqrt{17} - 19\\right]\\right\\}\\right)</script></html>"
      ],
      "text/latex": [
       "\\begin{math}\n",
       "\\newcommand{\\Bold}[1]{\\mathbf{#1}}\\left(\\verb|[1,|\\phantom{\\verb!x!}\\verb|0,|\\phantom{\\verb!x!}\\verb|1,|\\phantom{\\verb!x!}\\verb|1,|\\phantom{\\verb!x!}\\verb|1,|\\phantom{\\verb!x!}\\verb|1,|\\phantom{\\verb!x!}\\verb|1,|\\phantom{\\verb!x!}\\verb|1]|, \\left\\{\\verb|mon| : \\left(\\begin{array}{rr}\n",
       "-2 \\, l^{6} + 9 \\, l^{4} - 9 \\, l^{2} + 1 & -l^{5} + 4 \\, l^{3} - 3 \\, l \\\\\n",
       "2 \\, l^{5} - 7 \\, l^{3} + 4 \\, l & l^{4} - 3 \\, l^{2} + 1\n",
       "\\end{array}\\right), \\verb|sol| : \\left[-\\frac{1}{2} \\, \\sqrt{\\sqrt{17} + 7}, -\\frac{1}{2} \\, \\sqrt{-\\sqrt{17} + 7}, 0, \\frac{1}{2} \\, \\sqrt{-\\sqrt{17} + 7}, \\frac{1}{2} \\, \\sqrt{\\sqrt{17} + 7}\\right], \\verb|trace| : \\left[-\\frac{1}{32} \\, {\\left(\\sqrt{17} + 7\\right)}^{3} + \\frac{5}{8} \\, {\\left(\\sqrt{17} + 7\\right)}^{2} - 3 \\, \\sqrt{17} - 19, \\frac{1}{32} \\, {\\left(\\sqrt{17} - 7\\right)}^{3} + \\frac{5}{8} \\, {\\left(\\sqrt{17} - 7\\right)}^{2} + 3 \\, \\sqrt{17} - 19, 2, \\frac{1}{32} \\, {\\left(\\sqrt{17} - 7\\right)}^{3} + \\frac{5}{8} \\, {\\left(\\sqrt{17} - 7\\right)}^{2} + 3 \\, \\sqrt{17} - 19, -\\frac{1}{32} \\, {\\left(\\sqrt{17} + 7\\right)}^{3} + \\frac{5}{8} \\, {\\left(\\sqrt{17} + 7\\right)}^{2} - 3 \\, \\sqrt{17} - 19\\right]\\right\\}\\right)\n",
       "\\end{math}"
      ],
      "text/plain": [
       "('[1, 0, 1, 1, 1, 1, 1, 1]',\n",
       " {'mon': [-2*l^6 + 9*l^4 - 9*l^2 + 1         -l^5 + 4*l^3 - 3*l]\n",
       "  [       2*l^5 - 7*l^3 + 4*l            l^4 - 3*l^2 + 1],\n",
       "  'sol': [-1/2*sqrt(sqrt(17) + 7),\n",
       "   -1/2*sqrt(-sqrt(17) + 7),\n",
       "   0,\n",
       "   1/2*sqrt(-sqrt(17) + 7),\n",
       "   1/2*sqrt(sqrt(17) + 7)],\n",
       "  'trace': [-1/32*(sqrt(17) + 7)^3 + 5/8*(sqrt(17) + 7)^2 - 3*sqrt(17) - 19,\n",
       "   1/32*(sqrt(17) - 7)^3 + 5/8*(sqrt(17) - 7)^2 + 3*sqrt(17) - 19,\n",
       "   2,\n",
       "   1/32*(sqrt(17) - 7)^3 + 5/8*(sqrt(17) - 7)^2 + 3*sqrt(17) - 19,\n",
       "   -1/32*(sqrt(17) + 7)^3 + 5/8*(sqrt(17) + 7)^2 - 3*sqrt(17) - 19]})"
      ]
     },
     "metadata": {},
     "output_type": "display_data"
    },
    {
     "data": {
      "text/html": [
       "<html><script type=\"math/tex; mode=display\">\\newcommand{\\Bold}[1]{\\mathbf{#1}}\\left(\\verb|[0,|\\phantom{\\verb!x!}\\verb|1,|\\phantom{\\verb!x!}\\verb|1,|\\phantom{\\verb!x!}\\verb|1,|\\phantom{\\verb!x!}\\verb|1,|\\phantom{\\verb!x!}\\verb|1,|\\phantom{\\verb!x!}\\verb|1,|\\phantom{\\verb!x!}\\verb|1]|, \\left\\{\\verb|mon| : \\left(\\begin{array}{rr}\n",
       "-l^{6} + 5 \\, l^{4} - 6 \\, l^{2} + 1 & l^{7} - 6 \\, l^{5} + 10 \\, l^{3} - 4 \\, l \\\\\n",
       "l^{5} - 4 \\, l^{3} + 3 \\, l & -l^{6} + 5 \\, l^{4} - 6 \\, l^{2} + 1\n",
       "\\end{array}\\right), \\verb|sol| : \\left[-\\sqrt{3}, -1, 0, 1, \\sqrt{3}\\right], \\verb|trace| : \\left[2, -2, 2, -2, 2\\right]\\right\\}\\right)</script></html>"
      ],
      "text/latex": [
       "\\begin{math}\n",
       "\\newcommand{\\Bold}[1]{\\mathbf{#1}}\\left(\\verb|[0,|\\phantom{\\verb!x!}\\verb|1,|\\phantom{\\verb!x!}\\verb|1,|\\phantom{\\verb!x!}\\verb|1,|\\phantom{\\verb!x!}\\verb|1,|\\phantom{\\verb!x!}\\verb|1,|\\phantom{\\verb!x!}\\verb|1,|\\phantom{\\verb!x!}\\verb|1]|, \\left\\{\\verb|mon| : \\left(\\begin{array}{rr}\n",
       "-l^{6} + 5 \\, l^{4} - 6 \\, l^{2} + 1 & l^{7} - 6 \\, l^{5} + 10 \\, l^{3} - 4 \\, l \\\\\n",
       "l^{5} - 4 \\, l^{3} + 3 \\, l & -l^{6} + 5 \\, l^{4} - 6 \\, l^{2} + 1\n",
       "\\end{array}\\right), \\verb|sol| : \\left[-\\sqrt{3}, -1, 0, 1, \\sqrt{3}\\right], \\verb|trace| : \\left[2, -2, 2, -2, 2\\right]\\right\\}\\right)\n",
       "\\end{math}"
      ],
      "text/plain": [
       "('[0, 1, 1, 1, 1, 1, 1, 1]',\n",
       " {'mon': [  -l^6 + 5*l^4 - 6*l^2 + 1 l^7 - 6*l^5 + 10*l^3 - 4*l]\n",
       "  [         l^5 - 4*l^3 + 3*l   -l^6 + 5*l^4 - 6*l^2 + 1],\n",
       "  'sol': [-sqrt(3), -1, 0, 1, sqrt(3)],\n",
       "  'trace': [2, -2, 2, -2, 2]})"
      ]
     },
     "metadata": {},
     "output_type": "display_data"
    },
    {
     "data": {
      "text/html": [
       "<html><script type=\"math/tex; mode=display\">\\newcommand{\\Bold}[1]{\\mathbf{#1}}\\left(\\verb|[1,|\\phantom{\\verb!x!}\\verb|1,|\\phantom{\\verb!x!}\\verb|1,|\\phantom{\\verb!x!}\\verb|1,|\\phantom{\\verb!x!}\\verb|1,|\\phantom{\\verb!x!}\\verb|1,|\\phantom{\\verb!x!}\\verb|1,|\\phantom{\\verb!x!}\\verb|1]|, \\left\\{\\verb|mon| : \\left(\\begin{array}{rr}\n",
       "l^{8} - 7 \\, l^{6} + 15 \\, l^{4} - 10 \\, l^{2} + 1 & l^{7} - 6 \\, l^{5} + 10 \\, l^{3} - 4 \\, l \\\\\n",
       "-l^{7} + 6 \\, l^{5} - 10 \\, l^{3} + 4 \\, l & -l^{6} + 5 \\, l^{4} - 6 \\, l^{2} + 1\n",
       "\\end{array}\\right), \\verb|sol| : \\left[-\\sqrt{\\sqrt{2} + 2}, -\\sqrt{2}, -\\sqrt{-\\sqrt{2} + 2}, 0, \\sqrt{-\\sqrt{2} + 2}, \\sqrt{2}, \\sqrt{\\sqrt{2} + 2}\\right], \\verb|trace| : \\left[{\\left(\\sqrt{2} + 2\\right)}^{4} - 8 \\, {\\left(\\sqrt{2} + 2\\right)}^{3} + 20 \\, {\\left(\\sqrt{2} + 2\\right)}^{2} - 16 \\, \\sqrt{2} - 30, 2, {\\left(\\sqrt{2} - 2\\right)}^{4} + 8 \\, {\\left(\\sqrt{2} - 2\\right)}^{3} + 20 \\, {\\left(\\sqrt{2} - 2\\right)}^{2} + 16 \\, \\sqrt{2} - 30, 2, {\\left(\\sqrt{2} - 2\\right)}^{4} + 8 \\, {\\left(\\sqrt{2} - 2\\right)}^{3} + 20 \\, {\\left(\\sqrt{2} - 2\\right)}^{2} + 16 \\, \\sqrt{2} - 30, 2, {\\left(\\sqrt{2} + 2\\right)}^{4} - 8 \\, {\\left(\\sqrt{2} + 2\\right)}^{3} + 20 \\, {\\left(\\sqrt{2} + 2\\right)}^{2} - 16 \\, \\sqrt{2} - 30\\right]\\right\\}\\right)</script></html>"
      ],
      "text/latex": [
       "\\begin{math}\n",
       "\\newcommand{\\Bold}[1]{\\mathbf{#1}}\\left(\\verb|[1,|\\phantom{\\verb!x!}\\verb|1,|\\phantom{\\verb!x!}\\verb|1,|\\phantom{\\verb!x!}\\verb|1,|\\phantom{\\verb!x!}\\verb|1,|\\phantom{\\verb!x!}\\verb|1,|\\phantom{\\verb!x!}\\verb|1,|\\phantom{\\verb!x!}\\verb|1]|, \\left\\{\\verb|mon| : \\left(\\begin{array}{rr}\n",
       "l^{8} - 7 \\, l^{6} + 15 \\, l^{4} - 10 \\, l^{2} + 1 & l^{7} - 6 \\, l^{5} + 10 \\, l^{3} - 4 \\, l \\\\\n",
       "-l^{7} + 6 \\, l^{5} - 10 \\, l^{3} + 4 \\, l & -l^{6} + 5 \\, l^{4} - 6 \\, l^{2} + 1\n",
       "\\end{array}\\right), \\verb|sol| : \\left[-\\sqrt{\\sqrt{2} + 2}, -\\sqrt{2}, -\\sqrt{-\\sqrt{2} + 2}, 0, \\sqrt{-\\sqrt{2} + 2}, \\sqrt{2}, \\sqrt{\\sqrt{2} + 2}\\right], \\verb|trace| : \\left[{\\left(\\sqrt{2} + 2\\right)}^{4} - 8 \\, {\\left(\\sqrt{2} + 2\\right)}^{3} + 20 \\, {\\left(\\sqrt{2} + 2\\right)}^{2} - 16 \\, \\sqrt{2} - 30, 2, {\\left(\\sqrt{2} - 2\\right)}^{4} + 8 \\, {\\left(\\sqrt{2} - 2\\right)}^{3} + 20 \\, {\\left(\\sqrt{2} - 2\\right)}^{2} + 16 \\, \\sqrt{2} - 30, 2, {\\left(\\sqrt{2} - 2\\right)}^{4} + 8 \\, {\\left(\\sqrt{2} - 2\\right)}^{3} + 20 \\, {\\left(\\sqrt{2} - 2\\right)}^{2} + 16 \\, \\sqrt{2} - 30, 2, {\\left(\\sqrt{2} + 2\\right)}^{4} - 8 \\, {\\left(\\sqrt{2} + 2\\right)}^{3} + 20 \\, {\\left(\\sqrt{2} + 2\\right)}^{2} - 16 \\, \\sqrt{2} - 30\\right]\\right\\}\\right)\n",
       "\\end{math}"
      ],
      "text/plain": [
       "('[1, 1, 1, 1, 1, 1, 1, 1]',\n",
       " {'mon': [l^8 - 7*l^6 + 15*l^4 - 10*l^2 + 1        l^7 - 6*l^5 + 10*l^3 - 4*l]\n",
       "  [      -l^7 + 6*l^5 - 10*l^3 + 4*l          -l^6 + 5*l^4 - 6*l^2 + 1],\n",
       "  'sol': [-sqrt(sqrt(2) + 2),\n",
       "   -sqrt(2),\n",
       "   -sqrt(-sqrt(2) + 2),\n",
       "   0,\n",
       "   sqrt(-sqrt(2) + 2),\n",
       "   sqrt(2),\n",
       "   sqrt(sqrt(2) + 2)],\n",
       "  'trace': [(sqrt(2) + 2)^4 - 8*(sqrt(2) + 2)^3 + 20*(sqrt(2) + 2)^2 - 16*sqrt(2) - 30,\n",
       "   2,\n",
       "   (sqrt(2) - 2)^4 + 8*(sqrt(2) - 2)^3 + 20*(sqrt(2) - 2)^2 + 16*sqrt(2) - 30,\n",
       "   2,\n",
       "   (sqrt(2) - 2)^4 + 8*(sqrt(2) - 2)^3 + 20*(sqrt(2) - 2)^2 + 16*sqrt(2) - 30,\n",
       "   2,\n",
       "   (sqrt(2) + 2)^4 - 8*(sqrt(2) + 2)^3 + 20*(sqrt(2) + 2)^2 - 16*sqrt(2) - 30]})"
      ]
     },
     "metadata": {},
     "output_type": "display_data"
    }
   ],
   "source": [
    "for k in range(1,9):\n",
    "    show(\"Period Length K = \", k)\n",
    "    v_list = Tuples(sigma,k).list()\n",
    "    for v in v_list:\n",
    "        # skip the following potentials for readability \n",
    "        # they are treated separately at the the Section\n",
    "        # \"Skipped potentials\" of this notebook\n",
    "        if (v == [1,1,1,1,1,1,1] or v == [1,1,1,1,1,1,0]):\n",
    "            continue\n",
    "        show((str(v), pots[str(v)]))"
   ]
  },
  {
   "cell_type": "markdown",
   "metadata": {},
   "source": [
    "## Skipped Potentials\n",
    "\n",
    "The following cell analyses the previously skipped potentials\n",
    "\n",
    "`v = [1,1,1,1,1,1,0]`\n",
    "\n",
    "and \n",
    "\n",
    "`v = [1,1,1,1,1,1,1]`\n",
    "\n",
    "Both potentials lead to the monodromy matrix entry $M_{1,2}$.\n",
    "\n",
    "$$\n",
    "M_{1,2} = l^6 - 5l^4 + 6l^2 - 1\n",
    "$$\n",
    "\n",
    "The algebraic roots produced with SageMath don't fully simplify with some remaining expressions that appear to have a non-vanishing imaginary part. The following calculations show that the imaginary parts add up, so that  roots are only taken of positive real numbers.\n",
    "\n",
    "Note that\n",
    "$$\n",
    "9 \\cdot \\left(\\frac{7}{18} i \\, \\sqrt{3} + \\frac{7}{54}\\right)^{\\frac{1}{3}} =\n",
    "3 \\, \\sqrt{7} {\\left(\\cos\\left(\\frac{1}{3} \\, \\arctan\\left(3 \\, \\sqrt{3}\\right)\\right) + i \\, \\sin\\left(\\frac{1}{3} \\, \\arctan\\left(3 \\, \\sqrt{3}\\right)\\right)\\right)}\n",
    "$$\n",
    "\n",
    "and \n",
    "\n",
    "$$\n",
    "\\frac{7}{{\\left(\\frac{7}{18} i \\, \\sqrt{3} + \\frac{7}{54}\\right)}^{\\frac{1}{3}}} = \n",
    "\\left(\\cos\\left(\\frac{1}{3} \\, \\arctan\\left(3 \\, \\sqrt{3}\\right)\\right) - i \\, \\sin\\left(\\frac{1}{3} \\, \\arctan\\left(3 \\, \\sqrt{3}\\right)\\right)\\right)\n",
    "$$\n",
    "\n",
    "This shows that\n",
    "$$\n",
    "\\mathrm{Im} \\left( 9 \\cdot \\left(\\frac{7}{18} i \\, \\sqrt{3} + \\frac{7}{54}\\right)^{\\frac{1}{3}} +\n",
    "\\frac{7}{{\\left(\\frac{7}{18} i \\, \\sqrt{3} + \\frac{7}{54}\\right)}^{\\frac{1}{3}}} \\right) = 0\n",
    "$$\n",
    "\n",
    "and\n",
    "\n",
    "$$\n",
    "\\mathrm{Re} \\left( 9 \\cdot \\left(\\frac{7}{18} i \\, \\sqrt{3} + \\frac{7}{54}\\right)^{\\frac{1}{3}} +\n",
    "\\frac{7}{{\\left(\\frac{7}{18} i \\, \\sqrt{3} + \\frac{7}{54}\\right)}^{\\frac{1}{3}}} \\right) > 0\n",
    "$$"
   ]
  },
  {
   "cell_type": "code",
   "execution_count": 6,
   "metadata": {
    "scrolled": true
   },
   "outputs": [
    {
     "name": "stdout",
     "output_type": "stream",
     "text": [
      "Monodromy Matrix M for v = [1,1,1,1,1,1,0]\n"
     ]
    },
    {
     "data": {
      "text/html": [
       "<html><script type=\"math/tex; mode=display\">\\newcommand{\\Bold}[1]{\\mathbf{#1}}\\left(\\begin{array}{rr}\n",
       "l^{5} - 4 \\, l^{3} + 3 \\, l & l^{4} - 3 \\, l^{2} + 1 \\\\\n",
       "l^{6} - 5 \\, l^{4} + 6 \\, l^{2} - 1 & l^{5} - 4 \\, l^{3} + 3 \\, l\n",
       "\\end{array}\\right)</script></html>"
      ],
      "text/latex": [
       "\\begin{math}\n",
       "\\newcommand{\\Bold}[1]{\\mathbf{#1}}\\left(\\begin{array}{rr}\n",
       "l^{5} - 4 \\, l^{3} + 3 \\, l & l^{4} - 3 \\, l^{2} + 1 \\\\\n",
       "l^{6} - 5 \\, l^{4} + 6 \\, l^{2} - 1 & l^{5} - 4 \\, l^{3} + 3 \\, l\n",
       "\\end{array}\\right)\n",
       "\\end{math}"
      ],
      "text/plain": [
       "[      l^5 - 4*l^3 + 3*l         l^4 - 3*l^2 + 1]\n",
       "[l^6 - 5*l^4 + 6*l^2 - 1       l^5 - 4*l^3 + 3*l]"
      ]
     },
     "metadata": {},
     "output_type": "display_data"
    },
    {
     "name": "stdout",
     "output_type": "stream",
     "text": [
      "Monodromy Matrix M for v = [1,1,1,1,1,1,1]\n"
     ]
    },
    {
     "data": {
      "text/html": [
       "<html><script type=\"math/tex; mode=display\">\\newcommand{\\Bold}[1]{\\mathbf{#1}}\\left(\\begin{array}{rr}\n",
       "-l^{7} + 6 \\, l^{5} - 10 \\, l^{3} + 4 \\, l & -l^{6} + 5 \\, l^{4} - 6 \\, l^{2} + 1 \\\\\n",
       "l^{6} - 5 \\, l^{4} + 6 \\, l^{2} - 1 & l^{5} - 4 \\, l^{3} + 3 \\, l\n",
       "\\end{array}\\right)</script></html>"
      ],
      "text/latex": [
       "\\begin{math}\n",
       "\\newcommand{\\Bold}[1]{\\mathbf{#1}}\\left(\\begin{array}{rr}\n",
       "-l^{7} + 6 \\, l^{5} - 10 \\, l^{3} + 4 \\, l & -l^{6} + 5 \\, l^{4} - 6 \\, l^{2} + 1 \\\\\n",
       "l^{6} - 5 \\, l^{4} + 6 \\, l^{2} - 1 & l^{5} - 4 \\, l^{3} + 3 \\, l\n",
       "\\end{array}\\right)\n",
       "\\end{math}"
      ],
      "text/plain": [
       "[-l^7 + 6*l^5 - 10*l^3 + 4*l    -l^6 + 5*l^4 - 6*l^2 + 1]\n",
       "[    l^6 - 5*l^4 + 6*l^2 - 1           l^5 - 4*l^3 + 3*l]"
      ]
     },
     "metadata": {},
     "output_type": "display_data"
    },
    {
     "name": "stdout",
     "output_type": "stream",
     "text": [
      "Zeros of M_{2,1}\n"
     ]
    },
    {
     "data": {
      "text/html": [
       "<html><script type=\"math/tex; mode=display\">\\newcommand{\\Bold}[1]{\\mathbf{#1}}-\\frac{1}{3} \\, \\sqrt{9 \\, {\\left(\\frac{7}{18} i \\, \\sqrt{3} + \\frac{7}{54}\\right)}^{\\frac{1}{3}} + \\frac{7}{{\\left(\\frac{7}{18} i \\, \\sqrt{3} + \\frac{7}{54}\\right)}^{\\frac{1}{3}}} + 15}</script></html>"
      ],
      "text/latex": [
       "\\begin{math}\n",
       "\\newcommand{\\Bold}[1]{\\mathbf{#1}}-\\frac{1}{3} \\, \\sqrt{9 \\, {\\left(\\frac{7}{18} i \\, \\sqrt{3} + \\frac{7}{54}\\right)}^{\\frac{1}{3}} + \\frac{7}{{\\left(\\frac{7}{18} i \\, \\sqrt{3} + \\frac{7}{54}\\right)}^{\\frac{1}{3}}} + 15}\n",
       "\\end{math}"
      ],
      "text/plain": [
       "-1/3*sqrt(9*(7/18*I*sqrt(3) + 7/54)^(1/3) + 7/(7/18*I*sqrt(3) + 7/54)^(1/3) + 15)"
      ]
     },
     "metadata": {},
     "output_type": "display_data"
    },
    {
     "data": {
      "text/html": [
       "<html><script type=\"math/tex; mode=display\">\\newcommand{\\Bold}[1]{\\mathbf{#1}}\\frac{1}{3} \\, \\sqrt{9 \\, {\\left(\\frac{7}{18} i \\, \\sqrt{3} + \\frac{7}{54}\\right)}^{\\frac{1}{3}} + \\frac{7}{{\\left(\\frac{7}{18} i \\, \\sqrt{3} + \\frac{7}{54}\\right)}^{\\frac{1}{3}}} + 15}</script></html>"
      ],
      "text/latex": [
       "\\begin{math}\n",
       "\\newcommand{\\Bold}[1]{\\mathbf{#1}}\\frac{1}{3} \\, \\sqrt{9 \\, {\\left(\\frac{7}{18} i \\, \\sqrt{3} + \\frac{7}{54}\\right)}^{\\frac{1}{3}} + \\frac{7}{{\\left(\\frac{7}{18} i \\, \\sqrt{3} + \\frac{7}{54}\\right)}^{\\frac{1}{3}}} + 15}\n",
       "\\end{math}"
      ],
      "text/plain": [
       "1/3*sqrt(9*(7/18*I*sqrt(3) + 7/54)^(1/3) + 7/(7/18*I*sqrt(3) + 7/54)^(1/3) + 15)"
      ]
     },
     "metadata": {},
     "output_type": "display_data"
    },
    {
     "data": {
      "text/html": [
       "<html><script type=\"math/tex; mode=display\">\\newcommand{\\Bold}[1]{\\mathbf{#1}}-\\frac{1}{3} \\, \\sqrt{\\frac{9}{2} i \\, \\sqrt{3} {\\left(\\frac{7}{18} i \\, \\sqrt{3} + \\frac{7}{54}\\right)}^{\\frac{1}{3}} - \\frac{9}{2} \\, {\\left(\\frac{7}{18} i \\, \\sqrt{3} + \\frac{7}{54}\\right)}^{\\frac{1}{3}} - \\frac{7 i \\, \\sqrt{3}}{2 \\, {\\left(\\frac{7}{18} i \\, \\sqrt{3} + \\frac{7}{54}\\right)}^{\\frac{1}{3}}} - \\frac{7}{2 \\, {\\left(\\frac{7}{18} i \\, \\sqrt{3} + \\frac{7}{54}\\right)}^{\\frac{1}{3}}} + 15}</script></html>"
      ],
      "text/latex": [
       "\\begin{math}\n",
       "\\newcommand{\\Bold}[1]{\\mathbf{#1}}-\\frac{1}{3} \\, \\sqrt{\\frac{9}{2} i \\, \\sqrt{3} {\\left(\\frac{7}{18} i \\, \\sqrt{3} + \\frac{7}{54}\\right)}^{\\frac{1}{3}} - \\frac{9}{2} \\, {\\left(\\frac{7}{18} i \\, \\sqrt{3} + \\frac{7}{54}\\right)}^{\\frac{1}{3}} - \\frac{7 i \\, \\sqrt{3}}{2 \\, {\\left(\\frac{7}{18} i \\, \\sqrt{3} + \\frac{7}{54}\\right)}^{\\frac{1}{3}}} - \\frac{7}{2 \\, {\\left(\\frac{7}{18} i \\, \\sqrt{3} + \\frac{7}{54}\\right)}^{\\frac{1}{3}}} + 15}\n",
       "\\end{math}"
      ],
      "text/plain": [
       "-1/3*sqrt(9/2*I*sqrt(3)*(7/18*I*sqrt(3) + 7/54)^(1/3) - 9/2*(7/18*I*sqrt(3) + 7/54)^(1/3) - 7/2*I*sqrt(3)/(7/18*I*sqrt(3) + 7/54)^(1/3) - 7/2/(7/18*I*sqrt(3) + 7/54)^(1/3) + 15)"
      ]
     },
     "metadata": {},
     "output_type": "display_data"
    },
    {
     "data": {
      "text/html": [
       "<html><script type=\"math/tex; mode=display\">\\newcommand{\\Bold}[1]{\\mathbf{#1}}\\frac{1}{3} \\, \\sqrt{\\frac{9}{2} i \\, \\sqrt{3} {\\left(\\frac{7}{18} i \\, \\sqrt{3} + \\frac{7}{54}\\right)}^{\\frac{1}{3}} - \\frac{9}{2} \\, {\\left(\\frac{7}{18} i \\, \\sqrt{3} + \\frac{7}{54}\\right)}^{\\frac{1}{3}} - \\frac{7 i \\, \\sqrt{3}}{2 \\, {\\left(\\frac{7}{18} i \\, \\sqrt{3} + \\frac{7}{54}\\right)}^{\\frac{1}{3}}} - \\frac{7}{2 \\, {\\left(\\frac{7}{18} i \\, \\sqrt{3} + \\frac{7}{54}\\right)}^{\\frac{1}{3}}} + 15}</script></html>"
      ],
      "text/latex": [
       "\\begin{math}\n",
       "\\newcommand{\\Bold}[1]{\\mathbf{#1}}\\frac{1}{3} \\, \\sqrt{\\frac{9}{2} i \\, \\sqrt{3} {\\left(\\frac{7}{18} i \\, \\sqrt{3} + \\frac{7}{54}\\right)}^{\\frac{1}{3}} - \\frac{9}{2} \\, {\\left(\\frac{7}{18} i \\, \\sqrt{3} + \\frac{7}{54}\\right)}^{\\frac{1}{3}} - \\frac{7 i \\, \\sqrt{3}}{2 \\, {\\left(\\frac{7}{18} i \\, \\sqrt{3} + \\frac{7}{54}\\right)}^{\\frac{1}{3}}} - \\frac{7}{2 \\, {\\left(\\frac{7}{18} i \\, \\sqrt{3} + \\frac{7}{54}\\right)}^{\\frac{1}{3}}} + 15}\n",
       "\\end{math}"
      ],
      "text/plain": [
       "1/3*sqrt(9/2*I*sqrt(3)*(7/18*I*sqrt(3) + 7/54)^(1/3) - 9/2*(7/18*I*sqrt(3) + 7/54)^(1/3) - 7/2*I*sqrt(3)/(7/18*I*sqrt(3) + 7/54)^(1/3) - 7/2/(7/18*I*sqrt(3) + 7/54)^(1/3) + 15)"
      ]
     },
     "metadata": {},
     "output_type": "display_data"
    },
    {
     "data": {
      "text/html": [
       "<html><script type=\"math/tex; mode=display\">\\newcommand{\\Bold}[1]{\\mathbf{#1}}-\\frac{1}{3} \\, \\sqrt{-\\frac{9}{2} i \\, \\sqrt{3} {\\left(\\frac{7}{18} i \\, \\sqrt{3} + \\frac{7}{54}\\right)}^{\\frac{1}{3}} - \\frac{9}{2} \\, {\\left(\\frac{7}{18} i \\, \\sqrt{3} + \\frac{7}{54}\\right)}^{\\frac{1}{3}} + \\frac{7 i \\, \\sqrt{3}}{2 \\, {\\left(\\frac{7}{18} i \\, \\sqrt{3} + \\frac{7}{54}\\right)}^{\\frac{1}{3}}} - \\frac{7}{2 \\, {\\left(\\frac{7}{18} i \\, \\sqrt{3} + \\frac{7}{54}\\right)}^{\\frac{1}{3}}} + 15}</script></html>"
      ],
      "text/latex": [
       "\\begin{math}\n",
       "\\newcommand{\\Bold}[1]{\\mathbf{#1}}-\\frac{1}{3} \\, \\sqrt{-\\frac{9}{2} i \\, \\sqrt{3} {\\left(\\frac{7}{18} i \\, \\sqrt{3} + \\frac{7}{54}\\right)}^{\\frac{1}{3}} - \\frac{9}{2} \\, {\\left(\\frac{7}{18} i \\, \\sqrt{3} + \\frac{7}{54}\\right)}^{\\frac{1}{3}} + \\frac{7 i \\, \\sqrt{3}}{2 \\, {\\left(\\frac{7}{18} i \\, \\sqrt{3} + \\frac{7}{54}\\right)}^{\\frac{1}{3}}} - \\frac{7}{2 \\, {\\left(\\frac{7}{18} i \\, \\sqrt{3} + \\frac{7}{54}\\right)}^{\\frac{1}{3}}} + 15}\n",
       "\\end{math}"
      ],
      "text/plain": [
       "-1/3*sqrt(-9/2*I*sqrt(3)*(7/18*I*sqrt(3) + 7/54)^(1/3) - 9/2*(7/18*I*sqrt(3) + 7/54)^(1/3) + 7/2*I*sqrt(3)/(7/18*I*sqrt(3) + 7/54)^(1/3) - 7/2/(7/18*I*sqrt(3) + 7/54)^(1/3) + 15)"
      ]
     },
     "metadata": {},
     "output_type": "display_data"
    },
    {
     "data": {
      "text/html": [
       "<html><script type=\"math/tex; mode=display\">\\newcommand{\\Bold}[1]{\\mathbf{#1}}\\frac{1}{3} \\, \\sqrt{-\\frac{9}{2} i \\, \\sqrt{3} {\\left(\\frac{7}{18} i \\, \\sqrt{3} + \\frac{7}{54}\\right)}^{\\frac{1}{3}} - \\frac{9}{2} \\, {\\left(\\frac{7}{18} i \\, \\sqrt{3} + \\frac{7}{54}\\right)}^{\\frac{1}{3}} + \\frac{7 i \\, \\sqrt{3}}{2 \\, {\\left(\\frac{7}{18} i \\, \\sqrt{3} + \\frac{7}{54}\\right)}^{\\frac{1}{3}}} - \\frac{7}{2 \\, {\\left(\\frac{7}{18} i \\, \\sqrt{3} + \\frac{7}{54}\\right)}^{\\frac{1}{3}}} + 15}</script></html>"
      ],
      "text/latex": [
       "\\begin{math}\n",
       "\\newcommand{\\Bold}[1]{\\mathbf{#1}}\\frac{1}{3} \\, \\sqrt{-\\frac{9}{2} i \\, \\sqrt{3} {\\left(\\frac{7}{18} i \\, \\sqrt{3} + \\frac{7}{54}\\right)}^{\\frac{1}{3}} - \\frac{9}{2} \\, {\\left(\\frac{7}{18} i \\, \\sqrt{3} + \\frac{7}{54}\\right)}^{\\frac{1}{3}} + \\frac{7 i \\, \\sqrt{3}}{2 \\, {\\left(\\frac{7}{18} i \\, \\sqrt{3} + \\frac{7}{54}\\right)}^{\\frac{1}{3}}} - \\frac{7}{2 \\, {\\left(\\frac{7}{18} i \\, \\sqrt{3} + \\frac{7}{54}\\right)}^{\\frac{1}{3}}} + 15}\n",
       "\\end{math}"
      ],
      "text/plain": [
       "1/3*sqrt(-9/2*I*sqrt(3)*(7/18*I*sqrt(3) + 7/54)^(1/3) - 9/2*(7/18*I*sqrt(3) + 7/54)^(1/3) + 7/2*I*sqrt(3)/(7/18*I*sqrt(3) + 7/54)^(1/3) - 7/2/(7/18*I*sqrt(3) + 7/54)^(1/3) + 15)"
      ]
     },
     "metadata": {},
     "output_type": "display_data"
    }
   ],
   "source": [
    "# Run this cell in order to analyse the roots of\n",
    "# the monodromy matrices for v = [1,1,1,1,1,1,0]\n",
    "# and v = [1,1,1,1,1,1,1]\n",
    "v = [1,1,1,1,1,1,0]\n",
    "print(\"Monodromy Matrix M for v = [1,1,1,1,1,1,0]\")\n",
    "show(pots[str(v)]['mon'])\n",
    "v = [1,1,1,1,1,1,1]\n",
    "print(\"Monodromy Matrix M for v = [1,1,1,1,1,1,1]\")\n",
    "show(pots[str(v)]['mon'])\n",
    "print(\"Zeros of M_{2,1}\")\n",
    "for s in pots[str(v)]['sol']:\n",
    "    show(s)"
   ]
  },
  {
   "cell_type": "markdown",
   "metadata": {},
   "source": [
    "# Result Filtering\n",
    "\n",
    "The dictionary `pots` contains all possible periodic potentials. In order to filter the results we need to do 3 things\n",
    "\n",
    "1. create a suitable list of potentials\n",
    "2. decide whether we want to filter out candidates that don't fulfill the trace condition\n",
    "3. decide whether we want to allow irrational scaling factors\n",
    "\n",
    "## Interpretation of Results\n",
    "\n",
    "### Example 1\n",
    "```python\n",
    "v_list = Tuples(sigma,2).list()\n",
    "for v in v_list:\n",
    "    print([v, [s for s in pots[str(v)]['sol']],  [s if s in QQ else s.n() for s in pots[str(v)]['trace']]])\n",
    "```\n",
    "gives as first line of output\n",
    "```\n",
    "[[0, 0], [r1], [-2]]\n",
    "```\n",
    "This means that the entry $M_{2,1}$ of monodromy matrix for the potential $v = (0,0)$ is zero for all scalings (`r1` corresponds to $\\mathbb{R}$) and that the value of the trace of $M$ is always $-2$.\n",
    "The line\n",
    "```\n",
    "[[1, 0], [0], [-2]]\n",
    "```\n",
    "means that the entry $M_{2,1}$ of monodromy matrix for the potential $v = (1,0)$ is zero for the scaling `l = 1` and that the value of the trace of $M$ is, in this case, $-2$.\n",
    "\n",
    "### Example 2\n",
    "\n",
    "Similarly to Example 1, we can look at potentials with period $K =  5$. A line like\n",
    "```\n",
    "[[1, 0, 1, 1, 0], [-1/2*sqrt(2), 1/2*sqrt(2)], [2.12132034355964, -2.12132034355964]]\n",
    "```\n",
    "means that the entry $M_{2,1}$ of monodromy matrix for the potential $v = (1, 0, 1, 1, 0)$ is zero for the tuple of $\\left( -\\frac{\\sqrt{2}}{2}, \\frac{\\sqrt{2}}{2}\\right)$ and that the corresponding values of the trace of $M$ are $(2.12\\dots, -2.12\\dots)$.\n",
    "\n",
    "### Example 3\n",
    "\n",
    "Only list potentials such that $M_{2,1}$ has at least one rational zero.\n",
    "\n",
    "```python\n",
    "v_list = Tuples(sigma,9).list()\n",
    "for v in v_list:\n",
    "    isRational = [s in QQ for s in pots[str(v)]['sol']]\n",
    "    if True in isRational:\n",
    "        print([v, [s for s in pots[str(v)]['sol']],  [s if s in QQ else s.n() for s in pots[str(v)]['trace']]])\n",
    "```\n",
    "\n",
    "### Example 4\n",
    "\n",
    "Only list potentials such that $M_{2,1}$ has at least one rational zero and have absolute trace larger than 2.\n",
    "\n",
    "```python\n",
    "v_list = Tuples(sigma,9).list()\n",
    "for v in v_list:\n",
    "    isRational = [s in QQ for s in pots[str(v)]['sol']]\n",
    "    if True in isRational:\n",
    "        isTraceGt2 = [abs(s.n()) > 2 for s in pots[str(v)]['trace']]     \n",
    "        if True in isTraceGt2:\n",
    "            print([v, [s for s in pots[str(v)]['sol']],  [s if s in QQ else s.n() for s in pots[str(v)]['trace']]])\n",
    "```"
   ]
  },
  {
   "cell_type": "code",
   "execution_count": 4,
   "metadata": {
    "scrolled": false
   },
   "outputs": [
    {
     "name": "stdout",
     "output_type": "stream",
     "text": [
      "[[0, 0, 0, 0, 0], [], []]\n",
      "[[1, 0, 0, 0, 0], [], []]\n",
      "[[0, 1, 0, 0, 0], [], []]\n",
      "[[1, 1, 0, 0, 0], [-1, 1], [2, -2]]\n",
      "[[0, 0, 1, 0, 0], [], []]\n",
      "[[1, 0, 1, 0, 0], [], []]\n",
      "[[0, 1, 1, 0, 0], [], []]\n",
      "[[1, 1, 1, 0, 0], [-1, 1], [2, -2]]\n",
      "[[0, 0, 0, 1, 0], [], []]\n",
      "[[1, 0, 0, 1, 0], [-1, 1], [2, -2]]\n",
      "[[0, 1, 0, 1, 0], [], []]\n",
      "[[1, 1, 0, 1, 0], [-1/2*sqrt(2), 1/2*sqrt(2)], [2.12132034355964, -2.12132034355964]]\n",
      "[[0, 0, 1, 1, 0], [-1, 1], [2, -2]]\n",
      "[[1, 0, 1, 1, 0], [-1/2*sqrt(2), 1/2*sqrt(2)], [2.12132034355964, -2.12132034355964]]\n",
      "[[0, 1, 1, 1, 0], [-1, 1], [2, -2]]\n",
      "[[1, 1, 1, 1, 0], [-sqrt(1/2*sqrt(5) + 3/2), -sqrt(-1/2*sqrt(5) + 3/2), sqrt(-1/2*sqrt(5) + 3/2), sqrt(1/2*sqrt(5) + 3/2)], [-2.00000000000000, 2.00000000000000, -2.00000000000000, 2.00000000000000]]\n",
      "[[0, 0, 0, 0, 1], [], []]\n",
      "[[1, 0, 0, 0, 1], [], []]\n",
      "[[0, 1, 0, 0, 1], [], []]\n",
      "[[1, 1, 0, 0, 1], [-1, 1], [2, -2]]\n",
      "[[0, 0, 1, 0, 1], [], []]\n",
      "[[1, 0, 1, 0, 1], [], []]\n",
      "[[0, 1, 1, 0, 1], [], []]\n",
      "[[1, 1, 1, 0, 1], [-1, 1], [2, -2]]\n",
      "[[0, 0, 0, 1, 1], [], []]\n",
      "[[1, 0, 0, 1, 1], [-1, 1], [2, -2]]\n",
      "[[0, 1, 0, 1, 1], [], []]\n",
      "[[1, 1, 0, 1, 1], [-1/2*sqrt(2), 1/2*sqrt(2)], [2.12132034355964, -2.12132034355964]]\n",
      "[[0, 0, 1, 1, 1], [-1, 1], [2, -2]]\n",
      "[[1, 0, 1, 1, 1], [-1/2*sqrt(2), 1/2*sqrt(2)], [2.12132034355964, -2.12132034355964]]\n",
      "[[0, 1, 1, 1, 1], [-1, 1], [2, -2]]\n",
      "[[1, 1, 1, 1, 1], [-sqrt(1/2*sqrt(5) + 3/2), -sqrt(-1/2*sqrt(5) + 3/2), sqrt(-1/2*sqrt(5) + 3/2), sqrt(1/2*sqrt(5) + 3/2)], [-2.00000000000000, 2.00000000000000, -2.00000000000000, 2.00000000000000]]\n"
     ]
    }
   ],
   "source": [
    "# example code, modify as indicated above\n",
    "\n",
    "v_list = Tuples(sigma,5).list()\n",
    "for v in v_list:\n",
    "    print([v, [s.full_simplify() for s in pots[str(v)]['sol']],  [s if s in QQ else s.n() for s in pots[str(v)]['trace']]])"
   ]
  },
  {
   "cell_type": "markdown",
   "metadata": {},
   "source": [
    "# JSON Output\n",
    "\n",
    "Export the `pots` dictionary in JSON file format.\n",
    "\n",
    "You can read the input using a simple Python program\n",
    "```python\n",
    "#!/bin/python3\n",
    "\n",
    "import json\n",
    "\n",
    "with open('pots_export.json') as json_file:\n",
    "    data = json.load(json_file)\n",
    "    for key in data:\n",
    "        print(key)\n",
    "```\n",
    "\n",
    "or an online JSON reader like https://jsonformatter.org/json-reader ."
   ]
  },
  {
   "cell_type": "code",
   "execution_count": 5,
   "metadata": {
    "scrolled": true
   },
   "outputs": [],
   "source": [
    "# run this cell to in order to save pots into json file\n",
    "\n",
    "import json\n",
    "def jsonify_dict(input_dict):\n",
    "##########################\n",
    "# create json object from dictionary, \n",
    "# stringify everything for serialization\n",
    "##########################\n",
    "    json_object ={}\n",
    "    for key in input_dict:\n",
    "        dictionary = {}\n",
    "        dictionary['mon'] = str(input_dict[key]['mon'])\n",
    "        dictionary['sol'] = str(input_dict[key]['sol'])\n",
    "        dictionary['trace'] = str(input_dict[key]['trace'])\n",
    "        json_object[str(key)] = deepcopy(dictionary)\n",
    "    return json_object\n",
    "\n",
    "json_dict = jsonify_dict(pots)\n",
    "\n",
    "with open('pots_export.json', 'w') as outfile:\n",
    "    json.dump(json_dict,outfile)"
   ]
  }
 ],
 "metadata": {
  "kernelspec": {
   "display_name": "SageMath 9.2",
   "language": "sage",
   "name": "sagemath"
  },
  "language_info": {
   "codemirror_mode": {
    "name": "ipython",
    "version": 3
   },
   "file_extension": ".py",
   "mimetype": "text/x-python",
   "name": "python",
   "nbconvert_exporter": "python",
   "pygments_lexer": "ipython3",
   "version": "3.8.5"
  }
 },
 "nbformat": 4,
 "nbformat_minor": 4
}
